{
  "nbformat": 4,
  "nbformat_minor": 0,
  "metadata": {
    "colab": {
      "provenance": [],
      "machine_shape": "hm",
      "gpuType": "A100",
      "authorship_tag": "ABX9TyO+MFtAsFcV2Kbk46nAW1vE",
      "include_colab_link": true
    },
    "kernelspec": {
      "name": "python3",
      "display_name": "Python 3"
    },
    "language_info": {
      "name": "python"
    },
    "accelerator": "GPU"
  },
  "cells": [
    {
      "cell_type": "markdown",
      "metadata": {
        "id": "view-in-github",
        "colab_type": "text"
      },
      "source": [
        "<a href=\"https://colab.research.google.com/github/Lookieman/home_projects/blob/main/ThinkOnwardsComp/Phase1_UNet.ipynb\" target=\"_parent\"><img src=\"https://colab.research.google.com/assets/colab-badge.svg\" alt=\"Open In Colab\"/></a>"
      ]
    },
    {
      "cell_type": "markdown",
      "source": [
        "This phase trains a U-Net model to get a baseline MAPE.\n",
        "\n",
        "The model uses the flag USE_ADAPTIVE_MODEL to switch between:\n",
        "\n",
        "a. Mode that resizes the training data ((10001, 31) → (300, 1259) via interpolation), stack as a 5-channel i/p as baseline.\n",
        "\n",
        "b. Model that uses \"adaptive-inside\" model when Flag is True\n",
        "\n",
        "Objective is to test code and also compare MAPE to be used as baseline"
      ],
      "metadata": {
        "id": "AwD8FgH1iqy_"
      }
    },
    {
      "cell_type": "code",
      "execution_count": null,
      "metadata": {
        "id": "ozC6RqeIhrry"
      },
      "outputs": [],
      "source": [
        "import torch\n",
        "import torch.nn as nn\n",
        "import torch.nn.functional as F\n",
        "from torch.utils.data import Dataset, DataLoader\n",
        "import numpy as np\n",
        "import os\n",
        "from sklearn.model_selection import train_test_split\n",
        "from pathlib import Path\n",
        "from tqdm import tqdm\n",
        "import matplotlib.pyplot as plt\n",
        "from scipy import ndimage\n",
        "import warnings\n",
        "warnings.filterwarnings('ignore')"
      ]
    },
    {
      "cell_type": "code",
      "source": [
        "# Configuration\n",
        "USE_ADAPTIVE_MODEL = True  # Set to True for adaptive model, False for resize model\n",
        "DEVICE = torch.device('cuda' if torch.cuda.is_available() else 'cpu')\n",
        "BATCH_SIZE = 16\n",
        "LEARNING_RATE = 1e-4\n",
        "NUM_EPOCHS = 50\n",
        "TRAIN_VAL_SPLIT = 0.8\n",
        "\n",
        "print(f\"Using device: {DEVICE}\")\n",
        "print(f\"Model type: {'Adaptive' if USE_ADAPTIVE_MODEL else 'Resize'}\")"
      ],
      "metadata": {
        "id": "_JhRM7dE45Hm",
        "colab": {
          "base_uri": "https://localhost:8080/"
        },
        "outputId": "b8d61ca1-9e79-492e-9998-c17d82e4261c"
      },
      "execution_count": null,
      "outputs": [
        {
          "output_type": "stream",
          "name": "stdout",
          "text": [
            "Using device: cuda\n",
            "Model type: Adaptive\n"
          ]
        }
      ]
    },
    {
      "cell_type": "code",
      "source": [
        "class SeismicDataset(Dataset):\n",
        "    def __init__(self, data_dir, sample_indices, use_adaptive=False):\n",
        "        self.data_dir = data_dir\n",
        "        self.sample_indices = sample_indices\n",
        "        self.use_adaptive = use_adaptive\n",
        "        self.receiver_files = [\n",
        "            'receiver_data_src_1.npy',\n",
        "            'receiver_data_src_75.npy',\n",
        "            'receiver_data_src_150.npy',\n",
        "            'receiver_data_src_225.npy',\n",
        "            'receiver_data_src_300.npy'\n",
        "        ]\n",
        "\n",
        "    def __len__(self):\n",
        "        return len(self.sample_indices)\n",
        "\n",
        "    def __getitem__(self, idx):\n",
        "        sample_idx = self.sample_indices[idx]\n",
        "        sample_dir = os.path.join(self.data_dir, f'TrainingData_{sample_idx}')\n",
        "\n",
        "        # Load receiver data (5 files)\n",
        "        receiver_data = []\n",
        "        for file_name in self.receiver_files:\n",
        "            file_path = os.path.join(sample_dir, file_name)\n",
        "            data = np.load(file_path).astype(np.float32)  # (10001, 31)\n",
        "            receiver_data.append(data)\n",
        "\n",
        "        # Load target velocity model\n",
        "        target_path = os.path.join(sample_dir, 'vp_model.npy')\n",
        "        target = np.load(target_path).astype(np.float32)  # (300, 1259)\n",
        "\n",
        "        if self.use_adaptive:\n",
        "            # Process for adaptive model\n",
        "            processed_inputs = []\n",
        "            for data in receiver_data:\n",
        "                # 1D conv + maxpool simulation using numpy\n",
        "                # Downsample from 10001 to ~313 (factor of ~32)\n",
        "                downsampled = data[::32, :]  # (313, 31)\n",
        "\n",
        "                # Zero pad from 31 to 32 channels\n",
        "                if downsampled.shape[1] == 31:\n",
        "                    padded = np.pad(downsampled, ((0, 0), (0, 1)), mode='constant')  # (313, 32)\n",
        "                else:\n",
        "                    padded = downsampled\n",
        "\n",
        "                # Reshape to make it more compact 2D\n",
        "                # We'll treat this as (313, 32) for now and let the model handle it\n",
        "                processed_inputs.append(padded.T)  # (32, 313) for easier processing\n",
        "\n",
        "            # Stack all 5 processed inputs\n",
        "            input_tensor = np.stack(processed_inputs, axis=0)  # (5, 32, 313)\n",
        "        else:\n",
        "            # Process for resize model\n",
        "            processed_inputs = []\n",
        "            for data in receiver_data:\n",
        "                # Resize (10001, 31) to (300, 1259)\n",
        "                resized = ndimage.zoom(data, (300/10001, 1259/31), order=1)\n",
        "                processed_inputs.append(resized)\n",
        "\n",
        "            # Stack all 5 processed inputs\n",
        "            input_tensor = np.stack(processed_inputs, axis=0)  # (5, 300, 1259)\n",
        "\n",
        "        return torch.from_numpy(input_tensor), torch.from_numpy(target)\n"
      ],
      "metadata": {
        "id": "U6lOdwsc48nx"
      },
      "execution_count": null,
      "outputs": []
    },
    {
      "cell_type": "code",
      "source": [
        "from math import e\n",
        "# Attention Block\n",
        "class AttentionBlock(nn.Module):\n",
        "    def __init__(self, in_channels):\n",
        "        super(AttentionBlock, self).__init__()\n",
        "        self.conv1 = nn.Conv2d(in_channels, in_channels // 8, 1)\n",
        "        self.conv2 = nn.Conv2d(in_channels, in_channels // 8, 1)\n",
        "        self.conv3 = nn.Conv2d(in_channels, in_channels, 1)\n",
        "        self.gamma = nn.Parameter(torch.zeros(1))\n",
        "        self.softmax = nn.Softmax(dim=-1)\n",
        "\n",
        "    def forward(self, x):\n",
        "        batch_size, channels, height, width = x.size()\n",
        "\n",
        "        query = self.conv1(x).view(batch_size, -1, width * height).permute(0, 2, 1)\n",
        "        key = self.conv2(x).view(batch_size, -1, width * height)\n",
        "        value = self.conv3(x).view(batch_size, -1, width * height)\n",
        "\n",
        "        attention = torch.bmm(query, key)\n",
        "        attention = self.softmax(attention)\n",
        "\n",
        "        out = torch.bmm(value, attention.permute(0, 2, 1))\n",
        "        out = out.view(batch_size, channels, height, width)\n",
        "\n",
        "        return self.gamma * out + x\n",
        "\n",
        "# Double Convolution Block\n",
        "class DoubleConv(nn.Module):\n",
        "    def __init__(self, in_channels, out_channels):\n",
        "        super(DoubleConv, self).__init__()\n",
        "        self.conv = nn.Sequential(\n",
        "            nn.Conv2d(in_channels, out_channels, 3, padding=1),\n",
        "            nn.BatchNorm2d(out_channels),\n",
        "            nn.ReLU(inplace=True),\n",
        "            nn.Conv2d(out_channels, out_channels, 3, padding=1),\n",
        "            nn.BatchNorm2d(out_channels),\n",
        "            nn.ReLU(inplace=True)\n",
        "        )\n",
        "\n",
        "    def forward(self, x):\n",
        "        return self.conv(x)\n",
        "\n",
        "# U-Net Model\n",
        "class UNet(nn.Module):\n",
        "    def __init__(self, in_channels=5, out_channels=1, use_adaptive=False):\n",
        "        super(UNet, self).__init__()\n",
        "        self.use_adaptive = use_adaptive\n",
        "\n",
        "        if use_adaptive:\n",
        "            # First process the irregular input\n",
        "            self.input_processor = nn.Sequential(\n",
        "                nn.Conv2d(5, 16, kernel_size=3, padding=1),\n",
        "                nn.ReLU(inplace=True),\n",
        "                nn.Conv2d(16, 32, kernel_size=3, padding=1),\n",
        "                nn.ReLU(inplace=True)\n",
        "            )\n",
        "            # Input will be (5, 32, 313), output will be (32, 32, 313)\n",
        "            in_channels = 32\n",
        "\n",
        "        # Encoder\n",
        "        self.enc1 = DoubleConv(in_channels, 64)\n",
        "        self.pool1 = nn.MaxPool2d(2)\n",
        "        self.enc2 = DoubleConv(64, 128)\n",
        "        self.pool2 = nn.MaxPool2d(2)\n",
        "        self.enc3 = DoubleConv(128, 256)\n",
        "        self.pool3 = nn.MaxPool2d(2)\n",
        "        self.enc4 = DoubleConv(256, 512)\n",
        "        self.pool4 = nn.MaxPool2d(2)\n",
        "\n",
        "        # Bottleneck with attention\n",
        "        self.bottleneck = DoubleConv(512, 1024)\n",
        "        self.attention = AttentionBlock(1024)\n",
        "\n",
        "        # Decoder\n",
        "        self.up4 = nn.ConvTranspose2d(1024, 512, 2, stride=2)\n",
        "        self.dec4 = DoubleConv(1024, 512)\n",
        "        self.up3 = nn.ConvTranspose2d(512, 256, 2, stride=2)\n",
        "        self.dec3 = DoubleConv(512, 256)\n",
        "        self.up2 = nn.ConvTranspose2d(256, 128, 2, stride=2)\n",
        "        self.dec2 = DoubleConv(256, 128)\n",
        "        self.up1 = nn.ConvTranspose2d(128, 64, 2, stride=2)\n",
        "        self.dec1 = DoubleConv(128, 64)\n",
        "\n",
        "        # Final output\n",
        "        self.final_conv = nn.Conv2d(64, out_channels, 1)\n",
        "\n",
        "        if use_adaptive:\n",
        "            # Final upsampling to reach (300, 1259)\n",
        "            self.final_upsample = nn.Sequential(\n",
        "                nn.ConvTranspose2d(1, 1, kernel_size=4, stride=2, padding=1),\n",
        "                nn.ReLU(inplace=True)\n",
        "            )\n",
        "\n",
        "    def forward(self, x):\n",
        "        if self.use_adaptive:\n",
        "            # Process irregular input first\n",
        "            x = self.input_processor(x)  # (batch, 32, 32, 313)\n",
        "\n",
        "        # Encoder\n",
        "        e1 = self.enc1(x)\n",
        "        e2 = self.enc2(self.pool1(e1))\n",
        "        e3 = self.enc3(self.pool2(e2))\n",
        "        e4 = self.enc4(self.pool3(e3))\n",
        "\n",
        "        # Bottleneck\n",
        "        b = self.bottleneck(self.pool4(e4))\n",
        "        b = self.attention(b)\n",
        "\n",
        "        # Decoder with skip connections\n",
        "        d4 = self.up4(b)\n",
        "        d4 = match_tensor_size(d4, e4)\n",
        "        d4 = torch.cat([d4, e4], dim=1)\n",
        "        d4 = self.dec4(d4)\n",
        "\n",
        "        d3 = self.up3(d4)\n",
        "        d3 = match_tensor_size(d3, e3)\n",
        "        d3 = torch.cat([d3, e3], dim=1)\n",
        "        d3 = self.dec3(d3)\n",
        "\n",
        "        d2 = self.up2(d3)\n",
        "        d2 = match_tensor_size(d2, e2)\n",
        "        d2 = torch.cat([d2, e2], dim=1)\n",
        "        d2 = self.dec2(d2)\n",
        "\n",
        "        d1 = self.up1(d2)\n",
        "        d1 = match_tensor_size(d1, e1)\n",
        "        d1 = torch.cat([d1, e1], dim=1)\n",
        "        d1 = self.dec1(d1)\n",
        "\n",
        "        # Final output\n",
        "        output = self.final_conv(d1)\n",
        "\n",
        "        if self.use_adaptive:\n",
        "            # Upsample to final target size (300, 1259)\n",
        "            output = F.interpolate(output, size=(300, 1259), mode='bilinear', align_corners=False)\n",
        "\n",
        "        return output"
      ],
      "metadata": {
        "id": "JoieEO_S5ASQ"
      },
      "execution_count": null,
      "outputs": []
    },
    {
      "cell_type": "code",
      "source": [
        "# Helper function to match tensor sizes for skip connections\n",
        "def match_tensor_size(tensor1, tensor2):\n",
        "    \"\"\"Match the spatial dimensions of tensor1 to tensor2 by cropping or padding.\"\"\"\n",
        "    _, _, h1, w1 = tensor1.shape\n",
        "    _, _, h2, w2 = tensor2.shape\n",
        "\n",
        "    # Calculate differences\n",
        "    dh = h2 - h1\n",
        "    dw = w2 - w1\n",
        "\n",
        "    if dh > 0 or dw > 0:\n",
        "        # Pad tensor1 if it's smaller\n",
        "        pad_h = max(0, dh)\n",
        "        pad_w = max(0, dw)\n",
        "        tensor1 = F.pad(tensor1, (0, pad_w, 0, pad_h))\n",
        "    elif dh < 0 or dw < 0:\n",
        "        # Crop tensor1 if it's larger\n",
        "        tensor1 = tensor1[:, :, :h2, :w2]\n",
        "\n",
        "    return tensor1\n",
        "\n",
        "# MAPE Loss Function\n",
        "def mape_loss(predictions, targets, epsilon=1e-8):\n",
        "    targets_safe = torch.clamp(torch.abs(targets), min=epsilon)\n",
        "    return torch.mean(torch.abs((targets - predictions) / targets_safe)) * 100\n",
        "\n",
        "# Training Function\n",
        "def train_model(model, train_loader, val_loader, num_epochs):\n",
        "    optimizer = torch.optim.Adam(model.parameters(), lr=LEARNING_RATE)\n",
        "    scheduler = torch.optim.lr_scheduler.ReduceLROnPlateau(optimizer, mode='min', patience=5)\n",
        "\n",
        "    model_path = Path('/content/drive/MyDrive/ThinkOnward/Models/')\n",
        "    train_losses = []\n",
        "    val_losses = []\n",
        "    best_val_loss = float('inf')\n",
        "\n",
        "    for epoch in range(num_epochs):\n",
        "        # Training\n",
        "        model.train()\n",
        "        train_loss = 0.0\n",
        "        train_progress = tqdm(train_loader, desc=f'Epoch {epoch+1}/{num_epochs} [Train]')\n",
        "\n",
        "        for batch_idx, (inputs, targets) in enumerate(train_progress):\n",
        "          try:\n",
        "            # *** DEBUG: Print shapes and memory usage for first few batches ***\n",
        "            if batch_idx < 3:\n",
        "                print(f\"*** DEBUG Batch {batch_idx}: Input shape: {inputs.shape}, Target shape: {targets.shape} ***\")\n",
        "                if torch.cuda.is_available():\n",
        "                    print(f\"*** DEBUG: GPU memory before forward: {torch.cuda.memory_allocated()/1e9:.2f}GB ***\")\n",
        "\n",
        "            inputs, targets = inputs.to(DEVICE), targets.to(DEVICE)\n",
        "            targets = targets.unsqueeze(1)  # Add channel dimension\n",
        "\n",
        "            if batch_idx < 3:\n",
        "                print(f\"*** DEBUG: Starting forward pass for batch {batch_idx} ***\")\n",
        "\n",
        "            optimizer.zero_grad()\n",
        "            outputs = model(inputs)\n",
        "\n",
        "            if batch_idx < 3:\n",
        "                print(f\"*** DEBUG: Forward pass complete, output shape: {outputs.shape} ***\")\n",
        "                print(f\"*** DEBUG: Starting loss calculation ***\")\n",
        "\n",
        "            loss = mape_loss(outputs, targets)\n",
        "\n",
        "            if batch_idx < 3:\n",
        "                print(f\"*** DEBUG: Loss calculated: {loss.item():.4f}, starting backward ***\")\n",
        "\n",
        "            loss.backward()\n",
        "\n",
        "            if batch_idx < 3:\n",
        "                print(f\"*** DEBUG: Backward complete, running optimizer step ***\")\n",
        "\n",
        "            optimizer.step()\n",
        "\n",
        "            if batch_idx < 3:\n",
        "                print(f\"*** DEBUG: Batch {batch_idx} complete ***\")\n",
        "                if torch.cuda.is_available():\n",
        "                    print(f\"*** DEBUG: GPU memory after batch: {torch.cuda.memory_allocated()/1e9:.2f}GB ***\")\n",
        "\n",
        "            train_loss += loss.item()\n",
        "            train_progress.set_postfix({'Loss': f'{loss.item():.4f}'})\n",
        "\n",
        "            # *** DEBUG: Force flush every 10 batches to see progress ***\n",
        "            if batch_idx % 10 == 0:\n",
        "                print(f\"*** DEBUG: Completed batch {batch_idx}/{len(train_loader)} ***\")\n",
        "\n",
        "          except Exception as e:\n",
        "            print(f\"*** ERROR in batch {batch_idx}: {str(e)} ***\")\n",
        "            print(f\"*** Input shape: {inputs.shape if 'inputs' in locals() else 'Not loaded'} ***\")\n",
        "            print(f\"*** Target shape: {targets.shape if 'targets' in locals() else 'Not loaded'} ***\")\n",
        "            raise e\n",
        "\n",
        "        avg_train_loss = train_loss / len(train_loader)\n",
        "        train_losses.append(avg_train_loss)\n",
        "\n",
        "        print(f\"*** DEBUG: Training epoch {epoch+1} complete, starting validation ***\")\n",
        "\n",
        "        # Validation\n",
        "        model.eval()\n",
        "        val_loss = 0.0\n",
        "        with torch.no_grad():\n",
        "            val_progress = tqdm(val_loader, desc=f'Epoch {epoch+1}/{num_epochs} [Val]')\n",
        "\n",
        "            for batch_idx, (inputs, targets) in enumerate(val_progress):\n",
        "              try:\n",
        "                inputs, targets = inputs.to(DEVICE), targets.to(DEVICE)\n",
        "                targets = targets.unsqueeze(1)\n",
        "\n",
        "                outputs = model(inputs)\n",
        "                loss = mape_loss(outputs, targets)\n",
        "                val_loss += loss.item()\n",
        "                val_progress.set_postfix({'Loss': f'{loss.item():.4f}'})\n",
        "              except Exception as e:\n",
        "                print(f\"*** ERROR in validation batch {batch_idx}: {str(e)} ***\")\n",
        "                raise e\n",
        "\n",
        "\n",
        "        avg_val_loss = val_loss / len(val_loader)\n",
        "        val_losses.append(avg_val_loss)\n",
        "\n",
        "        scheduler.step(avg_val_loss)\n",
        "\n",
        "        print(f'Epoch {epoch+1}/{num_epochs}:')\n",
        "        print(f'  Train MAPE: {avg_train_loss:.4f}%')\n",
        "        print(f'  Val MAPE: {avg_val_loss:.4f}%')\n",
        "        print(f'  LR: {optimizer.param_groups[0][\"lr\"]:.6f}')\n",
        "        print('-' * 50)\n",
        "\n",
        "        # Save best model\n",
        "        if avg_val_loss < best_val_loss:\n",
        "            best_val_loss = avg_val_loss\n",
        "            model_name = model_path / f'best_model_{\"adaptive\" if USE_ADAPTIVE_MODEL else \"resize\"}.pth'\n",
        "            torch.save(model.state_dict(), model_name)\n",
        "            print(f'New best model saved: {model_name}')\n",
        "\n",
        "    return train_losses, val_losses"
      ],
      "metadata": {
        "id": "zyL109Cu5JAw"
      },
      "execution_count": null,
      "outputs": []
    },
    {
      "cell_type": "code",
      "source": [
        "# Main execution\n",
        "if __name__ == \"__main__\":\n",
        "\n",
        "    # Set data directory\n",
        "    from google.colab import drive\n",
        "    drive.mount('/content/drive')\n",
        "    data_dir = Path('/content/drive/MyDrive/ThinkOnward/Data/Train')  # Adjust path as needed\n",
        "    result_dir= Path('/content/drive/MyDrive/ThinkOnward/Result')\n",
        "\n",
        "    # Create sample indices (assuming folders are named sample_0000, sample_0001, etc.)\n",
        "    sample_indices = list(range(1,2001))  # Adjust based on your actual data\n",
        "\n",
        "    # Train-validation split\n",
        "    train_indices, val_indices = train_test_split(\n",
        "        sample_indices,\n",
        "        train_size=TRAIN_VAL_SPLIT,\n",
        "        random_state=42\n",
        "    )\n",
        "\n",
        "    print(f\"Training samples: {len(train_indices)}\")\n",
        "    print(f\"Validation samples: {len(val_indices)}\")\n",
        "\n",
        "    # Create datasets\n",
        "    train_dataset = SeismicDataset(data_dir, train_indices, use_adaptive=USE_ADAPTIVE_MODEL)\n",
        "    val_dataset = SeismicDataset(data_dir, val_indices, use_adaptive=USE_ADAPTIVE_MODEL)\n",
        "\n",
        "    # Create data loaders\n",
        "    train_loader = DataLoader(train_dataset, batch_size=BATCH_SIZE, shuffle=True, pin_memory=True, num_workers=8)\n",
        "    val_loader = DataLoader(val_dataset, batch_size=BATCH_SIZE, shuffle=False, pin_memory=True, num_workers=8)\n",
        "\n",
        "    # Initialize model\n",
        "    model = UNet(in_channels=5, out_channels=1, use_adaptive=USE_ADAPTIVE_MODEL).to(DEVICE)\n",
        "\n",
        "    print(f\"Model parameters: {sum(p.numel() for p in model.parameters()):,}\")\n",
        "\n",
        "    # Test with one batch to verify shapes\n",
        "    print(\"\\nTesting model with one batch...\")\n",
        "    test_input, test_target = next(iter(train_loader))\n",
        "    test_input = test_input.to(DEVICE)\n",
        "    test_target = test_target.to(DEVICE)\n",
        "\n",
        "    print(f\"Input shape: {test_input.shape}\")\n",
        "    print(f\"Target shape: {test_target.shape}\")\n",
        "\n",
        "    with torch.no_grad():\n",
        "        test_output = model(test_input)\n",
        "        print(f\"Output shape: {test_output.shape}\")\n",
        "        print(f\"Test MAPE: {mape_loss(test_output, test_target.unsqueeze(1)).item():.4f}%\")\n",
        "\n",
        "    print(\"\\nStarting training...\")\n",
        "    train_losses, val_losses = train_model(model, train_loader, val_loader, NUM_EPOCHS)\n",
        "\n",
        "    # Plot training curves\n",
        "    plt.figure(figsize=(12, 5))\n",
        "    plot_name =f\"plot_{'Adaptive' if USE_ADAPTIVE_MODEL else 'Resize'}\"\n",
        "    plot_dir = result_dir / plot_name\n",
        "\n",
        "    plt.subplot(1, 2, 1)\n",
        "    plt.plot(train_losses, label='Train MAPE')\n",
        "    plt.plot(val_losses, label='Validation MAPE')\n",
        "    plt.xlabel('Epoch')\n",
        "    plt.ylabel('MAPE (%)')\n",
        "    plt.title('Training Progress')\n",
        "    plt.legend()\n",
        "    plt.grid(True)\n",
        "\n",
        "    plt.subplot(1, 2, 2)\n",
        "    # Show a sample prediction\n",
        "    model.eval()\n",
        "    with torch.no_grad():\n",
        "        sample_input, sample_target = next(iter(val_loader))\n",
        "        sample_input = sample_input.to(DEVICE)\n",
        "        sample_pred = model(sample_input)\n",
        "\n",
        "        sample_target_np = sample_target[0].cpu().numpy()\n",
        "        sample_pred_np = sample_pred[0, 0].cpu().numpy()\n",
        "\n",
        "        plt.subplot(1, 2, 2)\n",
        "        plt.imshow(np.hstack([sample_target_np, sample_pred_np]), aspect='auto')\n",
        "        plt.title('Target (left) vs Prediction (right)')\n",
        "        plt.colorbar()\n",
        "\n",
        "    plt.tight_layout()\n",
        "    plt.savefig(plot_dir)\n",
        "    plt.show()\n",
        "\n",
        "    print(f\"\\nTraining completed!\")\n",
        "    print(f\"Best validation MAPE: {min(val_losses):.4f}%\")\n",
        "    print(f\"Model type: {'Adaptive' if USE_ADAPTIVE_MODEL else 'Resize'}\")"
      ],
      "metadata": {
        "id": "p9hlUmk45N0W",
        "colab": {
          "base_uri": "https://localhost:8080/",
          "height": 1000
        },
        "outputId": "d5e26f25-5602-4ea1-81cc-36648e5e1763",
        "collapsed": true
      },
      "execution_count": null,
      "outputs": [
        {
          "output_type": "stream",
          "name": "stdout",
          "text": [
            "Drive already mounted at /content/drive; to attempt to forcibly remount, call drive.mount(\"/content/drive\", force_remount=True).\n",
            "Training samples: 1600\n",
            "Validation samples: 400\n",
            "Model parameters: 32,356,674\n",
            "\n",
            "Testing model with one batch...\n",
            "Input shape: torch.Size([16, 5, 300, 1259])\n",
            "Target shape: torch.Size([16, 300, 1259])\n",
            "Output shape: torch.Size([16, 1, 300, 1259])\n",
            "Test MAPE: 90.6181%\n",
            "\n",
            "Starting training...\n"
          ]
        },
        {
          "output_type": "stream",
          "name": "stderr",
          "text": [
            "Epoch 1/50 [Train]: 100%|██████████| 100/100 [01:11<00:00,  1.39it/s, Loss=43.0490]\n",
            "Epoch 1/50 [Val]: 100%|██████████| 25/25 [00:09<00:00,  2.55it/s, Loss=44.5640]\n"
          ]
        },
        {
          "output_type": "stream",
          "name": "stdout",
          "text": [
            "Epoch 1/50:\n",
            "  Train MAPE: 54.5560%\n",
            "  Val MAPE: 44.5335%\n",
            "  LR: 0.000100\n",
            "--------------------------------------------------\n",
            "New best model saved: /content/drive/MyDrive/ThinkOnward/Models/best_model_resize.pth\n"
          ]
        },
        {
          "output_type": "stream",
          "name": "stderr",
          "text": [
            "Epoch 2/50 [Train]: 100%|██████████| 100/100 [01:11<00:00,  1.40it/s, Loss=35.8143]\n",
            "Epoch 2/50 [Val]: 100%|██████████| 25/25 [00:10<00:00,  2.50it/s, Loss=35.5727]\n"
          ]
        },
        {
          "output_type": "stream",
          "name": "stdout",
          "text": [
            "Epoch 2/50:\n",
            "  Train MAPE: 38.5587%\n",
            "  Val MAPE: 35.5246%\n",
            "  LR: 0.000100\n",
            "--------------------------------------------------\n",
            "New best model saved: /content/drive/MyDrive/ThinkOnward/Models/best_model_resize.pth\n"
          ]
        },
        {
          "output_type": "stream",
          "name": "stderr",
          "text": [
            "Epoch 3/50 [Train]: 100%|██████████| 100/100 [01:11<00:00,  1.40it/s, Loss=27.8790]\n",
            "Epoch 3/50 [Val]: 100%|██████████| 25/25 [00:10<00:00,  2.44it/s, Loss=28.9884]\n"
          ]
        },
        {
          "output_type": "stream",
          "name": "stdout",
          "text": [
            "Epoch 3/50:\n",
            "  Train MAPE: 31.3107%\n",
            "  Val MAPE: 28.8704%\n",
            "  LR: 0.000100\n",
            "--------------------------------------------------\n",
            "New best model saved: /content/drive/MyDrive/ThinkOnward/Models/best_model_resize.pth\n"
          ]
        },
        {
          "output_type": "stream",
          "name": "stderr",
          "text": [
            "Epoch 4/50 [Train]: 100%|██████████| 100/100 [01:11<00:00,  1.40it/s, Loss=20.7607]\n",
            "Epoch 4/50 [Val]: 100%|██████████| 25/25 [00:10<00:00,  2.48it/s, Loss=19.1890]\n"
          ]
        },
        {
          "output_type": "stream",
          "name": "stdout",
          "text": [
            "Epoch 4/50:\n",
            "  Train MAPE: 24.7800%\n",
            "  Val MAPE: 19.4848%\n",
            "  LR: 0.000100\n",
            "--------------------------------------------------\n",
            "New best model saved: /content/drive/MyDrive/ThinkOnward/Models/best_model_resize.pth\n"
          ]
        },
        {
          "output_type": "stream",
          "name": "stderr",
          "text": [
            "Epoch 5/50 [Train]: 100%|██████████| 100/100 [01:11<00:00,  1.40it/s, Loss=14.0440]\n",
            "Epoch 5/50 [Val]: 100%|██████████| 25/25 [00:09<00:00,  2.53it/s, Loss=21.9129]\n"
          ]
        },
        {
          "output_type": "stream",
          "name": "stdout",
          "text": [
            "Epoch 5/50:\n",
            "  Train MAPE: 17.8843%\n",
            "  Val MAPE: 21.9283%\n",
            "  LR: 0.000100\n",
            "--------------------------------------------------\n"
          ]
        },
        {
          "output_type": "stream",
          "name": "stderr",
          "text": [
            "Epoch 6/50 [Train]: 100%|██████████| 100/100 [01:11<00:00,  1.41it/s, Loss=8.6650]\n",
            "Epoch 6/50 [Val]: 100%|██████████| 25/25 [00:10<00:00,  2.42it/s, Loss=19.0960]\n"
          ]
        },
        {
          "output_type": "stream",
          "name": "stdout",
          "text": [
            "Epoch 6/50:\n",
            "  Train MAPE: 11.4592%\n",
            "  Val MAPE: 18.8585%\n",
            "  LR: 0.000100\n",
            "--------------------------------------------------\n",
            "New best model saved: /content/drive/MyDrive/ThinkOnward/Models/best_model_resize.pth\n"
          ]
        },
        {
          "output_type": "stream",
          "name": "stderr",
          "text": [
            "Epoch 7/50 [Train]: 100%|██████████| 100/100 [01:11<00:00,  1.40it/s, Loss=6.1789]\n",
            "Epoch 7/50 [Val]: 100%|██████████| 25/25 [00:10<00:00,  2.45it/s, Loss=11.8705]\n"
          ]
        },
        {
          "output_type": "stream",
          "name": "stdout",
          "text": [
            "Epoch 7/50:\n",
            "  Train MAPE: 7.2607%\n",
            "  Val MAPE: 12.1243%\n",
            "  LR: 0.000100\n",
            "--------------------------------------------------\n",
            "New best model saved: /content/drive/MyDrive/ThinkOnward/Models/best_model_resize.pth\n"
          ]
        },
        {
          "output_type": "stream",
          "name": "stderr",
          "text": [
            "Epoch 8/50 [Train]: 100%|██████████| 100/100 [01:11<00:00,  1.40it/s, Loss=5.5427]\n",
            "Epoch 8/50 [Val]: 100%|██████████| 25/25 [00:09<00:00,  2.57it/s, Loss=14.9515]\n"
          ]
        },
        {
          "output_type": "stream",
          "name": "stdout",
          "text": [
            "Epoch 8/50:\n",
            "  Train MAPE: 6.0940%\n",
            "  Val MAPE: 14.8195%\n",
            "  LR: 0.000100\n",
            "--------------------------------------------------\n"
          ]
        },
        {
          "output_type": "stream",
          "name": "stderr",
          "text": [
            "Epoch 9/50 [Train]: 100%|██████████| 100/100 [01:11<00:00,  1.41it/s, Loss=4.9648]\n",
            "Epoch 9/50 [Val]: 100%|██████████| 25/25 [00:09<00:00,  2.52it/s, Loss=21.1326]\n"
          ]
        },
        {
          "output_type": "stream",
          "name": "stdout",
          "text": [
            "Epoch 9/50:\n",
            "  Train MAPE: 5.6200%\n",
            "  Val MAPE: 20.3362%\n",
            "  LR: 0.000100\n",
            "--------------------------------------------------\n"
          ]
        },
        {
          "output_type": "stream",
          "name": "stderr",
          "text": [
            "Epoch 10/50 [Train]: 100%|██████████| 100/100 [01:11<00:00,  1.40it/s, Loss=4.8359]\n",
            "Epoch 10/50 [Val]: 100%|██████████| 25/25 [00:10<00:00,  2.48it/s, Loss=8.4488]\n"
          ]
        },
        {
          "output_type": "stream",
          "name": "stdout",
          "text": [
            "Epoch 10/50:\n",
            "  Train MAPE: 5.2730%\n",
            "  Val MAPE: 8.4052%\n",
            "  LR: 0.000100\n",
            "--------------------------------------------------\n",
            "New best model saved: /content/drive/MyDrive/ThinkOnward/Models/best_model_resize.pth\n"
          ]
        },
        {
          "output_type": "stream",
          "name": "stderr",
          "text": [
            "Epoch 11/50 [Train]: 100%|██████████| 100/100 [01:11<00:00,  1.39it/s, Loss=4.7451]\n",
            "Epoch 11/50 [Val]: 100%|██████████| 25/25 [00:10<00:00,  2.47it/s, Loss=9.2490]\n"
          ]
        },
        {
          "output_type": "stream",
          "name": "stdout",
          "text": [
            "Epoch 11/50:\n",
            "  Train MAPE: 5.0019%\n",
            "  Val MAPE: 9.6158%\n",
            "  LR: 0.000100\n",
            "--------------------------------------------------\n"
          ]
        },
        {
          "output_type": "stream",
          "name": "stderr",
          "text": [
            "Epoch 12/50 [Train]: 100%|██████████| 100/100 [01:11<00:00,  1.40it/s, Loss=5.0475]\n",
            "Epoch 12/50 [Val]: 100%|██████████| 25/25 [00:10<00:00,  2.45it/s, Loss=8.9041]\n"
          ]
        },
        {
          "output_type": "stream",
          "name": "stdout",
          "text": [
            "Epoch 12/50:\n",
            "  Train MAPE: 4.9259%\n",
            "  Val MAPE: 8.6394%\n",
            "  LR: 0.000100\n",
            "--------------------------------------------------\n"
          ]
        },
        {
          "output_type": "stream",
          "name": "stderr",
          "text": [
            "Epoch 13/50 [Train]: 100%|██████████| 100/100 [01:11<00:00,  1.40it/s, Loss=4.5981]\n",
            "Epoch 13/50 [Val]: 100%|██████████| 25/25 [00:09<00:00,  2.56it/s, Loss=7.5614]\n"
          ]
        },
        {
          "output_type": "stream",
          "name": "stdout",
          "text": [
            "Epoch 13/50:\n",
            "  Train MAPE: 4.8456%\n",
            "  Val MAPE: 7.1540%\n",
            "  LR: 0.000100\n",
            "--------------------------------------------------\n",
            "New best model saved: /content/drive/MyDrive/ThinkOnward/Models/best_model_resize.pth\n"
          ]
        },
        {
          "output_type": "stream",
          "name": "stderr",
          "text": [
            "Epoch 14/50 [Train]: 100%|██████████| 100/100 [01:11<00:00,  1.39it/s, Loss=4.2920]\n",
            "Epoch 14/50 [Val]: 100%|██████████| 25/25 [00:10<00:00,  2.43it/s, Loss=15.0475]\n"
          ]
        },
        {
          "output_type": "stream",
          "name": "stdout",
          "text": [
            "Epoch 14/50:\n",
            "  Train MAPE: 4.6207%\n",
            "  Val MAPE: 14.8098%\n",
            "  LR: 0.000100\n",
            "--------------------------------------------------\n"
          ]
        },
        {
          "output_type": "stream",
          "name": "stderr",
          "text": [
            "Epoch 15/50 [Train]: 100%|██████████| 100/100 [01:11<00:00,  1.40it/s, Loss=6.0628]\n",
            "Epoch 15/50 [Val]: 100%|██████████| 25/25 [00:10<00:00,  2.48it/s, Loss=10.8908]\n"
          ]
        },
        {
          "output_type": "stream",
          "name": "stdout",
          "text": [
            "Epoch 15/50:\n",
            "  Train MAPE: 4.5561%\n",
            "  Val MAPE: 10.7483%\n",
            "  LR: 0.000100\n",
            "--------------------------------------------------\n"
          ]
        },
        {
          "output_type": "stream",
          "name": "stderr",
          "text": [
            "Epoch 16/50 [Train]: 100%|██████████| 100/100 [01:11<00:00,  1.40it/s, Loss=4.1325]\n",
            "Epoch 16/50 [Val]: 100%|██████████| 25/25 [00:10<00:00,  2.44it/s, Loss=9.3701]\n"
          ]
        },
        {
          "output_type": "stream",
          "name": "stdout",
          "text": [
            "Epoch 16/50:\n",
            "  Train MAPE: 4.5030%\n",
            "  Val MAPE: 9.1883%\n",
            "  LR: 0.000100\n",
            "--------------------------------------------------\n"
          ]
        },
        {
          "output_type": "stream",
          "name": "stderr",
          "text": [
            "Epoch 17/50 [Train]: 100%|██████████| 100/100 [01:11<00:00,  1.40it/s, Loss=4.2507]\n",
            "Epoch 17/50 [Val]: 100%|██████████| 25/25 [00:10<00:00,  2.45it/s, Loss=18.2779]\n"
          ]
        },
        {
          "output_type": "stream",
          "name": "stdout",
          "text": [
            "Epoch 17/50:\n",
            "  Train MAPE: 4.3713%\n",
            "  Val MAPE: 18.0000%\n",
            "  LR: 0.000100\n",
            "--------------------------------------------------\n"
          ]
        },
        {
          "output_type": "stream",
          "name": "stderr",
          "text": [
            "Epoch 18/50 [Train]: 100%|██████████| 100/100 [01:11<00:00,  1.40it/s, Loss=4.1056]\n",
            "Epoch 18/50 [Val]: 100%|██████████| 25/25 [00:10<00:00,  2.49it/s, Loss=17.3100]\n"
          ]
        },
        {
          "output_type": "stream",
          "name": "stdout",
          "text": [
            "Epoch 18/50:\n",
            "  Train MAPE: 4.3450%\n",
            "  Val MAPE: 16.7676%\n",
            "  LR: 0.000100\n",
            "--------------------------------------------------\n"
          ]
        },
        {
          "output_type": "stream",
          "name": "stderr",
          "text": [
            "Epoch 19/50 [Train]: 100%|██████████| 100/100 [01:11<00:00,  1.40it/s, Loss=4.1006]\n",
            "Epoch 19/50 [Val]: 100%|██████████| 25/25 [00:09<00:00,  2.56it/s, Loss=7.0827]\n"
          ]
        },
        {
          "output_type": "stream",
          "name": "stdout",
          "text": [
            "Epoch 19/50:\n",
            "  Train MAPE: 4.2626%\n",
            "  Val MAPE: 6.8606%\n",
            "  LR: 0.000100\n",
            "--------------------------------------------------\n",
            "New best model saved: /content/drive/MyDrive/ThinkOnward/Models/best_model_resize.pth\n"
          ]
        },
        {
          "output_type": "stream",
          "name": "stderr",
          "text": [
            "Epoch 20/50 [Train]: 100%|██████████| 100/100 [01:11<00:00,  1.39it/s, Loss=4.3599]\n",
            "Epoch 20/50 [Val]: 100%|██████████| 25/25 [00:10<00:00,  2.46it/s, Loss=8.6156]\n"
          ]
        },
        {
          "output_type": "stream",
          "name": "stdout",
          "text": [
            "Epoch 20/50:\n",
            "  Train MAPE: 4.2142%\n",
            "  Val MAPE: 8.1597%\n",
            "  LR: 0.000100\n",
            "--------------------------------------------------\n"
          ]
        },
        {
          "output_type": "stream",
          "name": "stderr",
          "text": [
            "Epoch 21/50 [Train]: 100%|██████████| 100/100 [01:11<00:00,  1.40it/s, Loss=5.2200]\n",
            "Epoch 21/50 [Val]: 100%|██████████| 25/25 [00:10<00:00,  2.45it/s, Loss=19.3362]\n"
          ]
        },
        {
          "output_type": "stream",
          "name": "stdout",
          "text": [
            "Epoch 21/50:\n",
            "  Train MAPE: 4.1127%\n",
            "  Val MAPE: 19.1194%\n",
            "  LR: 0.000100\n",
            "--------------------------------------------------\n"
          ]
        },
        {
          "output_type": "stream",
          "name": "stderr",
          "text": [
            "Epoch 22/50 [Train]: 100%|██████████| 100/100 [01:11<00:00,  1.40it/s, Loss=3.8498]\n",
            "Epoch 22/50 [Val]: 100%|██████████| 25/25 [00:09<00:00,  2.51it/s, Loss=8.0883]\n"
          ]
        },
        {
          "output_type": "stream",
          "name": "stdout",
          "text": [
            "Epoch 22/50:\n",
            "  Train MAPE: 4.2382%\n",
            "  Val MAPE: 8.0284%\n",
            "  LR: 0.000100\n",
            "--------------------------------------------------\n"
          ]
        },
        {
          "output_type": "stream",
          "name": "stderr",
          "text": [
            "Epoch 23/50 [Train]: 100%|██████████| 100/100 [01:11<00:00,  1.40it/s, Loss=3.5486]\n",
            "Epoch 23/50 [Val]: 100%|██████████| 25/25 [00:09<00:00,  2.51it/s, Loss=12.3149]\n"
          ]
        },
        {
          "output_type": "stream",
          "name": "stdout",
          "text": [
            "Epoch 23/50:\n",
            "  Train MAPE: 4.1725%\n",
            "  Val MAPE: 12.2015%\n",
            "  LR: 0.000100\n",
            "--------------------------------------------------\n"
          ]
        },
        {
          "output_type": "stream",
          "name": "stderr",
          "text": [
            "Epoch 24/50 [Train]: 100%|██████████| 100/100 [01:11<00:00,  1.40it/s, Loss=4.5820]\n",
            "Epoch 24/50 [Val]: 100%|██████████| 25/25 [00:09<00:00,  2.50it/s, Loss=7.8244]\n"
          ]
        },
        {
          "output_type": "stream",
          "name": "stdout",
          "text": [
            "Epoch 24/50:\n",
            "  Train MAPE: 4.1073%\n",
            "  Val MAPE: 7.9872%\n",
            "  LR: 0.000100\n",
            "--------------------------------------------------\n"
          ]
        },
        {
          "output_type": "stream",
          "name": "stderr",
          "text": [
            "Epoch 25/50 [Train]: 100%|██████████| 100/100 [01:11<00:00,  1.40it/s, Loss=3.4443]\n",
            "Epoch 25/50 [Val]: 100%|██████████| 25/25 [00:10<00:00,  2.44it/s, Loss=10.1924]\n"
          ]
        },
        {
          "output_type": "stream",
          "name": "stdout",
          "text": [
            "Epoch 25/50:\n",
            "  Train MAPE: 4.1052%\n",
            "  Val MAPE: 10.0029%\n",
            "  LR: 0.000010\n",
            "--------------------------------------------------\n"
          ]
        },
        {
          "output_type": "stream",
          "name": "stderr",
          "text": [
            "Epoch 26/50 [Train]: 100%|██████████| 100/100 [01:11<00:00,  1.41it/s, Loss=3.2954]\n",
            "Epoch 26/50 [Val]: 100%|██████████| 25/25 [00:09<00:00,  2.51it/s, Loss=3.9065]\n"
          ]
        },
        {
          "output_type": "stream",
          "name": "stdout",
          "text": [
            "Epoch 26/50:\n",
            "  Train MAPE: 3.6559%\n",
            "  Val MAPE: 3.8926%\n",
            "  LR: 0.000010\n",
            "--------------------------------------------------\n",
            "New best model saved: /content/drive/MyDrive/ThinkOnward/Models/best_model_resize.pth\n"
          ]
        },
        {
          "output_type": "stream",
          "name": "stderr",
          "text": [
            "Epoch 27/50 [Train]: 100%|██████████| 100/100 [01:12<00:00,  1.39it/s, Loss=3.5828]\n",
            "Epoch 27/50 [Val]: 100%|██████████| 25/25 [00:09<00:00,  2.51it/s, Loss=4.1063]\n"
          ]
        },
        {
          "output_type": "stream",
          "name": "stdout",
          "text": [
            "Epoch 27/50:\n",
            "  Train MAPE: 3.5581%\n",
            "  Val MAPE: 4.0239%\n",
            "  LR: 0.000010\n",
            "--------------------------------------------------\n"
          ]
        },
        {
          "output_type": "stream",
          "name": "stderr",
          "text": [
            "Epoch 28/50 [Train]: 100%|██████████| 100/100 [01:11<00:00,  1.40it/s, Loss=3.5826]\n",
            "Epoch 28/50 [Val]: 100%|██████████| 25/25 [00:09<00:00,  2.52it/s, Loss=3.7138]\n"
          ]
        },
        {
          "output_type": "stream",
          "name": "stdout",
          "text": [
            "Epoch 28/50:\n",
            "  Train MAPE: 3.5316%\n",
            "  Val MAPE: 3.7260%\n",
            "  LR: 0.000010\n",
            "--------------------------------------------------\n",
            "New best model saved: /content/drive/MyDrive/ThinkOnward/Models/best_model_resize.pth\n"
          ]
        },
        {
          "output_type": "stream",
          "name": "stderr",
          "text": [
            "Epoch 29/50 [Train]: 100%|██████████| 100/100 [01:11<00:00,  1.40it/s, Loss=3.5305]\n",
            "Epoch 29/50 [Val]: 100%|██████████| 25/25 [00:10<00:00,  2.49it/s, Loss=4.1512]\n"
          ]
        },
        {
          "output_type": "stream",
          "name": "stdout",
          "text": [
            "Epoch 29/50:\n",
            "  Train MAPE: 3.5315%\n",
            "  Val MAPE: 4.1258%\n",
            "  LR: 0.000010\n",
            "--------------------------------------------------\n"
          ]
        },
        {
          "output_type": "stream",
          "name": "stderr",
          "text": [
            "Epoch 30/50 [Train]: 100%|██████████| 100/100 [01:11<00:00,  1.40it/s, Loss=3.7491]\n",
            "Epoch 30/50 [Val]: 100%|██████████| 25/25 [00:10<00:00,  2.44it/s, Loss=4.0258]\n"
          ]
        },
        {
          "output_type": "stream",
          "name": "stdout",
          "text": [
            "Epoch 30/50:\n",
            "  Train MAPE: 3.5178%\n",
            "  Val MAPE: 3.9552%\n",
            "  LR: 0.000010\n",
            "--------------------------------------------------\n"
          ]
        },
        {
          "output_type": "stream",
          "name": "stderr",
          "text": [
            "Epoch 31/50 [Train]: 100%|██████████| 100/100 [01:11<00:00,  1.40it/s, Loss=3.7273]\n",
            "Epoch 31/50 [Val]: 100%|██████████| 25/25 [00:10<00:00,  2.45it/s, Loss=4.4790]\n"
          ]
        },
        {
          "output_type": "stream",
          "name": "stdout",
          "text": [
            "Epoch 31/50:\n",
            "  Train MAPE: 3.5478%\n",
            "  Val MAPE: 4.4872%\n",
            "  LR: 0.000010\n",
            "--------------------------------------------------\n"
          ]
        },
        {
          "output_type": "stream",
          "name": "stderr",
          "text": [
            "Epoch 32/50 [Train]: 100%|██████████| 100/100 [01:11<00:00,  1.40it/s, Loss=3.5939]\n",
            "Epoch 32/50 [Val]: 100%|██████████| 25/25 [00:10<00:00,  2.45it/s, Loss=4.2425]\n"
          ]
        },
        {
          "output_type": "stream",
          "name": "stdout",
          "text": [
            "Epoch 32/50:\n",
            "  Train MAPE: 3.5231%\n",
            "  Val MAPE: 4.1534%\n",
            "  LR: 0.000010\n",
            "--------------------------------------------------\n"
          ]
        },
        {
          "output_type": "stream",
          "name": "stderr",
          "text": [
            "Epoch 33/50 [Train]: 100%|██████████| 100/100 [01:11<00:00,  1.40it/s, Loss=3.4243]\n",
            "Epoch 33/50 [Val]: 100%|██████████| 25/25 [00:09<00:00,  2.52it/s, Loss=4.2958]\n"
          ]
        },
        {
          "output_type": "stream",
          "name": "stdout",
          "text": [
            "Epoch 33/50:\n",
            "  Train MAPE: 3.4982%\n",
            "  Val MAPE: 4.2330%\n",
            "  LR: 0.000010\n",
            "--------------------------------------------------\n"
          ]
        },
        {
          "output_type": "stream",
          "name": "stderr",
          "text": [
            "Epoch 34/50 [Train]: 100%|██████████| 100/100 [01:11<00:00,  1.40it/s, Loss=3.3861]\n",
            "Epoch 34/50 [Val]: 100%|██████████| 25/25 [00:10<00:00,  2.49it/s, Loss=4.2803]\n"
          ]
        },
        {
          "output_type": "stream",
          "name": "stdout",
          "text": [
            "Epoch 34/50:\n",
            "  Train MAPE: 3.4635%\n",
            "  Val MAPE: 4.2085%\n",
            "  LR: 0.000001\n",
            "--------------------------------------------------\n"
          ]
        },
        {
          "output_type": "stream",
          "name": "stderr",
          "text": [
            "Epoch 35/50 [Train]: 100%|██████████| 100/100 [01:11<00:00,  1.40it/s, Loss=4.3680]\n",
            "Epoch 35/50 [Val]: 100%|██████████| 25/25 [00:10<00:00,  2.38it/s, Loss=3.6905]\n"
          ]
        },
        {
          "output_type": "stream",
          "name": "stdout",
          "text": [
            "Epoch 35/50:\n",
            "  Train MAPE: 3.4558%\n",
            "  Val MAPE: 3.6449%\n",
            "  LR: 0.000001\n",
            "--------------------------------------------------\n",
            "New best model saved: /content/drive/MyDrive/ThinkOnward/Models/best_model_resize.pth\n"
          ]
        },
        {
          "output_type": "stream",
          "name": "stderr",
          "text": [
            "Epoch 36/50 [Train]: 100%|██████████| 100/100 [01:11<00:00,  1.40it/s, Loss=3.0882]\n",
            "Epoch 36/50 [Val]: 100%|██████████| 25/25 [00:09<00:00,  2.53it/s, Loss=3.7591]\n"
          ]
        },
        {
          "output_type": "stream",
          "name": "stdout",
          "text": [
            "Epoch 36/50:\n",
            "  Train MAPE: 3.4679%\n",
            "  Val MAPE: 3.6682%\n",
            "  LR: 0.000001\n",
            "--------------------------------------------------\n"
          ]
        },
        {
          "output_type": "stream",
          "name": "stderr",
          "text": [
            "Epoch 37/50 [Train]: 100%|██████████| 100/100 [01:11<00:00,  1.40it/s, Loss=3.2300]\n",
            "Epoch 37/50 [Val]: 100%|██████████| 25/25 [00:10<00:00,  2.43it/s, Loss=3.7016]\n"
          ]
        },
        {
          "output_type": "stream",
          "name": "stdout",
          "text": [
            "Epoch 37/50:\n",
            "  Train MAPE: 3.4507%\n",
            "  Val MAPE: 3.6403%\n",
            "  LR: 0.000001\n",
            "--------------------------------------------------\n",
            "New best model saved: /content/drive/MyDrive/ThinkOnward/Models/best_model_resize.pth\n"
          ]
        },
        {
          "output_type": "stream",
          "name": "stderr",
          "text": [
            "Epoch 38/50 [Train]: 100%|██████████| 100/100 [01:11<00:00,  1.39it/s, Loss=3.4379]\n",
            "Epoch 38/50 [Val]: 100%|██████████| 25/25 [00:10<00:00,  2.43it/s, Loss=3.6820]\n"
          ]
        },
        {
          "output_type": "stream",
          "name": "stdout",
          "text": [
            "Epoch 38/50:\n",
            "  Train MAPE: 3.4152%\n",
            "  Val MAPE: 3.6295%\n",
            "  LR: 0.000001\n",
            "--------------------------------------------------\n",
            "New best model saved: /content/drive/MyDrive/ThinkOnward/Models/best_model_resize.pth\n"
          ]
        },
        {
          "output_type": "stream",
          "name": "stderr",
          "text": [
            "Epoch 39/50 [Train]: 100%|██████████| 100/100 [01:11<00:00,  1.40it/s, Loss=3.4676]\n",
            "Epoch 39/50 [Val]: 100%|██████████| 25/25 [00:09<00:00,  2.57it/s, Loss=3.6992]\n"
          ]
        },
        {
          "output_type": "stream",
          "name": "stdout",
          "text": [
            "Epoch 39/50:\n",
            "  Train MAPE: 3.4203%\n",
            "  Val MAPE: 3.6324%\n",
            "  LR: 0.000001\n",
            "--------------------------------------------------\n"
          ]
        },
        {
          "output_type": "stream",
          "name": "stderr",
          "text": [
            "Epoch 40/50 [Train]: 100%|██████████| 100/100 [01:11<00:00,  1.40it/s, Loss=4.0419]\n",
            "Epoch 40/50 [Val]: 100%|██████████| 25/25 [00:10<00:00,  2.45it/s, Loss=3.7073]\n"
          ]
        },
        {
          "output_type": "stream",
          "name": "stdout",
          "text": [
            "Epoch 40/50:\n",
            "  Train MAPE: 3.3950%\n",
            "  Val MAPE: 3.6420%\n",
            "  LR: 0.000001\n",
            "--------------------------------------------------\n"
          ]
        },
        {
          "output_type": "stream",
          "name": "stderr",
          "text": [
            "Epoch 41/50 [Train]: 100%|██████████| 100/100 [01:11<00:00,  1.40it/s, Loss=3.2937]\n",
            "Epoch 41/50 [Val]: 100%|██████████| 25/25 [00:09<00:00,  2.61it/s, Loss=3.7049]\n"
          ]
        },
        {
          "output_type": "stream",
          "name": "stdout",
          "text": [
            "Epoch 41/50:\n",
            "  Train MAPE: 3.4030%\n",
            "  Val MAPE: 3.6365%\n",
            "  LR: 0.000001\n",
            "--------------------------------------------------\n"
          ]
        },
        {
          "output_type": "stream",
          "name": "stderr",
          "text": [
            "Epoch 42/50 [Train]: 100%|██████████| 100/100 [01:11<00:00,  1.40it/s, Loss=3.1679]\n",
            "Epoch 42/50 [Val]: 100%|██████████| 25/25 [00:10<00:00,  2.47it/s, Loss=3.6623]\n"
          ]
        },
        {
          "output_type": "stream",
          "name": "stdout",
          "text": [
            "Epoch 42/50:\n",
            "  Train MAPE: 3.4559%\n",
            "  Val MAPE: 3.6290%\n",
            "  LR: 0.000001\n",
            "--------------------------------------------------\n",
            "New best model saved: /content/drive/MyDrive/ThinkOnward/Models/best_model_resize.pth\n"
          ]
        },
        {
          "output_type": "stream",
          "name": "stderr",
          "text": [
            "Epoch 43/50 [Train]: 100%|██████████| 100/100 [01:11<00:00,  1.39it/s, Loss=3.7810]\n",
            "Epoch 43/50 [Val]: 100%|██████████| 25/25 [00:10<00:00,  2.49it/s, Loss=3.6404]\n"
          ]
        },
        {
          "output_type": "stream",
          "name": "stdout",
          "text": [
            "Epoch 43/50:\n",
            "  Train MAPE: 3.3950%\n",
            "  Val MAPE: 3.6487%\n",
            "  LR: 0.000001\n",
            "--------------------------------------------------\n"
          ]
        },
        {
          "output_type": "stream",
          "name": "stderr",
          "text": [
            "Epoch 44/50 [Train]: 100%|██████████| 100/100 [01:11<00:00,  1.40it/s, Loss=3.4777]\n",
            "Epoch 44/50 [Val]: 100%|██████████| 25/25 [00:09<00:00,  2.51it/s, Loss=3.6977]\n"
          ]
        },
        {
          "output_type": "stream",
          "name": "stdout",
          "text": [
            "Epoch 44/50:\n",
            "  Train MAPE: 3.4228%\n",
            "  Val MAPE: 3.6367%\n",
            "  LR: 0.000001\n",
            "--------------------------------------------------\n"
          ]
        },
        {
          "output_type": "stream",
          "name": "stderr",
          "text": [
            "Epoch 45/50 [Train]: 100%|██████████| 100/100 [01:11<00:00,  1.40it/s, Loss=3.9023]\n",
            "Epoch 45/50 [Val]: 100%|██████████| 25/25 [00:10<00:00,  2.45it/s, Loss=3.7291]\n"
          ]
        },
        {
          "output_type": "stream",
          "name": "stdout",
          "text": [
            "Epoch 45/50:\n",
            "  Train MAPE: 3.4977%\n",
            "  Val MAPE: 3.6527%\n",
            "  LR: 0.000001\n",
            "--------------------------------------------------\n"
          ]
        },
        {
          "output_type": "stream",
          "name": "stderr",
          "text": [
            "Epoch 46/50 [Train]: 100%|██████████| 100/100 [01:11<00:00,  1.40it/s, Loss=3.5746]\n",
            "Epoch 46/50 [Val]: 100%|██████████| 25/25 [00:09<00:00,  2.55it/s, Loss=3.6800]\n"
          ]
        },
        {
          "output_type": "stream",
          "name": "stdout",
          "text": [
            "Epoch 46/50:\n",
            "  Train MAPE: 3.3922%\n",
            "  Val MAPE: 3.6414%\n",
            "  LR: 0.000001\n",
            "--------------------------------------------------\n"
          ]
        },
        {
          "output_type": "stream",
          "name": "stderr",
          "text": [
            "Epoch 47/50 [Train]: 100%|██████████| 100/100 [01:11<00:00,  1.40it/s, Loss=3.3814]\n",
            "Epoch 47/50 [Val]: 100%|██████████| 25/25 [00:10<00:00,  2.37it/s, Loss=3.6807]\n"
          ]
        },
        {
          "output_type": "stream",
          "name": "stdout",
          "text": [
            "Epoch 47/50:\n",
            "  Train MAPE: 3.3907%\n",
            "  Val MAPE: 3.6344%\n",
            "  LR: 0.000001\n",
            "--------------------------------------------------\n"
          ]
        },
        {
          "output_type": "stream",
          "name": "stderr",
          "text": [
            "Epoch 48/50 [Train]: 100%|██████████| 100/100 [01:11<00:00,  1.41it/s, Loss=3.1683]\n",
            "Epoch 48/50 [Val]: 100%|██████████| 25/25 [00:09<00:00,  2.52it/s, Loss=3.6830]\n"
          ]
        },
        {
          "output_type": "stream",
          "name": "stdout",
          "text": [
            "Epoch 48/50:\n",
            "  Train MAPE: 3.3958%\n",
            "  Val MAPE: 3.6357%\n",
            "  LR: 0.000000\n",
            "--------------------------------------------------\n"
          ]
        },
        {
          "output_type": "stream",
          "name": "stderr",
          "text": [
            "Epoch 49/50 [Train]: 100%|██████████| 100/100 [01:11<00:00,  1.40it/s, Loss=3.6521]\n",
            "Epoch 49/50 [Val]: 100%|██████████| 25/25 [00:09<00:00,  2.52it/s, Loss=3.7054]\n"
          ]
        },
        {
          "output_type": "stream",
          "name": "stdout",
          "text": [
            "Epoch 49/50:\n",
            "  Train MAPE: 3.4081%\n",
            "  Val MAPE: 3.6380%\n",
            "  LR: 0.000000\n",
            "--------------------------------------------------\n"
          ]
        },
        {
          "output_type": "stream",
          "name": "stderr",
          "text": [
            "Epoch 50/50 [Train]: 100%|██████████| 100/100 [01:11<00:00,  1.39it/s, Loss=3.9895]\n",
            "Epoch 50/50 [Val]: 100%|██████████| 25/25 [00:10<00:00,  2.49it/s, Loss=3.6575]\n"
          ]
        },
        {
          "output_type": "stream",
          "name": "stdout",
          "text": [
            "Epoch 50/50:\n",
            "  Train MAPE: 3.3771%\n",
            "  Val MAPE: 3.6212%\n",
            "  LR: 0.000000\n",
            "--------------------------------------------------\n",
            "New best model saved: /content/drive/MyDrive/ThinkOnward/Models/best_model_resize.pth\n"
          ]
        },
        {
          "output_type": "display_data",
          "data": {
            "text/plain": [
              "<Figure size 1200x500 with 3 Axes>"
            ],
            "image/png": "[encoded data removed]"
          },
          "metadata": {}
        },
        {
          "output_type": "stream",
          "name": "stdout",
          "text": [
            "\n",
            "Training completed!\n",
            "Best validation MAPE: 3.6212%\n",
            "Model type: Resize\n"
          ]
        }
      ]
    },
    {
      "cell_type": "code",
      "source": [
        "# Main execution ADAPTIVE\n",
        "if __name__ == \"__main__\":\n",
        "\n",
        "    # Set data directory\n",
        "    from google.colab import drive\n",
        "    drive.mount('/content/drive')\n",
        "    data_dir = Path('/content/drive/MyDrive/ThinkOnward/Data/Train')  # Adjust path as needed\n",
        "    result_dir= Path('/content/drive/MyDrive/ThinkOnward/Result')\n",
        "\n",
        "    # Create sample indices (assuming folders are named sample_0000, sample_0001, etc.)\n",
        "    sample_indices = list(range(1,2001))  # Adjust based on your actual data\n",
        "\n",
        "    # Train-validation split\n",
        "    train_indices, val_indices = train_test_split(\n",
        "        sample_indices,\n",
        "        train_size=TRAIN_VAL_SPLIT,\n",
        "        random_state=42\n",
        "    )\n",
        "\n",
        "    print(f\"Training samples: {len(train_indices)}\")\n",
        "    print(f\"Validation samples: {len(val_indices)}\")\n",
        "\n",
        "    # Create datasets\n",
        "    train_dataset = SeismicDataset(data_dir, train_indices, use_adaptive=USE_ADAPTIVE_MODEL)\n",
        "    val_dataset = SeismicDataset(data_dir, val_indices, use_adaptive=USE_ADAPTIVE_MODEL)\n",
        "\n",
        "    # Create data loaders\n",
        "    train_loader = DataLoader(train_dataset, batch_size=BATCH_SIZE, shuffle=True, pin_memory=True, num_workers=8)\n",
        "    val_loader = DataLoader(val_dataset, batch_size=BATCH_SIZE, shuffle=False, pin_memory=True, num_workers=8)\n",
        "\n",
        "    # Initialize model\n",
        "    model = UNet(in_channels=5, out_channels=1, use_adaptive=USE_ADAPTIVE_MODEL).to(DEVICE)\n",
        "\n",
        "    print(f\"Model parameters: {sum(p.numel() for p in model.parameters()):,}\")\n",
        "\n",
        "    # Test with one batch to verify shapes\n",
        "    print(\"\\nTesting model with one batch...\")\n",
        "    test_input, test_target = next(iter(train_loader))\n",
        "    test_input = test_input.to(DEVICE)\n",
        "    test_target = test_target.to(DEVICE)\n",
        "\n",
        "    print(f\"Input shape: {test_input.shape}\")\n",
        "    print(f\"Target shape: {test_target.shape}\")\n",
        "\n",
        "    with torch.no_grad():\n",
        "        test_output = model(test_input)\n",
        "        print(f\"Output shape: {test_output.shape}\")\n",
        "        print(f\"Test MAPE: {mape_loss(test_output, test_target.unsqueeze(1)).item():.4f}%\")\n",
        "\n",
        "    print(\"\\nStarting training...\")\n",
        "    train_losses, val_losses = train_model(model, train_loader, val_loader, NUM_EPOCHS)\n",
        "\n",
        "    # Plot training curves\n",
        "    plt.figure(figsize=(12, 5))\n",
        "    plot_name =f\"plot_{'Adaptive' if USE_ADAPTIVE_MODEL else 'Resize'}\"\n",
        "    plot_dir = result_dir / plot_name\n",
        "\n",
        "    plt.subplot(1, 2, 1)\n",
        "    plt.plot(train_losses, label='Train MAPE')\n",
        "    plt.plot(val_losses, label='Validation MAPE')\n",
        "    plt.xlabel('Epoch')\n",
        "    plt.ylabel('MAPE (%)')\n",
        "    plt.title('Training Progress')\n",
        "    plt.legend()\n",
        "    plt.grid(True)\n",
        "\n",
        "    plt.subplot(1, 2, 2)\n",
        "    # Show a sample prediction\n",
        "    model.eval()\n",
        "    with torch.no_grad():\n",
        "        sample_input, sample_target = next(iter(val_loader))\n",
        "        sample_input = sample_input.to(DEVICE)\n",
        "        sample_pred = model(sample_input)\n",
        "\n",
        "        sample_target_np = sample_target[0].cpu().numpy()\n",
        "        sample_pred_np = sample_pred[0, 0].cpu().numpy()\n",
        "\n",
        "        plt.subplot(1, 2, 2)\n",
        "        plt.imshow(np.hstack([sample_target_np, sample_pred_np]), aspect='auto')\n",
        "        plt.title('Target (left) vs Prediction (right)')\n",
        "        plt.colorbar()\n",
        "\n",
        "    plt.tight_layout()\n",
        "    plt.savefig(plot_dir)\n",
        "    plt.show()\n",
        "\n",
        "    print(f\"\\nTraining completed!\")\n",
        "    print(f\"Best validation MAPE: {min(val_losses):.4f}%\")\n",
        "    print(f\"Model type: {'Adaptive' if USE_ADAPTIVE_MODEL else 'Resize'}\")"
      ],
      "metadata": {
        "colab": {
          "base_uri": "https://localhost:8080/",
          "height": 1000
        },
        "id": "P9zcvbYlnEV4",
        "outputId": "49e98505-218b-46a3-efa9-477d83bda059"
      },
      "execution_count": null,
      "outputs": [
        {
          "metadata": {
            "tags": null
          },
          "name": "stdout",
          "output_type": "stream",
          "text": [
            "Drive already mounted at /content/drive; to attempt to forcibly remount, call drive.mount(\"/content/drive\", force_remount=True).\n",
            "Training samples: 1600\n",
            "Validation samples: 400\n",
            "Model parameters: 32,377,619\n",
            "\n",
            "Testing model with one batch...\n",
            "Input shape: torch.Size([16, 5, 32, 313])\n",
            "Target shape: torch.Size([16, 300, 1259])\n",
            "Output shape: torch.Size([16, 1, 300, 1259])\n",
            "Test MAPE: 96.8928%\n",
            "\n",
            "Starting training...\n"
          ]
        },
        {
          "metadata": {
            "tags": null
          },
          "name": "stderr",
          "output_type": "stream",
          "text": [
            "\rEpoch 1/50 [Train]:   0%|          | 0/100 [00:00<?, ?it/s]"
          ]
        },
        {
          "metadata": {
            "tags": null
          },
          "name": "stdout",
          "output_type": "stream",
          "text": [
            "*** DEBUG Batch 0: Input shape: torch.Size([16, 5, 32, 313]), Target shape: torch.Size([16, 300, 1259]) ***\n",
            "*** DEBUG: GPU memory before forward: 0.43GB ***\n",
            "*** DEBUG: Starting forward pass for batch 0 ***\n",
            "*** DEBUG: Forward pass complete, output shape: torch.Size([16, 1, 300, 1259]) ***\n",
            "*** DEBUG: Starting loss calculation ***\n",
            "*** DEBUG: Loss calculated: 96.8762, starting backward ***\n"
          ]
        },
        {
          "metadata": {
            "tags": null
          },
          "name": "stderr",
          "output_type": "stream",
          "text": [
            "Epoch 1/50 [Train]:   1%|          | 1/100 [00:33<55:32, 33.66s/it, Loss=96.8762]"
          ]
        },
        {
          "metadata": {
            "tags": null
          },
          "name": "stdout",
          "output_type": "stream",
          "text": [
            "*** DEBUG: Backward complete, running optimizer step ***\n",
            "*** DEBUG: Batch 0 complete ***\n",
            "*** DEBUG: GPU memory after batch: 0.89GB ***\n",
            "*** DEBUG: Completed batch 0/100 ***\n"
          ]
        },
        {
          "metadata": {
            "tags": null
          },
          "name": "stderr",
          "output_type": "stream",
          "text": [
            "Epoch 1/50 [Train]:   2%|▏         | 2/100 [00:39<28:19, 17.34s/it, Loss=92.8624]"
          ]
        },
        {
          "metadata": {
            "tags": null
          },
          "name": "stdout",
          "output_type": "stream",
          "text": [
            "*** DEBUG Batch 1: Input shape: torch.Size([16, 5, 32, 313]), Target shape: torch.Size([16, 300, 1259]) ***\n",
            "*** DEBUG: GPU memory before forward: 0.87GB ***\n",
            "*** DEBUG: Starting forward pass for batch 1 ***\n",
            "*** DEBUG: Forward pass complete, output shape: torch.Size([16, 1, 300, 1259]) ***\n",
            "*** DEBUG: Starting loss calculation ***\n",
            "*** DEBUG: Loss calculated: 92.8624, starting backward ***\n",
            "*** DEBUG: Backward complete, running optimizer step ***\n",
            "*** DEBUG: Batch 1 complete ***\n",
            "*** DEBUG: GPU memory after batch: 0.89GB ***\n"
          ]
        },
        {
          "metadata": {
            "tags": null
          },
          "name": "stderr",
          "output_type": "stream",
          "text": [
            "Epoch 1/50 [Train]:   3%|▎         | 3/100 [00:42<17:07, 10.60s/it, Loss=89.7533]"
          ]
        },
        {
          "metadata": {
            "tags": null
          },
          "name": "stdout",
          "output_type": "stream",
          "text": [
            "*** DEBUG Batch 2: Input shape: torch.Size([16, 5, 32, 313]), Target shape: torch.Size([16, 300, 1259]) ***\n",
            "*** DEBUG: GPU memory before forward: 0.86GB ***\n",
            "*** DEBUG: Starting forward pass for batch 2 ***\n",
            "*** DEBUG: Forward pass complete, output shape: torch.Size([16, 1, 300, 1259]) ***\n",
            "*** DEBUG: Starting loss calculation ***\n",
            "*** DEBUG: Loss calculated: 89.7533, starting backward ***\n",
            "*** DEBUG: Backward complete, running optimizer step ***\n",
            "*** DEBUG: Batch 2 complete ***\n",
            "*** DEBUG: GPU memory after batch: 0.89GB ***\n"
          ]
        },
        {
          "metadata": {
            "tags": null
          },
          "name": "stderr",
          "output_type": "stream",
          "text": [
            "Epoch 1/50 [Train]:  15%|█▌        | 15/100 [01:32<05:17,  3.74s/it, Loss=74.0861]"
          ]
        },
        {
          "metadata": {
            "tags": null
          },
          "name": "stdout",
          "output_type": "stream",
          "text": [
            "*** DEBUG: Completed batch 10/100 ***\n"
          ]
        },
        {
          "metadata": {
            "tags": null
          },
          "name": "stderr",
          "output_type": "stream",
          "text": [
            "Epoch 1/50 [Train]:  23%|██▎       | 23/100 [02:23<05:39,  4.40s/it, Loss=69.2859]"
          ]
        },
        {
          "metadata": {
            "tags": null
          },
          "name": "stdout",
          "output_type": "stream",
          "text": [
            "*** DEBUG: Completed batch 20/100 ***\n"
          ]
        },
        {
          "metadata": {
            "tags": null
          },
          "name": "stderr",
          "output_type": "stream",
          "text": [
            "Epoch 1/50 [Train]:  31%|███       | 31/100 [03:14<05:19,  4.63s/it, Loss=66.6547]"
          ]
        },
        {
          "metadata": {
            "tags": null
          },
          "name": "stdout",
          "output_type": "stream",
          "text": [
            "*** DEBUG: Completed batch 30/100 ***\n"
          ]
        },
        {
          "metadata": {
            "tags": null
          },
          "name": "stderr",
          "output_type": "stream",
          "text": [
            "Epoch 1/50 [Train]:  38%|███▊      | 38/100 [04:03<05:46,  5.59s/it, Loss=63.5154]"
          ]
        },
        {
          "metadata": {
            "tags": null
          },
          "name": "stdout",
          "output_type": "stream",
          "text": [
            "*** DEBUG: Completed batch 40/100 ***\n"
          ]
        },
        {
          "metadata": {
            "tags": null
          },
          "name": "stderr",
          "output_type": "stream",
          "text": [
            "Epoch 1/50 [Train]:  55%|█████▌    | 55/100 [05:12<02:32,  3.40s/it, Loss=59.0829]"
          ]
        },
        {
          "metadata": {
            "tags": null
          },
          "name": "stdout",
          "output_type": "stream",
          "text": [
            "*** DEBUG: Completed batch 50/100 ***\n"
          ]
        },
        {
          "metadata": {
            "tags": null
          },
          "name": "stderr",
          "output_type": "stream",
          "text": [
            "Epoch 1/50 [Train]:  63%|██████▎   | 63/100 [06:01<02:33,  4.15s/it, Loss=56.9209]"
          ]
        },
        {
          "metadata": {
            "tags": null
          },
          "name": "stdout",
          "output_type": "stream",
          "text": [
            "*** DEBUG: Completed batch 60/100 ***\n"
          ]
        },
        {
          "metadata": {
            "tags": null
          },
          "name": "stderr",
          "output_type": "stream",
          "text": [
            "Epoch 1/50 [Train]:  69%|██████▉   | 69/100 [06:43<02:52,  5.55s/it, Loss=59.6684]"
          ]
        },
        {
          "metadata": {
            "tags": null
          },
          "name": "stdout",
          "output_type": "stream",
          "text": [
            "*** DEBUG: Completed batch 70/100 ***\n"
          ]
        },
        {
          "metadata": {
            "tags": null
          },
          "name": "stderr",
          "output_type": "stream",
          "text": [
            "Epoch 1/50 [Train]:  81%|████████  | 81/100 [07:45<01:51,  5.87s/it, Loss=55.5935]"
          ]
        },
        {
          "metadata": {
            "tags": null
          },
          "name": "stdout",
          "output_type": "stream",
          "text": [
            "*** DEBUG: Completed batch 80/100 ***\n"
          ]
        },
        {
          "metadata": {
            "tags": null
          },
          "name": "stderr",
          "output_type": "stream",
          "text": [
            "Epoch 1/50 [Train]:  95%|█████████▌| 95/100 [08:48<00:19,  3.82s/it, Loss=53.8214]"
          ]
        },
        {
          "metadata": {
            "tags": null
          },
          "name": "stdout",
          "output_type": "stream",
          "text": [
            "*** DEBUG: Completed batch 90/100 ***\n"
          ]
        },
        {
          "metadata": {
            "tags": null
          },
          "name": "stderr",
          "output_type": "stream",
          "text": [
            "Epoch 1/50 [Train]: 100%|██████████| 100/100 [09:22<00:00,  5.63s/it, Loss=53.1857]\n"
          ]
        },
        {
          "metadata": {
            "tags": null
          },
          "name": "stdout",
          "output_type": "stream",
          "text": [
            "*** DEBUG: Training epoch 1 complete, starting validation ***\n"
          ]
        },
        {
          "metadata": {
            "tags": null
          },
          "name": "stderr",
          "output_type": "stream",
          "text": [
            "Epoch 1/50 [Val]: 100%|██████████| 25/25 [03:35<00:00,  8.61s/it, Loss=58.6406]\n"
          ]
        },
        {
          "metadata": {
            "tags": null
          },
          "name": "stdout",
          "output_type": "stream",
          "text": [
            "Epoch 1/50:\n",
            "  Train MAPE: 64.0555%\n",
            "  Val MAPE: 58.6940%\n",
            "  LR: 0.000100\n",
            "--------------------------------------------------\n",
            "New best model saved: /content/drive/MyDrive/ThinkOnward/Models/best_model_adaptive.pth\n"
          ]
        },
        {
          "metadata": {
            "tags": null
          },
          "name": "stderr",
          "output_type": "stream",
          "text": [
            "Epoch 2/50 [Train]:   4%|▍         | 4/100 [00:02<00:46,  2.06it/s, Loss=53.1949]"
          ]
        },
        {
          "metadata": {
            "tags": null
          },
          "name": "stdout",
          "output_type": "stream",
          "text": [
            "*** DEBUG Batch 0: Input shape: torch.Size([16, 5, 32, 313]), Target shape: torch.Size([16, 300, 1259]) ***\n",
            "*** DEBUG: GPU memory before forward: 0.86GB ***\n",
            "*** DEBUG: Starting forward pass for batch 0 ***\n",
            "*** DEBUG: Forward pass complete, output shape: torch.Size([16, 1, 300, 1259]) ***\n",
            "*** DEBUG: Starting loss calculation ***\n",
            "*** DEBUG: Loss calculated: 54.0888, starting backward ***\n",
            "*** DEBUG: Backward complete, running optimizer step ***\n",
            "*** DEBUG: Batch 0 complete ***\n",
            "*** DEBUG: GPU memory after batch: 0.89GB ***\n",
            "*** DEBUG: Completed batch 0/100 ***\n",
            "*** DEBUG Batch 1: Input shape: torch.Size([16, 5, 32, 313]), Target shape: torch.Size([16, 300, 1259]) ***\n",
            "*** DEBUG: GPU memory before forward: 0.86GB ***\n",
            "*** DEBUG: Starting forward pass for batch 1 ***\n",
            "*** DEBUG: Forward pass complete, output shape: torch.Size([16, 1, 300, 1259]) ***\n",
            "*** DEBUG: Starting loss calculation ***\n",
            "*** DEBUG: Loss calculated: 53.9279, starting backward ***\n",
            "*** DEBUG: Backward complete, running optimizer step ***\n",
            "*** DEBUG: Batch 1 complete ***\n",
            "*** DEBUG: GPU memory after batch: 0.89GB ***\n",
            "*** DEBUG Batch 2: Input shape: torch.Size([16, 5, 32, 313]), Target shape: torch.Size([16, 300, 1259]) ***\n",
            "*** DEBUG: GPU memory before forward: 0.86GB ***\n",
            "*** DEBUG: Starting forward pass for batch 2 ***\n",
            "*** DEBUG: Forward pass complete, output shape: torch.Size([16, 1, 300, 1259]) ***\n",
            "*** DEBUG: Starting loss calculation ***\n",
            "*** DEBUG: Loss calculated: 52.5311, starting backward ***\n",
            "*** DEBUG: Backward complete, running optimizer step ***\n",
            "*** DEBUG: Batch 2 complete ***\n",
            "*** DEBUG: GPU memory after batch: 0.89GB ***\n"
          ]
        },
        {
          "metadata": {
            "tags": null
          },
          "name": "stderr",
          "output_type": "stream",
          "text": [
            "Epoch 2/50 [Train]:  14%|█▍        | 14/100 [00:04<00:18,  4.58it/s, Loss=52.0428]"
          ]
        },
        {
          "metadata": {
            "tags": null
          },
          "name": "stdout",
          "output_type": "stream",
          "text": [
            "*** DEBUG: Completed batch 10/100 ***\n"
          ]
        },
        {
          "metadata": {
            "tags": null
          },
          "name": "stderr",
          "output_type": "stream",
          "text": [
            "Epoch 2/50 [Train]:  21%|██        | 21/100 [00:06<00:17,  4.61it/s, Loss=50.4180]"
          ]
        },
        {
          "metadata": {
            "tags": null
          },
          "name": "stdout",
          "output_type": "stream",
          "text": [
            "*** DEBUG: Completed batch 20/100 ***\n"
          ]
        },
        {
          "metadata": {
            "tags": null
          },
          "name": "stderr",
          "output_type": "stream",
          "text": [
            "Epoch 2/50 [Train]:  29%|██▉       | 29/100 [00:08<00:14,  4.95it/s, Loss=49.9883]"
          ]
        },
        {
          "metadata": {
            "tags": null
          },
          "name": "stdout",
          "output_type": "stream",
          "text": [
            "*** DEBUG: Completed batch 30/100 ***\n"
          ]
        },
        {
          "metadata": {
            "tags": null
          },
          "name": "stderr",
          "output_type": "stream",
          "text": [
            "Epoch 2/50 [Train]:  44%|████▍     | 44/100 [00:14<00:20,  2.77it/s, Loss=47.7266]"
          ]
        },
        {
          "metadata": {
            "tags": null
          },
          "name": "stdout",
          "output_type": "stream",
          "text": [
            "*** DEBUG: Completed batch 40/100 ***\n"
          ]
        },
        {
          "metadata": {
            "tags": null
          },
          "name": "stderr",
          "output_type": "stream",
          "text": [
            "Epoch 2/50 [Train]:  54%|█████▍    | 54/100 [00:16<00:11,  3.87it/s, Loss=49.6840]"
          ]
        },
        {
          "metadata": {
            "tags": null
          },
          "name": "stdout",
          "output_type": "stream",
          "text": [
            "*** DEBUG: Completed batch 50/100 ***\n"
          ]
        },
        {
          "metadata": {
            "tags": null
          },
          "name": "stderr",
          "output_type": "stream",
          "text": [
            "Epoch 2/50 [Train]:  61%|██████    | 61/100 [00:18<00:09,  4.24it/s, Loss=48.7758]"
          ]
        },
        {
          "metadata": {
            "tags": null
          },
          "name": "stdout",
          "output_type": "stream",
          "text": [
            "*** DEBUG: Completed batch 60/100 ***\n"
          ]
        },
        {
          "metadata": {
            "tags": null
          },
          "name": "stderr",
          "output_type": "stream",
          "text": [
            "Epoch 2/50 [Train]:  69%|██████▉   | 69/100 [00:19<00:06,  4.69it/s, Loss=46.1283]"
          ]
        },
        {
          "metadata": {
            "tags": null
          },
          "name": "stdout",
          "output_type": "stream",
          "text": [
            "*** DEBUG: Completed batch 70/100 ***\n"
          ]
        },
        {
          "metadata": {
            "tags": null
          },
          "name": "stderr",
          "output_type": "stream",
          "text": [
            "Epoch 2/50 [Train]:  83%|████████▎ | 83/100 [00:23<00:04,  3.81it/s, Loss=44.4006]"
          ]
        },
        {
          "metadata": {
            "tags": null
          },
          "name": "stdout",
          "output_type": "stream",
          "text": [
            "*** DEBUG: Completed batch 80/100 ***\n"
          ]
        },
        {
          "metadata": {
            "tags": null
          },
          "name": "stderr",
          "output_type": "stream",
          "text": [
            "Epoch 2/50 [Train]:  94%|█████████▍| 94/100 [00:25<00:01,  5.13it/s, Loss=43.3426]"
          ]
        },
        {
          "metadata": {
            "tags": null
          },
          "name": "stdout",
          "output_type": "stream",
          "text": [
            "*** DEBUG: Completed batch 90/100 ***\n"
          ]
        },
        {
          "metadata": {
            "tags": null
          },
          "name": "stderr",
          "output_type": "stream",
          "text": [
            "Epoch 2/50 [Train]: 100%|██████████| 100/100 [00:26<00:00,  3.81it/s, Loss=42.3480]\n"
          ]
        },
        {
          "metadata": {
            "tags": null
          },
          "name": "stdout",
          "output_type": "stream",
          "text": [
            "*** DEBUG: Training epoch 2 complete, starting validation ***\n"
          ]
        },
        {
          "metadata": {
            "tags": null
          },
          "name": "stderr",
          "output_type": "stream",
          "text": [
            "Epoch 2/50 [Val]: 100%|██████████| 25/25 [00:06<00:00,  4.16it/s, Loss=42.1102]\n"
          ]
        },
        {
          "metadata": {
            "tags": null
          },
          "name": "stdout",
          "output_type": "stream",
          "text": [
            "Epoch 2/50:\n",
            "  Train MAPE: 48.0779%\n",
            "  Val MAPE: 42.2462%\n",
            "  LR: 0.000100\n",
            "--------------------------------------------------\n",
            "New best model saved: /content/drive/MyDrive/ThinkOnward/Models/best_model_adaptive.pth\n"
          ]
        },
        {
          "metadata": {
            "tags": null
          },
          "name": "stderr",
          "output_type": "stream",
          "text": [
            "Epoch 3/50 [Train]:   4%|▍         | 4/100 [00:02<00:45,  2.10it/s, Loss=44.4160]"
          ]
        },
        {
          "metadata": {
            "tags": null
          },
          "name": "stdout",
          "output_type": "stream",
          "text": [
            "*** DEBUG Batch 0: Input shape: torch.Size([16, 5, 32, 313]), Target shape: torch.Size([16, 300, 1259]) ***\n",
            "*** DEBUG: GPU memory before forward: 0.86GB ***\n",
            "*** DEBUG: Starting forward pass for batch 0 ***\n",
            "*** DEBUG: Forward pass complete, output shape: torch.Size([16, 1, 300, 1259]) ***\n",
            "*** DEBUG: Starting loss calculation ***\n",
            "*** DEBUG: Loss calculated: 42.2740, starting backward ***\n",
            "*** DEBUG: Backward complete, running optimizer step ***\n",
            "*** DEBUG: Batch 0 complete ***\n",
            "*** DEBUG: GPU memory after batch: 0.89GB ***\n",
            "*** DEBUG: Completed batch 0/100 ***\n",
            "*** DEBUG Batch 1: Input shape: torch.Size([16, 5, 32, 313]), Target shape: torch.Size([16, 300, 1259]) ***\n",
            "*** DEBUG: GPU memory before forward: 0.86GB ***\n",
            "*** DEBUG: Starting forward pass for batch 1 ***\n",
            "*** DEBUG: Forward pass complete, output shape: torch.Size([16, 1, 300, 1259]) ***\n",
            "*** DEBUG: Starting loss calculation ***\n",
            "*** DEBUG: Loss calculated: 43.3845, starting backward ***\n",
            "*** DEBUG: Backward complete, running optimizer step ***\n",
            "*** DEBUG: Batch 1 complete ***\n",
            "*** DEBUG: GPU memory after batch: 0.89GB ***\n",
            "*** DEBUG Batch 2: Input shape: torch.Size([16, 5, 32, 313]), Target shape: torch.Size([16, 300, 1259]) ***\n",
            "*** DEBUG: GPU memory before forward: 0.86GB ***\n",
            "*** DEBUG: Starting forward pass for batch 2 ***\n",
            "*** DEBUG: Forward pass complete, output shape: torch.Size([16, 1, 300, 1259]) ***\n",
            "*** DEBUG: Starting loss calculation ***\n",
            "*** DEBUG: Loss calculated: 45.0191, starting backward ***\n",
            "*** DEBUG: Backward complete, running optimizer step ***\n",
            "*** DEBUG: Batch 2 complete ***\n",
            "*** DEBUG: GPU memory after batch: 0.89GB ***\n"
          ]
        },
        {
          "metadata": {
            "tags": null
          },
          "name": "stderr",
          "output_type": "stream",
          "text": [
            "Epoch 3/50 [Train]:  15%|█▌        | 15/100 [00:04<00:18,  4.66it/s, Loss=42.3400]"
          ]
        },
        {
          "metadata": {
            "tags": null
          },
          "name": "stdout",
          "output_type": "stream",
          "text": [
            "*** DEBUG: Completed batch 10/100 ***\n"
          ]
        },
        {
          "metadata": {
            "tags": null
          },
          "name": "stderr",
          "output_type": "stream",
          "text": [
            "Epoch 3/50 [Train]:  22%|██▏       | 22/100 [00:06<00:17,  4.56it/s, Loss=41.0753]"
          ]
        },
        {
          "metadata": {
            "tags": null
          },
          "name": "stdout",
          "output_type": "stream",
          "text": [
            "*** DEBUG: Completed batch 20/100 ***\n"
          ]
        },
        {
          "metadata": {
            "tags": null
          },
          "name": "stderr",
          "output_type": "stream",
          "text": [
            "Epoch 3/50 [Train]:  29%|██▉       | 29/100 [00:08<00:15,  4.66it/s, Loss=43.6335]"
          ]
        },
        {
          "metadata": {
            "tags": null
          },
          "name": "stdout",
          "output_type": "stream",
          "text": [
            "*** DEBUG: Completed batch 30/100 ***\n"
          ]
        },
        {
          "metadata": {
            "tags": null
          },
          "name": "stderr",
          "output_type": "stream",
          "text": [
            "Epoch 3/50 [Train]:  44%|████▍     | 44/100 [00:14<00:20,  2.69it/s, Loss=39.9863]"
          ]
        },
        {
          "metadata": {
            "tags": null
          },
          "name": "stdout",
          "output_type": "stream",
          "text": [
            "*** DEBUG: Completed batch 40/100 ***\n"
          ]
        },
        {
          "metadata": {
            "tags": null
          },
          "name": "stderr",
          "output_type": "stream",
          "text": [
            "Epoch 3/50 [Train]:  56%|█████▌    | 56/100 [00:16<00:09,  4.82it/s, Loss=37.4981]"
          ]
        },
        {
          "metadata": {
            "tags": null
          },
          "name": "stdout",
          "output_type": "stream",
          "text": [
            "*** DEBUG: Completed batch 50/100 ***\n"
          ]
        },
        {
          "metadata": {
            "tags": null
          },
          "name": "stderr",
          "output_type": "stream",
          "text": [
            "Epoch 3/50 [Train]:  63%|██████▎   | 63/100 [00:18<00:07,  4.72it/s, Loss=38.2979]"
          ]
        },
        {
          "metadata": {
            "tags": null
          },
          "name": "stdout",
          "output_type": "stream",
          "text": [
            "*** DEBUG: Completed batch 60/100 ***\n"
          ]
        },
        {
          "metadata": {
            "tags": null
          },
          "name": "stderr",
          "output_type": "stream",
          "text": [
            "Epoch 3/50 [Train]:  70%|███████   | 70/100 [00:20<00:06,  4.68it/s, Loss=37.2142]"
          ]
        },
        {
          "metadata": {
            "tags": null
          },
          "name": "stdout",
          "output_type": "stream",
          "text": [
            "*** DEBUG: Completed batch 70/100 ***\n"
          ]
        },
        {
          "metadata": {
            "tags": null
          },
          "name": "stderr",
          "output_type": "stream",
          "text": [
            "Epoch 3/50 [Train]:  85%|████████▌ | 85/100 [00:23<00:03,  4.92it/s, Loss=35.4983]"
          ]
        },
        {
          "metadata": {
            "tags": null
          },
          "name": "stdout",
          "output_type": "stream",
          "text": [
            "*** DEBUG: Completed batch 80/100 ***\n"
          ]
        },
        {
          "metadata": {
            "tags": null
          },
          "name": "stderr",
          "output_type": "stream",
          "text": [
            "Epoch 3/50 [Train]:  93%|█████████▎| 93/100 [00:25<00:01,  5.14it/s, Loss=37.1980]"
          ]
        },
        {
          "metadata": {
            "tags": null
          },
          "name": "stdout",
          "output_type": "stream",
          "text": [
            "*** DEBUG: Completed batch 90/100 ***\n"
          ]
        },
        {
          "metadata": {
            "tags": null
          },
          "name": "stderr",
          "output_type": "stream",
          "text": [
            "Epoch 3/50 [Train]: 100%|██████████| 100/100 [00:26<00:00,  3.76it/s, Loss=34.4992]\n"
          ]
        },
        {
          "metadata": {
            "tags": null
          },
          "name": "stdout",
          "output_type": "stream",
          "text": [
            "*** DEBUG: Training epoch 3 complete, starting validation ***\n"
          ]
        },
        {
          "metadata": {
            "tags": null
          },
          "name": "stderr",
          "output_type": "stream",
          "text": [
            "Epoch 3/50 [Val]: 100%|██████████| 25/25 [00:06<00:00,  3.97it/s, Loss=41.2307]\n"
          ]
        },
        {
          "metadata": {
            "tags": null
          },
          "name": "stdout",
          "output_type": "stream",
          "text": [
            "Epoch 3/50:\n",
            "  Train MAPE: 39.2919%\n",
            "  Val MAPE: 40.6517%\n",
            "  LR: 0.000100\n",
            "--------------------------------------------------\n",
            "New best model saved: /content/drive/MyDrive/ThinkOnward/Models/best_model_adaptive.pth\n"
          ]
        },
        {
          "metadata": {
            "tags": null
          },
          "name": "stderr",
          "output_type": "stream",
          "text": [
            "Epoch 4/50 [Train]:   4%|▍         | 4/100 [00:02<00:45,  2.11it/s, Loss=33.1388]"
          ]
        },
        {
          "metadata": {
            "tags": null
          },
          "name": "stdout",
          "output_type": "stream",
          "text": [
            "*** DEBUG Batch 0: Input shape: torch.Size([16, 5, 32, 313]), Target shape: torch.Size([16, 300, 1259]) ***\n",
            "*** DEBUG: GPU memory before forward: 0.86GB ***\n",
            "*** DEBUG: Starting forward pass for batch 0 ***\n",
            "*** DEBUG: Forward pass complete, output shape: torch.Size([16, 1, 300, 1259]) ***\n",
            "*** DEBUG: Starting loss calculation ***\n",
            "*** DEBUG: Loss calculated: 35.1846, starting backward ***\n",
            "*** DEBUG: Backward complete, running optimizer step ***\n",
            "*** DEBUG: Batch 0 complete ***\n",
            "*** DEBUG: GPU memory after batch: 0.89GB ***\n",
            "*** DEBUG: Completed batch 0/100 ***\n",
            "*** DEBUG Batch 1: Input shape: torch.Size([16, 5, 32, 313]), Target shape: torch.Size([16, 300, 1259]) ***\n",
            "*** DEBUG: GPU memory before forward: 0.86GB ***\n",
            "*** DEBUG: Starting forward pass for batch 1 ***\n",
            "*** DEBUG: Forward pass complete, output shape: torch.Size([16, 1, 300, 1259]) ***\n",
            "*** DEBUG: Starting loss calculation ***\n",
            "*** DEBUG: Loss calculated: 37.4509, starting backward ***\n",
            "*** DEBUG: Backward complete, running optimizer step ***\n",
            "*** DEBUG: Batch 1 complete ***\n",
            "*** DEBUG: GPU memory after batch: 0.89GB ***\n",
            "*** DEBUG Batch 2: Input shape: torch.Size([16, 5, 32, 313]), Target shape: torch.Size([16, 300, 1259]) ***\n",
            "*** DEBUG: GPU memory before forward: 0.86GB ***\n",
            "*** DEBUG: Starting forward pass for batch 2 ***\n",
            "*** DEBUG: Forward pass complete, output shape: torch.Size([16, 1, 300, 1259]) ***\n",
            "*** DEBUG: Starting loss calculation ***\n",
            "*** DEBUG: Loss calculated: 34.7405, starting backward ***\n",
            "*** DEBUG: Backward complete, running optimizer step ***\n",
            "*** DEBUG: Batch 2 complete ***\n",
            "*** DEBUG: GPU memory after batch: 0.89GB ***\n"
          ]
        },
        {
          "metadata": {
            "tags": null
          },
          "name": "stderr",
          "output_type": "stream",
          "text": [
            "Epoch 4/50 [Train]:  15%|█▌        | 15/100 [00:04<00:17,  4.83it/s, Loss=34.6958]"
          ]
        },
        {
          "metadata": {
            "tags": null
          },
          "name": "stdout",
          "output_type": "stream",
          "text": [
            "*** DEBUG: Completed batch 10/100 ***\n"
          ]
        },
        {
          "metadata": {
            "tags": null
          },
          "name": "stderr",
          "output_type": "stream",
          "text": [
            "Epoch 4/50 [Train]:  22%|██▏       | 22/100 [00:06<00:17,  4.39it/s, Loss=31.4869]"
          ]
        },
        {
          "metadata": {
            "tags": null
          },
          "name": "stdout",
          "output_type": "stream",
          "text": [
            "*** DEBUG: Completed batch 20/100 ***\n"
          ]
        },
        {
          "metadata": {
            "tags": null
          },
          "name": "stderr",
          "output_type": "stream",
          "text": [
            "Epoch 4/50 [Train]:  32%|███▏      | 32/100 [00:10<00:18,  3.63it/s, Loss=33.1903]"
          ]
        },
        {
          "metadata": {
            "tags": null
          },
          "name": "stdout",
          "output_type": "stream",
          "text": [
            "*** DEBUG: Completed batch 30/100 ***\n"
          ]
        },
        {
          "metadata": {
            "tags": null
          },
          "name": "stderr",
          "output_type": "stream",
          "text": [
            "Epoch 4/50 [Train]:  45%|████▌     | 45/100 [00:14<00:13,  3.96it/s, Loss=31.8251]"
          ]
        },
        {
          "metadata": {
            "tags": null
          },
          "name": "stdout",
          "output_type": "stream",
          "text": [
            "*** DEBUG: Completed batch 40/100 ***\n"
          ]
        },
        {
          "metadata": {
            "tags": null
          },
          "name": "stderr",
          "output_type": "stream",
          "text": [
            "Epoch 4/50 [Train]:  53%|█████▎    | 53/100 [00:16<00:10,  4.57it/s, Loss=32.2925]"
          ]
        },
        {
          "metadata": {
            "tags": null
          },
          "name": "stdout",
          "output_type": "stream",
          "text": [
            "*** DEBUG: Completed batch 50/100 ***\n"
          ]
        },
        {
          "metadata": {
            "tags": null
          },
          "name": "stderr",
          "output_type": "stream",
          "text": [
            "Epoch 4/50 [Train]:  61%|██████    | 61/100 [00:18<00:08,  4.82it/s, Loss=31.4347]"
          ]
        },
        {
          "metadata": {
            "tags": null
          },
          "name": "stdout",
          "output_type": "stream",
          "text": [
            "*** DEBUG: Completed batch 60/100 ***\n"
          ]
        },
        {
          "metadata": {
            "tags": null
          },
          "name": "stderr",
          "output_type": "stream",
          "text": [
            "Epoch 4/50 [Train]:  69%|██████▉   | 69/100 [00:20<00:06,  4.96it/s, Loss=29.9745]"
          ]
        },
        {
          "metadata": {
            "tags": null
          },
          "name": "stdout",
          "output_type": "stream",
          "text": [
            "*** DEBUG: Completed batch 70/100 ***\n"
          ]
        },
        {
          "metadata": {
            "tags": null
          },
          "name": "stderr",
          "output_type": "stream",
          "text": [
            "Epoch 4/50 [Train]:  85%|████████▌ | 85/100 [00:23<00:02,  5.12it/s, Loss=28.9049]"
          ]
        },
        {
          "metadata": {
            "tags": null
          },
          "name": "stdout",
          "output_type": "stream",
          "text": [
            "*** DEBUG: Completed batch 80/100 ***\n"
          ]
        },
        {
          "metadata": {
            "tags": null
          },
          "name": "stderr",
          "output_type": "stream",
          "text": [
            "Epoch 4/50 [Train]:  93%|█████████▎| 93/100 [00:25<00:01,  5.16it/s, Loss=28.3135]"
          ]
        },
        {
          "metadata": {
            "tags": null
          },
          "name": "stdout",
          "output_type": "stream",
          "text": [
            "*** DEBUG: Completed batch 90/100 ***\n"
          ]
        },
        {
          "metadata": {
            "tags": null
          },
          "name": "stderr",
          "output_type": "stream",
          "text": [
            "Epoch 4/50 [Train]: 100%|██████████| 100/100 [00:26<00:00,  3.77it/s, Loss=28.0806]\n"
          ]
        },
        {
          "metadata": {
            "tags": null
          },
          "name": "stdout",
          "output_type": "stream",
          "text": [
            "*** DEBUG: Training epoch 4 complete, starting validation ***\n"
          ]
        },
        {
          "metadata": {
            "tags": null
          },
          "name": "stderr",
          "output_type": "stream",
          "text": [
            "Epoch 4/50 [Val]: 100%|██████████| 25/25 [00:06<00:00,  4.08it/s, Loss=40.6460]\n"
          ]
        },
        {
          "metadata": {
            "tags": null
          },
          "name": "stdout",
          "output_type": "stream",
          "text": [
            "Epoch 4/50:\n",
            "  Train MAPE: 31.8023%\n",
            "  Val MAPE: 40.2471%\n",
            "  LR: 0.000100\n",
            "--------------------------------------------------\n",
            "New best model saved: /content/drive/MyDrive/ThinkOnward/Models/best_model_adaptive.pth\n"
          ]
        },
        {
          "metadata": {
            "tags": null
          },
          "name": "stderr",
          "output_type": "stream",
          "text": [
            "Epoch 5/50 [Train]:   4%|▍         | 4/100 [00:02<00:44,  2.14it/s, Loss=28.4373]"
          ]
        },
        {
          "metadata": {
            "tags": null
          },
          "name": "stdout",
          "output_type": "stream",
          "text": [
            "*** DEBUG Batch 0: Input shape: torch.Size([16, 5, 32, 313]), Target shape: torch.Size([16, 300, 1259]) ***\n",
            "*** DEBUG: GPU memory before forward: 0.86GB ***\n",
            "*** DEBUG: Starting forward pass for batch 0 ***\n",
            "*** DEBUG: Forward pass complete, output shape: torch.Size([16, 1, 300, 1259]) ***\n",
            "*** DEBUG: Starting loss calculation ***\n",
            "*** DEBUG: Loss calculated: 29.3272, starting backward ***\n",
            "*** DEBUG: Backward complete, running optimizer step ***\n",
            "*** DEBUG: Batch 0 complete ***\n",
            "*** DEBUG: GPU memory after batch: 0.89GB ***\n",
            "*** DEBUG: Completed batch 0/100 ***\n",
            "*** DEBUG Batch 1: Input shape: torch.Size([16, 5, 32, 313]), Target shape: torch.Size([16, 300, 1259]) ***\n",
            "*** DEBUG: GPU memory before forward: 0.86GB ***\n",
            "*** DEBUG: Starting forward pass for batch 1 ***\n",
            "*** DEBUG: Forward pass complete, output shape: torch.Size([16, 1, 300, 1259]) ***\n",
            "*** DEBUG: Starting loss calculation ***\n",
            "*** DEBUG: Loss calculated: 28.8702, starting backward ***\n",
            "*** DEBUG: Backward complete, running optimizer step ***\n",
            "*** DEBUG: Batch 1 complete ***\n",
            "*** DEBUG: GPU memory after batch: 0.89GB ***\n",
            "*** DEBUG Batch 2: Input shape: torch.Size([16, 5, 32, 313]), Target shape: torch.Size([16, 300, 1259]) ***\n",
            "*** DEBUG: GPU memory before forward: 0.86GB ***\n",
            "*** DEBUG: Starting forward pass for batch 2 ***\n",
            "*** DEBUG: Forward pass complete, output shape: torch.Size([16, 1, 300, 1259]) ***\n",
            "*** DEBUG: Starting loss calculation ***\n",
            "*** DEBUG: Loss calculated: 26.5480, starting backward ***\n",
            "*** DEBUG: Backward complete, running optimizer step ***\n",
            "*** DEBUG: Batch 2 complete ***\n",
            "*** DEBUG: GPU memory after batch: 0.89GB ***\n"
          ]
        },
        {
          "metadata": {
            "tags": null
          },
          "name": "stderr",
          "output_type": "stream",
          "text": [
            "Epoch 5/50 [Train]:  14%|█▍        | 14/100 [00:04<00:19,  4.52it/s, Loss=27.3144]"
          ]
        },
        {
          "metadata": {
            "tags": null
          },
          "name": "stdout",
          "output_type": "stream",
          "text": [
            "*** DEBUG: Completed batch 10/100 ***\n"
          ]
        },
        {
          "metadata": {
            "tags": null
          },
          "name": "stderr",
          "output_type": "stream",
          "text": [
            "Epoch 5/50 [Train]:  21%|██        | 21/100 [00:06<00:17,  4.57it/s, Loss=27.6594]"
          ]
        },
        {
          "metadata": {
            "tags": null
          },
          "name": "stdout",
          "output_type": "stream",
          "text": [
            "*** DEBUG: Completed batch 20/100 ***\n"
          ]
        },
        {
          "metadata": {
            "tags": null
          },
          "name": "stderr",
          "output_type": "stream",
          "text": [
            "Epoch 5/50 [Train]:  29%|██▉       | 29/100 [00:08<00:14,  4.92it/s, Loss=27.8126]"
          ]
        },
        {
          "metadata": {
            "tags": null
          },
          "name": "stdout",
          "output_type": "stream",
          "text": [
            "*** DEBUG: Completed batch 30/100 ***\n"
          ]
        },
        {
          "metadata": {
            "tags": null
          },
          "name": "stderr",
          "output_type": "stream",
          "text": [
            "Epoch 5/50 [Train]:  44%|████▍     | 44/100 [00:14<00:20,  2.75it/s, Loss=26.4655]"
          ]
        },
        {
          "metadata": {
            "tags": null
          },
          "name": "stdout",
          "output_type": "stream",
          "text": [
            "*** DEBUG: Completed batch 40/100 ***\n"
          ]
        },
        {
          "metadata": {
            "tags": null
          },
          "name": "stderr",
          "output_type": "stream",
          "text": [
            "Epoch 5/50 [Train]:  53%|█████▎    | 53/100 [00:16<00:12,  3.72it/s, Loss=23.9835]"
          ]
        },
        {
          "metadata": {
            "tags": null
          },
          "name": "stdout",
          "output_type": "stream",
          "text": [
            "*** DEBUG: Completed batch 50/100 ***\n"
          ]
        },
        {
          "metadata": {
            "tags": null
          },
          "name": "stderr",
          "output_type": "stream",
          "text": [
            "Epoch 5/50 [Train]:  61%|██████    | 61/100 [00:18<00:08,  4.37it/s, Loss=24.8348]"
          ]
        },
        {
          "metadata": {
            "tags": null
          },
          "name": "stdout",
          "output_type": "stream",
          "text": [
            "*** DEBUG: Completed batch 60/100 ***\n"
          ]
        },
        {
          "metadata": {
            "tags": null
          },
          "name": "stderr",
          "output_type": "stream",
          "text": [
            "Epoch 5/50 [Train]:  69%|██████▉   | 69/100 [00:20<00:06,  4.74it/s, Loss=24.2110]"
          ]
        },
        {
          "metadata": {
            "tags": null
          },
          "name": "stdout",
          "output_type": "stream",
          "text": [
            "*** DEBUG: Completed batch 70/100 ***\n"
          ]
        },
        {
          "metadata": {
            "tags": null
          },
          "name": "stderr",
          "output_type": "stream",
          "text": [
            "Epoch 5/50 [Train]:  87%|████████▋ | 87/100 [00:23<00:02,  5.25it/s, Loss=24.8089]"
          ]
        },
        {
          "metadata": {
            "tags": null
          },
          "name": "stdout",
          "output_type": "stream",
          "text": [
            "*** DEBUG: Completed batch 80/100 ***\n"
          ]
        },
        {
          "metadata": {
            "tags": null
          },
          "name": "stderr",
          "output_type": "stream",
          "text": [
            "Epoch 5/50 [Train]:  94%|█████████▍| 94/100 [00:25<00:01,  4.91it/s, Loss=22.3625]"
          ]
        },
        {
          "metadata": {
            "tags": null
          },
          "name": "stdout",
          "output_type": "stream",
          "text": [
            "*** DEBUG: Completed batch 90/100 ***\n"
          ]
        },
        {
          "metadata": {
            "tags": null
          },
          "name": "stderr",
          "output_type": "stream",
          "text": [
            "Epoch 5/50 [Train]: 100%|██████████| 100/100 [00:26<00:00,  3.79it/s, Loss=22.9533]\n"
          ]
        },
        {
          "metadata": {
            "tags": null
          },
          "name": "stdout",
          "output_type": "stream",
          "text": [
            "*** DEBUG: Training epoch 5 complete, starting validation ***\n"
          ]
        },
        {
          "metadata": {
            "tags": null
          },
          "name": "stderr",
          "output_type": "stream",
          "text": [
            "Epoch 5/50 [Val]: 100%|██████████| 25/25 [00:06<00:00,  4.13it/s, Loss=36.1601]\n"
          ]
        },
        {
          "metadata": {
            "tags": null
          },
          "name": "stdout",
          "output_type": "stream",
          "text": [
            "Epoch 5/50:\n",
            "  Train MAPE: 25.3150%\n",
            "  Val MAPE: 36.1919%\n",
            "  LR: 0.000100\n",
            "--------------------------------------------------\n",
            "New best model saved: /content/drive/MyDrive/ThinkOnward/Models/best_model_adaptive.pth\n"
          ]
        },
        {
          "metadata": {
            "tags": null
          },
          "name": "stderr",
          "output_type": "stream",
          "text": [
            "Epoch 6/50 [Train]:   4%|▍         | 4/100 [00:02<00:46,  2.06it/s, Loss=21.4992]"
          ]
        },
        {
          "metadata": {
            "tags": null
          },
          "name": "stdout",
          "output_type": "stream",
          "text": [
            "*** DEBUG Batch 0: Input shape: torch.Size([16, 5, 32, 313]), Target shape: torch.Size([16, 300, 1259]) ***\n",
            "*** DEBUG: GPU memory before forward: 0.86GB ***\n",
            "*** DEBUG: Starting forward pass for batch 0 ***\n",
            "*** DEBUG: Forward pass complete, output shape: torch.Size([16, 1, 300, 1259]) ***\n",
            "*** DEBUG: Starting loss calculation ***\n",
            "*** DEBUG: Loss calculated: 22.4590, starting backward ***\n",
            "*** DEBUG: Backward complete, running optimizer step ***\n",
            "*** DEBUG: Batch 0 complete ***\n",
            "*** DEBUG: GPU memory after batch: 0.89GB ***\n",
            "*** DEBUG: Completed batch 0/100 ***\n",
            "*** DEBUG Batch 1: Input shape: torch.Size([16, 5, 32, 313]), Target shape: torch.Size([16, 300, 1259]) ***\n",
            "*** DEBUG: GPU memory before forward: 0.86GB ***\n",
            "*** DEBUG: Starting forward pass for batch 1 ***\n",
            "*** DEBUG: Forward pass complete, output shape: torch.Size([16, 1, 300, 1259]) ***\n",
            "*** DEBUG: Starting loss calculation ***\n",
            "*** DEBUG: Loss calculated: 21.5767, starting backward ***\n",
            "*** DEBUG: Backward complete, running optimizer step ***\n",
            "*** DEBUG: Batch 1 complete ***\n",
            "*** DEBUG: GPU memory after batch: 0.89GB ***\n",
            "*** DEBUG Batch 2: Input shape: torch.Size([16, 5, 32, 313]), Target shape: torch.Size([16, 300, 1259]) ***\n",
            "*** DEBUG: GPU memory before forward: 0.86GB ***\n",
            "*** DEBUG: Starting forward pass for batch 2 ***\n",
            "*** DEBUG: Forward pass complete, output shape: torch.Size([16, 1, 300, 1259]) ***\n",
            "*** DEBUG: Starting loss calculation ***\n",
            "*** DEBUG: Loss calculated: 22.1393, starting backward ***\n",
            "*** DEBUG: Backward complete, running optimizer step ***\n",
            "*** DEBUG: Batch 2 complete ***\n",
            "*** DEBUG: GPU memory after batch: 0.89GB ***\n"
          ]
        },
        {
          "metadata": {
            "tags": null
          },
          "name": "stderr",
          "output_type": "stream",
          "text": [
            "Epoch 6/50 [Train]:  15%|█▌        | 15/100 [00:04<00:17,  4.85it/s, Loss=21.4643]"
          ]
        },
        {
          "metadata": {
            "tags": null
          },
          "name": "stdout",
          "output_type": "stream",
          "text": [
            "*** DEBUG: Completed batch 10/100 ***\n"
          ]
        },
        {
          "metadata": {
            "tags": null
          },
          "name": "stderr",
          "output_type": "stream",
          "text": [
            "Epoch 6/50 [Train]:  22%|██▏       | 22/100 [00:06<00:16,  4.62it/s, Loss=21.0605]"
          ]
        },
        {
          "metadata": {
            "tags": null
          },
          "name": "stdout",
          "output_type": "stream",
          "text": [
            "*** DEBUG: Completed batch 20/100 ***\n"
          ]
        },
        {
          "metadata": {
            "tags": null
          },
          "name": "stderr",
          "output_type": "stream",
          "text": [
            "Epoch 6/50 [Train]:  29%|██▉       | 29/100 [00:08<00:15,  4.58it/s, Loss=21.9180]"
          ]
        },
        {
          "metadata": {
            "tags": null
          },
          "name": "stdout",
          "output_type": "stream",
          "text": [
            "*** DEBUG: Completed batch 30/100 ***\n"
          ]
        },
        {
          "metadata": {
            "tags": null
          },
          "name": "stderr",
          "output_type": "stream",
          "text": [
            "Epoch 6/50 [Train]:  44%|████▍     | 44/100 [00:14<00:20,  2.71it/s, Loss=20.4035]"
          ]
        },
        {
          "metadata": {
            "tags": null
          },
          "name": "stdout",
          "output_type": "stream",
          "text": [
            "*** DEBUG: Completed batch 40/100 ***\n"
          ]
        },
        {
          "metadata": {
            "tags": null
          },
          "name": "stderr",
          "output_type": "stream",
          "text": [
            "Epoch 6/50 [Train]:  54%|█████▍    | 54/100 [00:16<00:11,  3.96it/s, Loss=17.9993]"
          ]
        },
        {
          "metadata": {
            "tags": null
          },
          "name": "stdout",
          "output_type": "stream",
          "text": [
            "*** DEBUG: Completed batch 50/100 ***\n"
          ]
        },
        {
          "metadata": {
            "tags": null
          },
          "name": "stderr",
          "output_type": "stream",
          "text": [
            "Epoch 6/50 [Train]:  61%|██████    | 61/100 [00:18<00:09,  4.23it/s, Loss=17.0774]"
          ]
        },
        {
          "metadata": {
            "tags": null
          },
          "name": "stdout",
          "output_type": "stream",
          "text": [
            "*** DEBUG: Completed batch 60/100 ***\n"
          ]
        },
        {
          "metadata": {
            "tags": null
          },
          "name": "stderr",
          "output_type": "stream",
          "text": [
            "Epoch 6/50 [Train]:  69%|██████▉   | 69/100 [00:20<00:06,  4.74it/s, Loss=18.3724]"
          ]
        },
        {
          "metadata": {
            "tags": null
          },
          "name": "stdout",
          "output_type": "stream",
          "text": [
            "*** DEBUG: Completed batch 70/100 ***\n"
          ]
        },
        {
          "metadata": {
            "tags": null
          },
          "name": "stderr",
          "output_type": "stream",
          "text": [
            "Epoch 6/50 [Train]:  84%|████████▍ | 84/100 [00:23<00:03,  4.70it/s, Loss=18.7177]"
          ]
        },
        {
          "metadata": {
            "tags": null
          },
          "name": "stdout",
          "output_type": "stream",
          "text": [
            "*** DEBUG: Completed batch 80/100 ***\n"
          ]
        },
        {
          "metadata": {
            "tags": null
          },
          "name": "stderr",
          "output_type": "stream",
          "text": [
            "Epoch 6/50 [Train]:  95%|█████████▌| 95/100 [00:25<00:00,  5.35it/s, Loss=17.3963]"
          ]
        },
        {
          "metadata": {
            "tags": null
          },
          "name": "stdout",
          "output_type": "stream",
          "text": [
            "*** DEBUG: Completed batch 90/100 ***\n"
          ]
        },
        {
          "metadata": {
            "tags": null
          },
          "name": "stderr",
          "output_type": "stream",
          "text": [
            "Epoch 6/50 [Train]: 100%|██████████| 100/100 [00:26<00:00,  3.79it/s, Loss=14.6664]\n"
          ]
        },
        {
          "metadata": {
            "tags": null
          },
          "name": "stdout",
          "output_type": "stream",
          "text": [
            "*** DEBUG: Training epoch 6 complete, starting validation ***\n"
          ]
        },
        {
          "metadata": {
            "tags": null
          },
          "name": "stderr",
          "output_type": "stream",
          "text": [
            "Epoch 6/50 [Val]: 100%|██████████| 25/25 [00:06<00:00,  4.06it/s, Loss=22.7946]\n"
          ]
        },
        {
          "metadata": {
            "tags": null
          },
          "name": "stdout",
          "output_type": "stream",
          "text": [
            "Epoch 6/50:\n",
            "  Train MAPE: 19.0893%\n",
            "  Val MAPE: 22.8024%\n",
            "  LR: 0.000100\n",
            "--------------------------------------------------\n",
            "New best model saved: /content/drive/MyDrive/ThinkOnward/Models/best_model_adaptive.pth\n"
          ]
        },
        {
          "metadata": {
            "tags": null
          },
          "name": "stderr",
          "output_type": "stream",
          "text": [
            "Epoch 7/50 [Train]:   5%|▌         | 5/100 [00:02<00:37,  2.56it/s, Loss=16.3677]"
          ]
        },
        {
          "metadata": {
            "tags": null
          },
          "name": "stdout",
          "output_type": "stream",
          "text": [
            "*** DEBUG Batch 0: Input shape: torch.Size([16, 5, 32, 313]), Target shape: torch.Size([16, 300, 1259]) ***\n",
            "*** DEBUG: GPU memory before forward: 0.86GB ***\n",
            "*** DEBUG: Starting forward pass for batch 0 ***\n",
            "*** DEBUG: Forward pass complete, output shape: torch.Size([16, 1, 300, 1259]) ***\n",
            "*** DEBUG: Starting loss calculation ***\n",
            "*** DEBUG: Loss calculated: 14.5119, starting backward ***\n",
            "*** DEBUG: Backward complete, running optimizer step ***\n",
            "*** DEBUG: Batch 0 complete ***\n",
            "*** DEBUG: GPU memory after batch: 0.89GB ***\n",
            "*** DEBUG: Completed batch 0/100 ***\n",
            "*** DEBUG Batch 1: Input shape: torch.Size([16, 5, 32, 313]), Target shape: torch.Size([16, 300, 1259]) ***\n",
            "*** DEBUG: GPU memory before forward: 0.86GB ***\n",
            "*** DEBUG: Starting forward pass for batch 1 ***\n",
            "*** DEBUG: Forward pass complete, output shape: torch.Size([16, 1, 300, 1259]) ***\n",
            "*** DEBUG: Starting loss calculation ***\n",
            "*** DEBUG: Loss calculated: 15.9981, starting backward ***\n",
            "*** DEBUG: Backward complete, running optimizer step ***\n",
            "*** DEBUG: Batch 1 complete ***\n",
            "*** DEBUG: GPU memory after batch: 0.89GB ***\n",
            "*** DEBUG Batch 2: Input shape: torch.Size([16, 5, 32, 313]), Target shape: torch.Size([16, 300, 1259]) ***\n",
            "*** DEBUG: GPU memory before forward: 0.86GB ***\n",
            "*** DEBUG: Starting forward pass for batch 2 ***\n",
            "*** DEBUG: Forward pass complete, output shape: torch.Size([16, 1, 300, 1259]) ***\n",
            "*** DEBUG: Starting loss calculation ***\n",
            "*** DEBUG: Loss calculated: 17.0160, starting backward ***\n",
            "*** DEBUG: Backward complete, running optimizer step ***\n",
            "*** DEBUG: Batch 2 complete ***\n",
            "*** DEBUG: GPU memory after batch: 0.89GB ***\n"
          ]
        },
        {
          "metadata": {
            "tags": null
          },
          "name": "stderr",
          "output_type": "stream",
          "text": [
            "Epoch 7/50 [Train]:  13%|█▎        | 13/100 [00:04<00:20,  4.20it/s, Loss=16.3423]"
          ]
        },
        {
          "metadata": {
            "tags": null
          },
          "name": "stdout",
          "output_type": "stream",
          "text": [
            "*** DEBUG: Completed batch 10/100 ***\n"
          ]
        },
        {
          "metadata": {
            "tags": null
          },
          "name": "stderr",
          "output_type": "stream",
          "text": [
            "Epoch 7/50 [Train]:  21%|██        | 21/100 [00:06<00:16,  4.66it/s, Loss=15.9589]"
          ]
        },
        {
          "metadata": {
            "tags": null
          },
          "name": "stdout",
          "output_type": "stream",
          "text": [
            "*** DEBUG: Completed batch 20/100 ***\n"
          ]
        },
        {
          "metadata": {
            "tags": null
          },
          "name": "stderr",
          "output_type": "stream",
          "text": [
            "Epoch 7/50 [Train]:  29%|██▉       | 29/100 [00:08<00:14,  4.89it/s, Loss=13.0560]"
          ]
        },
        {
          "metadata": {
            "tags": null
          },
          "name": "stdout",
          "output_type": "stream",
          "text": [
            "*** DEBUG: Completed batch 30/100 ***\n"
          ]
        },
        {
          "metadata": {
            "tags": null
          },
          "name": "stderr",
          "output_type": "stream",
          "text": [
            "Epoch 7/50 [Train]:  45%|████▌     | 45/100 [00:14<00:18,  2.96it/s, Loss=12.1603]"
          ]
        },
        {
          "metadata": {
            "tags": null
          },
          "name": "stdout",
          "output_type": "stream",
          "text": [
            "*** DEBUG: Completed batch 40/100 ***\n"
          ]
        },
        {
          "metadata": {
            "tags": null
          },
          "name": "stderr",
          "output_type": "stream",
          "text": [
            "Epoch 7/50 [Train]:  55%|█████▌    | 55/100 [00:16<00:10,  4.24it/s, Loss=11.9989]"
          ]
        },
        {
          "metadata": {
            "tags": null
          },
          "name": "stdout",
          "output_type": "stream",
          "text": [
            "*** DEBUG: Completed batch 50/100 ***\n"
          ]
        },
        {
          "metadata": {
            "tags": null
          },
          "name": "stderr",
          "output_type": "stream",
          "text": [
            "Epoch 7/50 [Train]:  62%|██████▏   | 62/100 [00:18<00:08,  4.49it/s, Loss=13.0005]"
          ]
        },
        {
          "metadata": {
            "tags": null
          },
          "name": "stdout",
          "output_type": "stream",
          "text": [
            "*** DEBUG: Completed batch 60/100 ***\n"
          ]
        },
        {
          "metadata": {
            "tags": null
          },
          "name": "stderr",
          "output_type": "stream",
          "text": [
            "Epoch 7/50 [Train]:  69%|██████▉   | 69/100 [00:19<00:06,  4.60it/s, Loss=12.3436]"
          ]
        },
        {
          "metadata": {
            "tags": null
          },
          "name": "stdout",
          "output_type": "stream",
          "text": [
            "*** DEBUG: Completed batch 70/100 ***\n"
          ]
        },
        {
          "metadata": {
            "tags": null
          },
          "name": "stderr",
          "output_type": "stream",
          "text": [
            "Epoch 7/50 [Train]:  85%|████████▌ | 85/100 [00:23<00:03,  4.94it/s, Loss=10.0883]"
          ]
        },
        {
          "metadata": {
            "tags": null
          },
          "name": "stdout",
          "output_type": "stream",
          "text": [
            "*** DEBUG: Completed batch 80/100 ***\n"
          ]
        },
        {
          "metadata": {
            "tags": null
          },
          "name": "stderr",
          "output_type": "stream",
          "text": [
            "Epoch 7/50 [Train]:  93%|█████████▎| 93/100 [00:25<00:01,  5.15it/s, Loss=11.1178]"
          ]
        },
        {
          "metadata": {
            "tags": null
          },
          "name": "stdout",
          "output_type": "stream",
          "text": [
            "*** DEBUG: Completed batch 90/100 ***\n"
          ]
        },
        {
          "metadata": {
            "tags": null
          },
          "name": "stderr",
          "output_type": "stream",
          "text": [
            "Epoch 7/50 [Train]: 100%|██████████| 100/100 [00:26<00:00,  3.78it/s, Loss=11.9008]\n"
          ]
        },
        {
          "metadata": {
            "tags": null
          },
          "name": "stdout",
          "output_type": "stream",
          "text": [
            "*** DEBUG: Training epoch 7 complete, starting validation ***\n"
          ]
        },
        {
          "metadata": {
            "tags": null
          },
          "name": "stderr",
          "output_type": "stream",
          "text": [
            "Epoch 7/50 [Val]: 100%|██████████| 25/25 [00:06<00:00,  4.11it/s, Loss=34.3362]\n"
          ]
        },
        {
          "metadata": {
            "tags": null
          },
          "name": "stdout",
          "output_type": "stream",
          "text": [
            "Epoch 7/50:\n",
            "  Train MAPE: 13.3508%\n",
            "  Val MAPE: 34.3157%\n",
            "  LR: 0.000100\n",
            "--------------------------------------------------\n"
          ]
        },
        {
          "metadata": {
            "tags": null
          },
          "name": "stderr",
          "output_type": "stream",
          "text": [
            "Epoch 8/50 [Train]:   4%|▍         | 4/100 [00:02<00:41,  2.32it/s, Loss=10.8061]"
          ]
        },
        {
          "metadata": {
            "tags": null
          },
          "name": "stdout",
          "output_type": "stream",
          "text": [
            "*** DEBUG Batch 0: Input shape: torch.Size([16, 5, 32, 313]), Target shape: torch.Size([16, 300, 1259]) ***\n",
            "*** DEBUG: GPU memory before forward: 0.86GB ***\n",
            "*** DEBUG: Starting forward pass for batch 0 ***\n",
            "*** DEBUG: Forward pass complete, output shape: torch.Size([16, 1, 300, 1259]) ***\n",
            "*** DEBUG: Starting loss calculation ***\n",
            "*** DEBUG: Loss calculated: 9.1436, starting backward ***\n",
            "*** DEBUG: Backward complete, running optimizer step ***\n",
            "*** DEBUG: Batch 0 complete ***\n",
            "*** DEBUG: GPU memory after batch: 0.89GB ***\n",
            "*** DEBUG: Completed batch 0/100 ***\n",
            "*** DEBUG Batch 1: Input shape: torch.Size([16, 5, 32, 313]), Target shape: torch.Size([16, 300, 1259]) ***\n",
            "*** DEBUG: GPU memory before forward: 0.86GB ***\n",
            "*** DEBUG: Starting forward pass for batch 1 ***\n",
            "*** DEBUG: Forward pass complete, output shape: torch.Size([16, 1, 300, 1259]) ***\n",
            "*** DEBUG: Starting loss calculation ***\n",
            "*** DEBUG: Loss calculated: 10.5808, starting backward ***\n",
            "*** DEBUG: Backward complete, running optimizer step ***\n",
            "*** DEBUG: Batch 1 complete ***\n",
            "*** DEBUG: GPU memory after batch: 0.89GB ***\n",
            "*** DEBUG Batch 2: Input shape: torch.Size([16, 5, 32, 313]), Target shape: torch.Size([16, 300, 1259]) ***\n",
            "*** DEBUG: GPU memory before forward: 0.86GB ***\n",
            "*** DEBUG: Starting forward pass for batch 2 ***\n",
            "*** DEBUG: Forward pass complete, output shape: torch.Size([16, 1, 300, 1259]) ***\n",
            "*** DEBUG: Starting loss calculation ***\n",
            "*** DEBUG: Loss calculated: 10.3522, starting backward ***\n",
            "*** DEBUG: Backward complete, running optimizer step ***\n",
            "*** DEBUG: Batch 2 complete ***\n",
            "*** DEBUG: GPU memory after batch: 0.89GB ***\n"
          ]
        },
        {
          "metadata": {
            "tags": null
          },
          "name": "stderr",
          "output_type": "stream",
          "text": [
            "Epoch 8/50 [Train]:  15%|█▌        | 15/100 [00:04<00:17,  4.93it/s, Loss=9.9326] "
          ]
        },
        {
          "metadata": {
            "tags": null
          },
          "name": "stdout",
          "output_type": "stream",
          "text": [
            "*** DEBUG: Completed batch 10/100 ***\n"
          ]
        },
        {
          "metadata": {
            "tags": null
          },
          "name": "stderr",
          "output_type": "stream",
          "text": [
            "Epoch 8/50 [Train]:  22%|██▏       | 22/100 [00:06<00:16,  4.74it/s, Loss=8.5801]"
          ]
        },
        {
          "metadata": {
            "tags": null
          },
          "name": "stdout",
          "output_type": "stream",
          "text": [
            "*** DEBUG: Completed batch 20/100 ***\n"
          ]
        },
        {
          "metadata": {
            "tags": null
          },
          "name": "stderr",
          "output_type": "stream",
          "text": [
            "Epoch 8/50 [Train]:  31%|███       | 31/100 [00:07<00:11,  5.88it/s, Loss=8.8822]"
          ]
        },
        {
          "metadata": {
            "tags": null
          },
          "name": "stdout",
          "output_type": "stream",
          "text": [
            "*** DEBUG: Completed batch 30/100 ***\n"
          ]
        },
        {
          "metadata": {
            "tags": null
          },
          "name": "stderr",
          "output_type": "stream",
          "text": [
            "Epoch 8/50 [Train]:  41%|████      | 41/100 [00:11<00:17,  3.45it/s, Loss=8.1692]"
          ]
        },
        {
          "metadata": {
            "tags": null
          },
          "name": "stdout",
          "output_type": "stream",
          "text": [
            "*** DEBUG: Completed batch 40/100 ***\n"
          ]
        },
        {
          "metadata": {
            "tags": null
          },
          "name": "stderr",
          "output_type": "stream",
          "text": [
            "Epoch 8/50 [Train]:  55%|█████▌    | 55/100 [00:13<00:07,  6.01it/s, Loss=8.7503]"
          ]
        },
        {
          "metadata": {
            "tags": null
          },
          "name": "stdout",
          "output_type": "stream",
          "text": [
            "*** DEBUG: Completed batch 50/100 ***\n"
          ]
        },
        {
          "metadata": {
            "tags": null
          },
          "name": "stderr",
          "output_type": "stream",
          "text": [
            "Epoch 8/50 [Train]:  63%|██████▎   | 63/100 [00:15<00:06,  6.06it/s, Loss=6.1588]"
          ]
        },
        {
          "metadata": {
            "tags": null
          },
          "name": "stdout",
          "output_type": "stream",
          "text": [
            "*** DEBUG: Completed batch 60/100 ***\n"
          ]
        },
        {
          "metadata": {
            "tags": null
          },
          "name": "stderr",
          "output_type": "stream",
          "text": [
            "Epoch 8/50 [Train]:  71%|███████   | 71/100 [00:17<00:04,  6.12it/s, Loss=8.3929]"
          ]
        },
        {
          "metadata": {
            "tags": null
          },
          "name": "stdout",
          "output_type": "stream",
          "text": [
            "*** DEBUG: Completed batch 70/100 ***\n"
          ]
        },
        {
          "metadata": {
            "tags": null
          },
          "name": "stderr",
          "output_type": "stream",
          "text": [
            "Epoch 8/50 [Train]:  81%|████████  | 81/100 [00:20<00:05,  3.54it/s, Loss=7.4494]"
          ]
        },
        {
          "metadata": {
            "tags": null
          },
          "name": "stdout",
          "output_type": "stream",
          "text": [
            "*** DEBUG: Completed batch 80/100 ***\n"
          ]
        },
        {
          "metadata": {
            "tags": null
          },
          "name": "stderr",
          "output_type": "stream",
          "text": [
            "Epoch 8/50 [Train]:  95%|█████████▌| 95/100 [00:22<00:00,  6.40it/s, Loss=5.5054]"
          ]
        },
        {
          "metadata": {
            "tags": null
          },
          "name": "stdout",
          "output_type": "stream",
          "text": [
            "*** DEBUG: Completed batch 90/100 ***\n"
          ]
        },
        {
          "metadata": {
            "tags": null
          },
          "name": "stderr",
          "output_type": "stream",
          "text": [
            "Epoch 8/50 [Train]: 100%|██████████| 100/100 [00:23<00:00,  4.22it/s, Loss=7.2818]\n"
          ]
        },
        {
          "metadata": {
            "tags": null
          },
          "name": "stdout",
          "output_type": "stream",
          "text": [
            "*** DEBUG: Training epoch 8 complete, starting validation ***\n"
          ]
        },
        {
          "metadata": {
            "tags": null
          },
          "name": "stderr",
          "output_type": "stream",
          "text": [
            "Epoch 8/50 [Val]: 100%|██████████| 25/25 [00:06<00:00,  4.09it/s, Loss=36.3469]\n"
          ]
        },
        {
          "metadata": {
            "tags": null
          },
          "name": "stdout",
          "output_type": "stream",
          "text": [
            "Epoch 8/50:\n",
            "  Train MAPE: 8.0884%\n",
            "  Val MAPE: 36.5023%\n",
            "  LR: 0.000100\n",
            "--------------------------------------------------\n"
          ]
        },
        {
          "metadata": {
            "tags": null
          },
          "name": "stderr",
          "output_type": "stream",
          "text": [
            "Epoch 9/50 [Train]:   4%|▍         | 4/100 [00:02<00:40,  2.40it/s, Loss=5.3459]"
          ]
        },
        {
          "metadata": {
            "tags": null
          },
          "name": "stdout",
          "output_type": "stream",
          "text": [
            "*** DEBUG Batch 0: Input shape: torch.Size([16, 5, 32, 313]), Target shape: torch.Size([16, 300, 1259]) ***\n",
            "*** DEBUG: GPU memory before forward: 0.86GB ***\n",
            "*** DEBUG: Starting forward pass for batch 0 ***\n",
            "*** DEBUG: Forward pass complete, output shape: torch.Size([16, 1, 300, 1259]) ***\n",
            "*** DEBUG: Starting loss calculation ***\n",
            "*** DEBUG: Loss calculated: 5.0909, starting backward ***\n",
            "*** DEBUG: Backward complete, running optimizer step ***\n",
            "*** DEBUG: Batch 0 complete ***\n",
            "*** DEBUG: GPU memory after batch: 0.89GB ***\n",
            "*** DEBUG: Completed batch 0/100 ***\n",
            "*** DEBUG Batch 1: Input shape: torch.Size([16, 5, 32, 313]), Target shape: torch.Size([16, 300, 1259]) ***\n",
            "*** DEBUG: GPU memory before forward: 0.86GB ***\n",
            "*** DEBUG: Starting forward pass for batch 1 ***\n",
            "*** DEBUG: Forward pass complete, output shape: torch.Size([16, 1, 300, 1259]) ***\n",
            "*** DEBUG: Starting loss calculation ***\n",
            "*** DEBUG: Loss calculated: 5.3976, starting backward ***\n",
            "*** DEBUG: Backward complete, running optimizer step ***\n",
            "*** DEBUG: Batch 1 complete ***\n",
            "*** DEBUG: GPU memory after batch: 0.89GB ***\n",
            "*** DEBUG Batch 2: Input shape: torch.Size([16, 5, 32, 313]), Target shape: torch.Size([16, 300, 1259]) ***\n",
            "*** DEBUG: GPU memory before forward: 0.86GB ***\n",
            "*** DEBUG: Starting forward pass for batch 2 ***\n",
            "*** DEBUG: Forward pass complete, output shape: torch.Size([16, 1, 300, 1259]) ***\n",
            "*** DEBUG: Starting loss calculation ***\n",
            "*** DEBUG: Loss calculated: 6.0664, starting backward ***\n",
            "*** DEBUG: Backward complete, running optimizer step ***\n",
            "*** DEBUG: Batch 2 complete ***\n",
            "*** DEBUG: GPU memory after batch: 0.89GB ***\n"
          ]
        },
        {
          "metadata": {
            "tags": null
          },
          "name": "stderr",
          "output_type": "stream",
          "text": [
            "Epoch 9/50 [Train]:  15%|█▌        | 15/100 [00:04<00:16,  5.01it/s, Loss=5.5342]"
          ]
        },
        {
          "metadata": {
            "tags": null
          },
          "name": "stdout",
          "output_type": "stream",
          "text": [
            "*** DEBUG: Completed batch 10/100 ***\n"
          ]
        },
        {
          "metadata": {
            "tags": null
          },
          "name": "stderr",
          "output_type": "stream",
          "text": [
            "Epoch 9/50 [Train]:  22%|██▏       | 22/100 [00:05<00:16,  4.75it/s, Loss=5.4704]"
          ]
        },
        {
          "metadata": {
            "tags": null
          },
          "name": "stdout",
          "output_type": "stream",
          "text": [
            "*** DEBUG: Completed batch 20/100 ***\n"
          ]
        },
        {
          "metadata": {
            "tags": null
          },
          "name": "stderr",
          "output_type": "stream",
          "text": [
            "Epoch 9/50 [Train]:  31%|███       | 31/100 [00:07<00:11,  5.95it/s, Loss=5.4949]"
          ]
        },
        {
          "metadata": {
            "tags": null
          },
          "name": "stdout",
          "output_type": "stream",
          "text": [
            "*** DEBUG: Completed batch 30/100 ***\n"
          ]
        },
        {
          "metadata": {
            "tags": null
          },
          "name": "stderr",
          "output_type": "stream",
          "text": [
            "Epoch 9/50 [Train]:  44%|████▍     | 44/100 [00:11<00:12,  4.50it/s, Loss=4.1314]"
          ]
        },
        {
          "metadata": {
            "tags": null
          },
          "name": "stdout",
          "output_type": "stream",
          "text": [
            "*** DEBUG: Completed batch 40/100 ***\n"
          ]
        },
        {
          "metadata": {
            "tags": null
          },
          "name": "stderr",
          "output_type": "stream",
          "text": [
            "Epoch 9/50 [Train]:  54%|█████▍    | 54/100 [00:13<00:09,  5.02it/s, Loss=4.7987]"
          ]
        },
        {
          "metadata": {
            "tags": null
          },
          "name": "stdout",
          "output_type": "stream",
          "text": [
            "*** DEBUG: Completed batch 50/100 ***\n"
          ]
        },
        {
          "metadata": {
            "tags": null
          },
          "name": "stderr",
          "output_type": "stream",
          "text": [
            "Epoch 9/50 [Train]:  63%|██████▎   | 63/100 [00:15<00:06,  5.95it/s, Loss=4.8845]"
          ]
        },
        {
          "metadata": {
            "tags": null
          },
          "name": "stdout",
          "output_type": "stream",
          "text": [
            "*** DEBUG: Completed batch 60/100 ***\n"
          ]
        },
        {
          "metadata": {
            "tags": null
          },
          "name": "stderr",
          "output_type": "stream",
          "text": [
            "Epoch 9/50 [Train]:  71%|███████   | 71/100 [00:17<00:04,  6.20it/s, Loss=4.2143]"
          ]
        },
        {
          "metadata": {
            "tags": null
          },
          "name": "stdout",
          "output_type": "stream",
          "text": [
            "*** DEBUG: Completed batch 70/100 ***\n"
          ]
        },
        {
          "metadata": {
            "tags": null
          },
          "name": "stderr",
          "output_type": "stream",
          "text": [
            "Epoch 9/50 [Train]:  83%|████████▎ | 83/100 [00:20<00:04,  3.88it/s, Loss=4.6107]"
          ]
        },
        {
          "metadata": {
            "tags": null
          },
          "name": "stdout",
          "output_type": "stream",
          "text": [
            "*** DEBUG: Completed batch 80/100 ***\n"
          ]
        },
        {
          "metadata": {
            "tags": null
          },
          "name": "stderr",
          "output_type": "stream",
          "text": [
            "Epoch 9/50 [Train]:  95%|█████████▌| 95/100 [00:22<00:00,  6.44it/s, Loss=4.7011]"
          ]
        },
        {
          "metadata": {
            "tags": null
          },
          "name": "stdout",
          "output_type": "stream",
          "text": [
            "*** DEBUG: Completed batch 90/100 ***\n"
          ]
        },
        {
          "metadata": {
            "tags": null
          },
          "name": "stderr",
          "output_type": "stream",
          "text": [
            "Epoch 9/50 [Train]: 100%|██████████| 100/100 [00:23<00:00,  4.25it/s, Loss=4.3214]\n"
          ]
        },
        {
          "metadata": {
            "tags": null
          },
          "name": "stdout",
          "output_type": "stream",
          "text": [
            "*** DEBUG: Training epoch 9 complete, starting validation ***\n"
          ]
        },
        {
          "metadata": {
            "tags": null
          },
          "name": "stderr",
          "output_type": "stream",
          "text": [
            "Epoch 9/50 [Val]: 100%|██████████| 25/25 [00:06<00:00,  4.14it/s, Loss=28.9410]\n"
          ]
        },
        {
          "metadata": {
            "tags": null
          },
          "name": "stdout",
          "output_type": "stream",
          "text": [
            "Epoch 9/50:\n",
            "  Train MAPE: 4.9587%\n",
            "  Val MAPE: 28.2000%\n",
            "  LR: 0.000100\n",
            "--------------------------------------------------\n"
          ]
        },
        {
          "metadata": {
            "tags": null
          },
          "name": "stderr",
          "output_type": "stream",
          "text": [
            "Epoch 10/50 [Train]:   4%|▍         | 4/100 [00:02<00:40,  2.37it/s, Loss=4.6438]"
          ]
        },
        {
          "metadata": {
            "tags": null
          },
          "name": "stdout",
          "output_type": "stream",
          "text": [
            "*** DEBUG Batch 0: Input shape: torch.Size([16, 5, 32, 313]), Target shape: torch.Size([16, 300, 1259]) ***\n",
            "*** DEBUG: GPU memory before forward: 0.86GB ***\n",
            "*** DEBUG: Starting forward pass for batch 0 ***\n",
            "*** DEBUG: Forward pass complete, output shape: torch.Size([16, 1, 300, 1259]) ***\n",
            "*** DEBUG: Starting loss calculation ***\n",
            "*** DEBUG: Loss calculated: 3.9668, starting backward ***\n",
            "*** DEBUG: Backward complete, running optimizer step ***\n",
            "*** DEBUG: Batch 0 complete ***\n",
            "*** DEBUG: GPU memory after batch: 0.89GB ***\n",
            "*** DEBUG: Completed batch 0/100 ***\n",
            "*** DEBUG Batch 1: Input shape: torch.Size([16, 5, 32, 313]), Target shape: torch.Size([16, 300, 1259]) ***\n",
            "*** DEBUG: GPU memory before forward: 0.86GB ***\n",
            "*** DEBUG: Starting forward pass for batch 1 ***\n",
            "*** DEBUG: Forward pass complete, output shape: torch.Size([16, 1, 300, 1259]) ***\n",
            "*** DEBUG: Starting loss calculation ***\n",
            "*** DEBUG: Loss calculated: 4.6874, starting backward ***\n",
            "*** DEBUG: Backward complete, running optimizer step ***\n",
            "*** DEBUG: Batch 1 complete ***\n",
            "*** DEBUG: GPU memory after batch: 0.89GB ***\n",
            "*** DEBUG Batch 2: Input shape: torch.Size([16, 5, 32, 313]), Target shape: torch.Size([16, 300, 1259]) ***\n",
            "*** DEBUG: GPU memory before forward: 0.86GB ***\n",
            "*** DEBUG: Starting forward pass for batch 2 ***\n",
            "*** DEBUG: Forward pass complete, output shape: torch.Size([16, 1, 300, 1259]) ***\n",
            "*** DEBUG: Starting loss calculation ***\n",
            "*** DEBUG: Loss calculated: 5.0449, starting backward ***\n",
            "*** DEBUG: Backward complete, running optimizer step ***\n",
            "*** DEBUG: Batch 2 complete ***\n",
            "*** DEBUG: GPU memory after batch: 0.89GB ***\n"
          ]
        },
        {
          "metadata": {
            "tags": null
          },
          "name": "stderr",
          "output_type": "stream",
          "text": [
            "Epoch 10/50 [Train]:  15%|█▌        | 15/100 [00:04<00:18,  4.70it/s, Loss=3.4438]"
          ]
        },
        {
          "metadata": {
            "tags": null
          },
          "name": "stdout",
          "output_type": "stream",
          "text": [
            "*** DEBUG: Completed batch 10/100 ***\n"
          ]
        },
        {
          "metadata": {
            "tags": null
          },
          "name": "stderr",
          "output_type": "stream",
          "text": [
            "Epoch 10/50 [Train]:  22%|██▏       | 22/100 [00:06<00:16,  4.77it/s, Loss=4.3848]"
          ]
        },
        {
          "metadata": {
            "tags": null
          },
          "name": "stdout",
          "output_type": "stream",
          "text": [
            "*** DEBUG: Completed batch 20/100 ***\n"
          ]
        },
        {
          "metadata": {
            "tags": null
          },
          "name": "stderr",
          "output_type": "stream",
          "text": [
            "Epoch 10/50 [Train]:  32%|███▏      | 32/100 [00:07<00:10,  6.29it/s, Loss=4.4075]"
          ]
        },
        {
          "metadata": {
            "tags": null
          },
          "name": "stdout",
          "output_type": "stream",
          "text": [
            "*** DEBUG: Completed batch 30/100 ***\n"
          ]
        },
        {
          "metadata": {
            "tags": null
          },
          "name": "stderr",
          "output_type": "stream",
          "text": [
            "Epoch 10/50 [Train]:  42%|████▏     | 42/100 [00:11<00:16,  3.42it/s, Loss=3.7897]"
          ]
        },
        {
          "metadata": {
            "tags": null
          },
          "name": "stdout",
          "output_type": "stream",
          "text": [
            "*** DEBUG: Completed batch 40/100 ***\n"
          ]
        },
        {
          "metadata": {
            "tags": null
          },
          "name": "stderr",
          "output_type": "stream",
          "text": [
            "Epoch 10/50 [Train]:  55%|█████▌    | 55/100 [00:13<00:07,  5.96it/s, Loss=3.7506]"
          ]
        },
        {
          "metadata": {
            "tags": null
          },
          "name": "stdout",
          "output_type": "stream",
          "text": [
            "*** DEBUG: Completed batch 50/100 ***\n"
          ]
        },
        {
          "metadata": {
            "tags": null
          },
          "name": "stderr",
          "output_type": "stream",
          "text": [
            "Epoch 10/50 [Train]:  62%|██████▏   | 62/100 [00:15<00:07,  5.09it/s, Loss=3.9049]"
          ]
        },
        {
          "metadata": {
            "tags": null
          },
          "name": "stdout",
          "output_type": "stream",
          "text": [
            "*** DEBUG: Completed batch 60/100 ***\n"
          ]
        },
        {
          "metadata": {
            "tags": null
          },
          "name": "stderr",
          "output_type": "stream",
          "text": [
            "Epoch 10/50 [Train]:  71%|███████   | 71/100 [00:17<00:04,  5.95it/s, Loss=4.3607]"
          ]
        },
        {
          "metadata": {
            "tags": null
          },
          "name": "stdout",
          "output_type": "stream",
          "text": [
            "*** DEBUG: Completed batch 70/100 ***\n"
          ]
        },
        {
          "metadata": {
            "tags": null
          },
          "name": "stderr",
          "output_type": "stream",
          "text": [
            "Epoch 10/50 [Train]:  81%|████████  | 81/100 [00:20<00:05,  3.58it/s, Loss=3.9189]"
          ]
        },
        {
          "metadata": {
            "tags": null
          },
          "name": "stdout",
          "output_type": "stream",
          "text": [
            "*** DEBUG: Completed batch 80/100 ***\n"
          ]
        },
        {
          "metadata": {
            "tags": null
          },
          "name": "stderr",
          "output_type": "stream",
          "text": [
            "Epoch 10/50 [Train]:  95%|█████████▌| 95/100 [00:22<00:00,  6.26it/s, Loss=4.4453]"
          ]
        },
        {
          "metadata": {
            "tags": null
          },
          "name": "stdout",
          "output_type": "stream",
          "text": [
            "*** DEBUG: Completed batch 90/100 ***\n"
          ]
        },
        {
          "metadata": {
            "tags": null
          },
          "name": "stderr",
          "output_type": "stream",
          "text": [
            "Epoch 10/50 [Train]: 100%|██████████| 100/100 [00:23<00:00,  4.23it/s, Loss=3.7785]\n"
          ]
        },
        {
          "metadata": {
            "tags": null
          },
          "name": "stdout",
          "output_type": "stream",
          "text": [
            "*** DEBUG: Training epoch 10 complete, starting validation ***\n"
          ]
        },
        {
          "metadata": {
            "tags": null
          },
          "name": "stderr",
          "output_type": "stream",
          "text": [
            "Epoch 10/50 [Val]: 100%|██████████| 25/25 [00:06<00:00,  4.04it/s, Loss=36.0630]\n"
          ]
        },
        {
          "metadata": {
            "tags": null
          },
          "name": "stdout",
          "output_type": "stream",
          "text": [
            "Epoch 10/50:\n",
            "  Train MAPE: 4.2864%\n",
            "  Val MAPE: 35.7031%\n",
            "  LR: 0.000100\n",
            "--------------------------------------------------\n"
          ]
        },
        {
          "metadata": {
            "tags": null
          },
          "name": "stderr",
          "output_type": "stream",
          "text": [
            "Epoch 11/50 [Train]:   4%|▍         | 4/100 [00:02<00:39,  2.40it/s, Loss=3.7455]"
          ]
        },
        {
          "metadata": {
            "tags": null
          },
          "name": "stdout",
          "output_type": "stream",
          "text": [
            "*** DEBUG Batch 0: Input shape: torch.Size([16, 5, 32, 313]), Target shape: torch.Size([16, 300, 1259]) ***\n",
            "*** DEBUG: GPU memory before forward: 0.86GB ***\n",
            "*** DEBUG: Starting forward pass for batch 0 ***\n",
            "*** DEBUG: Forward pass complete, output shape: torch.Size([16, 1, 300, 1259]) ***\n",
            "*** DEBUG: Starting loss calculation ***\n",
            "*** DEBUG: Loss calculated: 3.6655, starting backward ***\n",
            "*** DEBUG: Backward complete, running optimizer step ***\n",
            "*** DEBUG: Batch 0 complete ***\n",
            "*** DEBUG: GPU memory after batch: 0.89GB ***\n",
            "*** DEBUG: Completed batch 0/100 ***\n",
            "*** DEBUG Batch 1: Input shape: torch.Size([16, 5, 32, 313]), Target shape: torch.Size([16, 300, 1259]) ***\n",
            "*** DEBUG: GPU memory before forward: 0.86GB ***\n",
            "*** DEBUG: Starting forward pass for batch 1 ***\n",
            "*** DEBUG: Forward pass complete, output shape: torch.Size([16, 1, 300, 1259]) ***\n",
            "*** DEBUG: Starting loss calculation ***\n",
            "*** DEBUG: Loss calculated: 4.5314, starting backward ***\n",
            "*** DEBUG: Backward complete, running optimizer step ***\n",
            "*** DEBUG: Batch 1 complete ***\n",
            "*** DEBUG: GPU memory after batch: 0.89GB ***\n",
            "*** DEBUG Batch 2: Input shape: torch.Size([16, 5, 32, 313]), Target shape: torch.Size([16, 300, 1259]) ***\n",
            "*** DEBUG: GPU memory before forward: 0.86GB ***\n",
            "*** DEBUG: Starting forward pass for batch 2 ***\n",
            "*** DEBUG: Forward pass complete, output shape: torch.Size([16, 1, 300, 1259]) ***\n",
            "*** DEBUG: Starting loss calculation ***\n",
            "*** DEBUG: Loss calculated: 4.3426, starting backward ***\n",
            "*** DEBUG: Backward complete, running optimizer step ***\n",
            "*** DEBUG: Batch 2 complete ***\n",
            "*** DEBUG: GPU memory after batch: 0.89GB ***\n"
          ]
        },
        {
          "metadata": {
            "tags": null
          },
          "name": "stderr",
          "output_type": "stream",
          "text": [
            "Epoch 11/50 [Train]:  16%|█▌        | 16/100 [00:04<00:14,  5.66it/s, Loss=4.9955]"
          ]
        },
        {
          "metadata": {
            "tags": null
          },
          "name": "stdout",
          "output_type": "stream",
          "text": [
            "*** DEBUG: Completed batch 10/100 ***\n"
          ]
        },
        {
          "metadata": {
            "tags": null
          },
          "name": "stderr",
          "output_type": "stream",
          "text": [
            "Epoch 11/50 [Train]:  23%|██▎       | 23/100 [00:06<00:15,  5.00it/s, Loss=4.1827]"
          ]
        },
        {
          "metadata": {
            "tags": null
          },
          "name": "stdout",
          "output_type": "stream",
          "text": [
            "*** DEBUG: Completed batch 20/100 ***\n"
          ]
        },
        {
          "metadata": {
            "tags": null
          },
          "name": "stderr",
          "output_type": "stream",
          "text": [
            "Epoch 11/50 [Train]:  30%|███       | 30/100 [00:07<00:14,  4.89it/s, Loss=3.8809]"
          ]
        },
        {
          "metadata": {
            "tags": null
          },
          "name": "stdout",
          "output_type": "stream",
          "text": [
            "*** DEBUG: Completed batch 30/100 ***\n"
          ]
        },
        {
          "metadata": {
            "tags": null
          },
          "name": "stderr",
          "output_type": "stream",
          "text": [
            "Epoch 11/50 [Train]:  44%|████▍     | 44/100 [00:11<00:12,  4.47it/s, Loss=4.0790]"
          ]
        },
        {
          "metadata": {
            "tags": null
          },
          "name": "stdout",
          "output_type": "stream",
          "text": [
            "*** DEBUG: Completed batch 40/100 ***\n"
          ]
        },
        {
          "metadata": {
            "tags": null
          },
          "name": "stderr",
          "output_type": "stream",
          "text": [
            "Epoch 11/50 [Train]:  55%|█████▌    | 55/100 [00:13<00:08,  5.39it/s, Loss=3.9599]"
          ]
        },
        {
          "metadata": {
            "tags": null
          },
          "name": "stdout",
          "output_type": "stream",
          "text": [
            "*** DEBUG: Completed batch 50/100 ***\n"
          ]
        },
        {
          "metadata": {
            "tags": null
          },
          "name": "stderr",
          "output_type": "stream",
          "text": [
            "Epoch 11/50 [Train]:  62%|██████▏   | 62/100 [00:15<00:07,  4.97it/s, Loss=3.7626]"
          ]
        },
        {
          "metadata": {
            "tags": null
          },
          "name": "stdout",
          "output_type": "stream",
          "text": [
            "*** DEBUG: Completed batch 60/100 ***\n"
          ]
        },
        {
          "metadata": {
            "tags": null
          },
          "name": "stderr",
          "output_type": "stream",
          "text": [
            "Epoch 11/50 [Train]:  69%|██████▉   | 69/100 [00:17<00:06,  4.74it/s, Loss=3.8565]"
          ]
        },
        {
          "metadata": {
            "tags": null
          },
          "name": "stdout",
          "output_type": "stream",
          "text": [
            "*** DEBUG: Completed batch 70/100 ***\n"
          ]
        },
        {
          "metadata": {
            "tags": null
          },
          "name": "stderr",
          "output_type": "stream",
          "text": [
            "Epoch 11/50 [Train]:  85%|████████▌ | 85/100 [00:20<00:02,  5.10it/s, Loss=4.7919]"
          ]
        },
        {
          "metadata": {
            "tags": null
          },
          "name": "stdout",
          "output_type": "stream",
          "text": [
            "*** DEBUG: Completed batch 80/100 ***\n"
          ]
        },
        {
          "metadata": {
            "tags": null
          },
          "name": "stderr",
          "output_type": "stream",
          "text": [
            "Epoch 11/50 [Train]:  93%|█████████▎| 93/100 [00:22<00:01,  4.98it/s, Loss=4.1527]"
          ]
        },
        {
          "metadata": {
            "tags": null
          },
          "name": "stdout",
          "output_type": "stream",
          "text": [
            "*** DEBUG: Completed batch 90/100 ***\n"
          ]
        },
        {
          "metadata": {
            "tags": null
          },
          "name": "stderr",
          "output_type": "stream",
          "text": [
            "Epoch 11/50 [Train]: 100%|██████████| 100/100 [00:23<00:00,  4.22it/s, Loss=4.1361]\n"
          ]
        },
        {
          "metadata": {
            "tags": null
          },
          "name": "stdout",
          "output_type": "stream",
          "text": [
            "*** DEBUG: Training epoch 11 complete, starting validation ***\n"
          ]
        },
        {
          "metadata": {
            "tags": null
          },
          "name": "stderr",
          "output_type": "stream",
          "text": [
            "Epoch 11/50 [Val]: 100%|██████████| 25/25 [00:06<00:00,  4.07it/s, Loss=35.2467]\n"
          ]
        },
        {
          "metadata": {
            "tags": null
          },
          "name": "stdout",
          "output_type": "stream",
          "text": [
            "Epoch 11/50:\n",
            "  Train MAPE: 4.1349%\n",
            "  Val MAPE: 35.2032%\n",
            "  LR: 0.000100\n",
            "--------------------------------------------------\n"
          ]
        },
        {
          "metadata": {
            "tags": null
          },
          "name": "stderr",
          "output_type": "stream",
          "text": [
            "Epoch 12/50 [Train]:   4%|▍         | 4/100 [00:02<00:42,  2.26it/s, Loss=3.7654]"
          ]
        },
        {
          "metadata": {
            "tags": null
          },
          "name": "stdout",
          "output_type": "stream",
          "text": [
            "*** DEBUG Batch 0: Input shape: torch.Size([16, 5, 32, 313]), Target shape: torch.Size([16, 300, 1259]) ***\n",
            "*** DEBUG: GPU memory before forward: 0.86GB ***\n",
            "*** DEBUG: Starting forward pass for batch 0 ***\n",
            "*** DEBUG: Forward pass complete, output shape: torch.Size([16, 1, 300, 1259]) ***\n",
            "*** DEBUG: Starting loss calculation ***\n",
            "*** DEBUG: Loss calculated: 4.1597, starting backward ***\n",
            "*** DEBUG: Backward complete, running optimizer step ***\n",
            "*** DEBUG: Batch 0 complete ***\n",
            "*** DEBUG: GPU memory after batch: 0.89GB ***\n",
            "*** DEBUG: Completed batch 0/100 ***\n",
            "*** DEBUG Batch 1: Input shape: torch.Size([16, 5, 32, 313]), Target shape: torch.Size([16, 300, 1259]) ***\n",
            "*** DEBUG: GPU memory before forward: 0.86GB ***\n",
            "*** DEBUG: Starting forward pass for batch 1 ***\n",
            "*** DEBUG: Forward pass complete, output shape: torch.Size([16, 1, 300, 1259]) ***\n",
            "*** DEBUG: Starting loss calculation ***\n",
            "*** DEBUG: Loss calculated: 4.1508, starting backward ***\n",
            "*** DEBUG: Backward complete, running optimizer step ***\n",
            "*** DEBUG: Batch 1 complete ***\n",
            "*** DEBUG: GPU memory after batch: 0.89GB ***\n",
            "*** DEBUG Batch 2: Input shape: torch.Size([16, 5, 32, 313]), Target shape: torch.Size([16, 300, 1259]) ***\n",
            "*** DEBUG: GPU memory before forward: 0.86GB ***\n",
            "*** DEBUG: Starting forward pass for batch 2 ***\n",
            "*** DEBUG: Forward pass complete, output shape: torch.Size([16, 1, 300, 1259]) ***\n",
            "*** DEBUG: Starting loss calculation ***\n",
            "*** DEBUG: Loss calculated: 4.1624, starting backward ***\n",
            "*** DEBUG: Backward complete, running optimizer step ***\n",
            "*** DEBUG: Batch 2 complete ***\n",
            "*** DEBUG: GPU memory after batch: 0.89GB ***\n"
          ]
        },
        {
          "metadata": {
            "tags": null
          },
          "name": "stderr",
          "output_type": "stream",
          "text": [
            "Epoch 12/50 [Train]:  14%|█▍        | 14/100 [00:04<00:18,  4.71it/s, Loss=3.6382]"
          ]
        },
        {
          "metadata": {
            "tags": null
          },
          "name": "stdout",
          "output_type": "stream",
          "text": [
            "*** DEBUG: Completed batch 10/100 ***\n"
          ]
        },
        {
          "metadata": {
            "tags": null
          },
          "name": "stderr",
          "output_type": "stream",
          "text": [
            "Epoch 12/50 [Train]:  23%|██▎       | 23/100 [00:06<00:13,  5.90it/s, Loss=4.6208]"
          ]
        },
        {
          "metadata": {
            "tags": null
          },
          "name": "stdout",
          "output_type": "stream",
          "text": [
            "*** DEBUG: Completed batch 20/100 ***\n"
          ]
        },
        {
          "metadata": {
            "tags": null
          },
          "name": "stderr",
          "output_type": "stream",
          "text": [
            "Epoch 12/50 [Train]:  30%|███       | 30/100 [00:08<00:14,  4.79it/s, Loss=4.1250]"
          ]
        },
        {
          "metadata": {
            "tags": null
          },
          "name": "stdout",
          "output_type": "stream",
          "text": [
            "*** DEBUG: Completed batch 30/100 ***\n"
          ]
        },
        {
          "metadata": {
            "tags": null
          },
          "name": "stderr",
          "output_type": "stream",
          "text": [
            "Epoch 12/50 [Train]:  41%|████      | 41/100 [00:11<00:17,  3.45it/s, Loss=3.9972]"
          ]
        },
        {
          "metadata": {
            "tags": null
          },
          "name": "stdout",
          "output_type": "stream",
          "text": [
            "*** DEBUG: Completed batch 40/100 ***\n"
          ]
        },
        {
          "metadata": {
            "tags": null
          },
          "name": "stderr",
          "output_type": "stream",
          "text": [
            "Epoch 12/50 [Train]:  55%|█████▌    | 55/100 [00:13<00:07,  6.22it/s, Loss=3.8580]"
          ]
        },
        {
          "metadata": {
            "tags": null
          },
          "name": "stdout",
          "output_type": "stream",
          "text": [
            "*** DEBUG: Completed batch 50/100 ***\n"
          ]
        },
        {
          "metadata": {
            "tags": null
          },
          "name": "stderr",
          "output_type": "stream",
          "text": [
            "Epoch 12/50 [Train]:  63%|██████▎   | 63/100 [00:15<00:05,  6.34it/s, Loss=3.9476]"
          ]
        },
        {
          "metadata": {
            "tags": null
          },
          "name": "stdout",
          "output_type": "stream",
          "text": [
            "*** DEBUG: Completed batch 60/100 ***\n"
          ]
        },
        {
          "metadata": {
            "tags": null
          },
          "name": "stderr",
          "output_type": "stream",
          "text": [
            "Epoch 12/50 [Train]:  71%|███████   | 71/100 [00:17<00:04,  6.31it/s, Loss=4.2962]"
          ]
        },
        {
          "metadata": {
            "tags": null
          },
          "name": "stdout",
          "output_type": "stream",
          "text": [
            "*** DEBUG: Completed batch 70/100 ***\n"
          ]
        },
        {
          "metadata": {
            "tags": null
          },
          "name": "stderr",
          "output_type": "stream",
          "text": [
            "Epoch 12/50 [Train]:  81%|████████  | 81/100 [00:20<00:05,  3.52it/s, Loss=4.5814]"
          ]
        },
        {
          "metadata": {
            "tags": null
          },
          "name": "stdout",
          "output_type": "stream",
          "text": [
            "*** DEBUG: Completed batch 80/100 ***\n"
          ]
        },
        {
          "metadata": {
            "tags": null
          },
          "name": "stderr",
          "output_type": "stream",
          "text": [
            "Epoch 12/50 [Train]:  95%|█████████▌| 95/100 [00:22<00:00,  6.47it/s, Loss=4.4090]"
          ]
        },
        {
          "metadata": {
            "tags": null
          },
          "name": "stdout",
          "output_type": "stream",
          "text": [
            "*** DEBUG: Completed batch 90/100 ***\n"
          ]
        },
        {
          "metadata": {
            "tags": null
          },
          "name": "stderr",
          "output_type": "stream",
          "text": [
            "Epoch 12/50 [Train]: 100%|██████████| 100/100 [00:23<00:00,  4.22it/s, Loss=3.4877]\n"
          ]
        },
        {
          "metadata": {
            "tags": null
          },
          "name": "stdout",
          "output_type": "stream",
          "text": [
            "*** DEBUG: Training epoch 12 complete, starting validation ***\n"
          ]
        },
        {
          "metadata": {
            "tags": null
          },
          "name": "stderr",
          "output_type": "stream",
          "text": [
            "Epoch 12/50 [Val]: 100%|██████████| 25/25 [00:05<00:00,  4.20it/s, Loss=7.3206]\n"
          ]
        },
        {
          "metadata": {
            "tags": null
          },
          "name": "stdout",
          "output_type": "stream",
          "text": [
            "Epoch 12/50:\n",
            "  Train MAPE: 4.0616%\n",
            "  Val MAPE: 7.4693%\n",
            "  LR: 0.000100\n",
            "--------------------------------------------------\n",
            "New best model saved: /content/drive/MyDrive/ThinkOnward/Models/best_model_adaptive.pth\n"
          ]
        },
        {
          "metadata": {
            "tags": null
          },
          "name": "stderr",
          "output_type": "stream",
          "text": [
            "Epoch 13/50 [Train]:   4%|▍         | 4/100 [00:02<00:48,  1.99it/s, Loss=3.9958]"
          ]
        },
        {
          "metadata": {
            "tags": null
          },
          "name": "stdout",
          "output_type": "stream",
          "text": [
            "*** DEBUG Batch 0: Input shape: torch.Size([16, 5, 32, 313]), Target shape: torch.Size([16, 300, 1259]) ***\n",
            "*** DEBUG: GPU memory before forward: 0.86GB ***\n",
            "*** DEBUG: Starting forward pass for batch 0 ***\n",
            "*** DEBUG: Forward pass complete, output shape: torch.Size([16, 1, 300, 1259]) ***\n",
            "*** DEBUG: Starting loss calculation ***\n",
            "*** DEBUG: Loss calculated: 4.1842, starting backward ***\n",
            "*** DEBUG: Backward complete, running optimizer step ***\n",
            "*** DEBUG: Batch 0 complete ***\n",
            "*** DEBUG: GPU memory after batch: 0.89GB ***\n",
            "*** DEBUG: Completed batch 0/100 ***\n",
            "*** DEBUG Batch 1: Input shape: torch.Size([16, 5, 32, 313]), Target shape: torch.Size([16, 300, 1259]) ***\n",
            "*** DEBUG: GPU memory before forward: 0.86GB ***\n",
            "*** DEBUG: Starting forward pass for batch 1 ***\n",
            "*** DEBUG: Forward pass complete, output shape: torch.Size([16, 1, 300, 1259]) ***\n",
            "*** DEBUG: Starting loss calculation ***\n",
            "*** DEBUG: Loss calculated: 3.7271, starting backward ***\n",
            "*** DEBUG: Backward complete, running optimizer step ***\n",
            "*** DEBUG: Batch 1 complete ***\n",
            "*** DEBUG: GPU memory after batch: 0.89GB ***\n",
            "*** DEBUG Batch 2: Input shape: torch.Size([16, 5, 32, 313]), Target shape: torch.Size([16, 300, 1259]) ***\n",
            "*** DEBUG: GPU memory before forward: 0.86GB ***\n",
            "*** DEBUG: Starting forward pass for batch 2 ***\n",
            "*** DEBUG: Forward pass complete, output shape: torch.Size([16, 1, 300, 1259]) ***\n",
            "*** DEBUG: Starting loss calculation ***\n",
            "*** DEBUG: Loss calculated: 4.1657, starting backward ***\n",
            "*** DEBUG: Backward complete, running optimizer step ***\n",
            "*** DEBUG: Batch 2 complete ***\n",
            "*** DEBUG: GPU memory after batch: 0.89GB ***\n"
          ]
        },
        {
          "metadata": {
            "tags": null
          },
          "name": "stderr",
          "output_type": "stream",
          "text": [
            "Epoch 13/50 [Train]:  14%|█▍        | 14/100 [00:04<00:20,  4.12it/s, Loss=3.9721]"
          ]
        },
        {
          "metadata": {
            "tags": null
          },
          "name": "stdout",
          "output_type": "stream",
          "text": [
            "*** DEBUG: Completed batch 10/100 ***\n"
          ]
        },
        {
          "metadata": {
            "tags": null
          },
          "name": "stderr",
          "output_type": "stream",
          "text": [
            "Epoch 13/50 [Train]:  21%|██        | 21/100 [00:06<00:17,  4.47it/s, Loss=4.4664]"
          ]
        },
        {
          "metadata": {
            "tags": null
          },
          "name": "stdout",
          "output_type": "stream",
          "text": [
            "*** DEBUG: Completed batch 20/100 ***\n"
          ]
        },
        {
          "metadata": {
            "tags": null
          },
          "name": "stderr",
          "output_type": "stream",
          "text": [
            "Epoch 13/50 [Train]:  29%|██▉       | 29/100 [00:08<00:14,  4.88it/s, Loss=4.0158]"
          ]
        },
        {
          "metadata": {
            "tags": null
          },
          "name": "stdout",
          "output_type": "stream",
          "text": [
            "*** DEBUG: Completed batch 30/100 ***\n"
          ]
        },
        {
          "metadata": {
            "tags": null
          },
          "name": "stderr",
          "output_type": "stream",
          "text": [
            "Epoch 13/50 [Train]:  43%|████▎     | 43/100 [00:14<00:22,  2.51it/s, Loss=4.4586]"
          ]
        },
        {
          "metadata": {
            "tags": null
          },
          "name": "stdout",
          "output_type": "stream",
          "text": [
            "*** DEBUG: Completed batch 40/100 ***\n"
          ]
        },
        {
          "metadata": {
            "tags": null
          },
          "name": "stderr",
          "output_type": "stream",
          "text": [
            "Epoch 13/50 [Train]:  54%|█████▍    | 54/100 [00:16<00:11,  3.99it/s, Loss=3.7961]"
          ]
        },
        {
          "metadata": {
            "tags": null
          },
          "name": "stdout",
          "output_type": "stream",
          "text": [
            "*** DEBUG: Completed batch 50/100 ***\n"
          ]
        },
        {
          "metadata": {
            "tags": null
          },
          "name": "stderr",
          "output_type": "stream",
          "text": [
            "Epoch 13/50 [Train]:  64%|██████▍   | 64/100 [00:18<00:06,  5.56it/s, Loss=3.2935]"
          ]
        },
        {
          "metadata": {
            "tags": null
          },
          "name": "stdout",
          "output_type": "stream",
          "text": [
            "*** DEBUG: Completed batch 60/100 ***\n"
          ]
        },
        {
          "metadata": {
            "tags": null
          },
          "name": "stderr",
          "output_type": "stream",
          "text": [
            "Epoch 13/50 [Train]:  70%|███████   | 70/100 [00:20<00:06,  4.42it/s, Loss=3.7307]"
          ]
        },
        {
          "metadata": {
            "tags": null
          },
          "name": "stdout",
          "output_type": "stream",
          "text": [
            "*** DEBUG: Completed batch 70/100 ***\n"
          ]
        },
        {
          "metadata": {
            "tags": null
          },
          "name": "stderr",
          "output_type": "stream",
          "text": [
            "Epoch 13/50 [Train]:  84%|████████▍ | 84/100 [00:24<00:03,  4.40it/s, Loss=3.9638]"
          ]
        },
        {
          "metadata": {
            "tags": null
          },
          "name": "stdout",
          "output_type": "stream",
          "text": [
            "*** DEBUG: Completed batch 80/100 ***\n"
          ]
        },
        {
          "metadata": {
            "tags": null
          },
          "name": "stderr",
          "output_type": "stream",
          "text": [
            "Epoch 13/50 [Train]:  94%|█████████▍| 94/100 [00:26<00:01,  5.18it/s, Loss=4.0248]"
          ]
        },
        {
          "metadata": {
            "tags": null
          },
          "name": "stdout",
          "output_type": "stream",
          "text": [
            "*** DEBUG: Completed batch 90/100 ***\n"
          ]
        },
        {
          "metadata": {
            "tags": null
          },
          "name": "stderr",
          "output_type": "stream",
          "text": [
            "Epoch 13/50 [Train]: 100%|██████████| 100/100 [00:27<00:00,  3.70it/s, Loss=3.8615]\n"
          ]
        },
        {
          "metadata": {
            "tags": null
          },
          "name": "stdout",
          "output_type": "stream",
          "text": [
            "*** DEBUG: Training epoch 13 complete, starting validation ***\n"
          ]
        },
        {
          "metadata": {
            "tags": null
          },
          "name": "stderr",
          "output_type": "stream",
          "text": [
            "Epoch 13/50 [Val]: 100%|██████████| 25/25 [00:06<00:00,  4.11it/s, Loss=19.7985]\n"
          ]
        },
        {
          "metadata": {
            "tags": null
          },
          "name": "stdout",
          "output_type": "stream",
          "text": [
            "Epoch 13/50:\n",
            "  Train MAPE: 3.9507%\n",
            "  Val MAPE: 18.5054%\n",
            "  LR: 0.000100\n",
            "--------------------------------------------------\n"
          ]
        },
        {
          "metadata": {
            "tags": null
          },
          "name": "stderr",
          "output_type": "stream",
          "text": [
            "Epoch 14/50 [Train]:   4%|▍         | 4/100 [00:02<00:41,  2.33it/s, Loss=3.4879]"
          ]
        },
        {
          "metadata": {
            "tags": null
          },
          "name": "stdout",
          "output_type": "stream",
          "text": [
            "*** DEBUG Batch 0: Input shape: torch.Size([16, 5, 32, 313]), Target shape: torch.Size([16, 300, 1259]) ***\n",
            "*** DEBUG: GPU memory before forward: 0.86GB ***\n",
            "*** DEBUG: Starting forward pass for batch 0 ***\n",
            "*** DEBUG: Forward pass complete, output shape: torch.Size([16, 1, 300, 1259]) ***\n",
            "*** DEBUG: Starting loss calculation ***\n",
            "*** DEBUG: Loss calculated: 4.3249, starting backward ***\n",
            "*** DEBUG: Backward complete, running optimizer step ***\n",
            "*** DEBUG: Batch 0 complete ***\n",
            "*** DEBUG: GPU memory after batch: 0.89GB ***\n",
            "*** DEBUG: Completed batch 0/100 ***\n",
            "*** DEBUG Batch 1: Input shape: torch.Size([16, 5, 32, 313]), Target shape: torch.Size([16, 300, 1259]) ***\n",
            "*** DEBUG: GPU memory before forward: 0.86GB ***\n",
            "*** DEBUG: Starting forward pass for batch 1 ***\n",
            "*** DEBUG: Forward pass complete, output shape: torch.Size([16, 1, 300, 1259]) ***\n",
            "*** DEBUG: Starting loss calculation ***\n",
            "*** DEBUG: Loss calculated: 3.6588, starting backward ***\n",
            "*** DEBUG: Backward complete, running optimizer step ***\n",
            "*** DEBUG: Batch 1 complete ***\n",
            "*** DEBUG: GPU memory after batch: 0.89GB ***\n",
            "*** DEBUG Batch 2: Input shape: torch.Size([16, 5, 32, 313]), Target shape: torch.Size([16, 300, 1259]) ***\n",
            "*** DEBUG: GPU memory before forward: 0.86GB ***\n",
            "*** DEBUG: Starting forward pass for batch 2 ***\n",
            "*** DEBUG: Forward pass complete, output shape: torch.Size([16, 1, 300, 1259]) ***\n",
            "*** DEBUG: Starting loss calculation ***\n",
            "*** DEBUG: Loss calculated: 4.0927, starting backward ***\n",
            "*** DEBUG: Backward complete, running optimizer step ***\n",
            "*** DEBUG: Batch 2 complete ***\n",
            "*** DEBUG: GPU memory after batch: 0.89GB ***\n"
          ]
        },
        {
          "metadata": {
            "tags": null
          },
          "name": "stderr",
          "output_type": "stream",
          "text": [
            "Epoch 14/50 [Train]:  13%|█▎        | 13/100 [00:04<00:21,  4.07it/s, Loss=4.2756]"
          ]
        },
        {
          "metadata": {
            "tags": null
          },
          "name": "stdout",
          "output_type": "stream",
          "text": [
            "*** DEBUG: Completed batch 10/100 ***\n"
          ]
        },
        {
          "metadata": {
            "tags": null
          },
          "name": "stderr",
          "output_type": "stream",
          "text": [
            "Epoch 14/50 [Train]:  21%|██        | 21/100 [00:06<00:17,  4.55it/s, Loss=4.1864]"
          ]
        },
        {
          "metadata": {
            "tags": null
          },
          "name": "stdout",
          "output_type": "stream",
          "text": [
            "*** DEBUG: Completed batch 20/100 ***\n"
          ]
        },
        {
          "metadata": {
            "tags": null
          },
          "name": "stderr",
          "output_type": "stream",
          "text": [
            "Epoch 14/50 [Train]:  32%|███▏      | 32/100 [00:08<00:10,  6.40it/s, Loss=4.3120]"
          ]
        },
        {
          "metadata": {
            "tags": null
          },
          "name": "stdout",
          "output_type": "stream",
          "text": [
            "*** DEBUG: Completed batch 30/100 ***\n"
          ]
        },
        {
          "metadata": {
            "tags": null
          },
          "name": "stderr",
          "output_type": "stream",
          "text": [
            "Epoch 14/50 [Train]:  46%|████▌     | 46/100 [00:11<00:10,  4.99it/s, Loss=3.7136]"
          ]
        },
        {
          "metadata": {
            "tags": null
          },
          "name": "stdout",
          "output_type": "stream",
          "text": [
            "*** DEBUG: Completed batch 40/100 ***\n"
          ]
        },
        {
          "metadata": {
            "tags": null
          },
          "name": "stderr",
          "output_type": "stream",
          "text": [
            "Epoch 14/50 [Train]:  53%|█████▎    | 53/100 [00:13<00:09,  4.80it/s, Loss=3.3044]"
          ]
        },
        {
          "metadata": {
            "tags": null
          },
          "name": "stdout",
          "output_type": "stream",
          "text": [
            "*** DEBUG: Completed batch 50/100 ***\n"
          ]
        },
        {
          "metadata": {
            "tags": null
          },
          "name": "stderr",
          "output_type": "stream",
          "text": [
            "Epoch 14/50 [Train]:  64%|██████▍   | 64/100 [00:15<00:05,  6.43it/s, Loss=3.4845]"
          ]
        },
        {
          "metadata": {
            "tags": null
          },
          "name": "stdout",
          "output_type": "stream",
          "text": [
            "*** DEBUG: Completed batch 60/100 ***\n"
          ]
        },
        {
          "metadata": {
            "tags": null
          },
          "name": "stderr",
          "output_type": "stream",
          "text": [
            "Epoch 14/50 [Train]:  71%|███████   | 71/100 [00:17<00:05,  5.28it/s, Loss=4.0284]"
          ]
        },
        {
          "metadata": {
            "tags": null
          },
          "name": "stdout",
          "output_type": "stream",
          "text": [
            "*** DEBUG: Completed batch 70/100 ***\n"
          ]
        },
        {
          "metadata": {
            "tags": null
          },
          "name": "stderr",
          "output_type": "stream",
          "text": [
            "Epoch 14/50 [Train]:  85%|████████▌ | 85/100 [00:21<00:03,  4.88it/s, Loss=3.6165]"
          ]
        },
        {
          "metadata": {
            "tags": null
          },
          "name": "stdout",
          "output_type": "stream",
          "text": [
            "*** DEBUG: Completed batch 80/100 ***\n"
          ]
        },
        {
          "metadata": {
            "tags": null
          },
          "name": "stderr",
          "output_type": "stream",
          "text": [
            "Epoch 14/50 [Train]:  96%|█████████▌| 96/100 [00:22<00:00,  6.74it/s, Loss=4.1145]"
          ]
        },
        {
          "metadata": {
            "tags": null
          },
          "name": "stdout",
          "output_type": "stream",
          "text": [
            "*** DEBUG: Completed batch 90/100 ***\n"
          ]
        },
        {
          "metadata": {
            "tags": null
          },
          "name": "stderr",
          "output_type": "stream",
          "text": [
            "Epoch 14/50 [Train]: 100%|██████████| 100/100 [00:23<00:00,  4.25it/s, Loss=4.0103]\n"
          ]
        },
        {
          "metadata": {
            "tags": null
          },
          "name": "stdout",
          "output_type": "stream",
          "text": [
            "*** DEBUG: Training epoch 14 complete, starting validation ***\n"
          ]
        },
        {
          "metadata": {
            "tags": null
          },
          "name": "stderr",
          "output_type": "stream",
          "text": [
            "Epoch 14/50 [Val]: 100%|██████████| 25/25 [00:06<00:00,  3.97it/s, Loss=27.9424]\n"
          ]
        },
        {
          "metadata": {
            "tags": null
          },
          "name": "stdout",
          "output_type": "stream",
          "text": [
            "Epoch 14/50:\n",
            "  Train MAPE: 3.8513%\n",
            "  Val MAPE: 27.6261%\n",
            "  LR: 0.000100\n",
            "--------------------------------------------------\n"
          ]
        },
        {
          "metadata": {
            "tags": null
          },
          "name": "stderr",
          "output_type": "stream",
          "text": [
            "Epoch 15/50 [Train]:   3%|▎         | 3/100 [00:02<00:55,  1.76it/s, Loss=4.4452]"
          ]
        },
        {
          "metadata": {
            "tags": null
          },
          "name": "stdout",
          "output_type": "stream",
          "text": [
            "*** DEBUG Batch 0: Input shape: torch.Size([16, 5, 32, 313]), Target shape: torch.Size([16, 300, 1259]) ***\n",
            "*** DEBUG: GPU memory before forward: 0.86GB ***\n",
            "*** DEBUG: Starting forward pass for batch 0 ***\n",
            "*** DEBUG: Forward pass complete, output shape: torch.Size([16, 1, 300, 1259]) ***\n",
            "*** DEBUG: Starting loss calculation ***\n",
            "*** DEBUG: Loss calculated: 3.7097, starting backward ***\n",
            "*** DEBUG: Backward complete, running optimizer step ***\n",
            "*** DEBUG: Batch 0 complete ***\n",
            "*** DEBUG: GPU memory after batch: 0.89GB ***\n",
            "*** DEBUG: Completed batch 0/100 ***\n",
            "*** DEBUG Batch 1: Input shape: torch.Size([16, 5, 32, 313]), Target shape: torch.Size([16, 300, 1259]) ***\n",
            "*** DEBUG: GPU memory before forward: 0.86GB ***\n",
            "*** DEBUG: Starting forward pass for batch 1 ***\n",
            "*** DEBUG: Forward pass complete, output shape: torch.Size([16, 1, 300, 1259]) ***\n",
            "*** DEBUG: Starting loss calculation ***\n",
            "*** DEBUG: Loss calculated: 3.4779, starting backward ***\n",
            "*** DEBUG: Backward complete, running optimizer step ***\n",
            "*** DEBUG: Batch 1 complete ***\n",
            "*** DEBUG: GPU memory after batch: 0.89GB ***\n",
            "*** DEBUG Batch 2: Input shape: torch.Size([16, 5, 32, 313]), Target shape: torch.Size([16, 300, 1259]) ***\n",
            "*** DEBUG: GPU memory before forward: 0.86GB ***\n",
            "*** DEBUG: Starting forward pass for batch 2 ***\n",
            "*** DEBUG: Forward pass complete, output shape: torch.Size([16, 1, 300, 1259]) ***\n",
            "*** DEBUG: Starting loss calculation ***\n",
            "*** DEBUG: Loss calculated: 3.9440, starting backward ***\n",
            "*** DEBUG: Backward complete, running optimizer step ***\n",
            "*** DEBUG: Batch 2 complete ***\n",
            "*** DEBUG: GPU memory after batch: 0.89GB ***\n"
          ]
        },
        {
          "metadata": {
            "tags": null
          },
          "name": "stderr",
          "output_type": "stream",
          "text": [
            "Epoch 15/50 [Train]:  15%|█▌        | 15/100 [00:04<00:14,  5.83it/s, Loss=3.9220]"
          ]
        },
        {
          "metadata": {
            "tags": null
          },
          "name": "stdout",
          "output_type": "stream",
          "text": [
            "*** DEBUG: Completed batch 10/100 ***\n"
          ]
        },
        {
          "metadata": {
            "tags": null
          },
          "name": "stderr",
          "output_type": "stream",
          "text": [
            "Epoch 15/50 [Train]:  23%|██▎       | 23/100 [00:06<00:12,  6.04it/s, Loss=3.6385]"
          ]
        },
        {
          "metadata": {
            "tags": null
          },
          "name": "stdout",
          "output_type": "stream",
          "text": [
            "*** DEBUG: Completed batch 20/100 ***\n"
          ]
        },
        {
          "metadata": {
            "tags": null
          },
          "name": "stderr",
          "output_type": "stream",
          "text": [
            "Epoch 15/50 [Train]:  31%|███       | 31/100 [00:07<00:11,  6.05it/s, Loss=3.6517]"
          ]
        },
        {
          "metadata": {
            "tags": null
          },
          "name": "stdout",
          "output_type": "stream",
          "text": [
            "*** DEBUG: Completed batch 30/100 ***\n"
          ]
        },
        {
          "metadata": {
            "tags": null
          },
          "name": "stderr",
          "output_type": "stream",
          "text": [
            "Epoch 15/50 [Train]:  41%|████      | 41/100 [00:10<00:15,  3.77it/s, Loss=3.8702]"
          ]
        },
        {
          "metadata": {
            "tags": null
          },
          "name": "stdout",
          "output_type": "stream",
          "text": [
            "*** DEBUG: Completed batch 40/100 ***\n"
          ]
        },
        {
          "metadata": {
            "tags": null
          },
          "name": "stderr",
          "output_type": "stream",
          "text": [
            "Epoch 15/50 [Train]:  55%|█████▌    | 55/100 [00:13<00:07,  5.65it/s, Loss=3.8260]"
          ]
        },
        {
          "metadata": {
            "tags": null
          },
          "name": "stdout",
          "output_type": "stream",
          "text": [
            "*** DEBUG: Completed batch 50/100 ***\n"
          ]
        },
        {
          "metadata": {
            "tags": null
          },
          "name": "stderr",
          "output_type": "stream",
          "text": [
            "Epoch 15/50 [Train]:  63%|██████▎   | 63/100 [00:15<00:06,  5.71it/s, Loss=3.6140]"
          ]
        },
        {
          "metadata": {
            "tags": null
          },
          "name": "stdout",
          "output_type": "stream",
          "text": [
            "*** DEBUG: Completed batch 60/100 ***\n"
          ]
        },
        {
          "metadata": {
            "tags": null
          },
          "name": "stderr",
          "output_type": "stream",
          "text": [
            "Epoch 15/50 [Train]:  71%|███████   | 71/100 [00:17<00:05,  5.56it/s, Loss=3.5715]"
          ]
        },
        {
          "metadata": {
            "tags": null
          },
          "name": "stdout",
          "output_type": "stream",
          "text": [
            "*** DEBUG: Completed batch 70/100 ***\n"
          ]
        },
        {
          "metadata": {
            "tags": null
          },
          "name": "stderr",
          "output_type": "stream",
          "text": [
            "Epoch 15/50 [Train]:  81%|████████  | 81/100 [00:20<00:04,  3.98it/s, Loss=3.3667]"
          ]
        },
        {
          "metadata": {
            "tags": null
          },
          "name": "stdout",
          "output_type": "stream",
          "text": [
            "*** DEBUG: Completed batch 80/100 ***\n"
          ]
        },
        {
          "metadata": {
            "tags": null
          },
          "name": "stderr",
          "output_type": "stream",
          "text": [
            "Epoch 15/50 [Train]:  95%|█████████▌| 95/100 [00:22<00:00,  5.62it/s, Loss=3.0672]"
          ]
        },
        {
          "metadata": {
            "tags": null
          },
          "name": "stdout",
          "output_type": "stream",
          "text": [
            "*** DEBUG: Completed batch 90/100 ***\n"
          ]
        },
        {
          "metadata": {
            "tags": null
          },
          "name": "stderr",
          "output_type": "stream",
          "text": [
            "Epoch 15/50 [Train]: 100%|██████████| 100/100 [00:23<00:00,  4.21it/s, Loss=4.0881]\n"
          ]
        },
        {
          "metadata": {
            "tags": null
          },
          "name": "stdout",
          "output_type": "stream",
          "text": [
            "*** DEBUG: Training epoch 15 complete, starting validation ***\n"
          ]
        },
        {
          "metadata": {
            "tags": null
          },
          "name": "stderr",
          "output_type": "stream",
          "text": [
            "Epoch 15/50 [Val]: 100%|██████████| 25/25 [00:06<00:00,  3.96it/s, Loss=31.5525]\n"
          ]
        },
        {
          "metadata": {
            "tags": null
          },
          "name": "stdout",
          "output_type": "stream",
          "text": [
            "Epoch 15/50:\n",
            "  Train MAPE: 3.7765%\n",
            "  Val MAPE: 30.9528%\n",
            "  LR: 0.000100\n",
            "--------------------------------------------------\n"
          ]
        },
        {
          "metadata": {
            "tags": null
          },
          "name": "stderr",
          "output_type": "stream",
          "text": [
            "Epoch 16/50 [Train]:   3%|▎         | 3/100 [00:02<00:57,  1.68it/s, Loss=3.9212]"
          ]
        },
        {
          "metadata": {
            "tags": null
          },
          "name": "stdout",
          "output_type": "stream",
          "text": [
            "*** DEBUG Batch 0: Input shape: torch.Size([16, 5, 32, 313]), Target shape: torch.Size([16, 300, 1259]) ***\n",
            "*** DEBUG: GPU memory before forward: 0.86GB ***\n",
            "*** DEBUG: Starting forward pass for batch 0 ***\n",
            "*** DEBUG: Forward pass complete, output shape: torch.Size([16, 1, 300, 1259]) ***\n",
            "*** DEBUG: Starting loss calculation ***\n",
            "*** DEBUG: Loss calculated: 3.7403, starting backward ***\n",
            "*** DEBUG: Backward complete, running optimizer step ***\n",
            "*** DEBUG: Batch 0 complete ***\n",
            "*** DEBUG: GPU memory after batch: 0.89GB ***\n",
            "*** DEBUG: Completed batch 0/100 ***\n",
            "*** DEBUG Batch 1: Input shape: torch.Size([16, 5, 32, 313]), Target shape: torch.Size([16, 300, 1259]) ***\n",
            "*** DEBUG: GPU memory before forward: 0.86GB ***\n",
            "*** DEBUG: Starting forward pass for batch 1 ***\n",
            "*** DEBUG: Forward pass complete, output shape: torch.Size([16, 1, 300, 1259]) ***\n",
            "*** DEBUG: Starting loss calculation ***\n",
            "*** DEBUG: Loss calculated: 3.5189, starting backward ***\n",
            "*** DEBUG: Backward complete, running optimizer step ***\n",
            "*** DEBUG: Batch 1 complete ***\n",
            "*** DEBUG: GPU memory after batch: 0.89GB ***\n",
            "*** DEBUG Batch 2: Input shape: torch.Size([16, 5, 32, 313]), Target shape: torch.Size([16, 300, 1259]) ***\n",
            "*** DEBUG: GPU memory before forward: 0.86GB ***\n",
            "*** DEBUG: Starting forward pass for batch 2 ***\n",
            "*** DEBUG: Forward pass complete, output shape: torch.Size([16, 1, 300, 1259]) ***\n",
            "*** DEBUG: Starting loss calculation ***\n",
            "*** DEBUG: Loss calculated: 3.1388, starting backward ***\n",
            "*** DEBUG: Backward complete, running optimizer step ***\n",
            "*** DEBUG: Batch 2 complete ***\n",
            "*** DEBUG: GPU memory after batch: 0.89GB ***\n"
          ]
        },
        {
          "metadata": {
            "tags": null
          },
          "name": "stderr",
          "output_type": "stream",
          "text": [
            "Epoch 16/50 [Train]:  13%|█▎        | 13/100 [00:04<00:20,  4.25it/s, Loss=3.6271]"
          ]
        },
        {
          "metadata": {
            "tags": null
          },
          "name": "stdout",
          "output_type": "stream",
          "text": [
            "*** DEBUG: Completed batch 10/100 ***\n"
          ]
        },
        {
          "metadata": {
            "tags": null
          },
          "name": "stderr",
          "output_type": "stream",
          "text": [
            "Epoch 16/50 [Train]:  24%|██▍       | 24/100 [00:06<00:11,  6.43it/s, Loss=3.6198]"
          ]
        },
        {
          "metadata": {
            "tags": null
          },
          "name": "stdout",
          "output_type": "stream",
          "text": [
            "*** DEBUG: Completed batch 20/100 ***\n"
          ]
        },
        {
          "metadata": {
            "tags": null
          },
          "name": "stderr",
          "output_type": "stream",
          "text": [
            "Epoch 16/50 [Train]:  31%|███       | 31/100 [00:08<00:13,  5.08it/s, Loss=3.5066]"
          ]
        },
        {
          "metadata": {
            "tags": null
          },
          "name": "stdout",
          "output_type": "stream",
          "text": [
            "*** DEBUG: Completed batch 30/100 ***\n"
          ]
        },
        {
          "metadata": {
            "tags": null
          },
          "name": "stderr",
          "output_type": "stream",
          "text": [
            "Epoch 16/50 [Train]:  41%|████      | 41/100 [00:11<00:16,  3.48it/s, Loss=3.1612]"
          ]
        },
        {
          "metadata": {
            "tags": null
          },
          "name": "stdout",
          "output_type": "stream",
          "text": [
            "*** DEBUG: Completed batch 40/100 ***\n"
          ]
        },
        {
          "metadata": {
            "tags": null
          },
          "name": "stderr",
          "output_type": "stream",
          "text": [
            "Epoch 16/50 [Train]:  55%|█████▌    | 55/100 [00:13<00:07,  6.16it/s, Loss=3.7916]"
          ]
        },
        {
          "metadata": {
            "tags": null
          },
          "name": "stdout",
          "output_type": "stream",
          "text": [
            "*** DEBUG: Completed batch 50/100 ***\n"
          ]
        },
        {
          "metadata": {
            "tags": null
          },
          "name": "stderr",
          "output_type": "stream",
          "text": [
            "Epoch 16/50 [Train]:  63%|██████▎   | 63/100 [00:15<00:06,  6.06it/s, Loss=4.3470]"
          ]
        },
        {
          "metadata": {
            "tags": null
          },
          "name": "stdout",
          "output_type": "stream",
          "text": [
            "*** DEBUG: Completed batch 60/100 ***\n"
          ]
        },
        {
          "metadata": {
            "tags": null
          },
          "name": "stderr",
          "output_type": "stream",
          "text": [
            "Epoch 16/50 [Train]:  70%|███████   | 70/100 [00:17<00:05,  5.33it/s, Loss=3.4260]"
          ]
        },
        {
          "metadata": {
            "tags": null
          },
          "name": "stdout",
          "output_type": "stream",
          "text": [
            "*** DEBUG: Completed batch 70/100 ***\n"
          ]
        },
        {
          "metadata": {
            "tags": null
          },
          "name": "stderr",
          "output_type": "stream",
          "text": [
            "Epoch 16/50 [Train]:  81%|████████  | 81/100 [00:20<00:04,  3.86it/s, Loss=3.5093]"
          ]
        },
        {
          "metadata": {
            "tags": null
          },
          "name": "stdout",
          "output_type": "stream",
          "text": [
            "*** DEBUG: Completed batch 80/100 ***\n"
          ]
        },
        {
          "metadata": {
            "tags": null
          },
          "name": "stderr",
          "output_type": "stream",
          "text": [
            "Epoch 16/50 [Train]:  95%|█████████▌| 95/100 [00:22<00:00,  5.75it/s, Loss=3.5024]"
          ]
        },
        {
          "metadata": {
            "tags": null
          },
          "name": "stdout",
          "output_type": "stream",
          "text": [
            "*** DEBUG: Completed batch 90/100 ***\n"
          ]
        },
        {
          "metadata": {
            "tags": null
          },
          "name": "stderr",
          "output_type": "stream",
          "text": [
            "Epoch 16/50 [Train]: 100%|██████████| 100/100 [00:23<00:00,  4.22it/s, Loss=4.0069]\n"
          ]
        },
        {
          "metadata": {
            "tags": null
          },
          "name": "stdout",
          "output_type": "stream",
          "text": [
            "*** DEBUG: Training epoch 16 complete, starting validation ***\n"
          ]
        },
        {
          "metadata": {
            "tags": null
          },
          "name": "stderr",
          "output_type": "stream",
          "text": [
            "Epoch 16/50 [Val]: 100%|██████████| 25/25 [00:06<00:00,  4.08it/s, Loss=16.5615]\n"
          ]
        },
        {
          "metadata": {
            "tags": null
          },
          "name": "stdout",
          "output_type": "stream",
          "text": [
            "Epoch 16/50:\n",
            "  Train MAPE: 3.6074%\n",
            "  Val MAPE: 16.4744%\n",
            "  LR: 0.000100\n",
            "--------------------------------------------------\n"
          ]
        },
        {
          "metadata": {
            "tags": null
          },
          "name": "stderr",
          "output_type": "stream",
          "text": [
            "Epoch 17/50 [Train]:   4%|▍         | 4/100 [00:02<00:42,  2.25it/s, Loss=3.6408]"
          ]
        },
        {
          "metadata": {
            "tags": null
          },
          "name": "stdout",
          "output_type": "stream",
          "text": [
            "*** DEBUG Batch 0: Input shape: torch.Size([16, 5, 32, 313]), Target shape: torch.Size([16, 300, 1259]) ***\n",
            "*** DEBUG: GPU memory before forward: 0.86GB ***\n",
            "*** DEBUG: Starting forward pass for batch 0 ***\n",
            "*** DEBUG: Forward pass complete, output shape: torch.Size([16, 1, 300, 1259]) ***\n",
            "*** DEBUG: Starting loss calculation ***\n",
            "*** DEBUG: Loss calculated: 3.4635, starting backward ***\n",
            "*** DEBUG: Backward complete, running optimizer step ***\n",
            "*** DEBUG: Batch 0 complete ***\n",
            "*** DEBUG: GPU memory after batch: 0.89GB ***\n",
            "*** DEBUG: Completed batch 0/100 ***\n",
            "*** DEBUG Batch 1: Input shape: torch.Size([16, 5, 32, 313]), Target shape: torch.Size([16, 300, 1259]) ***\n",
            "*** DEBUG: GPU memory before forward: 0.86GB ***\n",
            "*** DEBUG: Starting forward pass for batch 1 ***\n",
            "*** DEBUG: Forward pass complete, output shape: torch.Size([16, 1, 300, 1259]) ***\n",
            "*** DEBUG: Starting loss calculation ***\n",
            "*** DEBUG: Loss calculated: 3.8182, starting backward ***\n",
            "*** DEBUG: Backward complete, running optimizer step ***\n",
            "*** DEBUG: Batch 1 complete ***\n",
            "*** DEBUG: GPU memory after batch: 0.89GB ***\n",
            "*** DEBUG Batch 2: Input shape: torch.Size([16, 5, 32, 313]), Target shape: torch.Size([16, 300, 1259]) ***\n",
            "*** DEBUG: GPU memory before forward: 0.86GB ***\n",
            "*** DEBUG: Starting forward pass for batch 2 ***\n",
            "*** DEBUG: Forward pass complete, output shape: torch.Size([16, 1, 300, 1259]) ***\n",
            "*** DEBUG: Starting loss calculation ***\n",
            "*** DEBUG: Loss calculated: 3.5431, starting backward ***\n",
            "*** DEBUG: Backward complete, running optimizer step ***\n",
            "*** DEBUG: Batch 2 complete ***\n",
            "*** DEBUG: GPU memory after batch: 0.89GB ***\n"
          ]
        },
        {
          "metadata": {
            "tags": null
          },
          "name": "stderr",
          "output_type": "stream",
          "text": [
            "Epoch 17/50 [Train]:  14%|█▍        | 14/100 [00:04<00:18,  4.69it/s, Loss=3.2727]"
          ]
        },
        {
          "metadata": {
            "tags": null
          },
          "name": "stdout",
          "output_type": "stream",
          "text": [
            "*** DEBUG: Completed batch 10/100 ***\n"
          ]
        },
        {
          "metadata": {
            "tags": null
          },
          "name": "stderr",
          "output_type": "stream",
          "text": [
            "Epoch 17/50 [Train]:  21%|██        | 21/100 [00:06<00:17,  4.60it/s, Loss=3.7944]"
          ]
        },
        {
          "metadata": {
            "tags": null
          },
          "name": "stdout",
          "output_type": "stream",
          "text": [
            "*** DEBUG: Completed batch 20/100 ***\n"
          ]
        },
        {
          "metadata": {
            "tags": null
          },
          "name": "stderr",
          "output_type": "stream",
          "text": [
            "Epoch 17/50 [Train]:  29%|██▉       | 29/100 [00:08<00:14,  4.80it/s, Loss=3.4273]"
          ]
        },
        {
          "metadata": {
            "tags": null
          },
          "name": "stdout",
          "output_type": "stream",
          "text": [
            "*** DEBUG: Completed batch 30/100 ***\n"
          ]
        },
        {
          "metadata": {
            "tags": null
          },
          "name": "stderr",
          "output_type": "stream",
          "text": [
            "Epoch 17/50 [Train]:  45%|████▌     | 45/100 [00:11<00:10,  5.13it/s, Loss=3.4061]"
          ]
        },
        {
          "metadata": {
            "tags": null
          },
          "name": "stdout",
          "output_type": "stream",
          "text": [
            "*** DEBUG: Completed batch 40/100 ***\n"
          ]
        },
        {
          "metadata": {
            "tags": null
          },
          "name": "stderr",
          "output_type": "stream",
          "text": [
            "Epoch 17/50 [Train]:  53%|█████▎    | 53/100 [00:13<00:09,  5.15it/s, Loss=4.1227]"
          ]
        },
        {
          "metadata": {
            "tags": null
          },
          "name": "stdout",
          "output_type": "stream",
          "text": [
            "*** DEBUG: Completed batch 50/100 ***\n"
          ]
        },
        {
          "metadata": {
            "tags": null
          },
          "name": "stderr",
          "output_type": "stream",
          "text": [
            "Epoch 17/50 [Train]:  61%|██████    | 61/100 [00:15<00:07,  5.03it/s, Loss=3.8056]"
          ]
        },
        {
          "metadata": {
            "tags": null
          },
          "name": "stdout",
          "output_type": "stream",
          "text": [
            "*** DEBUG: Completed batch 60/100 ***\n"
          ]
        },
        {
          "metadata": {
            "tags": null
          },
          "name": "stderr",
          "output_type": "stream",
          "text": [
            "Epoch 17/50 [Train]:  69%|██████▉   | 69/100 [00:17<00:06,  4.87it/s, Loss=3.4583]"
          ]
        },
        {
          "metadata": {
            "tags": null
          },
          "name": "stdout",
          "output_type": "stream",
          "text": [
            "*** DEBUG: Completed batch 70/100 ***\n"
          ]
        },
        {
          "metadata": {
            "tags": null
          },
          "name": "stderr",
          "output_type": "stream",
          "text": [
            "Epoch 17/50 [Train]:  85%|████████▌ | 85/100 [00:21<00:03,  4.98it/s, Loss=5.2081]"
          ]
        },
        {
          "metadata": {
            "tags": null
          },
          "name": "stdout",
          "output_type": "stream",
          "text": [
            "*** DEBUG: Completed batch 80/100 ***\n"
          ]
        },
        {
          "metadata": {
            "tags": null
          },
          "name": "stderr",
          "output_type": "stream",
          "text": [
            "Epoch 17/50 [Train]:  93%|█████████▎| 93/100 [00:23<00:01,  4.91it/s, Loss=4.3686]"
          ]
        },
        {
          "metadata": {
            "tags": null
          },
          "name": "stdout",
          "output_type": "stream",
          "text": [
            "*** DEBUG: Completed batch 90/100 ***\n"
          ]
        },
        {
          "metadata": {
            "tags": null
          },
          "name": "stderr",
          "output_type": "stream",
          "text": [
            "Epoch 17/50 [Train]: 100%|██████████| 100/100 [00:23<00:00,  4.18it/s, Loss=3.5277]\n"
          ]
        },
        {
          "metadata": {
            "tags": null
          },
          "name": "stdout",
          "output_type": "stream",
          "text": [
            "*** DEBUG: Training epoch 17 complete, starting validation ***\n"
          ]
        },
        {
          "metadata": {
            "tags": null
          },
          "name": "stderr",
          "output_type": "stream",
          "text": [
            "Epoch 17/50 [Val]: 100%|██████████| 25/25 [00:06<00:00,  4.04it/s, Loss=16.8534]\n"
          ]
        },
        {
          "metadata": {
            "tags": null
          },
          "name": "stdout",
          "output_type": "stream",
          "text": [
            "Epoch 17/50:\n",
            "  Train MAPE: 3.6583%\n",
            "  Val MAPE: 16.3891%\n",
            "  LR: 0.000100\n",
            "--------------------------------------------------\n"
          ]
        },
        {
          "metadata": {
            "tags": null
          },
          "name": "stderr",
          "output_type": "stream",
          "text": [
            "Epoch 18/50 [Train]:   4%|▍         | 4/100 [00:02<00:42,  2.27it/s, Loss=3.6685]"
          ]
        },
        {
          "metadata": {
            "tags": null
          },
          "name": "stdout",
          "output_type": "stream",
          "text": [
            "*** DEBUG Batch 0: Input shape: torch.Size([16, 5, 32, 313]), Target shape: torch.Size([16, 300, 1259]) ***\n",
            "*** DEBUG: GPU memory before forward: 0.86GB ***\n",
            "*** DEBUG: Starting forward pass for batch 0 ***\n",
            "*** DEBUG: Forward pass complete, output shape: torch.Size([16, 1, 300, 1259]) ***\n",
            "*** DEBUG: Starting loss calculation ***\n",
            "*** DEBUG: Loss calculated: 3.4921, starting backward ***\n",
            "*** DEBUG: Backward complete, running optimizer step ***\n",
            "*** DEBUG: Batch 0 complete ***\n",
            "*** DEBUG: GPU memory after batch: 0.89GB ***\n",
            "*** DEBUG: Completed batch 0/100 ***\n",
            "*** DEBUG Batch 1: Input shape: torch.Size([16, 5, 32, 313]), Target shape: torch.Size([16, 300, 1259]) ***\n",
            "*** DEBUG: GPU memory before forward: 0.86GB ***\n",
            "*** DEBUG: Starting forward pass for batch 1 ***\n",
            "*** DEBUG: Forward pass complete, output shape: torch.Size([16, 1, 300, 1259]) ***\n",
            "*** DEBUG: Starting loss calculation ***\n",
            "*** DEBUG: Loss calculated: 3.6251, starting backward ***\n",
            "*** DEBUG: Backward complete, running optimizer step ***\n",
            "*** DEBUG: Batch 1 complete ***\n",
            "*** DEBUG: GPU memory after batch: 0.89GB ***\n",
            "*** DEBUG Batch 2: Input shape: torch.Size([16, 5, 32, 313]), Target shape: torch.Size([16, 300, 1259]) ***\n",
            "*** DEBUG: GPU memory before forward: 0.86GB ***\n",
            "*** DEBUG: Starting forward pass for batch 2 ***\n",
            "*** DEBUG: Forward pass complete, output shape: torch.Size([16, 1, 300, 1259]) ***\n",
            "*** DEBUG: Starting loss calculation ***\n",
            "*** DEBUG: Loss calculated: 3.9660, starting backward ***\n",
            "*** DEBUG: Backward complete, running optimizer step ***\n",
            "*** DEBUG: Batch 2 complete ***\n",
            "*** DEBUG: GPU memory after batch: 0.89GB ***\n"
          ]
        },
        {
          "metadata": {
            "tags": null
          },
          "name": "stderr",
          "output_type": "stream",
          "text": [
            "Epoch 18/50 [Train]:  15%|█▌        | 15/100 [00:04<00:17,  4.98it/s, Loss=3.3573]"
          ]
        },
        {
          "metadata": {
            "tags": null
          },
          "name": "stdout",
          "output_type": "stream",
          "text": [
            "*** DEBUG: Completed batch 10/100 ***\n"
          ]
        },
        {
          "metadata": {
            "tags": null
          },
          "name": "stderr",
          "output_type": "stream",
          "text": [
            "Epoch 18/50 [Train]:  22%|██▏       | 22/100 [00:06<00:16,  4.73it/s, Loss=4.0710]"
          ]
        },
        {
          "metadata": {
            "tags": null
          },
          "name": "stdout",
          "output_type": "stream",
          "text": [
            "*** DEBUG: Completed batch 20/100 ***\n"
          ]
        },
        {
          "metadata": {
            "tags": null
          },
          "name": "stderr",
          "output_type": "stream",
          "text": [
            "Epoch 18/50 [Train]:  29%|██▉       | 29/100 [00:07<00:15,  4.64it/s, Loss=3.5590]"
          ]
        },
        {
          "metadata": {
            "tags": null
          },
          "name": "stdout",
          "output_type": "stream",
          "text": [
            "*** DEBUG: Completed batch 30/100 ***\n"
          ]
        },
        {
          "metadata": {
            "tags": null
          },
          "name": "stderr",
          "output_type": "stream",
          "text": [
            "Epoch 18/50 [Train]:  47%|████▋     | 47/100 [00:11<00:09,  5.35it/s, Loss=3.3472]"
          ]
        },
        {
          "metadata": {
            "tags": null
          },
          "name": "stdout",
          "output_type": "stream",
          "text": [
            "*** DEBUG: Completed batch 40/100 ***\n"
          ]
        },
        {
          "metadata": {
            "tags": null
          },
          "name": "stderr",
          "output_type": "stream",
          "text": [
            "Epoch 18/50 [Train]:  54%|█████▍    | 54/100 [00:13<00:09,  5.00it/s, Loss=3.5173]"
          ]
        },
        {
          "metadata": {
            "tags": null
          },
          "name": "stdout",
          "output_type": "stream",
          "text": [
            "*** DEBUG: Completed batch 50/100 ***\n"
          ]
        },
        {
          "metadata": {
            "tags": null
          },
          "name": "stderr",
          "output_type": "stream",
          "text": [
            "Epoch 18/50 [Train]:  61%|██████    | 61/100 [00:15<00:08,  4.84it/s, Loss=3.2688]"
          ]
        },
        {
          "metadata": {
            "tags": null
          },
          "name": "stdout",
          "output_type": "stream",
          "text": [
            "*** DEBUG: Completed batch 60/100 ***\n"
          ]
        },
        {
          "metadata": {
            "tags": null
          },
          "name": "stderr",
          "output_type": "stream",
          "text": [
            "Epoch 18/50 [Train]:  69%|██████▉   | 69/100 [00:17<00:06,  5.01it/s, Loss=3.3900]"
          ]
        },
        {
          "metadata": {
            "tags": null
          },
          "name": "stdout",
          "output_type": "stream",
          "text": [
            "*** DEBUG: Completed batch 70/100 ***\n"
          ]
        },
        {
          "metadata": {
            "tags": null
          },
          "name": "stderr",
          "output_type": "stream",
          "text": [
            "Epoch 18/50 [Train]:  83%|████████▎ | 83/100 [00:20<00:04,  3.79it/s, Loss=3.2076]"
          ]
        },
        {
          "metadata": {
            "tags": null
          },
          "name": "stdout",
          "output_type": "stream",
          "text": [
            "*** DEBUG: Completed batch 80/100 ***\n"
          ]
        },
        {
          "metadata": {
            "tags": null
          },
          "name": "stderr",
          "output_type": "stream",
          "text": [
            "Epoch 18/50 [Train]:  94%|█████████▍| 94/100 [00:22<00:01,  4.91it/s, Loss=3.9929]"
          ]
        },
        {
          "metadata": {
            "tags": null
          },
          "name": "stdout",
          "output_type": "stream",
          "text": [
            "*** DEBUG: Completed batch 90/100 ***\n"
          ]
        },
        {
          "metadata": {
            "tags": null
          },
          "name": "stderr",
          "output_type": "stream",
          "text": [
            "Epoch 18/50 [Train]: 100%|██████████| 100/100 [00:23<00:00,  4.22it/s, Loss=3.3178]\n"
          ]
        },
        {
          "metadata": {
            "tags": null
          },
          "name": "stdout",
          "output_type": "stream",
          "text": [
            "*** DEBUG: Training epoch 18 complete, starting validation ***\n"
          ]
        },
        {
          "metadata": {
            "tags": null
          },
          "name": "stderr",
          "output_type": "stream",
          "text": [
            "Epoch 18/50 [Val]: 100%|██████████| 25/25 [00:06<00:00,  4.12it/s, Loss=14.4510]\n"
          ]
        },
        {
          "metadata": {
            "tags": null
          },
          "name": "stdout",
          "output_type": "stream",
          "text": [
            "Epoch 18/50:\n",
            "  Train MAPE: 3.5708%\n",
            "  Val MAPE: 14.5019%\n",
            "  LR: 0.000010\n",
            "--------------------------------------------------\n"
          ]
        },
        {
          "metadata": {
            "tags": null
          },
          "name": "stderr",
          "output_type": "stream",
          "text": [
            "Epoch 19/50 [Train]:   4%|▍         | 4/100 [00:02<00:42,  2.26it/s, Loss=2.9971]"
          ]
        },
        {
          "metadata": {
            "tags": null
          },
          "name": "stdout",
          "output_type": "stream",
          "text": [
            "*** DEBUG Batch 0: Input shape: torch.Size([16, 5, 32, 313]), Target shape: torch.Size([16, 300, 1259]) ***\n",
            "*** DEBUG: GPU memory before forward: 0.86GB ***\n",
            "*** DEBUG: Starting forward pass for batch 0 ***\n",
            "*** DEBUG: Forward pass complete, output shape: torch.Size([16, 1, 300, 1259]) ***\n",
            "*** DEBUG: Starting loss calculation ***\n",
            "*** DEBUG: Loss calculated: 3.6168, starting backward ***\n",
            "*** DEBUG: Backward complete, running optimizer step ***\n",
            "*** DEBUG: Batch 0 complete ***\n",
            "*** DEBUG: GPU memory after batch: 0.89GB ***\n",
            "*** DEBUG: Completed batch 0/100 ***\n",
            "*** DEBUG Batch 1: Input shape: torch.Size([16, 5, 32, 313]), Target shape: torch.Size([16, 300, 1259]) ***\n",
            "*** DEBUG: GPU memory before forward: 0.86GB ***\n",
            "*** DEBUG: Starting forward pass for batch 1 ***\n",
            "*** DEBUG: Forward pass complete, output shape: torch.Size([16, 1, 300, 1259]) ***\n",
            "*** DEBUG: Starting loss calculation ***\n",
            "*** DEBUG: Loss calculated: 3.3259, starting backward ***\n",
            "*** DEBUG: Backward complete, running optimizer step ***\n",
            "*** DEBUG: Batch 1 complete ***\n",
            "*** DEBUG: GPU memory after batch: 0.89GB ***\n",
            "*** DEBUG Batch 2: Input shape: torch.Size([16, 5, 32, 313]), Target shape: torch.Size([16, 300, 1259]) ***\n",
            "*** DEBUG: GPU memory before forward: 0.86GB ***\n",
            "*** DEBUG: Starting forward pass for batch 2 ***\n",
            "*** DEBUG: Forward pass complete, output shape: torch.Size([16, 1, 300, 1259]) ***\n",
            "*** DEBUG: Starting loss calculation ***\n",
            "*** DEBUG: Loss calculated: 3.2369, starting backward ***\n",
            "*** DEBUG: Backward complete, running optimizer step ***\n",
            "*** DEBUG: Batch 2 complete ***\n",
            "*** DEBUG: GPU memory after batch: 0.89GB ***\n"
          ]
        },
        {
          "metadata": {
            "tags": null
          },
          "name": "stderr",
          "output_type": "stream",
          "text": [
            "Epoch 19/50 [Train]:  15%|█▌        | 15/100 [00:04<00:17,  4.81it/s, Loss=3.3270]"
          ]
        },
        {
          "metadata": {
            "tags": null
          },
          "name": "stdout",
          "output_type": "stream",
          "text": [
            "*** DEBUG: Completed batch 10/100 ***\n"
          ]
        },
        {
          "metadata": {
            "tags": null
          },
          "name": "stderr",
          "output_type": "stream",
          "text": [
            "Epoch 19/50 [Train]:  22%|██▏       | 22/100 [00:06<00:16,  4.77it/s, Loss=3.1740]"
          ]
        },
        {
          "metadata": {
            "tags": null
          },
          "name": "stdout",
          "output_type": "stream",
          "text": [
            "*** DEBUG: Completed batch 20/100 ***\n"
          ]
        },
        {
          "metadata": {
            "tags": null
          },
          "name": "stderr",
          "output_type": "stream",
          "text": [
            "Epoch 19/50 [Train]:  29%|██▉       | 29/100 [00:07<00:15,  4.67it/s, Loss=3.2445]"
          ]
        },
        {
          "metadata": {
            "tags": null
          },
          "name": "stdout",
          "output_type": "stream",
          "text": [
            "*** DEBUG: Completed batch 30/100 ***\n"
          ]
        },
        {
          "metadata": {
            "tags": null
          },
          "name": "stderr",
          "output_type": "stream",
          "text": [
            "Epoch 19/50 [Train]:  45%|████▌     | 45/100 [00:11<00:10,  5.03it/s, Loss=2.8509]"
          ]
        },
        {
          "metadata": {
            "tags": null
          },
          "name": "stdout",
          "output_type": "stream",
          "text": [
            "*** DEBUG: Completed batch 40/100 ***\n"
          ]
        },
        {
          "metadata": {
            "tags": null
          },
          "name": "stderr",
          "output_type": "stream",
          "text": [
            "Epoch 19/50 [Train]:  53%|█████▎    | 53/100 [00:13<00:09,  5.11it/s, Loss=3.6466]"
          ]
        },
        {
          "metadata": {
            "tags": null
          },
          "name": "stdout",
          "output_type": "stream",
          "text": [
            "*** DEBUG: Completed batch 50/100 ***\n"
          ]
        },
        {
          "metadata": {
            "tags": null
          },
          "name": "stderr",
          "output_type": "stream",
          "text": [
            "Epoch 19/50 [Train]:  61%|██████    | 61/100 [00:15<00:07,  5.10it/s, Loss=2.9072]"
          ]
        },
        {
          "metadata": {
            "tags": null
          },
          "name": "stdout",
          "output_type": "stream",
          "text": [
            "*** DEBUG: Completed batch 60/100 ***\n"
          ]
        },
        {
          "metadata": {
            "tags": null
          },
          "name": "stderr",
          "output_type": "stream",
          "text": [
            "Epoch 19/50 [Train]:  69%|██████▉   | 69/100 [00:17<00:06,  5.00it/s, Loss=2.8880]"
          ]
        },
        {
          "metadata": {
            "tags": null
          },
          "name": "stdout",
          "output_type": "stream",
          "text": [
            "*** DEBUG: Completed batch 70/100 ***\n"
          ]
        },
        {
          "metadata": {
            "tags": null
          },
          "name": "stderr",
          "output_type": "stream",
          "text": [
            "Epoch 19/50 [Train]:  85%|████████▌ | 85/100 [00:20<00:02,  5.04it/s, Loss=3.3863]"
          ]
        },
        {
          "metadata": {
            "tags": null
          },
          "name": "stdout",
          "output_type": "stream",
          "text": [
            "*** DEBUG: Completed batch 80/100 ***\n"
          ]
        },
        {
          "metadata": {
            "tags": null
          },
          "name": "stderr",
          "output_type": "stream",
          "text": [
            "Epoch 19/50 [Train]:  93%|█████████▎| 93/100 [00:22<00:01,  5.13it/s, Loss=3.4378]"
          ]
        },
        {
          "metadata": {
            "tags": null
          },
          "name": "stdout",
          "output_type": "stream",
          "text": [
            "*** DEBUG: Completed batch 90/100 ***\n"
          ]
        },
        {
          "metadata": {
            "tags": null
          },
          "name": "stderr",
          "output_type": "stream",
          "text": [
            "Epoch 19/50 [Train]: 100%|██████████| 100/100 [00:23<00:00,  4.23it/s, Loss=3.5149]\n"
          ]
        },
        {
          "metadata": {
            "tags": null
          },
          "name": "stdout",
          "output_type": "stream",
          "text": [
            "*** DEBUG: Training epoch 19 complete, starting validation ***\n"
          ]
        },
        {
          "metadata": {
            "tags": null
          },
          "name": "stderr",
          "output_type": "stream",
          "text": [
            "Epoch 19/50 [Val]: 100%|██████████| 25/25 [00:06<00:00,  4.06it/s, Loss=17.2967]\n"
          ]
        },
        {
          "metadata": {
            "tags": null
          },
          "name": "stdout",
          "output_type": "stream",
          "text": [
            "Epoch 19/50:\n",
            "  Train MAPE: 3.2954%\n",
            "  Val MAPE: 17.5602%\n",
            "  LR: 0.000010\n",
            "--------------------------------------------------\n"
          ]
        },
        {
          "metadata": {
            "tags": null
          },
          "name": "stderr",
          "output_type": "stream",
          "text": [
            "Epoch 20/50 [Train]:   4%|▍         | 4/100 [00:02<00:41,  2.31it/s, Loss=4.0466]"
          ]
        },
        {
          "metadata": {
            "tags": null
          },
          "name": "stdout",
          "output_type": "stream",
          "text": [
            "*** DEBUG Batch 0: Input shape: torch.Size([16, 5, 32, 313]), Target shape: torch.Size([16, 300, 1259]) ***\n",
            "*** DEBUG: GPU memory before forward: 0.86GB ***\n",
            "*** DEBUG: Starting forward pass for batch 0 ***\n",
            "*** DEBUG: Forward pass complete, output shape: torch.Size([16, 1, 300, 1259]) ***\n",
            "*** DEBUG: Starting loss calculation ***\n",
            "*** DEBUG: Loss calculated: 3.1126, starting backward ***\n",
            "*** DEBUG: Backward complete, running optimizer step ***\n",
            "*** DEBUG: Batch 0 complete ***\n",
            "*** DEBUG: GPU memory after batch: 0.89GB ***\n",
            "*** DEBUG: Completed batch 0/100 ***\n",
            "*** DEBUG Batch 1: Input shape: torch.Size([16, 5, 32, 313]), Target shape: torch.Size([16, 300, 1259]) ***\n",
            "*** DEBUG: GPU memory before forward: 0.86GB ***\n",
            "*** DEBUG: Starting forward pass for batch 1 ***\n",
            "*** DEBUG: Forward pass complete, output shape: torch.Size([16, 1, 300, 1259]) ***\n",
            "*** DEBUG: Starting loss calculation ***\n",
            "*** DEBUG: Loss calculated: 3.2834, starting backward ***\n",
            "*** DEBUG: Backward complete, running optimizer step ***\n",
            "*** DEBUG: Batch 1 complete ***\n",
            "*** DEBUG: GPU memory after batch: 0.89GB ***\n",
            "*** DEBUG Batch 2: Input shape: torch.Size([16, 5, 32, 313]), Target shape: torch.Size([16, 300, 1259]) ***\n",
            "*** DEBUG: GPU memory before forward: 0.86GB ***\n",
            "*** DEBUG: Starting forward pass for batch 2 ***\n",
            "*** DEBUG: Forward pass complete, output shape: torch.Size([16, 1, 300, 1259]) ***\n",
            "*** DEBUG: Starting loss calculation ***\n",
            "*** DEBUG: Loss calculated: 3.8965, starting backward ***\n",
            "*** DEBUG: Backward complete, running optimizer step ***\n",
            "*** DEBUG: Batch 2 complete ***\n",
            "*** DEBUG: GPU memory after batch: 0.89GB ***\n"
          ]
        },
        {
          "metadata": {
            "tags": null
          },
          "name": "stderr",
          "output_type": "stream",
          "text": [
            "Epoch 20/50 [Train]:  15%|█▌        | 15/100 [00:04<00:17,  4.83it/s, Loss=3.1532]"
          ]
        },
        {
          "metadata": {
            "tags": null
          },
          "name": "stdout",
          "output_type": "stream",
          "text": [
            "*** DEBUG: Completed batch 10/100 ***\n"
          ]
        },
        {
          "metadata": {
            "tags": null
          },
          "name": "stderr",
          "output_type": "stream",
          "text": [
            "Epoch 20/50 [Train]:  22%|██▏       | 22/100 [00:06<00:16,  4.78it/s, Loss=3.3184]"
          ]
        },
        {
          "metadata": {
            "tags": null
          },
          "name": "stdout",
          "output_type": "stream",
          "text": [
            "*** DEBUG: Completed batch 20/100 ***\n"
          ]
        },
        {
          "metadata": {
            "tags": null
          },
          "name": "stderr",
          "output_type": "stream",
          "text": [
            "Epoch 20/50 [Train]:  32%|███▏      | 32/100 [00:07<00:11,  6.03it/s, Loss=3.0687]"
          ]
        },
        {
          "metadata": {
            "tags": null
          },
          "name": "stdout",
          "output_type": "stream",
          "text": [
            "*** DEBUG: Completed batch 30/100 ***\n"
          ]
        },
        {
          "metadata": {
            "tags": null
          },
          "name": "stderr",
          "output_type": "stream",
          "text": [
            "Epoch 20/50 [Train]:  45%|████▌     | 45/100 [00:11<00:12,  4.49it/s, Loss=3.4294]"
          ]
        },
        {
          "metadata": {
            "tags": null
          },
          "name": "stdout",
          "output_type": "stream",
          "text": [
            "*** DEBUG: Completed batch 40/100 ***\n"
          ]
        },
        {
          "metadata": {
            "tags": null
          },
          "name": "stderr",
          "output_type": "stream",
          "text": [
            "Epoch 20/50 [Train]:  55%|█████▌    | 55/100 [00:13<00:08,  5.16it/s, Loss=3.2972]"
          ]
        },
        {
          "metadata": {
            "tags": null
          },
          "name": "stdout",
          "output_type": "stream",
          "text": [
            "*** DEBUG: Completed batch 50/100 ***\n"
          ]
        },
        {
          "metadata": {
            "tags": null
          },
          "name": "stderr",
          "output_type": "stream",
          "text": [
            "Epoch 20/50 [Train]:  62%|██████▏   | 62/100 [00:15<00:07,  4.92it/s, Loss=3.1502]"
          ]
        },
        {
          "metadata": {
            "tags": null
          },
          "name": "stdout",
          "output_type": "stream",
          "text": [
            "*** DEBUG: Completed batch 60/100 ***\n"
          ]
        },
        {
          "metadata": {
            "tags": null
          },
          "name": "stderr",
          "output_type": "stream",
          "text": [
            "Epoch 20/50 [Train]:  69%|██████▉   | 69/100 [00:17<00:06,  4.79it/s, Loss=2.9708]"
          ]
        },
        {
          "metadata": {
            "tags": null
          },
          "name": "stdout",
          "output_type": "stream",
          "text": [
            "*** DEBUG: Completed batch 70/100 ***\n"
          ]
        },
        {
          "metadata": {
            "tags": null
          },
          "name": "stderr",
          "output_type": "stream",
          "text": [
            "Epoch 20/50 [Train]:  85%|████████▌ | 85/100 [00:20<00:02,  5.06it/s, Loss=3.0446]"
          ]
        },
        {
          "metadata": {
            "tags": null
          },
          "name": "stdout",
          "output_type": "stream",
          "text": [
            "*** DEBUG: Completed batch 80/100 ***\n"
          ]
        },
        {
          "metadata": {
            "tags": null
          },
          "name": "stderr",
          "output_type": "stream",
          "text": [
            "Epoch 20/50 [Train]:  93%|█████████▎| 93/100 [00:22<00:01,  5.10it/s, Loss=3.1533]"
          ]
        },
        {
          "metadata": {
            "tags": null
          },
          "name": "stdout",
          "output_type": "stream",
          "text": [
            "*** DEBUG: Completed batch 90/100 ***\n"
          ]
        },
        {
          "metadata": {
            "tags": null
          },
          "name": "stderr",
          "output_type": "stream",
          "text": [
            "Epoch 20/50 [Train]: 100%|██████████| 100/100 [00:23<00:00,  4.24it/s, Loss=3.2268]\n"
          ]
        },
        {
          "metadata": {
            "tags": null
          },
          "name": "stdout",
          "output_type": "stream",
          "text": [
            "*** DEBUG: Training epoch 20 complete, starting validation ***\n"
          ]
        },
        {
          "metadata": {
            "tags": null
          },
          "name": "stderr",
          "output_type": "stream",
          "text": [
            "Epoch 20/50 [Val]: 100%|██████████| 25/25 [00:05<00:00,  4.18it/s, Loss=4.2959]\n"
          ]
        },
        {
          "metadata": {
            "tags": null
          },
          "name": "stdout",
          "output_type": "stream",
          "text": [
            "Epoch 20/50:\n",
            "  Train MAPE: 3.2409%\n",
            "  Val MAPE: 4.4597%\n",
            "  LR: 0.000010\n",
            "--------------------------------------------------\n",
            "New best model saved: /content/drive/MyDrive/ThinkOnward/Models/best_model_adaptive.pth\n"
          ]
        },
        {
          "metadata": {
            "tags": null
          },
          "name": "stderr",
          "output_type": "stream",
          "text": [
            "Epoch 21/50 [Train]:   3%|▎         | 3/100 [00:02<01:03,  1.53it/s, Loss=3.3620]"
          ]
        },
        {
          "metadata": {
            "tags": null
          },
          "name": "stdout",
          "output_type": "stream",
          "text": [
            "*** DEBUG Batch 0: Input shape: torch.Size([16, 5, 32, 313]), Target shape: torch.Size([16, 300, 1259]) ***\n",
            "*** DEBUG: GPU memory before forward: 0.86GB ***\n",
            "*** DEBUG: Starting forward pass for batch 0 ***\n",
            "*** DEBUG: Forward pass complete, output shape: torch.Size([16, 1, 300, 1259]) ***\n",
            "*** DEBUG: Starting loss calculation ***\n",
            "*** DEBUG: Loss calculated: 3.0774, starting backward ***\n",
            "*** DEBUG: Backward complete, running optimizer step ***\n",
            "*** DEBUG: Batch 0 complete ***\n",
            "*** DEBUG: GPU memory after batch: 0.89GB ***\n",
            "*** DEBUG: Completed batch 0/100 ***\n",
            "*** DEBUG Batch 1: Input shape: torch.Size([16, 5, 32, 313]), Target shape: torch.Size([16, 300, 1259]) ***\n",
            "*** DEBUG: GPU memory before forward: 0.86GB ***\n",
            "*** DEBUG: Starting forward pass for batch 1 ***\n",
            "*** DEBUG: Forward pass complete, output shape: torch.Size([16, 1, 300, 1259]) ***\n",
            "*** DEBUG: Starting loss calculation ***\n",
            "*** DEBUG: Loss calculated: 2.9988, starting backward ***\n",
            "*** DEBUG: Backward complete, running optimizer step ***\n",
            "*** DEBUG: Batch 1 complete ***\n",
            "*** DEBUG: GPU memory after batch: 0.89GB ***\n",
            "*** DEBUG Batch 2: Input shape: torch.Size([16, 5, 32, 313]), Target shape: torch.Size([16, 300, 1259]) ***\n",
            "*** DEBUG: GPU memory before forward: 0.86GB ***\n",
            "*** DEBUG: Starting forward pass for batch 2 ***\n",
            "*** DEBUG: Forward pass complete, output shape: torch.Size([16, 1, 300, 1259]) ***\n",
            "*** DEBUG: Starting loss calculation ***\n",
            "*** DEBUG: Loss calculated: 3.3620, starting backward ***\n",
            "*** DEBUG: Backward complete, running optimizer step ***\n",
            "*** DEBUG: Batch 2 complete ***\n",
            "*** DEBUG: GPU memory after batch: 0.89GB ***\n"
          ]
        },
        {
          "metadata": {
            "tags": null
          },
          "name": "stderr",
          "output_type": "stream",
          "text": [
            "Epoch 21/50 [Train]:  15%|█▌        | 15/100 [00:04<00:14,  5.92it/s, Loss=3.3351]"
          ]
        },
        {
          "metadata": {
            "tags": null
          },
          "name": "stdout",
          "output_type": "stream",
          "text": [
            "*** DEBUG: Completed batch 10/100 ***\n"
          ]
        },
        {
          "metadata": {
            "tags": null
          },
          "name": "stderr",
          "output_type": "stream",
          "text": [
            "Epoch 21/50 [Train]:  22%|██▏       | 22/100 [00:06<00:15,  4.98it/s, Loss=3.4500]"
          ]
        },
        {
          "metadata": {
            "tags": null
          },
          "name": "stdout",
          "output_type": "stream",
          "text": [
            "*** DEBUG: Completed batch 20/100 ***\n"
          ]
        },
        {
          "metadata": {
            "tags": null
          },
          "name": "stderr",
          "output_type": "stream",
          "text": [
            "Epoch 21/50 [Train]:  31%|███       | 31/100 [00:08<00:11,  6.06it/s, Loss=2.8584]"
          ]
        },
        {
          "metadata": {
            "tags": null
          },
          "name": "stdout",
          "output_type": "stream",
          "text": [
            "*** DEBUG: Completed batch 30/100 ***\n"
          ]
        },
        {
          "metadata": {
            "tags": null
          },
          "name": "stderr",
          "output_type": "stream",
          "text": [
            "Epoch 21/50 [Train]:  44%|████▍     | 44/100 [00:14<00:21,  2.57it/s, Loss=2.9597]"
          ]
        },
        {
          "metadata": {
            "tags": null
          },
          "name": "stdout",
          "output_type": "stream",
          "text": [
            "*** DEBUG: Completed batch 40/100 ***\n"
          ]
        },
        {
          "metadata": {
            "tags": null
          },
          "name": "stderr",
          "output_type": "stream",
          "text": [
            "Epoch 21/50 [Train]:  55%|█████▌    | 55/100 [00:16<00:10,  4.20it/s, Loss=3.2055]"
          ]
        },
        {
          "metadata": {
            "tags": null
          },
          "name": "stdout",
          "output_type": "stream",
          "text": [
            "*** DEBUG: Completed batch 50/100 ***\n"
          ]
        },
        {
          "metadata": {
            "tags": null
          },
          "name": "stderr",
          "output_type": "stream",
          "text": [
            "Epoch 21/50 [Train]:  62%|██████▏   | 62/100 [00:18<00:08,  4.37it/s, Loss=3.5639]"
          ]
        },
        {
          "metadata": {
            "tags": null
          },
          "name": "stdout",
          "output_type": "stream",
          "text": [
            "*** DEBUG: Completed batch 60/100 ***\n"
          ]
        },
        {
          "metadata": {
            "tags": null
          },
          "name": "stderr",
          "output_type": "stream",
          "text": [
            "Epoch 21/50 [Train]:  72%|███████▏  | 72/100 [00:20<00:04,  5.86it/s, Loss=3.3443]"
          ]
        },
        {
          "metadata": {
            "tags": null
          },
          "name": "stdout",
          "output_type": "stream",
          "text": [
            "*** DEBUG: Completed batch 70/100 ***\n"
          ]
        },
        {
          "metadata": {
            "tags": null
          },
          "name": "stderr",
          "output_type": "stream",
          "text": [
            "Epoch 21/50 [Train]:  86%|████████▌ | 86/100 [00:23<00:02,  4.75it/s, Loss=2.8775]"
          ]
        },
        {
          "metadata": {
            "tags": null
          },
          "name": "stdout",
          "output_type": "stream",
          "text": [
            "*** DEBUG: Completed batch 80/100 ***\n"
          ]
        },
        {
          "metadata": {
            "tags": null
          },
          "name": "stderr",
          "output_type": "stream",
          "text": [
            "Epoch 21/50 [Train]:  96%|█████████▌| 96/100 [00:25<00:00,  6.35it/s, Loss=3.3098]"
          ]
        },
        {
          "metadata": {
            "tags": null
          },
          "name": "stdout",
          "output_type": "stream",
          "text": [
            "*** DEBUG: Completed batch 90/100 ***\n"
          ]
        },
        {
          "metadata": {
            "tags": null
          },
          "name": "stderr",
          "output_type": "stream",
          "text": [
            "Epoch 21/50 [Train]: 100%|██████████| 100/100 [00:26<00:00,  3.78it/s, Loss=2.9916]\n"
          ]
        },
        {
          "metadata": {
            "tags": null
          },
          "name": "stdout",
          "output_type": "stream",
          "text": [
            "*** DEBUG: Training epoch 21 complete, starting validation ***\n"
          ]
        },
        {
          "metadata": {
            "tags": null
          },
          "name": "stderr",
          "output_type": "stream",
          "text": [
            "Epoch 21/50 [Val]: 100%|██████████| 25/25 [00:06<00:00,  4.13it/s, Loss=20.3440]\n"
          ]
        },
        {
          "metadata": {
            "tags": null
          },
          "name": "stdout",
          "output_type": "stream",
          "text": [
            "Epoch 21/50:\n",
            "  Train MAPE: 3.2037%\n",
            "  Val MAPE: 20.3680%\n",
            "  LR: 0.000010\n",
            "--------------------------------------------------\n"
          ]
        },
        {
          "metadata": {
            "tags": null
          },
          "name": "stderr",
          "output_type": "stream",
          "text": [
            "Epoch 22/50 [Train]:   4%|▍         | 4/100 [00:02<00:40,  2.35it/s, Loss=3.0382]"
          ]
        },
        {
          "metadata": {
            "tags": null
          },
          "name": "stdout",
          "output_type": "stream",
          "text": [
            "*** DEBUG Batch 0: Input shape: torch.Size([16, 5, 32, 313]), Target shape: torch.Size([16, 300, 1259]) ***\n",
            "*** DEBUG: GPU memory before forward: 0.86GB ***\n",
            "*** DEBUG: Starting forward pass for batch 0 ***\n",
            "*** DEBUG: Forward pass complete, output shape: torch.Size([16, 1, 300, 1259]) ***\n",
            "*** DEBUG: Starting loss calculation ***\n",
            "*** DEBUG: Loss calculated: 3.5093, starting backward ***\n",
            "*** DEBUG: Backward complete, running optimizer step ***\n",
            "*** DEBUG: Batch 0 complete ***\n",
            "*** DEBUG: GPU memory after batch: 0.89GB ***\n",
            "*** DEBUG: Completed batch 0/100 ***\n",
            "*** DEBUG Batch 1: Input shape: torch.Size([16, 5, 32, 313]), Target shape: torch.Size([16, 300, 1259]) ***\n",
            "*** DEBUG: GPU memory before forward: 0.86GB ***\n",
            "*** DEBUG: Starting forward pass for batch 1 ***\n",
            "*** DEBUG: Forward pass complete, output shape: torch.Size([16, 1, 300, 1259]) ***\n",
            "*** DEBUG: Starting loss calculation ***\n",
            "*** DEBUG: Loss calculated: 3.0935, starting backward ***\n",
            "*** DEBUG: Backward complete, running optimizer step ***\n",
            "*** DEBUG: Batch 1 complete ***\n",
            "*** DEBUG: GPU memory after batch: 0.89GB ***\n",
            "*** DEBUG Batch 2: Input shape: torch.Size([16, 5, 32, 313]), Target shape: torch.Size([16, 300, 1259]) ***\n",
            "*** DEBUG: GPU memory before forward: 0.86GB ***\n",
            "*** DEBUG: Starting forward pass for batch 2 ***\n",
            "*** DEBUG: Forward pass complete, output shape: torch.Size([16, 1, 300, 1259]) ***\n",
            "*** DEBUG: Starting loss calculation ***\n",
            "*** DEBUG: Loss calculated: 3.0451, starting backward ***\n",
            "*** DEBUG: Backward complete, running optimizer step ***\n",
            "*** DEBUG: Batch 2 complete ***\n",
            "*** DEBUG: GPU memory after batch: 0.89GB ***\n"
          ]
        },
        {
          "metadata": {
            "tags": null
          },
          "name": "stderr",
          "output_type": "stream",
          "text": [
            "Epoch 22/50 [Train]:  15%|█▌        | 15/100 [00:04<00:16,  5.02it/s, Loss=3.0280]"
          ]
        },
        {
          "metadata": {
            "tags": null
          },
          "name": "stdout",
          "output_type": "stream",
          "text": [
            "*** DEBUG: Completed batch 10/100 ***\n"
          ]
        },
        {
          "metadata": {
            "tags": null
          },
          "name": "stderr",
          "output_type": "stream",
          "text": [
            "Epoch 22/50 [Train]:  22%|██▏       | 22/100 [00:05<00:16,  4.77it/s, Loss=3.0777]"
          ]
        },
        {
          "metadata": {
            "tags": null
          },
          "name": "stdout",
          "output_type": "stream",
          "text": [
            "*** DEBUG: Completed batch 20/100 ***\n"
          ]
        },
        {
          "metadata": {
            "tags": null
          },
          "name": "stderr",
          "output_type": "stream",
          "text": [
            "Epoch 22/50 [Train]:  29%|██▉       | 29/100 [00:07<00:15,  4.72it/s, Loss=3.0070]"
          ]
        },
        {
          "metadata": {
            "tags": null
          },
          "name": "stdout",
          "output_type": "stream",
          "text": [
            "*** DEBUG: Completed batch 30/100 ***\n"
          ]
        },
        {
          "metadata": {
            "tags": null
          },
          "name": "stderr",
          "output_type": "stream",
          "text": [
            "Epoch 22/50 [Train]:  45%|████▌     | 45/100 [00:11<00:11,  4.91it/s, Loss=3.0670]"
          ]
        },
        {
          "metadata": {
            "tags": null
          },
          "name": "stdout",
          "output_type": "stream",
          "text": [
            "*** DEBUG: Completed batch 40/100 ***\n"
          ]
        },
        {
          "metadata": {
            "tags": null
          },
          "name": "stderr",
          "output_type": "stream",
          "text": [
            "Epoch 22/50 [Train]:  56%|█████▌    | 56/100 [00:13<00:07,  6.24it/s, Loss=3.2072]"
          ]
        },
        {
          "metadata": {
            "tags": null
          },
          "name": "stdout",
          "output_type": "stream",
          "text": [
            "*** DEBUG: Completed batch 50/100 ***\n"
          ]
        },
        {
          "metadata": {
            "tags": null
          },
          "name": "stderr",
          "output_type": "stream",
          "text": [
            "Epoch 22/50 [Train]:  63%|██████▎   | 63/100 [00:15<00:07,  5.23it/s, Loss=2.6799]"
          ]
        },
        {
          "metadata": {
            "tags": null
          },
          "name": "stdout",
          "output_type": "stream",
          "text": [
            "*** DEBUG: Completed batch 60/100 ***\n"
          ]
        },
        {
          "metadata": {
            "tags": null
          },
          "name": "stderr",
          "output_type": "stream",
          "text": [
            "Epoch 22/50 [Train]:  70%|███████   | 70/100 [00:17<00:06,  4.81it/s, Loss=3.2835]"
          ]
        },
        {
          "metadata": {
            "tags": null
          },
          "name": "stdout",
          "output_type": "stream",
          "text": [
            "*** DEBUG: Completed batch 70/100 ***\n"
          ]
        },
        {
          "metadata": {
            "tags": null
          },
          "name": "stderr",
          "output_type": "stream",
          "text": [
            "Epoch 22/50 [Train]:  85%|████████▌ | 85/100 [00:20<00:02,  5.01it/s, Loss=3.1893]"
          ]
        },
        {
          "metadata": {
            "tags": null
          },
          "name": "stdout",
          "output_type": "stream",
          "text": [
            "*** DEBUG: Completed batch 80/100 ***\n"
          ]
        },
        {
          "metadata": {
            "tags": null
          },
          "name": "stderr",
          "output_type": "stream",
          "text": [
            "Epoch 22/50 [Train]:  93%|█████████▎| 93/100 [00:22<00:01,  5.04it/s, Loss=3.0541]"
          ]
        },
        {
          "metadata": {
            "tags": null
          },
          "name": "stdout",
          "output_type": "stream",
          "text": [
            "*** DEBUG: Completed batch 90/100 ***\n"
          ]
        },
        {
          "metadata": {
            "tags": null
          },
          "name": "stderr",
          "output_type": "stream",
          "text": [
            "Epoch 22/50 [Train]: 100%|██████████| 100/100 [00:23<00:00,  4.23it/s, Loss=3.2195]\n"
          ]
        },
        {
          "metadata": {
            "tags": null
          },
          "name": "stdout",
          "output_type": "stream",
          "text": [
            "*** DEBUG: Training epoch 22 complete, starting validation ***\n"
          ]
        },
        {
          "metadata": {
            "tags": null
          },
          "name": "stderr",
          "output_type": "stream",
          "text": [
            "Epoch 22/50 [Val]: 100%|██████████| 25/25 [00:06<00:00,  4.16it/s, Loss=4.4410]\n"
          ]
        },
        {
          "metadata": {
            "tags": null
          },
          "name": "stdout",
          "output_type": "stream",
          "text": [
            "Epoch 22/50:\n",
            "  Train MAPE: 3.1977%\n",
            "  Val MAPE: 4.5672%\n",
            "  LR: 0.000010\n",
            "--------------------------------------------------\n"
          ]
        },
        {
          "metadata": {
            "tags": null
          },
          "name": "stderr",
          "output_type": "stream",
          "text": [
            "Epoch 23/50 [Train]:   4%|▍         | 4/100 [00:02<00:40,  2.40it/s, Loss=2.8743]"
          ]
        },
        {
          "metadata": {
            "tags": null
          },
          "name": "stdout",
          "output_type": "stream",
          "text": [
            "*** DEBUG Batch 0: Input shape: torch.Size([16, 5, 32, 313]), Target shape: torch.Size([16, 300, 1259]) ***\n",
            "*** DEBUG: GPU memory before forward: 0.86GB ***\n",
            "*** DEBUG: Starting forward pass for batch 0 ***\n",
            "*** DEBUG: Forward pass complete, output shape: torch.Size([16, 1, 300, 1259]) ***\n",
            "*** DEBUG: Starting loss calculation ***\n",
            "*** DEBUG: Loss calculated: 3.0847, starting backward ***\n",
            "*** DEBUG: Backward complete, running optimizer step ***\n",
            "*** DEBUG: Batch 0 complete ***\n",
            "*** DEBUG: GPU memory after batch: 0.89GB ***\n",
            "*** DEBUG: Completed batch 0/100 ***\n",
            "*** DEBUG Batch 1: Input shape: torch.Size([16, 5, 32, 313]), Target shape: torch.Size([16, 300, 1259]) ***\n",
            "*** DEBUG: GPU memory before forward: 0.86GB ***\n",
            "*** DEBUG: Starting forward pass for batch 1 ***\n",
            "*** DEBUG: Forward pass complete, output shape: torch.Size([16, 1, 300, 1259]) ***\n",
            "*** DEBUG: Starting loss calculation ***\n",
            "*** DEBUG: Loss calculated: 2.9104, starting backward ***\n",
            "*** DEBUG: Backward complete, running optimizer step ***\n",
            "*** DEBUG: Batch 1 complete ***\n",
            "*** DEBUG: GPU memory after batch: 0.89GB ***\n",
            "*** DEBUG Batch 2: Input shape: torch.Size([16, 5, 32, 313]), Target shape: torch.Size([16, 300, 1259]) ***\n",
            "*** DEBUG: GPU memory before forward: 0.86GB ***\n",
            "*** DEBUG: Starting forward pass for batch 2 ***\n",
            "*** DEBUG: Forward pass complete, output shape: torch.Size([16, 1, 300, 1259]) ***\n",
            "*** DEBUG: Starting loss calculation ***\n",
            "*** DEBUG: Loss calculated: 3.3182, starting backward ***\n",
            "*** DEBUG: Backward complete, running optimizer step ***\n",
            "*** DEBUG: Batch 2 complete ***\n",
            "*** DEBUG: GPU memory after batch: 0.89GB ***\n"
          ]
        },
        {
          "metadata": {
            "tags": null
          },
          "name": "stderr",
          "output_type": "stream",
          "text": [
            "Epoch 23/50 [Train]:  14%|█▍        | 14/100 [00:04<00:18,  4.74it/s, Loss=3.0497]"
          ]
        },
        {
          "metadata": {
            "tags": null
          },
          "name": "stdout",
          "output_type": "stream",
          "text": [
            "*** DEBUG: Completed batch 10/100 ***\n"
          ]
        },
        {
          "metadata": {
            "tags": null
          },
          "name": "stderr",
          "output_type": "stream",
          "text": [
            "Epoch 23/50 [Train]:  24%|██▍       | 24/100 [00:06<00:12,  6.24it/s, Loss=2.9819]"
          ]
        },
        {
          "metadata": {
            "tags": null
          },
          "name": "stdout",
          "output_type": "stream",
          "text": [
            "*** DEBUG: Completed batch 20/100 ***\n"
          ]
        },
        {
          "metadata": {
            "tags": null
          },
          "name": "stderr",
          "output_type": "stream",
          "text": [
            "Epoch 23/50 [Train]:  31%|███       | 31/100 [00:07<00:13,  5.29it/s, Loss=2.8421]"
          ]
        },
        {
          "metadata": {
            "tags": null
          },
          "name": "stdout",
          "output_type": "stream",
          "text": [
            "*** DEBUG: Completed batch 30/100 ***\n"
          ]
        },
        {
          "metadata": {
            "tags": null
          },
          "name": "stderr",
          "output_type": "stream",
          "text": [
            "Epoch 23/50 [Train]:  44%|████▍     | 44/100 [00:11<00:13,  4.28it/s, Loss=3.4943]"
          ]
        },
        {
          "metadata": {
            "tags": null
          },
          "name": "stdout",
          "output_type": "stream",
          "text": [
            "*** DEBUG: Completed batch 40/100 ***\n"
          ]
        },
        {
          "metadata": {
            "tags": null
          },
          "name": "stderr",
          "output_type": "stream",
          "text": [
            "Epoch 23/50 [Train]:  55%|█████▌    | 55/100 [00:13<00:08,  5.16it/s, Loss=3.1762]"
          ]
        },
        {
          "metadata": {
            "tags": null
          },
          "name": "stdout",
          "output_type": "stream",
          "text": [
            "*** DEBUG: Completed batch 50/100 ***\n"
          ]
        },
        {
          "metadata": {
            "tags": null
          },
          "name": "stderr",
          "output_type": "stream",
          "text": [
            "Epoch 23/50 [Train]:  62%|██████▏   | 62/100 [00:15<00:07,  4.82it/s, Loss=3.1288]"
          ]
        },
        {
          "metadata": {
            "tags": null
          },
          "name": "stdout",
          "output_type": "stream",
          "text": [
            "*** DEBUG: Completed batch 60/100 ***\n"
          ]
        },
        {
          "metadata": {
            "tags": null
          },
          "name": "stderr",
          "output_type": "stream",
          "text": [
            "Epoch 23/50 [Train]:  69%|██████▉   | 69/100 [00:17<00:06,  4.69it/s, Loss=3.5132]"
          ]
        },
        {
          "metadata": {
            "tags": null
          },
          "name": "stdout",
          "output_type": "stream",
          "text": [
            "*** DEBUG: Completed batch 70/100 ***\n"
          ]
        },
        {
          "metadata": {
            "tags": null
          },
          "name": "stderr",
          "output_type": "stream",
          "text": [
            "Epoch 23/50 [Train]:  85%|████████▌ | 85/100 [00:21<00:02,  5.06it/s, Loss=3.0370]"
          ]
        },
        {
          "metadata": {
            "tags": null
          },
          "name": "stdout",
          "output_type": "stream",
          "text": [
            "*** DEBUG: Completed batch 80/100 ***\n"
          ]
        },
        {
          "metadata": {
            "tags": null
          },
          "name": "stderr",
          "output_type": "stream",
          "text": [
            "Epoch 23/50 [Train]:  93%|█████████▎| 93/100 [00:22<00:01,  5.22it/s, Loss=3.1500]"
          ]
        },
        {
          "metadata": {
            "tags": null
          },
          "name": "stdout",
          "output_type": "stream",
          "text": [
            "*** DEBUG: Completed batch 90/100 ***\n"
          ]
        },
        {
          "metadata": {
            "tags": null
          },
          "name": "stderr",
          "output_type": "stream",
          "text": [
            "Epoch 23/50 [Train]: 100%|██████████| 100/100 [00:23<00:00,  4.24it/s, Loss=3.2715]\n"
          ]
        },
        {
          "metadata": {
            "tags": null
          },
          "name": "stdout",
          "output_type": "stream",
          "text": [
            "*** DEBUG: Training epoch 23 complete, starting validation ***\n"
          ]
        },
        {
          "metadata": {
            "tags": null
          },
          "name": "stderr",
          "output_type": "stream",
          "text": [
            "Epoch 23/50 [Val]: 100%|██████████| 25/25 [00:06<00:00,  4.15it/s, Loss=4.5871]\n"
          ]
        },
        {
          "metadata": {
            "tags": null
          },
          "name": "stdout",
          "output_type": "stream",
          "text": [
            "Epoch 23/50:\n",
            "  Train MAPE: 3.1981%\n",
            "  Val MAPE: 4.7592%\n",
            "  LR: 0.000010\n",
            "--------------------------------------------------\n"
          ]
        },
        {
          "metadata": {
            "tags": null
          },
          "name": "stderr",
          "output_type": "stream",
          "text": [
            "Epoch 24/50 [Train]:   4%|▍         | 4/100 [00:02<00:41,  2.34it/s, Loss=3.2566]"
          ]
        },
        {
          "metadata": {
            "tags": null
          },
          "name": "stdout",
          "output_type": "stream",
          "text": [
            "*** DEBUG Batch 0: Input shape: torch.Size([16, 5, 32, 313]), Target shape: torch.Size([16, 300, 1259]) ***\n",
            "*** DEBUG: GPU memory before forward: 0.86GB ***\n",
            "*** DEBUG: Starting forward pass for batch 0 ***\n",
            "*** DEBUG: Forward pass complete, output shape: torch.Size([16, 1, 300, 1259]) ***\n",
            "*** DEBUG: Starting loss calculation ***\n",
            "*** DEBUG: Loss calculated: 2.9819, starting backward ***\n",
            "*** DEBUG: Backward complete, running optimizer step ***\n",
            "*** DEBUG: Batch 0 complete ***\n",
            "*** DEBUG: GPU memory after batch: 0.89GB ***\n",
            "*** DEBUG: Completed batch 0/100 ***\n",
            "*** DEBUG Batch 1: Input shape: torch.Size([16, 5, 32, 313]), Target shape: torch.Size([16, 300, 1259]) ***\n",
            "*** DEBUG: GPU memory before forward: 0.86GB ***\n",
            "*** DEBUG: Starting forward pass for batch 1 ***\n",
            "*** DEBUG: Forward pass complete, output shape: torch.Size([16, 1, 300, 1259]) ***\n",
            "*** DEBUG: Starting loss calculation ***\n",
            "*** DEBUG: Loss calculated: 3.0625, starting backward ***\n",
            "*** DEBUG: Backward complete, running optimizer step ***\n",
            "*** DEBUG: Batch 1 complete ***\n",
            "*** DEBUG: GPU memory after batch: 0.89GB ***\n",
            "*** DEBUG Batch 2: Input shape: torch.Size([16, 5, 32, 313]), Target shape: torch.Size([16, 300, 1259]) ***\n",
            "*** DEBUG: GPU memory before forward: 0.86GB ***\n",
            "*** DEBUG: Starting forward pass for batch 2 ***\n",
            "*** DEBUG: Forward pass complete, output shape: torch.Size([16, 1, 300, 1259]) ***\n",
            "*** DEBUG: Starting loss calculation ***\n",
            "*** DEBUG: Loss calculated: 3.1237, starting backward ***\n",
            "*** DEBUG: Backward complete, running optimizer step ***\n",
            "*** DEBUG: Batch 2 complete ***\n",
            "*** DEBUG: GPU memory after batch: 0.89GB ***\n"
          ]
        },
        {
          "metadata": {
            "tags": null
          },
          "name": "stderr",
          "output_type": "stream",
          "text": [
            "Epoch 24/50 [Train]:  15%|█▌        | 15/100 [00:04<00:17,  4.85it/s, Loss=3.2339]"
          ]
        },
        {
          "metadata": {
            "tags": null
          },
          "name": "stdout",
          "output_type": "stream",
          "text": [
            "*** DEBUG: Completed batch 10/100 ***\n"
          ]
        },
        {
          "metadata": {
            "tags": null
          },
          "name": "stderr",
          "output_type": "stream",
          "text": [
            "Epoch 24/50 [Train]:  22%|██▏       | 22/100 [00:06<00:16,  4.77it/s, Loss=3.2443]"
          ]
        },
        {
          "metadata": {
            "tags": null
          },
          "name": "stdout",
          "output_type": "stream",
          "text": [
            "*** DEBUG: Completed batch 20/100 ***\n"
          ]
        },
        {
          "metadata": {
            "tags": null
          },
          "name": "stderr",
          "output_type": "stream",
          "text": [
            "Epoch 24/50 [Train]:  29%|██▉       | 29/100 [00:07<00:15,  4.67it/s, Loss=3.1601]"
          ]
        },
        {
          "metadata": {
            "tags": null
          },
          "name": "stdout",
          "output_type": "stream",
          "text": [
            "*** DEBUG: Completed batch 30/100 ***\n"
          ]
        },
        {
          "metadata": {
            "tags": null
          },
          "name": "stderr",
          "output_type": "stream",
          "text": [
            "Epoch 24/50 [Train]:  45%|████▌     | 45/100 [00:11<00:10,  5.02it/s, Loss=3.2582]"
          ]
        },
        {
          "metadata": {
            "tags": null
          },
          "name": "stdout",
          "output_type": "stream",
          "text": [
            "*** DEBUG: Completed batch 40/100 ***\n"
          ]
        },
        {
          "metadata": {
            "tags": null
          },
          "name": "stderr",
          "output_type": "stream",
          "text": [
            "Epoch 24/50 [Train]:  53%|█████▎    | 53/100 [00:13<00:09,  4.96it/s, Loss=3.1177]"
          ]
        },
        {
          "metadata": {
            "tags": null
          },
          "name": "stdout",
          "output_type": "stream",
          "text": [
            "*** DEBUG: Completed batch 50/100 ***\n"
          ]
        },
        {
          "metadata": {
            "tags": null
          },
          "name": "stderr",
          "output_type": "stream",
          "text": [
            "Epoch 24/50 [Train]:  61%|██████    | 61/100 [00:15<00:07,  4.96it/s, Loss=3.2186]"
          ]
        },
        {
          "metadata": {
            "tags": null
          },
          "name": "stdout",
          "output_type": "stream",
          "text": [
            "*** DEBUG: Completed batch 60/100 ***\n"
          ]
        },
        {
          "metadata": {
            "tags": null
          },
          "name": "stderr",
          "output_type": "stream",
          "text": [
            "Epoch 24/50 [Train]:  69%|██████▉   | 69/100 [00:17<00:06,  4.98it/s, Loss=3.2058]"
          ]
        },
        {
          "metadata": {
            "tags": null
          },
          "name": "stdout",
          "output_type": "stream",
          "text": [
            "*** DEBUG: Completed batch 70/100 ***\n"
          ]
        },
        {
          "metadata": {
            "tags": null
          },
          "name": "stderr",
          "output_type": "stream",
          "text": [
            "Epoch 24/50 [Train]:  85%|████████▌ | 85/100 [00:20<00:02,  5.15it/s, Loss=3.2002]"
          ]
        },
        {
          "metadata": {
            "tags": null
          },
          "name": "stdout",
          "output_type": "stream",
          "text": [
            "*** DEBUG: Completed batch 80/100 ***\n"
          ]
        },
        {
          "metadata": {
            "tags": null
          },
          "name": "stderr",
          "output_type": "stream",
          "text": [
            "Epoch 24/50 [Train]:  93%|█████████▎| 93/100 [00:22<00:01,  5.37it/s, Loss=3.6781]"
          ]
        },
        {
          "metadata": {
            "tags": null
          },
          "name": "stdout",
          "output_type": "stream",
          "text": [
            "*** DEBUG: Completed batch 90/100 ***\n"
          ]
        },
        {
          "metadata": {
            "tags": null
          },
          "name": "stderr",
          "output_type": "stream",
          "text": [
            "Epoch 24/50 [Train]: 100%|██████████| 100/100 [00:23<00:00,  4.26it/s, Loss=3.1328]\n"
          ]
        },
        {
          "metadata": {
            "tags": null
          },
          "name": "stdout",
          "output_type": "stream",
          "text": [
            "*** DEBUG: Training epoch 24 complete, starting validation ***\n"
          ]
        },
        {
          "metadata": {
            "tags": null
          },
          "name": "stderr",
          "output_type": "stream",
          "text": [
            "Epoch 24/50 [Val]: 100%|██████████| 25/25 [00:06<00:00,  4.01it/s, Loss=3.2434]\n"
          ]
        },
        {
          "metadata": {
            "tags": null
          },
          "name": "stdout",
          "output_type": "stream",
          "text": [
            "Epoch 24/50:\n",
            "  Train MAPE: 3.1960%\n",
            "  Val MAPE: 3.3319%\n",
            "  LR: 0.000010\n",
            "--------------------------------------------------\n",
            "New best model saved: /content/drive/MyDrive/ThinkOnward/Models/best_model_adaptive.pth\n"
          ]
        },
        {
          "metadata": {
            "tags": null
          },
          "name": "stderr",
          "output_type": "stream",
          "text": [
            "Epoch 25/50 [Train]:   4%|▍         | 4/100 [00:02<00:46,  2.08it/s, Loss=3.2450]"
          ]
        },
        {
          "metadata": {
            "tags": null
          },
          "name": "stdout",
          "output_type": "stream",
          "text": [
            "*** DEBUG Batch 0: Input shape: torch.Size([16, 5, 32, 313]), Target shape: torch.Size([16, 300, 1259]) ***\n",
            "*** DEBUG: GPU memory before forward: 0.86GB ***\n",
            "*** DEBUG: Starting forward pass for batch 0 ***\n",
            "*** DEBUG: Forward pass complete, output shape: torch.Size([16, 1, 300, 1259]) ***\n",
            "*** DEBUG: Starting loss calculation ***\n",
            "*** DEBUG: Loss calculated: 2.9196, starting backward ***\n",
            "*** DEBUG: Backward complete, running optimizer step ***\n",
            "*** DEBUG: Batch 0 complete ***\n",
            "*** DEBUG: GPU memory after batch: 0.89GB ***\n",
            "*** DEBUG: Completed batch 0/100 ***\n",
            "*** DEBUG Batch 1: Input shape: torch.Size([16, 5, 32, 313]), Target shape: torch.Size([16, 300, 1259]) ***\n",
            "*** DEBUG: GPU memory before forward: 0.86GB ***\n",
            "*** DEBUG: Starting forward pass for batch 1 ***\n",
            "*** DEBUG: Forward pass complete, output shape: torch.Size([16, 1, 300, 1259]) ***\n",
            "*** DEBUG: Starting loss calculation ***\n",
            "*** DEBUG: Loss calculated: 3.1896, starting backward ***\n",
            "*** DEBUG: Backward complete, running optimizer step ***\n",
            "*** DEBUG: Batch 1 complete ***\n",
            "*** DEBUG: GPU memory after batch: 0.89GB ***\n",
            "*** DEBUG Batch 2: Input shape: torch.Size([16, 5, 32, 313]), Target shape: torch.Size([16, 300, 1259]) ***\n",
            "*** DEBUG: GPU memory before forward: 0.86GB ***\n",
            "*** DEBUG: Starting forward pass for batch 2 ***\n",
            "*** DEBUG: Forward pass complete, output shape: torch.Size([16, 1, 300, 1259]) ***\n",
            "*** DEBUG: Starting loss calculation ***\n",
            "*** DEBUG: Loss calculated: 3.1147, starting backward ***\n",
            "*** DEBUG: Backward complete, running optimizer step ***\n",
            "*** DEBUG: Batch 2 complete ***\n",
            "*** DEBUG: GPU memory after batch: 0.89GB ***\n"
          ]
        },
        {
          "metadata": {
            "tags": null
          },
          "name": "stderr",
          "output_type": "stream",
          "text": [
            "Epoch 25/50 [Train]:  15%|█▌        | 15/100 [00:04<00:17,  4.76it/s, Loss=3.1925]"
          ]
        },
        {
          "metadata": {
            "tags": null
          },
          "name": "stdout",
          "output_type": "stream",
          "text": [
            "*** DEBUG: Completed batch 10/100 ***\n"
          ]
        },
        {
          "metadata": {
            "tags": null
          },
          "name": "stderr",
          "output_type": "stream",
          "text": [
            "Epoch 25/50 [Train]:  22%|██▏       | 22/100 [00:06<00:16,  4.70it/s, Loss=3.3438]"
          ]
        },
        {
          "metadata": {
            "tags": null
          },
          "name": "stdout",
          "output_type": "stream",
          "text": [
            "*** DEBUG: Completed batch 20/100 ***\n"
          ]
        },
        {
          "metadata": {
            "tags": null
          },
          "name": "stderr",
          "output_type": "stream",
          "text": [
            "Epoch 25/50 [Train]:  32%|███▏      | 32/100 [00:08<00:10,  6.30it/s, Loss=3.3910]"
          ]
        },
        {
          "metadata": {
            "tags": null
          },
          "name": "stdout",
          "output_type": "stream",
          "text": [
            "*** DEBUG: Completed batch 30/100 ***\n"
          ]
        },
        {
          "metadata": {
            "tags": null
          },
          "name": "stderr",
          "output_type": "stream",
          "text": [
            "Epoch 25/50 [Train]:  42%|████▏     | 42/100 [00:14<00:30,  1.93it/s, Loss=3.2028]"
          ]
        },
        {
          "metadata": {
            "tags": null
          },
          "name": "stdout",
          "output_type": "stream",
          "text": [
            "*** DEBUG: Completed batch 40/100 ***\n"
          ]
        },
        {
          "metadata": {
            "tags": null
          },
          "name": "stderr",
          "output_type": "stream",
          "text": [
            "Epoch 25/50 [Train]:  55%|█████▌    | 55/100 [00:16<00:11,  4.06it/s, Loss=3.3841]"
          ]
        },
        {
          "metadata": {
            "tags": null
          },
          "name": "stdout",
          "output_type": "stream",
          "text": [
            "*** DEBUG: Completed batch 50/100 ***\n"
          ]
        },
        {
          "metadata": {
            "tags": null
          },
          "name": "stderr",
          "output_type": "stream",
          "text": [
            "Epoch 25/50 [Train]:  62%|██████▏   | 62/100 [00:18<00:08,  4.39it/s, Loss=3.1400]"
          ]
        },
        {
          "metadata": {
            "tags": null
          },
          "name": "stdout",
          "output_type": "stream",
          "text": [
            "*** DEBUG: Completed batch 60/100 ***\n"
          ]
        },
        {
          "metadata": {
            "tags": null
          },
          "name": "stderr",
          "output_type": "stream",
          "text": [
            "Epoch 25/50 [Train]:  71%|███████   | 71/100 [00:19<00:05,  5.61it/s, Loss=3.3418]"
          ]
        },
        {
          "metadata": {
            "tags": null
          },
          "name": "stdout",
          "output_type": "stream",
          "text": [
            "*** DEBUG: Completed batch 70/100 ***\n"
          ]
        },
        {
          "metadata": {
            "tags": null
          },
          "name": "stderr",
          "output_type": "stream",
          "text": [
            "Epoch 25/50 [Train]:  81%|████████  | 81/100 [00:23<00:05,  3.65it/s, Loss=2.8978]"
          ]
        },
        {
          "metadata": {
            "tags": null
          },
          "name": "stdout",
          "output_type": "stream",
          "text": [
            "*** DEBUG: Completed batch 80/100 ***\n"
          ]
        },
        {
          "metadata": {
            "tags": null
          },
          "name": "stderr",
          "output_type": "stream",
          "text": [
            "Epoch 25/50 [Train]:  95%|█████████▌| 95/100 [00:25<00:00,  6.26it/s, Loss=3.1191]"
          ]
        },
        {
          "metadata": {
            "tags": null
          },
          "name": "stdout",
          "output_type": "stream",
          "text": [
            "*** DEBUG: Completed batch 90/100 ***\n"
          ]
        },
        {
          "metadata": {
            "tags": null
          },
          "name": "stderr",
          "output_type": "stream",
          "text": [
            "Epoch 25/50 [Train]: 100%|██████████| 100/100 [00:26<00:00,  3.83it/s, Loss=3.1170]\n"
          ]
        },
        {
          "metadata": {
            "tags": null
          },
          "name": "stdout",
          "output_type": "stream",
          "text": [
            "*** DEBUG: Training epoch 25 complete, starting validation ***\n"
          ]
        },
        {
          "metadata": {
            "tags": null
          },
          "name": "stderr",
          "output_type": "stream",
          "text": [
            "Epoch 25/50 [Val]: 100%|██████████| 25/25 [00:05<00:00,  4.26it/s, Loss=3.4599]\n"
          ]
        },
        {
          "metadata": {
            "tags": null
          },
          "name": "stdout",
          "output_type": "stream",
          "text": [
            "Epoch 25/50:\n",
            "  Train MAPE: 3.1868%\n",
            "  Val MAPE: 3.6260%\n",
            "  LR: 0.000010\n",
            "--------------------------------------------------\n"
          ]
        },
        {
          "metadata": {
            "tags": null
          },
          "name": "stderr",
          "output_type": "stream",
          "text": [
            "Epoch 26/50 [Train]:   4%|▍         | 4/100 [00:02<00:40,  2.40it/s, Loss=3.1408]"
          ]
        },
        {
          "metadata": {
            "tags": null
          },
          "name": "stdout",
          "output_type": "stream",
          "text": [
            "*** DEBUG Batch 0: Input shape: torch.Size([16, 5, 32, 313]), Target shape: torch.Size([16, 300, 1259]) ***\n",
            "*** DEBUG: GPU memory before forward: 0.86GB ***\n",
            "*** DEBUG: Starting forward pass for batch 0 ***\n",
            "*** DEBUG: Forward pass complete, output shape: torch.Size([16, 1, 300, 1259]) ***\n",
            "*** DEBUG: Starting loss calculation ***\n",
            "*** DEBUG: Loss calculated: 3.3141, starting backward ***\n",
            "*** DEBUG: Backward complete, running optimizer step ***\n",
            "*** DEBUG: Batch 0 complete ***\n",
            "*** DEBUG: GPU memory after batch: 0.89GB ***\n",
            "*** DEBUG: Completed batch 0/100 ***\n",
            "*** DEBUG Batch 1: Input shape: torch.Size([16, 5, 32, 313]), Target shape: torch.Size([16, 300, 1259]) ***\n",
            "*** DEBUG: GPU memory before forward: 0.86GB ***\n",
            "*** DEBUG: Starting forward pass for batch 1 ***\n",
            "*** DEBUG: Forward pass complete, output shape: torch.Size([16, 1, 300, 1259]) ***\n",
            "*** DEBUG: Starting loss calculation ***\n",
            "*** DEBUG: Loss calculated: 3.5306, starting backward ***\n",
            "*** DEBUG: Backward complete, running optimizer step ***\n",
            "*** DEBUG: Batch 1 complete ***\n",
            "*** DEBUG: GPU memory after batch: 0.89GB ***\n",
            "*** DEBUG Batch 2: Input shape: torch.Size([16, 5, 32, 313]), Target shape: torch.Size([16, 300, 1259]) ***\n",
            "*** DEBUG: GPU memory before forward: 0.86GB ***\n",
            "*** DEBUG: Starting forward pass for batch 2 ***\n",
            "*** DEBUG: Forward pass complete, output shape: torch.Size([16, 1, 300, 1259]) ***\n",
            "*** DEBUG: Starting loss calculation ***\n",
            "*** DEBUG: Loss calculated: 3.2302, starting backward ***\n",
            "*** DEBUG: Backward complete, running optimizer step ***\n",
            "*** DEBUG: Batch 2 complete ***\n",
            "*** DEBUG: GPU memory after batch: 0.89GB ***\n"
          ]
        },
        {
          "metadata": {
            "tags": null
          },
          "name": "stderr",
          "output_type": "stream",
          "text": [
            "Epoch 26/50 [Train]:  14%|█▍        | 14/100 [00:04<00:18,  4.78it/s, Loss=3.0712]"
          ]
        },
        {
          "metadata": {
            "tags": null
          },
          "name": "stdout",
          "output_type": "stream",
          "text": [
            "*** DEBUG: Completed batch 10/100 ***\n"
          ]
        },
        {
          "metadata": {
            "tags": null
          },
          "name": "stderr",
          "output_type": "stream",
          "text": [
            "Epoch 26/50 [Train]:  24%|██▍       | 24/100 [00:06<00:12,  6.25it/s, Loss=2.9237]"
          ]
        },
        {
          "metadata": {
            "tags": null
          },
          "name": "stdout",
          "output_type": "stream",
          "text": [
            "*** DEBUG: Completed batch 20/100 ***\n"
          ]
        },
        {
          "metadata": {
            "tags": null
          },
          "name": "stderr",
          "output_type": "stream",
          "text": [
            "Epoch 26/50 [Train]:  30%|███       | 30/100 [00:08<00:15,  4.50it/s, Loss=3.6280]"
          ]
        },
        {
          "metadata": {
            "tags": null
          },
          "name": "stdout",
          "output_type": "stream",
          "text": [
            "*** DEBUG: Completed batch 30/100 ***\n"
          ]
        },
        {
          "metadata": {
            "tags": null
          },
          "name": "stderr",
          "output_type": "stream",
          "text": [
            "Epoch 26/50 [Train]:  43%|████▎     | 43/100 [00:11<00:15,  3.59it/s, Loss=3.1193]"
          ]
        },
        {
          "metadata": {
            "tags": null
          },
          "name": "stdout",
          "output_type": "stream",
          "text": [
            "*** DEBUG: Completed batch 40/100 ***\n"
          ]
        },
        {
          "metadata": {
            "tags": null
          },
          "name": "stderr",
          "output_type": "stream",
          "text": [
            "Epoch 26/50 [Train]:  54%|█████▍    | 54/100 [00:13<00:09,  4.78it/s, Loss=2.9853]"
          ]
        },
        {
          "metadata": {
            "tags": null
          },
          "name": "stdout",
          "output_type": "stream",
          "text": [
            "*** DEBUG: Completed batch 50/100 ***\n"
          ]
        },
        {
          "metadata": {
            "tags": null
          },
          "name": "stderr",
          "output_type": "stream",
          "text": [
            "Epoch 26/50 [Train]:  63%|██████▎   | 63/100 [00:15<00:06,  5.38it/s, Loss=2.9380]"
          ]
        },
        {
          "metadata": {
            "tags": null
          },
          "name": "stdout",
          "output_type": "stream",
          "text": [
            "*** DEBUG: Completed batch 60/100 ***\n"
          ]
        },
        {
          "metadata": {
            "tags": null
          },
          "name": "stderr",
          "output_type": "stream",
          "text": [
            "Epoch 26/50 [Train]:  70%|███████   | 70/100 [00:17<00:06,  4.91it/s, Loss=3.5871]"
          ]
        },
        {
          "metadata": {
            "tags": null
          },
          "name": "stdout",
          "output_type": "stream",
          "text": [
            "*** DEBUG: Completed batch 70/100 ***\n"
          ]
        },
        {
          "metadata": {
            "tags": null
          },
          "name": "stderr",
          "output_type": "stream",
          "text": [
            "Epoch 26/50 [Train]:  87%|████████▋ | 87/100 [00:21<00:02,  5.29it/s, Loss=3.3636]"
          ]
        },
        {
          "metadata": {
            "tags": null
          },
          "name": "stdout",
          "output_type": "stream",
          "text": [
            "*** DEBUG: Completed batch 80/100 ***\n"
          ]
        },
        {
          "metadata": {
            "tags": null
          },
          "name": "stderr",
          "output_type": "stream",
          "text": [
            "Epoch 26/50 [Train]:  94%|█████████▍| 94/100 [00:23<00:01,  4.94it/s, Loss=3.2966]"
          ]
        },
        {
          "metadata": {
            "tags": null
          },
          "name": "stdout",
          "output_type": "stream",
          "text": [
            "*** DEBUG: Completed batch 90/100 ***\n"
          ]
        },
        {
          "metadata": {
            "tags": null
          },
          "name": "stderr",
          "output_type": "stream",
          "text": [
            "Epoch 26/50 [Train]: 100%|██████████| 100/100 [00:24<00:00,  4.12it/s, Loss=3.2160]\n"
          ]
        },
        {
          "metadata": {
            "tags": null
          },
          "name": "stdout",
          "output_type": "stream",
          "text": [
            "*** DEBUG: Training epoch 26 complete, starting validation ***\n"
          ]
        },
        {
          "metadata": {
            "tags": null
          },
          "name": "stderr",
          "output_type": "stream",
          "text": [
            "Epoch 26/50 [Val]: 100%|██████████| 25/25 [00:06<00:00,  4.02it/s, Loss=3.1102]\n"
          ]
        },
        {
          "metadata": {
            "tags": null
          },
          "name": "stdout",
          "output_type": "stream",
          "text": [
            "Epoch 26/50:\n",
            "  Train MAPE: 3.1913%\n",
            "  Val MAPE: 3.2668%\n",
            "  LR: 0.000010\n",
            "--------------------------------------------------\n",
            "New best model saved: /content/drive/MyDrive/ThinkOnward/Models/best_model_adaptive.pth\n"
          ]
        },
        {
          "metadata": {
            "tags": null
          },
          "name": "stderr",
          "output_type": "stream",
          "text": [
            "Epoch 27/50 [Train]:   4%|▍         | 4/100 [00:02<00:45,  2.11it/s, Loss=3.5290]"
          ]
        },
        {
          "metadata": {
            "tags": null
          },
          "name": "stdout",
          "output_type": "stream",
          "text": [
            "*** DEBUG Batch 0: Input shape: torch.Size([16, 5, 32, 313]), Target shape: torch.Size([16, 300, 1259]) ***\n",
            "*** DEBUG: GPU memory before forward: 0.86GB ***\n",
            "*** DEBUG: Starting forward pass for batch 0 ***\n",
            "*** DEBUG: Forward pass complete, output shape: torch.Size([16, 1, 300, 1259]) ***\n",
            "*** DEBUG: Starting loss calculation ***\n",
            "*** DEBUG: Loss calculated: 3.0663, starting backward ***\n",
            "*** DEBUG: Backward complete, running optimizer step ***\n",
            "*** DEBUG: Batch 0 complete ***\n",
            "*** DEBUG: GPU memory after batch: 0.89GB ***\n",
            "*** DEBUG: Completed batch 0/100 ***\n",
            "*** DEBUG Batch 1: Input shape: torch.Size([16, 5, 32, 313]), Target shape: torch.Size([16, 300, 1259]) ***\n",
            "*** DEBUG: GPU memory before forward: 0.86GB ***\n",
            "*** DEBUG: Starting forward pass for batch 1 ***\n",
            "*** DEBUG: Forward pass complete, output shape: torch.Size([16, 1, 300, 1259]) ***\n",
            "*** DEBUG: Starting loss calculation ***\n",
            "*** DEBUG: Loss calculated: 3.9483, starting backward ***\n",
            "*** DEBUG: Backward complete, running optimizer step ***\n",
            "*** DEBUG: Batch 1 complete ***\n",
            "*** DEBUG: GPU memory after batch: 0.89GB ***\n",
            "*** DEBUG Batch 2: Input shape: torch.Size([16, 5, 32, 313]), Target shape: torch.Size([16, 300, 1259]) ***\n",
            "*** DEBUG: GPU memory before forward: 0.86GB ***\n",
            "*** DEBUG: Starting forward pass for batch 2 ***\n",
            "*** DEBUG: Forward pass complete, output shape: torch.Size([16, 1, 300, 1259]) ***\n",
            "*** DEBUG: Starting loss calculation ***\n",
            "*** DEBUG: Loss calculated: 2.9808, starting backward ***\n",
            "*** DEBUG: Backward complete, running optimizer step ***\n",
            "*** DEBUG: Batch 2 complete ***\n",
            "*** DEBUG: GPU memory after batch: 0.89GB ***\n"
          ]
        },
        {
          "metadata": {
            "tags": null
          },
          "name": "stderr",
          "output_type": "stream",
          "text": [
            "Epoch 27/50 [Train]:  14%|█▍        | 14/100 [00:04<00:19,  4.36it/s, Loss=3.3193]"
          ]
        },
        {
          "metadata": {
            "tags": null
          },
          "name": "stdout",
          "output_type": "stream",
          "text": [
            "*** DEBUG: Completed batch 10/100 ***\n"
          ]
        },
        {
          "metadata": {
            "tags": null
          },
          "name": "stderr",
          "output_type": "stream",
          "text": [
            "Epoch 27/50 [Train]:  21%|██        | 21/100 [00:06<00:17,  4.39it/s, Loss=3.2355]"
          ]
        },
        {
          "metadata": {
            "tags": null
          },
          "name": "stdout",
          "output_type": "stream",
          "text": [
            "*** DEBUG: Completed batch 20/100 ***\n"
          ]
        },
        {
          "metadata": {
            "tags": null
          },
          "name": "stderr",
          "output_type": "stream",
          "text": [
            "Epoch 27/50 [Train]:  32%|███▏      | 32/100 [00:08<00:11,  6.04it/s, Loss=2.7706]"
          ]
        },
        {
          "metadata": {
            "tags": null
          },
          "name": "stdout",
          "output_type": "stream",
          "text": [
            "*** DEBUG: Completed batch 30/100 ***\n"
          ]
        },
        {
          "metadata": {
            "tags": null
          },
          "name": "stderr",
          "output_type": "stream",
          "text": [
            "Epoch 27/50 [Train]:  46%|████▌     | 46/100 [00:14<00:19,  2.80it/s, Loss=3.6928]"
          ]
        },
        {
          "metadata": {
            "tags": null
          },
          "name": "stdout",
          "output_type": "stream",
          "text": [
            "*** DEBUG: Completed batch 40/100 ***\n"
          ]
        },
        {
          "metadata": {
            "tags": null
          },
          "name": "stderr",
          "output_type": "stream",
          "text": [
            "Epoch 27/50 [Train]:  53%|█████▎    | 53/100 [00:16<00:13,  3.50it/s, Loss=3.2240]"
          ]
        },
        {
          "metadata": {
            "tags": null
          },
          "name": "stdout",
          "output_type": "stream",
          "text": [
            "*** DEBUG: Completed batch 50/100 ***\n"
          ]
        },
        {
          "metadata": {
            "tags": null
          },
          "name": "stderr",
          "output_type": "stream",
          "text": [
            "Epoch 27/50 [Train]:  61%|██████    | 61/100 [00:18<00:09,  4.27it/s, Loss=3.2937]"
          ]
        },
        {
          "metadata": {
            "tags": null
          },
          "name": "stdout",
          "output_type": "stream",
          "text": [
            "*** DEBUG: Completed batch 60/100 ***\n"
          ]
        },
        {
          "metadata": {
            "tags": null
          },
          "name": "stderr",
          "output_type": "stream",
          "text": [
            "Epoch 27/50 [Train]:  69%|██████▉   | 69/100 [00:20<00:06,  4.57it/s, Loss=3.3225]"
          ]
        },
        {
          "metadata": {
            "tags": null
          },
          "name": "stdout",
          "output_type": "stream",
          "text": [
            "*** DEBUG: Completed batch 70/100 ***\n"
          ]
        },
        {
          "metadata": {
            "tags": null
          },
          "name": "stderr",
          "output_type": "stream",
          "text": [
            "Epoch 27/50 [Train]:  85%|████████▌ | 85/100 [00:24<00:03,  4.77it/s, Loss=3.1266]"
          ]
        },
        {
          "metadata": {
            "tags": null
          },
          "name": "stdout",
          "output_type": "stream",
          "text": [
            "*** DEBUG: Completed batch 80/100 ***\n"
          ]
        },
        {
          "metadata": {
            "tags": null
          },
          "name": "stderr",
          "output_type": "stream",
          "text": [
            "Epoch 27/50 [Train]:  93%|█████████▎| 93/100 [00:26<00:01,  5.05it/s, Loss=3.0258]"
          ]
        },
        {
          "metadata": {
            "tags": null
          },
          "name": "stdout",
          "output_type": "stream",
          "text": [
            "*** DEBUG: Completed batch 90/100 ***\n"
          ]
        },
        {
          "metadata": {
            "tags": null
          },
          "name": "stderr",
          "output_type": "stream",
          "text": [
            "Epoch 27/50 [Train]: 100%|██████████| 100/100 [00:26<00:00,  3.71it/s, Loss=3.0090]\n"
          ]
        },
        {
          "metadata": {
            "tags": null
          },
          "name": "stdout",
          "output_type": "stream",
          "text": [
            "*** DEBUG: Training epoch 27 complete, starting validation ***\n"
          ]
        },
        {
          "metadata": {
            "tags": null
          },
          "name": "stderr",
          "output_type": "stream",
          "text": [
            "Epoch 27/50 [Val]: 100%|██████████| 25/25 [00:06<00:00,  3.92it/s, Loss=15.3330]\n"
          ]
        },
        {
          "metadata": {
            "tags": null
          },
          "name": "stdout",
          "output_type": "stream",
          "text": [
            "Epoch 27/50:\n",
            "  Train MAPE: 3.1821%\n",
            "  Val MAPE: 15.6400%\n",
            "  LR: 0.000010\n",
            "--------------------------------------------------\n"
          ]
        },
        {
          "metadata": {
            "tags": null
          },
          "name": "stderr",
          "output_type": "stream",
          "text": [
            "Epoch 28/50 [Train]:   4%|▍         | 4/100 [00:02<00:42,  2.26it/s, Loss=3.2005]"
          ]
        },
        {
          "metadata": {
            "tags": null
          },
          "name": "stdout",
          "output_type": "stream",
          "text": [
            "*** DEBUG Batch 0: Input shape: torch.Size([16, 5, 32, 313]), Target shape: torch.Size([16, 300, 1259]) ***\n",
            "*** DEBUG: GPU memory before forward: 0.86GB ***\n",
            "*** DEBUG: Starting forward pass for batch 0 ***\n",
            "*** DEBUG: Forward pass complete, output shape: torch.Size([16, 1, 300, 1259]) ***\n",
            "*** DEBUG: Starting loss calculation ***\n",
            "*** DEBUG: Loss calculated: 3.1509, starting backward ***\n",
            "*** DEBUG: Backward complete, running optimizer step ***\n",
            "*** DEBUG: Batch 0 complete ***\n",
            "*** DEBUG: GPU memory after batch: 0.89GB ***\n",
            "*** DEBUG: Completed batch 0/100 ***\n",
            "*** DEBUG Batch 1: Input shape: torch.Size([16, 5, 32, 313]), Target shape: torch.Size([16, 300, 1259]) ***\n",
            "*** DEBUG: GPU memory before forward: 0.86GB ***\n",
            "*** DEBUG: Starting forward pass for batch 1 ***\n",
            "*** DEBUG: Forward pass complete, output shape: torch.Size([16, 1, 300, 1259]) ***\n",
            "*** DEBUG: Starting loss calculation ***\n",
            "*** DEBUG: Loss calculated: 2.8917, starting backward ***\n",
            "*** DEBUG: Backward complete, running optimizer step ***\n",
            "*** DEBUG: Batch 1 complete ***\n",
            "*** DEBUG: GPU memory after batch: 0.89GB ***\n",
            "*** DEBUG Batch 2: Input shape: torch.Size([16, 5, 32, 313]), Target shape: torch.Size([16, 300, 1259]) ***\n",
            "*** DEBUG: GPU memory before forward: 0.86GB ***\n",
            "*** DEBUG: Starting forward pass for batch 2 ***\n",
            "*** DEBUG: Forward pass complete, output shape: torch.Size([16, 1, 300, 1259]) ***\n",
            "*** DEBUG: Starting loss calculation ***\n",
            "*** DEBUG: Loss calculated: 3.1831, starting backward ***\n",
            "*** DEBUG: Backward complete, running optimizer step ***\n",
            "*** DEBUG: Batch 2 complete ***\n",
            "*** DEBUG: GPU memory after batch: 0.89GB ***\n"
          ]
        },
        {
          "metadata": {
            "tags": null
          },
          "name": "stderr",
          "output_type": "stream",
          "text": [
            "Epoch 28/50 [Train]:  14%|█▍        | 14/100 [00:04<00:18,  4.54it/s, Loss=3.5306]"
          ]
        },
        {
          "metadata": {
            "tags": null
          },
          "name": "stdout",
          "output_type": "stream",
          "text": [
            "*** DEBUG: Completed batch 10/100 ***\n"
          ]
        },
        {
          "metadata": {
            "tags": null
          },
          "name": "stderr",
          "output_type": "stream",
          "text": [
            "Epoch 28/50 [Train]:  21%|██        | 21/100 [00:06<00:17,  4.47it/s, Loss=2.9694]"
          ]
        },
        {
          "metadata": {
            "tags": null
          },
          "name": "stdout",
          "output_type": "stream",
          "text": [
            "*** DEBUG: Completed batch 20/100 ***\n"
          ]
        },
        {
          "metadata": {
            "tags": null
          },
          "name": "stderr",
          "output_type": "stream",
          "text": [
            "Epoch 28/50 [Train]:  29%|██▉       | 29/100 [00:08<00:14,  4.76it/s, Loss=3.0924]"
          ]
        },
        {
          "metadata": {
            "tags": null
          },
          "name": "stdout",
          "output_type": "stream",
          "text": [
            "*** DEBUG: Completed batch 30/100 ***\n"
          ]
        },
        {
          "metadata": {
            "tags": null
          },
          "name": "stderr",
          "output_type": "stream",
          "text": [
            "Epoch 28/50 [Train]:  45%|████▌     | 45/100 [00:11<00:11,  4.97it/s, Loss=3.1001]"
          ]
        },
        {
          "metadata": {
            "tags": null
          },
          "name": "stdout",
          "output_type": "stream",
          "text": [
            "*** DEBUG: Completed batch 40/100 ***\n"
          ]
        },
        {
          "metadata": {
            "tags": null
          },
          "name": "stderr",
          "output_type": "stream",
          "text": [
            "Epoch 28/50 [Train]:  56%|█████▌    | 56/100 [00:13<00:07,  6.27it/s, Loss=3.4991]"
          ]
        },
        {
          "metadata": {
            "tags": null
          },
          "name": "stdout",
          "output_type": "stream",
          "text": [
            "*** DEBUG: Completed batch 50/100 ***\n"
          ]
        },
        {
          "metadata": {
            "tags": null
          },
          "name": "stderr",
          "output_type": "stream",
          "text": [
            "Epoch 28/50 [Train]:  63%|██████▎   | 63/100 [00:15<00:06,  5.31it/s, Loss=3.4447]"
          ]
        },
        {
          "metadata": {
            "tags": null
          },
          "name": "stdout",
          "output_type": "stream",
          "text": [
            "*** DEBUG: Completed batch 60/100 ***\n"
          ]
        },
        {
          "metadata": {
            "tags": null
          },
          "name": "stderr",
          "output_type": "stream",
          "text": [
            "Epoch 28/50 [Train]:  70%|███████   | 70/100 [00:17<00:06,  4.98it/s, Loss=2.8628]"
          ]
        },
        {
          "metadata": {
            "tags": null
          },
          "name": "stdout",
          "output_type": "stream",
          "text": [
            "*** DEBUG: Completed batch 70/100 ***\n"
          ]
        },
        {
          "metadata": {
            "tags": null
          },
          "name": "stderr",
          "output_type": "stream",
          "text": [
            "Epoch 28/50 [Train]:  85%|████████▌ | 85/100 [00:21<00:03,  4.96it/s, Loss=2.7361]"
          ]
        },
        {
          "metadata": {
            "tags": null
          },
          "name": "stdout",
          "output_type": "stream",
          "text": [
            "*** DEBUG: Completed batch 80/100 ***\n"
          ]
        },
        {
          "metadata": {
            "tags": null
          },
          "name": "stderr",
          "output_type": "stream",
          "text": [
            "Epoch 28/50 [Train]:  96%|█████████▌| 96/100 [00:23<00:00,  6.19it/s, Loss=2.8669]"
          ]
        },
        {
          "metadata": {
            "tags": null
          },
          "name": "stdout",
          "output_type": "stream",
          "text": [
            "*** DEBUG: Completed batch 90/100 ***\n"
          ]
        },
        {
          "metadata": {
            "tags": null
          },
          "name": "stderr",
          "output_type": "stream",
          "text": [
            "Epoch 28/50 [Train]: 100%|██████████| 100/100 [00:24<00:00,  4.14it/s, Loss=2.9301]\n"
          ]
        },
        {
          "metadata": {
            "tags": null
          },
          "name": "stdout",
          "output_type": "stream",
          "text": [
            "*** DEBUG: Training epoch 28 complete, starting validation ***\n"
          ]
        },
        {
          "metadata": {
            "tags": null
          },
          "name": "stderr",
          "output_type": "stream",
          "text": [
            "Epoch 28/50 [Val]: 100%|██████████| 25/25 [00:06<00:00,  4.07it/s, Loss=3.4961]\n"
          ]
        },
        {
          "metadata": {
            "tags": null
          },
          "name": "stdout",
          "output_type": "stream",
          "text": [
            "Epoch 28/50:\n",
            "  Train MAPE: 3.1384%\n",
            "  Val MAPE: 3.6183%\n",
            "  LR: 0.000010\n",
            "--------------------------------------------------\n"
          ]
        },
        {
          "metadata": {
            "tags": null
          },
          "name": "stderr",
          "output_type": "stream",
          "text": [
            "Epoch 29/50 [Train]:   4%|▍         | 4/100 [00:02<00:42,  2.24it/s, Loss=3.3558]"
          ]
        },
        {
          "metadata": {
            "tags": null
          },
          "name": "stdout",
          "output_type": "stream",
          "text": [
            "*** DEBUG Batch 0: Input shape: torch.Size([16, 5, 32, 313]), Target shape: torch.Size([16, 300, 1259]) ***\n",
            "*** DEBUG: GPU memory before forward: 0.86GB ***\n",
            "*** DEBUG: Starting forward pass for batch 0 ***\n",
            "*** DEBUG: Forward pass complete, output shape: torch.Size([16, 1, 300, 1259]) ***\n",
            "*** DEBUG: Starting loss calculation ***\n",
            "*** DEBUG: Loss calculated: 3.3555, starting backward ***\n",
            "*** DEBUG: Backward complete, running optimizer step ***\n",
            "*** DEBUG: Batch 0 complete ***\n",
            "*** DEBUG: GPU memory after batch: 0.89GB ***\n",
            "*** DEBUG: Completed batch 0/100 ***\n",
            "*** DEBUG Batch 1: Input shape: torch.Size([16, 5, 32, 313]), Target shape: torch.Size([16, 300, 1259]) ***\n",
            "*** DEBUG: GPU memory before forward: 0.86GB ***\n",
            "*** DEBUG: Starting forward pass for batch 1 ***\n",
            "*** DEBUG: Forward pass complete, output shape: torch.Size([16, 1, 300, 1259]) ***\n",
            "*** DEBUG: Starting loss calculation ***\n",
            "*** DEBUG: Loss calculated: 3.6698, starting backward ***\n",
            "*** DEBUG: Backward complete, running optimizer step ***\n",
            "*** DEBUG: Batch 1 complete ***\n",
            "*** DEBUG: GPU memory after batch: 0.89GB ***\n",
            "*** DEBUG Batch 2: Input shape: torch.Size([16, 5, 32, 313]), Target shape: torch.Size([16, 300, 1259]) ***\n",
            "*** DEBUG: GPU memory before forward: 0.86GB ***\n",
            "*** DEBUG: Starting forward pass for batch 2 ***\n",
            "*** DEBUG: Forward pass complete, output shape: torch.Size([16, 1, 300, 1259]) ***\n",
            "*** DEBUG: Starting loss calculation ***\n",
            "*** DEBUG: Loss calculated: 3.4081, starting backward ***\n",
            "*** DEBUG: Backward complete, running optimizer step ***\n",
            "*** DEBUG: Batch 2 complete ***\n",
            "*** DEBUG: GPU memory after batch: 0.89GB ***\n"
          ]
        },
        {
          "metadata": {
            "tags": null
          },
          "name": "stderr",
          "output_type": "stream",
          "text": [
            "Epoch 29/50 [Train]:  15%|█▌        | 15/100 [00:04<00:17,  4.75it/s, Loss=2.6320]"
          ]
        },
        {
          "metadata": {
            "tags": null
          },
          "name": "stdout",
          "output_type": "stream",
          "text": [
            "*** DEBUG: Completed batch 10/100 ***\n"
          ]
        },
        {
          "metadata": {
            "tags": null
          },
          "name": "stderr",
          "output_type": "stream",
          "text": [
            "Epoch 29/50 [Train]:  22%|██▏       | 22/100 [00:06<00:17,  4.54it/s, Loss=2.7179]"
          ]
        },
        {
          "metadata": {
            "tags": null
          },
          "name": "stdout",
          "output_type": "stream",
          "text": [
            "*** DEBUG: Completed batch 20/100 ***\n"
          ]
        },
        {
          "metadata": {
            "tags": null
          },
          "name": "stderr",
          "output_type": "stream",
          "text": [
            "Epoch 29/50 [Train]:  32%|███▏      | 32/100 [00:08<00:11,  5.95it/s, Loss=3.3430]"
          ]
        },
        {
          "metadata": {
            "tags": null
          },
          "name": "stdout",
          "output_type": "stream",
          "text": [
            "*** DEBUG: Completed batch 30/100 ***\n"
          ]
        },
        {
          "metadata": {
            "tags": null
          },
          "name": "stderr",
          "output_type": "stream",
          "text": [
            "Epoch 29/50 [Train]:  46%|████▌     | 46/100 [00:11<00:11,  4.88it/s, Loss=3.2474]"
          ]
        },
        {
          "metadata": {
            "tags": null
          },
          "name": "stdout",
          "output_type": "stream",
          "text": [
            "*** DEBUG: Completed batch 40/100 ***\n"
          ]
        },
        {
          "metadata": {
            "tags": null
          },
          "name": "stderr",
          "output_type": "stream",
          "text": [
            "Epoch 29/50 [Train]:  53%|█████▎    | 53/100 [00:13<00:10,  4.69it/s, Loss=3.4294]"
          ]
        },
        {
          "metadata": {
            "tags": null
          },
          "name": "stdout",
          "output_type": "stream",
          "text": [
            "*** DEBUG: Completed batch 50/100 ***\n"
          ]
        },
        {
          "metadata": {
            "tags": null
          },
          "name": "stderr",
          "output_type": "stream",
          "text": [
            "Epoch 29/50 [Train]:  64%|██████▍   | 64/100 [00:15<00:05,  6.34it/s, Loss=3.0039]"
          ]
        },
        {
          "metadata": {
            "tags": null
          },
          "name": "stdout",
          "output_type": "stream",
          "text": [
            "*** DEBUG: Completed batch 60/100 ***\n"
          ]
        },
        {
          "metadata": {
            "tags": null
          },
          "name": "stderr",
          "output_type": "stream",
          "text": [
            "Epoch 29/50 [Train]:  70%|███████   | 70/100 [00:17<00:06,  4.61it/s, Loss=3.1450]"
          ]
        },
        {
          "metadata": {
            "tags": null
          },
          "name": "stdout",
          "output_type": "stream",
          "text": [
            "*** DEBUG: Completed batch 70/100 ***\n"
          ]
        },
        {
          "metadata": {
            "tags": null
          },
          "name": "stderr",
          "output_type": "stream",
          "text": [
            "Epoch 29/50 [Train]:  87%|████████▋ | 87/100 [00:21<00:02,  5.22it/s, Loss=3.1727]"
          ]
        },
        {
          "metadata": {
            "tags": null
          },
          "name": "stdout",
          "output_type": "stream",
          "text": [
            "*** DEBUG: Completed batch 80/100 ***\n"
          ]
        },
        {
          "metadata": {
            "tags": null
          },
          "name": "stderr",
          "output_type": "stream",
          "text": [
            "Epoch 29/50 [Train]:  94%|█████████▍| 94/100 [00:23<00:01,  4.90it/s, Loss=2.9017]"
          ]
        },
        {
          "metadata": {
            "tags": null
          },
          "name": "stdout",
          "output_type": "stream",
          "text": [
            "*** DEBUG: Completed batch 90/100 ***\n"
          ]
        },
        {
          "metadata": {
            "tags": null
          },
          "name": "stderr",
          "output_type": "stream",
          "text": [
            "Epoch 29/50 [Train]: 100%|██████████| 100/100 [00:24<00:00,  4.11it/s, Loss=3.1483]\n"
          ]
        },
        {
          "metadata": {
            "tags": null
          },
          "name": "stdout",
          "output_type": "stream",
          "text": [
            "*** DEBUG: Training epoch 29 complete, starting validation ***\n"
          ]
        },
        {
          "metadata": {
            "tags": null
          },
          "name": "stderr",
          "output_type": "stream",
          "text": [
            "Epoch 29/50 [Val]: 100%|██████████| 25/25 [00:06<00:00,  4.00it/s, Loss=3.5091]\n"
          ]
        },
        {
          "metadata": {
            "tags": null
          },
          "name": "stdout",
          "output_type": "stream",
          "text": [
            "Epoch 29/50:\n",
            "  Train MAPE: 3.1472%\n",
            "  Val MAPE: 3.5723%\n",
            "  LR: 0.000010\n",
            "--------------------------------------------------\n"
          ]
        },
        {
          "metadata": {
            "tags": null
          },
          "name": "stderr",
          "output_type": "stream",
          "text": [
            "Epoch 30/50 [Train]:   4%|▍         | 4/100 [00:02<00:42,  2.26it/s, Loss=3.0392]"
          ]
        },
        {
          "metadata": {
            "tags": null
          },
          "name": "stdout",
          "output_type": "stream",
          "text": [
            "*** DEBUG Batch 0: Input shape: torch.Size([16, 5, 32, 313]), Target shape: torch.Size([16, 300, 1259]) ***\n",
            "*** DEBUG: GPU memory before forward: 0.86GB ***\n",
            "*** DEBUG: Starting forward pass for batch 0 ***\n",
            "*** DEBUG: Forward pass complete, output shape: torch.Size([16, 1, 300, 1259]) ***\n",
            "*** DEBUG: Starting loss calculation ***\n",
            "*** DEBUG: Loss calculated: 3.0470, starting backward ***\n",
            "*** DEBUG: Backward complete, running optimizer step ***\n",
            "*** DEBUG: Batch 0 complete ***\n",
            "*** DEBUG: GPU memory after batch: 0.89GB ***\n",
            "*** DEBUG: Completed batch 0/100 ***\n",
            "*** DEBUG Batch 1: Input shape: torch.Size([16, 5, 32, 313]), Target shape: torch.Size([16, 300, 1259]) ***\n",
            "*** DEBUG: GPU memory before forward: 0.86GB ***\n",
            "*** DEBUG: Starting forward pass for batch 1 ***\n",
            "*** DEBUG: Forward pass complete, output shape: torch.Size([16, 1, 300, 1259]) ***\n",
            "*** DEBUG: Starting loss calculation ***\n",
            "*** DEBUG: Loss calculated: 2.8734, starting backward ***\n",
            "*** DEBUG: Backward complete, running optimizer step ***\n",
            "*** DEBUG: Batch 1 complete ***\n",
            "*** DEBUG: GPU memory after batch: 0.89GB ***\n",
            "*** DEBUG Batch 2: Input shape: torch.Size([16, 5, 32, 313]), Target shape: torch.Size([16, 300, 1259]) ***\n",
            "*** DEBUG: GPU memory before forward: 0.86GB ***\n",
            "*** DEBUG: Starting forward pass for batch 2 ***\n",
            "*** DEBUG: Forward pass complete, output shape: torch.Size([16, 1, 300, 1259]) ***\n",
            "*** DEBUG: Starting loss calculation ***\n",
            "*** DEBUG: Loss calculated: 3.2545, starting backward ***\n",
            "*** DEBUG: Backward complete, running optimizer step ***\n",
            "*** DEBUG: Batch 2 complete ***\n",
            "*** DEBUG: GPU memory after batch: 0.89GB ***\n"
          ]
        },
        {
          "metadata": {
            "tags": null
          },
          "name": "stderr",
          "output_type": "stream",
          "text": [
            "Epoch 30/50 [Train]:  15%|█▌        | 15/100 [00:04<00:17,  4.84it/s, Loss=3.1520]"
          ]
        },
        {
          "metadata": {
            "tags": null
          },
          "name": "stdout",
          "output_type": "stream",
          "text": [
            "*** DEBUG: Completed batch 10/100 ***\n"
          ]
        },
        {
          "metadata": {
            "tags": null
          },
          "name": "stderr",
          "output_type": "stream",
          "text": [
            "Epoch 30/50 [Train]:  22%|██▏       | 22/100 [00:06<00:16,  4.74it/s, Loss=3.0352]"
          ]
        },
        {
          "metadata": {
            "tags": null
          },
          "name": "stdout",
          "output_type": "stream",
          "text": [
            "*** DEBUG: Completed batch 20/100 ***\n"
          ]
        },
        {
          "metadata": {
            "tags": null
          },
          "name": "stderr",
          "output_type": "stream",
          "text": [
            "Epoch 30/50 [Train]:  29%|██▉       | 29/100 [00:07<00:15,  4.64it/s, Loss=3.2025]"
          ]
        },
        {
          "metadata": {
            "tags": null
          },
          "name": "stdout",
          "output_type": "stream",
          "text": [
            "*** DEBUG: Completed batch 30/100 ***\n"
          ]
        },
        {
          "metadata": {
            "tags": null
          },
          "name": "stderr",
          "output_type": "stream",
          "text": [
            "Epoch 30/50 [Train]:  45%|████▌     | 45/100 [00:11<00:11,  4.88it/s, Loss=3.1376]"
          ]
        },
        {
          "metadata": {
            "tags": null
          },
          "name": "stdout",
          "output_type": "stream",
          "text": [
            "*** DEBUG: Completed batch 40/100 ***\n"
          ]
        },
        {
          "metadata": {
            "tags": null
          },
          "name": "stderr",
          "output_type": "stream",
          "text": [
            "Epoch 30/50 [Train]:  55%|█████▌    | 55/100 [00:13<00:07,  5.76it/s, Loss=2.9889]"
          ]
        },
        {
          "metadata": {
            "tags": null
          },
          "name": "stdout",
          "output_type": "stream",
          "text": [
            "*** DEBUG: Completed batch 50/100 ***\n"
          ]
        },
        {
          "metadata": {
            "tags": null
          },
          "name": "stderr",
          "output_type": "stream",
          "text": [
            "Epoch 30/50 [Train]:  62%|██████▏   | 62/100 [00:15<00:07,  5.12it/s, Loss=2.9712]"
          ]
        },
        {
          "metadata": {
            "tags": null
          },
          "name": "stdout",
          "output_type": "stream",
          "text": [
            "*** DEBUG: Completed batch 60/100 ***\n"
          ]
        },
        {
          "metadata": {
            "tags": null
          },
          "name": "stderr",
          "output_type": "stream",
          "text": [
            "Epoch 30/50 [Train]:  69%|██████▉   | 69/100 [00:17<00:06,  4.81it/s, Loss=3.3281]"
          ]
        },
        {
          "metadata": {
            "tags": null
          },
          "name": "stdout",
          "output_type": "stream",
          "text": [
            "*** DEBUG: Completed batch 70/100 ***\n"
          ]
        },
        {
          "metadata": {
            "tags": null
          },
          "name": "stderr",
          "output_type": "stream",
          "text": [
            "Epoch 30/50 [Train]:  84%|████████▍ | 84/100 [00:21<00:03,  4.61it/s, Loss=3.3832]"
          ]
        },
        {
          "metadata": {
            "tags": null
          },
          "name": "stdout",
          "output_type": "stream",
          "text": [
            "*** DEBUG: Completed batch 80/100 ***\n"
          ]
        },
        {
          "metadata": {
            "tags": null
          },
          "name": "stderr",
          "output_type": "stream",
          "text": [
            "Epoch 30/50 [Train]:  95%|█████████▌| 95/100 [00:23<00:00,  5.36it/s, Loss=3.1024]"
          ]
        },
        {
          "metadata": {
            "tags": null
          },
          "name": "stdout",
          "output_type": "stream",
          "text": [
            "*** DEBUG: Completed batch 90/100 ***\n"
          ]
        },
        {
          "metadata": {
            "tags": null
          },
          "name": "stderr",
          "output_type": "stream",
          "text": [
            "Epoch 30/50 [Train]: 100%|██████████| 100/100 [00:24<00:00,  4.16it/s, Loss=3.0863]\n"
          ]
        },
        {
          "metadata": {
            "tags": null
          },
          "name": "stdout",
          "output_type": "stream",
          "text": [
            "*** DEBUG: Training epoch 30 complete, starting validation ***\n"
          ]
        },
        {
          "metadata": {
            "tags": null
          },
          "name": "stderr",
          "output_type": "stream",
          "text": [
            "Epoch 30/50 [Val]: 100%|██████████| 25/25 [00:06<00:00,  3.98it/s, Loss=7.2551]\n"
          ]
        },
        {
          "metadata": {
            "tags": null
          },
          "name": "stdout",
          "output_type": "stream",
          "text": [
            "Epoch 30/50:\n",
            "  Train MAPE: 3.1272%\n",
            "  Val MAPE: 7.2211%\n",
            "  LR: 0.000010\n",
            "--------------------------------------------------\n"
          ]
        },
        {
          "metadata": {
            "tags": null
          },
          "name": "stderr",
          "output_type": "stream",
          "text": [
            "Epoch 31/50 [Train]:   4%|▍         | 4/100 [00:02<00:42,  2.28it/s, Loss=3.2048]"
          ]
        },
        {
          "metadata": {
            "tags": null
          },
          "name": "stdout",
          "output_type": "stream",
          "text": [
            "*** DEBUG Batch 0: Input shape: torch.Size([16, 5, 32, 313]), Target shape: torch.Size([16, 300, 1259]) ***\n",
            "*** DEBUG: GPU memory before forward: 0.86GB ***\n",
            "*** DEBUG: Starting forward pass for batch 0 ***\n",
            "*** DEBUG: Forward pass complete, output shape: torch.Size([16, 1, 300, 1259]) ***\n",
            "*** DEBUG: Starting loss calculation ***\n",
            "*** DEBUG: Loss calculated: 2.8858, starting backward ***\n",
            "*** DEBUG: Backward complete, running optimizer step ***\n",
            "*** DEBUG: Batch 0 complete ***\n",
            "*** DEBUG: GPU memory after batch: 0.89GB ***\n",
            "*** DEBUG: Completed batch 0/100 ***\n",
            "*** DEBUG Batch 1: Input shape: torch.Size([16, 5, 32, 313]), Target shape: torch.Size([16, 300, 1259]) ***\n",
            "*** DEBUG: GPU memory before forward: 0.86GB ***\n",
            "*** DEBUG: Starting forward pass for batch 1 ***\n",
            "*** DEBUG: Forward pass complete, output shape: torch.Size([16, 1, 300, 1259]) ***\n",
            "*** DEBUG: Starting loss calculation ***\n",
            "*** DEBUG: Loss calculated: 3.0963, starting backward ***\n",
            "*** DEBUG: Backward complete, running optimizer step ***\n",
            "*** DEBUG: Batch 1 complete ***\n",
            "*** DEBUG: GPU memory after batch: 0.89GB ***\n",
            "*** DEBUG Batch 2: Input shape: torch.Size([16, 5, 32, 313]), Target shape: torch.Size([16, 300, 1259]) ***\n",
            "*** DEBUG: GPU memory before forward: 0.86GB ***\n",
            "*** DEBUG: Starting forward pass for batch 2 ***\n",
            "*** DEBUG: Forward pass complete, output shape: torch.Size([16, 1, 300, 1259]) ***\n",
            "*** DEBUG: Starting loss calculation ***\n",
            "*** DEBUG: Loss calculated: 3.2874, starting backward ***\n",
            "*** DEBUG: Backward complete, running optimizer step ***\n",
            "*** DEBUG: Batch 2 complete ***\n",
            "*** DEBUG: GPU memory after batch: 0.89GB ***\n"
          ]
        },
        {
          "metadata": {
            "tags": null
          },
          "name": "stderr",
          "output_type": "stream",
          "text": [
            "Epoch 31/50 [Train]:  14%|█▍        | 14/100 [00:04<00:19,  4.48it/s, Loss=2.7616]"
          ]
        },
        {
          "metadata": {
            "tags": null
          },
          "name": "stdout",
          "output_type": "stream",
          "text": [
            "*** DEBUG: Completed batch 10/100 ***\n"
          ]
        },
        {
          "metadata": {
            "tags": null
          },
          "name": "stderr",
          "output_type": "stream",
          "text": [
            "Epoch 31/50 [Train]:  23%|██▎       | 23/100 [00:06<00:13,  5.79it/s, Loss=3.0134]"
          ]
        },
        {
          "metadata": {
            "tags": null
          },
          "name": "stdout",
          "output_type": "stream",
          "text": [
            "*** DEBUG: Completed batch 20/100 ***\n"
          ]
        },
        {
          "metadata": {
            "tags": null
          },
          "name": "stderr",
          "output_type": "stream",
          "text": [
            "Epoch 31/50 [Train]:  32%|███▏      | 32/100 [00:08<00:11,  6.15it/s, Loss=2.9658]"
          ]
        },
        {
          "metadata": {
            "tags": null
          },
          "name": "stdout",
          "output_type": "stream",
          "text": [
            "*** DEBUG: Completed batch 30/100 ***\n"
          ]
        },
        {
          "metadata": {
            "tags": null
          },
          "name": "stderr",
          "output_type": "stream",
          "text": [
            "Epoch 31/50 [Train]:  42%|████▏     | 42/100 [00:11<00:17,  3.35it/s, Loss=3.0205]"
          ]
        },
        {
          "metadata": {
            "tags": null
          },
          "name": "stdout",
          "output_type": "stream",
          "text": [
            "*** DEBUG: Completed batch 40/100 ***\n"
          ]
        },
        {
          "metadata": {
            "tags": null
          },
          "name": "stderr",
          "output_type": "stream",
          "text": [
            "Epoch 31/50 [Train]:  55%|█████▌    | 55/100 [00:13<00:07,  5.77it/s, Loss=3.2596]"
          ]
        },
        {
          "metadata": {
            "tags": null
          },
          "name": "stdout",
          "output_type": "stream",
          "text": [
            "*** DEBUG: Completed batch 50/100 ***\n"
          ]
        },
        {
          "metadata": {
            "tags": null
          },
          "name": "stderr",
          "output_type": "stream",
          "text": [
            "Epoch 31/50 [Train]:  63%|██████▎   | 63/100 [00:15<00:06,  6.03it/s, Loss=2.9368]"
          ]
        },
        {
          "metadata": {
            "tags": null
          },
          "name": "stdout",
          "output_type": "stream",
          "text": [
            "*** DEBUG: Completed batch 60/100 ***\n"
          ]
        },
        {
          "metadata": {
            "tags": null
          },
          "name": "stderr",
          "output_type": "stream",
          "text": [
            "Epoch 31/50 [Train]:  71%|███████   | 71/100 [00:17<00:04,  6.13it/s, Loss=2.8875]"
          ]
        },
        {
          "metadata": {
            "tags": null
          },
          "name": "stdout",
          "output_type": "stream",
          "text": [
            "*** DEBUG: Completed batch 70/100 ***\n"
          ]
        },
        {
          "metadata": {
            "tags": null
          },
          "name": "stderr",
          "output_type": "stream",
          "text": [
            "Epoch 31/50 [Train]:  81%|████████  | 81/100 [00:20<00:05,  3.67it/s, Loss=3.2025]"
          ]
        },
        {
          "metadata": {
            "tags": null
          },
          "name": "stdout",
          "output_type": "stream",
          "text": [
            "*** DEBUG: Completed batch 80/100 ***\n"
          ]
        },
        {
          "metadata": {
            "tags": null
          },
          "name": "stderr",
          "output_type": "stream",
          "text": [
            "Epoch 31/50 [Train]:  95%|█████████▌| 95/100 [00:23<00:00,  6.12it/s, Loss=3.4378]"
          ]
        },
        {
          "metadata": {
            "tags": null
          },
          "name": "stdout",
          "output_type": "stream",
          "text": [
            "*** DEBUG: Completed batch 90/100 ***\n"
          ]
        },
        {
          "metadata": {
            "tags": null
          },
          "name": "stderr",
          "output_type": "stream",
          "text": [
            "Epoch 31/50 [Train]: 100%|██████████| 100/100 [00:23<00:00,  4.20it/s, Loss=3.0285]\n"
          ]
        },
        {
          "metadata": {
            "tags": null
          },
          "name": "stdout",
          "output_type": "stream",
          "text": [
            "*** DEBUG: Training epoch 31 complete, starting validation ***\n"
          ]
        },
        {
          "metadata": {
            "tags": null
          },
          "name": "stderr",
          "output_type": "stream",
          "text": [
            "Epoch 31/50 [Val]: 100%|██████████| 25/25 [00:06<00:00,  4.00it/s, Loss=5.8142]\n"
          ]
        },
        {
          "metadata": {
            "tags": null
          },
          "name": "stdout",
          "output_type": "stream",
          "text": [
            "Epoch 31/50:\n",
            "  Train MAPE: 3.1249%\n",
            "  Val MAPE: 6.1431%\n",
            "  LR: 0.000010\n",
            "--------------------------------------------------\n"
          ]
        },
        {
          "metadata": {
            "tags": null
          },
          "name": "stderr",
          "output_type": "stream",
          "text": [
            "Epoch 32/50 [Train]:   3%|▎         | 3/100 [00:02<00:57,  1.69it/s, Loss=3.5879]"
          ]
        },
        {
          "metadata": {
            "tags": null
          },
          "name": "stdout",
          "output_type": "stream",
          "text": [
            "*** DEBUG Batch 0: Input shape: torch.Size([16, 5, 32, 313]), Target shape: torch.Size([16, 300, 1259]) ***\n",
            "*** DEBUG: GPU memory before forward: 0.86GB ***\n",
            "*** DEBUG: Starting forward pass for batch 0 ***\n",
            "*** DEBUG: Forward pass complete, output shape: torch.Size([16, 1, 300, 1259]) ***\n",
            "*** DEBUG: Starting loss calculation ***\n",
            "*** DEBUG: Loss calculated: 3.2414, starting backward ***\n",
            "*** DEBUG: Backward complete, running optimizer step ***\n",
            "*** DEBUG: Batch 0 complete ***\n",
            "*** DEBUG: GPU memory after batch: 0.89GB ***\n",
            "*** DEBUG: Completed batch 0/100 ***\n",
            "*** DEBUG Batch 1: Input shape: torch.Size([16, 5, 32, 313]), Target shape: torch.Size([16, 300, 1259]) ***\n",
            "*** DEBUG: GPU memory before forward: 0.86GB ***\n",
            "*** DEBUG: Starting forward pass for batch 1 ***\n",
            "*** DEBUG: Forward pass complete, output shape: torch.Size([16, 1, 300, 1259]) ***\n",
            "*** DEBUG: Starting loss calculation ***\n",
            "*** DEBUG: Loss calculated: 2.8292, starting backward ***\n",
            "*** DEBUG: Backward complete, running optimizer step ***\n",
            "*** DEBUG: Batch 1 complete ***\n",
            "*** DEBUG: GPU memory after batch: 0.89GB ***\n",
            "*** DEBUG Batch 2: Input shape: torch.Size([16, 5, 32, 313]), Target shape: torch.Size([16, 300, 1259]) ***\n",
            "*** DEBUG: GPU memory before forward: 0.86GB ***\n",
            "*** DEBUG: Starting forward pass for batch 2 ***\n",
            "*** DEBUG: Forward pass complete, output shape: torch.Size([16, 1, 300, 1259]) ***\n",
            "*** DEBUG: Starting loss calculation ***\n",
            "*** DEBUG: Loss calculated: 3.5879, starting backward ***\n",
            "*** DEBUG: Backward complete, running optimizer step ***\n",
            "*** DEBUG: Batch 2 complete ***\n",
            "*** DEBUG: GPU memory after batch: 0.89GB ***\n"
          ]
        },
        {
          "metadata": {
            "tags": null
          },
          "name": "stderr",
          "output_type": "stream",
          "text": [
            "Epoch 32/50 [Train]:  16%|█▌        | 16/100 [00:04<00:13,  6.20it/s, Loss=3.2198]"
          ]
        },
        {
          "metadata": {
            "tags": null
          },
          "name": "stdout",
          "output_type": "stream",
          "text": [
            "*** DEBUG: Completed batch 10/100 ***\n"
          ]
        },
        {
          "metadata": {
            "tags": null
          },
          "name": "stderr",
          "output_type": "stream",
          "text": [
            "Epoch 32/50 [Train]:  23%|██▎       | 23/100 [00:06<00:14,  5.18it/s, Loss=3.4691]"
          ]
        },
        {
          "metadata": {
            "tags": null
          },
          "name": "stdout",
          "output_type": "stream",
          "text": [
            "*** DEBUG: Completed batch 20/100 ***\n"
          ]
        },
        {
          "metadata": {
            "tags": null
          },
          "name": "stderr",
          "output_type": "stream",
          "text": [
            "Epoch 32/50 [Train]:  30%|███       | 30/100 [00:08<00:14,  4.88it/s, Loss=3.0335]"
          ]
        },
        {
          "metadata": {
            "tags": null
          },
          "name": "stdout",
          "output_type": "stream",
          "text": [
            "*** DEBUG: Completed batch 30/100 ***\n"
          ]
        },
        {
          "metadata": {
            "tags": null
          },
          "name": "stderr",
          "output_type": "stream",
          "text": [
            "Epoch 32/50 [Train]:  44%|████▍     | 44/100 [00:11<00:11,  4.68it/s, Loss=3.5346]"
          ]
        },
        {
          "metadata": {
            "tags": null
          },
          "name": "stdout",
          "output_type": "stream",
          "text": [
            "*** DEBUG: Completed batch 40/100 ***\n"
          ]
        },
        {
          "metadata": {
            "tags": null
          },
          "name": "stderr",
          "output_type": "stream",
          "text": [
            "Epoch 32/50 [Train]:  55%|█████▌    | 55/100 [00:13<00:08,  5.44it/s, Loss=3.8037]"
          ]
        },
        {
          "metadata": {
            "tags": null
          },
          "name": "stdout",
          "output_type": "stream",
          "text": [
            "*** DEBUG: Completed batch 50/100 ***\n"
          ]
        },
        {
          "metadata": {
            "tags": null
          },
          "name": "stderr",
          "output_type": "stream",
          "text": [
            "Epoch 32/50 [Train]:  61%|██████    | 61/100 [00:15<00:08,  4.53it/s, Loss=3.0345]"
          ]
        },
        {
          "metadata": {
            "tags": null
          },
          "name": "stdout",
          "output_type": "stream",
          "text": [
            "*** DEBUG: Completed batch 60/100 ***\n"
          ]
        },
        {
          "metadata": {
            "tags": null
          },
          "name": "stderr",
          "output_type": "stream",
          "text": [
            "Epoch 32/50 [Train]:  69%|██████▉   | 69/100 [00:17<00:06,  4.84it/s, Loss=3.8650]"
          ]
        },
        {
          "metadata": {
            "tags": null
          },
          "name": "stdout",
          "output_type": "stream",
          "text": [
            "*** DEBUG: Completed batch 70/100 ***\n"
          ]
        },
        {
          "metadata": {
            "tags": null
          },
          "name": "stderr",
          "output_type": "stream",
          "text": [
            "Epoch 32/50 [Train]:  85%|████████▌ | 85/100 [00:20<00:02,  5.06it/s, Loss=2.7337]"
          ]
        },
        {
          "metadata": {
            "tags": null
          },
          "name": "stdout",
          "output_type": "stream",
          "text": [
            "*** DEBUG: Completed batch 80/100 ***\n"
          ]
        },
        {
          "metadata": {
            "tags": null
          },
          "name": "stderr",
          "output_type": "stream",
          "text": [
            "Epoch 32/50 [Train]:  93%|█████████▎| 93/100 [00:22<00:01,  5.05it/s, Loss=3.2144]"
          ]
        },
        {
          "metadata": {
            "tags": null
          },
          "name": "stdout",
          "output_type": "stream",
          "text": [
            "*** DEBUG: Completed batch 90/100 ***\n"
          ]
        },
        {
          "metadata": {
            "tags": null
          },
          "name": "stderr",
          "output_type": "stream",
          "text": [
            "Epoch 32/50 [Train]: 100%|██████████| 100/100 [00:23<00:00,  4.24it/s, Loss=2.9861]\n"
          ]
        },
        {
          "metadata": {
            "tags": null
          },
          "name": "stdout",
          "output_type": "stream",
          "text": [
            "*** DEBUG: Training epoch 32 complete, starting validation ***\n"
          ]
        },
        {
          "metadata": {
            "tags": null
          },
          "name": "stderr",
          "output_type": "stream",
          "text": [
            "Epoch 32/50 [Val]: 100%|██████████| 25/25 [00:06<00:00,  3.99it/s, Loss=3.3483]\n"
          ]
        },
        {
          "metadata": {
            "tags": null
          },
          "name": "stdout",
          "output_type": "stream",
          "text": [
            "Epoch 32/50:\n",
            "  Train MAPE: 3.1319%\n",
            "  Val MAPE: 3.5164%\n",
            "  LR: 0.000001\n",
            "--------------------------------------------------\n"
          ]
        },
        {
          "metadata": {
            "tags": null
          },
          "name": "stderr",
          "output_type": "stream",
          "text": [
            "Epoch 33/50 [Train]:   4%|▍         | 4/100 [00:02<00:41,  2.30it/s, Loss=3.4419]"
          ]
        },
        {
          "metadata": {
            "tags": null
          },
          "name": "stdout",
          "output_type": "stream",
          "text": [
            "*** DEBUG Batch 0: Input shape: torch.Size([16, 5, 32, 313]), Target shape: torch.Size([16, 300, 1259]) ***\n",
            "*** DEBUG: GPU memory before forward: 0.86GB ***\n",
            "*** DEBUG: Starting forward pass for batch 0 ***\n",
            "*** DEBUG: Forward pass complete, output shape: torch.Size([16, 1, 300, 1259]) ***\n",
            "*** DEBUG: Starting loss calculation ***\n",
            "*** DEBUG: Loss calculated: 3.5508, starting backward ***\n",
            "*** DEBUG: Backward complete, running optimizer step ***\n",
            "*** DEBUG: Batch 0 complete ***\n",
            "*** DEBUG: GPU memory after batch: 0.89GB ***\n",
            "*** DEBUG: Completed batch 0/100 ***\n",
            "*** DEBUG Batch 1: Input shape: torch.Size([16, 5, 32, 313]), Target shape: torch.Size([16, 300, 1259]) ***\n",
            "*** DEBUG: GPU memory before forward: 0.86GB ***\n",
            "*** DEBUG: Starting forward pass for batch 1 ***\n",
            "*** DEBUG: Forward pass complete, output shape: torch.Size([16, 1, 300, 1259]) ***\n",
            "*** DEBUG: Starting loss calculation ***\n",
            "*** DEBUG: Loss calculated: 3.0462, starting backward ***\n",
            "*** DEBUG: Backward complete, running optimizer step ***\n",
            "*** DEBUG: Batch 1 complete ***\n",
            "*** DEBUG: GPU memory after batch: 0.89GB ***\n",
            "*** DEBUG Batch 2: Input shape: torch.Size([16, 5, 32, 313]), Target shape: torch.Size([16, 300, 1259]) ***\n",
            "*** DEBUG: GPU memory before forward: 0.86GB ***\n",
            "*** DEBUG: Starting forward pass for batch 2 ***\n",
            "*** DEBUG: Forward pass complete, output shape: torch.Size([16, 1, 300, 1259]) ***\n",
            "*** DEBUG: Starting loss calculation ***\n",
            "*** DEBUG: Loss calculated: 3.0588, starting backward ***\n",
            "*** DEBUG: Backward complete, running optimizer step ***\n",
            "*** DEBUG: Batch 2 complete ***\n",
            "*** DEBUG: GPU memory after batch: 0.89GB ***\n"
          ]
        },
        {
          "metadata": {
            "tags": null
          },
          "name": "stderr",
          "output_type": "stream",
          "text": [
            "Epoch 33/50 [Train]:  15%|█▌        | 15/100 [00:04<00:17,  4.96it/s, Loss=2.9848]"
          ]
        },
        {
          "metadata": {
            "tags": null
          },
          "name": "stdout",
          "output_type": "stream",
          "text": [
            "*** DEBUG: Completed batch 10/100 ***\n"
          ]
        },
        {
          "metadata": {
            "tags": null
          },
          "name": "stderr",
          "output_type": "stream",
          "text": [
            "Epoch 33/50 [Train]:  22%|██▏       | 22/100 [00:05<00:16,  4.83it/s, Loss=3.0929]"
          ]
        },
        {
          "metadata": {
            "tags": null
          },
          "name": "stdout",
          "output_type": "stream",
          "text": [
            "*** DEBUG: Completed batch 20/100 ***\n"
          ]
        },
        {
          "metadata": {
            "tags": null
          },
          "name": "stderr",
          "output_type": "stream",
          "text": [
            "Epoch 33/50 [Train]:  29%|██▉       | 29/100 [00:07<00:14,  4.79it/s, Loss=2.9476]"
          ]
        },
        {
          "metadata": {
            "tags": null
          },
          "name": "stdout",
          "output_type": "stream",
          "text": [
            "*** DEBUG: Completed batch 30/100 ***\n"
          ]
        },
        {
          "metadata": {
            "tags": null
          },
          "name": "stderr",
          "output_type": "stream",
          "text": [
            "Epoch 33/50 [Train]:  45%|████▌     | 45/100 [00:11<00:11,  4.98it/s, Loss=3.2406]"
          ]
        },
        {
          "metadata": {
            "tags": null
          },
          "name": "stdout",
          "output_type": "stream",
          "text": [
            "*** DEBUG: Completed batch 40/100 ***\n"
          ]
        },
        {
          "metadata": {
            "tags": null
          },
          "name": "stderr",
          "output_type": "stream",
          "text": [
            "Epoch 33/50 [Train]:  55%|█████▌    | 55/100 [00:13<00:07,  5.93it/s, Loss=2.7818]"
          ]
        },
        {
          "metadata": {
            "tags": null
          },
          "name": "stdout",
          "output_type": "stream",
          "text": [
            "*** DEBUG: Completed batch 50/100 ***\n"
          ]
        },
        {
          "metadata": {
            "tags": null
          },
          "name": "stderr",
          "output_type": "stream",
          "text": [
            "Epoch 33/50 [Train]:  62%|██████▏   | 62/100 [00:15<00:07,  5.27it/s, Loss=3.0771]"
          ]
        },
        {
          "metadata": {
            "tags": null
          },
          "name": "stdout",
          "output_type": "stream",
          "text": [
            "*** DEBUG: Completed batch 60/100 ***\n"
          ]
        },
        {
          "metadata": {
            "tags": null
          },
          "name": "stderr",
          "output_type": "stream",
          "text": [
            "Epoch 33/50 [Train]:  69%|██████▉   | 69/100 [00:17<00:06,  4.83it/s, Loss=3.1851]"
          ]
        },
        {
          "metadata": {
            "tags": null
          },
          "name": "stdout",
          "output_type": "stream",
          "text": [
            "*** DEBUG: Completed batch 70/100 ***\n"
          ]
        },
        {
          "metadata": {
            "tags": null
          },
          "name": "stderr",
          "output_type": "stream",
          "text": [
            "Epoch 33/50 [Train]:  85%|████████▌ | 85/100 [00:20<00:02,  5.03it/s, Loss=2.8728]"
          ]
        },
        {
          "metadata": {
            "tags": null
          },
          "name": "stdout",
          "output_type": "stream",
          "text": [
            "*** DEBUG: Completed batch 80/100 ***\n"
          ]
        },
        {
          "metadata": {
            "tags": null
          },
          "name": "stderr",
          "output_type": "stream",
          "text": [
            "Epoch 33/50 [Train]:  96%|█████████▌| 96/100 [00:22<00:00,  6.47it/s, Loss=3.0150]"
          ]
        },
        {
          "metadata": {
            "tags": null
          },
          "name": "stdout",
          "output_type": "stream",
          "text": [
            "*** DEBUG: Completed batch 90/100 ***\n"
          ]
        },
        {
          "metadata": {
            "tags": null
          },
          "name": "stderr",
          "output_type": "stream",
          "text": [
            "Epoch 33/50 [Train]: 100%|██████████| 100/100 [00:23<00:00,  4.21it/s, Loss=2.8067]\n"
          ]
        },
        {
          "metadata": {
            "tags": null
          },
          "name": "stdout",
          "output_type": "stream",
          "text": [
            "*** DEBUG: Training epoch 33 complete, starting validation ***\n"
          ]
        },
        {
          "metadata": {
            "tags": null
          },
          "name": "stderr",
          "output_type": "stream",
          "text": [
            "Epoch 33/50 [Val]: 100%|██████████| 25/25 [00:06<00:00,  4.07it/s, Loss=3.1398]\n"
          ]
        },
        {
          "metadata": {
            "tags": null
          },
          "name": "stdout",
          "output_type": "stream",
          "text": [
            "Epoch 33/50:\n",
            "  Train MAPE: 3.0703%\n",
            "  Val MAPE: 3.2238%\n",
            "  LR: 0.000001\n",
            "--------------------------------------------------\n",
            "New best model saved: /content/drive/MyDrive/ThinkOnward/Models/best_model_adaptive.pth\n"
          ]
        },
        {
          "metadata": {
            "tags": null
          },
          "name": "stderr",
          "output_type": "stream",
          "text": [
            "Epoch 34/50 [Train]:   4%|▍         | 4/100 [00:02<00:46,  2.08it/s, Loss=2.9277]"
          ]
        },
        {
          "metadata": {
            "tags": null
          },
          "name": "stdout",
          "output_type": "stream",
          "text": [
            "*** DEBUG Batch 0: Input shape: torch.Size([16, 5, 32, 313]), Target shape: torch.Size([16, 300, 1259]) ***\n",
            "*** DEBUG: GPU memory before forward: 0.86GB ***\n",
            "*** DEBUG: Starting forward pass for batch 0 ***\n",
            "*** DEBUG: Forward pass complete, output shape: torch.Size([16, 1, 300, 1259]) ***\n",
            "*** DEBUG: Starting loss calculation ***\n",
            "*** DEBUG: Loss calculated: 2.9170, starting backward ***\n",
            "*** DEBUG: Backward complete, running optimizer step ***\n",
            "*** DEBUG: Batch 0 complete ***\n",
            "*** DEBUG: GPU memory after batch: 0.89GB ***\n",
            "*** DEBUG: Completed batch 0/100 ***\n",
            "*** DEBUG Batch 1: Input shape: torch.Size([16, 5, 32, 313]), Target shape: torch.Size([16, 300, 1259]) ***\n",
            "*** DEBUG: GPU memory before forward: 0.86GB ***\n",
            "*** DEBUG: Starting forward pass for batch 1 ***\n",
            "*** DEBUG: Forward pass complete, output shape: torch.Size([16, 1, 300, 1259]) ***\n",
            "*** DEBUG: Starting loss calculation ***\n",
            "*** DEBUG: Loss calculated: 2.6406, starting backward ***\n",
            "*** DEBUG: Backward complete, running optimizer step ***\n",
            "*** DEBUG: Batch 1 complete ***\n",
            "*** DEBUG: GPU memory after batch: 0.89GB ***\n",
            "*** DEBUG Batch 2: Input shape: torch.Size([16, 5, 32, 313]), Target shape: torch.Size([16, 300, 1259]) ***\n",
            "*** DEBUG: GPU memory before forward: 0.86GB ***\n",
            "*** DEBUG: Starting forward pass for batch 2 ***\n",
            "*** DEBUG: Forward pass complete, output shape: torch.Size([16, 1, 300, 1259]) ***\n",
            "*** DEBUG: Starting loss calculation ***\n",
            "*** DEBUG: Loss calculated: 3.1730, starting backward ***\n",
            "*** DEBUG: Backward complete, running optimizer step ***\n",
            "*** DEBUG: Batch 2 complete ***\n",
            "*** DEBUG: GPU memory after batch: 0.89GB ***\n"
          ]
        },
        {
          "metadata": {
            "tags": null
          },
          "name": "stderr",
          "output_type": "stream",
          "text": [
            "Epoch 34/50 [Train]:  14%|█▍        | 14/100 [00:04<00:20,  4.12it/s, Loss=3.1939]"
          ]
        },
        {
          "metadata": {
            "tags": null
          },
          "name": "stdout",
          "output_type": "stream",
          "text": [
            "*** DEBUG: Completed batch 10/100 ***\n"
          ]
        },
        {
          "metadata": {
            "tags": null
          },
          "name": "stderr",
          "output_type": "stream",
          "text": [
            "Epoch 34/50 [Train]:  23%|██▎       | 23/100 [00:06<00:13,  5.64it/s, Loss=3.3072]"
          ]
        },
        {
          "metadata": {
            "tags": null
          },
          "name": "stdout",
          "output_type": "stream",
          "text": [
            "*** DEBUG: Completed batch 20/100 ***\n"
          ]
        },
        {
          "metadata": {
            "tags": null
          },
          "name": "stderr",
          "output_type": "stream",
          "text": [
            "Epoch 34/50 [Train]:  30%|███       | 30/100 [00:08<00:13,  5.05it/s, Loss=2.9969]"
          ]
        },
        {
          "metadata": {
            "tags": null
          },
          "name": "stdout",
          "output_type": "stream",
          "text": [
            "*** DEBUG: Completed batch 30/100 ***\n"
          ]
        },
        {
          "metadata": {
            "tags": null
          },
          "name": "stderr",
          "output_type": "stream",
          "text": [
            "Epoch 34/50 [Train]:  44%|████▍     | 44/100 [00:14<00:21,  2.64it/s, Loss=3.0132]"
          ]
        },
        {
          "metadata": {
            "tags": null
          },
          "name": "stdout",
          "output_type": "stream",
          "text": [
            "*** DEBUG: Completed batch 40/100 ***\n"
          ]
        },
        {
          "metadata": {
            "tags": null
          },
          "name": "stderr",
          "output_type": "stream",
          "text": [
            "Epoch 34/50 [Train]:  53%|█████▎    | 53/100 [00:16<00:13,  3.60it/s, Loss=3.1383]"
          ]
        },
        {
          "metadata": {
            "tags": null
          },
          "name": "stdout",
          "output_type": "stream",
          "text": [
            "*** DEBUG: Completed batch 50/100 ***\n"
          ]
        },
        {
          "metadata": {
            "tags": null
          },
          "name": "stderr",
          "output_type": "stream",
          "text": [
            "Epoch 34/50 [Train]:  63%|██████▎   | 63/100 [00:18<00:07,  5.10it/s, Loss=2.8214]"
          ]
        },
        {
          "metadata": {
            "tags": null
          },
          "name": "stdout",
          "output_type": "stream",
          "text": [
            "*** DEBUG: Completed batch 60/100 ***\n"
          ]
        },
        {
          "metadata": {
            "tags": null
          },
          "name": "stderr",
          "output_type": "stream",
          "text": [
            "Epoch 34/50 [Train]:  72%|███████▏  | 72/100 [00:20<00:04,  5.83it/s, Loss=2.9150]"
          ]
        },
        {
          "metadata": {
            "tags": null
          },
          "name": "stdout",
          "output_type": "stream",
          "text": [
            "*** DEBUG: Completed batch 70/100 ***\n"
          ]
        },
        {
          "metadata": {
            "tags": null
          },
          "name": "stderr",
          "output_type": "stream",
          "text": [
            "Epoch 34/50 [Train]:  86%|████████▌ | 86/100 [00:24<00:02,  4.94it/s, Loss=3.0886]"
          ]
        },
        {
          "metadata": {
            "tags": null
          },
          "name": "stdout",
          "output_type": "stream",
          "text": [
            "*** DEBUG: Completed batch 80/100 ***\n"
          ]
        },
        {
          "metadata": {
            "tags": null
          },
          "name": "stderr",
          "output_type": "stream",
          "text": [
            "Epoch 34/50 [Train]:  93%|█████████▎| 93/100 [00:26<00:01,  4.91it/s, Loss=2.8979]"
          ]
        },
        {
          "metadata": {
            "tags": null
          },
          "name": "stdout",
          "output_type": "stream",
          "text": [
            "*** DEBUG: Completed batch 90/100 ***\n"
          ]
        },
        {
          "metadata": {
            "tags": null
          },
          "name": "stderr",
          "output_type": "stream",
          "text": [
            "Epoch 34/50 [Train]: 100%|██████████| 100/100 [00:26<00:00,  3.71it/s, Loss=3.7854]\n"
          ]
        },
        {
          "metadata": {
            "tags": null
          },
          "name": "stdout",
          "output_type": "stream",
          "text": [
            "*** DEBUG: Training epoch 34 complete, starting validation ***\n"
          ]
        },
        {
          "metadata": {
            "tags": null
          },
          "name": "stderr",
          "output_type": "stream",
          "text": [
            "Epoch 34/50 [Val]: 100%|██████████| 25/25 [00:06<00:00,  4.06it/s, Loss=3.0104]\n"
          ]
        },
        {
          "metadata": {
            "tags": null
          },
          "name": "stdout",
          "output_type": "stream",
          "text": [
            "Epoch 34/50:\n",
            "  Train MAPE: 3.0885%\n",
            "  Val MAPE: 3.1244%\n",
            "  LR: 0.000001\n",
            "--------------------------------------------------\n",
            "New best model saved: /content/drive/MyDrive/ThinkOnward/Models/best_model_adaptive.pth\n"
          ]
        },
        {
          "metadata": {
            "tags": null
          },
          "name": "stderr",
          "output_type": "stream",
          "text": [
            "Epoch 35/50 [Train]:   2%|▏         | 2/100 [00:02<01:36,  1.02it/s, Loss=2.9259]"
          ]
        },
        {
          "metadata": {
            "tags": null
          },
          "name": "stdout",
          "output_type": "stream",
          "text": [
            "*** DEBUG Batch 0: Input shape: torch.Size([16, 5, 32, 313]), Target shape: torch.Size([16, 300, 1259]) ***\n",
            "*** DEBUG: GPU memory before forward: 0.86GB ***\n",
            "*** DEBUG: Starting forward pass for batch 0 ***\n",
            "*** DEBUG: Forward pass complete, output shape: torch.Size([16, 1, 300, 1259]) ***\n",
            "*** DEBUG: Starting loss calculation ***\n",
            "*** DEBUG: Loss calculated: 2.8476, starting backward ***\n",
            "*** DEBUG: Backward complete, running optimizer step ***\n",
            "*** DEBUG: Batch 0 complete ***\n",
            "*** DEBUG: GPU memory after batch: 0.89GB ***\n",
            "*** DEBUG: Completed batch 0/100 ***\n",
            "*** DEBUG Batch 1: Input shape: torch.Size([16, 5, 32, 313]), Target shape: torch.Size([16, 300, 1259]) ***\n",
            "*** DEBUG: GPU memory before forward: 0.86GB ***\n",
            "*** DEBUG: Starting forward pass for batch 1 ***\n",
            "*** DEBUG: Forward pass complete, output shape: torch.Size([16, 1, 300, 1259]) ***\n",
            "*** DEBUG: Starting loss calculation ***\n",
            "*** DEBUG: Loss calculated: 3.0266, starting backward ***\n",
            "*** DEBUG: Backward complete, running optimizer step ***\n",
            "*** DEBUG: Batch 1 complete ***\n",
            "*** DEBUG: GPU memory after batch: 0.89GB ***\n",
            "*** DEBUG Batch 2: Input shape: torch.Size([16, 5, 32, 313]), Target shape: torch.Size([16, 300, 1259]) ***\n",
            "*** DEBUG: GPU memory before forward: 0.86GB ***\n",
            "*** DEBUG: Starting forward pass for batch 2 ***\n",
            "*** DEBUG: Forward pass complete, output shape: torch.Size([16, 1, 300, 1259]) ***\n",
            "*** DEBUG: Starting loss calculation ***\n",
            "*** DEBUG: Loss calculated: 2.9259, starting backward ***\n",
            "*** DEBUG: Backward complete, running optimizer step ***\n",
            "*** DEBUG: Batch 2 complete ***\n",
            "*** DEBUG: GPU memory after batch: 0.89GB ***\n"
          ]
        },
        {
          "metadata": {
            "tags": null
          },
          "name": "stderr",
          "output_type": "stream",
          "text": [
            "Epoch 35/50 [Train]:  15%|█▌        | 15/100 [00:04<00:14,  5.69it/s, Loss=3.0248]"
          ]
        },
        {
          "metadata": {
            "tags": null
          },
          "name": "stdout",
          "output_type": "stream",
          "text": [
            "*** DEBUG: Completed batch 10/100 ***\n"
          ]
        },
        {
          "metadata": {
            "tags": null
          },
          "name": "stderr",
          "output_type": "stream",
          "text": [
            "Epoch 35/50 [Train]:  23%|██▎       | 23/100 [00:06<00:13,  5.91it/s, Loss=2.7725]"
          ]
        },
        {
          "metadata": {
            "tags": null
          },
          "name": "stdout",
          "output_type": "stream",
          "text": [
            "*** DEBUG: Completed batch 20/100 ***\n"
          ]
        },
        {
          "metadata": {
            "tags": null
          },
          "name": "stderr",
          "output_type": "stream",
          "text": [
            "Epoch 35/50 [Train]:  30%|███       | 30/100 [00:08<00:13,  5.29it/s, Loss=3.1548]"
          ]
        },
        {
          "metadata": {
            "tags": null
          },
          "name": "stdout",
          "output_type": "stream",
          "text": [
            "*** DEBUG: Completed batch 30/100 ***\n"
          ]
        },
        {
          "metadata": {
            "tags": null
          },
          "name": "stderr",
          "output_type": "stream",
          "text": [
            "Epoch 35/50 [Train]:  41%|████      | 41/100 [00:13<00:32,  1.84it/s, Loss=3.0987]"
          ]
        },
        {
          "metadata": {
            "tags": null
          },
          "name": "stdout",
          "output_type": "stream",
          "text": [
            "*** DEBUG: Completed batch 40/100 ***\n"
          ]
        },
        {
          "metadata": {
            "tags": null
          },
          "name": "stderr",
          "output_type": "stream",
          "text": [
            "Epoch 35/50 [Train]:  54%|█████▍    | 54/100 [00:16<00:11,  4.02it/s, Loss=3.0172]"
          ]
        },
        {
          "metadata": {
            "tags": null
          },
          "name": "stdout",
          "output_type": "stream",
          "text": [
            "*** DEBUG: Completed batch 50/100 ***\n"
          ]
        },
        {
          "metadata": {
            "tags": null
          },
          "name": "stderr",
          "output_type": "stream",
          "text": [
            "Epoch 35/50 [Train]:  63%|██████▎   | 63/100 [00:18<00:07,  5.25it/s, Loss=2.5906]"
          ]
        },
        {
          "metadata": {
            "tags": null
          },
          "name": "stdout",
          "output_type": "stream",
          "text": [
            "*** DEBUG: Completed batch 60/100 ***\n"
          ]
        },
        {
          "metadata": {
            "tags": null
          },
          "name": "stderr",
          "output_type": "stream",
          "text": [
            "Epoch 35/50 [Train]:  70%|███████   | 70/100 [00:20<00:06,  4.77it/s, Loss=2.8483]"
          ]
        },
        {
          "metadata": {
            "tags": null
          },
          "name": "stdout",
          "output_type": "stream",
          "text": [
            "*** DEBUG: Completed batch 70/100 ***\n"
          ]
        },
        {
          "metadata": {
            "tags": null
          },
          "name": "stderr",
          "output_type": "stream",
          "text": [
            "Epoch 35/50 [Train]:  81%|████████  | 81/100 [00:23<00:04,  4.40it/s, Loss=2.6208]"
          ]
        },
        {
          "metadata": {
            "tags": null
          },
          "name": "stdout",
          "output_type": "stream",
          "text": [
            "*** DEBUG: Completed batch 80/100 ***\n"
          ]
        },
        {
          "metadata": {
            "tags": null
          },
          "name": "stderr",
          "output_type": "stream",
          "text": [
            "Epoch 35/50 [Train]:  95%|█████████▌| 95/100 [00:26<00:00,  5.40it/s, Loss=3.1345]"
          ]
        },
        {
          "metadata": {
            "tags": null
          },
          "name": "stdout",
          "output_type": "stream",
          "text": [
            "*** DEBUG: Completed batch 90/100 ***\n"
          ]
        },
        {
          "metadata": {
            "tags": null
          },
          "name": "stderr",
          "output_type": "stream",
          "text": [
            "Epoch 35/50 [Train]: 100%|██████████| 100/100 [00:26<00:00,  3.71it/s, Loss=2.9572]\n"
          ]
        },
        {
          "metadata": {
            "tags": null
          },
          "name": "stdout",
          "output_type": "stream",
          "text": [
            "*** DEBUG: Training epoch 35 complete, starting validation ***\n"
          ]
        },
        {
          "metadata": {
            "tags": null
          },
          "name": "stderr",
          "output_type": "stream",
          "text": [
            "Epoch 35/50 [Val]: 100%|██████████| 25/25 [00:06<00:00,  3.94it/s, Loss=3.0475]\n"
          ]
        },
        {
          "metadata": {
            "tags": null
          },
          "name": "stdout",
          "output_type": "stream",
          "text": [
            "Epoch 35/50:\n",
            "  Train MAPE: 3.0671%\n",
            "  Val MAPE: 3.1654%\n",
            "  LR: 0.000001\n",
            "--------------------------------------------------\n"
          ]
        },
        {
          "metadata": {
            "tags": null
          },
          "name": "stderr",
          "output_type": "stream",
          "text": [
            "Epoch 36/50 [Train]:   4%|▍         | 4/100 [00:02<00:43,  2.22it/s, Loss=3.1618]"
          ]
        },
        {
          "metadata": {
            "tags": null
          },
          "name": "stdout",
          "output_type": "stream",
          "text": [
            "*** DEBUG Batch 0: Input shape: torch.Size([16, 5, 32, 313]), Target shape: torch.Size([16, 300, 1259]) ***\n",
            "*** DEBUG: GPU memory before forward: 0.86GB ***\n",
            "*** DEBUG: Starting forward pass for batch 0 ***\n",
            "*** DEBUG: Forward pass complete, output shape: torch.Size([16, 1, 300, 1259]) ***\n",
            "*** DEBUG: Starting loss calculation ***\n",
            "*** DEBUG: Loss calculated: 3.2810, starting backward ***\n",
            "*** DEBUG: Backward complete, running optimizer step ***\n",
            "*** DEBUG: Batch 0 complete ***\n",
            "*** DEBUG: GPU memory after batch: 0.89GB ***\n",
            "*** DEBUG: Completed batch 0/100 ***\n",
            "*** DEBUG Batch 1: Input shape: torch.Size([16, 5, 32, 313]), Target shape: torch.Size([16, 300, 1259]) ***\n",
            "*** DEBUG: GPU memory before forward: 0.86GB ***\n",
            "*** DEBUG: Starting forward pass for batch 1 ***\n",
            "*** DEBUG: Forward pass complete, output shape: torch.Size([16, 1, 300, 1259]) ***\n",
            "*** DEBUG: Starting loss calculation ***\n",
            "*** DEBUG: Loss calculated: 3.0851, starting backward ***\n",
            "*** DEBUG: Backward complete, running optimizer step ***\n",
            "*** DEBUG: Batch 1 complete ***\n",
            "*** DEBUG: GPU memory after batch: 0.89GB ***\n",
            "*** DEBUG Batch 2: Input shape: torch.Size([16, 5, 32, 313]), Target shape: torch.Size([16, 300, 1259]) ***\n",
            "*** DEBUG: GPU memory before forward: 0.86GB ***\n",
            "*** DEBUG: Starting forward pass for batch 2 ***\n",
            "*** DEBUG: Forward pass complete, output shape: torch.Size([16, 1, 300, 1259]) ***\n",
            "*** DEBUG: Starting loss calculation ***\n",
            "*** DEBUG: Loss calculated: 2.7464, starting backward ***\n",
            "*** DEBUG: Backward complete, running optimizer step ***\n",
            "*** DEBUG: Batch 2 complete ***\n",
            "*** DEBUG: GPU memory after batch: 0.89GB ***\n"
          ]
        },
        {
          "metadata": {
            "tags": null
          },
          "name": "stderr",
          "output_type": "stream",
          "text": [
            "Epoch 36/50 [Train]:  14%|█▍        | 14/100 [00:04<00:18,  4.66it/s, Loss=2.9658]"
          ]
        },
        {
          "metadata": {
            "tags": null
          },
          "name": "stdout",
          "output_type": "stream",
          "text": [
            "*** DEBUG: Completed batch 10/100 ***\n"
          ]
        },
        {
          "metadata": {
            "tags": null
          },
          "name": "stderr",
          "output_type": "stream",
          "text": [
            "Epoch 36/50 [Train]:  21%|██        | 21/100 [00:06<00:17,  4.53it/s, Loss=2.9661]"
          ]
        },
        {
          "metadata": {
            "tags": null
          },
          "name": "stdout",
          "output_type": "stream",
          "text": [
            "*** DEBUG: Completed batch 20/100 ***\n"
          ]
        },
        {
          "metadata": {
            "tags": null
          },
          "name": "stderr",
          "output_type": "stream",
          "text": [
            "Epoch 36/50 [Train]:  29%|██▉       | 29/100 [00:08<00:14,  4.89it/s, Loss=2.7846]"
          ]
        },
        {
          "metadata": {
            "tags": null
          },
          "name": "stdout",
          "output_type": "stream",
          "text": [
            "*** DEBUG: Completed batch 30/100 ***\n"
          ]
        },
        {
          "metadata": {
            "tags": null
          },
          "name": "stderr",
          "output_type": "stream",
          "text": [
            "Epoch 36/50 [Train]:  45%|████▌     | 45/100 [00:11<00:11,  4.95it/s, Loss=3.0277]"
          ]
        },
        {
          "metadata": {
            "tags": null
          },
          "name": "stdout",
          "output_type": "stream",
          "text": [
            "*** DEBUG: Completed batch 40/100 ***\n"
          ]
        },
        {
          "metadata": {
            "tags": null
          },
          "name": "stderr",
          "output_type": "stream",
          "text": [
            "Epoch 36/50 [Train]:  56%|█████▌    | 56/100 [00:13<00:07,  6.21it/s, Loss=2.8123]"
          ]
        },
        {
          "metadata": {
            "tags": null
          },
          "name": "stdout",
          "output_type": "stream",
          "text": [
            "*** DEBUG: Completed batch 50/100 ***\n"
          ]
        },
        {
          "metadata": {
            "tags": null
          },
          "name": "stderr",
          "output_type": "stream",
          "text": [
            "Epoch 36/50 [Train]:  63%|██████▎   | 63/100 [00:15<00:06,  5.33it/s, Loss=2.9897]"
          ]
        },
        {
          "metadata": {
            "tags": null
          },
          "name": "stdout",
          "output_type": "stream",
          "text": [
            "*** DEBUG: Completed batch 60/100 ***\n"
          ]
        },
        {
          "metadata": {
            "tags": null
          },
          "name": "stderr",
          "output_type": "stream",
          "text": [
            "Epoch 36/50 [Train]:  70%|███████   | 70/100 [00:17<00:06,  4.89it/s, Loss=2.7694]"
          ]
        },
        {
          "metadata": {
            "tags": null
          },
          "name": "stdout",
          "output_type": "stream",
          "text": [
            "*** DEBUG: Completed batch 70/100 ***\n"
          ]
        },
        {
          "metadata": {
            "tags": null
          },
          "name": "stderr",
          "output_type": "stream",
          "text": [
            "Epoch 36/50 [Train]:  85%|████████▌ | 85/100 [00:21<00:03,  4.93it/s, Loss=2.7921]"
          ]
        },
        {
          "metadata": {
            "tags": null
          },
          "name": "stdout",
          "output_type": "stream",
          "text": [
            "*** DEBUG: Completed batch 80/100 ***\n"
          ]
        },
        {
          "metadata": {
            "tags": null
          },
          "name": "stderr",
          "output_type": "stream",
          "text": [
            "Epoch 36/50 [Train]:  93%|█████████▎| 93/100 [00:23<00:01,  5.12it/s, Loss=3.2440]"
          ]
        },
        {
          "metadata": {
            "tags": null
          },
          "name": "stdout",
          "output_type": "stream",
          "text": [
            "*** DEBUG: Completed batch 90/100 ***\n"
          ]
        },
        {
          "metadata": {
            "tags": null
          },
          "name": "stderr",
          "output_type": "stream",
          "text": [
            "Epoch 36/50 [Train]: 100%|██████████| 100/100 [00:23<00:00,  4.20it/s, Loss=2.7677]\n"
          ]
        },
        {
          "metadata": {
            "tags": null
          },
          "name": "stdout",
          "output_type": "stream",
          "text": [
            "*** DEBUG: Training epoch 36 complete, starting validation ***\n"
          ]
        },
        {
          "metadata": {
            "tags": null
          },
          "name": "stderr",
          "output_type": "stream",
          "text": [
            "Epoch 36/50 [Val]: 100%|██████████| 25/25 [00:06<00:00,  4.01it/s, Loss=2.9779]\n"
          ]
        },
        {
          "metadata": {
            "tags": null
          },
          "name": "stdout",
          "output_type": "stream",
          "text": [
            "Epoch 36/50:\n",
            "  Train MAPE: 3.0627%\n",
            "  Val MAPE: 3.1049%\n",
            "  LR: 0.000001\n",
            "--------------------------------------------------\n",
            "New best model saved: /content/drive/MyDrive/ThinkOnward/Models/best_model_adaptive.pth\n"
          ]
        },
        {
          "metadata": {
            "tags": null
          },
          "name": "stderr",
          "output_type": "stream",
          "text": [
            "Epoch 37/50 [Train]:   4%|▍         | 4/100 [00:02<00:46,  2.07it/s, Loss=2.9329]"
          ]
        },
        {
          "metadata": {
            "tags": null
          },
          "name": "stdout",
          "output_type": "stream",
          "text": [
            "*** DEBUG Batch 0: Input shape: torch.Size([16, 5, 32, 313]), Target shape: torch.Size([16, 300, 1259]) ***\n",
            "*** DEBUG: GPU memory before forward: 0.86GB ***\n",
            "*** DEBUG: Starting forward pass for batch 0 ***\n",
            "*** DEBUG: Forward pass complete, output shape: torch.Size([16, 1, 300, 1259]) ***\n",
            "*** DEBUG: Starting loss calculation ***\n",
            "*** DEBUG: Loss calculated: 3.1657, starting backward ***\n",
            "*** DEBUG: Backward complete, running optimizer step ***\n",
            "*** DEBUG: Batch 0 complete ***\n",
            "*** DEBUG: GPU memory after batch: 0.89GB ***\n",
            "*** DEBUG: Completed batch 0/100 ***\n",
            "*** DEBUG Batch 1: Input shape: torch.Size([16, 5, 32, 313]), Target shape: torch.Size([16, 300, 1259]) ***\n",
            "*** DEBUG: GPU memory before forward: 0.86GB ***\n",
            "*** DEBUG: Starting forward pass for batch 1 ***\n",
            "*** DEBUG: Forward pass complete, output shape: torch.Size([16, 1, 300, 1259]) ***\n",
            "*** DEBUG: Starting loss calculation ***\n",
            "*** DEBUG: Loss calculated: 2.9989, starting backward ***\n",
            "*** DEBUG: Backward complete, running optimizer step ***\n",
            "*** DEBUG: Batch 1 complete ***\n",
            "*** DEBUG: GPU memory after batch: 0.89GB ***\n",
            "*** DEBUG Batch 2: Input shape: torch.Size([16, 5, 32, 313]), Target shape: torch.Size([16, 300, 1259]) ***\n",
            "*** DEBUG: GPU memory before forward: 0.86GB ***\n",
            "*** DEBUG: Starting forward pass for batch 2 ***\n",
            "*** DEBUG: Forward pass complete, output shape: torch.Size([16, 1, 300, 1259]) ***\n",
            "*** DEBUG: Starting loss calculation ***\n",
            "*** DEBUG: Loss calculated: 2.9968, starting backward ***\n",
            "*** DEBUG: Backward complete, running optimizer step ***\n",
            "*** DEBUG: Batch 2 complete ***\n",
            "*** DEBUG: GPU memory after batch: 0.89GB ***\n"
          ]
        },
        {
          "metadata": {
            "tags": null
          },
          "name": "stderr",
          "output_type": "stream",
          "text": [
            "Epoch 37/50 [Train]:  15%|█▌        | 15/100 [00:04<00:18,  4.70it/s, Loss=3.3060]"
          ]
        },
        {
          "metadata": {
            "tags": null
          },
          "name": "stdout",
          "output_type": "stream",
          "text": [
            "*** DEBUG: Completed batch 10/100 ***\n"
          ]
        },
        {
          "metadata": {
            "tags": null
          },
          "name": "stderr",
          "output_type": "stream",
          "text": [
            "Epoch 37/50 [Train]:  24%|██▍       | 24/100 [00:06<00:13,  5.65it/s, Loss=2.7957]"
          ]
        },
        {
          "metadata": {
            "tags": null
          },
          "name": "stdout",
          "output_type": "stream",
          "text": [
            "*** DEBUG: Completed batch 20/100 ***\n"
          ]
        },
        {
          "metadata": {
            "tags": null
          },
          "name": "stderr",
          "output_type": "stream",
          "text": [
            "Epoch 37/50 [Train]:  31%|███       | 31/100 [00:10<00:24,  2.77it/s, Loss=2.7438]"
          ]
        },
        {
          "metadata": {
            "tags": null
          },
          "name": "stdout",
          "output_type": "stream",
          "text": [
            "*** DEBUG: Completed batch 30/100 ***\n"
          ]
        },
        {
          "metadata": {
            "tags": null
          },
          "name": "stderr",
          "output_type": "stream",
          "text": [
            "Epoch 37/50 [Train]:  45%|████▌     | 45/100 [00:14<00:13,  4.08it/s, Loss=2.9808]"
          ]
        },
        {
          "metadata": {
            "tags": null
          },
          "name": "stdout",
          "output_type": "stream",
          "text": [
            "*** DEBUG: Completed batch 40/100 ***\n"
          ]
        },
        {
          "metadata": {
            "tags": null
          },
          "name": "stderr",
          "output_type": "stream",
          "text": [
            "Epoch 37/50 [Train]:  53%|█████▎    | 53/100 [00:16<00:10,  4.53it/s, Loss=2.8954]"
          ]
        },
        {
          "metadata": {
            "tags": null
          },
          "name": "stdout",
          "output_type": "stream",
          "text": [
            "*** DEBUG: Completed batch 50/100 ***\n"
          ]
        },
        {
          "metadata": {
            "tags": null
          },
          "name": "stderr",
          "output_type": "stream",
          "text": [
            "Epoch 37/50 [Train]:  61%|██████    | 61/100 [00:18<00:08,  4.81it/s, Loss=3.1214]"
          ]
        },
        {
          "metadata": {
            "tags": null
          },
          "name": "stdout",
          "output_type": "stream",
          "text": [
            "*** DEBUG: Completed batch 60/100 ***\n"
          ]
        },
        {
          "metadata": {
            "tags": null
          },
          "name": "stderr",
          "output_type": "stream",
          "text": [
            "Epoch 37/50 [Train]:  69%|██████▉   | 69/100 [00:20<00:06,  4.92it/s, Loss=3.1362]"
          ]
        },
        {
          "metadata": {
            "tags": null
          },
          "name": "stdout",
          "output_type": "stream",
          "text": [
            "*** DEBUG: Completed batch 70/100 ***\n"
          ]
        },
        {
          "metadata": {
            "tags": null
          },
          "name": "stderr",
          "output_type": "stream",
          "text": [
            "Epoch 37/50 [Train]:  85%|████████▌ | 85/100 [00:23<00:02,  5.12it/s, Loss=3.1204]"
          ]
        },
        {
          "metadata": {
            "tags": null
          },
          "name": "stdout",
          "output_type": "stream",
          "text": [
            "*** DEBUG: Completed batch 80/100 ***\n"
          ]
        },
        {
          "metadata": {
            "tags": null
          },
          "name": "stderr",
          "output_type": "stream",
          "text": [
            "Epoch 37/50 [Train]:  93%|█████████▎| 93/100 [00:25<00:01,  5.27it/s, Loss=2.9713]"
          ]
        },
        {
          "metadata": {
            "tags": null
          },
          "name": "stdout",
          "output_type": "stream",
          "text": [
            "*** DEBUG: Completed batch 90/100 ***\n"
          ]
        },
        {
          "metadata": {
            "tags": null
          },
          "name": "stderr",
          "output_type": "stream",
          "text": [
            "Epoch 37/50 [Train]: 100%|██████████| 100/100 [00:26<00:00,  3.78it/s, Loss=3.1739]\n"
          ]
        },
        {
          "metadata": {
            "tags": null
          },
          "name": "stdout",
          "output_type": "stream",
          "text": [
            "*** DEBUG: Training epoch 37 complete, starting validation ***\n"
          ]
        },
        {
          "metadata": {
            "tags": null
          },
          "name": "stderr",
          "output_type": "stream",
          "text": [
            "Epoch 37/50 [Val]: 100%|██████████| 25/25 [00:06<00:00,  4.03it/s, Loss=2.9655]\n"
          ]
        },
        {
          "metadata": {
            "tags": null
          },
          "name": "stdout",
          "output_type": "stream",
          "text": [
            "Epoch 37/50:\n",
            "  Train MAPE: 3.0735%\n",
            "  Val MAPE: 3.0891%\n",
            "  LR: 0.000001\n",
            "--------------------------------------------------\n",
            "New best model saved: /content/drive/MyDrive/ThinkOnward/Models/best_model_adaptive.pth\n"
          ]
        },
        {
          "metadata": {
            "tags": null
          },
          "name": "stderr",
          "output_type": "stream",
          "text": [
            "Epoch 38/50 [Train]:   4%|▍         | 4/100 [00:02<00:45,  2.09it/s, Loss=2.9966]"
          ]
        },
        {
          "metadata": {
            "tags": null
          },
          "name": "stdout",
          "output_type": "stream",
          "text": [
            "*** DEBUG Batch 0: Input shape: torch.Size([16, 5, 32, 313]), Target shape: torch.Size([16, 300, 1259]) ***\n",
            "*** DEBUG: GPU memory before forward: 0.86GB ***\n",
            "*** DEBUG: Starting forward pass for batch 0 ***\n",
            "*** DEBUG: Forward pass complete, output shape: torch.Size([16, 1, 300, 1259]) ***\n",
            "*** DEBUG: Starting loss calculation ***\n",
            "*** DEBUG: Loss calculated: 3.0356, starting backward ***\n",
            "*** DEBUG: Backward complete, running optimizer step ***\n",
            "*** DEBUG: Batch 0 complete ***\n",
            "*** DEBUG: GPU memory after batch: 0.89GB ***\n",
            "*** DEBUG: Completed batch 0/100 ***\n",
            "*** DEBUG Batch 1: Input shape: torch.Size([16, 5, 32, 313]), Target shape: torch.Size([16, 300, 1259]) ***\n",
            "*** DEBUG: GPU memory before forward: 0.86GB ***\n",
            "*** DEBUG: Starting forward pass for batch 1 ***\n",
            "*** DEBUG: Forward pass complete, output shape: torch.Size([16, 1, 300, 1259]) ***\n",
            "*** DEBUG: Starting loss calculation ***\n",
            "*** DEBUG: Loss calculated: 3.1212, starting backward ***\n",
            "*** DEBUG: Backward complete, running optimizer step ***\n",
            "*** DEBUG: Batch 1 complete ***\n",
            "*** DEBUG: GPU memory after batch: 0.89GB ***\n",
            "*** DEBUG Batch 2: Input shape: torch.Size([16, 5, 32, 313]), Target shape: torch.Size([16, 300, 1259]) ***\n",
            "*** DEBUG: GPU memory before forward: 0.86GB ***\n",
            "*** DEBUG: Starting forward pass for batch 2 ***\n",
            "*** DEBUG: Forward pass complete, output shape: torch.Size([16, 1, 300, 1259]) ***\n",
            "*** DEBUG: Starting loss calculation ***\n",
            "*** DEBUG: Loss calculated: 3.1343, starting backward ***\n",
            "*** DEBUG: Backward complete, running optimizer step ***\n",
            "*** DEBUG: Batch 2 complete ***\n",
            "*** DEBUG: GPU memory after batch: 0.89GB ***\n"
          ]
        },
        {
          "metadata": {
            "tags": null
          },
          "name": "stderr",
          "output_type": "stream",
          "text": [
            "Epoch 38/50 [Train]:  15%|█▌        | 15/100 [00:04<00:17,  4.78it/s, Loss=3.3478]"
          ]
        },
        {
          "metadata": {
            "tags": null
          },
          "name": "stdout",
          "output_type": "stream",
          "text": [
            "*** DEBUG: Completed batch 10/100 ***\n"
          ]
        },
        {
          "metadata": {
            "tags": null
          },
          "name": "stderr",
          "output_type": "stream",
          "text": [
            "Epoch 38/50 [Train]:  22%|██▏       | 22/100 [00:06<00:16,  4.66it/s, Loss=2.9733]"
          ]
        },
        {
          "metadata": {
            "tags": null
          },
          "name": "stdout",
          "output_type": "stream",
          "text": [
            "*** DEBUG: Completed batch 20/100 ***\n"
          ]
        },
        {
          "metadata": {
            "tags": null
          },
          "name": "stderr",
          "output_type": "stream",
          "text": [
            "Epoch 38/50 [Train]:  29%|██▉       | 29/100 [00:08<00:15,  4.67it/s, Loss=3.1933]"
          ]
        },
        {
          "metadata": {
            "tags": null
          },
          "name": "stdout",
          "output_type": "stream",
          "text": [
            "*** DEBUG: Completed batch 30/100 ***\n"
          ]
        },
        {
          "metadata": {
            "tags": null
          },
          "name": "stderr",
          "output_type": "stream",
          "text": [
            "Epoch 38/50 [Train]:  44%|████▍     | 44/100 [00:14<00:20,  2.75it/s, Loss=2.9107]"
          ]
        },
        {
          "metadata": {
            "tags": null
          },
          "name": "stdout",
          "output_type": "stream",
          "text": [
            "*** DEBUG: Completed batch 40/100 ***\n"
          ]
        },
        {
          "metadata": {
            "tags": null
          },
          "name": "stderr",
          "output_type": "stream",
          "text": [
            "Epoch 38/50 [Train]:  54%|█████▍    | 54/100 [00:16<00:11,  4.10it/s, Loss=2.9507]"
          ]
        },
        {
          "metadata": {
            "tags": null
          },
          "name": "stdout",
          "output_type": "stream",
          "text": [
            "*** DEBUG: Completed batch 50/100 ***\n"
          ]
        },
        {
          "metadata": {
            "tags": null
          },
          "name": "stderr",
          "output_type": "stream",
          "text": [
            "Epoch 38/50 [Train]:  62%|██████▏   | 62/100 [00:18<00:07,  4.89it/s, Loss=2.8033]"
          ]
        },
        {
          "metadata": {
            "tags": null
          },
          "name": "stdout",
          "output_type": "stream",
          "text": [
            "*** DEBUG: Completed batch 60/100 ***\n"
          ]
        },
        {
          "metadata": {
            "tags": null
          },
          "name": "stderr",
          "output_type": "stream",
          "text": [
            "Epoch 38/50 [Train]:  71%|███████   | 71/100 [00:20<00:04,  6.04it/s, Loss=3.3539]"
          ]
        },
        {
          "metadata": {
            "tags": null
          },
          "name": "stdout",
          "output_type": "stream",
          "text": [
            "*** DEBUG: Completed batch 70/100 ***\n"
          ]
        },
        {
          "metadata": {
            "tags": null
          },
          "name": "stderr",
          "output_type": "stream",
          "text": [
            "Epoch 38/50 [Train]:  81%|████████  | 81/100 [00:23<00:05,  3.34it/s, Loss=3.1069]"
          ]
        },
        {
          "metadata": {
            "tags": null
          },
          "name": "stdout",
          "output_type": "stream",
          "text": [
            "*** DEBUG: Completed batch 80/100 ***\n"
          ]
        },
        {
          "metadata": {
            "tags": null
          },
          "name": "stderr",
          "output_type": "stream",
          "text": [
            "Epoch 38/50 [Train]:  95%|█████████▌| 95/100 [00:25<00:00,  6.45it/s, Loss=2.8177]"
          ]
        },
        {
          "metadata": {
            "tags": null
          },
          "name": "stdout",
          "output_type": "stream",
          "text": [
            "*** DEBUG: Completed batch 90/100 ***\n"
          ]
        },
        {
          "metadata": {
            "tags": null
          },
          "name": "stderr",
          "output_type": "stream",
          "text": [
            "Epoch 38/50 [Train]: 100%|██████████| 100/100 [00:26<00:00,  3.81it/s, Loss=2.8572]\n"
          ]
        },
        {
          "metadata": {
            "tags": null
          },
          "name": "stdout",
          "output_type": "stream",
          "text": [
            "*** DEBUG: Training epoch 38 complete, starting validation ***\n"
          ]
        },
        {
          "metadata": {
            "tags": null
          },
          "name": "stderr",
          "output_type": "stream",
          "text": [
            "Epoch 38/50 [Val]: 100%|██████████| 25/25 [00:05<00:00,  4.20it/s, Loss=3.1689]\n"
          ]
        },
        {
          "metadata": {
            "tags": null
          },
          "name": "stdout",
          "output_type": "stream",
          "text": [
            "Epoch 38/50:\n",
            "  Train MAPE: 3.0467%\n",
            "  Val MAPE: 3.2472%\n",
            "  LR: 0.000001\n",
            "--------------------------------------------------\n"
          ]
        },
        {
          "metadata": {
            "tags": null
          },
          "name": "stderr",
          "output_type": "stream",
          "text": [
            "Epoch 39/50 [Train]:   4%|▍         | 4/100 [00:02<00:41,  2.29it/s, Loss=3.2386]"
          ]
        },
        {
          "metadata": {
            "tags": null
          },
          "name": "stdout",
          "output_type": "stream",
          "text": [
            "*** DEBUG Batch 0: Input shape: torch.Size([16, 5, 32, 313]), Target shape: torch.Size([16, 300, 1259]) ***\n",
            "*** DEBUG: GPU memory before forward: 0.86GB ***\n",
            "*** DEBUG: Starting forward pass for batch 0 ***\n",
            "*** DEBUG: Forward pass complete, output shape: torch.Size([16, 1, 300, 1259]) ***\n",
            "*** DEBUG: Starting loss calculation ***\n",
            "*** DEBUG: Loss calculated: 3.1827, starting backward ***\n",
            "*** DEBUG: Backward complete, running optimizer step ***\n",
            "*** DEBUG: Batch 0 complete ***\n",
            "*** DEBUG: GPU memory after batch: 0.89GB ***\n",
            "*** DEBUG: Completed batch 0/100 ***\n",
            "*** DEBUG Batch 1: Input shape: torch.Size([16, 5, 32, 313]), Target shape: torch.Size([16, 300, 1259]) ***\n",
            "*** DEBUG: GPU memory before forward: 0.86GB ***\n",
            "*** DEBUG: Starting forward pass for batch 1 ***\n",
            "*** DEBUG: Forward pass complete, output shape: torch.Size([16, 1, 300, 1259]) ***\n",
            "*** DEBUG: Starting loss calculation ***\n",
            "*** DEBUG: Loss calculated: 3.1018, starting backward ***\n",
            "*** DEBUG: Backward complete, running optimizer step ***\n",
            "*** DEBUG: Batch 1 complete ***\n",
            "*** DEBUG: GPU memory after batch: 0.89GB ***\n",
            "*** DEBUG Batch 2: Input shape: torch.Size([16, 5, 32, 313]), Target shape: torch.Size([16, 300, 1259]) ***\n",
            "*** DEBUG: GPU memory before forward: 0.86GB ***\n",
            "*** DEBUG: Starting forward pass for batch 2 ***\n",
            "*** DEBUG: Forward pass complete, output shape: torch.Size([16, 1, 300, 1259]) ***\n",
            "*** DEBUG: Starting loss calculation ***\n",
            "*** DEBUG: Loss calculated: 2.7765, starting backward ***\n",
            "*** DEBUG: Backward complete, running optimizer step ***\n",
            "*** DEBUG: Batch 2 complete ***\n",
            "*** DEBUG: GPU memory after batch: 0.89GB ***\n"
          ]
        },
        {
          "metadata": {
            "tags": null
          },
          "name": "stderr",
          "output_type": "stream",
          "text": [
            "Epoch 39/50 [Train]:  15%|█▌        | 15/100 [00:04<00:17,  4.86it/s, Loss=2.9827]"
          ]
        },
        {
          "metadata": {
            "tags": null
          },
          "name": "stdout",
          "output_type": "stream",
          "text": [
            "*** DEBUG: Completed batch 10/100 ***\n"
          ]
        },
        {
          "metadata": {
            "tags": null
          },
          "name": "stderr",
          "output_type": "stream",
          "text": [
            "Epoch 39/50 [Train]:  22%|██▏       | 22/100 [00:06<00:16,  4.80it/s, Loss=3.1361]"
          ]
        },
        {
          "metadata": {
            "tags": null
          },
          "name": "stdout",
          "output_type": "stream",
          "text": [
            "*** DEBUG: Completed batch 20/100 ***\n"
          ]
        },
        {
          "metadata": {
            "tags": null
          },
          "name": "stderr",
          "output_type": "stream",
          "text": [
            "Epoch 39/50 [Train]:  29%|██▉       | 29/100 [00:07<00:15,  4.70it/s, Loss=2.8557]"
          ]
        },
        {
          "metadata": {
            "tags": null
          },
          "name": "stdout",
          "output_type": "stream",
          "text": [
            "*** DEBUG: Completed batch 30/100 ***\n"
          ]
        },
        {
          "metadata": {
            "tags": null
          },
          "name": "stderr",
          "output_type": "stream",
          "text": [
            "Epoch 39/50 [Train]:  45%|████▌     | 45/100 [00:11<00:10,  5.03it/s, Loss=2.9598]"
          ]
        },
        {
          "metadata": {
            "tags": null
          },
          "name": "stdout",
          "output_type": "stream",
          "text": [
            "*** DEBUG: Completed batch 40/100 ***\n"
          ]
        },
        {
          "metadata": {
            "tags": null
          },
          "name": "stderr",
          "output_type": "stream",
          "text": [
            "Epoch 39/50 [Train]:  56%|█████▌    | 56/100 [00:13<00:06,  6.43it/s, Loss=3.3492]"
          ]
        },
        {
          "metadata": {
            "tags": null
          },
          "name": "stdout",
          "output_type": "stream",
          "text": [
            "*** DEBUG: Completed batch 50/100 ***\n"
          ]
        },
        {
          "metadata": {
            "tags": null
          },
          "name": "stderr",
          "output_type": "stream",
          "text": [
            "Epoch 39/50 [Train]:  63%|██████▎   | 63/100 [00:15<00:06,  5.38it/s, Loss=3.2564]"
          ]
        },
        {
          "metadata": {
            "tags": null
          },
          "name": "stdout",
          "output_type": "stream",
          "text": [
            "*** DEBUG: Completed batch 60/100 ***\n"
          ]
        },
        {
          "metadata": {
            "tags": null
          },
          "name": "stderr",
          "output_type": "stream",
          "text": [
            "Epoch 39/50 [Train]:  70%|███████   | 70/100 [00:17<00:06,  4.84it/s, Loss=3.3717]"
          ]
        },
        {
          "metadata": {
            "tags": null
          },
          "name": "stdout",
          "output_type": "stream",
          "text": [
            "*** DEBUG: Completed batch 70/100 ***\n"
          ]
        },
        {
          "metadata": {
            "tags": null
          },
          "name": "stderr",
          "output_type": "stream",
          "text": [
            "Epoch 39/50 [Train]:  85%|████████▌ | 85/100 [00:20<00:02,  5.08it/s, Loss=3.0496]"
          ]
        },
        {
          "metadata": {
            "tags": null
          },
          "name": "stdout",
          "output_type": "stream",
          "text": [
            "*** DEBUG: Completed batch 80/100 ***\n"
          ]
        },
        {
          "metadata": {
            "tags": null
          },
          "name": "stderr",
          "output_type": "stream",
          "text": [
            "Epoch 39/50 [Train]:  93%|█████████▎| 93/100 [00:22<00:01,  5.14it/s, Loss=3.0046]"
          ]
        },
        {
          "metadata": {
            "tags": null
          },
          "name": "stdout",
          "output_type": "stream",
          "text": [
            "*** DEBUG: Completed batch 90/100 ***\n"
          ]
        },
        {
          "metadata": {
            "tags": null
          },
          "name": "stderr",
          "output_type": "stream",
          "text": [
            "Epoch 39/50 [Train]: 100%|██████████| 100/100 [00:23<00:00,  4.27it/s, Loss=3.3152]\n"
          ]
        },
        {
          "metadata": {
            "tags": null
          },
          "name": "stdout",
          "output_type": "stream",
          "text": [
            "*** DEBUG: Training epoch 39 complete, starting validation ***\n"
          ]
        },
        {
          "metadata": {
            "tags": null
          },
          "name": "stderr",
          "output_type": "stream",
          "text": [
            "Epoch 39/50 [Val]: 100%|██████████| 25/25 [00:06<00:00,  4.05it/s, Loss=3.0158]\n"
          ]
        },
        {
          "metadata": {
            "tags": null
          },
          "name": "stdout",
          "output_type": "stream",
          "text": [
            "Epoch 39/50:\n",
            "  Train MAPE: 3.0671%\n",
            "  Val MAPE: 3.1287%\n",
            "  LR: 0.000001\n",
            "--------------------------------------------------\n"
          ]
        },
        {
          "metadata": {
            "tags": null
          },
          "name": "stderr",
          "output_type": "stream",
          "text": [
            "Epoch 40/50 [Train]:   4%|▍         | 4/100 [00:02<00:39,  2.43it/s, Loss=3.1106]"
          ]
        },
        {
          "metadata": {
            "tags": null
          },
          "name": "stdout",
          "output_type": "stream",
          "text": [
            "*** DEBUG Batch 0: Input shape: torch.Size([16, 5, 32, 313]), Target shape: torch.Size([16, 300, 1259]) ***\n",
            "*** DEBUG: GPU memory before forward: 0.86GB ***\n",
            "*** DEBUG: Starting forward pass for batch 0 ***\n",
            "*** DEBUG: Forward pass complete, output shape: torch.Size([16, 1, 300, 1259]) ***\n",
            "*** DEBUG: Starting loss calculation ***\n",
            "*** DEBUG: Loss calculated: 2.8775, starting backward ***\n",
            "*** DEBUG: Backward complete, running optimizer step ***\n",
            "*** DEBUG: Batch 0 complete ***\n",
            "*** DEBUG: GPU memory after batch: 0.89GB ***\n",
            "*** DEBUG: Completed batch 0/100 ***\n",
            "*** DEBUG Batch 1: Input shape: torch.Size([16, 5, 32, 313]), Target shape: torch.Size([16, 300, 1259]) ***\n",
            "*** DEBUG: GPU memory before forward: 0.86GB ***\n",
            "*** DEBUG: Starting forward pass for batch 1 ***\n",
            "*** DEBUG: Forward pass complete, output shape: torch.Size([16, 1, 300, 1259]) ***\n",
            "*** DEBUG: Starting loss calculation ***\n",
            "*** DEBUG: Loss calculated: 3.5092, starting backward ***\n",
            "*** DEBUG: Backward complete, running optimizer step ***\n",
            "*** DEBUG: Batch 1 complete ***\n",
            "*** DEBUG: GPU memory after batch: 0.89GB ***\n",
            "*** DEBUG Batch 2: Input shape: torch.Size([16, 5, 32, 313]), Target shape: torch.Size([16, 300, 1259]) ***\n",
            "*** DEBUG: GPU memory before forward: 0.86GB ***\n",
            "*** DEBUG: Starting forward pass for batch 2 ***\n",
            "*** DEBUG: Forward pass complete, output shape: torch.Size([16, 1, 300, 1259]) ***\n",
            "*** DEBUG: Starting loss calculation ***\n",
            "*** DEBUG: Loss calculated: 3.2050, starting backward ***\n",
            "*** DEBUG: Backward complete, running optimizer step ***\n",
            "*** DEBUG: Batch 2 complete ***\n",
            "*** DEBUG: GPU memory after batch: 0.89GB ***\n"
          ]
        },
        {
          "metadata": {
            "tags": null
          },
          "name": "stderr",
          "output_type": "stream",
          "text": [
            "Epoch 40/50 [Train]:  15%|█▌        | 15/100 [00:04<00:17,  4.93it/s, Loss=3.2019]"
          ]
        },
        {
          "metadata": {
            "tags": null
          },
          "name": "stdout",
          "output_type": "stream",
          "text": [
            "*** DEBUG: Completed batch 10/100 ***\n"
          ]
        },
        {
          "metadata": {
            "tags": null
          },
          "name": "stderr",
          "output_type": "stream",
          "text": [
            "Epoch 40/50 [Train]:  22%|██▏       | 22/100 [00:05<00:16,  4.78it/s, Loss=3.2099]"
          ]
        },
        {
          "metadata": {
            "tags": null
          },
          "name": "stdout",
          "output_type": "stream",
          "text": [
            "*** DEBUG: Completed batch 20/100 ***\n"
          ]
        },
        {
          "metadata": {
            "tags": null
          },
          "name": "stderr",
          "output_type": "stream",
          "text": [
            "Epoch 40/50 [Train]:  29%|██▉       | 29/100 [00:07<00:15,  4.70it/s, Loss=2.9027]"
          ]
        },
        {
          "metadata": {
            "tags": null
          },
          "name": "stdout",
          "output_type": "stream",
          "text": [
            "*** DEBUG: Completed batch 30/100 ***\n"
          ]
        },
        {
          "metadata": {
            "tags": null
          },
          "name": "stderr",
          "output_type": "stream",
          "text": [
            "Epoch 40/50 [Train]:  44%|████▍     | 44/100 [00:11<00:12,  4.62it/s, Loss=3.0663]"
          ]
        },
        {
          "metadata": {
            "tags": null
          },
          "name": "stdout",
          "output_type": "stream",
          "text": [
            "*** DEBUG: Completed batch 40/100 ***\n"
          ]
        },
        {
          "metadata": {
            "tags": null
          },
          "name": "stderr",
          "output_type": "stream",
          "text": [
            "Epoch 40/50 [Train]:  55%|█████▌    | 55/100 [00:13<00:08,  5.54it/s, Loss=2.8451]"
          ]
        },
        {
          "metadata": {
            "tags": null
          },
          "name": "stdout",
          "output_type": "stream",
          "text": [
            "*** DEBUG: Completed batch 50/100 ***\n"
          ]
        },
        {
          "metadata": {
            "tags": null
          },
          "name": "stderr",
          "output_type": "stream",
          "text": [
            "Epoch 40/50 [Train]:  62%|██████▏   | 62/100 [00:15<00:07,  5.13it/s, Loss=3.1006]"
          ]
        },
        {
          "metadata": {
            "tags": null
          },
          "name": "stdout",
          "output_type": "stream",
          "text": [
            "*** DEBUG: Completed batch 60/100 ***\n"
          ]
        },
        {
          "metadata": {
            "tags": null
          },
          "name": "stderr",
          "output_type": "stream",
          "text": [
            "Epoch 40/50 [Train]:  69%|██████▉   | 69/100 [00:16<00:06,  4.80it/s, Loss=3.0681]"
          ]
        },
        {
          "metadata": {
            "tags": null
          },
          "name": "stdout",
          "output_type": "stream",
          "text": [
            "*** DEBUG: Completed batch 70/100 ***\n"
          ]
        },
        {
          "metadata": {
            "tags": null
          },
          "name": "stderr",
          "output_type": "stream",
          "text": [
            "Epoch 40/50 [Train]:  85%|████████▌ | 85/100 [00:20<00:02,  5.15it/s, Loss=3.4472]"
          ]
        },
        {
          "metadata": {
            "tags": null
          },
          "name": "stdout",
          "output_type": "stream",
          "text": [
            "*** DEBUG: Completed batch 80/100 ***\n"
          ]
        },
        {
          "metadata": {
            "tags": null
          },
          "name": "stderr",
          "output_type": "stream",
          "text": [
            "Epoch 40/50 [Train]:  93%|█████████▎| 93/100 [00:22<00:01,  5.27it/s, Loss=2.8577]"
          ]
        },
        {
          "metadata": {
            "tags": null
          },
          "name": "stdout",
          "output_type": "stream",
          "text": [
            "*** DEBUG: Completed batch 90/100 ***\n"
          ]
        },
        {
          "metadata": {
            "tags": null
          },
          "name": "stderr",
          "output_type": "stream",
          "text": [
            "Epoch 40/50 [Train]: 100%|██████████| 100/100 [00:23<00:00,  4.31it/s, Loss=2.9329]\n"
          ]
        },
        {
          "metadata": {
            "tags": null
          },
          "name": "stdout",
          "output_type": "stream",
          "text": [
            "*** DEBUG: Training epoch 40 complete, starting validation ***\n"
          ]
        },
        {
          "metadata": {
            "tags": null
          },
          "name": "stderr",
          "output_type": "stream",
          "text": [
            "Epoch 40/50 [Val]: 100%|██████████| 25/25 [00:05<00:00,  4.17it/s, Loss=2.9757]\n"
          ]
        },
        {
          "metadata": {
            "tags": null
          },
          "name": "stdout",
          "output_type": "stream",
          "text": [
            "Epoch 40/50:\n",
            "  Train MAPE: 3.0505%\n",
            "  Val MAPE: 3.0907%\n",
            "  LR: 0.000001\n",
            "--------------------------------------------------\n"
          ]
        },
        {
          "metadata": {
            "tags": null
          },
          "name": "stderr",
          "output_type": "stream",
          "text": [
            "Epoch 41/50 [Train]:   4%|▍         | 4/100 [00:02<00:41,  2.30it/s, Loss=3.0003]"
          ]
        },
        {
          "metadata": {
            "tags": null
          },
          "name": "stdout",
          "output_type": "stream",
          "text": [
            "*** DEBUG Batch 0: Input shape: torch.Size([16, 5, 32, 313]), Target shape: torch.Size([16, 300, 1259]) ***\n",
            "*** DEBUG: GPU memory before forward: 0.86GB ***\n",
            "*** DEBUG: Starting forward pass for batch 0 ***\n",
            "*** DEBUG: Forward pass complete, output shape: torch.Size([16, 1, 300, 1259]) ***\n",
            "*** DEBUG: Starting loss calculation ***\n",
            "*** DEBUG: Loss calculated: 3.1854, starting backward ***\n",
            "*** DEBUG: Backward complete, running optimizer step ***\n",
            "*** DEBUG: Batch 0 complete ***\n",
            "*** DEBUG: GPU memory after batch: 0.89GB ***\n",
            "*** DEBUG: Completed batch 0/100 ***\n",
            "*** DEBUG Batch 1: Input shape: torch.Size([16, 5, 32, 313]), Target shape: torch.Size([16, 300, 1259]) ***\n",
            "*** DEBUG: GPU memory before forward: 0.86GB ***\n",
            "*** DEBUG: Starting forward pass for batch 1 ***\n",
            "*** DEBUG: Forward pass complete, output shape: torch.Size([16, 1, 300, 1259]) ***\n",
            "*** DEBUG: Starting loss calculation ***\n",
            "*** DEBUG: Loss calculated: 2.8527, starting backward ***\n",
            "*** DEBUG: Backward complete, running optimizer step ***\n",
            "*** DEBUG: Batch 1 complete ***\n",
            "*** DEBUG: GPU memory after batch: 0.89GB ***\n",
            "*** DEBUG Batch 2: Input shape: torch.Size([16, 5, 32, 313]), Target shape: torch.Size([16, 300, 1259]) ***\n",
            "*** DEBUG: GPU memory before forward: 0.86GB ***\n",
            "*** DEBUG: Starting forward pass for batch 2 ***\n",
            "*** DEBUG: Forward pass complete, output shape: torch.Size([16, 1, 300, 1259]) ***\n",
            "*** DEBUG: Starting loss calculation ***\n",
            "*** DEBUG: Loss calculated: 3.2058, starting backward ***\n",
            "*** DEBUG: Backward complete, running optimizer step ***\n",
            "*** DEBUG: Batch 2 complete ***\n",
            "*** DEBUG: GPU memory after batch: 0.89GB ***\n"
          ]
        },
        {
          "metadata": {
            "tags": null
          },
          "name": "stderr",
          "output_type": "stream",
          "text": [
            "Epoch 41/50 [Train]:  15%|█▌        | 15/100 [00:04<00:17,  4.93it/s, Loss=3.1322]"
          ]
        },
        {
          "metadata": {
            "tags": null
          },
          "name": "stdout",
          "output_type": "stream",
          "text": [
            "*** DEBUG: Completed batch 10/100 ***\n"
          ]
        },
        {
          "metadata": {
            "tags": null
          },
          "name": "stderr",
          "output_type": "stream",
          "text": [
            "Epoch 41/50 [Train]:  21%|██        | 21/100 [00:06<00:18,  4.16it/s, Loss=3.0221]"
          ]
        },
        {
          "metadata": {
            "tags": null
          },
          "name": "stdout",
          "output_type": "stream",
          "text": [
            "*** DEBUG: Completed batch 20/100 ***\n"
          ]
        },
        {
          "metadata": {
            "tags": null
          },
          "name": "stderr",
          "output_type": "stream",
          "text": [
            "Epoch 41/50 [Train]:  31%|███       | 31/100 [00:08<00:12,  5.51it/s, Loss=4.1827]"
          ]
        },
        {
          "metadata": {
            "tags": null
          },
          "name": "stdout",
          "output_type": "stream",
          "text": [
            "*** DEBUG: Completed batch 30/100 ***\n"
          ]
        },
        {
          "metadata": {
            "tags": null
          },
          "name": "stderr",
          "output_type": "stream",
          "text": [
            "Epoch 41/50 [Train]:  45%|████▌     | 45/100 [00:11<00:11,  4.81it/s, Loss=3.1514]"
          ]
        },
        {
          "metadata": {
            "tags": null
          },
          "name": "stdout",
          "output_type": "stream",
          "text": [
            "*** DEBUG: Completed batch 40/100 ***\n"
          ]
        },
        {
          "metadata": {
            "tags": null
          },
          "name": "stderr",
          "output_type": "stream",
          "text": [
            "Epoch 41/50 [Train]:  53%|█████▎    | 53/100 [00:13<00:09,  4.90it/s, Loss=3.0127]"
          ]
        },
        {
          "metadata": {
            "tags": null
          },
          "name": "stdout",
          "output_type": "stream",
          "text": [
            "*** DEBUG: Completed batch 50/100 ***\n"
          ]
        },
        {
          "metadata": {
            "tags": null
          },
          "name": "stderr",
          "output_type": "stream",
          "text": [
            "Epoch 41/50 [Train]:  61%|██████    | 61/100 [00:15<00:07,  5.08it/s, Loss=2.7823]"
          ]
        },
        {
          "metadata": {
            "tags": null
          },
          "name": "stdout",
          "output_type": "stream",
          "text": [
            "*** DEBUG: Completed batch 60/100 ***\n"
          ]
        },
        {
          "metadata": {
            "tags": null
          },
          "name": "stderr",
          "output_type": "stream",
          "text": [
            "Epoch 41/50 [Train]:  69%|██████▉   | 69/100 [00:17<00:06,  5.16it/s, Loss=2.9719]"
          ]
        },
        {
          "metadata": {
            "tags": null
          },
          "name": "stdout",
          "output_type": "stream",
          "text": [
            "*** DEBUG: Completed batch 70/100 ***\n"
          ]
        },
        {
          "metadata": {
            "tags": null
          },
          "name": "stderr",
          "output_type": "stream",
          "text": [
            "Epoch 41/50 [Train]:  85%|████████▌ | 85/100 [00:21<00:02,  5.04it/s, Loss=2.9605]"
          ]
        },
        {
          "metadata": {
            "tags": null
          },
          "name": "stdout",
          "output_type": "stream",
          "text": [
            "*** DEBUG: Completed batch 80/100 ***\n"
          ]
        },
        {
          "metadata": {
            "tags": null
          },
          "name": "stderr",
          "output_type": "stream",
          "text": [
            "Epoch 41/50 [Train]:  93%|█████████▎| 93/100 [00:23<00:01,  5.02it/s, Loss=3.0234]"
          ]
        },
        {
          "metadata": {
            "tags": null
          },
          "name": "stdout",
          "output_type": "stream",
          "text": [
            "*** DEBUG: Completed batch 90/100 ***\n"
          ]
        },
        {
          "metadata": {
            "tags": null
          },
          "name": "stderr",
          "output_type": "stream",
          "text": [
            "Epoch 41/50 [Train]: 100%|██████████| 100/100 [00:23<00:00,  4.20it/s, Loss=3.1134]\n"
          ]
        },
        {
          "metadata": {
            "tags": null
          },
          "name": "stdout",
          "output_type": "stream",
          "text": [
            "*** DEBUG: Training epoch 41 complete, starting validation ***\n"
          ]
        },
        {
          "metadata": {
            "tags": null
          },
          "name": "stderr",
          "output_type": "stream",
          "text": [
            "Epoch 41/50 [Val]: 100%|██████████| 25/25 [00:06<00:00,  4.13it/s, Loss=2.9967]\n"
          ]
        },
        {
          "metadata": {
            "tags": null
          },
          "name": "stdout",
          "output_type": "stream",
          "text": [
            "Epoch 41/50:\n",
            "  Train MAPE: 3.0805%\n",
            "  Val MAPE: 3.1140%\n",
            "  LR: 0.000001\n",
            "--------------------------------------------------\n"
          ]
        },
        {
          "metadata": {
            "tags": null
          },
          "name": "stderr",
          "output_type": "stream",
          "text": [
            "Epoch 42/50 [Train]:   4%|▍         | 4/100 [00:02<00:42,  2.27it/s, Loss=2.9961]"
          ]
        },
        {
          "metadata": {
            "tags": null
          },
          "name": "stdout",
          "output_type": "stream",
          "text": [
            "*** DEBUG Batch 0: Input shape: torch.Size([16, 5, 32, 313]), Target shape: torch.Size([16, 300, 1259]) ***\n",
            "*** DEBUG: GPU memory before forward: 0.86GB ***\n",
            "*** DEBUG: Starting forward pass for batch 0 ***\n",
            "*** DEBUG: Forward pass complete, output shape: torch.Size([16, 1, 300, 1259]) ***\n",
            "*** DEBUG: Starting loss calculation ***\n",
            "*** DEBUG: Loss calculated: 3.0742, starting backward ***\n",
            "*** DEBUG: Backward complete, running optimizer step ***\n",
            "*** DEBUG: Batch 0 complete ***\n",
            "*** DEBUG: GPU memory after batch: 0.89GB ***\n",
            "*** DEBUG: Completed batch 0/100 ***\n",
            "*** DEBUG Batch 1: Input shape: torch.Size([16, 5, 32, 313]), Target shape: torch.Size([16, 300, 1259]) ***\n",
            "*** DEBUG: GPU memory before forward: 0.86GB ***\n",
            "*** DEBUG: Starting forward pass for batch 1 ***\n",
            "*** DEBUG: Forward pass complete, output shape: torch.Size([16, 1, 300, 1259]) ***\n",
            "*** DEBUG: Starting loss calculation ***\n",
            "*** DEBUG: Loss calculated: 3.0423, starting backward ***\n",
            "*** DEBUG: Backward complete, running optimizer step ***\n",
            "*** DEBUG: Batch 1 complete ***\n",
            "*** DEBUG: GPU memory after batch: 0.89GB ***\n",
            "*** DEBUG Batch 2: Input shape: torch.Size([16, 5, 32, 313]), Target shape: torch.Size([16, 300, 1259]) ***\n",
            "*** DEBUG: GPU memory before forward: 0.86GB ***\n",
            "*** DEBUG: Starting forward pass for batch 2 ***\n",
            "*** DEBUG: Forward pass complete, output shape: torch.Size([16, 1, 300, 1259]) ***\n",
            "*** DEBUG: Starting loss calculation ***\n",
            "*** DEBUG: Loss calculated: 3.0434, starting backward ***\n",
            "*** DEBUG: Backward complete, running optimizer step ***\n",
            "*** DEBUG: Batch 2 complete ***\n",
            "*** DEBUG: GPU memory after batch: 0.89GB ***\n"
          ]
        },
        {
          "metadata": {
            "tags": null
          },
          "name": "stderr",
          "output_type": "stream",
          "text": [
            "Epoch 42/50 [Train]:  14%|█▍        | 14/100 [00:04<00:19,  4.47it/s, Loss=3.0837]"
          ]
        },
        {
          "metadata": {
            "tags": null
          },
          "name": "stdout",
          "output_type": "stream",
          "text": [
            "*** DEBUG: Completed batch 10/100 ***\n"
          ]
        },
        {
          "metadata": {
            "tags": null
          },
          "name": "stderr",
          "output_type": "stream",
          "text": [
            "Epoch 42/50 [Train]:  21%|██        | 21/100 [00:06<00:17,  4.56it/s, Loss=3.1181]"
          ]
        },
        {
          "metadata": {
            "tags": null
          },
          "name": "stdout",
          "output_type": "stream",
          "text": [
            "*** DEBUG: Completed batch 20/100 ***\n"
          ]
        },
        {
          "metadata": {
            "tags": null
          },
          "name": "stderr",
          "output_type": "stream",
          "text": [
            "Epoch 42/50 [Train]:  29%|██▉       | 29/100 [00:08<00:14,  4.91it/s, Loss=3.0957]"
          ]
        },
        {
          "metadata": {
            "tags": null
          },
          "name": "stdout",
          "output_type": "stream",
          "text": [
            "*** DEBUG: Completed batch 30/100 ***\n"
          ]
        },
        {
          "metadata": {
            "tags": null
          },
          "name": "stderr",
          "output_type": "stream",
          "text": [
            "Epoch 42/50 [Train]:  44%|████▍     | 44/100 [00:11<00:12,  4.62it/s, Loss=2.9916]"
          ]
        },
        {
          "metadata": {
            "tags": null
          },
          "name": "stdout",
          "output_type": "stream",
          "text": [
            "*** DEBUG: Completed batch 40/100 ***\n"
          ]
        },
        {
          "metadata": {
            "tags": null
          },
          "name": "stderr",
          "output_type": "stream",
          "text": [
            "Epoch 42/50 [Train]:  54%|█████▍    | 54/100 [00:13<00:08,  5.17it/s, Loss=3.2337]"
          ]
        },
        {
          "metadata": {
            "tags": null
          },
          "name": "stdout",
          "output_type": "stream",
          "text": [
            "*** DEBUG: Completed batch 50/100 ***\n"
          ]
        },
        {
          "metadata": {
            "tags": null
          },
          "name": "stderr",
          "output_type": "stream",
          "text": [
            "Epoch 42/50 [Train]:  61%|██████    | 61/100 [00:15<00:08,  4.85it/s, Loss=2.8857]"
          ]
        },
        {
          "metadata": {
            "tags": null
          },
          "name": "stdout",
          "output_type": "stream",
          "text": [
            "*** DEBUG: Completed batch 60/100 ***\n"
          ]
        },
        {
          "metadata": {
            "tags": null
          },
          "name": "stderr",
          "output_type": "stream",
          "text": [
            "Epoch 42/50 [Train]:  69%|██████▉   | 69/100 [00:17<00:06,  5.10it/s, Loss=3.5542]"
          ]
        },
        {
          "metadata": {
            "tags": null
          },
          "name": "stdout",
          "output_type": "stream",
          "text": [
            "*** DEBUG: Completed batch 70/100 ***\n"
          ]
        },
        {
          "metadata": {
            "tags": null
          },
          "name": "stderr",
          "output_type": "stream",
          "text": [
            "Epoch 42/50 [Train]:  85%|████████▌ | 85/100 [00:20<00:02,  5.17it/s, Loss=3.2986]"
          ]
        },
        {
          "metadata": {
            "tags": null
          },
          "name": "stdout",
          "output_type": "stream",
          "text": [
            "*** DEBUG: Completed batch 80/100 ***\n"
          ]
        },
        {
          "metadata": {
            "tags": null
          },
          "name": "stderr",
          "output_type": "stream",
          "text": [
            "Epoch 42/50 [Train]:  93%|█████████▎| 93/100 [00:22<00:01,  5.29it/s, Loss=3.3916]"
          ]
        },
        {
          "metadata": {
            "tags": null
          },
          "name": "stdout",
          "output_type": "stream",
          "text": [
            "*** DEBUG: Completed batch 90/100 ***\n"
          ]
        },
        {
          "metadata": {
            "tags": null
          },
          "name": "stderr",
          "output_type": "stream",
          "text": [
            "Epoch 42/50 [Train]: 100%|██████████| 100/100 [00:23<00:00,  4.26it/s, Loss=2.9740]\n"
          ]
        },
        {
          "metadata": {
            "tags": null
          },
          "name": "stdout",
          "output_type": "stream",
          "text": [
            "*** DEBUG: Training epoch 42 complete, starting validation ***\n"
          ]
        },
        {
          "metadata": {
            "tags": null
          },
          "name": "stderr",
          "output_type": "stream",
          "text": [
            "Epoch 42/50 [Val]: 100%|██████████| 25/25 [00:06<00:00,  4.07it/s, Loss=3.2857]\n"
          ]
        },
        {
          "metadata": {
            "tags": null
          },
          "name": "stdout",
          "output_type": "stream",
          "text": [
            "Epoch 42/50:\n",
            "  Train MAPE: 3.0890%\n",
            "  Val MAPE: 3.3679%\n",
            "  LR: 0.000001\n",
            "--------------------------------------------------\n"
          ]
        },
        {
          "metadata": {
            "tags": null
          },
          "name": "stderr",
          "output_type": "stream",
          "text": [
            "Epoch 43/50 [Train]:   4%|▍         | 4/100 [00:02<00:40,  2.35it/s, Loss=3.2363]"
          ]
        },
        {
          "metadata": {
            "tags": null
          },
          "name": "stdout",
          "output_type": "stream",
          "text": [
            "*** DEBUG Batch 0: Input shape: torch.Size([16, 5, 32, 313]), Target shape: torch.Size([16, 300, 1259]) ***\n",
            "*** DEBUG: GPU memory before forward: 0.86GB ***\n",
            "*** DEBUG: Starting forward pass for batch 0 ***\n",
            "*** DEBUG: Forward pass complete, output shape: torch.Size([16, 1, 300, 1259]) ***\n",
            "*** DEBUG: Starting loss calculation ***\n",
            "*** DEBUG: Loss calculated: 3.0955, starting backward ***\n",
            "*** DEBUG: Backward complete, running optimizer step ***\n",
            "*** DEBUG: Batch 0 complete ***\n",
            "*** DEBUG: GPU memory after batch: 0.89GB ***\n",
            "*** DEBUG: Completed batch 0/100 ***\n",
            "*** DEBUG Batch 1: Input shape: torch.Size([16, 5, 32, 313]), Target shape: torch.Size([16, 300, 1259]) ***\n",
            "*** DEBUG: GPU memory before forward: 0.86GB ***\n",
            "*** DEBUG: Starting forward pass for batch 1 ***\n",
            "*** DEBUG: Forward pass complete, output shape: torch.Size([16, 1, 300, 1259]) ***\n",
            "*** DEBUG: Starting loss calculation ***\n",
            "*** DEBUG: Loss calculated: 2.7041, starting backward ***\n",
            "*** DEBUG: Backward complete, running optimizer step ***\n",
            "*** DEBUG: Batch 1 complete ***\n",
            "*** DEBUG: GPU memory after batch: 0.89GB ***\n",
            "*** DEBUG Batch 2: Input shape: torch.Size([16, 5, 32, 313]), Target shape: torch.Size([16, 300, 1259]) ***\n",
            "*** DEBUG: GPU memory before forward: 0.86GB ***\n",
            "*** DEBUG: Starting forward pass for batch 2 ***\n",
            "*** DEBUG: Forward pass complete, output shape: torch.Size([16, 1, 300, 1259]) ***\n",
            "*** DEBUG: Starting loss calculation ***\n",
            "*** DEBUG: Loss calculated: 3.5042, starting backward ***\n",
            "*** DEBUG: Backward complete, running optimizer step ***\n",
            "*** DEBUG: Batch 2 complete ***\n",
            "*** DEBUG: GPU memory after batch: 0.89GB ***\n"
          ]
        },
        {
          "metadata": {
            "tags": null
          },
          "name": "stderr",
          "output_type": "stream",
          "text": [
            "Epoch 43/50 [Train]:  15%|█▌        | 15/100 [00:04<00:17,  4.82it/s, Loss=3.0691]"
          ]
        },
        {
          "metadata": {
            "tags": null
          },
          "name": "stdout",
          "output_type": "stream",
          "text": [
            "*** DEBUG: Completed batch 10/100 ***\n"
          ]
        },
        {
          "metadata": {
            "tags": null
          },
          "name": "stderr",
          "output_type": "stream",
          "text": [
            "Epoch 43/50 [Train]:  22%|██▏       | 22/100 [00:06<00:16,  4.73it/s, Loss=2.9036]"
          ]
        },
        {
          "metadata": {
            "tags": null
          },
          "name": "stdout",
          "output_type": "stream",
          "text": [
            "*** DEBUG: Completed batch 20/100 ***\n"
          ]
        },
        {
          "metadata": {
            "tags": null
          },
          "name": "stderr",
          "output_type": "stream",
          "text": [
            "Epoch 43/50 [Train]:  31%|███       | 31/100 [00:07<00:12,  5.63it/s, Loss=3.2696]"
          ]
        },
        {
          "metadata": {
            "tags": null
          },
          "name": "stdout",
          "output_type": "stream",
          "text": [
            "*** DEBUG: Completed batch 30/100 ***\n"
          ]
        },
        {
          "metadata": {
            "tags": null
          },
          "name": "stderr",
          "output_type": "stream",
          "text": [
            "Epoch 43/50 [Train]:  41%|████      | 41/100 [00:11<00:15,  3.69it/s, Loss=3.2872]"
          ]
        },
        {
          "metadata": {
            "tags": null
          },
          "name": "stdout",
          "output_type": "stream",
          "text": [
            "*** DEBUG: Completed batch 40/100 ***\n"
          ]
        },
        {
          "metadata": {
            "tags": null
          },
          "name": "stderr",
          "output_type": "stream",
          "text": [
            "Epoch 43/50 [Train]:  55%|█████▌    | 55/100 [00:13<00:07,  5.71it/s, Loss=2.5634]"
          ]
        },
        {
          "metadata": {
            "tags": null
          },
          "name": "stdout",
          "output_type": "stream",
          "text": [
            "*** DEBUG: Completed batch 50/100 ***\n"
          ]
        },
        {
          "metadata": {
            "tags": null
          },
          "name": "stderr",
          "output_type": "stream",
          "text": [
            "Epoch 43/50 [Train]:  63%|██████▎   | 63/100 [00:15<00:06,  5.78it/s, Loss=2.7891]"
          ]
        },
        {
          "metadata": {
            "tags": null
          },
          "name": "stdout",
          "output_type": "stream",
          "text": [
            "*** DEBUG: Completed batch 60/100 ***\n"
          ]
        },
        {
          "metadata": {
            "tags": null
          },
          "name": "stderr",
          "output_type": "stream",
          "text": [
            "Epoch 43/50 [Train]:  71%|███████   | 71/100 [00:17<00:05,  5.64it/s, Loss=2.8158]"
          ]
        },
        {
          "metadata": {
            "tags": null
          },
          "name": "stdout",
          "output_type": "stream",
          "text": [
            "*** DEBUG: Completed batch 70/100 ***\n"
          ]
        },
        {
          "metadata": {
            "tags": null
          },
          "name": "stderr",
          "output_type": "stream",
          "text": [
            "Epoch 43/50 [Train]:  81%|████████  | 81/100 [00:20<00:04,  3.86it/s, Loss=3.2378]"
          ]
        },
        {
          "metadata": {
            "tags": null
          },
          "name": "stdout",
          "output_type": "stream",
          "text": [
            "*** DEBUG: Completed batch 80/100 ***\n"
          ]
        },
        {
          "metadata": {
            "tags": null
          },
          "name": "stderr",
          "output_type": "stream",
          "text": [
            "Epoch 43/50 [Train]:  95%|█████████▌| 95/100 [00:23<00:00,  5.73it/s, Loss=3.1532]"
          ]
        },
        {
          "metadata": {
            "tags": null
          },
          "name": "stdout",
          "output_type": "stream",
          "text": [
            "*** DEBUG: Completed batch 90/100 ***\n"
          ]
        },
        {
          "metadata": {
            "tags": null
          },
          "name": "stderr",
          "output_type": "stream",
          "text": [
            "Epoch 43/50 [Train]: 100%|██████████| 100/100 [00:23<00:00,  4.21it/s, Loss=3.1084]\n"
          ]
        },
        {
          "metadata": {
            "tags": null
          },
          "name": "stdout",
          "output_type": "stream",
          "text": [
            "*** DEBUG: Training epoch 43 complete, starting validation ***\n"
          ]
        },
        {
          "metadata": {
            "tags": null
          },
          "name": "stderr",
          "output_type": "stream",
          "text": [
            "Epoch 43/50 [Val]: 100%|██████████| 25/25 [00:06<00:00,  4.16it/s, Loss=2.9936]\n"
          ]
        },
        {
          "metadata": {
            "tags": null
          },
          "name": "stdout",
          "output_type": "stream",
          "text": [
            "Epoch 43/50:\n",
            "  Train MAPE: 3.0853%\n",
            "  Val MAPE: 3.0972%\n",
            "  LR: 0.000000\n",
            "--------------------------------------------------\n"
          ]
        },
        {
          "metadata": {
            "tags": null
          },
          "name": "stderr",
          "output_type": "stream",
          "text": [
            "Epoch 44/50 [Train]:   4%|▍         | 4/100 [00:02<00:41,  2.34it/s, Loss=3.2291]"
          ]
        },
        {
          "metadata": {
            "tags": null
          },
          "name": "stdout",
          "output_type": "stream",
          "text": [
            "*** DEBUG Batch 0: Input shape: torch.Size([16, 5, 32, 313]), Target shape: torch.Size([16, 300, 1259]) ***\n",
            "*** DEBUG: GPU memory before forward: 0.86GB ***\n",
            "*** DEBUG: Starting forward pass for batch 0 ***\n",
            "*** DEBUG: Forward pass complete, output shape: torch.Size([16, 1, 300, 1259]) ***\n",
            "*** DEBUG: Starting loss calculation ***\n",
            "*** DEBUG: Loss calculated: 3.4236, starting backward ***\n",
            "*** DEBUG: Backward complete, running optimizer step ***\n",
            "*** DEBUG: Batch 0 complete ***\n",
            "*** DEBUG: GPU memory after batch: 0.89GB ***\n",
            "*** DEBUG: Completed batch 0/100 ***\n",
            "*** DEBUG Batch 1: Input shape: torch.Size([16, 5, 32, 313]), Target shape: torch.Size([16, 300, 1259]) ***\n",
            "*** DEBUG: GPU memory before forward: 0.86GB ***\n",
            "*** DEBUG: Starting forward pass for batch 1 ***\n",
            "*** DEBUG: Forward pass complete, output shape: torch.Size([16, 1, 300, 1259]) ***\n",
            "*** DEBUG: Starting loss calculation ***\n",
            "*** DEBUG: Loss calculated: 3.0468, starting backward ***\n",
            "*** DEBUG: Backward complete, running optimizer step ***\n",
            "*** DEBUG: Batch 1 complete ***\n",
            "*** DEBUG: GPU memory after batch: 0.89GB ***\n",
            "*** DEBUG Batch 2: Input shape: torch.Size([16, 5, 32, 313]), Target shape: torch.Size([16, 300, 1259]) ***\n",
            "*** DEBUG: GPU memory before forward: 0.86GB ***\n",
            "*** DEBUG: Starting forward pass for batch 2 ***\n",
            "*** DEBUG: Forward pass complete, output shape: torch.Size([16, 1, 300, 1259]) ***\n",
            "*** DEBUG: Starting loss calculation ***\n",
            "*** DEBUG: Loss calculated: 3.2992, starting backward ***\n",
            "*** DEBUG: Backward complete, running optimizer step ***\n",
            "*** DEBUG: Batch 2 complete ***\n",
            "*** DEBUG: GPU memory after batch: 0.89GB ***\n"
          ]
        },
        {
          "metadata": {
            "tags": null
          },
          "name": "stderr",
          "output_type": "stream",
          "text": [
            "Epoch 44/50 [Train]:  15%|█▌        | 15/100 [00:04<00:17,  4.83it/s, Loss=3.3125]"
          ]
        },
        {
          "metadata": {
            "tags": null
          },
          "name": "stdout",
          "output_type": "stream",
          "text": [
            "*** DEBUG: Completed batch 10/100 ***\n"
          ]
        },
        {
          "metadata": {
            "tags": null
          },
          "name": "stderr",
          "output_type": "stream",
          "text": [
            "Epoch 44/50 [Train]:  22%|██▏       | 22/100 [00:06<00:16,  4.77it/s, Loss=2.8856]"
          ]
        },
        {
          "metadata": {
            "tags": null
          },
          "name": "stdout",
          "output_type": "stream",
          "text": [
            "*** DEBUG: Completed batch 20/100 ***\n"
          ]
        },
        {
          "metadata": {
            "tags": null
          },
          "name": "stderr",
          "output_type": "stream",
          "text": [
            "Epoch 44/50 [Train]:  29%|██▉       | 29/100 [00:07<00:15,  4.62it/s, Loss=2.7668]"
          ]
        },
        {
          "metadata": {
            "tags": null
          },
          "name": "stdout",
          "output_type": "stream",
          "text": [
            "*** DEBUG: Completed batch 30/100 ***\n"
          ]
        },
        {
          "metadata": {
            "tags": null
          },
          "name": "stderr",
          "output_type": "stream",
          "text": [
            "Epoch 44/50 [Train]:  46%|████▌     | 46/100 [00:11<00:10,  5.17it/s, Loss=2.7527]"
          ]
        },
        {
          "metadata": {
            "tags": null
          },
          "name": "stdout",
          "output_type": "stream",
          "text": [
            "*** DEBUG: Completed batch 40/100 ***\n"
          ]
        },
        {
          "metadata": {
            "tags": null
          },
          "name": "stderr",
          "output_type": "stream",
          "text": [
            "Epoch 44/50 [Train]:  53%|█████▎    | 53/100 [00:13<00:09,  4.91it/s, Loss=3.0450]"
          ]
        },
        {
          "metadata": {
            "tags": null
          },
          "name": "stdout",
          "output_type": "stream",
          "text": [
            "*** DEBUG: Completed batch 50/100 ***\n"
          ]
        },
        {
          "metadata": {
            "tags": null
          },
          "name": "stderr",
          "output_type": "stream",
          "text": [
            "Epoch 44/50 [Train]:  61%|██████    | 61/100 [00:15<00:07,  4.99it/s, Loss=2.9071]"
          ]
        },
        {
          "metadata": {
            "tags": null
          },
          "name": "stdout",
          "output_type": "stream",
          "text": [
            "*** DEBUG: Completed batch 60/100 ***\n"
          ]
        },
        {
          "metadata": {
            "tags": null
          },
          "name": "stderr",
          "output_type": "stream",
          "text": [
            "Epoch 44/50 [Train]:  69%|██████▉   | 69/100 [00:17<00:06,  4.98it/s, Loss=3.1486]"
          ]
        },
        {
          "metadata": {
            "tags": null
          },
          "name": "stdout",
          "output_type": "stream",
          "text": [
            "*** DEBUG: Completed batch 70/100 ***\n"
          ]
        },
        {
          "metadata": {
            "tags": null
          },
          "name": "stderr",
          "output_type": "stream",
          "text": [
            "Epoch 44/50 [Train]:  85%|████████▌ | 85/100 [00:20<00:02,  5.11it/s, Loss=2.9591]"
          ]
        },
        {
          "metadata": {
            "tags": null
          },
          "name": "stdout",
          "output_type": "stream",
          "text": [
            "*** DEBUG: Completed batch 80/100 ***\n"
          ]
        },
        {
          "metadata": {
            "tags": null
          },
          "name": "stderr",
          "output_type": "stream",
          "text": [
            "Epoch 44/50 [Train]:  95%|█████████▌| 95/100 [00:22<00:00,  5.55it/s, Loss=2.8726]"
          ]
        },
        {
          "metadata": {
            "tags": null
          },
          "name": "stdout",
          "output_type": "stream",
          "text": [
            "*** DEBUG: Completed batch 90/100 ***\n"
          ]
        },
        {
          "metadata": {
            "tags": null
          },
          "name": "stderr",
          "output_type": "stream",
          "text": [
            "Epoch 44/50 [Train]: 100%|██████████| 100/100 [00:23<00:00,  4.24it/s, Loss=2.8037]\n"
          ]
        },
        {
          "metadata": {
            "tags": null
          },
          "name": "stdout",
          "output_type": "stream",
          "text": [
            "*** DEBUG: Training epoch 44 complete, starting validation ***\n"
          ]
        },
        {
          "metadata": {
            "tags": null
          },
          "name": "stderr",
          "output_type": "stream",
          "text": [
            "Epoch 44/50 [Val]: 100%|██████████| 25/25 [00:06<00:00,  4.06it/s, Loss=2.9759]\n"
          ]
        },
        {
          "metadata": {
            "tags": null
          },
          "name": "stdout",
          "output_type": "stream",
          "text": [
            "Epoch 44/50:\n",
            "  Train MAPE: 3.0204%\n",
            "  Val MAPE: 3.0885%\n",
            "  LR: 0.000000\n",
            "--------------------------------------------------\n",
            "New best model saved: /content/drive/MyDrive/ThinkOnward/Models/best_model_adaptive.pth\n"
          ]
        },
        {
          "metadata": {
            "tags": null
          },
          "name": "stderr",
          "output_type": "stream",
          "text": [
            "Epoch 45/50 [Train]:   4%|▍         | 4/100 [00:02<00:46,  2.08it/s, Loss=2.9357]"
          ]
        },
        {
          "metadata": {
            "tags": null
          },
          "name": "stdout",
          "output_type": "stream",
          "text": [
            "*** DEBUG Batch 0: Input shape: torch.Size([16, 5, 32, 313]), Target shape: torch.Size([16, 300, 1259]) ***\n",
            "*** DEBUG: GPU memory before forward: 0.86GB ***\n",
            "*** DEBUG: Starting forward pass for batch 0 ***\n",
            "*** DEBUG: Forward pass complete, output shape: torch.Size([16, 1, 300, 1259]) ***\n",
            "*** DEBUG: Starting loss calculation ***\n",
            "*** DEBUG: Loss calculated: 2.9987, starting backward ***\n",
            "*** DEBUG: Backward complete, running optimizer step ***\n",
            "*** DEBUG: Batch 0 complete ***\n",
            "*** DEBUG: GPU memory after batch: 0.89GB ***\n",
            "*** DEBUG: Completed batch 0/100 ***\n",
            "*** DEBUG Batch 1: Input shape: torch.Size([16, 5, 32, 313]), Target shape: torch.Size([16, 300, 1259]) ***\n",
            "*** DEBUG: GPU memory before forward: 0.86GB ***\n",
            "*** DEBUG: Starting forward pass for batch 1 ***\n",
            "*** DEBUG: Forward pass complete, output shape: torch.Size([16, 1, 300, 1259]) ***\n",
            "*** DEBUG: Starting loss calculation ***\n",
            "*** DEBUG: Loss calculated: 3.4692, starting backward ***\n",
            "*** DEBUG: Backward complete, running optimizer step ***\n",
            "*** DEBUG: Batch 1 complete ***\n",
            "*** DEBUG: GPU memory after batch: 0.89GB ***\n",
            "*** DEBUG Batch 2: Input shape: torch.Size([16, 5, 32, 313]), Target shape: torch.Size([16, 300, 1259]) ***\n",
            "*** DEBUG: GPU memory before forward: 0.86GB ***\n",
            "*** DEBUG: Starting forward pass for batch 2 ***\n",
            "*** DEBUG: Forward pass complete, output shape: torch.Size([16, 1, 300, 1259]) ***\n",
            "*** DEBUG: Starting loss calculation ***\n",
            "*** DEBUG: Loss calculated: 3.0870, starting backward ***\n",
            "*** DEBUG: Backward complete, running optimizer step ***\n",
            "*** DEBUG: Batch 2 complete ***\n",
            "*** DEBUG: GPU memory after batch: 0.89GB ***\n"
          ]
        },
        {
          "metadata": {
            "tags": null
          },
          "name": "stderr",
          "output_type": "stream",
          "text": [
            "Epoch 45/50 [Train]:  15%|█▌        | 15/100 [00:04<00:18,  4.67it/s, Loss=2.7062]"
          ]
        },
        {
          "metadata": {
            "tags": null
          },
          "name": "stdout",
          "output_type": "stream",
          "text": [
            "*** DEBUG: Completed batch 10/100 ***\n"
          ]
        },
        {
          "metadata": {
            "tags": null
          },
          "name": "stderr",
          "output_type": "stream",
          "text": [
            "Epoch 45/50 [Train]:  21%|██        | 21/100 [00:06<00:18,  4.30it/s, Loss=3.3267]"
          ]
        },
        {
          "metadata": {
            "tags": null
          },
          "name": "stdout",
          "output_type": "stream",
          "text": [
            "*** DEBUG: Completed batch 20/100 ***\n"
          ]
        },
        {
          "metadata": {
            "tags": null
          },
          "name": "stderr",
          "output_type": "stream",
          "text": [
            "Epoch 45/50 [Train]:  32%|███▏      | 32/100 [00:08<00:10,  6.36it/s, Loss=3.6531]"
          ]
        },
        {
          "metadata": {
            "tags": null
          },
          "name": "stdout",
          "output_type": "stream",
          "text": [
            "*** DEBUG: Completed batch 30/100 ***\n"
          ]
        },
        {
          "metadata": {
            "tags": null
          },
          "name": "stderr",
          "output_type": "stream",
          "text": [
            "Epoch 45/50 [Train]:  42%|████▏     | 42/100 [00:14<00:30,  1.91it/s, Loss=3.0050]"
          ]
        },
        {
          "metadata": {
            "tags": null
          },
          "name": "stdout",
          "output_type": "stream",
          "text": [
            "*** DEBUG: Completed batch 40/100 ***\n"
          ]
        },
        {
          "metadata": {
            "tags": null
          },
          "name": "stderr",
          "output_type": "stream",
          "text": [
            "Epoch 45/50 [Train]:  55%|█████▌    | 55/100 [00:16<00:10,  4.43it/s, Loss=3.0460]"
          ]
        },
        {
          "metadata": {
            "tags": null
          },
          "name": "stdout",
          "output_type": "stream",
          "text": [
            "*** DEBUG: Completed batch 50/100 ***\n"
          ]
        },
        {
          "metadata": {
            "tags": null
          },
          "name": "stderr",
          "output_type": "stream",
          "text": [
            "Epoch 45/50 [Train]:  63%|██████▎   | 63/100 [00:18<00:06,  5.29it/s, Loss=3.0697]"
          ]
        },
        {
          "metadata": {
            "tags": null
          },
          "name": "stdout",
          "output_type": "stream",
          "text": [
            "*** DEBUG: Completed batch 60/100 ***\n"
          ]
        },
        {
          "metadata": {
            "tags": null
          },
          "name": "stderr",
          "output_type": "stream",
          "text": [
            "Epoch 45/50 [Train]:  71%|███████   | 71/100 [00:20<00:04,  6.05it/s, Loss=2.7721]"
          ]
        },
        {
          "metadata": {
            "tags": null
          },
          "name": "stdout",
          "output_type": "stream",
          "text": [
            "*** DEBUG: Completed batch 70/100 ***\n"
          ]
        },
        {
          "metadata": {
            "tags": null
          },
          "name": "stderr",
          "output_type": "stream",
          "text": [
            "Epoch 45/50 [Train]:  81%|████████  | 81/100 [00:23<00:05,  3.43it/s, Loss=2.7319]"
          ]
        },
        {
          "metadata": {
            "tags": null
          },
          "name": "stdout",
          "output_type": "stream",
          "text": [
            "*** DEBUG: Completed batch 80/100 ***\n"
          ]
        },
        {
          "metadata": {
            "tags": null
          },
          "name": "stderr",
          "output_type": "stream",
          "text": [
            "Epoch 45/50 [Train]:  94%|█████████▍| 94/100 [00:25<00:01,  5.71it/s, Loss=3.1404]"
          ]
        },
        {
          "metadata": {
            "tags": null
          },
          "name": "stdout",
          "output_type": "stream",
          "text": [
            "*** DEBUG: Completed batch 90/100 ***\n"
          ]
        },
        {
          "metadata": {
            "tags": null
          },
          "name": "stderr",
          "output_type": "stream",
          "text": [
            "Epoch 45/50 [Train]: 100%|██████████| 100/100 [00:26<00:00,  3.77it/s, Loss=2.9991]\n"
          ]
        },
        {
          "metadata": {
            "tags": null
          },
          "name": "stdout",
          "output_type": "stream",
          "text": [
            "*** DEBUG: Training epoch 45 complete, starting validation ***\n"
          ]
        },
        {
          "metadata": {
            "tags": null
          },
          "name": "stderr",
          "output_type": "stream",
          "text": [
            "Epoch 45/50 [Val]: 100%|██████████| 25/25 [00:06<00:00,  4.13it/s, Loss=2.9677]\n"
          ]
        },
        {
          "metadata": {
            "tags": null
          },
          "name": "stdout",
          "output_type": "stream",
          "text": [
            "Epoch 45/50:\n",
            "  Train MAPE: 3.0627%\n",
            "  Val MAPE: 3.0773%\n",
            "  LR: 0.000000\n",
            "--------------------------------------------------\n",
            "New best model saved: /content/drive/MyDrive/ThinkOnward/Models/best_model_adaptive.pth\n"
          ]
        },
        {
          "metadata": {
            "tags": null
          },
          "name": "stderr",
          "output_type": "stream",
          "text": [
            "Epoch 46/50 [Train]:   4%|▍         | 4/100 [00:02<00:47,  2.03it/s, Loss=3.1954]"
          ]
        },
        {
          "metadata": {
            "tags": null
          },
          "name": "stdout",
          "output_type": "stream",
          "text": [
            "*** DEBUG Batch 0: Input shape: torch.Size([16, 5, 32, 313]), Target shape: torch.Size([16, 300, 1259]) ***\n",
            "*** DEBUG: GPU memory before forward: 0.86GB ***\n",
            "*** DEBUG: Starting forward pass for batch 0 ***\n",
            "*** DEBUG: Forward pass complete, output shape: torch.Size([16, 1, 300, 1259]) ***\n",
            "*** DEBUG: Starting loss calculation ***\n",
            "*** DEBUG: Loss calculated: 3.3143, starting backward ***\n",
            "*** DEBUG: Backward complete, running optimizer step ***\n",
            "*** DEBUG: Batch 0 complete ***\n",
            "*** DEBUG: GPU memory after batch: 0.89GB ***\n",
            "*** DEBUG: Completed batch 0/100 ***\n",
            "*** DEBUG Batch 1: Input shape: torch.Size([16, 5, 32, 313]), Target shape: torch.Size([16, 300, 1259]) ***\n",
            "*** DEBUG: GPU memory before forward: 0.86GB ***\n",
            "*** DEBUG: Starting forward pass for batch 1 ***\n",
            "*** DEBUG: Forward pass complete, output shape: torch.Size([16, 1, 300, 1259]) ***\n",
            "*** DEBUG: Starting loss calculation ***\n",
            "*** DEBUG: Loss calculated: 2.8791, starting backward ***\n",
            "*** DEBUG: Backward complete, running optimizer step ***\n",
            "*** DEBUG: Batch 1 complete ***\n",
            "*** DEBUG: GPU memory after batch: 0.89GB ***\n",
            "*** DEBUG Batch 2: Input shape: torch.Size([16, 5, 32, 313]), Target shape: torch.Size([16, 300, 1259]) ***\n",
            "*** DEBUG: GPU memory before forward: 0.86GB ***\n",
            "*** DEBUG: Starting forward pass for batch 2 ***\n",
            "*** DEBUG: Forward pass complete, output shape: torch.Size([16, 1, 300, 1259]) ***\n",
            "*** DEBUG: Starting loss calculation ***\n",
            "*** DEBUG: Loss calculated: 2.9883, starting backward ***\n",
            "*** DEBUG: Backward complete, running optimizer step ***\n",
            "*** DEBUG: Batch 2 complete ***\n",
            "*** DEBUG: GPU memory after batch: 0.89GB ***\n"
          ]
        },
        {
          "metadata": {
            "tags": null
          },
          "name": "stderr",
          "output_type": "stream",
          "text": [
            "Epoch 46/50 [Train]:  15%|█▌        | 15/100 [00:04<00:18,  4.60it/s, Loss=2.7234]"
          ]
        },
        {
          "metadata": {
            "tags": null
          },
          "name": "stdout",
          "output_type": "stream",
          "text": [
            "*** DEBUG: Completed batch 10/100 ***\n"
          ]
        },
        {
          "metadata": {
            "tags": null
          },
          "name": "stderr",
          "output_type": "stream",
          "text": [
            "Epoch 46/50 [Train]:  22%|██▏       | 22/100 [00:06<00:16,  4.63it/s, Loss=2.8224]"
          ]
        },
        {
          "metadata": {
            "tags": null
          },
          "name": "stdout",
          "output_type": "stream",
          "text": [
            "*** DEBUG: Completed batch 20/100 ***\n"
          ]
        },
        {
          "metadata": {
            "tags": null
          },
          "name": "stderr",
          "output_type": "stream",
          "text": [
            "Epoch 46/50 [Train]:  29%|██▉       | 29/100 [00:08<00:15,  4.52it/s, Loss=2.8107]"
          ]
        },
        {
          "metadata": {
            "tags": null
          },
          "name": "stdout",
          "output_type": "stream",
          "text": [
            "*** DEBUG: Completed batch 30/100 ***\n"
          ]
        },
        {
          "metadata": {
            "tags": null
          },
          "name": "stderr",
          "output_type": "stream",
          "text": [
            "Epoch 46/50 [Train]:  43%|████▎     | 43/100 [00:14<00:28,  1.98it/s, Loss=3.1101]"
          ]
        },
        {
          "metadata": {
            "tags": null
          },
          "name": "stdout",
          "output_type": "stream",
          "text": [
            "*** DEBUG: Completed batch 40/100 ***\n"
          ]
        },
        {
          "metadata": {
            "tags": null
          },
          "name": "stderr",
          "output_type": "stream",
          "text": [
            "Epoch 46/50 [Train]:  54%|█████▍    | 54/100 [00:16<00:13,  3.49it/s, Loss=2.7691]"
          ]
        },
        {
          "metadata": {
            "tags": null
          },
          "name": "stdout",
          "output_type": "stream",
          "text": [
            "*** DEBUG: Completed batch 50/100 ***\n"
          ]
        },
        {
          "metadata": {
            "tags": null
          },
          "name": "stderr",
          "output_type": "stream",
          "text": [
            "Epoch 46/50 [Train]:  61%|██████    | 61/100 [00:18<00:10,  3.90it/s, Loss=3.1268]"
          ]
        },
        {
          "metadata": {
            "tags": null
          },
          "name": "stdout",
          "output_type": "stream",
          "text": [
            "*** DEBUG: Completed batch 60/100 ***\n"
          ]
        },
        {
          "metadata": {
            "tags": null
          },
          "name": "stderr",
          "output_type": "stream",
          "text": [
            "Epoch 46/50 [Train]:  69%|██████▉   | 69/100 [00:20<00:07,  4.40it/s, Loss=2.9889]"
          ]
        },
        {
          "metadata": {
            "tags": null
          },
          "name": "stdout",
          "output_type": "stream",
          "text": [
            "*** DEBUG: Completed batch 70/100 ***\n"
          ]
        },
        {
          "metadata": {
            "tags": null
          },
          "name": "stderr",
          "output_type": "stream",
          "text": [
            "Epoch 46/50 [Train]:  84%|████████▍ | 84/100 [00:24<00:03,  4.59it/s, Loss=2.9727]"
          ]
        },
        {
          "metadata": {
            "tags": null
          },
          "name": "stdout",
          "output_type": "stream",
          "text": [
            "*** DEBUG: Completed batch 80/100 ***\n"
          ]
        },
        {
          "metadata": {
            "tags": null
          },
          "name": "stderr",
          "output_type": "stream",
          "text": [
            "Epoch 46/50 [Train]:  94%|█████████▍| 94/100 [00:26<00:01,  5.11it/s, Loss=2.9397]"
          ]
        },
        {
          "metadata": {
            "tags": null
          },
          "name": "stdout",
          "output_type": "stream",
          "text": [
            "*** DEBUG: Completed batch 90/100 ***\n"
          ]
        },
        {
          "metadata": {
            "tags": null
          },
          "name": "stderr",
          "output_type": "stream",
          "text": [
            "Epoch 46/50 [Train]: 100%|██████████| 100/100 [00:26<00:00,  3.71it/s, Loss=3.0389]\n"
          ]
        },
        {
          "metadata": {
            "tags": null
          },
          "name": "stdout",
          "output_type": "stream",
          "text": [
            "*** DEBUG: Training epoch 46 complete, starting validation ***\n"
          ]
        },
        {
          "metadata": {
            "tags": null
          },
          "name": "stderr",
          "output_type": "stream",
          "text": [
            "Epoch 46/50 [Val]: 100%|██████████| 25/25 [00:06<00:00,  4.01it/s, Loss=2.9657]\n"
          ]
        },
        {
          "metadata": {
            "tags": null
          },
          "name": "stdout",
          "output_type": "stream",
          "text": [
            "Epoch 46/50:\n",
            "  Train MAPE: 3.0518%\n",
            "  Val MAPE: 3.0810%\n",
            "  LR: 0.000000\n",
            "--------------------------------------------------\n"
          ]
        },
        {
          "metadata": {
            "tags": null
          },
          "name": "stderr",
          "output_type": "stream",
          "text": [
            "Epoch 47/50 [Train]:   3%|▎         | 3/100 [00:02<00:55,  1.75it/s, Loss=2.8653]"
          ]
        },
        {
          "metadata": {
            "tags": null
          },
          "name": "stdout",
          "output_type": "stream",
          "text": [
            "*** DEBUG Batch 0: Input shape: torch.Size([16, 5, 32, 313]), Target shape: torch.Size([16, 300, 1259]) ***\n",
            "*** DEBUG: GPU memory before forward: 0.86GB ***\n",
            "*** DEBUG: Starting forward pass for batch 0 ***\n",
            "*** DEBUG: Forward pass complete, output shape: torch.Size([16, 1, 300, 1259]) ***\n",
            "*** DEBUG: Starting loss calculation ***\n",
            "*** DEBUG: Loss calculated: 2.8419, starting backward ***\n",
            "*** DEBUG: Backward complete, running optimizer step ***\n",
            "*** DEBUG: Batch 0 complete ***\n",
            "*** DEBUG: GPU memory after batch: 0.89GB ***\n",
            "*** DEBUG: Completed batch 0/100 ***\n",
            "*** DEBUG Batch 1: Input shape: torch.Size([16, 5, 32, 313]), Target shape: torch.Size([16, 300, 1259]) ***\n",
            "*** DEBUG: GPU memory before forward: 0.86GB ***\n",
            "*** DEBUG: Starting forward pass for batch 1 ***\n",
            "*** DEBUG: Forward pass complete, output shape: torch.Size([16, 1, 300, 1259]) ***\n",
            "*** DEBUG: Starting loss calculation ***\n",
            "*** DEBUG: Loss calculated: 3.4395, starting backward ***\n",
            "*** DEBUG: Backward complete, running optimizer step ***\n",
            "*** DEBUG: Batch 1 complete ***\n",
            "*** DEBUG: GPU memory after batch: 0.89GB ***\n",
            "*** DEBUG Batch 2: Input shape: torch.Size([16, 5, 32, 313]), Target shape: torch.Size([16, 300, 1259]) ***\n",
            "*** DEBUG: GPU memory before forward: 0.86GB ***\n",
            "*** DEBUG: Starting forward pass for batch 2 ***\n",
            "*** DEBUG: Forward pass complete, output shape: torch.Size([16, 1, 300, 1259]) ***\n",
            "*** DEBUG: Starting loss calculation ***\n",
            "*** DEBUG: Loss calculated: 3.0306, starting backward ***\n",
            "*** DEBUG: Backward complete, running optimizer step ***\n",
            "*** DEBUG: Batch 2 complete ***\n",
            "*** DEBUG: GPU memory after batch: 0.89GB ***\n"
          ]
        },
        {
          "metadata": {
            "tags": null
          },
          "name": "stderr",
          "output_type": "stream",
          "text": [
            "Epoch 47/50 [Train]:  13%|█▎        | 13/100 [00:04<00:19,  4.56it/s, Loss=3.1349]"
          ]
        },
        {
          "metadata": {
            "tags": null
          },
          "name": "stdout",
          "output_type": "stream",
          "text": [
            "*** DEBUG: Completed batch 10/100 ***\n"
          ]
        },
        {
          "metadata": {
            "tags": null
          },
          "name": "stderr",
          "output_type": "stream",
          "text": [
            "Epoch 47/50 [Train]:  23%|██▎       | 23/100 [00:06<00:13,  5.84it/s, Loss=3.3614]"
          ]
        },
        {
          "metadata": {
            "tags": null
          },
          "name": "stdout",
          "output_type": "stream",
          "text": [
            "*** DEBUG: Completed batch 20/100 ***\n"
          ]
        },
        {
          "metadata": {
            "tags": null
          },
          "name": "stderr",
          "output_type": "stream",
          "text": [
            "Epoch 47/50 [Train]:  30%|███       | 30/100 [00:08<00:13,  5.00it/s, Loss=3.1712]"
          ]
        },
        {
          "metadata": {
            "tags": null
          },
          "name": "stdout",
          "output_type": "stream",
          "text": [
            "*** DEBUG: Completed batch 30/100 ***\n"
          ]
        },
        {
          "metadata": {
            "tags": null
          },
          "name": "stderr",
          "output_type": "stream",
          "text": [
            "Epoch 47/50 [Train]:  46%|████▌     | 46/100 [00:11<00:11,  4.75it/s, Loss=3.2482]"
          ]
        },
        {
          "metadata": {
            "tags": null
          },
          "name": "stdout",
          "output_type": "stream",
          "text": [
            "*** DEBUG: Completed batch 40/100 ***\n"
          ]
        },
        {
          "metadata": {
            "tags": null
          },
          "name": "stderr",
          "output_type": "stream",
          "text": [
            "Epoch 47/50 [Train]:  53%|█████▎    | 53/100 [00:13<00:10,  4.62it/s, Loss=2.8378]"
          ]
        },
        {
          "metadata": {
            "tags": null
          },
          "name": "stdout",
          "output_type": "stream",
          "text": [
            "*** DEBUG: Completed batch 50/100 ***\n"
          ]
        },
        {
          "metadata": {
            "tags": null
          },
          "name": "stderr",
          "output_type": "stream",
          "text": [
            "Epoch 47/50 [Train]:  62%|██████▏   | 62/100 [00:15<00:07,  5.35it/s, Loss=3.2857]"
          ]
        },
        {
          "metadata": {
            "tags": null
          },
          "name": "stdout",
          "output_type": "stream",
          "text": [
            "*** DEBUG: Completed batch 60/100 ***\n"
          ]
        },
        {
          "metadata": {
            "tags": null
          },
          "name": "stderr",
          "output_type": "stream",
          "text": [
            "Epoch 47/50 [Train]:  71%|███████   | 71/100 [00:17<00:04,  6.14it/s, Loss=2.8637]"
          ]
        },
        {
          "metadata": {
            "tags": null
          },
          "name": "stdout",
          "output_type": "stream",
          "text": [
            "*** DEBUG: Completed batch 70/100 ***\n"
          ]
        },
        {
          "metadata": {
            "tags": null
          },
          "name": "stderr",
          "output_type": "stream",
          "text": [
            "Epoch 47/50 [Train]:  81%|████████  | 81/100 [00:21<00:05,  3.36it/s, Loss=3.2915]"
          ]
        },
        {
          "metadata": {
            "tags": null
          },
          "name": "stdout",
          "output_type": "stream",
          "text": [
            "*** DEBUG: Completed batch 80/100 ***\n"
          ]
        },
        {
          "metadata": {
            "tags": null
          },
          "name": "stderr",
          "output_type": "stream",
          "text": [
            "Epoch 47/50 [Train]:  95%|█████████▌| 95/100 [00:23<00:00,  6.40it/s, Loss=2.9716]"
          ]
        },
        {
          "metadata": {
            "tags": null
          },
          "name": "stdout",
          "output_type": "stream",
          "text": [
            "*** DEBUG: Completed batch 90/100 ***\n"
          ]
        },
        {
          "metadata": {
            "tags": null
          },
          "name": "stderr",
          "output_type": "stream",
          "text": [
            "Epoch 47/50 [Train]: 100%|██████████| 100/100 [00:24<00:00,  4.15it/s, Loss=3.1940]\n"
          ]
        },
        {
          "metadata": {
            "tags": null
          },
          "name": "stdout",
          "output_type": "stream",
          "text": [
            "*** DEBUG: Training epoch 47 complete, starting validation ***\n"
          ]
        },
        {
          "metadata": {
            "tags": null
          },
          "name": "stderr",
          "output_type": "stream",
          "text": [
            "Epoch 47/50 [Val]: 100%|██████████| 25/25 [00:06<00:00,  4.02it/s, Loss=2.9605]\n"
          ]
        },
        {
          "metadata": {
            "tags": null
          },
          "name": "stdout",
          "output_type": "stream",
          "text": [
            "Epoch 47/50:\n",
            "  Train MAPE: 3.0457%\n",
            "  Val MAPE: 3.0803%\n",
            "  LR: 0.000000\n",
            "--------------------------------------------------\n"
          ]
        },
        {
          "metadata": {
            "tags": null
          },
          "name": "stderr",
          "output_type": "stream",
          "text": [
            "Epoch 48/50 [Train]:   4%|▍         | 4/100 [00:02<00:42,  2.27it/s, Loss=3.6346]"
          ]
        },
        {
          "metadata": {
            "tags": null
          },
          "name": "stdout",
          "output_type": "stream",
          "text": [
            "*** DEBUG Batch 0: Input shape: torch.Size([16, 5, 32, 313]), Target shape: torch.Size([16, 300, 1259]) ***\n",
            "*** DEBUG: GPU memory before forward: 0.86GB ***\n",
            "*** DEBUG: Starting forward pass for batch 0 ***\n",
            "*** DEBUG: Forward pass complete, output shape: torch.Size([16, 1, 300, 1259]) ***\n",
            "*** DEBUG: Starting loss calculation ***\n",
            "*** DEBUG: Loss calculated: 2.8843, starting backward ***\n",
            "*** DEBUG: Backward complete, running optimizer step ***\n",
            "*** DEBUG: Batch 0 complete ***\n",
            "*** DEBUG: GPU memory after batch: 0.89GB ***\n",
            "*** DEBUG: Completed batch 0/100 ***\n",
            "*** DEBUG Batch 1: Input shape: torch.Size([16, 5, 32, 313]), Target shape: torch.Size([16, 300, 1259]) ***\n",
            "*** DEBUG: GPU memory before forward: 0.86GB ***\n",
            "*** DEBUG: Starting forward pass for batch 1 ***\n",
            "*** DEBUG: Forward pass complete, output shape: torch.Size([16, 1, 300, 1259]) ***\n",
            "*** DEBUG: Starting loss calculation ***\n",
            "*** DEBUG: Loss calculated: 3.1146, starting backward ***\n",
            "*** DEBUG: Backward complete, running optimizer step ***\n",
            "*** DEBUG: Batch 1 complete ***\n",
            "*** DEBUG: GPU memory after batch: 0.89GB ***\n",
            "*** DEBUG Batch 2: Input shape: torch.Size([16, 5, 32, 313]), Target shape: torch.Size([16, 300, 1259]) ***\n",
            "*** DEBUG: GPU memory before forward: 0.86GB ***\n",
            "*** DEBUG: Starting forward pass for batch 2 ***\n",
            "*** DEBUG: Forward pass complete, output shape: torch.Size([16, 1, 300, 1259]) ***\n",
            "*** DEBUG: Starting loss calculation ***\n",
            "*** DEBUG: Loss calculated: 2.8696, starting backward ***\n",
            "*** DEBUG: Backward complete, running optimizer step ***\n",
            "*** DEBUG: Batch 2 complete ***\n",
            "*** DEBUG: GPU memory after batch: 0.89GB ***\n"
          ]
        },
        {
          "metadata": {
            "tags": null
          },
          "name": "stderr",
          "output_type": "stream",
          "text": [
            "Epoch 48/50 [Train]:  15%|█▌        | 15/100 [00:04<00:17,  4.72it/s, Loss=3.0572]"
          ]
        },
        {
          "metadata": {
            "tags": null
          },
          "name": "stdout",
          "output_type": "stream",
          "text": [
            "*** DEBUG: Completed batch 10/100 ***\n"
          ]
        },
        {
          "metadata": {
            "tags": null
          },
          "name": "stderr",
          "output_type": "stream",
          "text": [
            "Epoch 48/50 [Train]:  22%|██▏       | 22/100 [00:06<00:16,  4.66it/s, Loss=3.1605]"
          ]
        },
        {
          "metadata": {
            "tags": null
          },
          "name": "stdout",
          "output_type": "stream",
          "text": [
            "*** DEBUG: Completed batch 20/100 ***\n"
          ]
        },
        {
          "metadata": {
            "tags": null
          },
          "name": "stderr",
          "output_type": "stream",
          "text": [
            "Epoch 48/50 [Train]:  31%|███       | 31/100 [00:08<00:12,  5.61it/s, Loss=3.1510]"
          ]
        },
        {
          "metadata": {
            "tags": null
          },
          "name": "stdout",
          "output_type": "stream",
          "text": [
            "*** DEBUG: Completed batch 30/100 ***\n"
          ]
        },
        {
          "metadata": {
            "tags": null
          },
          "name": "stderr",
          "output_type": "stream",
          "text": [
            "Epoch 48/50 [Train]:  43%|████▎     | 43/100 [00:11<00:14,  3.99it/s, Loss=3.5433]"
          ]
        },
        {
          "metadata": {
            "tags": null
          },
          "name": "stdout",
          "output_type": "stream",
          "text": [
            "*** DEBUG: Completed batch 40/100 ***\n"
          ]
        },
        {
          "metadata": {
            "tags": null
          },
          "name": "stderr",
          "output_type": "stream",
          "text": [
            "Epoch 48/50 [Train]:  53%|█████▎    | 53/100 [00:13<00:09,  4.91it/s, Loss=2.9175]"
          ]
        },
        {
          "metadata": {
            "tags": null
          },
          "name": "stdout",
          "output_type": "stream",
          "text": [
            "*** DEBUG: Completed batch 50/100 ***\n"
          ]
        },
        {
          "metadata": {
            "tags": null
          },
          "name": "stderr",
          "output_type": "stream",
          "text": [
            "Epoch 48/50 [Train]:  61%|██████    | 61/100 [00:15<00:07,  4.95it/s, Loss=2.8487]"
          ]
        },
        {
          "metadata": {
            "tags": null
          },
          "name": "stdout",
          "output_type": "stream",
          "text": [
            "*** DEBUG: Completed batch 60/100 ***\n"
          ]
        },
        {
          "metadata": {
            "tags": null
          },
          "name": "stderr",
          "output_type": "stream",
          "text": [
            "Epoch 48/50 [Train]:  69%|██████▉   | 69/100 [00:17<00:06,  4.99it/s, Loss=3.3889]"
          ]
        },
        {
          "metadata": {
            "tags": null
          },
          "name": "stdout",
          "output_type": "stream",
          "text": [
            "*** DEBUG: Completed batch 70/100 ***\n"
          ]
        },
        {
          "metadata": {
            "tags": null
          },
          "name": "stderr",
          "output_type": "stream",
          "text": [
            "Epoch 48/50 [Train]:  84%|████████▍ | 84/100 [00:21<00:03,  4.67it/s, Loss=2.7568]"
          ]
        },
        {
          "metadata": {
            "tags": null
          },
          "name": "stdout",
          "output_type": "stream",
          "text": [
            "*** DEBUG: Completed batch 80/100 ***\n"
          ]
        },
        {
          "metadata": {
            "tags": null
          },
          "name": "stderr",
          "output_type": "stream",
          "text": [
            "Epoch 48/50 [Train]:  95%|█████████▌| 95/100 [00:23<00:00,  5.52it/s, Loss=2.9167]"
          ]
        },
        {
          "metadata": {
            "tags": null
          },
          "name": "stdout",
          "output_type": "stream",
          "text": [
            "*** DEBUG: Completed batch 90/100 ***\n"
          ]
        },
        {
          "metadata": {
            "tags": null
          },
          "name": "stderr",
          "output_type": "stream",
          "text": [
            "Epoch 48/50 [Train]: 100%|██████████| 100/100 [00:24<00:00,  4.16it/s, Loss=3.1673]\n"
          ]
        },
        {
          "metadata": {
            "tags": null
          },
          "name": "stdout",
          "output_type": "stream",
          "text": [
            "*** DEBUG: Training epoch 48 complete, starting validation ***\n"
          ]
        },
        {
          "metadata": {
            "tags": null
          },
          "name": "stderr",
          "output_type": "stream",
          "text": [
            "Epoch 48/50 [Val]: 100%|██████████| 25/25 [00:06<00:00,  3.94it/s, Loss=2.9634]\n"
          ]
        },
        {
          "metadata": {
            "tags": null
          },
          "name": "stdout",
          "output_type": "stream",
          "text": [
            "Epoch 48/50:\n",
            "  Train MAPE: 3.0469%\n",
            "  Val MAPE: 3.0784%\n",
            "  LR: 0.000000\n",
            "--------------------------------------------------\n"
          ]
        },
        {
          "metadata": {
            "tags": null
          },
          "name": "stderr",
          "output_type": "stream",
          "text": [
            "Epoch 49/50 [Train]:   4%|▍         | 4/100 [00:02<00:40,  2.35it/s, Loss=3.0128]"
          ]
        },
        {
          "metadata": {
            "tags": null
          },
          "name": "stdout",
          "output_type": "stream",
          "text": [
            "*** DEBUG Batch 0: Input shape: torch.Size([16, 5, 32, 313]), Target shape: torch.Size([16, 300, 1259]) ***\n",
            "*** DEBUG: GPU memory before forward: 0.86GB ***\n",
            "*** DEBUG: Starting forward pass for batch 0 ***\n",
            "*** DEBUG: Forward pass complete, output shape: torch.Size([16, 1, 300, 1259]) ***\n",
            "*** DEBUG: Starting loss calculation ***\n",
            "*** DEBUG: Loss calculated: 2.9082, starting backward ***\n",
            "*** DEBUG: Backward complete, running optimizer step ***\n",
            "*** DEBUG: Batch 0 complete ***\n",
            "*** DEBUG: GPU memory after batch: 0.89GB ***\n",
            "*** DEBUG: Completed batch 0/100 ***\n",
            "*** DEBUG Batch 1: Input shape: torch.Size([16, 5, 32, 313]), Target shape: torch.Size([16, 300, 1259]) ***\n",
            "*** DEBUG: GPU memory before forward: 0.86GB ***\n",
            "*** DEBUG: Starting forward pass for batch 1 ***\n",
            "*** DEBUG: Forward pass complete, output shape: torch.Size([16, 1, 300, 1259]) ***\n",
            "*** DEBUG: Starting loss calculation ***\n",
            "*** DEBUG: Loss calculated: 3.2032, starting backward ***\n",
            "*** DEBUG: Backward complete, running optimizer step ***\n",
            "*** DEBUG: Batch 1 complete ***\n",
            "*** DEBUG: GPU memory after batch: 0.89GB ***\n",
            "*** DEBUG Batch 2: Input shape: torch.Size([16, 5, 32, 313]), Target shape: torch.Size([16, 300, 1259]) ***\n",
            "*** DEBUG: GPU memory before forward: 0.86GB ***\n",
            "*** DEBUG: Starting forward pass for batch 2 ***\n",
            "*** DEBUG: Forward pass complete, output shape: torch.Size([16, 1, 300, 1259]) ***\n",
            "*** DEBUG: Starting loss calculation ***\n",
            "*** DEBUG: Loss calculated: 3.0944, starting backward ***\n",
            "*** DEBUG: Backward complete, running optimizer step ***\n",
            "*** DEBUG: Batch 2 complete ***\n",
            "*** DEBUG: GPU memory after batch: 0.89GB ***\n"
          ]
        },
        {
          "metadata": {
            "tags": null
          },
          "name": "stderr",
          "output_type": "stream",
          "text": [
            "Epoch 49/50 [Train]:  15%|█▌        | 15/100 [00:04<00:17,  4.79it/s, Loss=2.8287]"
          ]
        },
        {
          "metadata": {
            "tags": null
          },
          "name": "stdout",
          "output_type": "stream",
          "text": [
            "*** DEBUG: Completed batch 10/100 ***\n"
          ]
        },
        {
          "metadata": {
            "tags": null
          },
          "name": "stderr",
          "output_type": "stream",
          "text": [
            "Epoch 49/50 [Train]:  24%|██▍       | 24/100 [00:06<00:12,  6.01it/s, Loss=2.9003]"
          ]
        },
        {
          "metadata": {
            "tags": null
          },
          "name": "stdout",
          "output_type": "stream",
          "text": [
            "*** DEBUG: Completed batch 20/100 ***\n"
          ]
        },
        {
          "metadata": {
            "tags": null
          },
          "name": "stderr",
          "output_type": "stream",
          "text": [
            "Epoch 49/50 [Train]:  30%|███       | 30/100 [00:08<00:14,  4.69it/s, Loss=3.2535]"
          ]
        },
        {
          "metadata": {
            "tags": null
          },
          "name": "stdout",
          "output_type": "stream",
          "text": [
            "*** DEBUG: Completed batch 30/100 ***\n"
          ]
        },
        {
          "metadata": {
            "tags": null
          },
          "name": "stderr",
          "output_type": "stream",
          "text": [
            "Epoch 49/50 [Train]:  45%|████▌     | 45/100 [00:11<00:11,  4.82it/s, Loss=2.7618]"
          ]
        },
        {
          "metadata": {
            "tags": null
          },
          "name": "stdout",
          "output_type": "stream",
          "text": [
            "*** DEBUG: Completed batch 40/100 ***\n"
          ]
        },
        {
          "metadata": {
            "tags": null
          },
          "name": "stderr",
          "output_type": "stream",
          "text": [
            "Epoch 49/50 [Train]:  56%|█████▌    | 56/100 [00:13<00:07,  6.01it/s, Loss=2.8030]"
          ]
        },
        {
          "metadata": {
            "tags": null
          },
          "name": "stdout",
          "output_type": "stream",
          "text": [
            "*** DEBUG: Completed batch 50/100 ***\n"
          ]
        },
        {
          "metadata": {
            "tags": null
          },
          "name": "stderr",
          "output_type": "stream",
          "text": [
            "Epoch 49/50 [Train]:  63%|██████▎   | 63/100 [00:15<00:07,  5.16it/s, Loss=2.8881]"
          ]
        },
        {
          "metadata": {
            "tags": null
          },
          "name": "stdout",
          "output_type": "stream",
          "text": [
            "*** DEBUG: Completed batch 60/100 ***\n"
          ]
        },
        {
          "metadata": {
            "tags": null
          },
          "name": "stderr",
          "output_type": "stream",
          "text": [
            "Epoch 49/50 [Train]:  70%|███████   | 70/100 [00:17<00:06,  4.95it/s, Loss=2.7351]"
          ]
        },
        {
          "metadata": {
            "tags": null
          },
          "name": "stdout",
          "output_type": "stream",
          "text": [
            "*** DEBUG: Completed batch 70/100 ***\n"
          ]
        },
        {
          "metadata": {
            "tags": null
          },
          "name": "stderr",
          "output_type": "stream",
          "text": [
            "Epoch 49/50 [Train]:  85%|████████▌ | 85/100 [00:21<00:03,  4.51it/s, Loss=3.0224]"
          ]
        },
        {
          "metadata": {
            "tags": null
          },
          "name": "stdout",
          "output_type": "stream",
          "text": [
            "*** DEBUG: Completed batch 80/100 ***\n"
          ]
        },
        {
          "metadata": {
            "tags": null
          },
          "name": "stderr",
          "output_type": "stream",
          "text": [
            "Epoch 49/50 [Train]:  95%|█████████▌| 95/100 [00:23<00:00,  5.26it/s, Loss=3.3065]"
          ]
        },
        {
          "metadata": {
            "tags": null
          },
          "name": "stdout",
          "output_type": "stream",
          "text": [
            "*** DEBUG: Completed batch 90/100 ***\n"
          ]
        },
        {
          "metadata": {
            "tags": null
          },
          "name": "stderr",
          "output_type": "stream",
          "text": [
            "Epoch 49/50 [Train]: 100%|██████████| 100/100 [00:24<00:00,  4.15it/s, Loss=2.9623]\n"
          ]
        },
        {
          "metadata": {
            "tags": null
          },
          "name": "stdout",
          "output_type": "stream",
          "text": [
            "*** DEBUG: Training epoch 49 complete, starting validation ***\n"
          ]
        },
        {
          "metadata": {
            "tags": null
          },
          "name": "stderr",
          "output_type": "stream",
          "text": [
            "Epoch 49/50 [Val]: 100%|██████████| 25/25 [00:06<00:00,  4.02it/s, Loss=2.9756]\n"
          ]
        },
        {
          "metadata": {
            "tags": null
          },
          "name": "stdout",
          "output_type": "stream",
          "text": [
            "Epoch 49/50:\n",
            "  Train MAPE: 3.0468%\n",
            "  Val MAPE: 3.0954%\n",
            "  LR: 0.000000\n",
            "--------------------------------------------------\n"
          ]
        },
        {
          "metadata": {
            "tags": null
          },
          "name": "stderr",
          "output_type": "stream",
          "text": [
            "Epoch 50/50 [Train]:   3%|▎         | 3/100 [00:02<00:59,  1.64it/s, Loss=2.9242]"
          ]
        },
        {
          "metadata": {
            "tags": null
          },
          "name": "stdout",
          "output_type": "stream",
          "text": [
            "*** DEBUG Batch 0: Input shape: torch.Size([16, 5, 32, 313]), Target shape: torch.Size([16, 300, 1259]) ***\n",
            "*** DEBUG: GPU memory before forward: 0.86GB ***\n",
            "*** DEBUG: Starting forward pass for batch 0 ***\n",
            "*** DEBUG: Forward pass complete, output shape: torch.Size([16, 1, 300, 1259]) ***\n",
            "*** DEBUG: Starting loss calculation ***\n",
            "*** DEBUG: Loss calculated: 3.1426, starting backward ***\n",
            "*** DEBUG: Backward complete, running optimizer step ***\n",
            "*** DEBUG: Batch 0 complete ***\n",
            "*** DEBUG: GPU memory after batch: 0.89GB ***\n",
            "*** DEBUG: Completed batch 0/100 ***\n",
            "*** DEBUG Batch 1: Input shape: torch.Size([16, 5, 32, 313]), Target shape: torch.Size([16, 300, 1259]) ***\n",
            "*** DEBUG: GPU memory before forward: 0.86GB ***\n",
            "*** DEBUG: Starting forward pass for batch 1 ***\n",
            "*** DEBUG: Forward pass complete, output shape: torch.Size([16, 1, 300, 1259]) ***\n",
            "*** DEBUG: Starting loss calculation ***\n",
            "*** DEBUG: Loss calculated: 3.0836, starting backward ***\n",
            "*** DEBUG: Backward complete, running optimizer step ***\n",
            "*** DEBUG: Batch 1 complete ***\n",
            "*** DEBUG: GPU memory after batch: 0.89GB ***\n",
            "*** DEBUG Batch 2: Input shape: torch.Size([16, 5, 32, 313]), Target shape: torch.Size([16, 300, 1259]) ***\n",
            "*** DEBUG: GPU memory before forward: 0.86GB ***\n",
            "*** DEBUG: Starting forward pass for batch 2 ***\n",
            "*** DEBUG: Forward pass complete, output shape: torch.Size([16, 1, 300, 1259]) ***\n",
            "*** DEBUG: Starting loss calculation ***\n",
            "*** DEBUG: Loss calculated: 2.8783, starting backward ***\n",
            "*** DEBUG: Backward complete, running optimizer step ***\n",
            "*** DEBUG: Batch 2 complete ***\n",
            "*** DEBUG: GPU memory after batch: 0.89GB ***\n"
          ]
        },
        {
          "metadata": {
            "tags": null
          },
          "name": "stderr",
          "output_type": "stream",
          "text": [
            "Epoch 50/50 [Train]:  16%|█▌        | 16/100 [00:04<00:13,  6.36it/s, Loss=3.3405]"
          ]
        },
        {
          "metadata": {
            "tags": null
          },
          "name": "stdout",
          "output_type": "stream",
          "text": [
            "*** DEBUG: Completed batch 10/100 ***\n"
          ]
        },
        {
          "metadata": {
            "tags": null
          },
          "name": "stderr",
          "output_type": "stream",
          "text": [
            "Epoch 50/50 [Train]:  23%|██▎       | 23/100 [00:06<00:14,  5.24it/s, Loss=3.2277]"
          ]
        },
        {
          "metadata": {
            "tags": null
          },
          "name": "stdout",
          "output_type": "stream",
          "text": [
            "*** DEBUG: Completed batch 20/100 ***\n"
          ]
        },
        {
          "metadata": {
            "tags": null
          },
          "name": "stderr",
          "output_type": "stream",
          "text": [
            "Epoch 50/50 [Train]:  30%|███       | 30/100 [00:08<00:14,  4.91it/s, Loss=3.2135]"
          ]
        },
        {
          "metadata": {
            "tags": null
          },
          "name": "stdout",
          "output_type": "stream",
          "text": [
            "*** DEBUG: Completed batch 30/100 ***\n"
          ]
        },
        {
          "metadata": {
            "tags": null
          },
          "name": "stderr",
          "output_type": "stream",
          "text": [
            "Epoch 50/50 [Train]:  41%|████      | 41/100 [00:11<00:17,  3.41it/s, Loss=3.0841]"
          ]
        },
        {
          "metadata": {
            "tags": null
          },
          "name": "stdout",
          "output_type": "stream",
          "text": [
            "*** DEBUG: Completed batch 40/100 ***\n"
          ]
        },
        {
          "metadata": {
            "tags": null
          },
          "name": "stderr",
          "output_type": "stream",
          "text": [
            "Epoch 50/50 [Train]:  54%|█████▍    | 54/100 [00:13<00:08,  5.44it/s, Loss=2.9229]"
          ]
        },
        {
          "metadata": {
            "tags": null
          },
          "name": "stdout",
          "output_type": "stream",
          "text": [
            "*** DEBUG: Completed batch 50/100 ***\n"
          ]
        },
        {
          "metadata": {
            "tags": null
          },
          "name": "stderr",
          "output_type": "stream",
          "text": [
            "Epoch 50/50 [Train]:  62%|██████▏   | 62/100 [00:15<00:07,  5.37it/s, Loss=2.9153]"
          ]
        },
        {
          "metadata": {
            "tags": null
          },
          "name": "stdout",
          "output_type": "stream",
          "text": [
            "*** DEBUG: Completed batch 60/100 ***\n"
          ]
        },
        {
          "metadata": {
            "tags": null
          },
          "name": "stderr",
          "output_type": "stream",
          "text": [
            "Epoch 50/50 [Train]:  71%|███████   | 71/100 [00:17<00:04,  6.06it/s, Loss=3.2480]"
          ]
        },
        {
          "metadata": {
            "tags": null
          },
          "name": "stdout",
          "output_type": "stream",
          "text": [
            "*** DEBUG: Completed batch 70/100 ***\n"
          ]
        },
        {
          "metadata": {
            "tags": null
          },
          "name": "stderr",
          "output_type": "stream",
          "text": [
            "Epoch 50/50 [Train]:  81%|████████  | 81/100 [00:20<00:05,  3.60it/s, Loss=3.2247]"
          ]
        },
        {
          "metadata": {
            "tags": null
          },
          "name": "stdout",
          "output_type": "stream",
          "text": [
            "*** DEBUG: Completed batch 80/100 ***\n"
          ]
        },
        {
          "metadata": {
            "tags": null
          },
          "name": "stderr",
          "output_type": "stream",
          "text": [
            "Epoch 50/50 [Train]:  95%|█████████▌| 95/100 [00:23<00:00,  5.82it/s, Loss=3.1754]"
          ]
        },
        {
          "metadata": {
            "tags": null
          },
          "name": "stdout",
          "output_type": "stream",
          "text": [
            "*** DEBUG: Completed batch 90/100 ***\n"
          ]
        },
        {
          "metadata": {
            "tags": null
          },
          "name": "stderr",
          "output_type": "stream",
          "text": [
            "Epoch 50/50 [Train]: 100%|██████████| 100/100 [00:23<00:00,  4.17it/s, Loss=3.1355]\n"
          ]
        },
        {
          "metadata": {
            "tags": null
          },
          "name": "stdout",
          "output_type": "stream",
          "text": [
            "*** DEBUG: Training epoch 50 complete, starting validation ***\n"
          ]
        },
        {
          "metadata": {
            "tags": null
          },
          "name": "stderr",
          "output_type": "stream",
          "text": [
            "Epoch 50/50 [Val]: 100%|██████████| 25/25 [00:06<00:00,  3.96it/s, Loss=2.9765]"
          ]
        },
        {
          "metadata": {
            "tags": null
          },
          "name": "stdout",
          "output_type": "stream",
          "text": [
            "Epoch 50/50:\n",
            "  Train MAPE: 3.0651%\n",
            "  Val MAPE: 3.0853%\n",
            "  LR: 0.000000\n",
            "--------------------------------------------------\n"
          ]
        },
        {
          "metadata": {
            "tags": null
          },
          "name": "stderr",
          "output_type": "stream",
          "text": [
            "\n"
          ]
        },
        {
          "data": {
            "image/png": "[encoded data removed]",
            "text/plain": [
              "<Figure size 1200x500 with 3 Axes>"
            ]
          },
          "metadata": {},
          "output_type": "display_data"
        },
        {
          "metadata": {
            "tags": null
          },
          "name": "stdout",
          "output_type": "stream",
          "text": [
            "\n",
            "Training completed!\n",
            "Best validation MAPE: 3.0773%\n",
            "Model type: Adaptive\n"
          ]
        }
      ]
    }
  ]
}