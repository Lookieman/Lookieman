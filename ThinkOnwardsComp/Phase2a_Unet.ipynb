{
  "nbformat": 4,
  "nbformat_minor": 0,
  "metadata": {
    "colab": {
      "provenance": [],
      "machine_shape": "hm",
      "gpuType": "A100",
      "authorship_tag": "ABX9TyOvFqL24jLGLR+Mh1BEbq+j",
      "include_colab_link": true
    },
    "kernelspec": {
      "name": "python3",
      "display_name": "Python 3"
    },
    "language_info": {
      "name": "python"
    },
    "accelerator": "GPU"
  },
  "cells": [
    {
      "cell_type": "markdown",
      "metadata": {
        "id": "view-in-github",
        "colab_type": "text"
      },
      "source": [
        "<a href=\"https://colab.research.google.com/github/Lookieman/home_projects/blob/main/ThinkOnwardsComp/Phase2a_Unet.ipynb\" target=\"_parent\"><img src=\"https://colab.research.google.com/assets/colab-badge.svg\" alt=\"Open In Colab\"/></a>"
      ]
    },
    {
      "cell_type": "markdown",
      "source": [
        "This phase trains a U-Net model to get a baseline MAPE.\n",
        "\n",
        "The model uses the flag USE_ADAPTIVE_MODEL to switch between:\n",
        "\n",
        "a. Mode that resizes the training data ((10001, 31) → (300, 1259) via interpolation), stack as a 5-channel i/p as baseline.\n",
        "\n",
        "b. Model that uses \"adaptive-inside\" model when Flag is True\n",
        "\n",
        "Objective is to test code and also compare MAPE to be used as baseline"
      ],
      "metadata": {
        "id": "AwD8FgH1iqy_"
      }
    },
    {
      "cell_type": "code",
      "source": [
        "#Phase2a\n",
        "import torch\n",
        "import torch.nn as nn\n",
        "import torch.optim as optim\n",
        "from torch.utils.data import Dataset, DataLoader, Subset\n",
        "import torch.nn.functional as F\n",
        "import numpy as np\n",
        "import os\n",
        "from pathlib import Path\n",
        "import matplotlib.pyplot as plt\n",
        "from sklearn.model_selection import KFold\n",
        "import time\n",
        "from tqdm import tqdm\n",
        "import gc\n",
        "from scipy import ndimage"
      ],
      "metadata": {
        "id": "uRVNO74deCo7"
      },
      "execution_count": null,
      "outputs": []
    },
    {
      "cell_type": "code",
      "source": [
        "# Configuration\n",
        "USE_ADAPTIVE_MODEL = True  # Set to True for adaptive model\n",
        "DEVICE = torch.device('cuda' if torch.cuda.is_available() else 'cpu')\n",
        "BATCH_SIZE = 16\n",
        "LEARNING_RATE = 1e-4\n",
        "NUM_EPOCHS = 30\n",
        "ENSEMBLE_SIZE = 3\n",
        "K_FOLDS = 5\n",
        "DEBUG_ACTIVE=False\n",
        "\n",
        "\n",
        "print(f\"Using device: {DEVICE}\")\n",
        "print(f\"Model type: {'Adaptive' if USE_ADAPTIVE_MODEL else 'Resize'}\")"
      ],
      "metadata": {
        "id": "_JhRM7dE45Hm",
        "colab": {
          "base_uri": "https://localhost:8080/"
        },
        "outputId": "274c94bd-efaa-45b2-ced1-34cc85e9e624"
      },
      "execution_count": null,
      "outputs": [
        {
          "output_type": "stream",
          "name": "stdout",
          "text": [
            "Using device: cuda\n",
            "Model type: Adaptive\n"
          ]
        }
      ]
    },
    {
      "cell_type": "code",
      "source": [
        "class SeismicDataset(Dataset):\n",
        "    def __init__(self, data_dir, sample_indices, use_adaptive=False):\n",
        "        self.data_dir = data_dir\n",
        "        self.sample_indices = sample_indices\n",
        "        self.use_adaptive = use_adaptive\n",
        "        self.receiver_files = [\n",
        "            'receiver_data_src_1.npy',\n",
        "            'receiver_data_src_75.npy',\n",
        "            'receiver_data_src_150.npy',\n",
        "            'receiver_data_src_225.npy',\n",
        "            'receiver_data_src_300.npy'\n",
        "        ]\n",
        "\n",
        "    def __len__(self):\n",
        "        return len(self.sample_indices)\n",
        "\n",
        "    def __getitem__(self, idx):\n",
        "        sample_idx = self.sample_indices[idx]\n",
        "        sample_dir = os.path.join(self.data_dir, f'TrainingData_{sample_idx}')\n",
        "\n",
        "        # Load receiver data (5 files)\n",
        "        receiver_data = []\n",
        "        for file_name in self.receiver_files:\n",
        "            file_path = os.path.join(sample_dir, file_name)\n",
        "            data = np.load(file_path).astype(np.float32)  # (10001, 31)\n",
        "            receiver_data.append(data)\n",
        "\n",
        "        # Load target velocity model\n",
        "        target_path = os.path.join(sample_dir, 'vp_model.npy')\n",
        "        target = np.load(target_path).astype(np.float32)  # (300, 1259)\n",
        "\n",
        "        if self.use_adaptive:\n",
        "            # Process for adaptive model\n",
        "            processed_inputs = []\n",
        "            for data in receiver_data:\n",
        "                # 1D conv + maxpool simulation using numpy\n",
        "                # Downsample from 10001 to ~313 (factor of ~32)\n",
        "                downsampled = data[::32, :]  # (313, 31)\n",
        "\n",
        "                # Zero pad from 31 to 32 channels\n",
        "                if downsampled.shape[1] == 31:\n",
        "                    padded = np.pad(downsampled, ((0, 0), (0, 1)), mode='constant')  # (313, 32)\n",
        "                else:\n",
        "                    padded = downsampled\n",
        "\n",
        "                # Reshape to make it more compact 2D\n",
        "                # We'll treat this as (313, 32) for now and let the model handle it\n",
        "                processed_inputs.append(padded.T)  # (32, 313) for easier processing\n",
        "\n",
        "            # Stack all 5 processed inputs\n",
        "            input_tensor = np.stack(processed_inputs, axis=0)  # (5, 32, 313)\n",
        "        else:\n",
        "            # Process for resize model\n",
        "            processed_inputs = []\n",
        "            for data in receiver_data:\n",
        "                # Resize (10001, 31) to (300, 1259)\n",
        "                resized = ndimage.zoom(data, (300/10001, 1259/31), order=1)\n",
        "                processed_inputs.append(resized)\n",
        "\n",
        "            # Stack all 5 processed inputs\n",
        "            input_tensor = np.stack(processed_inputs, axis=0)  # (5, 300, 1259)\n",
        "\n",
        "        return torch.from_numpy(input_tensor), torch.from_numpy(target)\n"
      ],
      "metadata": {
        "id": "U6lOdwsc48nx"
      },
      "execution_count": null,
      "outputs": []
    },
    {
      "cell_type": "code",
      "source": [
        "from math import e\n",
        "# Attention Block\n",
        "class AttentionBlock(nn.Module):\n",
        "    def __init__(self, in_channels):\n",
        "        super(AttentionBlock, self).__init__()\n",
        "        self.conv1 = nn.Conv2d(in_channels, in_channels // 8, 1)\n",
        "        self.conv2 = nn.Conv2d(in_channels, in_channels // 8, 1)\n",
        "        self.conv3 = nn.Conv2d(in_channels, in_channels, 1)\n",
        "        self.gamma = nn.Parameter(torch.zeros(1))\n",
        "        self.softmax = nn.Softmax(dim=-1)\n",
        "\n",
        "    def forward(self, x):\n",
        "        batch_size, channels, height, width = x.size()\n",
        "\n",
        "        query = self.conv1(x).view(batch_size, -1, width * height).permute(0, 2, 1)\n",
        "        key = self.conv2(x).view(batch_size, -1, width * height)\n",
        "        value = self.conv3(x).view(batch_size, -1, width * height)\n",
        "\n",
        "        attention = torch.bmm(query, key)\n",
        "        attention = self.softmax(attention)\n",
        "\n",
        "        out = torch.bmm(value, attention.permute(0, 2, 1))\n",
        "        out = out.view(batch_size, channels, height, width)\n",
        "\n",
        "        return self.gamma * out + x\n",
        "\n",
        "# Double Convolution Block\n",
        "class DoubleConv(nn.Module):\n",
        "    def __init__(self, in_channels, out_channels):\n",
        "        super(DoubleConv, self).__init__()\n",
        "        self.conv = nn.Sequential(\n",
        "            nn.Conv2d(in_channels, out_channels, 3, padding=1),\n",
        "            nn.BatchNorm2d(out_channels),\n",
        "            nn.ReLU(inplace=True),\n",
        "            nn.Conv2d(out_channels, out_channels, 3, padding=1),\n",
        "            nn.BatchNorm2d(out_channels),\n",
        "            nn.ReLU(inplace=True)\n",
        "        )\n",
        "\n",
        "    def forward(self, x):\n",
        "        return self.conv(x)\n",
        "\n",
        "# U-Net Model\n",
        "class UNet(nn.Module):\n",
        "    def __init__(self, in_channels=5, out_channels=1, use_adaptive=False):\n",
        "        super(UNet, self).__init__()\n",
        "        self.use_adaptive = use_adaptive\n",
        "\n",
        "        if use_adaptive:\n",
        "            # First process the irregular input\n",
        "            self.input_processor = nn.Sequential(\n",
        "                nn.Conv2d(5, 16, kernel_size=3, padding=1),\n",
        "                nn.ReLU(inplace=True),\n",
        "                nn.Conv2d(16, 32, kernel_size=3, padding=1),\n",
        "                nn.ReLU(inplace=True)\n",
        "            )\n",
        "            # Input will be (5, 32, 313), output will be (32, 32, 313)\n",
        "            in_channels = 32\n",
        "\n",
        "        # Encoder\n",
        "        self.enc1 = DoubleConv(in_channels, 64)\n",
        "        self.pool1 = nn.MaxPool2d(2)\n",
        "        self.enc2 = DoubleConv(64, 128)\n",
        "        self.pool2 = nn.MaxPool2d(2)\n",
        "        self.enc3 = DoubleConv(128, 256)\n",
        "        self.pool3 = nn.MaxPool2d(2)\n",
        "        self.enc4 = DoubleConv(256, 512)\n",
        "        self.pool4 = nn.MaxPool2d(2)\n",
        "\n",
        "        # Bottleneck with attention\n",
        "        self.bottleneck = DoubleConv(512, 1024)\n",
        "        self.attention = AttentionBlock(1024)\n",
        "\n",
        "        # Decoder\n",
        "        self.up4 = nn.ConvTranspose2d(1024, 512, 2, stride=2)\n",
        "        self.dec4 = DoubleConv(1024, 512)\n",
        "        self.up3 = nn.ConvTranspose2d(512, 256, 2, stride=2)\n",
        "        self.dec3 = DoubleConv(512, 256)\n",
        "        self.up2 = nn.ConvTranspose2d(256, 128, 2, stride=2)\n",
        "        self.dec2 = DoubleConv(256, 128)\n",
        "        self.up1 = nn.ConvTranspose2d(128, 64, 2, stride=2)\n",
        "        self.dec1 = DoubleConv(128, 64)\n",
        "\n",
        "        # Final output\n",
        "        self.final_conv = nn.Conv2d(64, out_channels, 1)\n",
        "\n",
        "        if use_adaptive:\n",
        "            # Final upsampling to reach (300, 1259)\n",
        "            self.final_upsample = nn.Sequential(\n",
        "                nn.ConvTranspose2d(1, 1, kernel_size=4, stride=2, padding=1),\n",
        "                nn.ReLU(inplace=True)\n",
        "            )\n",
        "\n",
        "    def forward(self, x):\n",
        "        if self.use_adaptive:\n",
        "            # Process irregular input first\n",
        "            x = self.input_processor(x)  # (batch, 32, 32, 313)\n",
        "\n",
        "        # Encoder\n",
        "        e1 = self.enc1(x)\n",
        "        e2 = self.enc2(self.pool1(e1))\n",
        "        e3 = self.enc3(self.pool2(e2))\n",
        "        e4 = self.enc4(self.pool3(e3))\n",
        "\n",
        "        # Bottleneck\n",
        "        b = self.bottleneck(self.pool4(e4))\n",
        "        b = self.attention(b)\n",
        "\n",
        "        # Decoder with skip connections\n",
        "        d4 = self.up4(b)\n",
        "        d4 = match_tensor_size(d4, e4)\n",
        "        d4 = torch.cat([d4, e4], dim=1)\n",
        "        d4 = self.dec4(d4)\n",
        "\n",
        "        d3 = self.up3(d4)\n",
        "        d3 = match_tensor_size(d3, e3)\n",
        "        d3 = torch.cat([d3, e3], dim=1)\n",
        "        d3 = self.dec3(d3)\n",
        "\n",
        "        d2 = self.up2(d3)\n",
        "        d2 = match_tensor_size(d2, e2)\n",
        "        d2 = torch.cat([d2, e2], dim=1)\n",
        "        d2 = self.dec2(d2)\n",
        "\n",
        "        d1 = self.up1(d2)\n",
        "        d1 = match_tensor_size(d1, e1)\n",
        "        d1 = torch.cat([d1, e1], dim=1)\n",
        "        d1 = self.dec1(d1)\n",
        "\n",
        "        # Final output\n",
        "        output = self.final_conv(d1)\n",
        "\n",
        "        if self.use_adaptive:\n",
        "            # Upsample to final target size (300, 1259)\n",
        "            output = F.interpolate(output, size=(300, 1259), mode='bilinear', align_corners=False)\n",
        "\n",
        "        return output"
      ],
      "metadata": {
        "id": "JoieEO_S5ASQ"
      },
      "execution_count": null,
      "outputs": []
    },
    {
      "cell_type": "code",
      "source": [
        "class KFoldCrossValidator:\n",
        "    def __init__(self, data_dir, result_dir, k_folds=5):\n",
        "        self.data_dir = Path(data_dir)\n",
        "        self.result_dir = Path(result_dir)\n",
        "        self.k_folds = k_folds\n",
        "        self.fold_results = []\n",
        "        self.best_models = []\n",
        "\n",
        "        # Create results directory\n",
        "        self.result_dir.mkdir(parents=True, exist_ok=True)\n",
        "\n",
        "    def create_data_splits(self, dataset_size=2000):\n",
        "        \"\"\"Create K-fold splits from training data indices\"\"\"\n",
        "        indices = np.arange(1, dataset_size + 1)  # 1 to 2000 for TrainingData_<i>\n",
        "        kfold = KFold(n_splits=self.k_folds, shuffle=True, random_state=42)\n",
        "\n",
        "        splits = []\n",
        "        for fold, (train_idx, val_idx) in enumerate(kfold.split(indices)):\n",
        "            # Convert back to sample indices (1-based)\n",
        "            train_samples = indices[train_idx]\n",
        "            val_samples = indices[val_idx]\n",
        "\n",
        "            splits.append({\n",
        "                'fold': fold,\n",
        "                'train_indices': train_samples,\n",
        "                'val_indices': val_samples,\n",
        "                'train_size': len(train_samples),\n",
        "                'val_size': len(val_samples)\n",
        "            })\n",
        "            print(f\"Fold {fold}: Train={len(train_samples)}, Val={len(val_samples)}\")\n",
        "\n",
        "        return splits\n",
        "\n",
        "    def train_single_fold(self, fold_info, batch_size=8, num_epochs=50, learning_rate=LEARNING_RATE):\n",
        "        \"\"\"Train a single fold from scratch using your training function style\"\"\"\n",
        "        fold_num = fold_info['fold']\n",
        "        print(f\"\\n=== Training Fold {fold_num} ===\")\n",
        "\n",
        "        # Create fresh model instance\n",
        "        model = UNet(in_channels=5, out_channels=1, use_adaptive=USE_ADAPTIVE_MODEL)\n",
        "        model.to(DEVICE)\n",
        "\n",
        "        # Create dataset and data loaders using your dataset class\n",
        "        train_dataset = SeismicDataset(self.data_dir, fold_info['train_indices'], use_adaptive=USE_ADAPTIVE_MODEL)\n",
        "        val_dataset = SeismicDataset(self.data_dir, fold_info['val_indices'], use_adaptive=USE_ADAPTIVE_MODEL)\n",
        "\n",
        "        train_loader = DataLoader(\n",
        "            train_dataset,\n",
        "            batch_size=batch_size,\n",
        "            shuffle=True,\n",
        "            num_workers=2,\n",
        "            pin_memory=True\n",
        "        )\n",
        "        val_loader = DataLoader(\n",
        "            val_dataset,\n",
        "            batch_size=batch_size,\n",
        "            shuffle=False,\n",
        "            num_workers=2,\n",
        "            pin_memory=True\n",
        "        )\n",
        "\n",
        "        # Setup training (matching your style)\n",
        "        optimizer = optim.Adam(model.parameters(), lr=learning_rate)\n",
        "        scheduler = optim.lr_scheduler.ReduceLROnPlateau(optimizer, mode='min', patience=5, factor=0.5)\n",
        "\n",
        "        # Training tracking\n",
        "        train_losses = []\n",
        "        val_losses = []\n",
        "        best_val_loss = float('inf')\n",
        "        best_model_path = self.result_dir / f'best_model_fold_{fold_num}.pth'\n",
        "\n",
        "        for epoch in range(num_epochs):\n",
        "            # Training phase (matching your debug style)\n",
        "            model.train()\n",
        "            train_loss = 0.0\n",
        "            train_progress = tqdm(train_loader, desc=f'Fold {fold_num} Epoch {epoch+1}/{num_epochs} [Train]')\n",
        "\n",
        "            for batch_idx, (inputs, targets) in enumerate(train_progress):\n",
        "                try:\n",
        "                    # Debug for first few batches\n",
        "                    if DEBUG_ACTIVE and batch_idx < 3:\n",
        "                        print(f\"\\n*** DEBUG Fold {fold_num} Batch {batch_idx}: Input shape: {inputs.shape}, Target shape: {targets.shape} ***\\n\")\n",
        "                        if torch.cuda.is_available():\n",
        "                            print(f\"*** DEBUG: GPU memory before forward: {torch.cuda.memory_allocated()/1e9:.2f}GB ***\\n\")\n",
        "\n",
        "                    if DEBUG_ACTIVE and fold_num != 0:\n",
        "                      # Check if data loading is the issue\n",
        "                      print(f\"\\n*** DEBUG: Batch {batch_idx} - Data loaded successfully ***\")\n",
        "\n",
        "                    inputs, targets = inputs.to(DEVICE), targets.to(DEVICE)\n",
        "                    targets = targets.unsqueeze(1)  # Add channel dimension\n",
        "                    if DEBUG_ACTIVE and fold_num != 0:\n",
        "                      print(f\"*** DEBUG: Batch {batch_idx} - Data moved to GPU ***\")\n",
        "\n",
        "                    optimizer.zero_grad()\n",
        "                    if DEBUG_ACTIVE and fold_num != 0 :\n",
        "                       print(f\"*** DEBUG: Batch {batch_idx} - Optimizer zeroed ***\")\n",
        "\n",
        "                    outputs = model(inputs)\n",
        "                    if DEBUG_ACTIVE and fold_num != 0:\n",
        "                       print(f\"*** DEBUG: Batch {batch_idx} - Forward pass complete ***\")\n",
        "\n",
        "                    loss = mape_loss(outputs, targets)\n",
        "                    if DEBUG_ACTIVE and fold_num != 0:\n",
        "                       print(f\"*** DEBUG: Batch {batch_idx} - Loss calculated: {loss.item():.4f} ***\")\n",
        "\n",
        "                    loss.backward()\n",
        "                    if DEBUG_ACTIVE and fold_num != 0:\n",
        "                       print(f\"*** DEBUG: Batch {batch_idx} - Backward pass complete ***\")\n",
        "\n",
        "                    optimizer.step()\n",
        "                    if DEBUG_ACTIVE and fold_num != 0:\n",
        "                      print(f\"*** DEBUG: Batch {batch_idx} - Optimizer step complete ***\")\n",
        "\n",
        "                    train_loss += loss.item()\n",
        "                    train_progress.set_postfix({'Loss': f'{loss.item():.4f}'})\n",
        "\n",
        "                    # Debug progress\n",
        "                    if batch_idx % 10 == 0:\n",
        "                      torch.cuda.empty_cache()\n",
        "                      print(f\"*** DEBUG: Batch {batch_idx} COMPLETED - Memory cleared ***\")\n",
        "\n",
        "                except Exception as e:\n",
        "                    print(f\"*** ERROR in Fold {fold_num} batch {batch_idx}: {str(e)} ***\")\n",
        "                    raise e\n",
        "\n",
        "            avg_train_loss = train_loss / len(train_loader)\n",
        "            train_losses.append(avg_train_loss)\n",
        "\n",
        "            # Validation phase\n",
        "            model.eval()\n",
        "            val_loss = 0.0\n",
        "            val_batch_count = 0\n",
        "\n",
        "            with torch.no_grad():\n",
        "                val_progress = tqdm(val_loader, desc=f'Fold {fold_num} Epoch {epoch+1}/{num_epochs} [Val]')\n",
        "\n",
        "                for batch_idx, (inputs, targets) in enumerate(val_progress):\n",
        "                    try:\n",
        "                        if DEBUG_ACTIVE and fold_num != 0:\n",
        "                          print(f\"\\n*** DEBUG: Validation batch {batch_idx} starting ***\")\n",
        "\n",
        "                        inputs, targets = inputs.to(DEVICE), targets.to(DEVICE)\n",
        "                        targets = targets.unsqueeze(1)\n",
        "\n",
        "                        outputs = model(inputs)\n",
        "                        loss = mape_loss(outputs, targets)\n",
        "                        val_loss += loss.item()\n",
        "                        val_batch_count += 1\n",
        "                        val_progress.set_postfix({'Loss': f'{loss.item():.4f}'})\n",
        "\n",
        "                        if DEBUG_ACTIVE and fold_num != 0:\n",
        "                          print(f\"*** DEBUG: Validation batch {batch_idx} completed ***\")\n",
        "\n",
        "                        if batch_idx % 5 == 0:\n",
        "                          torch.cuda.empty_cache()\n",
        "\n",
        "                    except Exception as e:\n",
        "                        print(f\"*** ERROR in Fold {fold_num} validation batch {batch_idx}: {str(e)} ***\")\n",
        "                        raise e\n",
        "\n",
        "            avg_val_loss = val_loss / val_batch_count if val_batch_count > 0 else float('inf')\n",
        "            val_losses.append(avg_val_loss)\n",
        "\n",
        "            scheduler.step(avg_val_loss)\n",
        "\n",
        "            print(f'Fold {fold_num} Epoch {epoch+1}/{num_epochs}:')\n",
        "            print(f'  Train MAPE: {avg_train_loss:.4f}%')\n",
        "            print(f'  Val MAPE: {avg_val_loss:.4f}%')\n",
        "            print(f'  LR: {optimizer.param_groups[0][\"lr\"]:.6f}')\n",
        "            print('-' * 50)\n",
        "\n",
        "            # Save best model\n",
        "            if avg_val_loss < best_val_loss:\n",
        "                best_val_loss = avg_val_loss\n",
        "                torch.save({\n",
        "                    'model_state_dict': model.state_dict(),\n",
        "                    'optimizer_state_dict': optimizer.state_dict(),\n",
        "                    'epoch': epoch,\n",
        "                    'val_loss': best_val_loss,\n",
        "                    'fold': fold_num\n",
        "                }, best_model_path)\n",
        "                print(f'Fold {fold_num}: New best model saved with Val MAPE = {best_val_loss:.4f}%')\n",
        "\n",
        "            # Early stopping\n",
        "            if optimizer.param_groups[0]['lr'] < 1e-7:\n",
        "                print(f'Fold {fold_num}: Early stopping due to low learning rate')\n",
        "                break\n",
        "\n",
        "        # Clean up GPU memory\n",
        "        del model, optimizer, scheduler\n",
        "        torch.cuda.empty_cache()\n",
        "        gc.collect()\n",
        "\n",
        "        return {\n",
        "            'fold': fold_num,\n",
        "            'best_val_loss': best_val_loss,\n",
        "            'train_losses': train_losses,\n",
        "            'val_losses': val_losses,\n",
        "            'model_path': best_model_path\n",
        "        }\n",
        "\n",
        "    def run_cross_validation(self, batch_size=8, num_epochs=50, learning_rate=1e-4):\n",
        "        \"\"\"Run complete K-fold cross-validation\"\"\"\n",
        "        print(f\"Starting {self.k_folds}-Fold Cross-Validation\")\n",
        "\n",
        "        # Create data splits\n",
        "        splits = self.create_data_splits()\n",
        "\n",
        "        # Train each fold\n",
        "        for fold_info in splits:\n",
        "            fold_result = self.train_single_fold(\n",
        "                fold_info,\n",
        "                batch_size=batch_size,\n",
        "                num_epochs=num_epochs,\n",
        "                learning_rate=learning_rate\n",
        "            )\n",
        "            self.fold_results.append(fold_result)\n",
        "\n",
        "            print(f\"Fold {fold_result['fold']} completed with Val MAPE: {fold_result['best_val_loss']:.4f}%\")\n",
        "\n",
        "        # Analyze results\n",
        "        self.analyze_cv_results()\n",
        "\n",
        "        return self.fold_results\n",
        "\n",
        "    def analyze_cv_results(self):\n",
        "        \"\"\"Analyze cross-validation results and identify best models\"\"\"\n",
        "        val_scores = [result['best_val_loss'] for result in self.fold_results]\n",
        "\n",
        "        mean_score = np.mean(val_scores)\n",
        "        std_score = np.std(val_scores)\n",
        "        best_fold = np.argmin(val_scores)\n",
        "\n",
        "        print(f\"\\n=== Cross-Validation Results ===\")\n",
        "        print(f\"Mean Val MAPE: {mean_score:.4f}% ± {std_score:.4f}%\")\n",
        "        print(f\"Best Fold: {best_fold} with Val MAPE: {val_scores[best_fold]:.4f}%\")\n",
        "        print(f\"Individual Fold Scores: {[f'{score:.4f}%' for score in val_scores]}\")\n",
        "\n",
        "        # Save results\n",
        "        results_file = self.result_dir / 'cv_results.txt'\n",
        "        with open(results_file, 'w') as f:\n",
        "            f.write(f\"K-Fold Cross-Validation Results (k={self.k_folds})\\n\")\n",
        "            f.write(f\"Mean Val MAPE: {mean_score:.4f}% ± {std_score:.4f}%\\n\")\n",
        "            f.write(f\"Best Fold: {best_fold} with Val MAPE: {val_scores[best_fold]:.4f}%\\n\")\n",
        "            for i, score in enumerate(val_scores):\n",
        "                f.write(f\"Fold {i}: {score:.4f}%\\n\")\n",
        "\n",
        "        return {\n",
        "            'mean_score': mean_score,\n",
        "            'std_score': std_score,\n",
        "            'best_fold': best_fold,\n",
        "            'best_score': val_scores[best_fold]\n",
        "        }\n",
        "\n",
        "    def create_ensemble_model(self, top_k=ENSEMBLE_SIZE):\n",
        "        \"\"\"Create ensemble from top k performing folds\"\"\"\n",
        "        # Sort folds by validation performance\n",
        "        sorted_folds = sorted(self.fold_results, key=lambda x: x['best_val_loss'])\n",
        "        top_folds = sorted_folds[:top_k]\n",
        "\n",
        "        print(f\"\\nCreating ensemble from top {top_k} folds:\")\n",
        "        for i, fold in enumerate(top_folds):\n",
        "            print(f\"  {i+1}. Fold {fold['fold']}: {fold['best_val_loss']:.4f}%\")\n",
        "\n",
        "        # Load top models\n",
        "        ensemble_models = []\n",
        "\n",
        "        for fold in top_folds:\n",
        "            model = UNet(in_channels=5, out_channels=1, use_adaptive=True)\n",
        "            checkpoint = torch.load(fold['model_path'], map_location=DEVICE)\n",
        "            model.load_state_dict(checkpoint['model_state_dict'])\n",
        "            model.to(DEVICE)\n",
        "            model.eval()\n",
        "            ensemble_models.append(model)\n",
        "\n",
        "        return ensemble_models, [fold['best_val_loss'] for fold in top_folds]\n",
        "\n",
        "    def create_all_folds_ensemble(self):\n",
        "        \"\"\"Create ensemble from ALL folds (for comparison)\"\"\"\n",
        "        print(f\"\\nCreating ensemble from ALL {len(self.fold_results)} folds:\")\n",
        "        for i, fold in enumerate(self.fold_results):\n",
        "            print(f\"  {i+1}. Fold {fold['fold']}: {fold['best_val_loss']:.4f}%\")\n",
        "\n",
        "        # Load ALL models\n",
        "        ensemble_models = []\n",
        "\n",
        "        for fold in self.fold_results:\n",
        "            model = UNet(in_channels=5, out_channels=1, use_adaptive=True)\n",
        "            checkpoint = torch.load(fold['model_path'], map_location=DEVICE)\n",
        "            model.load_state_dict(checkpoint['model_state_dict'])\n",
        "            model.to(DEVICE)\n",
        "            model.eval()\n",
        "            ensemble_models.append(model)\n",
        "\n",
        "        # Equal weights for simple averaging\n",
        "        equal_weights = [1.0] * len(self.fold_results)\n",
        "\n",
        "        return ensemble_models, equal_weights\n",
        "\n",
        "    def create_weighted_all_folds_ensemble(self):\n",
        "        \"\"\"Create ensemble from ALL folds with inverse-loss weighting\"\"\"\n",
        "        print(f\"\\nCreating WEIGHTED ensemble from ALL {len(self.fold_results)} folds:\")\n",
        "\n",
        "        # Load ALL models\n",
        "        ensemble_models = []\n",
        "        fold_losses = []\n",
        "\n",
        "        for fold in self.fold_results:\n",
        "            model = UNet(in_channels=5, out_channels=1, use_adaptive=True)\n",
        "            checkpoint = torch.load(fold['model_path'], map_location=DEVICE)\n",
        "            model.load_state_dict(checkpoint['model_state_dict'])\n",
        "            model.to(DEVICE)\n",
        "            model.eval()\n",
        "            ensemble_models.append(model)\n",
        "            fold_losses.append(fold['best_val_loss'])\n",
        "            print(f\"  Fold {fold['fold']}: {fold['best_val_loss']:.4f}%\")\n",
        "\n",
        "        return ensemble_models, fold_losses"
      ],
      "metadata": {
        "id": "JbBTyYOERg2F"
      },
      "execution_count": null,
      "outputs": []
    },
    {
      "cell_type": "code",
      "source": [
        "class TestInferencePipeline:\n",
        "    def __init__(self, test_dir):\n",
        "        self.test_dir = Path(test_dir)\n",
        "        self.device = DEVICE\n",
        "        self.receiver_files = [\n",
        "            'receiver_data_src_1.npy',\n",
        "            'receiver_data_src_75.npy',\n",
        "            'receiver_data_src_150.npy',\n",
        "            'receiver_data_src_225.npy',\n",
        "            'receiver_data_src_300.npy'\n",
        "        ]\n",
        "\n",
        "    def load_test_sample(self, sample_id):\n",
        "        \"\"\"Load a single test sample (5 receiver files) - matching your preprocessing exactly\"\"\"\n",
        "        sample_dir = self.test_dir / f\"TestData_{sample_id}\"\n",
        "\n",
        "        # Load the 5 receiver files\n",
        "        receiver_data = []\n",
        "        for file_name in self.receiver_files:\n",
        "            file_path = sample_dir / file_name\n",
        "            if not file_path.exists():\n",
        "                raise FileNotFoundError(f\"Missing file: {file_path}\")\n",
        "\n",
        "            data = np.load(file_path).astype(np.float32)  # (10001, 31)\n",
        "            receiver_data.append(data)\n",
        "\n",
        "        # Apply EXACT same preprocessing as your SeismicDataset adaptive processing\n",
        "        processed_inputs = []\n",
        "        for data in receiver_data:\n",
        "            # 1D conv + maxpool simulation using numpy\n",
        "            # Downsample from 10001 to ~313 (factor of ~32)\n",
        "            downsampled = data[::32, :]  # (313, 31)\n",
        "\n",
        "            # Zero pad from 31 to 32 channels\n",
        "            if downsampled.shape[1] == 31:\n",
        "                padded = np.pad(downsampled, ((0, 0), (0, 1)), mode='constant')  # (313, 32)\n",
        "            else:\n",
        "                padded = downsampled\n",
        "\n",
        "            # Reshape to make it more compact 2D\n",
        "            # We'll treat this as (313, 32) for now and let the model handle it\n",
        "            processed_inputs.append(padded.T)  # (32, 313) for easier processing\n",
        "\n",
        "        # Stack all 5 processed inputs\n",
        "        input_tensor = np.stack(processed_inputs, axis=0)  # (5, 32, 313)\n",
        "\n",
        "        return torch.from_numpy(input_tensor)\n",
        "\n",
        "    def predict_single_model(self, model, input_tensor):\n",
        "        \"\"\"Generate prediction using a single model\"\"\"\n",
        "        model.eval()\n",
        "        with torch.no_grad():\n",
        "            if len(input_tensor.shape) == 3:\n",
        "                input_tensor = input_tensor.unsqueeze(0)  # Add batch dimension\n",
        "\n",
        "            input_tensor = input_tensor.to(self.device, non_blocking=True)\n",
        "            prediction = model(input_tensor)\n",
        "\n",
        "            # Ensure output is float64 and correct shape\n",
        "            prediction = prediction.cpu().numpy().astype(np.float64)\n",
        "\n",
        "            # Remove batch dimension and verify shape\n",
        "            prediction = prediction.squeeze()\n",
        "            if prediction.shape != (300, 1259):\n",
        "                raise ValueError(f\"Prediction shape {prediction.shape} doesn't match required (300, 1259)\")\n",
        "\n",
        "            return prediction\n",
        "\n",
        "    def predict_ensemble(self, models, weights, input_tensor):\n",
        "        \"\"\"Generate ensemble prediction with weighted averaging\"\"\"\n",
        "        predictions = []\n",
        "\n",
        "        for model in models:\n",
        "            pred = self.predict_single_model(model, input_tensor)\n",
        "            predictions.append(pred)\n",
        "\n",
        "        # Handle different weight types\n",
        "        if all(w == 1.0 for w in weights):\n",
        "            # Simple averaging (all weights are 1.0)\n",
        "            ensemble_pred = np.mean(predictions, axis=0)\n",
        "        else:\n",
        "            # Weighted average (using inverse loss as weights)\n",
        "            ensemble_pred = np.zeros_like(predictions[0])\n",
        "            # Convert MAPE losses to weights (lower loss = higher weight)\n",
        "            inv_weights = [1.0 / (w + 1e-8) for w in weights]\n",
        "            total_weight = sum(inv_weights)\n",
        "\n",
        "            for pred, weight in zip(predictions, inv_weights):\n",
        "                ensemble_pred += pred * (weight / total_weight)\n",
        "\n",
        "        return ensemble_pred.astype(np.float64)\n",
        "\n",
        "    def generate_submission(self, model_or_ensemble, output_path, batch_size=4, weights=None):\n",
        "        \"\"\"Generate complete test submission file\"\"\"\n",
        "        print(f\"Generating test predictions for TestData_1 to TestData_150...\")\n",
        "\n",
        "        predictions = {}\n",
        "\n",
        "        # Determine if single model or ensemble\n",
        "        is_ensemble = isinstance(model_or_ensemble, list)\n",
        "        if is_ensemble and weights is None:\n",
        "            weights = [1.0] * len(model_or_ensemble)  # Equal weights if not provided\n",
        "\n",
        "        # Process samples individually (easier for debugging)\n",
        "        for sample_id in tqdm(range(1, 151), desc=\"Processing test samples\"):\n",
        "            try:\n",
        "                # Load and preprocess single sample\n",
        "                sample_data = self.load_test_sample(sample_id)\n",
        "\n",
        "                # Generate prediction\n",
        "                if is_ensemble:\n",
        "                    pred = self.predict_ensemble(model_or_ensemble, weights, sample_data)\n",
        "                else:\n",
        "                    pred = self.predict_single_model(model_or_ensemble, sample_data)\n",
        "\n",
        "                # Store with correct naming convention\n",
        "                predictions[f\"TestData_{sample_id}\"] = pred\n",
        "\n",
        "            except Exception as e:\n",
        "                print(f\"Error processing TestData_{sample_id}: {e}\")\n",
        "                continue\n",
        "\n",
        "        # Save submission file\n",
        "        output_path = Path(output_path)\n",
        "        np.savez_compressed(output_path, **predictions)\n",
        "\n",
        "        print(f\"Submission file saved: {output_path}\")\n",
        "        print(f\"Generated predictions for {len(predictions)} test samples\")\n",
        "\n",
        "        # Verify submission format\n",
        "        self.verify_submission(output_path)\n",
        "\n",
        "        return predictions\n",
        "\n",
        "    def verify_submission(self, submission_path):\n",
        "        \"\"\"Verify submission file format\"\"\"\n",
        "        data = np.load(submission_path)\n",
        "\n",
        "        print(f\"\\n=== Submission Verification ===\")\n",
        "        print(f\"Total samples: {len(data.files)}\")\n",
        "\n",
        "        # Check a few samples\n",
        "        for i, key in enumerate(sorted(data.files)[:5]):\n",
        "            pred = data[key]\n",
        "            print(f\"  {key}: shape={pred.shape}, dtype={pred.dtype}\")\n",
        "\n",
        "            # Verify requirements\n",
        "            assert pred.shape == (300, 1259), f\"Wrong shape for {key}: {pred.shape}\"\n",
        "            assert pred.dtype == np.float64, f\"Wrong dtype for {key}: {pred.dtype}\"\n",
        "\n",
        "        print(\"✓ Submission format verified!\")"
      ],
      "metadata": {
        "id": "-drFAIIQRpHo"
      },
      "execution_count": null,
      "outputs": []
    },
    {
      "cell_type": "code",
      "source": [
        "# Helper function to match tensor sizes for skip connections\n",
        "def match_tensor_size(tensor1, tensor2):\n",
        "    \"\"\"Match the spatial dimensions of tensor1 to tensor2 by cropping or padding.\"\"\"\n",
        "    _, _, h1, w1 = tensor1.shape\n",
        "    _, _, h2, w2 = tensor2.shape\n",
        "\n",
        "    # Calculate differences\n",
        "    dh = h2 - h1\n",
        "    dw = w2 - w1\n",
        "\n",
        "    if dh > 0 or dw > 0:\n",
        "        # Pad tensor1 if it's smaller\n",
        "        pad_h = max(0, dh)\n",
        "        pad_w = max(0, dw)\n",
        "        tensor1 = F.pad(tensor1, (0, pad_w, 0, pad_h))\n",
        "    elif dh < 0 or dw < 0:\n",
        "        # Crop tensor1 if it's larger\n",
        "        tensor1 = tensor1[:, :, :h2, :w2]\n",
        "\n",
        "    return tensor1\n",
        "\n",
        "# MAPE Loss Function\n",
        "def mape_loss(predictions, targets, epsilon=1e-8):\n",
        "    targets_safe = torch.clamp(torch.abs(targets), min=epsilon)\n",
        "    return torch.mean(torch.abs((targets - predictions) / targets_safe)) * 100\n",
        "\n",
        "# Main execution functions\n",
        "def run_kfold_cv(data_dir, result_dir, k_folds=K_FOLDS):\n",
        "    \"\"\"Run K-fold cross-validation\"\"\"\n",
        "    cv = KFoldCrossValidator(\n",
        "        data_dir=data_dir,\n",
        "        result_dir=result_dir,\n",
        "        k_folds=k_folds\n",
        "    )\n",
        "\n",
        "    # Run cross-validation with Phase 1 settings\n",
        "    fold_results = cv.run_cross_validation(\n",
        "        batch_size=BATCH_SIZE,\n",
        "        num_epochs=NUM_EPOCHS,\n",
        "        learning_rate=LEARNING_RATE\n",
        "    )\n",
        "\n",
        "    # Create ensemble from top folds\n",
        "    ensemble_models, ensemble_weights = cv.create_ensemble_model(top_k=ENSEMBLE_SIZE)\n",
        "\n",
        "    return cv, ensemble_models, ensemble_weights\n",
        "\n",
        "def generate_test_submission(test_dir, models, weights, output_path):\n",
        "\n",
        "    \"\"\"Generate test submission using ensemble\"\"\"\n",
        "    pipeline = TestInferencePipeline(test_dir)\n",
        "\n",
        "    predictions = pipeline.generate_submission(\n",
        "        model_or_ensemble=models,\n",
        "        output_path=output_path,\n",
        "        weights=weights\n",
        "    )\n",
        "\n",
        "    return predictions"
      ],
      "metadata": {
        "id": "zyL109Cu5JAw"
      },
      "execution_count": null,
      "outputs": []
    },
    {
      "cell_type": "code",
      "source": [
        "# Main execution ADAPTIVE K-Fold\n",
        "if __name__ == \"__main__\":\n",
        "\n",
        "    # Set data directory\n",
        "    from google.colab import drive\n",
        "    drive.mount('/content/drive')\n",
        "    data_dir = Path('/content/drive/MyDrive/ThinkOnward/Data/Train')  # Adjust path as needed\n",
        "    result_dir= Path('/content/drive/MyDrive/ThinkOnward/Result/Phase2a')\n",
        "    test_dir = Path('/content/drive/MyDrive/ThinkOnward/Data/Test')\n",
        "\n",
        "    print(\"=== Phase 2a: K-Fold CV + Test Inference ===\")\n",
        "\n",
        "    # Step 1: Run K-Fold Cross-Validation\n",
        "    print(\"Step 1: Running K-Fold Cross-Validation...\")\n",
        "    cv, ensemble_models, ensemble_weights = run_kfold_cv(\n",
        "        data_dir=data_dir,\n",
        "        result_dir=result_dir,\n",
        "        k_folds=K_FOLDS\n",
        "    )\n",
        "\n",
        "     # Step 2: Create and test ALL ensemble approaches\n",
        "    print(\"\\n\" + \"=\"*60)\n",
        "    print(\"Step 2: Comparing Different Ensemble Strategies\")\n",
        "    print(\"=\"*60)\n",
        "\n",
        "    # Ensemble 1: Top 3 folds (current approach)\n",
        "    print(\"\\n🏆 Ensemble 1: Top 3 Folds (Weighted)\")\n",
        "    top3_models, top3_weights = cv.create_ensemble_model(top_k=3)\n",
        "\n",
        "    # Ensemble 2: All 5 folds (simple averaging)\n",
        "    print(\"\\n📊 Ensemble 2: All 5 Folds (Simple Average)\")\n",
        "    all5_models, all5_weights = cv.create_all_folds_ensemble()\n",
        "\n",
        "    # Ensemble 3: All 5 folds (weighted averaging)\n",
        "    print(\"\\n⚖️ Ensemble 3: All 5 Folds (Weighted Average)\")\n",
        "    all5_weighted_models, all5_weighted_weights = cv.create_weighted_all_folds_ensemble()\n",
        "\n",
        "    # Step 3: Generate submissions for all approaches\n",
        "    print(\"\\n\" + \"=\"*60)\n",
        "    print(\"Step 3: Generating Test Submissions\")\n",
        "    print(\"=\"*60)\n",
        "\n",
        "    # Submission 1: Top 3 weighted\n",
        "    print(\"\\n🔄 Generating Top 3 Ensemble submission...\")\n",
        "    submission1_path = result_dir / 'submission_top3_weighted.npz'\n",
        "    predictions1 = generate_test_submission(\n",
        "        test_dir=test_dir,\n",
        "        models=top3_models,\n",
        "        weights=top3_weights,\n",
        "        output_path=submission1_path\n",
        "    )\n",
        "\n",
        "    # Submission 2: All 5 simple average\n",
        "    print(\"\\n🔄 Generating All 5 Simple Average submission...\")\n",
        "    submission2_path = result_dir / 'submission_all5_simple.npz'\n",
        "    predictions2 = generate_test_submission(\n",
        "        test_dir=test_dir,\n",
        "        models=all5_models,\n",
        "        weights=all5_weights,  # Equal weights\n",
        "        output_path=submission2_path\n",
        "    )\n",
        "\n",
        "    # Submission 3: All 5 weighted average\n",
        "    print(\"\\n🔄 Generating All 5 Weighted Average submission...\")\n",
        "    submission3_path = result_dir / 'submission_all5_weighted.npz'\n",
        "    predictions3 = generate_test_submission(\n",
        "        test_dir=test_dir,\n",
        "        models=all5_weighted_models,\n",
        "        weights=all5_weighted_weights,\n",
        "        output_path=submission3_path\n",
        "    )\n",
        "\n",
        "    # Step 4: Best single model (for comparison)\n",
        "    print(\"\\n🏅 Generating Best Single Model submission...\")\n",
        "    best_fold_idx = min(range(len(cv.fold_results)), key=lambda i: cv.fold_results[i]['best_val_loss'])\n",
        "    best_model_path = cv.fold_results[best_fold_idx]['model_path']\n",
        "\n",
        "    best_model = UNet(in_channels=5, out_channels=1, use_adaptive=True)\n",
        "    checkpoint = torch.load(best_model_path, map_location=DEVICE)\n",
        "    best_model.load_state_dict(checkpoint['model_state_dict'])\n",
        "    best_model.to(DEVICE)\n",
        "    best_model.eval()\n",
        "\n",
        "    single_submission_path = result_dir / 'submission_single_best.npz'\n",
        "    single_predictions = generate_test_submission(\n",
        "        test_dir=test_dir,\n",
        "        models=best_model,\n",
        "        weights=None,\n",
        "        output_path=single_submission_path\n",
        "    )\n",
        "\n",
        "    # Step 5: Summary\n",
        "    print(\"\\n\" + \"=\"*60)\n",
        "    print(\"🎯 ENSEMBLE COMPARISON SUMMARY\")\n",
        "    print(\"=\"*60)\n",
        "    print(f\"📁 Results saved to: {result_dir}\")\n",
        "    print(\"\\n📊 Cross-Validation Results:\")\n",
        "    cv.analyze_cv_results()\n",
        "    print(f\"\\n📋 Generated Submissions:\")\n",
        "    print(f\"   1. Top 3 Weighted:      {submission1_path}\")\n",
        "    print(f\"   2. All 5 Simple Avg:    {submission2_path}\")\n",
        "    print(f\"   3. All 5 Weighted Avg:  {submission3_path}\")\n",
        "    print(f\"   4. Best Single Model:   {single_submission_path}\")\n",
        "\n",
        "    print(f\"\\n🧪 TEST ON LEADERBOARD:\")\n",
        "    print(f\"   • Upload all 4 submissions to see which ensemble strategy works best\")\n",
        "    print(f\"   • Expected ranking: Single > Top3 > All5_Weighted > All5_Simple\")\n",
        "    print(f\"   • If All5 beats Top3, then model diversity > individual quality\")"
      ],
      "metadata": {
        "id": "VT24w2NeS-l6",
        "colab": {
          "base_uri": "https://localhost:8080/"
        },
        "collapsed": true,
        "outputId": "9bf41e7a-edc1-456c-9cae-de3f9937cbaf"
      },
      "execution_count": null,
      "outputs": [
        {
          "output_type": "stream",
          "name": "stdout",
          "text": [
            "Drive already mounted at /content/drive; to attempt to forcibly remount, call drive.mount(\"/content/drive\", force_remount=True).\n",
            "=== Phase 2a: K-Fold CV + Test Inference ===\n",
            "Step 1: Running K-Fold Cross-Validation...\n",
            "Starting 5-Fold Cross-Validation\n",
            "Fold 0: Train=1600, Val=400\n",
            "Fold 1: Train=1600, Val=400\n",
            "Fold 2: Train=1600, Val=400\n",
            "Fold 3: Train=1600, Val=400\n",
            "Fold 4: Train=1600, Val=400\n",
            "\n",
            "=== Training Fold 0 ===\n"
          ]
        },
        {
          "output_type": "stream",
          "name": "stderr",
          "text": [
            "Fold 0 Epoch 1/30 [Train]:   1%|          | 1/100 [00:00<01:12,  1.37it/s, Loss=80.9175]"
          ]
        },
        {
          "output_type": "stream",
          "name": "stdout",
          "text": [
            "*** DEBUG: Batch 0 COMPLETED - Memory cleared ***\n"
          ]
        },
        {
          "output_type": "stream",
          "name": "stderr",
          "text": [
            "Fold 0 Epoch 1/30 [Train]:  11%|█         | 11/100 [00:03<00:25,  3.53it/s, Loss=66.9912]"
          ]
        },
        {
          "output_type": "stream",
          "name": "stdout",
          "text": [
            "*** DEBUG: Batch 10 COMPLETED - Memory cleared ***\n"
          ]
        },
        {
          "output_type": "stream",
          "name": "stderr",
          "text": [
            "Fold 0 Epoch 1/30 [Train]:  21%|██        | 21/100 [00:05<00:20,  3.86it/s, Loss=60.0837]"
          ]
        },
        {
          "output_type": "stream",
          "name": "stdout",
          "text": [
            "*** DEBUG: Batch 20 COMPLETED - Memory cleared ***\n"
          ]
        },
        {
          "output_type": "stream",
          "name": "stderr",
          "text": [
            "Fold 0 Epoch 1/30 [Train]:  31%|███       | 31/100 [00:08<00:17,  3.92it/s, Loss=56.9139]"
          ]
        },
        {
          "output_type": "stream",
          "name": "stdout",
          "text": [
            "*** DEBUG: Batch 30 COMPLETED - Memory cleared ***\n"
          ]
        },
        {
          "output_type": "stream",
          "name": "stderr",
          "text": [
            "Fold 0 Epoch 1/30 [Train]:  41%|████      | 41/100 [00:11<00:15,  3.77it/s, Loss=54.2247]"
          ]
        },
        {
          "output_type": "stream",
          "name": "stdout",
          "text": [
            "*** DEBUG: Batch 40 COMPLETED - Memory cleared ***\n"
          ]
        },
        {
          "output_type": "stream",
          "name": "stderr",
          "text": [
            "Fold 0 Epoch 1/30 [Train]:  51%|█████     | 51/100 [00:13<00:12,  3.79it/s, Loss=51.7962]"
          ]
        },
        {
          "output_type": "stream",
          "name": "stdout",
          "text": [
            "*** DEBUG: Batch 50 COMPLETED - Memory cleared ***\n"
          ]
        },
        {
          "output_type": "stream",
          "name": "stderr",
          "text": [
            "Fold 0 Epoch 1/30 [Train]:  61%|██████    | 61/100 [00:16<00:10,  3.81it/s, Loss=51.2552]"
          ]
        },
        {
          "output_type": "stream",
          "name": "stdout",
          "text": [
            "*** DEBUG: Batch 60 COMPLETED - Memory cleared ***\n"
          ]
        },
        {
          "output_type": "stream",
          "name": "stderr",
          "text": [
            "Fold 0 Epoch 1/30 [Train]:  71%|███████   | 71/100 [00:18<00:07,  3.95it/s, Loss=48.6143]"
          ]
        },
        {
          "output_type": "stream",
          "name": "stdout",
          "text": [
            "*** DEBUG: Batch 70 COMPLETED - Memory cleared ***\n"
          ]
        },
        {
          "output_type": "stream",
          "name": "stderr",
          "text": [
            "Fold 0 Epoch 1/30 [Train]:  81%|████████  | 81/100 [00:21<00:04,  3.92it/s, Loss=47.3683]"
          ]
        },
        {
          "output_type": "stream",
          "name": "stdout",
          "text": [
            "*** DEBUG: Batch 80 COMPLETED - Memory cleared ***\n"
          ]
        },
        {
          "output_type": "stream",
          "name": "stderr",
          "text": [
            "Fold 0 Epoch 1/30 [Train]:  91%|█████████ | 91/100 [00:24<00:02,  3.84it/s, Loss=47.0814]"
          ]
        },
        {
          "output_type": "stream",
          "name": "stdout",
          "text": [
            "*** DEBUG: Batch 90 COMPLETED - Memory cleared ***\n"
          ]
        },
        {
          "output_type": "stream",
          "name": "stderr",
          "text": [
            "Fold 0 Epoch 1/30 [Train]: 100%|██████████| 100/100 [00:26<00:00,  3.80it/s, Loss=44.6629]\n",
            "Fold 0 Epoch 1/30 [Val]: 100%|██████████| 25/25 [00:06<00:00,  3.66it/s, Loss=55.0031]\n"
          ]
        },
        {
          "output_type": "stream",
          "name": "stdout",
          "text": [
            "Fold 0 Epoch 1/30:\n",
            "  Train MAPE: 54.9375%\n",
            "  Val MAPE: 54.0758%\n",
            "  LR: 0.000100\n",
            "--------------------------------------------------\n",
            "Fold 0: New best model saved with Val MAPE = 54.0758%\n"
          ]
        },
        {
          "output_type": "stream",
          "name": "stderr",
          "text": [
            "Fold 0 Epoch 2/30 [Train]:   1%|          | 1/100 [00:01<02:56,  1.78s/it, Loss=46.4250]"
          ]
        },
        {
          "output_type": "stream",
          "name": "stdout",
          "text": [
            "*** DEBUG: Batch 0 COMPLETED - Memory cleared ***\n"
          ]
        },
        {
          "output_type": "stream",
          "name": "stderr",
          "text": [
            "Fold 0 Epoch 2/30 [Train]:  11%|█         | 11/100 [00:04<00:27,  3.25it/s, Loss=46.0573]"
          ]
        },
        {
          "output_type": "stream",
          "name": "stdout",
          "text": [
            "*** DEBUG: Batch 10 COMPLETED - Memory cleared ***\n"
          ]
        },
        {
          "output_type": "stream",
          "name": "stderr",
          "text": [
            "Fold 0 Epoch 2/30 [Train]:  21%|██        | 21/100 [00:07<00:21,  3.75it/s, Loss=43.2255]"
          ]
        },
        {
          "output_type": "stream",
          "name": "stdout",
          "text": [
            "*** DEBUG: Batch 20 COMPLETED - Memory cleared ***\n"
          ]
        },
        {
          "output_type": "stream",
          "name": "stderr",
          "text": [
            "Fold 0 Epoch 2/30 [Train]:  31%|███       | 31/100 [00:09<00:18,  3.75it/s, Loss=43.3576]"
          ]
        },
        {
          "output_type": "stream",
          "name": "stdout",
          "text": [
            "*** DEBUG: Batch 30 COMPLETED - Memory cleared ***\n"
          ]
        },
        {
          "output_type": "stream",
          "name": "stderr",
          "text": [
            "Fold 0 Epoch 2/30 [Train]:  41%|████      | 41/100 [00:19<00:47,  1.25it/s, Loss=43.3757]"
          ]
        },
        {
          "output_type": "stream",
          "name": "stdout",
          "text": [
            "*** DEBUG: Batch 40 COMPLETED - Memory cleared ***\n"
          ]
        },
        {
          "output_type": "stream",
          "name": "stderr",
          "text": [
            "Fold 0 Epoch 2/30 [Train]:  51%|█████     | 51/100 [00:22<00:18,  2.70it/s, Loss=40.0706]"
          ]
        },
        {
          "output_type": "stream",
          "name": "stdout",
          "text": [
            "*** DEBUG: Batch 50 COMPLETED - Memory cleared ***\n"
          ]
        },
        {
          "output_type": "stream",
          "name": "stderr",
          "text": [
            "Fold 0 Epoch 2/30 [Train]:  61%|██████    | 61/100 [00:25<00:11,  3.44it/s, Loss=40.0700]"
          ]
        },
        {
          "output_type": "stream",
          "name": "stdout",
          "text": [
            "*** DEBUG: Batch 60 COMPLETED - Memory cleared ***\n"
          ]
        },
        {
          "output_type": "stream",
          "name": "stderr",
          "text": [
            "Fold 0 Epoch 2/30 [Train]:  71%|███████   | 71/100 [00:27<00:08,  3.52it/s, Loss=39.3594]"
          ]
        },
        {
          "output_type": "stream",
          "name": "stdout",
          "text": [
            "*** DEBUG: Batch 70 COMPLETED - Memory cleared ***\n"
          ]
        },
        {
          "output_type": "stream",
          "name": "stderr",
          "text": [
            "Fold 0 Epoch 2/30 [Train]:  81%|████████  | 81/100 [00:30<00:05,  3.68it/s, Loss=38.4928]"
          ]
        },
        {
          "output_type": "stream",
          "name": "stdout",
          "text": [
            "*** DEBUG: Batch 80 COMPLETED - Memory cleared ***\n"
          ]
        },
        {
          "output_type": "stream",
          "name": "stderr",
          "text": [
            "Fold 0 Epoch 2/30 [Train]:  91%|█████████ | 91/100 [00:33<00:02,  3.92it/s, Loss=36.4929]"
          ]
        },
        {
          "output_type": "stream",
          "name": "stdout",
          "text": [
            "*** DEBUG: Batch 90 COMPLETED - Memory cleared ***\n"
          ]
        },
        {
          "output_type": "stream",
          "name": "stderr",
          "text": [
            "Fold 0 Epoch 2/30 [Train]: 100%|██████████| 100/100 [00:35<00:00,  2.82it/s, Loss=37.0265]\n",
            "Fold 0 Epoch 2/30 [Val]: 100%|██████████| 25/25 [00:06<00:00,  3.77it/s, Loss=32.1335]\n"
          ]
        },
        {
          "output_type": "stream",
          "name": "stdout",
          "text": [
            "Fold 0 Epoch 2/30:\n",
            "  Train MAPE: 41.2314%\n",
            "  Val MAPE: 31.3991%\n",
            "  LR: 0.000100\n",
            "--------------------------------------------------\n",
            "Fold 0: New best model saved with Val MAPE = 31.3991%\n"
          ]
        },
        {
          "output_type": "stream",
          "name": "stderr",
          "text": [
            "Fold 0 Epoch 3/30 [Train]:   1%|          | 1/100 [00:01<02:39,  1.61s/it, Loss=36.2895]"
          ]
        },
        {
          "output_type": "stream",
          "name": "stdout",
          "text": [
            "*** DEBUG: Batch 0 COMPLETED - Memory cleared ***\n"
          ]
        },
        {
          "output_type": "stream",
          "name": "stderr",
          "text": [
            "Fold 0 Epoch 3/30 [Train]:  11%|█         | 11/100 [00:04<00:25,  3.43it/s, Loss=34.4447]"
          ]
        },
        {
          "output_type": "stream",
          "name": "stdout",
          "text": [
            "*** DEBUG: Batch 10 COMPLETED - Memory cleared ***\n"
          ]
        },
        {
          "output_type": "stream",
          "name": "stderr",
          "text": [
            "Fold 0 Epoch 3/30 [Train]:  21%|██        | 21/100 [00:06<00:20,  3.81it/s, Loss=34.5365]"
          ]
        },
        {
          "output_type": "stream",
          "name": "stdout",
          "text": [
            "*** DEBUG: Batch 20 COMPLETED - Memory cleared ***\n"
          ]
        },
        {
          "output_type": "stream",
          "name": "stderr",
          "text": [
            "Fold 0 Epoch 3/30 [Train]:  31%|███       | 31/100 [00:16<01:34,  1.37s/it, Loss=33.3056]"
          ]
        },
        {
          "output_type": "stream",
          "name": "stdout",
          "text": [
            "*** DEBUG: Batch 30 COMPLETED - Memory cleared ***\n"
          ]
        },
        {
          "output_type": "stream",
          "name": "stderr",
          "text": [
            "Fold 0 Epoch 3/30 [Train]:  41%|████      | 41/100 [00:19<00:27,  2.17it/s, Loss=33.6121]"
          ]
        },
        {
          "output_type": "stream",
          "name": "stdout",
          "text": [
            "*** DEBUG: Batch 40 COMPLETED - Memory cleared ***\n"
          ]
        },
        {
          "output_type": "stream",
          "name": "stderr",
          "text": [
            "Fold 0 Epoch 3/30 [Train]:  51%|█████     | 51/100 [00:22<00:15,  3.24it/s, Loss=32.2336]"
          ]
        },
        {
          "output_type": "stream",
          "name": "stdout",
          "text": [
            "*** DEBUG: Batch 50 COMPLETED - Memory cleared ***\n"
          ]
        },
        {
          "output_type": "stream",
          "name": "stderr",
          "text": [
            "Fold 0 Epoch 3/30 [Train]:  61%|██████    | 61/100 [00:24<00:10,  3.67it/s, Loss=31.1342]"
          ]
        },
        {
          "output_type": "stream",
          "name": "stdout",
          "text": [
            "*** DEBUG: Batch 60 COMPLETED - Memory cleared ***\n"
          ]
        },
        {
          "output_type": "stream",
          "name": "stderr",
          "text": [
            "Fold 0 Epoch 3/30 [Train]:  71%|███████   | 71/100 [00:27<00:07,  3.83it/s, Loss=32.0213]"
          ]
        },
        {
          "output_type": "stream",
          "name": "stdout",
          "text": [
            "*** DEBUG: Batch 70 COMPLETED - Memory cleared ***\n"
          ]
        },
        {
          "output_type": "stream",
          "name": "stderr",
          "text": [
            "Fold 0 Epoch 3/30 [Train]:  81%|████████  | 81/100 [00:29<00:04,  3.99it/s, Loss=28.4467]"
          ]
        },
        {
          "output_type": "stream",
          "name": "stdout",
          "text": [
            "*** DEBUG: Batch 80 COMPLETED - Memory cleared ***\n"
          ]
        },
        {
          "output_type": "stream",
          "name": "stderr",
          "text": [
            "Fold 0 Epoch 3/30 [Train]:  91%|█████████ | 91/100 [00:32<00:02,  4.00it/s, Loss=27.6310]"
          ]
        },
        {
          "output_type": "stream",
          "name": "stdout",
          "text": [
            "*** DEBUG: Batch 90 COMPLETED - Memory cleared ***\n"
          ]
        },
        {
          "output_type": "stream",
          "name": "stderr",
          "text": [
            "Fold 0 Epoch 3/30 [Train]: 100%|██████████| 100/100 [00:34<00:00,  2.89it/s, Loss=28.4538]\n",
            "Fold 0 Epoch 3/30 [Val]: 100%|██████████| 25/25 [00:06<00:00,  3.87it/s, Loss=43.3100]\n"
          ]
        },
        {
          "output_type": "stream",
          "name": "stdout",
          "text": [
            "Fold 0 Epoch 3/30:\n",
            "  Train MAPE: 32.1255%\n",
            "  Val MAPE: 42.3386%\n",
            "  LR: 0.000100\n",
            "--------------------------------------------------\n"
          ]
        },
        {
          "output_type": "stream",
          "name": "stderr",
          "text": [
            "Fold 0 Epoch 4/30 [Train]:   1%|          | 1/100 [00:00<01:02,  1.57it/s, Loss=25.9705]"
          ]
        },
        {
          "output_type": "stream",
          "name": "stdout",
          "text": [
            "*** DEBUG: Batch 0 COMPLETED - Memory cleared ***\n"
          ]
        },
        {
          "output_type": "stream",
          "name": "stderr",
          "text": [
            "Fold 0 Epoch 4/30 [Train]:  11%|█         | 11/100 [00:03<00:24,  3.70it/s, Loss=26.5798]"
          ]
        },
        {
          "output_type": "stream",
          "name": "stdout",
          "text": [
            "*** DEBUG: Batch 10 COMPLETED - Memory cleared ***\n"
          ]
        },
        {
          "output_type": "stream",
          "name": "stderr",
          "text": [
            "Fold 0 Epoch 4/30 [Train]:  21%|██        | 21/100 [00:05<00:20,  3.79it/s, Loss=26.1889]"
          ]
        },
        {
          "output_type": "stream",
          "name": "stdout",
          "text": [
            "*** DEBUG: Batch 20 COMPLETED - Memory cleared ***\n"
          ]
        },
        {
          "output_type": "stream",
          "name": "stderr",
          "text": [
            "Fold 0 Epoch 4/30 [Train]:  31%|███       | 31/100 [00:08<00:17,  4.03it/s, Loss=25.6774]"
          ]
        },
        {
          "output_type": "stream",
          "name": "stdout",
          "text": [
            "*** DEBUG: Batch 30 COMPLETED - Memory cleared ***\n"
          ]
        },
        {
          "output_type": "stream",
          "name": "stderr",
          "text": [
            "Fold 0 Epoch 4/30 [Train]:  41%|████      | 41/100 [00:10<00:14,  3.99it/s, Loss=23.9107]"
          ]
        },
        {
          "output_type": "stream",
          "name": "stdout",
          "text": [
            "*** DEBUG: Batch 40 COMPLETED - Memory cleared ***\n"
          ]
        },
        {
          "output_type": "stream",
          "name": "stderr",
          "text": [
            "Fold 0 Epoch 4/30 [Train]:  51%|█████     | 51/100 [00:13<00:12,  3.90it/s, Loss=25.9540]"
          ]
        },
        {
          "output_type": "stream",
          "name": "stdout",
          "text": [
            "*** DEBUG: Batch 50 COMPLETED - Memory cleared ***\n"
          ]
        },
        {
          "output_type": "stream",
          "name": "stderr",
          "text": [
            "Fold 0 Epoch 4/30 [Train]:  61%|██████    | 61/100 [00:16<00:10,  3.68it/s, Loss=22.9706]"
          ]
        },
        {
          "output_type": "stream",
          "name": "stdout",
          "text": [
            "*** DEBUG: Batch 60 COMPLETED - Memory cleared ***\n"
          ]
        },
        {
          "output_type": "stream",
          "name": "stderr",
          "text": [
            "Fold 0 Epoch 4/30 [Train]:  71%|███████   | 71/100 [00:18<00:07,  3.80it/s, Loss=23.1662]"
          ]
        },
        {
          "output_type": "stream",
          "name": "stdout",
          "text": [
            "*** DEBUG: Batch 70 COMPLETED - Memory cleared ***\n"
          ]
        },
        {
          "output_type": "stream",
          "name": "stderr",
          "text": [
            "Fold 0 Epoch 4/30 [Train]:  81%|████████  | 81/100 [00:21<00:04,  3.81it/s, Loss=22.4324]"
          ]
        },
        {
          "output_type": "stream",
          "name": "stdout",
          "text": [
            "*** DEBUG: Batch 80 COMPLETED - Memory cleared ***\n"
          ]
        },
        {
          "output_type": "stream",
          "name": "stderr",
          "text": [
            "Fold 0 Epoch 4/30 [Train]:  91%|█████████ | 91/100 [00:23<00:02,  3.96it/s, Loss=19.1341]"
          ]
        },
        {
          "output_type": "stream",
          "name": "stdout",
          "text": [
            "*** DEBUG: Batch 90 COMPLETED - Memory cleared ***\n"
          ]
        },
        {
          "output_type": "stream",
          "name": "stderr",
          "text": [
            "Fold 0 Epoch 4/30 [Train]: 100%|██████████| 100/100 [00:25<00:00,  3.88it/s, Loss=20.8044]\n",
            "Fold 0 Epoch 4/30 [Val]: 100%|██████████| 25/25 [00:06<00:00,  3.73it/s, Loss=43.5152]\n"
          ]
        },
        {
          "output_type": "stream",
          "name": "stdout",
          "text": [
            "Fold 0 Epoch 4/30:\n",
            "  Train MAPE: 23.8406%\n",
            "  Val MAPE: 42.5198%\n",
            "  LR: 0.000100\n",
            "--------------------------------------------------\n"
          ]
        },
        {
          "output_type": "stream",
          "name": "stderr",
          "text": [
            "Fold 0 Epoch 5/30 [Train]:   1%|          | 1/100 [00:00<01:08,  1.44it/s, Loss=20.7760]"
          ]
        },
        {
          "output_type": "stream",
          "name": "stdout",
          "text": [
            "*** DEBUG: Batch 0 COMPLETED - Memory cleared ***\n"
          ]
        },
        {
          "output_type": "stream",
          "name": "stderr",
          "text": [
            "Fold 0 Epoch 5/30 [Train]:  11%|█         | 11/100 [00:03<00:25,  3.53it/s, Loss=19.6062]"
          ]
        },
        {
          "output_type": "stream",
          "name": "stdout",
          "text": [
            "*** DEBUG: Batch 10 COMPLETED - Memory cleared ***\n"
          ]
        },
        {
          "output_type": "stream",
          "name": "stderr",
          "text": [
            "Fold 0 Epoch 5/30 [Train]:  21%|██        | 21/100 [00:05<00:20,  3.85it/s, Loss=18.5034]"
          ]
        },
        {
          "output_type": "stream",
          "name": "stdout",
          "text": [
            "*** DEBUG: Batch 20 COMPLETED - Memory cleared ***\n"
          ]
        },
        {
          "output_type": "stream",
          "name": "stderr",
          "text": [
            "Fold 0 Epoch 5/30 [Train]:  31%|███       | 31/100 [00:08<00:17,  3.88it/s, Loss=17.5720]"
          ]
        },
        {
          "output_type": "stream",
          "name": "stdout",
          "text": [
            "*** DEBUG: Batch 30 COMPLETED - Memory cleared ***\n"
          ]
        },
        {
          "output_type": "stream",
          "name": "stderr",
          "text": [
            "Fold 0 Epoch 5/30 [Train]:  41%|████      | 41/100 [00:11<00:15,  3.70it/s, Loss=17.6923]"
          ]
        },
        {
          "output_type": "stream",
          "name": "stdout",
          "text": [
            "*** DEBUG: Batch 40 COMPLETED - Memory cleared ***\n"
          ]
        },
        {
          "output_type": "stream",
          "name": "stderr",
          "text": [
            "Fold 0 Epoch 5/30 [Train]:  51%|█████     | 51/100 [00:13<00:12,  3.85it/s, Loss=14.5701]"
          ]
        },
        {
          "output_type": "stream",
          "name": "stdout",
          "text": [
            "*** DEBUG: Batch 50 COMPLETED - Memory cleared ***\n"
          ]
        },
        {
          "output_type": "stream",
          "name": "stderr",
          "text": [
            "Fold 0 Epoch 5/30 [Train]:  61%|██████    | 61/100 [00:16<00:10,  3.84it/s, Loss=13.6398]"
          ]
        },
        {
          "output_type": "stream",
          "name": "stdout",
          "text": [
            "*** DEBUG: Batch 60 COMPLETED - Memory cleared ***\n"
          ]
        },
        {
          "output_type": "stream",
          "name": "stderr",
          "text": [
            "Fold 0 Epoch 5/30 [Train]:  71%|███████   | 71/100 [00:19<00:07,  3.92it/s, Loss=14.3749]"
          ]
        },
        {
          "output_type": "stream",
          "name": "stdout",
          "text": [
            "*** DEBUG: Batch 70 COMPLETED - Memory cleared ***\n"
          ]
        },
        {
          "output_type": "stream",
          "name": "stderr",
          "text": [
            "Fold 0 Epoch 5/30 [Train]:  81%|████████  | 81/100 [00:21<00:05,  3.76it/s, Loss=14.7343]"
          ]
        },
        {
          "output_type": "stream",
          "name": "stdout",
          "text": [
            "*** DEBUG: Batch 80 COMPLETED - Memory cleared ***\n"
          ]
        },
        {
          "output_type": "stream",
          "name": "stderr",
          "text": [
            "Fold 0 Epoch 5/30 [Train]:  91%|█████████ | 91/100 [00:24<00:02,  3.84it/s, Loss=13.7925]"
          ]
        },
        {
          "output_type": "stream",
          "name": "stdout",
          "text": [
            "*** DEBUG: Batch 90 COMPLETED - Memory cleared ***\n"
          ]
        },
        {
          "output_type": "stream",
          "name": "stderr",
          "text": [
            "Fold 0 Epoch 5/30 [Train]: 100%|██████████| 100/100 [00:26<00:00,  3.79it/s, Loss=12.5482]\n",
            "Fold 0 Epoch 5/30 [Val]: 100%|██████████| 25/25 [00:06<00:00,  3.91it/s, Loss=17.2912]\n"
          ]
        },
        {
          "output_type": "stream",
          "name": "stdout",
          "text": [
            "Fold 0 Epoch 5/30:\n",
            "  Train MAPE: 16.2494%\n",
            "  Val MAPE: 17.5452%\n",
            "  LR: 0.000100\n",
            "--------------------------------------------------\n",
            "Fold 0: New best model saved with Val MAPE = 17.5452%\n"
          ]
        },
        {
          "output_type": "stream",
          "name": "stderr",
          "text": [
            "Fold 0 Epoch 6/30 [Train]:   1%|          | 1/100 [00:01<02:56,  1.79s/it, Loss=12.2405]"
          ]
        },
        {
          "output_type": "stream",
          "name": "stdout",
          "text": [
            "*** DEBUG: Batch 0 COMPLETED - Memory cleared ***\n"
          ]
        },
        {
          "output_type": "stream",
          "name": "stderr",
          "text": [
            "Fold 0 Epoch 6/30 [Train]:  11%|█         | 11/100 [00:04<00:27,  3.28it/s, Loss=11.0156]"
          ]
        },
        {
          "output_type": "stream",
          "name": "stdout",
          "text": [
            "*** DEBUG: Batch 10 COMPLETED - Memory cleared ***\n"
          ]
        },
        {
          "output_type": "stream",
          "name": "stderr",
          "text": [
            "Fold 0 Epoch 6/30 [Train]:  21%|██        | 21/100 [00:06<00:20,  3.85it/s, Loss=11.8595]"
          ]
        },
        {
          "output_type": "stream",
          "name": "stdout",
          "text": [
            "*** DEBUG: Batch 20 COMPLETED - Memory cleared ***\n"
          ]
        },
        {
          "output_type": "stream",
          "name": "stderr",
          "text": [
            "Fold 0 Epoch 6/30 [Train]:  31%|███       | 31/100 [00:09<00:17,  3.92it/s, Loss=10.0035]"
          ]
        },
        {
          "output_type": "stream",
          "name": "stdout",
          "text": [
            "*** DEBUG: Batch 30 COMPLETED - Memory cleared ***\n"
          ]
        },
        {
          "output_type": "stream",
          "name": "stderr",
          "text": [
            "Fold 0 Epoch 6/30 [Train]:  41%|████      | 41/100 [00:19<00:47,  1.25it/s, Loss=10.3600]"
          ]
        },
        {
          "output_type": "stream",
          "name": "stdout",
          "text": [
            "*** DEBUG: Batch 40 COMPLETED - Memory cleared ***\n"
          ]
        },
        {
          "output_type": "stream",
          "name": "stderr",
          "text": [
            "Fold 0 Epoch 6/30 [Train]:  51%|█████     | 51/100 [00:22<00:17,  2.74it/s, Loss=10.8687]"
          ]
        },
        {
          "output_type": "stream",
          "name": "stdout",
          "text": [
            "*** DEBUG: Batch 50 COMPLETED - Memory cleared ***\n"
          ]
        },
        {
          "output_type": "stream",
          "name": "stderr",
          "text": [
            "Fold 0 Epoch 6/30 [Train]:  61%|██████    | 61/100 [00:24<00:11,  3.36it/s, Loss=9.1526]"
          ]
        },
        {
          "output_type": "stream",
          "name": "stdout",
          "text": [
            "*** DEBUG: Batch 60 COMPLETED - Memory cleared ***\n"
          ]
        },
        {
          "output_type": "stream",
          "name": "stderr",
          "text": [
            "Fold 0 Epoch 6/30 [Train]:  71%|███████   | 71/100 [00:27<00:08,  3.59it/s, Loss=8.2406]"
          ]
        },
        {
          "output_type": "stream",
          "name": "stdout",
          "text": [
            "*** DEBUG: Batch 70 COMPLETED - Memory cleared ***\n"
          ]
        },
        {
          "output_type": "stream",
          "name": "stderr",
          "text": [
            "Fold 0 Epoch 6/30 [Train]:  81%|████████  | 81/100 [00:30<00:05,  3.68it/s, Loss=7.9915]"
          ]
        },
        {
          "output_type": "stream",
          "name": "stdout",
          "text": [
            "*** DEBUG: Batch 80 COMPLETED - Memory cleared ***\n"
          ]
        },
        {
          "output_type": "stream",
          "name": "stderr",
          "text": [
            "Fold 0 Epoch 6/30 [Train]:  91%|█████████ | 91/100 [00:33<00:02,  3.72it/s, Loss=7.0034]"
          ]
        },
        {
          "output_type": "stream",
          "name": "stdout",
          "text": [
            "*** DEBUG: Batch 90 COMPLETED - Memory cleared ***\n"
          ]
        },
        {
          "output_type": "stream",
          "name": "stderr",
          "text": [
            "Fold 0 Epoch 6/30 [Train]: 100%|██████████| 100/100 [00:35<00:00,  2.84it/s, Loss=8.2218]\n",
            "Fold 0 Epoch 6/30 [Val]: 100%|██████████| 25/25 [00:06<00:00,  3.71it/s, Loss=11.2362]\n"
          ]
        },
        {
          "output_type": "stream",
          "name": "stdout",
          "text": [
            "Fold 0 Epoch 6/30:\n",
            "  Train MAPE: 9.6876%\n",
            "  Val MAPE: 11.4443%\n",
            "  LR: 0.000100\n",
            "--------------------------------------------------\n",
            "Fold 0: New best model saved with Val MAPE = 11.4443%\n"
          ]
        },
        {
          "output_type": "stream",
          "name": "stderr",
          "text": [
            "Fold 0 Epoch 7/30 [Train]:   1%|          | 1/100 [00:01<02:57,  1.79s/it, Loss=5.8512]"
          ]
        },
        {
          "output_type": "stream",
          "name": "stdout",
          "text": [
            "*** DEBUG: Batch 0 COMPLETED - Memory cleared ***\n"
          ]
        },
        {
          "output_type": "stream",
          "name": "stderr",
          "text": [
            "Fold 0 Epoch 7/30 [Train]:  11%|█         | 11/100 [00:04<00:26,  3.41it/s, Loss=6.1701]"
          ]
        },
        {
          "output_type": "stream",
          "name": "stdout",
          "text": [
            "*** DEBUG: Batch 10 COMPLETED - Memory cleared ***\n"
          ]
        },
        {
          "output_type": "stream",
          "name": "stderr",
          "text": [
            "Fold 0 Epoch 7/30 [Train]:  21%|██        | 21/100 [00:07<00:21,  3.66it/s, Loss=6.9802]"
          ]
        },
        {
          "output_type": "stream",
          "name": "stdout",
          "text": [
            "*** DEBUG: Batch 20 COMPLETED - Memory cleared ***\n"
          ]
        },
        {
          "output_type": "stream",
          "name": "stderr",
          "text": [
            "Fold 0 Epoch 7/30 [Train]:  31%|███       | 31/100 [00:16<01:11,  1.03s/it, Loss=6.4304]"
          ]
        },
        {
          "output_type": "stream",
          "name": "stdout",
          "text": [
            "*** DEBUG: Batch 30 COMPLETED - Memory cleared ***\n"
          ]
        },
        {
          "output_type": "stream",
          "name": "stderr",
          "text": [
            "Fold 0 Epoch 7/30 [Train]:  41%|████      | 41/100 [00:19<00:23,  2.55it/s, Loss=5.7293]"
          ]
        },
        {
          "output_type": "stream",
          "name": "stdout",
          "text": [
            "*** DEBUG: Batch 40 COMPLETED - Memory cleared ***\n"
          ]
        },
        {
          "output_type": "stream",
          "name": "stderr",
          "text": [
            "Fold 0 Epoch 7/30 [Train]:  51%|█████     | 51/100 [00:22<00:13,  3.67it/s, Loss=5.6094]"
          ]
        },
        {
          "output_type": "stream",
          "name": "stdout",
          "text": [
            "*** DEBUG: Batch 50 COMPLETED - Memory cleared ***\n"
          ]
        },
        {
          "output_type": "stream",
          "name": "stderr",
          "text": [
            "Fold 0 Epoch 7/30 [Train]:  61%|██████    | 61/100 [00:24<00:10,  3.90it/s, Loss=5.9075]"
          ]
        },
        {
          "output_type": "stream",
          "name": "stdout",
          "text": [
            "*** DEBUG: Batch 60 COMPLETED - Memory cleared ***\n"
          ]
        },
        {
          "output_type": "stream",
          "name": "stderr",
          "text": [
            "Fold 0 Epoch 7/30 [Train]:  71%|███████   | 71/100 [00:27<00:07,  3.71it/s, Loss=5.3227]"
          ]
        },
        {
          "output_type": "stream",
          "name": "stdout",
          "text": [
            "*** DEBUG: Batch 70 COMPLETED - Memory cleared ***\n"
          ]
        },
        {
          "output_type": "stream",
          "name": "stderr",
          "text": [
            "Fold 0 Epoch 7/30 [Train]:  81%|████████  | 81/100 [00:30<00:05,  3.64it/s, Loss=4.8225]"
          ]
        },
        {
          "output_type": "stream",
          "name": "stdout",
          "text": [
            "*** DEBUG: Batch 80 COMPLETED - Memory cleared ***\n"
          ]
        },
        {
          "output_type": "stream",
          "name": "stderr",
          "text": [
            "Fold 0 Epoch 7/30 [Train]:  91%|█████████ | 91/100 [00:32<00:02,  3.75it/s, Loss=6.0279]"
          ]
        },
        {
          "output_type": "stream",
          "name": "stdout",
          "text": [
            "*** DEBUG: Batch 90 COMPLETED - Memory cleared ***\n"
          ]
        },
        {
          "output_type": "stream",
          "name": "stderr",
          "text": [
            "Fold 0 Epoch 7/30 [Train]: 100%|██████████| 100/100 [00:34<00:00,  2.87it/s, Loss=6.2938]\n",
            "Fold 0 Epoch 7/30 [Val]: 100%|██████████| 25/25 [00:06<00:00,  3.72it/s, Loss=13.8581]\n"
          ]
        },
        {
          "output_type": "stream",
          "name": "stdout",
          "text": [
            "Fold 0 Epoch 7/30:\n",
            "  Train MAPE: 6.0718%\n",
            "  Val MAPE: 14.7099%\n",
            "  LR: 0.000100\n",
            "--------------------------------------------------\n"
          ]
        },
        {
          "output_type": "stream",
          "name": "stderr",
          "text": [
            "Fold 0 Epoch 8/30 [Train]:   1%|          | 1/100 [00:00<01:06,  1.49it/s, Loss=5.5956]"
          ]
        },
        {
          "output_type": "stream",
          "name": "stdout",
          "text": [
            "*** DEBUG: Batch 0 COMPLETED - Memory cleared ***\n"
          ]
        },
        {
          "output_type": "stream",
          "name": "stderr",
          "text": [
            "Fold 0 Epoch 8/30 [Train]:  11%|█         | 11/100 [00:03<00:24,  3.62it/s, Loss=5.2065]"
          ]
        },
        {
          "output_type": "stream",
          "name": "stdout",
          "text": [
            "*** DEBUG: Batch 10 COMPLETED - Memory cleared ***\n"
          ]
        },
        {
          "output_type": "stream",
          "name": "stderr",
          "text": [
            "Fold 0 Epoch 8/30 [Train]:  21%|██        | 21/100 [00:05<00:20,  3.86it/s, Loss=5.4252]"
          ]
        },
        {
          "output_type": "stream",
          "name": "stdout",
          "text": [
            "*** DEBUG: Batch 20 COMPLETED - Memory cleared ***\n"
          ]
        },
        {
          "output_type": "stream",
          "name": "stderr",
          "text": [
            "Fold 0 Epoch 8/30 [Train]:  31%|███       | 31/100 [00:08<00:16,  4.11it/s, Loss=5.1546]"
          ]
        },
        {
          "output_type": "stream",
          "name": "stdout",
          "text": [
            "*** DEBUG: Batch 30 COMPLETED - Memory cleared ***\n"
          ]
        },
        {
          "output_type": "stream",
          "name": "stderr",
          "text": [
            "Fold 0 Epoch 8/30 [Train]:  41%|████      | 41/100 [00:10<00:14,  4.04it/s, Loss=4.3874]"
          ]
        },
        {
          "output_type": "stream",
          "name": "stdout",
          "text": [
            "*** DEBUG: Batch 40 COMPLETED - Memory cleared ***\n"
          ]
        },
        {
          "output_type": "stream",
          "name": "stderr",
          "text": [
            "Fold 0 Epoch 8/30 [Train]:  51%|█████     | 51/100 [00:13<00:12,  3.84it/s, Loss=5.6220]"
          ]
        },
        {
          "output_type": "stream",
          "name": "stdout",
          "text": [
            "*** DEBUG: Batch 50 COMPLETED - Memory cleared ***\n"
          ]
        },
        {
          "output_type": "stream",
          "name": "stderr",
          "text": [
            "Fold 0 Epoch 8/30 [Train]:  61%|██████    | 61/100 [00:16<00:10,  3.78it/s, Loss=5.6880]"
          ]
        },
        {
          "output_type": "stream",
          "name": "stdout",
          "text": [
            "*** DEBUG: Batch 60 COMPLETED - Memory cleared ***\n"
          ]
        },
        {
          "output_type": "stream",
          "name": "stderr",
          "text": [
            "Fold 0 Epoch 8/30 [Train]:  71%|███████   | 71/100 [00:18<00:07,  4.01it/s, Loss=5.4468]"
          ]
        },
        {
          "output_type": "stream",
          "name": "stdout",
          "text": [
            "*** DEBUG: Batch 70 COMPLETED - Memory cleared ***\n"
          ]
        },
        {
          "output_type": "stream",
          "name": "stderr",
          "text": [
            "Fold 0 Epoch 8/30 [Train]:  81%|████████  | 81/100 [00:21<00:04,  3.81it/s, Loss=5.4210]"
          ]
        },
        {
          "output_type": "stream",
          "name": "stdout",
          "text": [
            "*** DEBUG: Batch 80 COMPLETED - Memory cleared ***\n"
          ]
        },
        {
          "output_type": "stream",
          "name": "stderr",
          "text": [
            "Fold 0 Epoch 8/30 [Train]:  91%|█████████ | 91/100 [00:23<00:02,  3.81it/s, Loss=6.1243]"
          ]
        },
        {
          "output_type": "stream",
          "name": "stdout",
          "text": [
            "*** DEBUG: Batch 90 COMPLETED - Memory cleared ***\n"
          ]
        },
        {
          "output_type": "stream",
          "name": "stderr",
          "text": [
            "Fold 0 Epoch 8/30 [Train]: 100%|██████████| 100/100 [00:25<00:00,  3.85it/s, Loss=5.8786]\n",
            "Fold 0 Epoch 8/30 [Val]: 100%|██████████| 25/25 [00:06<00:00,  3.78it/s, Loss=13.6651]\n"
          ]
        },
        {
          "output_type": "stream",
          "name": "stdout",
          "text": [
            "Fold 0 Epoch 8/30:\n",
            "  Train MAPE: 5.3934%\n",
            "  Val MAPE: 14.8944%\n",
            "  LR: 0.000100\n",
            "--------------------------------------------------\n"
          ]
        },
        {
          "output_type": "stream",
          "name": "stderr",
          "text": [
            "Fold 0 Epoch 9/30 [Train]:   1%|          | 1/100 [00:00<01:08,  1.45it/s, Loss=5.9457]"
          ]
        },
        {
          "output_type": "stream",
          "name": "stdout",
          "text": [
            "*** DEBUG: Batch 0 COMPLETED - Memory cleared ***\n"
          ]
        },
        {
          "output_type": "stream",
          "name": "stderr",
          "text": [
            "Fold 0 Epoch 9/30 [Train]:  11%|█         | 11/100 [00:03<00:23,  3.79it/s, Loss=6.2966]"
          ]
        },
        {
          "output_type": "stream",
          "name": "stdout",
          "text": [
            "*** DEBUG: Batch 10 COMPLETED - Memory cleared ***\n"
          ]
        },
        {
          "output_type": "stream",
          "name": "stderr",
          "text": [
            "Fold 0 Epoch 9/30 [Train]:  21%|██        | 21/100 [00:05<00:20,  3.81it/s, Loss=5.2059]"
          ]
        },
        {
          "output_type": "stream",
          "name": "stdout",
          "text": [
            "*** DEBUG: Batch 20 COMPLETED - Memory cleared ***\n"
          ]
        },
        {
          "output_type": "stream",
          "name": "stderr",
          "text": [
            "Fold 0 Epoch 9/30 [Train]:  31%|███       | 31/100 [00:08<00:17,  3.89it/s, Loss=5.1307]"
          ]
        },
        {
          "output_type": "stream",
          "name": "stdout",
          "text": [
            "*** DEBUG: Batch 30 COMPLETED - Memory cleared ***\n"
          ]
        },
        {
          "output_type": "stream",
          "name": "stderr",
          "text": [
            "Fold 0 Epoch 9/30 [Train]:  41%|████      | 41/100 [00:10<00:14,  4.00it/s, Loss=5.6001]"
          ]
        },
        {
          "output_type": "stream",
          "name": "stdout",
          "text": [
            "*** DEBUG: Batch 40 COMPLETED - Memory cleared ***\n"
          ]
        },
        {
          "output_type": "stream",
          "name": "stderr",
          "text": [
            "Fold 0 Epoch 9/30 [Train]:  51%|█████     | 51/100 [00:13<00:12,  4.01it/s, Loss=4.6463]"
          ]
        },
        {
          "output_type": "stream",
          "name": "stdout",
          "text": [
            "*** DEBUG: Batch 50 COMPLETED - Memory cleared ***\n"
          ]
        },
        {
          "output_type": "stream",
          "name": "stderr",
          "text": [
            "Fold 0 Epoch 9/30 [Train]:  61%|██████    | 61/100 [00:16<00:10,  3.84it/s, Loss=5.0374]"
          ]
        },
        {
          "output_type": "stream",
          "name": "stdout",
          "text": [
            "*** DEBUG: Batch 60 COMPLETED - Memory cleared ***\n"
          ]
        },
        {
          "output_type": "stream",
          "name": "stderr",
          "text": [
            "Fold 0 Epoch 9/30 [Train]:  71%|███████   | 71/100 [00:18<00:07,  3.76it/s, Loss=4.9400]"
          ]
        },
        {
          "output_type": "stream",
          "name": "stdout",
          "text": [
            "*** DEBUG: Batch 70 COMPLETED - Memory cleared ***\n"
          ]
        },
        {
          "output_type": "stream",
          "name": "stderr",
          "text": [
            "Fold 0 Epoch 9/30 [Train]:  81%|████████  | 81/100 [00:21<00:05,  3.80it/s, Loss=4.6032]"
          ]
        },
        {
          "output_type": "stream",
          "name": "stdout",
          "text": [
            "*** DEBUG: Batch 80 COMPLETED - Memory cleared ***\n"
          ]
        },
        {
          "output_type": "stream",
          "name": "stderr",
          "text": [
            "Fold 0 Epoch 9/30 [Train]:  91%|█████████ | 91/100 [00:23<00:02,  3.96it/s, Loss=5.8917]"
          ]
        },
        {
          "output_type": "stream",
          "name": "stdout",
          "text": [
            "*** DEBUG: Batch 90 COMPLETED - Memory cleared ***\n"
          ]
        },
        {
          "output_type": "stream",
          "name": "stderr",
          "text": [
            "Fold 0 Epoch 9/30 [Train]: 100%|██████████| 100/100 [00:26<00:00,  3.85it/s, Loss=4.4230]\n",
            "Fold 0 Epoch 9/30 [Val]: 100%|██████████| 25/25 [00:06<00:00,  3.70it/s, Loss=20.7398]\n"
          ]
        },
        {
          "output_type": "stream",
          "name": "stdout",
          "text": [
            "Fold 0 Epoch 9/30:\n",
            "  Train MAPE: 5.1400%\n",
            "  Val MAPE: 19.3015%\n",
            "  LR: 0.000100\n",
            "--------------------------------------------------\n"
          ]
        },
        {
          "output_type": "stream",
          "name": "stderr",
          "text": [
            "Fold 0 Epoch 10/30 [Train]:   1%|          | 1/100 [00:00<01:01,  1.60it/s, Loss=4.6450]"
          ]
        },
        {
          "output_type": "stream",
          "name": "stdout",
          "text": [
            "*** DEBUG: Batch 0 COMPLETED - Memory cleared ***\n"
          ]
        },
        {
          "output_type": "stream",
          "name": "stderr",
          "text": [
            "Fold 0 Epoch 10/30 [Train]:  11%|█         | 11/100 [00:03<00:22,  3.92it/s, Loss=4.7267]"
          ]
        },
        {
          "output_type": "stream",
          "name": "stdout",
          "text": [
            "*** DEBUG: Batch 10 COMPLETED - Memory cleared ***\n"
          ]
        },
        {
          "output_type": "stream",
          "name": "stderr",
          "text": [
            "Fold 0 Epoch 10/30 [Train]:  21%|██        | 21/100 [00:05<00:19,  4.01it/s, Loss=5.5665]"
          ]
        },
        {
          "output_type": "stream",
          "name": "stdout",
          "text": [
            "*** DEBUG: Batch 20 COMPLETED - Memory cleared ***\n"
          ]
        },
        {
          "output_type": "stream",
          "name": "stderr",
          "text": [
            "Fold 0 Epoch 10/30 [Train]:  31%|███       | 31/100 [00:08<00:17,  3.85it/s, Loss=4.6204]"
          ]
        },
        {
          "output_type": "stream",
          "name": "stdout",
          "text": [
            "*** DEBUG: Batch 30 COMPLETED - Memory cleared ***\n"
          ]
        },
        {
          "output_type": "stream",
          "name": "stderr",
          "text": [
            "Fold 0 Epoch 10/30 [Train]:  41%|████      | 41/100 [00:11<00:16,  3.66it/s, Loss=4.6759]"
          ]
        },
        {
          "output_type": "stream",
          "name": "stdout",
          "text": [
            "*** DEBUG: Batch 40 COMPLETED - Memory cleared ***\n"
          ]
        },
        {
          "output_type": "stream",
          "name": "stderr",
          "text": [
            "Fold 0 Epoch 10/30 [Train]:  51%|█████     | 51/100 [00:13<00:12,  3.83it/s, Loss=4.9794]"
          ]
        },
        {
          "output_type": "stream",
          "name": "stdout",
          "text": [
            "*** DEBUG: Batch 50 COMPLETED - Memory cleared ***\n"
          ]
        },
        {
          "output_type": "stream",
          "name": "stderr",
          "text": [
            "Fold 0 Epoch 10/30 [Train]:  61%|██████    | 61/100 [00:16<00:10,  3.89it/s, Loss=6.5163]"
          ]
        },
        {
          "output_type": "stream",
          "name": "stdout",
          "text": [
            "*** DEBUG: Batch 60 COMPLETED - Memory cleared ***\n"
          ]
        },
        {
          "output_type": "stream",
          "name": "stderr",
          "text": [
            "Fold 0 Epoch 10/30 [Train]:  71%|███████   | 71/100 [00:18<00:07,  3.95it/s, Loss=5.1092]"
          ]
        },
        {
          "output_type": "stream",
          "name": "stdout",
          "text": [
            "*** DEBUG: Batch 70 COMPLETED - Memory cleared ***\n"
          ]
        },
        {
          "output_type": "stream",
          "name": "stderr",
          "text": [
            "Fold 0 Epoch 10/30 [Train]:  81%|████████  | 81/100 [00:21<00:05,  3.61it/s, Loss=5.7962]"
          ]
        },
        {
          "output_type": "stream",
          "name": "stdout",
          "text": [
            "*** DEBUG: Batch 80 COMPLETED - Memory cleared ***\n"
          ]
        },
        {
          "output_type": "stream",
          "name": "stderr",
          "text": [
            "Fold 0 Epoch 10/30 [Train]:  91%|█████████ | 91/100 [00:24<00:02,  3.75it/s, Loss=5.0869]"
          ]
        },
        {
          "output_type": "stream",
          "name": "stdout",
          "text": [
            "*** DEBUG: Batch 90 COMPLETED - Memory cleared ***\n"
          ]
        },
        {
          "output_type": "stream",
          "name": "stderr",
          "text": [
            "Fold 0 Epoch 10/30 [Train]: 100%|██████████| 100/100 [00:26<00:00,  3.81it/s, Loss=4.3135]\n",
            "Fold 0 Epoch 10/30 [Val]: 100%|██████████| 25/25 [00:06<00:00,  3.76it/s, Loss=36.5485]\n"
          ]
        },
        {
          "output_type": "stream",
          "name": "stdout",
          "text": [
            "Fold 0 Epoch 10/30:\n",
            "  Train MAPE: 5.0133%\n",
            "  Val MAPE: 35.4498%\n",
            "  LR: 0.000100\n",
            "--------------------------------------------------\n"
          ]
        },
        {
          "output_type": "stream",
          "name": "stderr",
          "text": [
            "Fold 0 Epoch 11/30 [Train]:   1%|          | 1/100 [00:00<01:03,  1.56it/s, Loss=5.0249]"
          ]
        },
        {
          "output_type": "stream",
          "name": "stdout",
          "text": [
            "*** DEBUG: Batch 0 COMPLETED - Memory cleared ***\n"
          ]
        },
        {
          "output_type": "stream",
          "name": "stderr",
          "text": [
            "Fold 0 Epoch 11/30 [Train]:  11%|█         | 11/100 [00:03<00:24,  3.62it/s, Loss=4.4946]"
          ]
        },
        {
          "output_type": "stream",
          "name": "stdout",
          "text": [
            "*** DEBUG: Batch 10 COMPLETED - Memory cleared ***\n"
          ]
        },
        {
          "output_type": "stream",
          "name": "stderr",
          "text": [
            "Fold 0 Epoch 11/30 [Train]:  21%|██        | 21/100 [00:05<00:20,  3.82it/s, Loss=4.5614]"
          ]
        },
        {
          "output_type": "stream",
          "name": "stdout",
          "text": [
            "*** DEBUG: Batch 20 COMPLETED - Memory cleared ***\n"
          ]
        },
        {
          "output_type": "stream",
          "name": "stderr",
          "text": [
            "Fold 0 Epoch 11/30 [Train]:  31%|███       | 31/100 [00:08<00:17,  3.86it/s, Loss=4.6044]"
          ]
        },
        {
          "output_type": "stream",
          "name": "stdout",
          "text": [
            "*** DEBUG: Batch 30 COMPLETED - Memory cleared ***\n"
          ]
        },
        {
          "output_type": "stream",
          "name": "stderr",
          "text": [
            "Fold 0 Epoch 11/30 [Train]:  41%|████      | 41/100 [00:10<00:15,  3.88it/s, Loss=3.9927]"
          ]
        },
        {
          "output_type": "stream",
          "name": "stdout",
          "text": [
            "*** DEBUG: Batch 40 COMPLETED - Memory cleared ***\n"
          ]
        },
        {
          "output_type": "stream",
          "name": "stderr",
          "text": [
            "Fold 0 Epoch 11/30 [Train]:  51%|█████     | 51/100 [00:13<00:13,  3.74it/s, Loss=4.1655]"
          ]
        },
        {
          "output_type": "stream",
          "name": "stdout",
          "text": [
            "*** DEBUG: Batch 50 COMPLETED - Memory cleared ***\n"
          ]
        },
        {
          "output_type": "stream",
          "name": "stderr",
          "text": [
            "Fold 0 Epoch 11/30 [Train]:  61%|██████    | 61/100 [00:16<00:10,  3.87it/s, Loss=4.7854]"
          ]
        },
        {
          "output_type": "stream",
          "name": "stdout",
          "text": [
            "*** DEBUG: Batch 60 COMPLETED - Memory cleared ***\n"
          ]
        },
        {
          "output_type": "stream",
          "name": "stderr",
          "text": [
            "Fold 0 Epoch 11/30 [Train]:  71%|███████   | 71/100 [00:18<00:07,  4.02it/s, Loss=4.9477]"
          ]
        },
        {
          "output_type": "stream",
          "name": "stdout",
          "text": [
            "*** DEBUG: Batch 70 COMPLETED - Memory cleared ***\n"
          ]
        },
        {
          "output_type": "stream",
          "name": "stderr",
          "text": [
            "Fold 0 Epoch 11/30 [Train]:  81%|████████  | 81/100 [00:21<00:04,  3.91it/s, Loss=4.2642]"
          ]
        },
        {
          "output_type": "stream",
          "name": "stdout",
          "text": [
            "*** DEBUG: Batch 80 COMPLETED - Memory cleared ***\n"
          ]
        },
        {
          "output_type": "stream",
          "name": "stderr",
          "text": [
            "Fold 0 Epoch 11/30 [Train]:  91%|█████████ | 91/100 [00:23<00:02,  3.88it/s, Loss=4.5377]"
          ]
        },
        {
          "output_type": "stream",
          "name": "stdout",
          "text": [
            "*** DEBUG: Batch 90 COMPLETED - Memory cleared ***\n"
          ]
        },
        {
          "output_type": "stream",
          "name": "stderr",
          "text": [
            "Fold 0 Epoch 11/30 [Train]: 100%|██████████| 100/100 [00:25<00:00,  3.86it/s, Loss=5.0301]\n",
            "Fold 0 Epoch 11/30 [Val]: 100%|██████████| 25/25 [00:06<00:00,  3.68it/s, Loss=23.1071]\n"
          ]
        },
        {
          "output_type": "stream",
          "name": "stdout",
          "text": [
            "Fold 0 Epoch 11/30:\n",
            "  Train MAPE: 4.6479%\n",
            "  Val MAPE: 20.7637%\n",
            "  LR: 0.000100\n",
            "--------------------------------------------------\n"
          ]
        },
        {
          "output_type": "stream",
          "name": "stderr",
          "text": [
            "Fold 0 Epoch 12/30 [Train]:   1%|          | 1/100 [00:00<01:09,  1.42it/s, Loss=4.6318]"
          ]
        },
        {
          "output_type": "stream",
          "name": "stdout",
          "text": [
            "*** DEBUG: Batch 0 COMPLETED - Memory cleared ***\n"
          ]
        },
        {
          "output_type": "stream",
          "name": "stderr",
          "text": [
            "Fold 0 Epoch 12/30 [Train]:  11%|█         | 11/100 [00:03<00:24,  3.62it/s, Loss=4.3866]"
          ]
        },
        {
          "output_type": "stream",
          "name": "stdout",
          "text": [
            "*** DEBUG: Batch 10 COMPLETED - Memory cleared ***\n"
          ]
        },
        {
          "output_type": "stream",
          "name": "stderr",
          "text": [
            "Fold 0 Epoch 12/30 [Train]:  21%|██        | 21/100 [00:06<00:20,  3.81it/s, Loss=4.5686]"
          ]
        },
        {
          "output_type": "stream",
          "name": "stdout",
          "text": [
            "*** DEBUG: Batch 20 COMPLETED - Memory cleared ***\n"
          ]
        },
        {
          "output_type": "stream",
          "name": "stderr",
          "text": [
            "Fold 0 Epoch 12/30 [Train]:  31%|███       | 31/100 [00:08<00:17,  3.90it/s, Loss=4.4858]"
          ]
        },
        {
          "output_type": "stream",
          "name": "stdout",
          "text": [
            "*** DEBUG: Batch 30 COMPLETED - Memory cleared ***\n"
          ]
        },
        {
          "output_type": "stream",
          "name": "stderr",
          "text": [
            "Fold 0 Epoch 12/30 [Train]:  41%|████      | 41/100 [00:11<00:15,  3.89it/s, Loss=5.1122]"
          ]
        },
        {
          "output_type": "stream",
          "name": "stdout",
          "text": [
            "*** DEBUG: Batch 40 COMPLETED - Memory cleared ***\n"
          ]
        },
        {
          "output_type": "stream",
          "name": "stderr",
          "text": [
            "Fold 0 Epoch 12/30 [Train]:  51%|█████     | 51/100 [00:13<00:12,  3.97it/s, Loss=4.7587]"
          ]
        },
        {
          "output_type": "stream",
          "name": "stdout",
          "text": [
            "*** DEBUG: Batch 50 COMPLETED - Memory cleared ***\n"
          ]
        },
        {
          "output_type": "stream",
          "name": "stderr",
          "text": [
            "Fold 0 Epoch 12/30 [Train]:  61%|██████    | 61/100 [00:16<00:10,  3.83it/s, Loss=4.8365]"
          ]
        },
        {
          "output_type": "stream",
          "name": "stdout",
          "text": [
            "*** DEBUG: Batch 60 COMPLETED - Memory cleared ***\n"
          ]
        },
        {
          "output_type": "stream",
          "name": "stderr",
          "text": [
            "Fold 0 Epoch 12/30 [Train]:  71%|███████   | 71/100 [00:18<00:07,  3.74it/s, Loss=4.9627]"
          ]
        },
        {
          "output_type": "stream",
          "name": "stdout",
          "text": [
            "*** DEBUG: Batch 70 COMPLETED - Memory cleared ***\n"
          ]
        },
        {
          "output_type": "stream",
          "name": "stderr",
          "text": [
            "Fold 0 Epoch 12/30 [Train]:  81%|████████  | 81/100 [00:21<00:04,  3.86it/s, Loss=4.4939]"
          ]
        },
        {
          "output_type": "stream",
          "name": "stdout",
          "text": [
            "*** DEBUG: Batch 80 COMPLETED - Memory cleared ***\n"
          ]
        },
        {
          "output_type": "stream",
          "name": "stderr",
          "text": [
            "Fold 0 Epoch 12/30 [Train]:  91%|█████████ | 91/100 [00:23<00:02,  3.96it/s, Loss=4.4718]"
          ]
        },
        {
          "output_type": "stream",
          "name": "stdout",
          "text": [
            "*** DEBUG: Batch 90 COMPLETED - Memory cleared ***\n"
          ]
        },
        {
          "output_type": "stream",
          "name": "stderr",
          "text": [
            "Fold 0 Epoch 12/30 [Train]: 100%|██████████| 100/100 [00:26<00:00,  3.84it/s, Loss=4.1312]\n",
            "Fold 0 Epoch 12/30 [Val]: 100%|██████████| 25/25 [00:06<00:00,  3.69it/s, Loss=37.1228]\n"
          ]
        },
        {
          "output_type": "stream",
          "name": "stdout",
          "text": [
            "Fold 0 Epoch 12/30:\n",
            "  Train MAPE: 4.5480%\n",
            "  Val MAPE: 36.0359%\n",
            "  LR: 0.000050\n",
            "--------------------------------------------------\n"
          ]
        },
        {
          "output_type": "stream",
          "name": "stderr",
          "text": [
            "Fold 0 Epoch 13/30 [Train]:   1%|          | 1/100 [00:00<01:04,  1.53it/s, Loss=3.8946]"
          ]
        },
        {
          "output_type": "stream",
          "name": "stdout",
          "text": [
            "*** DEBUG: Batch 0 COMPLETED - Memory cleared ***\n"
          ]
        },
        {
          "output_type": "stream",
          "name": "stderr",
          "text": [
            "Fold 0 Epoch 13/30 [Train]:  11%|█         | 11/100 [00:03<00:24,  3.56it/s, Loss=3.9673]"
          ]
        },
        {
          "output_type": "stream",
          "name": "stdout",
          "text": [
            "*** DEBUG: Batch 10 COMPLETED - Memory cleared ***\n"
          ]
        },
        {
          "output_type": "stream",
          "name": "stderr",
          "text": [
            "Fold 0 Epoch 13/30 [Train]:  21%|██        | 21/100 [00:05<00:20,  3.88it/s, Loss=4.0688]"
          ]
        },
        {
          "output_type": "stream",
          "name": "stdout",
          "text": [
            "*** DEBUG: Batch 20 COMPLETED - Memory cleared ***\n"
          ]
        },
        {
          "output_type": "stream",
          "name": "stderr",
          "text": [
            "Fold 0 Epoch 13/30 [Train]:  31%|███       | 31/100 [00:08<00:18,  3.63it/s, Loss=4.0470]"
          ]
        },
        {
          "output_type": "stream",
          "name": "stdout",
          "text": [
            "*** DEBUG: Batch 30 COMPLETED - Memory cleared ***\n"
          ]
        },
        {
          "output_type": "stream",
          "name": "stderr",
          "text": [
            "Fold 0 Epoch 13/30 [Train]:  41%|████      | 41/100 [00:11<00:15,  3.75it/s, Loss=3.5077]"
          ]
        },
        {
          "output_type": "stream",
          "name": "stdout",
          "text": [
            "*** DEBUG: Batch 40 COMPLETED - Memory cleared ***\n"
          ]
        },
        {
          "output_type": "stream",
          "name": "stderr",
          "text": [
            "Fold 0 Epoch 13/30 [Train]:  51%|█████     | 51/100 [00:13<00:12,  3.87it/s, Loss=3.9450]"
          ]
        },
        {
          "output_type": "stream",
          "name": "stdout",
          "text": [
            "*** DEBUG: Batch 50 COMPLETED - Memory cleared ***\n"
          ]
        },
        {
          "output_type": "stream",
          "name": "stderr",
          "text": [
            "Fold 0 Epoch 13/30 [Train]:  61%|██████    | 61/100 [00:16<00:10,  3.79it/s, Loss=4.0553]"
          ]
        },
        {
          "output_type": "stream",
          "name": "stdout",
          "text": [
            "*** DEBUG: Batch 60 COMPLETED - Memory cleared ***\n"
          ]
        },
        {
          "output_type": "stream",
          "name": "stderr",
          "text": [
            "Fold 0 Epoch 13/30 [Train]:  71%|███████   | 71/100 [00:19<00:07,  3.70it/s, Loss=4.6489]"
          ]
        },
        {
          "output_type": "stream",
          "name": "stdout",
          "text": [
            "*** DEBUG: Batch 70 COMPLETED - Memory cleared ***\n"
          ]
        },
        {
          "output_type": "stream",
          "name": "stderr",
          "text": [
            "Fold 0 Epoch 13/30 [Train]:  81%|████████  | 81/100 [00:21<00:05,  3.60it/s, Loss=3.7309]"
          ]
        },
        {
          "output_type": "stream",
          "name": "stdout",
          "text": [
            "*** DEBUG: Batch 80 COMPLETED - Memory cleared ***\n"
          ]
        },
        {
          "output_type": "stream",
          "name": "stderr",
          "text": [
            "Fold 0 Epoch 13/30 [Train]:  91%|█████████ | 91/100 [00:24<00:02,  3.81it/s, Loss=3.6734]"
          ]
        },
        {
          "output_type": "stream",
          "name": "stdout",
          "text": [
            "*** DEBUG: Batch 90 COMPLETED - Memory cleared ***\n"
          ]
        },
        {
          "output_type": "stream",
          "name": "stderr",
          "text": [
            "Fold 0 Epoch 13/30 [Train]: 100%|██████████| 100/100 [00:26<00:00,  3.76it/s, Loss=4.1462]\n",
            "Fold 0 Epoch 13/30 [Val]: 100%|██████████| 25/25 [00:06<00:00,  3.81it/s, Loss=11.5090]\n"
          ]
        },
        {
          "output_type": "stream",
          "name": "stdout",
          "text": [
            "Fold 0 Epoch 13/30:\n",
            "  Train MAPE: 3.9971%\n",
            "  Val MAPE: 11.4646%\n",
            "  LR: 0.000050\n",
            "--------------------------------------------------\n"
          ]
        },
        {
          "output_type": "stream",
          "name": "stderr",
          "text": [
            "Fold 0 Epoch 14/30 [Train]:   1%|          | 1/100 [00:00<01:05,  1.51it/s, Loss=3.8134]"
          ]
        },
        {
          "output_type": "stream",
          "name": "stdout",
          "text": [
            "*** DEBUG: Batch 0 COMPLETED - Memory cleared ***\n"
          ]
        },
        {
          "output_type": "stream",
          "name": "stderr",
          "text": [
            "Fold 0 Epoch 14/30 [Train]:  11%|█         | 11/100 [00:03<00:23,  3.81it/s, Loss=3.9685]"
          ]
        },
        {
          "output_type": "stream",
          "name": "stdout",
          "text": [
            "*** DEBUG: Batch 10 COMPLETED - Memory cleared ***\n"
          ]
        },
        {
          "output_type": "stream",
          "name": "stderr",
          "text": [
            "Fold 0 Epoch 14/30 [Train]:  21%|██        | 21/100 [00:05<00:19,  3.98it/s, Loss=4.2270]"
          ]
        },
        {
          "output_type": "stream",
          "name": "stdout",
          "text": [
            "*** DEBUG: Batch 20 COMPLETED - Memory cleared ***\n"
          ]
        },
        {
          "output_type": "stream",
          "name": "stderr",
          "text": [
            "Fold 0 Epoch 14/30 [Train]:  31%|███       | 31/100 [00:08<00:17,  3.95it/s, Loss=4.6456]"
          ]
        },
        {
          "output_type": "stream",
          "name": "stdout",
          "text": [
            "*** DEBUG: Batch 30 COMPLETED - Memory cleared ***\n"
          ]
        },
        {
          "output_type": "stream",
          "name": "stderr",
          "text": [
            "Fold 0 Epoch 14/30 [Train]:  41%|████      | 41/100 [00:10<00:15,  3.71it/s, Loss=3.4649]"
          ]
        },
        {
          "output_type": "stream",
          "name": "stdout",
          "text": [
            "*** DEBUG: Batch 40 COMPLETED - Memory cleared ***\n"
          ]
        },
        {
          "output_type": "stream",
          "name": "stderr",
          "text": [
            "Fold 0 Epoch 14/30 [Train]:  51%|█████     | 51/100 [00:13<00:13,  3.66it/s, Loss=3.8116]"
          ]
        },
        {
          "output_type": "stream",
          "name": "stdout",
          "text": [
            "*** DEBUG: Batch 50 COMPLETED - Memory cleared ***\n"
          ]
        },
        {
          "output_type": "stream",
          "name": "stderr",
          "text": [
            "Fold 0 Epoch 14/30 [Train]:  61%|██████    | 61/100 [00:16<00:09,  3.93it/s, Loss=3.7801]"
          ]
        },
        {
          "output_type": "stream",
          "name": "stdout",
          "text": [
            "*** DEBUG: Batch 60 COMPLETED - Memory cleared ***\n"
          ]
        },
        {
          "output_type": "stream",
          "name": "stderr",
          "text": [
            "Fold 0 Epoch 14/30 [Train]:  71%|███████   | 71/100 [00:18<00:07,  3.90it/s, Loss=3.1327]"
          ]
        },
        {
          "output_type": "stream",
          "name": "stdout",
          "text": [
            "*** DEBUG: Batch 70 COMPLETED - Memory cleared ***\n"
          ]
        },
        {
          "output_type": "stream",
          "name": "stderr",
          "text": [
            "Fold 0 Epoch 14/30 [Train]:  81%|████████  | 81/100 [00:21<00:04,  4.01it/s, Loss=3.8468]"
          ]
        },
        {
          "output_type": "stream",
          "name": "stdout",
          "text": [
            "*** DEBUG: Batch 80 COMPLETED - Memory cleared ***\n"
          ]
        },
        {
          "output_type": "stream",
          "name": "stderr",
          "text": [
            "Fold 0 Epoch 14/30 [Train]:  91%|█████████ | 91/100 [00:23<00:02,  3.85it/s, Loss=3.5376]"
          ]
        },
        {
          "output_type": "stream",
          "name": "stdout",
          "text": [
            "*** DEBUG: Batch 90 COMPLETED - Memory cleared ***\n"
          ]
        },
        {
          "output_type": "stream",
          "name": "stderr",
          "text": [
            "Fold 0 Epoch 14/30 [Train]: 100%|██████████| 100/100 [00:25<00:00,  3.85it/s, Loss=4.2149]\n",
            "Fold 0 Epoch 14/30 [Val]: 100%|██████████| 25/25 [00:06<00:00,  3.80it/s, Loss=19.8288]\n"
          ]
        },
        {
          "output_type": "stream",
          "name": "stdout",
          "text": [
            "Fold 0 Epoch 14/30:\n",
            "  Train MAPE: 3.8954%\n",
            "  Val MAPE: 19.7311%\n",
            "  LR: 0.000050\n",
            "--------------------------------------------------\n"
          ]
        },
        {
          "output_type": "stream",
          "name": "stderr",
          "text": [
            "Fold 0 Epoch 15/30 [Train]:   1%|          | 1/100 [00:00<01:00,  1.62it/s, Loss=3.3972]"
          ]
        },
        {
          "output_type": "stream",
          "name": "stdout",
          "text": [
            "*** DEBUG: Batch 0 COMPLETED - Memory cleared ***\n"
          ]
        },
        {
          "output_type": "stream",
          "name": "stderr",
          "text": [
            "Fold 0 Epoch 15/30 [Train]:  11%|█         | 11/100 [00:03<00:23,  3.74it/s, Loss=4.1078]"
          ]
        },
        {
          "output_type": "stream",
          "name": "stdout",
          "text": [
            "*** DEBUG: Batch 10 COMPLETED - Memory cleared ***\n"
          ]
        },
        {
          "output_type": "stream",
          "name": "stderr",
          "text": [
            "Fold 0 Epoch 15/30 [Train]:  21%|██        | 21/100 [00:05<00:20,  3.91it/s, Loss=3.8273]"
          ]
        },
        {
          "output_type": "stream",
          "name": "stdout",
          "text": [
            "*** DEBUG: Batch 20 COMPLETED - Memory cleared ***\n"
          ]
        },
        {
          "output_type": "stream",
          "name": "stderr",
          "text": [
            "Fold 0 Epoch 15/30 [Train]:  31%|███       | 31/100 [00:08<00:17,  3.89it/s, Loss=3.7772]"
          ]
        },
        {
          "output_type": "stream",
          "name": "stdout",
          "text": [
            "*** DEBUG: Batch 30 COMPLETED - Memory cleared ***\n"
          ]
        },
        {
          "output_type": "stream",
          "name": "stderr",
          "text": [
            "Fold 0 Epoch 15/30 [Train]:  41%|████      | 41/100 [00:11<00:15,  3.80it/s, Loss=3.5790]"
          ]
        },
        {
          "output_type": "stream",
          "name": "stdout",
          "text": [
            "*** DEBUG: Batch 40 COMPLETED - Memory cleared ***\n"
          ]
        },
        {
          "output_type": "stream",
          "name": "stderr",
          "text": [
            "Fold 0 Epoch 15/30 [Train]:  51%|█████     | 51/100 [00:13<00:12,  3.94it/s, Loss=3.7620]"
          ]
        },
        {
          "output_type": "stream",
          "name": "stdout",
          "text": [
            "*** DEBUG: Batch 50 COMPLETED - Memory cleared ***\n"
          ]
        },
        {
          "output_type": "stream",
          "name": "stderr",
          "text": [
            "Fold 0 Epoch 15/30 [Train]:  61%|██████    | 61/100 [00:16<00:10,  3.62it/s, Loss=3.9929]"
          ]
        },
        {
          "output_type": "stream",
          "name": "stdout",
          "text": [
            "*** DEBUG: Batch 60 COMPLETED - Memory cleared ***\n"
          ]
        },
        {
          "output_type": "stream",
          "name": "stderr",
          "text": [
            "Fold 0 Epoch 15/30 [Train]:  71%|███████   | 71/100 [00:18<00:08,  3.51it/s, Loss=3.4348]"
          ]
        },
        {
          "output_type": "stream",
          "name": "stdout",
          "text": [
            "*** DEBUG: Batch 70 COMPLETED - Memory cleared ***\n"
          ]
        },
        {
          "output_type": "stream",
          "name": "stderr",
          "text": [
            "Fold 0 Epoch 15/30 [Train]:  82%|████████▏ | 82/100 [00:21<00:04,  4.39it/s, Loss=3.8112]"
          ]
        },
        {
          "output_type": "stream",
          "name": "stdout",
          "text": [
            "*** DEBUG: Batch 80 COMPLETED - Memory cleared ***\n"
          ]
        },
        {
          "output_type": "stream",
          "name": "stderr",
          "text": [
            "Fold 0 Epoch 15/30 [Train]:  92%|█████████▏| 92/100 [00:23<00:01,  4.25it/s, Loss=3.2836]"
          ]
        },
        {
          "output_type": "stream",
          "name": "stdout",
          "text": [
            "*** DEBUG: Batch 90 COMPLETED - Memory cleared ***\n"
          ]
        },
        {
          "output_type": "stream",
          "name": "stderr",
          "text": [
            "Fold 0 Epoch 15/30 [Train]: 100%|██████████| 100/100 [00:25<00:00,  3.85it/s, Loss=3.6461]\n",
            "Fold 0 Epoch 15/30 [Val]: 100%|██████████| 25/25 [00:06<00:00,  3.70it/s, Loss=16.3105]\n"
          ]
        },
        {
          "output_type": "stream",
          "name": "stdout",
          "text": [
            "Fold 0 Epoch 15/30:\n",
            "  Train MAPE: 3.8738%\n",
            "  Val MAPE: 17.8761%\n",
            "  LR: 0.000050\n",
            "--------------------------------------------------\n"
          ]
        },
        {
          "output_type": "stream",
          "name": "stderr",
          "text": [
            "Fold 0 Epoch 16/30 [Train]:   1%|          | 1/100 [00:00<01:10,  1.41it/s, Loss=3.8410]"
          ]
        },
        {
          "output_type": "stream",
          "name": "stdout",
          "text": [
            "*** DEBUG: Batch 0 COMPLETED - Memory cleared ***\n"
          ]
        },
        {
          "output_type": "stream",
          "name": "stderr",
          "text": [
            "Fold 0 Epoch 16/30 [Train]:  11%|█         | 11/100 [00:03<00:23,  3.79it/s, Loss=5.0656]"
          ]
        },
        {
          "output_type": "stream",
          "name": "stdout",
          "text": [
            "*** DEBUG: Batch 10 COMPLETED - Memory cleared ***\n"
          ]
        },
        {
          "output_type": "stream",
          "name": "stderr",
          "text": [
            "Fold 0 Epoch 16/30 [Train]:  21%|██        | 21/100 [00:05<00:20,  3.88it/s, Loss=3.6414]"
          ]
        },
        {
          "output_type": "stream",
          "name": "stdout",
          "text": [
            "*** DEBUG: Batch 20 COMPLETED - Memory cleared ***\n"
          ]
        },
        {
          "output_type": "stream",
          "name": "stderr",
          "text": [
            "Fold 0 Epoch 16/30 [Train]:  31%|███       | 31/100 [00:08<00:19,  3.61it/s, Loss=3.6918]"
          ]
        },
        {
          "output_type": "stream",
          "name": "stdout",
          "text": [
            "*** DEBUG: Batch 30 COMPLETED - Memory cleared ***\n"
          ]
        },
        {
          "output_type": "stream",
          "name": "stderr",
          "text": [
            "Fold 0 Epoch 16/30 [Train]:  41%|████      | 41/100 [00:11<00:15,  3.71it/s, Loss=3.8027]"
          ]
        },
        {
          "output_type": "stream",
          "name": "stdout",
          "text": [
            "*** DEBUG: Batch 40 COMPLETED - Memory cleared ***\n"
          ]
        },
        {
          "output_type": "stream",
          "name": "stderr",
          "text": [
            "Fold 0 Epoch 16/30 [Train]:  51%|█████     | 51/100 [00:13<00:12,  3.88it/s, Loss=3.6182]"
          ]
        },
        {
          "output_type": "stream",
          "name": "stdout",
          "text": [
            "*** DEBUG: Batch 50 COMPLETED - Memory cleared ***\n"
          ]
        },
        {
          "output_type": "stream",
          "name": "stderr",
          "text": [
            "Fold 0 Epoch 16/30 [Train]:  61%|██████    | 61/100 [00:16<00:10,  3.85it/s, Loss=3.8205]"
          ]
        },
        {
          "output_type": "stream",
          "name": "stdout",
          "text": [
            "*** DEBUG: Batch 60 COMPLETED - Memory cleared ***\n"
          ]
        },
        {
          "output_type": "stream",
          "name": "stderr",
          "text": [
            "Fold 0 Epoch 16/30 [Train]:  71%|███████   | 71/100 [00:19<00:07,  3.76it/s, Loss=4.1298]"
          ]
        },
        {
          "output_type": "stream",
          "name": "stdout",
          "text": [
            "*** DEBUG: Batch 70 COMPLETED - Memory cleared ***\n"
          ]
        },
        {
          "output_type": "stream",
          "name": "stderr",
          "text": [
            "Fold 0 Epoch 16/30 [Train]:  81%|████████  | 81/100 [00:21<00:05,  3.67it/s, Loss=3.5533]"
          ]
        },
        {
          "output_type": "stream",
          "name": "stdout",
          "text": [
            "*** DEBUG: Batch 80 COMPLETED - Memory cleared ***\n"
          ]
        },
        {
          "output_type": "stream",
          "name": "stderr",
          "text": [
            "Fold 0 Epoch 16/30 [Train]:  91%|█████████ | 91/100 [00:24<00:02,  3.80it/s, Loss=3.5629]"
          ]
        },
        {
          "output_type": "stream",
          "name": "stdout",
          "text": [
            "*** DEBUG: Batch 90 COMPLETED - Memory cleared ***\n"
          ]
        },
        {
          "output_type": "stream",
          "name": "stderr",
          "text": [
            "Fold 0 Epoch 16/30 [Train]: 100%|██████████| 100/100 [00:26<00:00,  3.77it/s, Loss=3.5525]\n",
            "Fold 0 Epoch 16/30 [Val]: 100%|██████████| 25/25 [00:06<00:00,  3.66it/s, Loss=14.0658]\n"
          ]
        },
        {
          "output_type": "stream",
          "name": "stdout",
          "text": [
            "Fold 0 Epoch 16/30:\n",
            "  Train MAPE: 3.8250%\n",
            "  Val MAPE: 15.5132%\n",
            "  LR: 0.000050\n",
            "--------------------------------------------------\n"
          ]
        },
        {
          "output_type": "stream",
          "name": "stderr",
          "text": [
            "Fold 0 Epoch 17/30 [Train]:   1%|          | 1/100 [00:00<01:03,  1.55it/s, Loss=4.1811]"
          ]
        },
        {
          "output_type": "stream",
          "name": "stdout",
          "text": [
            "*** DEBUG: Batch 0 COMPLETED - Memory cleared ***\n"
          ]
        },
        {
          "output_type": "stream",
          "name": "stderr",
          "text": [
            "Fold 0 Epoch 17/30 [Train]:  11%|█         | 11/100 [00:03<00:24,  3.64it/s, Loss=3.5309]"
          ]
        },
        {
          "output_type": "stream",
          "name": "stdout",
          "text": [
            "*** DEBUG: Batch 10 COMPLETED - Memory cleared ***\n"
          ]
        },
        {
          "output_type": "stream",
          "name": "stderr",
          "text": [
            "Fold 0 Epoch 17/30 [Train]:  21%|██        | 21/100 [00:05<00:20,  3.93it/s, Loss=3.6652]"
          ]
        },
        {
          "output_type": "stream",
          "name": "stdout",
          "text": [
            "*** DEBUG: Batch 20 COMPLETED - Memory cleared ***\n"
          ]
        },
        {
          "output_type": "stream",
          "name": "stderr",
          "text": [
            "Fold 0 Epoch 17/30 [Train]:  32%|███▏      | 32/100 [00:08<00:15,  4.33it/s, Loss=3.9423]"
          ]
        },
        {
          "output_type": "stream",
          "name": "stdout",
          "text": [
            "*** DEBUG: Batch 30 COMPLETED - Memory cleared ***\n"
          ]
        },
        {
          "output_type": "stream",
          "name": "stderr",
          "text": [
            "Fold 0 Epoch 17/30 [Train]:  41%|████      | 41/100 [00:10<00:15,  3.75it/s, Loss=4.2171]"
          ]
        },
        {
          "output_type": "stream",
          "name": "stdout",
          "text": [
            "*** DEBUG: Batch 40 COMPLETED - Memory cleared ***\n"
          ]
        },
        {
          "output_type": "stream",
          "name": "stderr",
          "text": [
            "Fold 0 Epoch 17/30 [Train]:  51%|█████     | 51/100 [00:13<00:12,  3.80it/s, Loss=3.7189]"
          ]
        },
        {
          "output_type": "stream",
          "name": "stdout",
          "text": [
            "*** DEBUG: Batch 50 COMPLETED - Memory cleared ***\n"
          ]
        },
        {
          "output_type": "stream",
          "name": "stderr",
          "text": [
            "Fold 0 Epoch 17/30 [Train]:  62%|██████▏   | 62/100 [00:16<00:08,  4.36it/s, Loss=3.2676]"
          ]
        },
        {
          "output_type": "stream",
          "name": "stdout",
          "text": [
            "*** DEBUG: Batch 60 COMPLETED - Memory cleared ***\n"
          ]
        },
        {
          "output_type": "stream",
          "name": "stderr",
          "text": [
            "Fold 0 Epoch 17/30 [Train]:  72%|███████▏  | 72/100 [00:18<00:06,  4.35it/s, Loss=3.5353]"
          ]
        },
        {
          "output_type": "stream",
          "name": "stdout",
          "text": [
            "*** DEBUG: Batch 70 COMPLETED - Memory cleared ***\n"
          ]
        },
        {
          "output_type": "stream",
          "name": "stderr",
          "text": [
            "Fold 0 Epoch 17/30 [Train]:  82%|████████▏ | 82/100 [00:21<00:04,  4.25it/s, Loss=3.3980]"
          ]
        },
        {
          "output_type": "stream",
          "name": "stdout",
          "text": [
            "*** DEBUG: Batch 80 COMPLETED - Memory cleared ***\n"
          ]
        },
        {
          "output_type": "stream",
          "name": "stderr",
          "text": [
            "Fold 0 Epoch 17/30 [Train]:  92%|█████████▏| 92/100 [00:23<00:02,  3.91it/s, Loss=3.8967]"
          ]
        },
        {
          "output_type": "stream",
          "name": "stdout",
          "text": [
            "*** DEBUG: Batch 90 COMPLETED - Memory cleared ***\n"
          ]
        },
        {
          "output_type": "stream",
          "name": "stderr",
          "text": [
            "Fold 0 Epoch 17/30 [Train]: 100%|██████████| 100/100 [00:25<00:00,  3.87it/s, Loss=3.9356]\n",
            "Fold 0 Epoch 17/30 [Val]: 100%|██████████| 25/25 [00:06<00:00,  3.82it/s, Loss=19.7341]\n"
          ]
        },
        {
          "output_type": "stream",
          "name": "stdout",
          "text": [
            "Fold 0 Epoch 17/30:\n",
            "  Train MAPE: 3.7889%\n",
            "  Val MAPE: 19.1047%\n",
            "  LR: 0.000050\n",
            "--------------------------------------------------\n"
          ]
        },
        {
          "output_type": "stream",
          "name": "stderr",
          "text": [
            "Fold 0 Epoch 18/30 [Train]:   1%|          | 1/100 [00:00<01:00,  1.64it/s, Loss=3.4950]"
          ]
        },
        {
          "output_type": "stream",
          "name": "stdout",
          "text": [
            "*** DEBUG: Batch 0 COMPLETED - Memory cleared ***\n"
          ]
        },
        {
          "output_type": "stream",
          "name": "stderr",
          "text": [
            "Fold 0 Epoch 18/30 [Train]:  11%|█         | 11/100 [00:03<00:24,  3.56it/s, Loss=3.6515]"
          ]
        },
        {
          "output_type": "stream",
          "name": "stdout",
          "text": [
            "*** DEBUG: Batch 10 COMPLETED - Memory cleared ***\n"
          ]
        },
        {
          "output_type": "stream",
          "name": "stderr",
          "text": [
            "Fold 0 Epoch 18/30 [Train]:  21%|██        | 21/100 [00:05<00:20,  3.84it/s, Loss=3.5395]"
          ]
        },
        {
          "output_type": "stream",
          "name": "stdout",
          "text": [
            "*** DEBUG: Batch 20 COMPLETED - Memory cleared ***\n"
          ]
        },
        {
          "output_type": "stream",
          "name": "stderr",
          "text": [
            "Fold 0 Epoch 18/30 [Train]:  31%|███       | 31/100 [00:08<00:17,  3.86it/s, Loss=3.6888]"
          ]
        },
        {
          "output_type": "stream",
          "name": "stdout",
          "text": [
            "*** DEBUG: Batch 30 COMPLETED - Memory cleared ***\n"
          ]
        },
        {
          "output_type": "stream",
          "name": "stderr",
          "text": [
            "Fold 0 Epoch 18/30 [Train]:  41%|████      | 41/100 [00:11<00:15,  3.90it/s, Loss=3.5430]"
          ]
        },
        {
          "output_type": "stream",
          "name": "stdout",
          "text": [
            "*** DEBUG: Batch 40 COMPLETED - Memory cleared ***\n"
          ]
        },
        {
          "output_type": "stream",
          "name": "stderr",
          "text": [
            "Fold 0 Epoch 18/30 [Train]:  51%|█████     | 51/100 [00:13<00:12,  3.95it/s, Loss=3.9663]"
          ]
        },
        {
          "output_type": "stream",
          "name": "stdout",
          "text": [
            "*** DEBUG: Batch 50 COMPLETED - Memory cleared ***\n"
          ]
        },
        {
          "output_type": "stream",
          "name": "stderr",
          "text": [
            "Fold 0 Epoch 18/30 [Train]:  61%|██████    | 61/100 [00:16<00:10,  3.69it/s, Loss=3.2256]"
          ]
        },
        {
          "output_type": "stream",
          "name": "stdout",
          "text": [
            "*** DEBUG: Batch 60 COMPLETED - Memory cleared ***\n"
          ]
        },
        {
          "output_type": "stream",
          "name": "stderr",
          "text": [
            "Fold 0 Epoch 18/30 [Train]:  71%|███████   | 71/100 [00:18<00:07,  3.85it/s, Loss=4.2303]"
          ]
        },
        {
          "output_type": "stream",
          "name": "stdout",
          "text": [
            "*** DEBUG: Batch 70 COMPLETED - Memory cleared ***\n"
          ]
        },
        {
          "output_type": "stream",
          "name": "stderr",
          "text": [
            "Fold 0 Epoch 18/30 [Train]:  81%|████████  | 81/100 [00:21<00:05,  3.76it/s, Loss=3.5616]"
          ]
        },
        {
          "output_type": "stream",
          "name": "stdout",
          "text": [
            "*** DEBUG: Batch 80 COMPLETED - Memory cleared ***\n"
          ]
        },
        {
          "output_type": "stream",
          "name": "stderr",
          "text": [
            "Fold 0 Epoch 18/30 [Train]:  91%|█████████ | 91/100 [00:24<00:02,  3.92it/s, Loss=3.6644]"
          ]
        },
        {
          "output_type": "stream",
          "name": "stdout",
          "text": [
            "*** DEBUG: Batch 90 COMPLETED - Memory cleared ***\n"
          ]
        },
        {
          "output_type": "stream",
          "name": "stderr",
          "text": [
            "Fold 0 Epoch 18/30 [Train]: 100%|██████████| 100/100 [00:26<00:00,  3.83it/s, Loss=3.3457]\n",
            "Fold 0 Epoch 18/30 [Val]: 100%|██████████| 25/25 [00:06<00:00,  3.62it/s, Loss=35.3906]\n"
          ]
        },
        {
          "output_type": "stream",
          "name": "stdout",
          "text": [
            "Fold 0 Epoch 18/30:\n",
            "  Train MAPE: 3.6942%\n",
            "  Val MAPE: 34.2412%\n",
            "  LR: 0.000025\n",
            "--------------------------------------------------\n"
          ]
        },
        {
          "output_type": "stream",
          "name": "stderr",
          "text": [
            "Fold 0 Epoch 19/30 [Train]:   1%|          | 1/100 [00:00<01:02,  1.60it/s, Loss=3.5303]"
          ]
        },
        {
          "output_type": "stream",
          "name": "stdout",
          "text": [
            "*** DEBUG: Batch 0 COMPLETED - Memory cleared ***\n"
          ]
        },
        {
          "output_type": "stream",
          "name": "stderr",
          "text": [
            "Fold 0 Epoch 19/30 [Train]:  11%|█         | 11/100 [00:03<00:23,  3.84it/s, Loss=3.6012]"
          ]
        },
        {
          "output_type": "stream",
          "name": "stdout",
          "text": [
            "*** DEBUG: Batch 10 COMPLETED - Memory cleared ***\n"
          ]
        },
        {
          "output_type": "stream",
          "name": "stderr",
          "text": [
            "Fold 0 Epoch 19/30 [Train]:  21%|██        | 21/100 [00:05<00:20,  3.92it/s, Loss=3.9415]"
          ]
        },
        {
          "output_type": "stream",
          "name": "stdout",
          "text": [
            "*** DEBUG: Batch 20 COMPLETED - Memory cleared ***\n"
          ]
        },
        {
          "output_type": "stream",
          "name": "stderr",
          "text": [
            "Fold 0 Epoch 19/30 [Train]:  31%|███       | 31/100 [00:08<00:18,  3.79it/s, Loss=3.3826]"
          ]
        },
        {
          "output_type": "stream",
          "name": "stdout",
          "text": [
            "*** DEBUG: Batch 30 COMPLETED - Memory cleared ***\n"
          ]
        },
        {
          "output_type": "stream",
          "name": "stderr",
          "text": [
            "Fold 0 Epoch 19/30 [Train]:  41%|████      | 41/100 [00:10<00:14,  4.00it/s, Loss=3.6919]"
          ]
        },
        {
          "output_type": "stream",
          "name": "stdout",
          "text": [
            "*** DEBUG: Batch 40 COMPLETED - Memory cleared ***\n"
          ]
        },
        {
          "output_type": "stream",
          "name": "stderr",
          "text": [
            "Fold 0 Epoch 19/30 [Train]:  51%|█████     | 51/100 [00:13<00:12,  3.88it/s, Loss=4.5414]"
          ]
        },
        {
          "output_type": "stream",
          "name": "stdout",
          "text": [
            "*** DEBUG: Batch 50 COMPLETED - Memory cleared ***\n"
          ]
        },
        {
          "output_type": "stream",
          "name": "stderr",
          "text": [
            "Fold 0 Epoch 19/30 [Train]:  61%|██████    | 61/100 [00:15<00:09,  3.98it/s, Loss=3.8038]"
          ]
        },
        {
          "output_type": "stream",
          "name": "stdout",
          "text": [
            "*** DEBUG: Batch 60 COMPLETED - Memory cleared ***\n"
          ]
        },
        {
          "output_type": "stream",
          "name": "stderr",
          "text": [
            "Fold 0 Epoch 19/30 [Train]:  72%|███████▏  | 72/100 [00:18<00:06,  4.36it/s, Loss=3.6083]"
          ]
        },
        {
          "output_type": "stream",
          "name": "stdout",
          "text": [
            "*** DEBUG: Batch 70 COMPLETED - Memory cleared ***\n"
          ]
        },
        {
          "output_type": "stream",
          "name": "stderr",
          "text": [
            "Fold 0 Epoch 19/30 [Train]:  82%|████████▏ | 82/100 [00:21<00:04,  4.25it/s, Loss=3.5079]"
          ]
        },
        {
          "output_type": "stream",
          "name": "stdout",
          "text": [
            "*** DEBUG: Batch 80 COMPLETED - Memory cleared ***\n"
          ]
        },
        {
          "output_type": "stream",
          "name": "stderr",
          "text": [
            "Fold 0 Epoch 19/30 [Train]:  92%|█████████▏| 92/100 [00:23<00:01,  4.12it/s, Loss=3.5326]"
          ]
        },
        {
          "output_type": "stream",
          "name": "stdout",
          "text": [
            "*** DEBUG: Batch 90 COMPLETED - Memory cleared ***\n"
          ]
        },
        {
          "output_type": "stream",
          "name": "stderr",
          "text": [
            "Fold 0 Epoch 19/30 [Train]: 100%|██████████| 100/100 [00:26<00:00,  3.84it/s, Loss=3.1877]\n",
            "Fold 0 Epoch 19/30 [Val]: 100%|██████████| 25/25 [00:06<00:00,  3.69it/s, Loss=16.3380]\n"
          ]
        },
        {
          "output_type": "stream",
          "name": "stdout",
          "text": [
            "Fold 0 Epoch 19/30:\n",
            "  Train MAPE: 3.6536%\n",
            "  Val MAPE: 16.1200%\n",
            "  LR: 0.000025\n",
            "--------------------------------------------------\n"
          ]
        },
        {
          "output_type": "stream",
          "name": "stderr",
          "text": [
            "Fold 0 Epoch 20/30 [Train]:   1%|          | 1/100 [00:00<01:07,  1.48it/s, Loss=3.5745]"
          ]
        },
        {
          "output_type": "stream",
          "name": "stdout",
          "text": [
            "*** DEBUG: Batch 0 COMPLETED - Memory cleared ***\n"
          ]
        },
        {
          "output_type": "stream",
          "name": "stderr",
          "text": [
            "Fold 0 Epoch 20/30 [Train]:  11%|█         | 11/100 [00:03<00:24,  3.65it/s, Loss=3.9017]"
          ]
        },
        {
          "output_type": "stream",
          "name": "stdout",
          "text": [
            "*** DEBUG: Batch 10 COMPLETED - Memory cleared ***\n"
          ]
        },
        {
          "output_type": "stream",
          "name": "stderr",
          "text": [
            "Fold 0 Epoch 20/30 [Train]:  21%|██        | 21/100 [00:05<00:20,  3.87it/s, Loss=3.2641]"
          ]
        },
        {
          "output_type": "stream",
          "name": "stdout",
          "text": [
            "*** DEBUG: Batch 20 COMPLETED - Memory cleared ***\n"
          ]
        },
        {
          "output_type": "stream",
          "name": "stderr",
          "text": [
            "Fold 0 Epoch 20/30 [Train]:  31%|███       | 31/100 [00:08<00:18,  3.79it/s, Loss=3.6972]"
          ]
        },
        {
          "output_type": "stream",
          "name": "stdout",
          "text": [
            "*** DEBUG: Batch 30 COMPLETED - Memory cleared ***\n"
          ]
        },
        {
          "output_type": "stream",
          "name": "stderr",
          "text": [
            "Fold 0 Epoch 20/30 [Train]:  41%|████      | 41/100 [00:11<00:15,  3.86it/s, Loss=3.2536]"
          ]
        },
        {
          "output_type": "stream",
          "name": "stdout",
          "text": [
            "*** DEBUG: Batch 40 COMPLETED - Memory cleared ***\n"
          ]
        },
        {
          "output_type": "stream",
          "name": "stderr",
          "text": [
            "Fold 0 Epoch 20/30 [Train]:  51%|█████     | 51/100 [00:13<00:12,  3.86it/s, Loss=3.2912]"
          ]
        },
        {
          "output_type": "stream",
          "name": "stdout",
          "text": [
            "*** DEBUG: Batch 50 COMPLETED - Memory cleared ***\n"
          ]
        },
        {
          "output_type": "stream",
          "name": "stderr",
          "text": [
            "Fold 0 Epoch 20/30 [Train]:  61%|██████    | 61/100 [00:16<00:10,  3.73it/s, Loss=3.6050]"
          ]
        },
        {
          "output_type": "stream",
          "name": "stdout",
          "text": [
            "*** DEBUG: Batch 60 COMPLETED - Memory cleared ***\n"
          ]
        },
        {
          "output_type": "stream",
          "name": "stderr",
          "text": [
            "Fold 0 Epoch 20/30 [Train]:  71%|███████   | 71/100 [00:19<00:07,  3.75it/s, Loss=3.6417]"
          ]
        },
        {
          "output_type": "stream",
          "name": "stdout",
          "text": [
            "*** DEBUG: Batch 70 COMPLETED - Memory cleared ***\n"
          ]
        },
        {
          "output_type": "stream",
          "name": "stderr",
          "text": [
            "Fold 0 Epoch 20/30 [Train]:  81%|████████  | 81/100 [00:21<00:04,  3.86it/s, Loss=3.8612]"
          ]
        },
        {
          "output_type": "stream",
          "name": "stdout",
          "text": [
            "*** DEBUG: Batch 80 COMPLETED - Memory cleared ***\n"
          ]
        },
        {
          "output_type": "stream",
          "name": "stderr",
          "text": [
            "Fold 0 Epoch 20/30 [Train]:  91%|█████████ | 91/100 [00:24<00:02,  3.77it/s, Loss=3.7273]"
          ]
        },
        {
          "output_type": "stream",
          "name": "stdout",
          "text": [
            "*** DEBUG: Batch 90 COMPLETED - Memory cleared ***\n"
          ]
        },
        {
          "output_type": "stream",
          "name": "stderr",
          "text": [
            "Fold 0 Epoch 20/30 [Train]: 100%|██████████| 100/100 [00:26<00:00,  3.79it/s, Loss=3.5357]\n",
            "Fold 0 Epoch 20/30 [Val]: 100%|██████████| 25/25 [00:06<00:00,  3.76it/s, Loss=22.5052]\n"
          ]
        },
        {
          "output_type": "stream",
          "name": "stdout",
          "text": [
            "Fold 0 Epoch 20/30:\n",
            "  Train MAPE: 3.6187%\n",
            "  Val MAPE: 24.4577%\n",
            "  LR: 0.000025\n",
            "--------------------------------------------------\n"
          ]
        },
        {
          "output_type": "stream",
          "name": "stderr",
          "text": [
            "Fold 0 Epoch 21/30 [Train]:   1%|          | 1/100 [00:00<01:04,  1.54it/s, Loss=4.1035]"
          ]
        },
        {
          "output_type": "stream",
          "name": "stdout",
          "text": [
            "*** DEBUG: Batch 0 COMPLETED - Memory cleared ***\n"
          ]
        },
        {
          "output_type": "stream",
          "name": "stderr",
          "text": [
            "Fold 0 Epoch 21/30 [Train]:  11%|█         | 11/100 [00:03<00:24,  3.56it/s, Loss=3.4469]"
          ]
        },
        {
          "output_type": "stream",
          "name": "stdout",
          "text": [
            "*** DEBUG: Batch 10 COMPLETED - Memory cleared ***\n"
          ]
        },
        {
          "output_type": "stream",
          "name": "stderr",
          "text": [
            "Fold 0 Epoch 21/30 [Train]:  21%|██        | 21/100 [00:05<00:20,  3.85it/s, Loss=3.6147]"
          ]
        },
        {
          "output_type": "stream",
          "name": "stdout",
          "text": [
            "*** DEBUG: Batch 20 COMPLETED - Memory cleared ***\n"
          ]
        },
        {
          "output_type": "stream",
          "name": "stderr",
          "text": [
            "Fold 0 Epoch 21/30 [Train]:  31%|███       | 31/100 [00:08<00:18,  3.79it/s, Loss=3.5453]"
          ]
        },
        {
          "output_type": "stream",
          "name": "stdout",
          "text": [
            "*** DEBUG: Batch 30 COMPLETED - Memory cleared ***\n"
          ]
        },
        {
          "output_type": "stream",
          "name": "stderr",
          "text": [
            "Fold 0 Epoch 21/30 [Train]:  41%|████      | 41/100 [00:11<00:15,  3.84it/s, Loss=3.4640]"
          ]
        },
        {
          "output_type": "stream",
          "name": "stdout",
          "text": [
            "*** DEBUG: Batch 40 COMPLETED - Memory cleared ***\n"
          ]
        },
        {
          "output_type": "stream",
          "name": "stderr",
          "text": [
            "Fold 0 Epoch 21/30 [Train]:  51%|█████     | 51/100 [00:13<00:12,  3.84it/s, Loss=3.4449]"
          ]
        },
        {
          "output_type": "stream",
          "name": "stdout",
          "text": [
            "*** DEBUG: Batch 50 COMPLETED - Memory cleared ***\n"
          ]
        },
        {
          "output_type": "stream",
          "name": "stderr",
          "text": [
            "Fold 0 Epoch 21/30 [Train]:  61%|██████    | 61/100 [00:16<00:10,  3.83it/s, Loss=3.7726]"
          ]
        },
        {
          "output_type": "stream",
          "name": "stdout",
          "text": [
            "*** DEBUG: Batch 60 COMPLETED - Memory cleared ***\n"
          ]
        },
        {
          "output_type": "stream",
          "name": "stderr",
          "text": [
            "Fold 0 Epoch 21/30 [Train]:  71%|███████   | 71/100 [00:18<00:07,  3.88it/s, Loss=4.5424]"
          ]
        },
        {
          "output_type": "stream",
          "name": "stdout",
          "text": [
            "*** DEBUG: Batch 70 COMPLETED - Memory cleared ***\n"
          ]
        },
        {
          "output_type": "stream",
          "name": "stderr",
          "text": [
            "Fold 0 Epoch 21/30 [Train]:  81%|████████  | 81/100 [00:21<00:04,  3.96it/s, Loss=3.2917]"
          ]
        },
        {
          "output_type": "stream",
          "name": "stdout",
          "text": [
            "*** DEBUG: Batch 80 COMPLETED - Memory cleared ***\n"
          ]
        },
        {
          "output_type": "stream",
          "name": "stderr",
          "text": [
            "Fold 0 Epoch 21/30 [Train]:  91%|█████████ | 91/100 [00:24<00:02,  3.94it/s, Loss=3.4587]"
          ]
        },
        {
          "output_type": "stream",
          "name": "stdout",
          "text": [
            "*** DEBUG: Batch 90 COMPLETED - Memory cleared ***\n"
          ]
        },
        {
          "output_type": "stream",
          "name": "stderr",
          "text": [
            "Fold 0 Epoch 21/30 [Train]: 100%|██████████| 100/100 [00:26<00:00,  3.82it/s, Loss=3.4400]\n",
            "Fold 0 Epoch 21/30 [Val]: 100%|██████████| 25/25 [00:06<00:00,  3.80it/s, Loss=21.8014]\n"
          ]
        },
        {
          "output_type": "stream",
          "name": "stdout",
          "text": [
            "Fold 0 Epoch 21/30:\n",
            "  Train MAPE: 3.6229%\n",
            "  Val MAPE: 23.7449%\n",
            "  LR: 0.000025\n",
            "--------------------------------------------------\n"
          ]
        },
        {
          "output_type": "stream",
          "name": "stderr",
          "text": [
            "Fold 0 Epoch 22/30 [Train]:   1%|          | 1/100 [00:00<01:02,  1.58it/s, Loss=3.4512]"
          ]
        },
        {
          "output_type": "stream",
          "name": "stdout",
          "text": [
            "*** DEBUG: Batch 0 COMPLETED - Memory cleared ***\n"
          ]
        },
        {
          "output_type": "stream",
          "name": "stderr",
          "text": [
            "Fold 0 Epoch 22/30 [Train]:  11%|█         | 11/100 [00:03<00:24,  3.69it/s, Loss=3.4694]"
          ]
        },
        {
          "output_type": "stream",
          "name": "stdout",
          "text": [
            "*** DEBUG: Batch 10 COMPLETED - Memory cleared ***\n"
          ]
        },
        {
          "output_type": "stream",
          "name": "stderr",
          "text": [
            "Fold 0 Epoch 22/30 [Train]:  21%|██        | 21/100 [00:05<00:20,  3.81it/s, Loss=3.3562]"
          ]
        },
        {
          "output_type": "stream",
          "name": "stdout",
          "text": [
            "*** DEBUG: Batch 20 COMPLETED - Memory cleared ***\n"
          ]
        },
        {
          "output_type": "stream",
          "name": "stderr",
          "text": [
            "Fold 0 Epoch 22/30 [Train]:  31%|███       | 31/100 [00:08<00:17,  3.99it/s, Loss=3.5098]"
          ]
        },
        {
          "output_type": "stream",
          "name": "stdout",
          "text": [
            "*** DEBUG: Batch 30 COMPLETED - Memory cleared ***\n"
          ]
        },
        {
          "output_type": "stream",
          "name": "stderr",
          "text": [
            "Fold 0 Epoch 22/30 [Train]:  41%|████      | 41/100 [00:10<00:14,  3.93it/s, Loss=4.4059]"
          ]
        },
        {
          "output_type": "stream",
          "name": "stdout",
          "text": [
            "*** DEBUG: Batch 40 COMPLETED - Memory cleared ***\n"
          ]
        },
        {
          "output_type": "stream",
          "name": "stderr",
          "text": [
            "Fold 0 Epoch 22/30 [Train]:  51%|█████     | 51/100 [00:13<00:12,  3.91it/s, Loss=3.6391]"
          ]
        },
        {
          "output_type": "stream",
          "name": "stdout",
          "text": [
            "*** DEBUG: Batch 50 COMPLETED - Memory cleared ***\n"
          ]
        },
        {
          "output_type": "stream",
          "name": "stderr",
          "text": [
            "Fold 0 Epoch 22/30 [Train]:  62%|██████▏   | 62/100 [00:15<00:08,  4.49it/s, Loss=3.4588]"
          ]
        },
        {
          "output_type": "stream",
          "name": "stdout",
          "text": [
            "*** DEBUG: Batch 60 COMPLETED - Memory cleared ***\n"
          ]
        },
        {
          "output_type": "stream",
          "name": "stderr",
          "text": [
            "Fold 0 Epoch 22/30 [Train]:  71%|███████   | 71/100 [00:18<00:07,  3.83it/s, Loss=3.2947]"
          ]
        },
        {
          "output_type": "stream",
          "name": "stdout",
          "text": [
            "*** DEBUG: Batch 70 COMPLETED - Memory cleared ***\n"
          ]
        },
        {
          "output_type": "stream",
          "name": "stderr",
          "text": [
            "Fold 0 Epoch 22/30 [Train]:  81%|████████  | 81/100 [00:21<00:05,  3.79it/s, Loss=4.6917]"
          ]
        },
        {
          "output_type": "stream",
          "name": "stdout",
          "text": [
            "*** DEBUG: Batch 80 COMPLETED - Memory cleared ***\n"
          ]
        },
        {
          "output_type": "stream",
          "name": "stderr",
          "text": [
            "Fold 0 Epoch 22/30 [Train]:  91%|█████████ | 91/100 [00:23<00:02,  3.83it/s, Loss=3.2324]"
          ]
        },
        {
          "output_type": "stream",
          "name": "stdout",
          "text": [
            "*** DEBUG: Batch 90 COMPLETED - Memory cleared ***\n"
          ]
        },
        {
          "output_type": "stream",
          "name": "stderr",
          "text": [
            "Fold 0 Epoch 22/30 [Train]: 100%|██████████| 100/100 [00:25<00:00,  3.88it/s, Loss=3.5656]\n",
            "Fold 0 Epoch 22/30 [Val]: 100%|██████████| 25/25 [00:06<00:00,  3.84it/s, Loss=31.0903]\n"
          ]
        },
        {
          "output_type": "stream",
          "name": "stdout",
          "text": [
            "Fold 0 Epoch 22/30:\n",
            "  Train MAPE: 3.5785%\n",
            "  Val MAPE: 30.0019%\n",
            "  LR: 0.000025\n",
            "--------------------------------------------------\n"
          ]
        },
        {
          "output_type": "stream",
          "name": "stderr",
          "text": [
            "Fold 0 Epoch 23/30 [Train]:   1%|          | 1/100 [00:00<01:02,  1.57it/s, Loss=4.8088]"
          ]
        },
        {
          "output_type": "stream",
          "name": "stdout",
          "text": [
            "*** DEBUG: Batch 0 COMPLETED - Memory cleared ***\n"
          ]
        },
        {
          "output_type": "stream",
          "name": "stderr",
          "text": [
            "Fold 0 Epoch 23/30 [Train]:  11%|█         | 11/100 [00:03<00:23,  3.81it/s, Loss=3.6170]"
          ]
        },
        {
          "output_type": "stream",
          "name": "stdout",
          "text": [
            "*** DEBUG: Batch 10 COMPLETED - Memory cleared ***\n"
          ]
        },
        {
          "output_type": "stream",
          "name": "stderr",
          "text": [
            "Fold 0 Epoch 23/30 [Train]:  21%|██        | 21/100 [00:05<00:20,  3.91it/s, Loss=3.7290]"
          ]
        },
        {
          "output_type": "stream",
          "name": "stdout",
          "text": [
            "*** DEBUG: Batch 20 COMPLETED - Memory cleared ***\n"
          ]
        },
        {
          "output_type": "stream",
          "name": "stderr",
          "text": [
            "Fold 0 Epoch 23/30 [Train]:  31%|███       | 31/100 [00:08<00:17,  3.88it/s, Loss=3.2477]"
          ]
        },
        {
          "output_type": "stream",
          "name": "stdout",
          "text": [
            "*** DEBUG: Batch 30 COMPLETED - Memory cleared ***\n"
          ]
        },
        {
          "output_type": "stream",
          "name": "stderr",
          "text": [
            "Fold 0 Epoch 23/30 [Train]:  41%|████      | 41/100 [00:10<00:15,  3.76it/s, Loss=3.6308]"
          ]
        },
        {
          "output_type": "stream",
          "name": "stdout",
          "text": [
            "*** DEBUG: Batch 40 COMPLETED - Memory cleared ***\n"
          ]
        },
        {
          "output_type": "stream",
          "name": "stderr",
          "text": [
            "Fold 0 Epoch 23/30 [Train]:  51%|█████     | 51/100 [00:13<00:12,  3.78it/s, Loss=3.1219]"
          ]
        },
        {
          "output_type": "stream",
          "name": "stdout",
          "text": [
            "*** DEBUG: Batch 50 COMPLETED - Memory cleared ***\n"
          ]
        },
        {
          "output_type": "stream",
          "name": "stderr",
          "text": [
            "Fold 0 Epoch 23/30 [Train]:  61%|██████    | 61/100 [00:16<00:10,  3.71it/s, Loss=3.1116]"
          ]
        },
        {
          "output_type": "stream",
          "name": "stdout",
          "text": [
            "*** DEBUG: Batch 60 COMPLETED - Memory cleared ***\n"
          ]
        },
        {
          "output_type": "stream",
          "name": "stderr",
          "text": [
            "Fold 0 Epoch 23/30 [Train]:  71%|███████   | 71/100 [00:18<00:07,  3.83it/s, Loss=3.1077]"
          ]
        },
        {
          "output_type": "stream",
          "name": "stdout",
          "text": [
            "*** DEBUG: Batch 70 COMPLETED - Memory cleared ***\n"
          ]
        },
        {
          "output_type": "stream",
          "name": "stderr",
          "text": [
            "Fold 0 Epoch 23/30 [Train]:  81%|████████  | 81/100 [00:21<00:04,  3.86it/s, Loss=3.0551]"
          ]
        },
        {
          "output_type": "stream",
          "name": "stdout",
          "text": [
            "*** DEBUG: Batch 80 COMPLETED - Memory cleared ***\n"
          ]
        },
        {
          "output_type": "stream",
          "name": "stderr",
          "text": [
            "Fold 0 Epoch 23/30 [Train]:  91%|█████████ | 91/100 [00:24<00:02,  3.72it/s, Loss=3.6084]"
          ]
        },
        {
          "output_type": "stream",
          "name": "stdout",
          "text": [
            "*** DEBUG: Batch 90 COMPLETED - Memory cleared ***\n"
          ]
        },
        {
          "output_type": "stream",
          "name": "stderr",
          "text": [
            "Fold 0 Epoch 23/30 [Train]: 100%|██████████| 100/100 [00:26<00:00,  3.82it/s, Loss=3.3758]\n",
            "Fold 0 Epoch 23/30 [Val]: 100%|██████████| 25/25 [00:06<00:00,  3.79it/s, Loss=34.4525]\n"
          ]
        },
        {
          "output_type": "stream",
          "name": "stdout",
          "text": [
            "Fold 0 Epoch 23/30:\n",
            "  Train MAPE: 3.5386%\n",
            "  Val MAPE: 33.4176%\n",
            "  LR: 0.000025\n",
            "--------------------------------------------------\n"
          ]
        },
        {
          "output_type": "stream",
          "name": "stderr",
          "text": [
            "Fold 0 Epoch 24/30 [Train]:   1%|          | 1/100 [00:00<01:05,  1.52it/s, Loss=3.3716]"
          ]
        },
        {
          "output_type": "stream",
          "name": "stdout",
          "text": [
            "*** DEBUG: Batch 0 COMPLETED - Memory cleared ***\n"
          ]
        },
        {
          "output_type": "stream",
          "name": "stderr",
          "text": [
            "Fold 0 Epoch 24/30 [Train]:  11%|█         | 11/100 [00:03<00:24,  3.65it/s, Loss=3.6666]"
          ]
        },
        {
          "output_type": "stream",
          "name": "stdout",
          "text": [
            "*** DEBUG: Batch 10 COMPLETED - Memory cleared ***\n"
          ]
        },
        {
          "output_type": "stream",
          "name": "stderr",
          "text": [
            "Fold 0 Epoch 24/30 [Train]:  21%|██        | 21/100 [00:05<00:19,  4.05it/s, Loss=3.9058]"
          ]
        },
        {
          "output_type": "stream",
          "name": "stdout",
          "text": [
            "*** DEBUG: Batch 20 COMPLETED - Memory cleared ***\n"
          ]
        },
        {
          "output_type": "stream",
          "name": "stderr",
          "text": [
            "Fold 0 Epoch 24/30 [Train]:  31%|███       | 31/100 [00:08<00:17,  3.88it/s, Loss=3.5335]"
          ]
        },
        {
          "output_type": "stream",
          "name": "stdout",
          "text": [
            "*** DEBUG: Batch 30 COMPLETED - Memory cleared ***\n"
          ]
        },
        {
          "output_type": "stream",
          "name": "stderr",
          "text": [
            "Fold 0 Epoch 24/30 [Train]:  41%|████      | 41/100 [00:10<00:15,  3.88it/s, Loss=3.1295]"
          ]
        },
        {
          "output_type": "stream",
          "name": "stdout",
          "text": [
            "*** DEBUG: Batch 40 COMPLETED - Memory cleared ***\n"
          ]
        },
        {
          "output_type": "stream",
          "name": "stderr",
          "text": [
            "Fold 0 Epoch 24/30 [Train]:  51%|█████     | 51/100 [00:13<00:12,  3.81it/s, Loss=3.2347]"
          ]
        },
        {
          "output_type": "stream",
          "name": "stdout",
          "text": [
            "*** DEBUG: Batch 50 COMPLETED - Memory cleared ***\n"
          ]
        },
        {
          "output_type": "stream",
          "name": "stderr",
          "text": [
            "Fold 0 Epoch 24/30 [Train]:  61%|██████    | 61/100 [00:16<00:10,  3.90it/s, Loss=3.1634]"
          ]
        },
        {
          "output_type": "stream",
          "name": "stdout",
          "text": [
            "*** DEBUG: Batch 60 COMPLETED - Memory cleared ***\n"
          ]
        },
        {
          "output_type": "stream",
          "name": "stderr",
          "text": [
            "Fold 0 Epoch 24/30 [Train]:  72%|███████▏  | 72/100 [00:18<00:06,  4.49it/s, Loss=3.3403]"
          ]
        },
        {
          "output_type": "stream",
          "name": "stdout",
          "text": [
            "*** DEBUG: Batch 70 COMPLETED - Memory cleared ***\n"
          ]
        },
        {
          "output_type": "stream",
          "name": "stderr",
          "text": [
            "Fold 0 Epoch 24/30 [Train]:  81%|████████  | 81/100 [00:21<00:04,  3.87it/s, Loss=3.5712]"
          ]
        },
        {
          "output_type": "stream",
          "name": "stdout",
          "text": [
            "*** DEBUG: Batch 80 COMPLETED - Memory cleared ***\n"
          ]
        },
        {
          "output_type": "stream",
          "name": "stderr",
          "text": [
            "Fold 0 Epoch 24/30 [Train]:  91%|█████████ | 91/100 [00:23<00:02,  3.78it/s, Loss=4.7980]"
          ]
        },
        {
          "output_type": "stream",
          "name": "stdout",
          "text": [
            "*** DEBUG: Batch 90 COMPLETED - Memory cleared ***\n"
          ]
        },
        {
          "output_type": "stream",
          "name": "stderr",
          "text": [
            "Fold 0 Epoch 24/30 [Train]: 100%|██████████| 100/100 [00:25<00:00,  3.88it/s, Loss=3.4007]\n",
            "Fold 0 Epoch 24/30 [Val]: 100%|██████████| 25/25 [00:06<00:00,  3.79it/s, Loss=20.0658]\n"
          ]
        },
        {
          "output_type": "stream",
          "name": "stdout",
          "text": [
            "Fold 0 Epoch 24/30:\n",
            "  Train MAPE: 3.5655%\n",
            "  Val MAPE: 21.9118%\n",
            "  LR: 0.000013\n",
            "--------------------------------------------------\n"
          ]
        },
        {
          "output_type": "stream",
          "name": "stderr",
          "text": [
            "Fold 0 Epoch 25/30 [Train]:   1%|          | 1/100 [00:00<01:08,  1.45it/s, Loss=4.1832]"
          ]
        },
        {
          "output_type": "stream",
          "name": "stdout",
          "text": [
            "*** DEBUG: Batch 0 COMPLETED - Memory cleared ***\n"
          ]
        },
        {
          "output_type": "stream",
          "name": "stderr",
          "text": [
            "Fold 0 Epoch 25/30 [Train]:  11%|█         | 11/100 [00:03<00:25,  3.51it/s, Loss=3.1035]"
          ]
        },
        {
          "output_type": "stream",
          "name": "stdout",
          "text": [
            "*** DEBUG: Batch 10 COMPLETED - Memory cleared ***\n"
          ]
        },
        {
          "output_type": "stream",
          "name": "stderr",
          "text": [
            "Fold 0 Epoch 25/30 [Train]:  21%|██        | 21/100 [00:06<00:20,  3.78it/s, Loss=3.2279]"
          ]
        },
        {
          "output_type": "stream",
          "name": "stdout",
          "text": [
            "*** DEBUG: Batch 20 COMPLETED - Memory cleared ***\n"
          ]
        },
        {
          "output_type": "stream",
          "name": "stderr",
          "text": [
            "Fold 0 Epoch 25/30 [Train]:  31%|███       | 31/100 [00:08<00:18,  3.82it/s, Loss=3.3905]"
          ]
        },
        {
          "output_type": "stream",
          "name": "stdout",
          "text": [
            "*** DEBUG: Batch 30 COMPLETED - Memory cleared ***\n"
          ]
        },
        {
          "output_type": "stream",
          "name": "stderr",
          "text": [
            "Fold 0 Epoch 25/30 [Train]:  41%|████      | 41/100 [00:11<00:15,  3.77it/s, Loss=3.3199]"
          ]
        },
        {
          "output_type": "stream",
          "name": "stdout",
          "text": [
            "*** DEBUG: Batch 40 COMPLETED - Memory cleared ***\n"
          ]
        },
        {
          "output_type": "stream",
          "name": "stderr",
          "text": [
            "Fold 0 Epoch 25/30 [Train]:  51%|█████     | 51/100 [00:13<00:13,  3.73it/s, Loss=3.1805]"
          ]
        },
        {
          "output_type": "stream",
          "name": "stdout",
          "text": [
            "*** DEBUG: Batch 50 COMPLETED - Memory cleared ***\n"
          ]
        },
        {
          "output_type": "stream",
          "name": "stderr",
          "text": [
            "Fold 0 Epoch 25/30 [Train]:  61%|██████    | 61/100 [00:16<00:10,  3.69it/s, Loss=3.6819]"
          ]
        },
        {
          "output_type": "stream",
          "name": "stdout",
          "text": [
            "*** DEBUG: Batch 60 COMPLETED - Memory cleared ***\n"
          ]
        },
        {
          "output_type": "stream",
          "name": "stderr",
          "text": [
            "Fold 0 Epoch 25/30 [Train]:  71%|███████   | 71/100 [00:19<00:07,  3.73it/s, Loss=3.6166]"
          ]
        },
        {
          "output_type": "stream",
          "name": "stdout",
          "text": [
            "*** DEBUG: Batch 70 COMPLETED - Memory cleared ***\n"
          ]
        },
        {
          "output_type": "stream",
          "name": "stderr",
          "text": [
            "Fold 0 Epoch 25/30 [Train]:  81%|████████  | 81/100 [00:21<00:05,  3.64it/s, Loss=3.3572]"
          ]
        },
        {
          "output_type": "stream",
          "name": "stdout",
          "text": [
            "*** DEBUG: Batch 80 COMPLETED - Memory cleared ***\n"
          ]
        },
        {
          "output_type": "stream",
          "name": "stderr",
          "text": [
            "Fold 0 Epoch 25/30 [Train]:  91%|█████████ | 91/100 [00:24<00:02,  3.74it/s, Loss=2.9687]"
          ]
        },
        {
          "output_type": "stream",
          "name": "stdout",
          "text": [
            "*** DEBUG: Batch 90 COMPLETED - Memory cleared ***\n"
          ]
        },
        {
          "output_type": "stream",
          "name": "stderr",
          "text": [
            "Fold 0 Epoch 25/30 [Train]: 100%|██████████| 100/100 [00:26<00:00,  3.74it/s, Loss=3.3278]\n",
            "Fold 0 Epoch 25/30 [Val]: 100%|██████████| 25/25 [00:06<00:00,  3.75it/s, Loss=6.5876]\n"
          ]
        },
        {
          "output_type": "stream",
          "name": "stdout",
          "text": [
            "Fold 0 Epoch 25/30:\n",
            "  Train MAPE: 3.4914%\n",
            "  Val MAPE: 6.8394%\n",
            "  LR: 0.000013\n",
            "--------------------------------------------------\n",
            "Fold 0: New best model saved with Val MAPE = 6.8394%\n"
          ]
        },
        {
          "output_type": "stream",
          "name": "stderr",
          "text": [
            "Fold 0 Epoch 26/30 [Train]:   1%|          | 1/100 [00:01<02:54,  1.76s/it, Loss=3.3054]"
          ]
        },
        {
          "output_type": "stream",
          "name": "stdout",
          "text": [
            "*** DEBUG: Batch 0 COMPLETED - Memory cleared ***\n"
          ]
        },
        {
          "output_type": "stream",
          "name": "stderr",
          "text": [
            "Fold 0 Epoch 26/30 [Train]:  11%|█         | 11/100 [00:04<00:27,  3.29it/s, Loss=3.9858]"
          ]
        },
        {
          "output_type": "stream",
          "name": "stdout",
          "text": [
            "*** DEBUG: Batch 10 COMPLETED - Memory cleared ***\n"
          ]
        },
        {
          "output_type": "stream",
          "name": "stderr",
          "text": [
            "Fold 0 Epoch 26/30 [Train]:  21%|██        | 21/100 [00:07<00:21,  3.71it/s, Loss=3.1864]"
          ]
        },
        {
          "output_type": "stream",
          "name": "stdout",
          "text": [
            "*** DEBUG: Batch 20 COMPLETED - Memory cleared ***\n"
          ]
        },
        {
          "output_type": "stream",
          "name": "stderr",
          "text": [
            "Fold 0 Epoch 26/30 [Train]:  31%|███       | 31/100 [00:09<00:18,  3.66it/s, Loss=3.1115]"
          ]
        },
        {
          "output_type": "stream",
          "name": "stdout",
          "text": [
            "*** DEBUG: Batch 30 COMPLETED - Memory cleared ***\n"
          ]
        },
        {
          "output_type": "stream",
          "name": "stderr",
          "text": [
            "Fold 0 Epoch 26/30 [Train]:  41%|████      | 41/100 [00:19<00:37,  1.56it/s, Loss=3.3848]"
          ]
        },
        {
          "output_type": "stream",
          "name": "stdout",
          "text": [
            "*** DEBUG: Batch 40 COMPLETED - Memory cleared ***\n"
          ]
        },
        {
          "output_type": "stream",
          "name": "stderr",
          "text": [
            "Fold 0 Epoch 26/30 [Train]:  51%|█████     | 51/100 [00:22<00:16,  2.99it/s, Loss=3.0341]"
          ]
        },
        {
          "output_type": "stream",
          "name": "stdout",
          "text": [
            "*** DEBUG: Batch 50 COMPLETED - Memory cleared ***\n"
          ]
        },
        {
          "output_type": "stream",
          "name": "stderr",
          "text": [
            "Fold 0 Epoch 26/30 [Train]:  61%|██████    | 61/100 [00:24<00:10,  3.67it/s, Loss=3.2392]"
          ]
        },
        {
          "output_type": "stream",
          "name": "stdout",
          "text": [
            "*** DEBUG: Batch 60 COMPLETED - Memory cleared ***\n"
          ]
        },
        {
          "output_type": "stream",
          "name": "stderr",
          "text": [
            "Fold 0 Epoch 26/30 [Train]:  71%|███████   | 71/100 [00:27<00:07,  3.78it/s, Loss=3.0454]"
          ]
        },
        {
          "output_type": "stream",
          "name": "stdout",
          "text": [
            "*** DEBUG: Batch 70 COMPLETED - Memory cleared ***\n"
          ]
        },
        {
          "output_type": "stream",
          "name": "stderr",
          "text": [
            "Fold 0 Epoch 26/30 [Train]:  81%|████████  | 81/100 [00:30<00:05,  3.67it/s, Loss=3.5732]"
          ]
        },
        {
          "output_type": "stream",
          "name": "stdout",
          "text": [
            "*** DEBUG: Batch 80 COMPLETED - Memory cleared ***\n"
          ]
        },
        {
          "output_type": "stream",
          "name": "stderr",
          "text": [
            "Fold 0 Epoch 26/30 [Train]:  91%|█████████ | 91/100 [00:32<00:02,  3.74it/s, Loss=3.3663]"
          ]
        },
        {
          "output_type": "stream",
          "name": "stdout",
          "text": [
            "*** DEBUG: Batch 90 COMPLETED - Memory cleared ***\n"
          ]
        },
        {
          "output_type": "stream",
          "name": "stderr",
          "text": [
            "Fold 0 Epoch 26/30 [Train]: 100%|██████████| 100/100 [00:35<00:00,  2.84it/s, Loss=3.4229]\n",
            "Fold 0 Epoch 26/30 [Val]: 100%|██████████| 25/25 [00:06<00:00,  3.73it/s, Loss=33.4887]\n"
          ]
        },
        {
          "output_type": "stream",
          "name": "stdout",
          "text": [
            "Fold 0 Epoch 26/30:\n",
            "  Train MAPE: 3.3834%\n",
            "  Val MAPE: 32.1976%\n",
            "  LR: 0.000013\n",
            "--------------------------------------------------\n"
          ]
        },
        {
          "output_type": "stream",
          "name": "stderr",
          "text": [
            "Fold 0 Epoch 27/30 [Train]:   1%|          | 1/100 [00:00<01:05,  1.52it/s, Loss=3.3161]"
          ]
        },
        {
          "output_type": "stream",
          "name": "stdout",
          "text": [
            "*** DEBUG: Batch 0 COMPLETED - Memory cleared ***\n"
          ]
        },
        {
          "output_type": "stream",
          "name": "stderr",
          "text": [
            "Fold 0 Epoch 27/30 [Train]:  11%|█         | 11/100 [00:03<00:24,  3.62it/s, Loss=3.0591]"
          ]
        },
        {
          "output_type": "stream",
          "name": "stdout",
          "text": [
            "*** DEBUG: Batch 10 COMPLETED - Memory cleared ***\n"
          ]
        },
        {
          "output_type": "stream",
          "name": "stderr",
          "text": [
            "Fold 0 Epoch 27/30 [Train]:  21%|██        | 21/100 [00:05<00:20,  3.83it/s, Loss=3.5998]"
          ]
        },
        {
          "output_type": "stream",
          "name": "stdout",
          "text": [
            "*** DEBUG: Batch 20 COMPLETED - Memory cleared ***\n"
          ]
        },
        {
          "output_type": "stream",
          "name": "stderr",
          "text": [
            "Fold 0 Epoch 27/30 [Train]:  31%|███       | 31/100 [00:08<00:18,  3.80it/s, Loss=3.3104]"
          ]
        },
        {
          "output_type": "stream",
          "name": "stdout",
          "text": [
            "*** DEBUG: Batch 30 COMPLETED - Memory cleared ***\n"
          ]
        },
        {
          "output_type": "stream",
          "name": "stderr",
          "text": [
            "Fold 0 Epoch 27/30 [Train]:  41%|████      | 41/100 [00:11<00:15,  3.88it/s, Loss=3.2307]"
          ]
        },
        {
          "output_type": "stream",
          "name": "stdout",
          "text": [
            "*** DEBUG: Batch 40 COMPLETED - Memory cleared ***\n"
          ]
        },
        {
          "output_type": "stream",
          "name": "stderr",
          "text": [
            "Fold 0 Epoch 27/30 [Train]:  51%|█████     | 51/100 [00:13<00:12,  3.78it/s, Loss=3.4166]"
          ]
        },
        {
          "output_type": "stream",
          "name": "stdout",
          "text": [
            "*** DEBUG: Batch 50 COMPLETED - Memory cleared ***\n"
          ]
        },
        {
          "output_type": "stream",
          "name": "stderr",
          "text": [
            "Fold 0 Epoch 27/30 [Train]:  61%|██████    | 61/100 [00:16<00:10,  3.68it/s, Loss=3.2605]"
          ]
        },
        {
          "output_type": "stream",
          "name": "stdout",
          "text": [
            "*** DEBUG: Batch 60 COMPLETED - Memory cleared ***\n"
          ]
        },
        {
          "output_type": "stream",
          "name": "stderr",
          "text": [
            "Fold 0 Epoch 27/30 [Train]:  71%|███████   | 71/100 [00:19<00:08,  3.59it/s, Loss=3.5195]"
          ]
        },
        {
          "output_type": "stream",
          "name": "stdout",
          "text": [
            "*** DEBUG: Batch 70 COMPLETED - Memory cleared ***\n"
          ]
        },
        {
          "output_type": "stream",
          "name": "stderr",
          "text": [
            "Fold 0 Epoch 27/30 [Train]:  81%|████████  | 81/100 [00:21<00:04,  3.87it/s, Loss=3.0704]"
          ]
        },
        {
          "output_type": "stream",
          "name": "stdout",
          "text": [
            "*** DEBUG: Batch 80 COMPLETED - Memory cleared ***\n"
          ]
        },
        {
          "output_type": "stream",
          "name": "stderr",
          "text": [
            "Fold 0 Epoch 27/30 [Train]:  91%|█████████ | 91/100 [00:24<00:02,  3.91it/s, Loss=4.1039]"
          ]
        },
        {
          "output_type": "stream",
          "name": "stdout",
          "text": [
            "*** DEBUG: Batch 90 COMPLETED - Memory cleared ***\n"
          ]
        },
        {
          "output_type": "stream",
          "name": "stderr",
          "text": [
            "Fold 0 Epoch 27/30 [Train]: 100%|██████████| 100/100 [00:26<00:00,  3.78it/s, Loss=3.2597]\n",
            "Fold 0 Epoch 27/30 [Val]: 100%|██████████| 25/25 [00:06<00:00,  3.67it/s, Loss=10.2456]\n"
          ]
        },
        {
          "output_type": "stream",
          "name": "stdout",
          "text": [
            "Fold 0 Epoch 27/30:\n",
            "  Train MAPE: 3.4122%\n",
            "  Val MAPE: 10.2068%\n",
            "  LR: 0.000013\n",
            "--------------------------------------------------\n"
          ]
        },
        {
          "output_type": "stream",
          "name": "stderr",
          "text": [
            "Fold 0 Epoch 28/30 [Train]:   1%|          | 1/100 [00:00<01:05,  1.51it/s, Loss=3.2593]"
          ]
        },
        {
          "output_type": "stream",
          "name": "stdout",
          "text": [
            "*** DEBUG: Batch 0 COMPLETED - Memory cleared ***\n"
          ]
        },
        {
          "output_type": "stream",
          "name": "stderr",
          "text": [
            "Fold 0 Epoch 28/30 [Train]:  11%|█         | 11/100 [00:03<00:23,  3.73it/s, Loss=3.4629]"
          ]
        },
        {
          "output_type": "stream",
          "name": "stdout",
          "text": [
            "*** DEBUG: Batch 10 COMPLETED - Memory cleared ***\n"
          ]
        },
        {
          "output_type": "stream",
          "name": "stderr",
          "text": [
            "Fold 0 Epoch 28/30 [Train]:  21%|██        | 21/100 [00:05<00:20,  3.94it/s, Loss=3.2888]"
          ]
        },
        {
          "output_type": "stream",
          "name": "stdout",
          "text": [
            "*** DEBUG: Batch 20 COMPLETED - Memory cleared ***\n"
          ]
        },
        {
          "output_type": "stream",
          "name": "stderr",
          "text": [
            "Fold 0 Epoch 28/30 [Train]:  31%|███       | 31/100 [00:08<00:18,  3.77it/s, Loss=3.4256]"
          ]
        },
        {
          "output_type": "stream",
          "name": "stdout",
          "text": [
            "*** DEBUG: Batch 30 COMPLETED - Memory cleared ***\n"
          ]
        },
        {
          "output_type": "stream",
          "name": "stderr",
          "text": [
            "Fold 0 Epoch 28/30 [Train]:  41%|████      | 41/100 [00:11<00:15,  3.87it/s, Loss=4.2774]"
          ]
        },
        {
          "output_type": "stream",
          "name": "stdout",
          "text": [
            "*** DEBUG: Batch 40 COMPLETED - Memory cleared ***\n"
          ]
        },
        {
          "output_type": "stream",
          "name": "stderr",
          "text": [
            "Fold 0 Epoch 28/30 [Train]:  51%|█████     | 51/100 [00:13<00:12,  3.89it/s, Loss=3.4063]"
          ]
        },
        {
          "output_type": "stream",
          "name": "stdout",
          "text": [
            "*** DEBUG: Batch 50 COMPLETED - Memory cleared ***\n"
          ]
        },
        {
          "output_type": "stream",
          "name": "stderr",
          "text": [
            "Fold 0 Epoch 28/30 [Train]:  61%|██████    | 61/100 [00:16<00:09,  3.92it/s, Loss=3.4101]"
          ]
        },
        {
          "output_type": "stream",
          "name": "stdout",
          "text": [
            "*** DEBUG: Batch 60 COMPLETED - Memory cleared ***\n"
          ]
        },
        {
          "output_type": "stream",
          "name": "stderr",
          "text": [
            "Fold 0 Epoch 28/30 [Train]:  71%|███████   | 71/100 [00:18<00:07,  3.81it/s, Loss=3.1350]"
          ]
        },
        {
          "output_type": "stream",
          "name": "stdout",
          "text": [
            "*** DEBUG: Batch 70 COMPLETED - Memory cleared ***\n"
          ]
        },
        {
          "output_type": "stream",
          "name": "stderr",
          "text": [
            "Fold 0 Epoch 28/30 [Train]:  81%|████████  | 81/100 [00:21<00:05,  3.74it/s, Loss=3.3104]"
          ]
        },
        {
          "output_type": "stream",
          "name": "stdout",
          "text": [
            "*** DEBUG: Batch 80 COMPLETED - Memory cleared ***\n"
          ]
        },
        {
          "output_type": "stream",
          "name": "stderr",
          "text": [
            "Fold 0 Epoch 28/30 [Train]:  91%|█████████ | 91/100 [00:24<00:02,  3.79it/s, Loss=2.9004]"
          ]
        },
        {
          "output_type": "stream",
          "name": "stdout",
          "text": [
            "*** DEBUG: Batch 90 COMPLETED - Memory cleared ***\n"
          ]
        },
        {
          "output_type": "stream",
          "name": "stderr",
          "text": [
            "Fold 0 Epoch 28/30 [Train]: 100%|██████████| 100/100 [00:26<00:00,  3.82it/s, Loss=3.1546]\n",
            "Fold 0 Epoch 28/30 [Val]: 100%|██████████| 25/25 [00:06<00:00,  3.71it/s, Loss=20.7066]\n"
          ]
        },
        {
          "output_type": "stream",
          "name": "stdout",
          "text": [
            "Fold 0 Epoch 28/30:\n",
            "  Train MAPE: 3.4198%\n",
            "  Val MAPE: 22.6250%\n",
            "  LR: 0.000013\n",
            "--------------------------------------------------\n"
          ]
        },
        {
          "output_type": "stream",
          "name": "stderr",
          "text": [
            "Fold 0 Epoch 29/30 [Train]:   1%|          | 1/100 [00:00<01:03,  1.56it/s, Loss=3.4184]"
          ]
        },
        {
          "output_type": "stream",
          "name": "stdout",
          "text": [
            "*** DEBUG: Batch 0 COMPLETED - Memory cleared ***\n"
          ]
        },
        {
          "output_type": "stream",
          "name": "stderr",
          "text": [
            "Fold 0 Epoch 29/30 [Train]:  11%|█         | 11/100 [00:03<00:24,  3.65it/s, Loss=3.5848]"
          ]
        },
        {
          "output_type": "stream",
          "name": "stdout",
          "text": [
            "*** DEBUG: Batch 10 COMPLETED - Memory cleared ***\n"
          ]
        },
        {
          "output_type": "stream",
          "name": "stderr",
          "text": [
            "Fold 0 Epoch 29/30 [Train]:  21%|██        | 21/100 [00:05<00:20,  3.80it/s, Loss=3.0991]"
          ]
        },
        {
          "output_type": "stream",
          "name": "stdout",
          "text": [
            "*** DEBUG: Batch 20 COMPLETED - Memory cleared ***\n"
          ]
        },
        {
          "output_type": "stream",
          "name": "stderr",
          "text": [
            "Fold 0 Epoch 29/30 [Train]:  31%|███       | 31/100 [00:08<00:18,  3.80it/s, Loss=3.2891]"
          ]
        },
        {
          "output_type": "stream",
          "name": "stdout",
          "text": [
            "*** DEBUG: Batch 30 COMPLETED - Memory cleared ***\n"
          ]
        },
        {
          "output_type": "stream",
          "name": "stderr",
          "text": [
            "Fold 0 Epoch 29/30 [Train]:  41%|████      | 41/100 [00:11<00:15,  3.87it/s, Loss=3.1145]"
          ]
        },
        {
          "output_type": "stream",
          "name": "stdout",
          "text": [
            "*** DEBUG: Batch 40 COMPLETED - Memory cleared ***\n"
          ]
        },
        {
          "output_type": "stream",
          "name": "stderr",
          "text": [
            "Fold 0 Epoch 29/30 [Train]:  51%|█████     | 51/100 [00:13<00:12,  3.91it/s, Loss=2.8702]"
          ]
        },
        {
          "output_type": "stream",
          "name": "stdout",
          "text": [
            "*** DEBUG: Batch 50 COMPLETED - Memory cleared ***\n"
          ]
        },
        {
          "output_type": "stream",
          "name": "stderr",
          "text": [
            "Fold 0 Epoch 29/30 [Train]:  61%|██████    | 61/100 [00:16<00:10,  3.85it/s, Loss=3.2468]"
          ]
        },
        {
          "output_type": "stream",
          "name": "stdout",
          "text": [
            "*** DEBUG: Batch 60 COMPLETED - Memory cleared ***\n"
          ]
        },
        {
          "output_type": "stream",
          "name": "stderr",
          "text": [
            "Fold 0 Epoch 29/30 [Train]:  71%|███████   | 71/100 [00:18<00:07,  3.92it/s, Loss=4.0912]"
          ]
        },
        {
          "output_type": "stream",
          "name": "stdout",
          "text": [
            "*** DEBUG: Batch 70 COMPLETED - Memory cleared ***\n"
          ]
        },
        {
          "output_type": "stream",
          "name": "stderr",
          "text": [
            "Fold 0 Epoch 29/30 [Train]:  81%|████████  | 81/100 [00:21<00:04,  3.96it/s, Loss=3.0889]"
          ]
        },
        {
          "output_type": "stream",
          "name": "stdout",
          "text": [
            "*** DEBUG: Batch 80 COMPLETED - Memory cleared ***\n"
          ]
        },
        {
          "output_type": "stream",
          "name": "stderr",
          "text": [
            "Fold 0 Epoch 29/30 [Train]:  91%|█████████ | 91/100 [00:23<00:02,  3.90it/s, Loss=3.3703]"
          ]
        },
        {
          "output_type": "stream",
          "name": "stdout",
          "text": [
            "*** DEBUG: Batch 90 COMPLETED - Memory cleared ***\n"
          ]
        },
        {
          "output_type": "stream",
          "name": "stderr",
          "text": [
            "Fold 0 Epoch 29/30 [Train]: 100%|██████████| 100/100 [00:26<00:00,  3.84it/s, Loss=3.5282]\n",
            "Fold 0 Epoch 29/30 [Val]: 100%|██████████| 25/25 [00:06<00:00,  3.81it/s, Loss=22.8166]\n"
          ]
        },
        {
          "output_type": "stream",
          "name": "stdout",
          "text": [
            "Fold 0 Epoch 29/30:\n",
            "  Train MAPE: 3.4722%\n",
            "  Val MAPE: 24.7858%\n",
            "  LR: 0.000013\n",
            "--------------------------------------------------\n"
          ]
        },
        {
          "output_type": "stream",
          "name": "stderr",
          "text": [
            "Fold 0 Epoch 30/30 [Train]:   1%|          | 1/100 [00:00<01:02,  1.59it/s, Loss=3.1115]"
          ]
        },
        {
          "output_type": "stream",
          "name": "stdout",
          "text": [
            "*** DEBUG: Batch 0 COMPLETED - Memory cleared ***\n"
          ]
        },
        {
          "output_type": "stream",
          "name": "stderr",
          "text": [
            "Fold 0 Epoch 30/30 [Train]:  11%|█         | 11/100 [00:03<00:25,  3.56it/s, Loss=3.4770]"
          ]
        },
        {
          "output_type": "stream",
          "name": "stdout",
          "text": [
            "*** DEBUG: Batch 10 COMPLETED - Memory cleared ***\n"
          ]
        },
        {
          "output_type": "stream",
          "name": "stderr",
          "text": [
            "Fold 0 Epoch 30/30 [Train]:  21%|██        | 21/100 [00:05<00:20,  3.84it/s, Loss=3.8098]"
          ]
        },
        {
          "output_type": "stream",
          "name": "stdout",
          "text": [
            "*** DEBUG: Batch 20 COMPLETED - Memory cleared ***\n"
          ]
        },
        {
          "output_type": "stream",
          "name": "stderr",
          "text": [
            "Fold 0 Epoch 30/30 [Train]:  31%|███       | 31/100 [00:08<00:17,  3.84it/s, Loss=3.1676]"
          ]
        },
        {
          "output_type": "stream",
          "name": "stdout",
          "text": [
            "*** DEBUG: Batch 30 COMPLETED - Memory cleared ***\n"
          ]
        },
        {
          "output_type": "stream",
          "name": "stderr",
          "text": [
            "Fold 0 Epoch 30/30 [Train]:  41%|████      | 41/100 [00:11<00:15,  3.93it/s, Loss=3.3262]"
          ]
        },
        {
          "output_type": "stream",
          "name": "stdout",
          "text": [
            "*** DEBUG: Batch 40 COMPLETED - Memory cleared ***\n"
          ]
        },
        {
          "output_type": "stream",
          "name": "stderr",
          "text": [
            "Fold 0 Epoch 30/30 [Train]:  51%|█████     | 51/100 [00:13<00:12,  3.84it/s, Loss=3.2762]"
          ]
        },
        {
          "output_type": "stream",
          "name": "stdout",
          "text": [
            "*** DEBUG: Batch 50 COMPLETED - Memory cleared ***\n"
          ]
        },
        {
          "output_type": "stream",
          "name": "stderr",
          "text": [
            "Fold 0 Epoch 30/30 [Train]:  61%|██████    | 61/100 [00:16<00:10,  3.71it/s, Loss=3.4088]"
          ]
        },
        {
          "output_type": "stream",
          "name": "stdout",
          "text": [
            "*** DEBUG: Batch 60 COMPLETED - Memory cleared ***\n"
          ]
        },
        {
          "output_type": "stream",
          "name": "stderr",
          "text": [
            "Fold 0 Epoch 30/30 [Train]:  71%|███████   | 71/100 [00:18<00:07,  3.81it/s, Loss=3.1041]"
          ]
        },
        {
          "output_type": "stream",
          "name": "stdout",
          "text": [
            "*** DEBUG: Batch 70 COMPLETED - Memory cleared ***\n"
          ]
        },
        {
          "output_type": "stream",
          "name": "stderr",
          "text": [
            "Fold 0 Epoch 30/30 [Train]:  81%|████████  | 81/100 [00:21<00:04,  3.86it/s, Loss=3.2008]"
          ]
        },
        {
          "output_type": "stream",
          "name": "stdout",
          "text": [
            "*** DEBUG: Batch 80 COMPLETED - Memory cleared ***\n"
          ]
        },
        {
          "output_type": "stream",
          "name": "stderr",
          "text": [
            "Fold 0 Epoch 30/30 [Train]:  91%|█████████ | 91/100 [00:24<00:02,  3.84it/s, Loss=3.4974]"
          ]
        },
        {
          "output_type": "stream",
          "name": "stdout",
          "text": [
            "*** DEBUG: Batch 90 COMPLETED - Memory cleared ***\n"
          ]
        },
        {
          "output_type": "stream",
          "name": "stderr",
          "text": [
            "Fold 0 Epoch 30/30 [Train]: 100%|██████████| 100/100 [00:26<00:00,  3.81it/s, Loss=3.3562]\n",
            "Fold 0 Epoch 30/30 [Val]: 100%|██████████| 25/25 [00:06<00:00,  3.70it/s, Loss=15.5102]\n"
          ]
        },
        {
          "output_type": "stream",
          "name": "stdout",
          "text": [
            "Fold 0 Epoch 30/30:\n",
            "  Train MAPE: 3.3904%\n",
            "  Val MAPE: 13.9607%\n",
            "  LR: 0.000013\n",
            "--------------------------------------------------\n",
            "Fold 0 completed with Val MAPE: 6.8394%\n",
            "\n",
            "=== Training Fold 1 ===\n"
          ]
        },
        {
          "output_type": "stream",
          "name": "stderr",
          "text": [
            "Fold 1 Epoch 1/30 [Train]:   1%|          | 1/100 [00:00<01:04,  1.54it/s, Loss=93.3305]"
          ]
        },
        {
          "output_type": "stream",
          "name": "stdout",
          "text": [
            "*** DEBUG: Batch 0 COMPLETED - Memory cleared ***\n"
          ]
        },
        {
          "output_type": "stream",
          "name": "stderr",
          "text": [
            "Fold 1 Epoch 1/30 [Train]:  11%|█         | 11/100 [00:03<00:23,  3.82it/s, Loss=78.3518]"
          ]
        },
        {
          "output_type": "stream",
          "name": "stdout",
          "text": [
            "*** DEBUG: Batch 10 COMPLETED - Memory cleared ***\n"
          ]
        },
        {
          "output_type": "stream",
          "name": "stderr",
          "text": [
            "Fold 1 Epoch 1/30 [Train]:  21%|██        | 21/100 [00:05<00:21,  3.73it/s, Loss=70.7586]"
          ]
        },
        {
          "output_type": "stream",
          "name": "stdout",
          "text": [
            "*** DEBUG: Batch 20 COMPLETED - Memory cleared ***\n"
          ]
        },
        {
          "output_type": "stream",
          "name": "stderr",
          "text": [
            "Fold 1 Epoch 1/30 [Train]:  31%|███       | 31/100 [00:08<00:18,  3.78it/s, Loss=65.3618]"
          ]
        },
        {
          "output_type": "stream",
          "name": "stdout",
          "text": [
            "*** DEBUG: Batch 30 COMPLETED - Memory cleared ***\n"
          ]
        },
        {
          "output_type": "stream",
          "name": "stderr",
          "text": [
            "Fold 1 Epoch 1/30 [Train]:  41%|████      | 41/100 [00:11<00:14,  3.95it/s, Loss=61.2335]"
          ]
        },
        {
          "output_type": "stream",
          "name": "stdout",
          "text": [
            "*** DEBUG: Batch 40 COMPLETED - Memory cleared ***\n"
          ]
        },
        {
          "output_type": "stream",
          "name": "stderr",
          "text": [
            "Fold 1 Epoch 1/30 [Train]:  51%|█████     | 51/100 [00:13<00:12,  3.90it/s, Loss=57.2949]"
          ]
        },
        {
          "output_type": "stream",
          "name": "stdout",
          "text": [
            "*** DEBUG: Batch 50 COMPLETED - Memory cleared ***\n"
          ]
        },
        {
          "output_type": "stream",
          "name": "stderr",
          "text": [
            "Fold 1 Epoch 1/30 [Train]:  61%|██████    | 61/100 [00:16<00:09,  3.92it/s, Loss=54.2718]"
          ]
        },
        {
          "output_type": "stream",
          "name": "stdout",
          "text": [
            "*** DEBUG: Batch 60 COMPLETED - Memory cleared ***\n"
          ]
        },
        {
          "output_type": "stream",
          "name": "stderr",
          "text": [
            "Fold 1 Epoch 1/30 [Train]:  71%|███████   | 71/100 [00:18<00:07,  3.84it/s, Loss=52.4251]"
          ]
        },
        {
          "output_type": "stream",
          "name": "stdout",
          "text": [
            "*** DEBUG: Batch 70 COMPLETED - Memory cleared ***\n"
          ]
        },
        {
          "output_type": "stream",
          "name": "stderr",
          "text": [
            "Fold 1 Epoch 1/30 [Train]:  81%|████████  | 81/100 [00:21<00:04,  3.82it/s, Loss=52.4481]"
          ]
        },
        {
          "output_type": "stream",
          "name": "stdout",
          "text": [
            "*** DEBUG: Batch 80 COMPLETED - Memory cleared ***\n"
          ]
        },
        {
          "output_type": "stream",
          "name": "stderr",
          "text": [
            "Fold 1 Epoch 1/30 [Train]:  91%|█████████ | 91/100 [00:23<00:02,  3.98it/s, Loss=50.8587]"
          ]
        },
        {
          "output_type": "stream",
          "name": "stdout",
          "text": [
            "*** DEBUG: Batch 90 COMPLETED - Memory cleared ***\n"
          ]
        },
        {
          "output_type": "stream",
          "name": "stderr",
          "text": [
            "Fold 1 Epoch 1/30 [Train]: 100%|██████████| 100/100 [00:26<00:00,  3.83it/s, Loss=49.1627]\n",
            "Fold 1 Epoch 1/30 [Val]: 100%|██████████| 25/25 [00:06<00:00,  3.74it/s, Loss=57.6945]\n"
          ]
        },
        {
          "output_type": "stream",
          "name": "stdout",
          "text": [
            "Fold 1 Epoch 1/30:\n",
            "  Train MAPE: 61.7634%\n",
            "  Val MAPE: 57.8576%\n",
            "  LR: 0.000100\n",
            "--------------------------------------------------\n",
            "Fold 1: New best model saved with Val MAPE = 57.8576%\n"
          ]
        },
        {
          "output_type": "stream",
          "name": "stderr",
          "text": [
            "Fold 1 Epoch 2/30 [Train]:   1%|          | 1/100 [00:01<02:52,  1.74s/it, Loss=48.7237]"
          ]
        },
        {
          "output_type": "stream",
          "name": "stdout",
          "text": [
            "*** DEBUG: Batch 0 COMPLETED - Memory cleared ***\n"
          ]
        },
        {
          "output_type": "stream",
          "name": "stderr",
          "text": [
            "Fold 1 Epoch 2/30 [Train]:  11%|█         | 11/100 [00:04<00:25,  3.44it/s, Loss=47.8747]"
          ]
        },
        {
          "output_type": "stream",
          "name": "stdout",
          "text": [
            "*** DEBUG: Batch 10 COMPLETED - Memory cleared ***\n"
          ]
        },
        {
          "output_type": "stream",
          "name": "stderr",
          "text": [
            "Fold 1 Epoch 2/30 [Train]:  21%|██        | 21/100 [00:06<00:21,  3.70it/s, Loss=46.0561]"
          ]
        },
        {
          "output_type": "stream",
          "name": "stdout",
          "text": [
            "*** DEBUG: Batch 20 COMPLETED - Memory cleared ***\n"
          ]
        },
        {
          "output_type": "stream",
          "name": "stderr",
          "text": [
            "Fold 1 Epoch 2/30 [Train]:  31%|███       | 31/100 [00:16<00:55,  1.25it/s, Loss=48.4620]"
          ]
        },
        {
          "output_type": "stream",
          "name": "stdout",
          "text": [
            "*** DEBUG: Batch 30 COMPLETED - Memory cleared ***\n"
          ]
        },
        {
          "output_type": "stream",
          "name": "stderr",
          "text": [
            "Fold 1 Epoch 2/30 [Train]:  41%|████      | 41/100 [00:19<00:21,  2.79it/s, Loss=45.1428]"
          ]
        },
        {
          "output_type": "stream",
          "name": "stdout",
          "text": [
            "*** DEBUG: Batch 40 COMPLETED - Memory cleared ***\n"
          ]
        },
        {
          "output_type": "stream",
          "name": "stderr",
          "text": [
            "Fold 1 Epoch 2/30 [Train]:  51%|█████     | 51/100 [00:22<00:14,  3.48it/s, Loss=45.9177]"
          ]
        },
        {
          "output_type": "stream",
          "name": "stdout",
          "text": [
            "*** DEBUG: Batch 50 COMPLETED - Memory cleared ***\n"
          ]
        },
        {
          "output_type": "stream",
          "name": "stderr",
          "text": [
            "Fold 1 Epoch 2/30 [Train]:  61%|██████    | 61/100 [00:24<00:10,  3.77it/s, Loss=44.5649]"
          ]
        },
        {
          "output_type": "stream",
          "name": "stdout",
          "text": [
            "*** DEBUG: Batch 60 COMPLETED - Memory cleared ***\n"
          ]
        },
        {
          "output_type": "stream",
          "name": "stderr",
          "text": [
            "Fold 1 Epoch 2/30 [Train]:  71%|███████   | 71/100 [00:27<00:07,  3.82it/s, Loss=44.1890]"
          ]
        },
        {
          "output_type": "stream",
          "name": "stdout",
          "text": [
            "*** DEBUG: Batch 70 COMPLETED - Memory cleared ***\n"
          ]
        },
        {
          "output_type": "stream",
          "name": "stderr",
          "text": [
            "Fold 1 Epoch 2/30 [Train]:  81%|████████  | 81/100 [00:30<00:05,  3.78it/s, Loss=43.3754]"
          ]
        },
        {
          "output_type": "stream",
          "name": "stdout",
          "text": [
            "*** DEBUG: Batch 80 COMPLETED - Memory cleared ***\n"
          ]
        },
        {
          "output_type": "stream",
          "name": "stderr",
          "text": [
            "Fold 1 Epoch 2/30 [Train]:  91%|█████████ | 91/100 [00:32<00:02,  3.76it/s, Loss=43.3424]"
          ]
        },
        {
          "output_type": "stream",
          "name": "stdout",
          "text": [
            "*** DEBUG: Batch 90 COMPLETED - Memory cleared ***\n"
          ]
        },
        {
          "output_type": "stream",
          "name": "stderr",
          "text": [
            "Fold 1 Epoch 2/30 [Train]: 100%|██████████| 100/100 [00:34<00:00,  2.86it/s, Loss=42.2925]\n",
            "Fold 1 Epoch 2/30 [Val]: 100%|██████████| 25/25 [00:06<00:00,  3.76it/s, Loss=41.3083]\n"
          ]
        },
        {
          "output_type": "stream",
          "name": "stdout",
          "text": [
            "Fold 1 Epoch 2/30:\n",
            "  Train MAPE: 45.4572%\n",
            "  Val MAPE: 41.3863%\n",
            "  LR: 0.000100\n",
            "--------------------------------------------------\n",
            "Fold 1: New best model saved with Val MAPE = 41.3863%\n"
          ]
        },
        {
          "output_type": "stream",
          "name": "stderr",
          "text": [
            "Fold 1 Epoch 3/30 [Train]:   1%|          | 1/100 [00:01<02:54,  1.76s/it, Loss=42.0367]"
          ]
        },
        {
          "output_type": "stream",
          "name": "stdout",
          "text": [
            "*** DEBUG: Batch 0 COMPLETED - Memory cleared ***\n"
          ]
        },
        {
          "output_type": "stream",
          "name": "stderr",
          "text": [
            "Fold 1 Epoch 3/30 [Train]:  11%|█         | 11/100 [00:04<00:27,  3.19it/s, Loss=41.4593]"
          ]
        },
        {
          "output_type": "stream",
          "name": "stdout",
          "text": [
            "*** DEBUG: Batch 10 COMPLETED - Memory cleared ***\n"
          ]
        },
        {
          "output_type": "stream",
          "name": "stderr",
          "text": [
            "Fold 1 Epoch 3/30 [Train]:  21%|██        | 21/100 [00:06<00:21,  3.76it/s, Loss=41.1629]"
          ]
        },
        {
          "output_type": "stream",
          "name": "stdout",
          "text": [
            "*** DEBUG: Batch 20 COMPLETED - Memory cleared ***\n"
          ]
        },
        {
          "output_type": "stream",
          "name": "stderr",
          "text": [
            "Fold 1 Epoch 3/30 [Train]:  31%|███       | 31/100 [00:09<00:18,  3.74it/s, Loss=40.0808]"
          ]
        },
        {
          "output_type": "stream",
          "name": "stdout",
          "text": [
            "*** DEBUG: Batch 30 COMPLETED - Memory cleared ***\n"
          ]
        },
        {
          "output_type": "stream",
          "name": "stderr",
          "text": [
            "Fold 1 Epoch 3/30 [Train]:  41%|████      | 41/100 [00:19<00:37,  1.57it/s, Loss=39.6643]"
          ]
        },
        {
          "output_type": "stream",
          "name": "stdout",
          "text": [
            "*** DEBUG: Batch 40 COMPLETED - Memory cleared ***\n"
          ]
        },
        {
          "output_type": "stream",
          "name": "stderr",
          "text": [
            "Fold 1 Epoch 3/30 [Train]:  51%|█████     | 51/100 [00:22<00:16,  3.02it/s, Loss=38.3943]"
          ]
        },
        {
          "output_type": "stream",
          "name": "stdout",
          "text": [
            "*** DEBUG: Batch 50 COMPLETED - Memory cleared ***\n"
          ]
        },
        {
          "output_type": "stream",
          "name": "stderr",
          "text": [
            "Fold 1 Epoch 3/30 [Train]:  61%|██████    | 61/100 [00:24<00:10,  3.57it/s, Loss=37.4523]"
          ]
        },
        {
          "output_type": "stream",
          "name": "stdout",
          "text": [
            "*** DEBUG: Batch 60 COMPLETED - Memory cleared ***\n"
          ]
        },
        {
          "output_type": "stream",
          "name": "stderr",
          "text": [
            "Fold 1 Epoch 3/30 [Train]:  71%|███████   | 71/100 [00:27<00:08,  3.55it/s, Loss=37.7840]"
          ]
        },
        {
          "output_type": "stream",
          "name": "stdout",
          "text": [
            "*** DEBUG: Batch 70 COMPLETED - Memory cleared ***\n"
          ]
        },
        {
          "output_type": "stream",
          "name": "stderr",
          "text": [
            "Fold 1 Epoch 3/30 [Train]:  81%|████████  | 81/100 [00:30<00:05,  3.65it/s, Loss=37.6569]"
          ]
        },
        {
          "output_type": "stream",
          "name": "stdout",
          "text": [
            "*** DEBUG: Batch 80 COMPLETED - Memory cleared ***\n"
          ]
        },
        {
          "output_type": "stream",
          "name": "stderr",
          "text": [
            "Fold 1 Epoch 3/30 [Train]:  91%|█████████ | 91/100 [00:32<00:02,  3.80it/s, Loss=36.2699]"
          ]
        },
        {
          "output_type": "stream",
          "name": "stdout",
          "text": [
            "*** DEBUG: Batch 90 COMPLETED - Memory cleared ***\n"
          ]
        },
        {
          "output_type": "stream",
          "name": "stderr",
          "text": [
            "Fold 1 Epoch 3/30 [Train]: 100%|██████████| 100/100 [00:35<00:00,  2.85it/s, Loss=37.5526]\n",
            "Fold 1 Epoch 3/30 [Val]: 100%|██████████| 25/25 [00:06<00:00,  3.68it/s, Loss=34.5835]\n"
          ]
        },
        {
          "output_type": "stream",
          "name": "stdout",
          "text": [
            "Fold 1 Epoch 3/30:\n",
            "  Train MAPE: 39.1286%\n",
            "  Val MAPE: 34.8530%\n",
            "  LR: 0.000100\n",
            "--------------------------------------------------\n",
            "Fold 1: New best model saved with Val MAPE = 34.8530%\n"
          ]
        },
        {
          "output_type": "stream",
          "name": "stderr",
          "text": [
            "Fold 1 Epoch 4/30 [Train]:   1%|          | 1/100 [00:01<02:52,  1.75s/it, Loss=34.9626]"
          ]
        },
        {
          "output_type": "stream",
          "name": "stdout",
          "text": [
            "*** DEBUG: Batch 0 COMPLETED - Memory cleared ***\n"
          ]
        },
        {
          "output_type": "stream",
          "name": "stderr",
          "text": [
            "Fold 1 Epoch 4/30 [Train]:  11%|█         | 11/100 [00:04<00:26,  3.35it/s, Loss=33.5304]"
          ]
        },
        {
          "output_type": "stream",
          "name": "stdout",
          "text": [
            "*** DEBUG: Batch 10 COMPLETED - Memory cleared ***\n"
          ]
        },
        {
          "output_type": "stream",
          "name": "stderr",
          "text": [
            "Fold 1 Epoch 4/30 [Train]:  21%|██        | 21/100 [00:06<00:20,  3.77it/s, Loss=36.9177]"
          ]
        },
        {
          "output_type": "stream",
          "name": "stdout",
          "text": [
            "*** DEBUG: Batch 20 COMPLETED - Memory cleared ***\n"
          ]
        },
        {
          "output_type": "stream",
          "name": "stderr",
          "text": [
            "Fold 1 Epoch 4/30 [Train]:  31%|███       | 31/100 [00:09<00:17,  3.88it/s, Loss=33.5766]"
          ]
        },
        {
          "output_type": "stream",
          "name": "stdout",
          "text": [
            "*** DEBUG: Batch 30 COMPLETED - Memory cleared ***\n"
          ]
        },
        {
          "output_type": "stream",
          "name": "stderr",
          "text": [
            "Fold 1 Epoch 4/30 [Train]:  41%|████      | 41/100 [00:19<00:46,  1.26it/s, Loss=33.9225]"
          ]
        },
        {
          "output_type": "stream",
          "name": "stdout",
          "text": [
            "*** DEBUG: Batch 40 COMPLETED - Memory cleared ***\n"
          ]
        },
        {
          "output_type": "stream",
          "name": "stderr",
          "text": [
            "Fold 1 Epoch 4/30 [Train]:  51%|█████     | 51/100 [00:22<00:17,  2.77it/s, Loss=31.4029]"
          ]
        },
        {
          "output_type": "stream",
          "name": "stdout",
          "text": [
            "*** DEBUG: Batch 50 COMPLETED - Memory cleared ***\n"
          ]
        },
        {
          "output_type": "stream",
          "name": "stderr",
          "text": [
            "Fold 1 Epoch 4/30 [Train]:  61%|██████    | 61/100 [00:24<00:11,  3.49it/s, Loss=33.1837]"
          ]
        },
        {
          "output_type": "stream",
          "name": "stdout",
          "text": [
            "*** DEBUG: Batch 60 COMPLETED - Memory cleared ***\n"
          ]
        },
        {
          "output_type": "stream",
          "name": "stderr",
          "text": [
            "Fold 1 Epoch 4/30 [Train]:  71%|███████   | 71/100 [00:27<00:07,  3.77it/s, Loss=33.0626]"
          ]
        },
        {
          "output_type": "stream",
          "name": "stdout",
          "text": [
            "*** DEBUG: Batch 70 COMPLETED - Memory cleared ***\n"
          ]
        },
        {
          "output_type": "stream",
          "name": "stderr",
          "text": [
            "Fold 1 Epoch 4/30 [Train]:  81%|████████  | 81/100 [00:30<00:05,  3.70it/s, Loss=32.3542]"
          ]
        },
        {
          "output_type": "stream",
          "name": "stdout",
          "text": [
            "*** DEBUG: Batch 80 COMPLETED - Memory cleared ***\n"
          ]
        },
        {
          "output_type": "stream",
          "name": "stderr",
          "text": [
            "Fold 1 Epoch 4/30 [Train]:  91%|█████████ | 91/100 [00:33<00:02,  3.54it/s, Loss=31.4356]"
          ]
        },
        {
          "output_type": "stream",
          "name": "stdout",
          "text": [
            "*** DEBUG: Batch 90 COMPLETED - Memory cleared ***\n"
          ]
        },
        {
          "output_type": "stream",
          "name": "stderr",
          "text": [
            "Fold 1 Epoch 4/30 [Train]: 100%|██████████| 100/100 [00:35<00:00,  2.84it/s, Loss=31.5422]\n",
            "Fold 1 Epoch 4/30 [Val]: 100%|██████████| 25/25 [00:06<00:00,  3.72it/s, Loss=38.2226]\n"
          ]
        },
        {
          "output_type": "stream",
          "name": "stdout",
          "text": [
            "Fold 1 Epoch 4/30:\n",
            "  Train MAPE: 33.1497%\n",
            "  Val MAPE: 38.3322%\n",
            "  LR: 0.000100\n",
            "--------------------------------------------------\n"
          ]
        },
        {
          "output_type": "stream",
          "name": "stderr",
          "text": [
            "Fold 1 Epoch 5/30 [Train]:   1%|          | 1/100 [00:00<01:04,  1.54it/s, Loss=28.8765]"
          ]
        },
        {
          "output_type": "stream",
          "name": "stdout",
          "text": [
            "*** DEBUG: Batch 0 COMPLETED - Memory cleared ***\n"
          ]
        },
        {
          "output_type": "stream",
          "name": "stderr",
          "text": [
            "Fold 1 Epoch 5/30 [Train]:  11%|█         | 11/100 [00:03<00:24,  3.70it/s, Loss=29.7069]"
          ]
        },
        {
          "output_type": "stream",
          "name": "stdout",
          "text": [
            "*** DEBUG: Batch 10 COMPLETED - Memory cleared ***\n"
          ]
        },
        {
          "output_type": "stream",
          "name": "stderr",
          "text": [
            "Fold 1 Epoch 5/30 [Train]:  21%|██        | 21/100 [00:05<00:21,  3.69it/s, Loss=28.2417]"
          ]
        },
        {
          "output_type": "stream",
          "name": "stdout",
          "text": [
            "*** DEBUG: Batch 20 COMPLETED - Memory cleared ***\n"
          ]
        },
        {
          "output_type": "stream",
          "name": "stderr",
          "text": [
            "Fold 1 Epoch 5/30 [Train]:  31%|███       | 31/100 [00:08<00:17,  3.85it/s, Loss=29.7732]"
          ]
        },
        {
          "output_type": "stream",
          "name": "stdout",
          "text": [
            "*** DEBUG: Batch 30 COMPLETED - Memory cleared ***\n"
          ]
        },
        {
          "output_type": "stream",
          "name": "stderr",
          "text": [
            "Fold 1 Epoch 5/30 [Train]:  41%|████      | 41/100 [00:11<00:15,  3.77it/s, Loss=28.6718]"
          ]
        },
        {
          "output_type": "stream",
          "name": "stdout",
          "text": [
            "*** DEBUG: Batch 40 COMPLETED - Memory cleared ***\n"
          ]
        },
        {
          "output_type": "stream",
          "name": "stderr",
          "text": [
            "Fold 1 Epoch 5/30 [Train]:  51%|█████     | 51/100 [00:13<00:12,  3.86it/s, Loss=28.6681]"
          ]
        },
        {
          "output_type": "stream",
          "name": "stdout",
          "text": [
            "*** DEBUG: Batch 50 COMPLETED - Memory cleared ***\n"
          ]
        },
        {
          "output_type": "stream",
          "name": "stderr",
          "text": [
            "Fold 1 Epoch 5/30 [Train]:  61%|██████    | 61/100 [00:16<00:10,  3.79it/s, Loss=29.1199]"
          ]
        },
        {
          "output_type": "stream",
          "name": "stdout",
          "text": [
            "*** DEBUG: Batch 60 COMPLETED - Memory cleared ***\n"
          ]
        },
        {
          "output_type": "stream",
          "name": "stderr",
          "text": [
            "Fold 1 Epoch 5/30 [Train]:  71%|███████   | 71/100 [00:19<00:07,  3.90it/s, Loss=26.6251]"
          ]
        },
        {
          "output_type": "stream",
          "name": "stdout",
          "text": [
            "*** DEBUG: Batch 70 COMPLETED - Memory cleared ***\n"
          ]
        },
        {
          "output_type": "stream",
          "name": "stderr",
          "text": [
            "Fold 1 Epoch 5/30 [Train]:  81%|████████  | 81/100 [00:21<00:04,  3.85it/s, Loss=25.6537]"
          ]
        },
        {
          "output_type": "stream",
          "name": "stdout",
          "text": [
            "*** DEBUG: Batch 80 COMPLETED - Memory cleared ***\n"
          ]
        },
        {
          "output_type": "stream",
          "name": "stderr",
          "text": [
            "Fold 1 Epoch 5/30 [Train]:  91%|█████████ | 91/100 [00:24<00:02,  3.91it/s, Loss=25.5434]"
          ]
        },
        {
          "output_type": "stream",
          "name": "stdout",
          "text": [
            "*** DEBUG: Batch 90 COMPLETED - Memory cleared ***\n"
          ]
        },
        {
          "output_type": "stream",
          "name": "stderr",
          "text": [
            "Fold 1 Epoch 5/30 [Train]: 100%|██████████| 100/100 [00:26<00:00,  3.82it/s, Loss=24.1214]\n",
            "Fold 1 Epoch 5/30 [Val]: 100%|██████████| 25/25 [00:06<00:00,  3.70it/s, Loss=38.6865]\n"
          ]
        },
        {
          "output_type": "stream",
          "name": "stdout",
          "text": [
            "Fold 1 Epoch 5/30:\n",
            "  Train MAPE: 27.9904%\n",
            "  Val MAPE: 38.8681%\n",
            "  LR: 0.000100\n",
            "--------------------------------------------------\n"
          ]
        },
        {
          "output_type": "stream",
          "name": "stderr",
          "text": [
            "Fold 1 Epoch 6/30 [Train]:   1%|          | 1/100 [00:00<01:01,  1.62it/s, Loss=24.0173]"
          ]
        },
        {
          "output_type": "stream",
          "name": "stdout",
          "text": [
            "*** DEBUG: Batch 0 COMPLETED - Memory cleared ***\n"
          ]
        },
        {
          "output_type": "stream",
          "name": "stderr",
          "text": [
            "Fold 1 Epoch 6/30 [Train]:  11%|█         | 11/100 [00:03<00:24,  3.67it/s, Loss=25.2372]"
          ]
        },
        {
          "output_type": "stream",
          "name": "stdout",
          "text": [
            "*** DEBUG: Batch 10 COMPLETED - Memory cleared ***\n"
          ]
        },
        {
          "output_type": "stream",
          "name": "stderr",
          "text": [
            "Fold 1 Epoch 6/30 [Train]:  21%|██        | 21/100 [00:05<00:20,  3.84it/s, Loss=24.8214]"
          ]
        },
        {
          "output_type": "stream",
          "name": "stdout",
          "text": [
            "*** DEBUG: Batch 20 COMPLETED - Memory cleared ***\n"
          ]
        },
        {
          "output_type": "stream",
          "name": "stderr",
          "text": [
            "Fold 1 Epoch 6/30 [Train]:  31%|███       | 31/100 [00:08<00:19,  3.59it/s, Loss=24.4437]"
          ]
        },
        {
          "output_type": "stream",
          "name": "stdout",
          "text": [
            "*** DEBUG: Batch 30 COMPLETED - Memory cleared ***\n"
          ]
        },
        {
          "output_type": "stream",
          "name": "stderr",
          "text": [
            "Fold 1 Epoch 6/30 [Train]:  41%|████      | 41/100 [00:11<00:15,  3.80it/s, Loss=24.7599]"
          ]
        },
        {
          "output_type": "stream",
          "name": "stdout",
          "text": [
            "*** DEBUG: Batch 40 COMPLETED - Memory cleared ***\n"
          ]
        },
        {
          "output_type": "stream",
          "name": "stderr",
          "text": [
            "Fold 1 Epoch 6/30 [Train]:  51%|█████     | 51/100 [00:13<00:12,  3.90it/s, Loss=23.1769]"
          ]
        },
        {
          "output_type": "stream",
          "name": "stdout",
          "text": [
            "*** DEBUG: Batch 50 COMPLETED - Memory cleared ***\n"
          ]
        },
        {
          "output_type": "stream",
          "name": "stderr",
          "text": [
            "Fold 1 Epoch 6/30 [Train]:  61%|██████    | 61/100 [00:16<00:10,  3.80it/s, Loss=22.4900]"
          ]
        },
        {
          "output_type": "stream",
          "name": "stdout",
          "text": [
            "*** DEBUG: Batch 60 COMPLETED - Memory cleared ***\n"
          ]
        },
        {
          "output_type": "stream",
          "name": "stderr",
          "text": [
            "Fold 1 Epoch 6/30 [Train]:  71%|███████   | 71/100 [00:19<00:07,  3.73it/s, Loss=21.0481]"
          ]
        },
        {
          "output_type": "stream",
          "name": "stdout",
          "text": [
            "*** DEBUG: Batch 70 COMPLETED - Memory cleared ***\n"
          ]
        },
        {
          "output_type": "stream",
          "name": "stderr",
          "text": [
            "Fold 1 Epoch 6/30 [Train]:  81%|████████  | 81/100 [00:21<00:05,  3.71it/s, Loss=21.7563]"
          ]
        },
        {
          "output_type": "stream",
          "name": "stdout",
          "text": [
            "*** DEBUG: Batch 80 COMPLETED - Memory cleared ***\n"
          ]
        },
        {
          "output_type": "stream",
          "name": "stderr",
          "text": [
            "Fold 1 Epoch 6/30 [Train]:  91%|█████████ | 91/100 [00:24<00:02,  3.93it/s, Loss=20.8728]"
          ]
        },
        {
          "output_type": "stream",
          "name": "stdout",
          "text": [
            "*** DEBUG: Batch 90 COMPLETED - Memory cleared ***\n"
          ]
        },
        {
          "output_type": "stream",
          "name": "stderr",
          "text": [
            "Fold 1 Epoch 6/30 [Train]: 100%|██████████| 100/100 [00:26<00:00,  3.79it/s, Loss=22.0492]\n",
            "Fold 1 Epoch 6/30 [Val]: 100%|██████████| 25/25 [00:06<00:00,  3.80it/s, Loss=24.5780]\n"
          ]
        },
        {
          "output_type": "stream",
          "name": "stdout",
          "text": [
            "Fold 1 Epoch 6/30:\n",
            "  Train MAPE: 23.0555%\n",
            "  Val MAPE: 24.6749%\n",
            "  LR: 0.000100\n",
            "--------------------------------------------------\n",
            "Fold 1: New best model saved with Val MAPE = 24.6749%\n"
          ]
        },
        {
          "output_type": "stream",
          "name": "stderr",
          "text": [
            "Fold 1 Epoch 7/30 [Train]:   1%|          | 1/100 [00:01<02:54,  1.76s/it, Loss=20.5025]"
          ]
        },
        {
          "output_type": "stream",
          "name": "stdout",
          "text": [
            "*** DEBUG: Batch 0 COMPLETED - Memory cleared ***\n"
          ]
        },
        {
          "output_type": "stream",
          "name": "stderr",
          "text": [
            "Fold 1 Epoch 7/30 [Train]:  11%|█         | 11/100 [00:04<00:26,  3.33it/s, Loss=19.2923]"
          ]
        },
        {
          "output_type": "stream",
          "name": "stdout",
          "text": [
            "*** DEBUG: Batch 10 COMPLETED - Memory cleared ***\n"
          ]
        },
        {
          "output_type": "stream",
          "name": "stderr",
          "text": [
            "Fold 1 Epoch 7/30 [Train]:  21%|██        | 21/100 [00:06<00:21,  3.68it/s, Loss=19.6466]"
          ]
        },
        {
          "output_type": "stream",
          "name": "stdout",
          "text": [
            "*** DEBUG: Batch 20 COMPLETED - Memory cleared ***\n"
          ]
        },
        {
          "output_type": "stream",
          "name": "stderr",
          "text": [
            "Fold 1 Epoch 7/30 [Train]:  31%|███       | 31/100 [00:09<00:17,  3.86it/s, Loss=18.3297]"
          ]
        },
        {
          "output_type": "stream",
          "name": "stdout",
          "text": [
            "*** DEBUG: Batch 30 COMPLETED - Memory cleared ***\n"
          ]
        },
        {
          "output_type": "stream",
          "name": "stderr",
          "text": [
            "Fold 1 Epoch 7/30 [Train]:  41%|████      | 41/100 [00:19<01:00,  1.02s/it, Loss=18.0904]"
          ]
        },
        {
          "output_type": "stream",
          "name": "stdout",
          "text": [
            "*** DEBUG: Batch 40 COMPLETED - Memory cleared ***\n"
          ]
        },
        {
          "output_type": "stream",
          "name": "stderr",
          "text": [
            "Fold 1 Epoch 7/30 [Train]:  51%|█████     | 51/100 [00:22<00:18,  2.59it/s, Loss=18.1404]"
          ]
        },
        {
          "output_type": "stream",
          "name": "stdout",
          "text": [
            "*** DEBUG: Batch 50 COMPLETED - Memory cleared ***\n"
          ]
        },
        {
          "output_type": "stream",
          "name": "stderr",
          "text": [
            "Fold 1 Epoch 7/30 [Train]:  62%|██████▏   | 62/100 [00:24<00:09,  4.05it/s, Loss=17.1524]"
          ]
        },
        {
          "output_type": "stream",
          "name": "stdout",
          "text": [
            "*** DEBUG: Batch 60 COMPLETED - Memory cleared ***\n"
          ]
        },
        {
          "output_type": "stream",
          "name": "stderr",
          "text": [
            "Fold 1 Epoch 7/30 [Train]:  71%|███████   | 71/100 [00:27<00:07,  3.69it/s, Loss=17.9292]"
          ]
        },
        {
          "output_type": "stream",
          "name": "stdout",
          "text": [
            "*** DEBUG: Batch 70 COMPLETED - Memory cleared ***\n"
          ]
        },
        {
          "output_type": "stream",
          "name": "stderr",
          "text": [
            "Fold 1 Epoch 7/30 [Train]:  81%|████████  | 81/100 [00:29<00:04,  3.84it/s, Loss=16.4775]"
          ]
        },
        {
          "output_type": "stream",
          "name": "stdout",
          "text": [
            "*** DEBUG: Batch 80 COMPLETED - Memory cleared ***\n"
          ]
        },
        {
          "output_type": "stream",
          "name": "stderr",
          "text": [
            "Fold 1 Epoch 7/30 [Train]:  91%|█████████ | 91/100 [00:32<00:02,  3.91it/s, Loss=15.6529]"
          ]
        },
        {
          "output_type": "stream",
          "name": "stdout",
          "text": [
            "*** DEBUG: Batch 90 COMPLETED - Memory cleared ***\n"
          ]
        },
        {
          "output_type": "stream",
          "name": "stderr",
          "text": [
            "Fold 1 Epoch 7/30 [Train]: 100%|██████████| 100/100 [00:34<00:00,  2.89it/s, Loss=15.4895]\n",
            "Fold 1 Epoch 7/30 [Val]: 100%|██████████| 25/25 [00:06<00:00,  3.77it/s, Loss=23.5332]\n"
          ]
        },
        {
          "output_type": "stream",
          "name": "stdout",
          "text": [
            "Fold 1 Epoch 7/30:\n",
            "  Train MAPE: 18.1865%\n",
            "  Val MAPE: 23.5343%\n",
            "  LR: 0.000100\n",
            "--------------------------------------------------\n",
            "Fold 1: New best model saved with Val MAPE = 23.5343%\n"
          ]
        },
        {
          "output_type": "stream",
          "name": "stderr",
          "text": [
            "Fold 1 Epoch 8/30 [Train]:   1%|          | 1/100 [00:01<02:55,  1.77s/it, Loss=15.4666]"
          ]
        },
        {
          "output_type": "stream",
          "name": "stdout",
          "text": [
            "*** DEBUG: Batch 0 COMPLETED - Memory cleared ***\n"
          ]
        },
        {
          "output_type": "stream",
          "name": "stderr",
          "text": [
            "Fold 1 Epoch 8/30 [Train]:  11%|█         | 11/100 [00:04<00:27,  3.25it/s, Loss=14.0927]"
          ]
        },
        {
          "output_type": "stream",
          "name": "stdout",
          "text": [
            "*** DEBUG: Batch 10 COMPLETED - Memory cleared ***\n"
          ]
        },
        {
          "output_type": "stream",
          "name": "stderr",
          "text": [
            "Fold 1 Epoch 8/30 [Train]:  21%|██        | 21/100 [00:07<00:21,  3.73it/s, Loss=14.9131]"
          ]
        },
        {
          "output_type": "stream",
          "name": "stdout",
          "text": [
            "*** DEBUG: Batch 20 COMPLETED - Memory cleared ***\n"
          ]
        },
        {
          "output_type": "stream",
          "name": "stderr",
          "text": [
            "Fold 1 Epoch 8/30 [Train]:  31%|███       | 31/100 [00:09<00:18,  3.76it/s, Loss=13.9491]"
          ]
        },
        {
          "output_type": "stream",
          "name": "stdout",
          "text": [
            "*** DEBUG: Batch 30 COMPLETED - Memory cleared ***\n"
          ]
        },
        {
          "output_type": "stream",
          "name": "stderr",
          "text": [
            "Fold 1 Epoch 8/30 [Train]:  41%|████      | 41/100 [00:19<00:48,  1.23it/s, Loss=14.0123]"
          ]
        },
        {
          "output_type": "stream",
          "name": "stdout",
          "text": [
            "*** DEBUG: Batch 40 COMPLETED - Memory cleared ***\n"
          ]
        },
        {
          "output_type": "stream",
          "name": "stderr",
          "text": [
            "Fold 1 Epoch 8/30 [Train]:  51%|█████     | 51/100 [00:22<00:17,  2.74it/s, Loss=13.1207]"
          ]
        },
        {
          "output_type": "stream",
          "name": "stdout",
          "text": [
            "*** DEBUG: Batch 50 COMPLETED - Memory cleared ***\n"
          ]
        },
        {
          "output_type": "stream",
          "name": "stderr",
          "text": [
            "Fold 1 Epoch 8/30 [Train]:  61%|██████    | 61/100 [00:25<00:10,  3.55it/s, Loss=14.3094]"
          ]
        },
        {
          "output_type": "stream",
          "name": "stdout",
          "text": [
            "*** DEBUG: Batch 60 COMPLETED - Memory cleared ***\n"
          ]
        },
        {
          "output_type": "stream",
          "name": "stderr",
          "text": [
            "Fold 1 Epoch 8/30 [Train]:  71%|███████   | 71/100 [00:27<00:07,  3.69it/s, Loss=11.9439]"
          ]
        },
        {
          "output_type": "stream",
          "name": "stdout",
          "text": [
            "*** DEBUG: Batch 70 COMPLETED - Memory cleared ***\n"
          ]
        },
        {
          "output_type": "stream",
          "name": "stderr",
          "text": [
            "Fold 1 Epoch 8/30 [Train]:  81%|████████  | 81/100 [00:30<00:05,  3.71it/s, Loss=13.7742]"
          ]
        },
        {
          "output_type": "stream",
          "name": "stdout",
          "text": [
            "*** DEBUG: Batch 80 COMPLETED - Memory cleared ***\n"
          ]
        },
        {
          "output_type": "stream",
          "name": "stderr",
          "text": [
            "Fold 1 Epoch 8/30 [Train]:  91%|█████████ | 91/100 [00:33<00:02,  3.80it/s, Loss=12.0677]"
          ]
        },
        {
          "output_type": "stream",
          "name": "stdout",
          "text": [
            "*** DEBUG: Batch 90 COMPLETED - Memory cleared ***\n"
          ]
        },
        {
          "output_type": "stream",
          "name": "stderr",
          "text": [
            "Fold 1 Epoch 8/30 [Train]: 100%|██████████| 100/100 [00:35<00:00,  2.84it/s, Loss=11.9588]\n",
            "Fold 1 Epoch 8/30 [Val]: 100%|██████████| 25/25 [00:06<00:00,  3.69it/s, Loss=21.2143]\n"
          ]
        },
        {
          "output_type": "stream",
          "name": "stdout",
          "text": [
            "Fold 1 Epoch 8/30:\n",
            "  Train MAPE: 13.8963%\n",
            "  Val MAPE: 21.2390%\n",
            "  LR: 0.000100\n",
            "--------------------------------------------------\n",
            "Fold 1: New best model saved with Val MAPE = 21.2390%\n"
          ]
        },
        {
          "output_type": "stream",
          "name": "stderr",
          "text": [
            "Fold 1 Epoch 9/30 [Train]:   1%|          | 1/100 [00:01<02:53,  1.75s/it, Loss=10.9257]"
          ]
        },
        {
          "output_type": "stream",
          "name": "stdout",
          "text": [
            "*** DEBUG: Batch 0 COMPLETED - Memory cleared ***\n"
          ]
        },
        {
          "output_type": "stream",
          "name": "stderr",
          "text": [
            "Fold 1 Epoch 9/30 [Train]:  11%|█         | 11/100 [00:04<00:26,  3.30it/s, Loss=11.4386]"
          ]
        },
        {
          "output_type": "stream",
          "name": "stdout",
          "text": [
            "*** DEBUG: Batch 10 COMPLETED - Memory cleared ***\n"
          ]
        },
        {
          "output_type": "stream",
          "name": "stderr",
          "text": [
            "Fold 1 Epoch 9/30 [Train]:  21%|██        | 21/100 [00:06<00:20,  3.79it/s, Loss=9.1180]"
          ]
        },
        {
          "output_type": "stream",
          "name": "stdout",
          "text": [
            "*** DEBUG: Batch 20 COMPLETED - Memory cleared ***\n"
          ]
        },
        {
          "output_type": "stream",
          "name": "stderr",
          "text": [
            "Fold 1 Epoch 9/30 [Train]:  31%|███       | 31/100 [00:09<00:18,  3.78it/s, Loss=10.0348]"
          ]
        },
        {
          "output_type": "stream",
          "name": "stdout",
          "text": [
            "*** DEBUG: Batch 30 COMPLETED - Memory cleared ***\n"
          ]
        },
        {
          "output_type": "stream",
          "name": "stderr",
          "text": [
            "Fold 1 Epoch 9/30 [Train]:  41%|████      | 41/100 [00:19<00:37,  1.56it/s, Loss=12.5072]"
          ]
        },
        {
          "output_type": "stream",
          "name": "stdout",
          "text": [
            "*** DEBUG: Batch 40 COMPLETED - Memory cleared ***\n"
          ]
        },
        {
          "output_type": "stream",
          "name": "stderr",
          "text": [
            "Fold 1 Epoch 9/30 [Train]:  51%|█████     | 51/100 [00:22<00:16,  3.01it/s, Loss=8.3023]"
          ]
        },
        {
          "output_type": "stream",
          "name": "stdout",
          "text": [
            "*** DEBUG: Batch 50 COMPLETED - Memory cleared ***\n"
          ]
        },
        {
          "output_type": "stream",
          "name": "stderr",
          "text": [
            "Fold 1 Epoch 9/30 [Train]:  61%|██████    | 61/100 [00:24<00:10,  3.55it/s, Loss=12.3535]"
          ]
        },
        {
          "output_type": "stream",
          "name": "stdout",
          "text": [
            "*** DEBUG: Batch 60 COMPLETED - Memory cleared ***\n"
          ]
        },
        {
          "output_type": "stream",
          "name": "stderr",
          "text": [
            "Fold 1 Epoch 9/30 [Train]:  71%|███████   | 71/100 [00:27<00:08,  3.59it/s, Loss=9.4728] "
          ]
        },
        {
          "output_type": "stream",
          "name": "stdout",
          "text": [
            "*** DEBUG: Batch 70 COMPLETED - Memory cleared ***\n"
          ]
        },
        {
          "output_type": "stream",
          "name": "stderr",
          "text": [
            "Fold 1 Epoch 9/30 [Train]:  81%|████████  | 81/100 [00:30<00:05,  3.73it/s, Loss=8.2554] "
          ]
        },
        {
          "output_type": "stream",
          "name": "stdout",
          "text": [
            "*** DEBUG: Batch 80 COMPLETED - Memory cleared ***\n"
          ]
        },
        {
          "output_type": "stream",
          "name": "stderr",
          "text": [
            "Fold 1 Epoch 9/30 [Train]:  91%|█████████ | 91/100 [00:32<00:02,  3.93it/s, Loss=7.5191]"
          ]
        },
        {
          "output_type": "stream",
          "name": "stdout",
          "text": [
            "*** DEBUG: Batch 90 COMPLETED - Memory cleared ***\n"
          ]
        },
        {
          "output_type": "stream",
          "name": "stderr",
          "text": [
            "Fold 1 Epoch 9/30 [Train]: 100%|██████████| 100/100 [00:35<00:00,  2.85it/s, Loss=7.4818]\n",
            "Fold 1 Epoch 9/30 [Val]: 100%|██████████| 25/25 [00:06<00:00,  3.91it/s, Loss=10.3920]\n"
          ]
        },
        {
          "output_type": "stream",
          "name": "stdout",
          "text": [
            "Fold 1 Epoch 9/30:\n",
            "  Train MAPE: 10.1047%\n",
            "  Val MAPE: 10.7891%\n",
            "  LR: 0.000100\n",
            "--------------------------------------------------\n",
            "Fold 1: New best model saved with Val MAPE = 10.7891%\n"
          ]
        },
        {
          "output_type": "stream",
          "name": "stderr",
          "text": [
            "Fold 1 Epoch 10/30 [Train]:   1%|          | 1/100 [00:01<02:51,  1.74s/it, Loss=7.0558]"
          ]
        },
        {
          "output_type": "stream",
          "name": "stdout",
          "text": [
            "*** DEBUG: Batch 0 COMPLETED - Memory cleared ***\n"
          ]
        },
        {
          "output_type": "stream",
          "name": "stderr",
          "text": [
            "Fold 1 Epoch 10/30 [Train]:  11%|█         | 11/100 [00:04<00:27,  3.23it/s, Loss=7.1027]"
          ]
        },
        {
          "output_type": "stream",
          "name": "stdout",
          "text": [
            "*** DEBUG: Batch 10 COMPLETED - Memory cleared ***\n"
          ]
        },
        {
          "output_type": "stream",
          "name": "stderr",
          "text": [
            "Fold 1 Epoch 10/30 [Train]:  21%|██        | 21/100 [00:07<00:21,  3.66it/s, Loss=5.4598]"
          ]
        },
        {
          "output_type": "stream",
          "name": "stdout",
          "text": [
            "*** DEBUG: Batch 20 COMPLETED - Memory cleared ***\n"
          ]
        },
        {
          "output_type": "stream",
          "name": "stderr",
          "text": [
            "Fold 1 Epoch 10/30 [Train]:  31%|███       | 31/100 [00:09<00:17,  3.85it/s, Loss=7.0290]"
          ]
        },
        {
          "output_type": "stream",
          "name": "stdout",
          "text": [
            "*** DEBUG: Batch 30 COMPLETED - Memory cleared ***\n"
          ]
        },
        {
          "output_type": "stream",
          "name": "stderr",
          "text": [
            "Fold 1 Epoch 10/30 [Train]:  41%|████      | 41/100 [00:19<00:46,  1.26it/s, Loss=5.9904]"
          ]
        },
        {
          "output_type": "stream",
          "name": "stdout",
          "text": [
            "*** DEBUG: Batch 40 COMPLETED - Memory cleared ***\n"
          ]
        },
        {
          "output_type": "stream",
          "name": "stderr",
          "text": [
            "Fold 1 Epoch 10/30 [Train]:  51%|█████     | 51/100 [00:22<00:16,  2.88it/s, Loss=6.8616]"
          ]
        },
        {
          "output_type": "stream",
          "name": "stdout",
          "text": [
            "*** DEBUG: Batch 50 COMPLETED - Memory cleared ***\n"
          ]
        },
        {
          "output_type": "stream",
          "name": "stderr",
          "text": [
            "Fold 1 Epoch 10/30 [Train]:  61%|██████    | 61/100 [00:24<00:11,  3.51it/s, Loss=5.2533]"
          ]
        },
        {
          "output_type": "stream",
          "name": "stdout",
          "text": [
            "*** DEBUG: Batch 60 COMPLETED - Memory cleared ***\n"
          ]
        },
        {
          "output_type": "stream",
          "name": "stderr",
          "text": [
            "Fold 1 Epoch 10/30 [Train]:  71%|███████   | 71/100 [00:27<00:07,  3.79it/s, Loss=6.1611]"
          ]
        },
        {
          "output_type": "stream",
          "name": "stdout",
          "text": [
            "*** DEBUG: Batch 70 COMPLETED - Memory cleared ***\n"
          ]
        },
        {
          "output_type": "stream",
          "name": "stderr",
          "text": [
            "Fold 1 Epoch 10/30 [Train]:  82%|████████▏ | 82/100 [00:30<00:04,  4.17it/s, Loss=7.1820]"
          ]
        },
        {
          "output_type": "stream",
          "name": "stdout",
          "text": [
            "*** DEBUG: Batch 80 COMPLETED - Memory cleared ***\n"
          ]
        },
        {
          "output_type": "stream",
          "name": "stderr",
          "text": [
            "Fold 1 Epoch 10/30 [Train]:  91%|█████████ | 91/100 [00:32<00:02,  3.68it/s, Loss=5.4432]"
          ]
        },
        {
          "output_type": "stream",
          "name": "stdout",
          "text": [
            "*** DEBUG: Batch 90 COMPLETED - Memory cleared ***\n"
          ]
        },
        {
          "output_type": "stream",
          "name": "stderr",
          "text": [
            "Fold 1 Epoch 10/30 [Train]: 100%|██████████| 100/100 [00:34<00:00,  2.88it/s, Loss=6.0511]\n",
            "Fold 1 Epoch 10/30 [Val]: 100%|██████████| 25/25 [00:06<00:00,  3.76it/s, Loss=26.8635]\n"
          ]
        },
        {
          "output_type": "stream",
          "name": "stdout",
          "text": [
            "Fold 1 Epoch 10/30:\n",
            "  Train MAPE: 6.7139%\n",
            "  Val MAPE: 27.9340%\n",
            "  LR: 0.000100\n",
            "--------------------------------------------------\n"
          ]
        },
        {
          "output_type": "stream",
          "name": "stderr",
          "text": [
            "Fold 1 Epoch 11/30 [Train]:   1%|          | 1/100 [00:00<01:06,  1.50it/s, Loss=5.6381]"
          ]
        },
        {
          "output_type": "stream",
          "name": "stdout",
          "text": [
            "*** DEBUG: Batch 0 COMPLETED - Memory cleared ***\n"
          ]
        },
        {
          "output_type": "stream",
          "name": "stderr",
          "text": [
            "Fold 1 Epoch 11/30 [Train]:  12%|█▏        | 12/100 [00:03<00:20,  4.21it/s, Loss=5.2256]"
          ]
        },
        {
          "output_type": "stream",
          "name": "stdout",
          "text": [
            "*** DEBUG: Batch 10 COMPLETED - Memory cleared ***\n"
          ]
        },
        {
          "output_type": "stream",
          "name": "stderr",
          "text": [
            "Fold 1 Epoch 11/30 [Train]:  21%|██        | 21/100 [00:05<00:19,  3.98it/s, Loss=5.6746]"
          ]
        },
        {
          "output_type": "stream",
          "name": "stdout",
          "text": [
            "*** DEBUG: Batch 20 COMPLETED - Memory cleared ***\n"
          ]
        },
        {
          "output_type": "stream",
          "name": "stderr",
          "text": [
            "Fold 1 Epoch 11/30 [Train]:  31%|███       | 31/100 [00:08<00:17,  3.86it/s, Loss=4.6515]"
          ]
        },
        {
          "output_type": "stream",
          "name": "stdout",
          "text": [
            "*** DEBUG: Batch 30 COMPLETED - Memory cleared ***\n"
          ]
        },
        {
          "output_type": "stream",
          "name": "stderr",
          "text": [
            "Fold 1 Epoch 11/30 [Train]:  41%|████      | 41/100 [00:10<00:14,  3.95it/s, Loss=5.0748]"
          ]
        },
        {
          "output_type": "stream",
          "name": "stdout",
          "text": [
            "*** DEBUG: Batch 40 COMPLETED - Memory cleared ***\n"
          ]
        },
        {
          "output_type": "stream",
          "name": "stderr",
          "text": [
            "Fold 1 Epoch 11/30 [Train]:  51%|█████     | 51/100 [00:13<00:13,  3.73it/s, Loss=5.0066]"
          ]
        },
        {
          "output_type": "stream",
          "name": "stdout",
          "text": [
            "*** DEBUG: Batch 50 COMPLETED - Memory cleared ***\n"
          ]
        },
        {
          "output_type": "stream",
          "name": "stderr",
          "text": [
            "Fold 1 Epoch 11/30 [Train]:  61%|██████    | 61/100 [00:16<00:10,  3.70it/s, Loss=4.6357]"
          ]
        },
        {
          "output_type": "stream",
          "name": "stdout",
          "text": [
            "*** DEBUG: Batch 60 COMPLETED - Memory cleared ***\n"
          ]
        },
        {
          "output_type": "stream",
          "name": "stderr",
          "text": [
            "Fold 1 Epoch 11/30 [Train]:  71%|███████   | 71/100 [00:18<00:07,  3.75it/s, Loss=4.8954]"
          ]
        },
        {
          "output_type": "stream",
          "name": "stdout",
          "text": [
            "*** DEBUG: Batch 70 COMPLETED - Memory cleared ***\n"
          ]
        },
        {
          "output_type": "stream",
          "name": "stderr",
          "text": [
            "Fold 1 Epoch 11/30 [Train]:  81%|████████  | 81/100 [00:21<00:05,  3.76it/s, Loss=4.9683]"
          ]
        },
        {
          "output_type": "stream",
          "name": "stdout",
          "text": [
            "*** DEBUG: Batch 80 COMPLETED - Memory cleared ***\n"
          ]
        },
        {
          "output_type": "stream",
          "name": "stderr",
          "text": [
            "Fold 1 Epoch 11/30 [Train]:  91%|█████████ | 91/100 [00:24<00:02,  3.61it/s, Loss=5.4689]"
          ]
        },
        {
          "output_type": "stream",
          "name": "stdout",
          "text": [
            "*** DEBUG: Batch 90 COMPLETED - Memory cleared ***\n"
          ]
        },
        {
          "output_type": "stream",
          "name": "stderr",
          "text": [
            "Fold 1 Epoch 11/30 [Train]: 100%|██████████| 100/100 [00:26<00:00,  3.77it/s, Loss=4.9260]\n",
            "Fold 1 Epoch 11/30 [Val]: 100%|██████████| 25/25 [00:06<00:00,  3.73it/s, Loss=21.9804]\n"
          ]
        },
        {
          "output_type": "stream",
          "name": "stdout",
          "text": [
            "Fold 1 Epoch 11/30:\n",
            "  Train MAPE: 5.1974%\n",
            "  Val MAPE: 22.8699%\n",
            "  LR: 0.000100\n",
            "--------------------------------------------------\n"
          ]
        },
        {
          "output_type": "stream",
          "name": "stderr",
          "text": [
            "Fold 1 Epoch 12/30 [Train]:   1%|          | 1/100 [00:00<01:07,  1.47it/s, Loss=4.9502]"
          ]
        },
        {
          "output_type": "stream",
          "name": "stdout",
          "text": [
            "*** DEBUG: Batch 0 COMPLETED - Memory cleared ***\n"
          ]
        },
        {
          "output_type": "stream",
          "name": "stderr",
          "text": [
            "Fold 1 Epoch 12/30 [Train]:  11%|█         | 11/100 [00:03<00:23,  3.74it/s, Loss=4.9746]"
          ]
        },
        {
          "output_type": "stream",
          "name": "stdout",
          "text": [
            "*** DEBUG: Batch 10 COMPLETED - Memory cleared ***\n"
          ]
        },
        {
          "output_type": "stream",
          "name": "stderr",
          "text": [
            "Fold 1 Epoch 12/30 [Train]:  21%|██        | 21/100 [00:05<00:20,  3.82it/s, Loss=4.3459]"
          ]
        },
        {
          "output_type": "stream",
          "name": "stdout",
          "text": [
            "*** DEBUG: Batch 20 COMPLETED - Memory cleared ***\n"
          ]
        },
        {
          "output_type": "stream",
          "name": "stderr",
          "text": [
            "Fold 1 Epoch 12/30 [Train]:  31%|███       | 31/100 [00:08<00:17,  4.00it/s, Loss=4.4516]"
          ]
        },
        {
          "output_type": "stream",
          "name": "stdout",
          "text": [
            "*** DEBUG: Batch 30 COMPLETED - Memory cleared ***\n"
          ]
        },
        {
          "output_type": "stream",
          "name": "stderr",
          "text": [
            "Fold 1 Epoch 12/30 [Train]:  41%|████      | 41/100 [00:10<00:14,  4.00it/s, Loss=5.4528]"
          ]
        },
        {
          "output_type": "stream",
          "name": "stdout",
          "text": [
            "*** DEBUG: Batch 40 COMPLETED - Memory cleared ***\n"
          ]
        },
        {
          "output_type": "stream",
          "name": "stderr",
          "text": [
            "Fold 1 Epoch 12/30 [Train]:  51%|█████     | 51/100 [00:13<00:12,  3.89it/s, Loss=4.0608]"
          ]
        },
        {
          "output_type": "stream",
          "name": "stdout",
          "text": [
            "*** DEBUG: Batch 50 COMPLETED - Memory cleared ***\n"
          ]
        },
        {
          "output_type": "stream",
          "name": "stderr",
          "text": [
            "Fold 1 Epoch 12/30 [Train]:  61%|██████    | 61/100 [00:16<00:10,  3.79it/s, Loss=4.6372]"
          ]
        },
        {
          "output_type": "stream",
          "name": "stdout",
          "text": [
            "*** DEBUG: Batch 60 COMPLETED - Memory cleared ***\n"
          ]
        },
        {
          "output_type": "stream",
          "name": "stderr",
          "text": [
            "Fold 1 Epoch 12/30 [Train]:  71%|███████   | 71/100 [00:18<00:07,  3.97it/s, Loss=4.7313]"
          ]
        },
        {
          "output_type": "stream",
          "name": "stdout",
          "text": [
            "*** DEBUG: Batch 70 COMPLETED - Memory cleared ***\n"
          ]
        },
        {
          "output_type": "stream",
          "name": "stderr",
          "text": [
            "Fold 1 Epoch 12/30 [Train]:  81%|████████  | 81/100 [00:21<00:04,  3.85it/s, Loss=4.2034]"
          ]
        },
        {
          "output_type": "stream",
          "name": "stdout",
          "text": [
            "*** DEBUG: Batch 80 COMPLETED - Memory cleared ***\n"
          ]
        },
        {
          "output_type": "stream",
          "name": "stderr",
          "text": [
            "Fold 1 Epoch 12/30 [Train]:  91%|█████████ | 91/100 [00:23<00:02,  3.80it/s, Loss=4.1761]"
          ]
        },
        {
          "output_type": "stream",
          "name": "stdout",
          "text": [
            "*** DEBUG: Batch 90 COMPLETED - Memory cleared ***\n"
          ]
        },
        {
          "output_type": "stream",
          "name": "stderr",
          "text": [
            "Fold 1 Epoch 12/30 [Train]: 100%|██████████| 100/100 [00:26<00:00,  3.84it/s, Loss=5.0608]\n",
            "Fold 1 Epoch 12/30 [Val]: 100%|██████████| 25/25 [00:06<00:00,  3.73it/s, Loss=6.3478]\n"
          ]
        },
        {
          "output_type": "stream",
          "name": "stdout",
          "text": [
            "Fold 1 Epoch 12/30:\n",
            "  Train MAPE: 4.6727%\n",
            "  Val MAPE: 6.8378%\n",
            "  LR: 0.000100\n",
            "--------------------------------------------------\n",
            "Fold 1: New best model saved with Val MAPE = 6.8378%\n"
          ]
        },
        {
          "output_type": "stream",
          "name": "stderr",
          "text": [
            "Fold 1 Epoch 13/30 [Train]:   1%|          | 1/100 [00:01<02:52,  1.75s/it, Loss=4.7695]"
          ]
        },
        {
          "output_type": "stream",
          "name": "stdout",
          "text": [
            "*** DEBUG: Batch 0 COMPLETED - Memory cleared ***\n"
          ]
        },
        {
          "output_type": "stream",
          "name": "stderr",
          "text": [
            "Fold 1 Epoch 13/30 [Train]:  11%|█         | 11/100 [00:04<00:26,  3.36it/s, Loss=3.9535]"
          ]
        },
        {
          "output_type": "stream",
          "name": "stdout",
          "text": [
            "*** DEBUG: Batch 10 COMPLETED - Memory cleared ***\n"
          ]
        },
        {
          "output_type": "stream",
          "name": "stderr",
          "text": [
            "Fold 1 Epoch 13/30 [Train]:  21%|██        | 21/100 [00:06<00:21,  3.63it/s, Loss=4.1065]"
          ]
        },
        {
          "output_type": "stream",
          "name": "stdout",
          "text": [
            "*** DEBUG: Batch 20 COMPLETED - Memory cleared ***\n"
          ]
        },
        {
          "output_type": "stream",
          "name": "stderr",
          "text": [
            "Fold 1 Epoch 13/30 [Train]:  31%|███       | 31/100 [00:09<00:18,  3.79it/s, Loss=5.0579]"
          ]
        },
        {
          "output_type": "stream",
          "name": "stdout",
          "text": [
            "*** DEBUG: Batch 30 COMPLETED - Memory cleared ***\n"
          ]
        },
        {
          "output_type": "stream",
          "name": "stderr",
          "text": [
            "Fold 1 Epoch 13/30 [Train]:  41%|████      | 41/100 [00:19<00:47,  1.24it/s, Loss=4.1397]"
          ]
        },
        {
          "output_type": "stream",
          "name": "stdout",
          "text": [
            "*** DEBUG: Batch 40 COMPLETED - Memory cleared ***\n"
          ]
        },
        {
          "output_type": "stream",
          "name": "stderr",
          "text": [
            "Fold 1 Epoch 13/30 [Train]:  51%|█████     | 51/100 [00:22<00:17,  2.81it/s, Loss=4.6261]"
          ]
        },
        {
          "output_type": "stream",
          "name": "stdout",
          "text": [
            "*** DEBUG: Batch 50 COMPLETED - Memory cleared ***\n"
          ]
        },
        {
          "output_type": "stream",
          "name": "stderr",
          "text": [
            "Fold 1 Epoch 13/30 [Train]:  61%|██████    | 61/100 [00:24<00:11,  3.49it/s, Loss=4.1793]"
          ]
        },
        {
          "output_type": "stream",
          "name": "stdout",
          "text": [
            "*** DEBUG: Batch 60 COMPLETED - Memory cleared ***\n"
          ]
        },
        {
          "output_type": "stream",
          "name": "stderr",
          "text": [
            "Fold 1 Epoch 13/30 [Train]:  71%|███████   | 71/100 [00:27<00:07,  3.73it/s, Loss=4.0120]"
          ]
        },
        {
          "output_type": "stream",
          "name": "stdout",
          "text": [
            "*** DEBUG: Batch 70 COMPLETED - Memory cleared ***\n"
          ]
        },
        {
          "output_type": "stream",
          "name": "stderr",
          "text": [
            "Fold 1 Epoch 13/30 [Train]:  81%|████████  | 81/100 [00:30<00:05,  3.72it/s, Loss=4.4151]"
          ]
        },
        {
          "output_type": "stream",
          "name": "stdout",
          "text": [
            "*** DEBUG: Batch 80 COMPLETED - Memory cleared ***\n"
          ]
        },
        {
          "output_type": "stream",
          "name": "stderr",
          "text": [
            "Fold 1 Epoch 13/30 [Train]:  91%|█████████ | 91/100 [00:33<00:02,  3.64it/s, Loss=4.5869]"
          ]
        },
        {
          "output_type": "stream",
          "name": "stdout",
          "text": [
            "*** DEBUG: Batch 90 COMPLETED - Memory cleared ***\n"
          ]
        },
        {
          "output_type": "stream",
          "name": "stderr",
          "text": [
            "Fold 1 Epoch 13/30 [Train]: 100%|██████████| 100/100 [00:35<00:00,  2.85it/s, Loss=5.4009]\n",
            "Fold 1 Epoch 13/30 [Val]: 100%|██████████| 25/25 [00:06<00:00,  3.66it/s, Loss=34.2925]\n"
          ]
        },
        {
          "output_type": "stream",
          "name": "stdout",
          "text": [
            "Fold 1 Epoch 13/30:\n",
            "  Train MAPE: 4.3509%\n",
            "  Val MAPE: 34.3504%\n",
            "  LR: 0.000100\n",
            "--------------------------------------------------\n"
          ]
        },
        {
          "output_type": "stream",
          "name": "stderr",
          "text": [
            "Fold 1 Epoch 14/30 [Train]:   1%|          | 1/100 [00:00<01:08,  1.44it/s, Loss=3.6668]"
          ]
        },
        {
          "output_type": "stream",
          "name": "stdout",
          "text": [
            "*** DEBUG: Batch 0 COMPLETED - Memory cleared ***\n"
          ]
        },
        {
          "output_type": "stream",
          "name": "stderr",
          "text": [
            "Fold 1 Epoch 14/30 [Train]:  11%|█         | 11/100 [00:03<00:24,  3.65it/s, Loss=4.6615]"
          ]
        },
        {
          "output_type": "stream",
          "name": "stdout",
          "text": [
            "*** DEBUG: Batch 10 COMPLETED - Memory cleared ***\n"
          ]
        },
        {
          "output_type": "stream",
          "name": "stderr",
          "text": [
            "Fold 1 Epoch 14/30 [Train]:  21%|██        | 21/100 [00:05<00:20,  3.90it/s, Loss=4.1417]"
          ]
        },
        {
          "output_type": "stream",
          "name": "stdout",
          "text": [
            "*** DEBUG: Batch 20 COMPLETED - Memory cleared ***\n"
          ]
        },
        {
          "output_type": "stream",
          "name": "stderr",
          "text": [
            "Fold 1 Epoch 14/30 [Train]:  31%|███       | 31/100 [00:08<00:17,  4.02it/s, Loss=4.8000]"
          ]
        },
        {
          "output_type": "stream",
          "name": "stdout",
          "text": [
            "*** DEBUG: Batch 30 COMPLETED - Memory cleared ***\n"
          ]
        },
        {
          "output_type": "stream",
          "name": "stderr",
          "text": [
            "Fold 1 Epoch 14/30 [Train]:  41%|████      | 41/100 [00:10<00:15,  3.92it/s, Loss=3.7457]"
          ]
        },
        {
          "output_type": "stream",
          "name": "stdout",
          "text": [
            "*** DEBUG: Batch 40 COMPLETED - Memory cleared ***\n"
          ]
        },
        {
          "output_type": "stream",
          "name": "stderr",
          "text": [
            "Fold 1 Epoch 14/30 [Train]:  51%|█████     | 51/100 [00:13<00:13,  3.72it/s, Loss=4.5640]"
          ]
        },
        {
          "output_type": "stream",
          "name": "stdout",
          "text": [
            "*** DEBUG: Batch 50 COMPLETED - Memory cleared ***\n"
          ]
        },
        {
          "output_type": "stream",
          "name": "stderr",
          "text": [
            "Fold 1 Epoch 14/30 [Train]:  61%|██████    | 61/100 [00:16<00:10,  3.71it/s, Loss=4.6452]"
          ]
        },
        {
          "output_type": "stream",
          "name": "stdout",
          "text": [
            "*** DEBUG: Batch 60 COMPLETED - Memory cleared ***\n"
          ]
        },
        {
          "output_type": "stream",
          "name": "stderr",
          "text": [
            "Fold 1 Epoch 14/30 [Train]:  71%|███████   | 71/100 [00:19<00:07,  3.75it/s, Loss=4.1225]"
          ]
        },
        {
          "output_type": "stream",
          "name": "stdout",
          "text": [
            "*** DEBUG: Batch 70 COMPLETED - Memory cleared ***\n"
          ]
        },
        {
          "output_type": "stream",
          "name": "stderr",
          "text": [
            "Fold 1 Epoch 14/30 [Train]:  81%|████████  | 81/100 [00:21<00:04,  3.83it/s, Loss=4.0812]"
          ]
        },
        {
          "output_type": "stream",
          "name": "stdout",
          "text": [
            "*** DEBUG: Batch 80 COMPLETED - Memory cleared ***\n"
          ]
        },
        {
          "output_type": "stream",
          "name": "stderr",
          "text": [
            "Fold 1 Epoch 14/30 [Train]:  91%|█████████ | 91/100 [00:24<00:02,  3.82it/s, Loss=3.9459]"
          ]
        },
        {
          "output_type": "stream",
          "name": "stdout",
          "text": [
            "*** DEBUG: Batch 90 COMPLETED - Memory cleared ***\n"
          ]
        },
        {
          "output_type": "stream",
          "name": "stderr",
          "text": [
            "Fold 1 Epoch 14/30 [Train]: 100%|██████████| 100/100 [00:26<00:00,  3.78it/s, Loss=4.7262]\n",
            "Fold 1 Epoch 14/30 [Val]: 100%|██████████| 25/25 [00:06<00:00,  3.64it/s, Loss=14.4396]\n"
          ]
        },
        {
          "output_type": "stream",
          "name": "stdout",
          "text": [
            "Fold 1 Epoch 14/30:\n",
            "  Train MAPE: 4.0794%\n",
            "  Val MAPE: 14.4480%\n",
            "  LR: 0.000100\n",
            "--------------------------------------------------\n"
          ]
        },
        {
          "output_type": "stream",
          "name": "stderr",
          "text": [
            "Fold 1 Epoch 15/30 [Train]:   1%|          | 1/100 [00:00<01:00,  1.63it/s, Loss=3.9522]"
          ]
        },
        {
          "output_type": "stream",
          "name": "stdout",
          "text": [
            "*** DEBUG: Batch 0 COMPLETED - Memory cleared ***\n"
          ]
        },
        {
          "output_type": "stream",
          "name": "stderr",
          "text": [
            "Fold 1 Epoch 15/30 [Train]:  11%|█         | 11/100 [00:03<00:23,  3.76it/s, Loss=3.9684]"
          ]
        },
        {
          "output_type": "stream",
          "name": "stdout",
          "text": [
            "*** DEBUG: Batch 10 COMPLETED - Memory cleared ***\n"
          ]
        },
        {
          "output_type": "stream",
          "name": "stderr",
          "text": [
            "Fold 1 Epoch 15/30 [Train]:  21%|██        | 21/100 [00:05<00:21,  3.69it/s, Loss=4.7769]"
          ]
        },
        {
          "output_type": "stream",
          "name": "stdout",
          "text": [
            "*** DEBUG: Batch 20 COMPLETED - Memory cleared ***\n"
          ]
        },
        {
          "output_type": "stream",
          "name": "stderr",
          "text": [
            "Fold 1 Epoch 15/30 [Train]:  31%|███       | 31/100 [00:08<00:18,  3.78it/s, Loss=4.0569]"
          ]
        },
        {
          "output_type": "stream",
          "name": "stdout",
          "text": [
            "*** DEBUG: Batch 30 COMPLETED - Memory cleared ***\n"
          ]
        },
        {
          "output_type": "stream",
          "name": "stderr",
          "text": [
            "Fold 1 Epoch 15/30 [Train]:  41%|████      | 41/100 [00:11<00:15,  3.82it/s, Loss=4.0614]"
          ]
        },
        {
          "output_type": "stream",
          "name": "stdout",
          "text": [
            "*** DEBUG: Batch 40 COMPLETED - Memory cleared ***\n"
          ]
        },
        {
          "output_type": "stream",
          "name": "stderr",
          "text": [
            "Fold 1 Epoch 15/30 [Train]:  51%|█████     | 51/100 [00:13<00:12,  3.84it/s, Loss=3.9877]"
          ]
        },
        {
          "output_type": "stream",
          "name": "stdout",
          "text": [
            "*** DEBUG: Batch 50 COMPLETED - Memory cleared ***\n"
          ]
        },
        {
          "output_type": "stream",
          "name": "stderr",
          "text": [
            "Fold 1 Epoch 15/30 [Train]:  61%|██████    | 61/100 [00:16<00:10,  3.82it/s, Loss=4.6414]"
          ]
        },
        {
          "output_type": "stream",
          "name": "stdout",
          "text": [
            "*** DEBUG: Batch 60 COMPLETED - Memory cleared ***\n"
          ]
        },
        {
          "output_type": "stream",
          "name": "stderr",
          "text": [
            "Fold 1 Epoch 15/30 [Train]:  71%|███████   | 71/100 [00:19<00:07,  3.77it/s, Loss=3.9424]"
          ]
        },
        {
          "output_type": "stream",
          "name": "stdout",
          "text": [
            "*** DEBUG: Batch 70 COMPLETED - Memory cleared ***\n"
          ]
        },
        {
          "output_type": "stream",
          "name": "stderr",
          "text": [
            "Fold 1 Epoch 15/30 [Train]:  81%|████████  | 81/100 [00:21<00:05,  3.66it/s, Loss=4.0060]"
          ]
        },
        {
          "output_type": "stream",
          "name": "stdout",
          "text": [
            "*** DEBUG: Batch 80 COMPLETED - Memory cleared ***\n"
          ]
        },
        {
          "output_type": "stream",
          "name": "stderr",
          "text": [
            "Fold 1 Epoch 15/30 [Train]:  91%|█████████ | 91/100 [00:24<00:02,  3.86it/s, Loss=4.0370]"
          ]
        },
        {
          "output_type": "stream",
          "name": "stdout",
          "text": [
            "*** DEBUG: Batch 90 COMPLETED - Memory cleared ***\n"
          ]
        },
        {
          "output_type": "stream",
          "name": "stderr",
          "text": [
            "Fold 1 Epoch 15/30 [Train]: 100%|██████████| 100/100 [00:26<00:00,  3.79it/s, Loss=4.3595]\n",
            "Fold 1 Epoch 15/30 [Val]: 100%|██████████| 25/25 [00:06<00:00,  3.73it/s, Loss=32.8440]\n"
          ]
        },
        {
          "output_type": "stream",
          "name": "stdout",
          "text": [
            "Fold 1 Epoch 15/30:\n",
            "  Train MAPE: 4.0379%\n",
            "  Val MAPE: 33.1877%\n",
            "  LR: 0.000100\n",
            "--------------------------------------------------\n"
          ]
        },
        {
          "output_type": "stream",
          "name": "stderr",
          "text": [
            "Fold 1 Epoch 16/30 [Train]:   1%|          | 1/100 [00:00<01:04,  1.54it/s, Loss=4.7122]"
          ]
        },
        {
          "output_type": "stream",
          "name": "stdout",
          "text": [
            "*** DEBUG: Batch 0 COMPLETED - Memory cleared ***\n"
          ]
        },
        {
          "output_type": "stream",
          "name": "stderr",
          "text": [
            "Fold 1 Epoch 16/30 [Train]:  11%|█         | 11/100 [00:03<00:23,  3.82it/s, Loss=3.8605]"
          ]
        },
        {
          "output_type": "stream",
          "name": "stdout",
          "text": [
            "*** DEBUG: Batch 10 COMPLETED - Memory cleared ***\n"
          ]
        },
        {
          "output_type": "stream",
          "name": "stderr",
          "text": [
            "Fold 1 Epoch 16/30 [Train]:  21%|██        | 21/100 [00:05<00:20,  3.85it/s, Loss=3.6108]"
          ]
        },
        {
          "output_type": "stream",
          "name": "stdout",
          "text": [
            "*** DEBUG: Batch 20 COMPLETED - Memory cleared ***\n"
          ]
        },
        {
          "output_type": "stream",
          "name": "stderr",
          "text": [
            "Fold 1 Epoch 16/30 [Train]:  31%|███       | 31/100 [00:08<00:17,  3.83it/s, Loss=3.5450]"
          ]
        },
        {
          "output_type": "stream",
          "name": "stdout",
          "text": [
            "*** DEBUG: Batch 30 COMPLETED - Memory cleared ***\n"
          ]
        },
        {
          "output_type": "stream",
          "name": "stderr",
          "text": [
            "Fold 1 Epoch 16/30 [Train]:  41%|████      | 41/100 [00:11<00:15,  3.76it/s, Loss=3.7029]"
          ]
        },
        {
          "output_type": "stream",
          "name": "stdout",
          "text": [
            "*** DEBUG: Batch 40 COMPLETED - Memory cleared ***\n"
          ]
        },
        {
          "output_type": "stream",
          "name": "stderr",
          "text": [
            "Fold 1 Epoch 16/30 [Train]:  51%|█████     | 51/100 [00:13<00:12,  3.85it/s, Loss=4.0327]"
          ]
        },
        {
          "output_type": "stream",
          "name": "stdout",
          "text": [
            "*** DEBUG: Batch 50 COMPLETED - Memory cleared ***\n"
          ]
        },
        {
          "output_type": "stream",
          "name": "stderr",
          "text": [
            "Fold 1 Epoch 16/30 [Train]:  61%|██████    | 61/100 [00:16<00:10,  3.85it/s, Loss=4.2766]"
          ]
        },
        {
          "output_type": "stream",
          "name": "stdout",
          "text": [
            "*** DEBUG: Batch 60 COMPLETED - Memory cleared ***\n"
          ]
        },
        {
          "output_type": "stream",
          "name": "stderr",
          "text": [
            "Fold 1 Epoch 16/30 [Train]:  71%|███████   | 71/100 [00:18<00:07,  3.79it/s, Loss=3.5163]"
          ]
        },
        {
          "output_type": "stream",
          "name": "stdout",
          "text": [
            "*** DEBUG: Batch 70 COMPLETED - Memory cleared ***\n"
          ]
        },
        {
          "output_type": "stream",
          "name": "stderr",
          "text": [
            "Fold 1 Epoch 16/30 [Train]:  81%|████████  | 81/100 [00:21<00:05,  3.65it/s, Loss=3.9659]"
          ]
        },
        {
          "output_type": "stream",
          "name": "stdout",
          "text": [
            "*** DEBUG: Batch 80 COMPLETED - Memory cleared ***\n"
          ]
        },
        {
          "output_type": "stream",
          "name": "stderr",
          "text": [
            "Fold 1 Epoch 16/30 [Train]:  91%|█████████ | 91/100 [00:24<00:02,  3.79it/s, Loss=4.1402]"
          ]
        },
        {
          "output_type": "stream",
          "name": "stdout",
          "text": [
            "*** DEBUG: Batch 90 COMPLETED - Memory cleared ***\n"
          ]
        },
        {
          "output_type": "stream",
          "name": "stderr",
          "text": [
            "Fold 1 Epoch 16/30 [Train]: 100%|██████████| 100/100 [00:26<00:00,  3.79it/s, Loss=4.4467]\n",
            "Fold 1 Epoch 16/30 [Val]: 100%|██████████| 25/25 [00:06<00:00,  3.79it/s, Loss=13.8659]\n"
          ]
        },
        {
          "output_type": "stream",
          "name": "stdout",
          "text": [
            "Fold 1 Epoch 16/30:\n",
            "  Train MAPE: 4.0186%\n",
            "  Val MAPE: 13.9731%\n",
            "  LR: 0.000100\n",
            "--------------------------------------------------\n"
          ]
        },
        {
          "output_type": "stream",
          "name": "stderr",
          "text": [
            "Fold 1 Epoch 17/30 [Train]:   1%|          | 1/100 [00:00<01:12,  1.37it/s, Loss=4.8064]"
          ]
        },
        {
          "output_type": "stream",
          "name": "stdout",
          "text": [
            "*** DEBUG: Batch 0 COMPLETED - Memory cleared ***\n"
          ]
        },
        {
          "output_type": "stream",
          "name": "stderr",
          "text": [
            "Fold 1 Epoch 17/30 [Train]:  11%|█         | 11/100 [00:03<00:24,  3.71it/s, Loss=4.2756]"
          ]
        },
        {
          "output_type": "stream",
          "name": "stdout",
          "text": [
            "*** DEBUG: Batch 10 COMPLETED - Memory cleared ***\n"
          ]
        },
        {
          "output_type": "stream",
          "name": "stderr",
          "text": [
            "Fold 1 Epoch 17/30 [Train]:  21%|██        | 21/100 [00:05<00:20,  3.85it/s, Loss=4.0938]"
          ]
        },
        {
          "output_type": "stream",
          "name": "stdout",
          "text": [
            "*** DEBUG: Batch 20 COMPLETED - Memory cleared ***\n"
          ]
        },
        {
          "output_type": "stream",
          "name": "stderr",
          "text": [
            "Fold 1 Epoch 17/30 [Train]:  31%|███       | 31/100 [00:08<00:17,  3.85it/s, Loss=4.1587]"
          ]
        },
        {
          "output_type": "stream",
          "name": "stdout",
          "text": [
            "*** DEBUG: Batch 30 COMPLETED - Memory cleared ***\n"
          ]
        },
        {
          "output_type": "stream",
          "name": "stderr",
          "text": [
            "Fold 1 Epoch 17/30 [Train]:  41%|████      | 41/100 [00:11<00:15,  3.88it/s, Loss=3.3966]"
          ]
        },
        {
          "output_type": "stream",
          "name": "stdout",
          "text": [
            "*** DEBUG: Batch 40 COMPLETED - Memory cleared ***\n"
          ]
        },
        {
          "output_type": "stream",
          "name": "stderr",
          "text": [
            "Fold 1 Epoch 17/30 [Train]:  51%|█████     | 51/100 [00:13<00:13,  3.74it/s, Loss=3.7578]"
          ]
        },
        {
          "output_type": "stream",
          "name": "stdout",
          "text": [
            "*** DEBUG: Batch 50 COMPLETED - Memory cleared ***\n"
          ]
        },
        {
          "output_type": "stream",
          "name": "stderr",
          "text": [
            "Fold 1 Epoch 17/30 [Train]:  61%|██████    | 61/100 [00:16<00:10,  3.82it/s, Loss=3.5136]"
          ]
        },
        {
          "output_type": "stream",
          "name": "stdout",
          "text": [
            "*** DEBUG: Batch 60 COMPLETED - Memory cleared ***\n"
          ]
        },
        {
          "output_type": "stream",
          "name": "stderr",
          "text": [
            "Fold 1 Epoch 17/30 [Train]:  71%|███████   | 71/100 [00:19<00:07,  3.72it/s, Loss=4.0004]"
          ]
        },
        {
          "output_type": "stream",
          "name": "stdout",
          "text": [
            "*** DEBUG: Batch 70 COMPLETED - Memory cleared ***\n"
          ]
        },
        {
          "output_type": "stream",
          "name": "stderr",
          "text": [
            "Fold 1 Epoch 17/30 [Train]:  81%|████████  | 81/100 [00:21<00:04,  3.88it/s, Loss=3.6372]"
          ]
        },
        {
          "output_type": "stream",
          "name": "stdout",
          "text": [
            "*** DEBUG: Batch 80 COMPLETED - Memory cleared ***\n"
          ]
        },
        {
          "output_type": "stream",
          "name": "stderr",
          "text": [
            "Fold 1 Epoch 17/30 [Train]:  91%|█████████ | 91/100 [00:24<00:02,  3.74it/s, Loss=3.8098]"
          ]
        },
        {
          "output_type": "stream",
          "name": "stdout",
          "text": [
            "*** DEBUG: Batch 90 COMPLETED - Memory cleared ***\n"
          ]
        },
        {
          "output_type": "stream",
          "name": "stderr",
          "text": [
            "Fold 1 Epoch 17/30 [Train]: 100%|██████████| 100/100 [00:26<00:00,  3.77it/s, Loss=3.7346]\n",
            "Fold 1 Epoch 17/30 [Val]: 100%|██████████| 25/25 [00:06<00:00,  3.71it/s, Loss=21.0586]\n"
          ]
        },
        {
          "output_type": "stream",
          "name": "stdout",
          "text": [
            "Fold 1 Epoch 17/30:\n",
            "  Train MAPE: 3.9242%\n",
            "  Val MAPE: 21.8800%\n",
            "  LR: 0.000100\n",
            "--------------------------------------------------\n"
          ]
        },
        {
          "output_type": "stream",
          "name": "stderr",
          "text": [
            "Fold 1 Epoch 18/30 [Train]:   1%|          | 1/100 [00:00<01:05,  1.51it/s, Loss=3.4022]"
          ]
        },
        {
          "output_type": "stream",
          "name": "stdout",
          "text": [
            "*** DEBUG: Batch 0 COMPLETED - Memory cleared ***\n"
          ]
        },
        {
          "output_type": "stream",
          "name": "stderr",
          "text": [
            "Fold 1 Epoch 18/30 [Train]:  11%|█         | 11/100 [00:03<00:23,  3.74it/s, Loss=3.6025]"
          ]
        },
        {
          "output_type": "stream",
          "name": "stdout",
          "text": [
            "*** DEBUG: Batch 10 COMPLETED - Memory cleared ***\n"
          ]
        },
        {
          "output_type": "stream",
          "name": "stderr",
          "text": [
            "Fold 1 Epoch 18/30 [Train]:  21%|██        | 21/100 [00:05<00:20,  3.87it/s, Loss=3.9691]"
          ]
        },
        {
          "output_type": "stream",
          "name": "stdout",
          "text": [
            "*** DEBUG: Batch 20 COMPLETED - Memory cleared ***\n"
          ]
        },
        {
          "output_type": "stream",
          "name": "stderr",
          "text": [
            "Fold 1 Epoch 18/30 [Train]:  31%|███       | 31/100 [00:08<00:17,  3.92it/s, Loss=3.1932]"
          ]
        },
        {
          "output_type": "stream",
          "name": "stdout",
          "text": [
            "*** DEBUG: Batch 30 COMPLETED - Memory cleared ***\n"
          ]
        },
        {
          "output_type": "stream",
          "name": "stderr",
          "text": [
            "Fold 1 Epoch 18/30 [Train]:  41%|████      | 41/100 [00:11<00:15,  3.75it/s, Loss=4.0297]"
          ]
        },
        {
          "output_type": "stream",
          "name": "stdout",
          "text": [
            "*** DEBUG: Batch 40 COMPLETED - Memory cleared ***\n"
          ]
        },
        {
          "output_type": "stream",
          "name": "stderr",
          "text": [
            "Fold 1 Epoch 18/30 [Train]:  51%|█████     | 51/100 [00:13<00:12,  3.94it/s, Loss=3.9607]"
          ]
        },
        {
          "output_type": "stream",
          "name": "stdout",
          "text": [
            "*** DEBUG: Batch 50 COMPLETED - Memory cleared ***\n"
          ]
        },
        {
          "output_type": "stream",
          "name": "stderr",
          "text": [
            "Fold 1 Epoch 18/30 [Train]:  61%|██████    | 61/100 [00:16<00:10,  3.73it/s, Loss=3.6142]"
          ]
        },
        {
          "output_type": "stream",
          "name": "stdout",
          "text": [
            "*** DEBUG: Batch 60 COMPLETED - Memory cleared ***\n"
          ]
        },
        {
          "output_type": "stream",
          "name": "stderr",
          "text": [
            "Fold 1 Epoch 18/30 [Train]:  71%|███████   | 71/100 [00:18<00:07,  3.82it/s, Loss=3.4108]"
          ]
        },
        {
          "output_type": "stream",
          "name": "stdout",
          "text": [
            "*** DEBUG: Batch 70 COMPLETED - Memory cleared ***\n"
          ]
        },
        {
          "output_type": "stream",
          "name": "stderr",
          "text": [
            "Fold 1 Epoch 18/30 [Train]:  81%|████████  | 81/100 [00:21<00:04,  3.83it/s, Loss=3.2909]"
          ]
        },
        {
          "output_type": "stream",
          "name": "stdout",
          "text": [
            "*** DEBUG: Batch 80 COMPLETED - Memory cleared ***\n"
          ]
        },
        {
          "output_type": "stream",
          "name": "stderr",
          "text": [
            "Fold 1 Epoch 18/30 [Train]:  91%|█████████ | 91/100 [00:24<00:02,  3.89it/s, Loss=3.4382]"
          ]
        },
        {
          "output_type": "stream",
          "name": "stdout",
          "text": [
            "*** DEBUG: Batch 90 COMPLETED - Memory cleared ***\n"
          ]
        },
        {
          "output_type": "stream",
          "name": "stderr",
          "text": [
            "Fold 1 Epoch 18/30 [Train]: 100%|██████████| 100/100 [00:26<00:00,  3.83it/s, Loss=3.9618]\n",
            "Fold 1 Epoch 18/30 [Val]: 100%|██████████| 25/25 [00:06<00:00,  3.76it/s, Loss=3.6992]\n"
          ]
        },
        {
          "output_type": "stream",
          "name": "stdout",
          "text": [
            "Fold 1 Epoch 18/30:\n",
            "  Train MAPE: 3.8132%\n",
            "  Val MAPE: 3.8973%\n",
            "  LR: 0.000100\n",
            "--------------------------------------------------\n",
            "Fold 1: New best model saved with Val MAPE = 3.8973%\n"
          ]
        },
        {
          "output_type": "stream",
          "name": "stderr",
          "text": [
            "Fold 1 Epoch 19/30 [Train]:   1%|          | 1/100 [00:01<02:59,  1.81s/it, Loss=3.5632]"
          ]
        },
        {
          "output_type": "stream",
          "name": "stdout",
          "text": [
            "*** DEBUG: Batch 0 COMPLETED - Memory cleared ***\n"
          ]
        },
        {
          "output_type": "stream",
          "name": "stderr",
          "text": [
            "Fold 1 Epoch 19/30 [Train]:  11%|█         | 11/100 [00:04<00:27,  3.23it/s, Loss=3.7629]"
          ]
        },
        {
          "output_type": "stream",
          "name": "stdout",
          "text": [
            "*** DEBUG: Batch 10 COMPLETED - Memory cleared ***\n"
          ]
        },
        {
          "output_type": "stream",
          "name": "stderr",
          "text": [
            "Fold 1 Epoch 19/30 [Train]:  21%|██        | 21/100 [00:07<00:21,  3.64it/s, Loss=3.4887]"
          ]
        },
        {
          "output_type": "stream",
          "name": "stdout",
          "text": [
            "*** DEBUG: Batch 20 COMPLETED - Memory cleared ***\n"
          ]
        },
        {
          "output_type": "stream",
          "name": "stderr",
          "text": [
            "Fold 1 Epoch 19/30 [Train]:  31%|███       | 31/100 [00:09<00:17,  3.88it/s, Loss=3.6249]"
          ]
        },
        {
          "output_type": "stream",
          "name": "stdout",
          "text": [
            "*** DEBUG: Batch 30 COMPLETED - Memory cleared ***\n"
          ]
        },
        {
          "output_type": "stream",
          "name": "stderr",
          "text": [
            "Fold 1 Epoch 19/30 [Train]:  41%|████      | 41/100 [00:19<00:38,  1.55it/s, Loss=3.5334]"
          ]
        },
        {
          "output_type": "stream",
          "name": "stdout",
          "text": [
            "*** DEBUG: Batch 40 COMPLETED - Memory cleared ***\n"
          ]
        },
        {
          "output_type": "stream",
          "name": "stderr",
          "text": [
            "Fold 1 Epoch 19/30 [Train]:  51%|█████     | 51/100 [00:22<00:16,  2.91it/s, Loss=3.3377]"
          ]
        },
        {
          "output_type": "stream",
          "name": "stdout",
          "text": [
            "*** DEBUG: Batch 50 COMPLETED - Memory cleared ***\n"
          ]
        },
        {
          "output_type": "stream",
          "name": "stderr",
          "text": [
            "Fold 1 Epoch 19/30 [Train]:  61%|██████    | 61/100 [00:25<00:10,  3.63it/s, Loss=3.6276]"
          ]
        },
        {
          "output_type": "stream",
          "name": "stdout",
          "text": [
            "*** DEBUG: Batch 60 COMPLETED - Memory cleared ***\n"
          ]
        },
        {
          "output_type": "stream",
          "name": "stderr",
          "text": [
            "Fold 1 Epoch 19/30 [Train]:  71%|███████   | 71/100 [00:27<00:07,  3.69it/s, Loss=4.1634]"
          ]
        },
        {
          "output_type": "stream",
          "name": "stdout",
          "text": [
            "*** DEBUG: Batch 70 COMPLETED - Memory cleared ***\n"
          ]
        },
        {
          "output_type": "stream",
          "name": "stderr",
          "text": [
            "Fold 1 Epoch 19/30 [Train]:  81%|████████  | 81/100 [00:30<00:05,  3.68it/s, Loss=3.6630]"
          ]
        },
        {
          "output_type": "stream",
          "name": "stdout",
          "text": [
            "*** DEBUG: Batch 80 COMPLETED - Memory cleared ***\n"
          ]
        },
        {
          "output_type": "stream",
          "name": "stderr",
          "text": [
            "Fold 1 Epoch 19/30 [Train]:  91%|█████████ | 91/100 [00:33<00:02,  3.81it/s, Loss=4.1482]"
          ]
        },
        {
          "output_type": "stream",
          "name": "stdout",
          "text": [
            "*** DEBUG: Batch 90 COMPLETED - Memory cleared ***\n"
          ]
        },
        {
          "output_type": "stream",
          "name": "stderr",
          "text": [
            "Fold 1 Epoch 19/30 [Train]: 100%|██████████| 100/100 [00:35<00:00,  2.84it/s, Loss=3.5187]\n",
            "Fold 1 Epoch 19/30 [Val]: 100%|██████████| 25/25 [00:06<00:00,  3.72it/s, Loss=35.3432]\n"
          ]
        },
        {
          "output_type": "stream",
          "name": "stdout",
          "text": [
            "Fold 1 Epoch 19/30:\n",
            "  Train MAPE: 3.7488%\n",
            "  Val MAPE: 35.4590%\n",
            "  LR: 0.000100\n",
            "--------------------------------------------------\n"
          ]
        },
        {
          "output_type": "stream",
          "name": "stderr",
          "text": [
            "Fold 1 Epoch 20/30 [Train]:   1%|          | 1/100 [00:00<01:08,  1.44it/s, Loss=3.9481]"
          ]
        },
        {
          "output_type": "stream",
          "name": "stdout",
          "text": [
            "*** DEBUG: Batch 0 COMPLETED - Memory cleared ***\n"
          ]
        },
        {
          "output_type": "stream",
          "name": "stderr",
          "text": [
            "Fold 1 Epoch 20/30 [Train]:  11%|█         | 11/100 [00:03<00:24,  3.69it/s, Loss=3.2934]"
          ]
        },
        {
          "output_type": "stream",
          "name": "stdout",
          "text": [
            "*** DEBUG: Batch 10 COMPLETED - Memory cleared ***\n"
          ]
        },
        {
          "output_type": "stream",
          "name": "stderr",
          "text": [
            "Fold 1 Epoch 20/30 [Train]:  21%|██        | 21/100 [00:05<00:20,  3.83it/s, Loss=4.1411]"
          ]
        },
        {
          "output_type": "stream",
          "name": "stdout",
          "text": [
            "*** DEBUG: Batch 20 COMPLETED - Memory cleared ***\n"
          ]
        },
        {
          "output_type": "stream",
          "name": "stderr",
          "text": [
            "Fold 1 Epoch 20/30 [Train]:  31%|███       | 31/100 [00:08<00:18,  3.78it/s, Loss=3.4539]"
          ]
        },
        {
          "output_type": "stream",
          "name": "stdout",
          "text": [
            "*** DEBUG: Batch 30 COMPLETED - Memory cleared ***\n"
          ]
        },
        {
          "output_type": "stream",
          "name": "stderr",
          "text": [
            "Fold 1 Epoch 20/30 [Train]:  41%|████      | 41/100 [00:11<00:15,  3.77it/s, Loss=3.5650]"
          ]
        },
        {
          "output_type": "stream",
          "name": "stdout",
          "text": [
            "*** DEBUG: Batch 40 COMPLETED - Memory cleared ***\n"
          ]
        },
        {
          "output_type": "stream",
          "name": "stderr",
          "text": [
            "Fold 1 Epoch 20/30 [Train]:  51%|█████     | 51/100 [00:13<00:13,  3.76it/s, Loss=3.5991]"
          ]
        },
        {
          "output_type": "stream",
          "name": "stdout",
          "text": [
            "*** DEBUG: Batch 50 COMPLETED - Memory cleared ***\n"
          ]
        },
        {
          "output_type": "stream",
          "name": "stderr",
          "text": [
            "Fold 1 Epoch 20/30 [Train]:  61%|██████    | 61/100 [00:16<00:10,  3.88it/s, Loss=3.5693]"
          ]
        },
        {
          "output_type": "stream",
          "name": "stdout",
          "text": [
            "*** DEBUG: Batch 60 COMPLETED - Memory cleared ***\n"
          ]
        },
        {
          "output_type": "stream",
          "name": "stderr",
          "text": [
            "Fold 1 Epoch 20/30 [Train]:  71%|███████   | 71/100 [00:19<00:07,  3.76it/s, Loss=3.5412]"
          ]
        },
        {
          "output_type": "stream",
          "name": "stdout",
          "text": [
            "*** DEBUG: Batch 70 COMPLETED - Memory cleared ***\n"
          ]
        },
        {
          "output_type": "stream",
          "name": "stderr",
          "text": [
            "Fold 1 Epoch 20/30 [Train]:  81%|████████  | 81/100 [00:21<00:04,  3.86it/s, Loss=3.6953]"
          ]
        },
        {
          "output_type": "stream",
          "name": "stdout",
          "text": [
            "*** DEBUG: Batch 80 COMPLETED - Memory cleared ***\n"
          ]
        },
        {
          "output_type": "stream",
          "name": "stderr",
          "text": [
            "Fold 1 Epoch 20/30 [Train]:  91%|█████████ | 91/100 [00:24<00:02,  3.84it/s, Loss=3.3335]"
          ]
        },
        {
          "output_type": "stream",
          "name": "stdout",
          "text": [
            "*** DEBUG: Batch 90 COMPLETED - Memory cleared ***\n"
          ]
        },
        {
          "output_type": "stream",
          "name": "stderr",
          "text": [
            "Fold 1 Epoch 20/30 [Train]: 100%|██████████| 100/100 [00:26<00:00,  3.77it/s, Loss=3.2803]\n",
            "Fold 1 Epoch 20/30 [Val]: 100%|██████████| 25/25 [00:06<00:00,  3.68it/s, Loss=19.4078]\n"
          ]
        },
        {
          "output_type": "stream",
          "name": "stdout",
          "text": [
            "Fold 1 Epoch 20/30:\n",
            "  Train MAPE: 3.7846%\n",
            "  Val MAPE: 19.3831%\n",
            "  LR: 0.000100\n",
            "--------------------------------------------------\n"
          ]
        },
        {
          "output_type": "stream",
          "name": "stderr",
          "text": [
            "Fold 1 Epoch 21/30 [Train]:   1%|          | 1/100 [00:00<01:09,  1.43it/s, Loss=4.0358]"
          ]
        },
        {
          "output_type": "stream",
          "name": "stdout",
          "text": [
            "*** DEBUG: Batch 0 COMPLETED - Memory cleared ***\n"
          ]
        },
        {
          "output_type": "stream",
          "name": "stderr",
          "text": [
            "Fold 1 Epoch 21/30 [Train]:  11%|█         | 11/100 [00:03<00:23,  3.77it/s, Loss=4.1012]"
          ]
        },
        {
          "output_type": "stream",
          "name": "stdout",
          "text": [
            "*** DEBUG: Batch 10 COMPLETED - Memory cleared ***\n"
          ]
        },
        {
          "output_type": "stream",
          "name": "stderr",
          "text": [
            "Fold 1 Epoch 21/30 [Train]:  21%|██        | 21/100 [00:05<00:20,  3.79it/s, Loss=4.0304]"
          ]
        },
        {
          "output_type": "stream",
          "name": "stdout",
          "text": [
            "*** DEBUG: Batch 20 COMPLETED - Memory cleared ***\n"
          ]
        },
        {
          "output_type": "stream",
          "name": "stderr",
          "text": [
            "Fold 1 Epoch 21/30 [Train]:  31%|███       | 31/100 [00:08<00:17,  3.89it/s, Loss=3.3320]"
          ]
        },
        {
          "output_type": "stream",
          "name": "stdout",
          "text": [
            "*** DEBUG: Batch 30 COMPLETED - Memory cleared ***\n"
          ]
        },
        {
          "output_type": "stream",
          "name": "stderr",
          "text": [
            "Fold 1 Epoch 21/30 [Train]:  41%|████      | 41/100 [00:10<00:15,  3.92it/s, Loss=4.2635]"
          ]
        },
        {
          "output_type": "stream",
          "name": "stdout",
          "text": [
            "*** DEBUG: Batch 40 COMPLETED - Memory cleared ***\n"
          ]
        },
        {
          "output_type": "stream",
          "name": "stderr",
          "text": [
            "Fold 1 Epoch 21/30 [Train]:  51%|█████     | 51/100 [00:13<00:12,  3.92it/s, Loss=3.4691]"
          ]
        },
        {
          "output_type": "stream",
          "name": "stdout",
          "text": [
            "*** DEBUG: Batch 50 COMPLETED - Memory cleared ***\n"
          ]
        },
        {
          "output_type": "stream",
          "name": "stderr",
          "text": [
            "Fold 1 Epoch 21/30 [Train]:  61%|██████    | 61/100 [00:16<00:10,  3.79it/s, Loss=3.3653]"
          ]
        },
        {
          "output_type": "stream",
          "name": "stdout",
          "text": [
            "*** DEBUG: Batch 60 COMPLETED - Memory cleared ***\n"
          ]
        },
        {
          "output_type": "stream",
          "name": "stderr",
          "text": [
            "Fold 1 Epoch 21/30 [Train]:  71%|███████   | 71/100 [00:18<00:07,  3.78it/s, Loss=3.1897]"
          ]
        },
        {
          "output_type": "stream",
          "name": "stdout",
          "text": [
            "*** DEBUG: Batch 70 COMPLETED - Memory cleared ***\n"
          ]
        },
        {
          "output_type": "stream",
          "name": "stderr",
          "text": [
            "Fold 1 Epoch 21/30 [Train]:  81%|████████  | 81/100 [00:21<00:04,  3.98it/s, Loss=3.6679]"
          ]
        },
        {
          "output_type": "stream",
          "name": "stdout",
          "text": [
            "*** DEBUG: Batch 80 COMPLETED - Memory cleared ***\n"
          ]
        },
        {
          "output_type": "stream",
          "name": "stderr",
          "text": [
            "Fold 1 Epoch 21/30 [Train]:  91%|█████████ | 91/100 [00:23<00:02,  3.90it/s, Loss=3.3719]"
          ]
        },
        {
          "output_type": "stream",
          "name": "stdout",
          "text": [
            "*** DEBUG: Batch 90 COMPLETED - Memory cleared ***\n"
          ]
        },
        {
          "output_type": "stream",
          "name": "stderr",
          "text": [
            "Fold 1 Epoch 21/30 [Train]: 100%|██████████| 100/100 [00:25<00:00,  3.85it/s, Loss=3.7411]\n",
            "Fold 1 Epoch 21/30 [Val]: 100%|██████████| 25/25 [00:06<00:00,  3.64it/s, Loss=16.0830]\n"
          ]
        },
        {
          "output_type": "stream",
          "name": "stdout",
          "text": [
            "Fold 1 Epoch 21/30:\n",
            "  Train MAPE: 3.7812%\n",
            "  Val MAPE: 16.2673%\n",
            "  LR: 0.000100\n",
            "--------------------------------------------------\n"
          ]
        },
        {
          "output_type": "stream",
          "name": "stderr",
          "text": [
            "Fold 1 Epoch 22/30 [Train]:   1%|          | 1/100 [00:00<01:02,  1.57it/s, Loss=3.7547]"
          ]
        },
        {
          "output_type": "stream",
          "name": "stdout",
          "text": [
            "*** DEBUG: Batch 0 COMPLETED - Memory cleared ***\n"
          ]
        },
        {
          "output_type": "stream",
          "name": "stderr",
          "text": [
            "Fold 1 Epoch 22/30 [Train]:  11%|█         | 11/100 [00:03<00:24,  3.63it/s, Loss=4.3251]"
          ]
        },
        {
          "output_type": "stream",
          "name": "stdout",
          "text": [
            "*** DEBUG: Batch 10 COMPLETED - Memory cleared ***\n"
          ]
        },
        {
          "output_type": "stream",
          "name": "stderr",
          "text": [
            "Fold 1 Epoch 22/30 [Train]:  21%|██        | 21/100 [00:05<00:20,  3.93it/s, Loss=4.3056]"
          ]
        },
        {
          "output_type": "stream",
          "name": "stdout",
          "text": [
            "*** DEBUG: Batch 20 COMPLETED - Memory cleared ***\n"
          ]
        },
        {
          "output_type": "stream",
          "name": "stderr",
          "text": [
            "Fold 1 Epoch 22/30 [Train]:  31%|███       | 31/100 [00:08<00:18,  3.82it/s, Loss=4.0648]"
          ]
        },
        {
          "output_type": "stream",
          "name": "stdout",
          "text": [
            "*** DEBUG: Batch 30 COMPLETED - Memory cleared ***\n"
          ]
        },
        {
          "output_type": "stream",
          "name": "stderr",
          "text": [
            "Fold 1 Epoch 22/30 [Train]:  41%|████      | 41/100 [00:11<00:15,  3.86it/s, Loss=4.0401]"
          ]
        },
        {
          "output_type": "stream",
          "name": "stdout",
          "text": [
            "*** DEBUG: Batch 40 COMPLETED - Memory cleared ***\n"
          ]
        },
        {
          "output_type": "stream",
          "name": "stderr",
          "text": [
            "Fold 1 Epoch 22/30 [Train]:  51%|█████     | 51/100 [00:13<00:13,  3.77it/s, Loss=3.9716]"
          ]
        },
        {
          "output_type": "stream",
          "name": "stdout",
          "text": [
            "*** DEBUG: Batch 50 COMPLETED - Memory cleared ***\n"
          ]
        },
        {
          "output_type": "stream",
          "name": "stderr",
          "text": [
            "Fold 1 Epoch 22/30 [Train]:  61%|██████    | 61/100 [00:16<00:10,  3.79it/s, Loss=3.9506]"
          ]
        },
        {
          "output_type": "stream",
          "name": "stdout",
          "text": [
            "*** DEBUG: Batch 60 COMPLETED - Memory cleared ***\n"
          ]
        },
        {
          "output_type": "stream",
          "name": "stderr",
          "text": [
            "Fold 1 Epoch 22/30 [Train]:  71%|███████   | 71/100 [00:18<00:07,  3.84it/s, Loss=3.8943]"
          ]
        },
        {
          "output_type": "stream",
          "name": "stdout",
          "text": [
            "*** DEBUG: Batch 70 COMPLETED - Memory cleared ***\n"
          ]
        },
        {
          "output_type": "stream",
          "name": "stderr",
          "text": [
            "Fold 1 Epoch 22/30 [Train]:  81%|████████  | 81/100 [00:21<00:04,  3.82it/s, Loss=4.1258]"
          ]
        },
        {
          "output_type": "stream",
          "name": "stdout",
          "text": [
            "*** DEBUG: Batch 80 COMPLETED - Memory cleared ***\n"
          ]
        },
        {
          "output_type": "stream",
          "name": "stderr",
          "text": [
            "Fold 1 Epoch 22/30 [Train]:  91%|█████████ | 91/100 [00:24<00:02,  3.85it/s, Loss=3.7670]"
          ]
        },
        {
          "output_type": "stream",
          "name": "stdout",
          "text": [
            "*** DEBUG: Batch 90 COMPLETED - Memory cleared ***\n"
          ]
        },
        {
          "output_type": "stream",
          "name": "stderr",
          "text": [
            "Fold 1 Epoch 22/30 [Train]: 100%|██████████| 100/100 [00:26<00:00,  3.79it/s, Loss=3.1627]\n",
            "Fold 1 Epoch 22/30 [Val]: 100%|██████████| 25/25 [00:06<00:00,  3.60it/s, Loss=8.9659]\n"
          ]
        },
        {
          "output_type": "stream",
          "name": "stdout",
          "text": [
            "Fold 1 Epoch 22/30:\n",
            "  Train MAPE: 3.8343%\n",
            "  Val MAPE: 8.9593%\n",
            "  LR: 0.000100\n",
            "--------------------------------------------------\n"
          ]
        },
        {
          "output_type": "stream",
          "name": "stderr",
          "text": [
            "Fold 1 Epoch 23/30 [Train]:   1%|          | 1/100 [00:00<01:08,  1.45it/s, Loss=3.3018]"
          ]
        },
        {
          "output_type": "stream",
          "name": "stdout",
          "text": [
            "*** DEBUG: Batch 0 COMPLETED - Memory cleared ***\n"
          ]
        },
        {
          "output_type": "stream",
          "name": "stderr",
          "text": [
            "Fold 1 Epoch 23/30 [Train]:  11%|█         | 11/100 [00:03<00:24,  3.70it/s, Loss=3.1500]"
          ]
        },
        {
          "output_type": "stream",
          "name": "stdout",
          "text": [
            "*** DEBUG: Batch 10 COMPLETED - Memory cleared ***\n"
          ]
        },
        {
          "output_type": "stream",
          "name": "stderr",
          "text": [
            "Fold 1 Epoch 23/30 [Train]:  21%|██        | 21/100 [00:05<00:20,  3.80it/s, Loss=4.1586]"
          ]
        },
        {
          "output_type": "stream",
          "name": "stdout",
          "text": [
            "*** DEBUG: Batch 20 COMPLETED - Memory cleared ***\n"
          ]
        },
        {
          "output_type": "stream",
          "name": "stderr",
          "text": [
            "Fold 1 Epoch 23/30 [Train]:  31%|███       | 31/100 [00:08<00:18,  3.76it/s, Loss=3.2074]"
          ]
        },
        {
          "output_type": "stream",
          "name": "stdout",
          "text": [
            "*** DEBUG: Batch 30 COMPLETED - Memory cleared ***\n"
          ]
        },
        {
          "output_type": "stream",
          "name": "stderr",
          "text": [
            "Fold 1 Epoch 23/30 [Train]:  41%|████      | 41/100 [00:11<00:15,  3.72it/s, Loss=3.5510]"
          ]
        },
        {
          "output_type": "stream",
          "name": "stdout",
          "text": [
            "*** DEBUG: Batch 40 COMPLETED - Memory cleared ***\n"
          ]
        },
        {
          "output_type": "stream",
          "name": "stderr",
          "text": [
            "Fold 1 Epoch 23/30 [Train]:  51%|█████     | 51/100 [00:13<00:13,  3.73it/s, Loss=3.3743]"
          ]
        },
        {
          "output_type": "stream",
          "name": "stdout",
          "text": [
            "*** DEBUG: Batch 50 COMPLETED - Memory cleared ***\n"
          ]
        },
        {
          "output_type": "stream",
          "name": "stderr",
          "text": [
            "Fold 1 Epoch 23/30 [Train]:  61%|██████    | 61/100 [00:16<00:09,  3.93it/s, Loss=3.9142]"
          ]
        },
        {
          "output_type": "stream",
          "name": "stdout",
          "text": [
            "*** DEBUG: Batch 60 COMPLETED - Memory cleared ***\n"
          ]
        },
        {
          "output_type": "stream",
          "name": "stderr",
          "text": [
            "Fold 1 Epoch 23/30 [Train]:  71%|███████   | 71/100 [00:18<00:07,  3.92it/s, Loss=3.5097]"
          ]
        },
        {
          "output_type": "stream",
          "name": "stdout",
          "text": [
            "*** DEBUG: Batch 70 COMPLETED - Memory cleared ***\n"
          ]
        },
        {
          "output_type": "stream",
          "name": "stderr",
          "text": [
            "Fold 1 Epoch 23/30 [Train]:  81%|████████  | 81/100 [00:21<00:04,  3.91it/s, Loss=4.4234]"
          ]
        },
        {
          "output_type": "stream",
          "name": "stdout",
          "text": [
            "*** DEBUG: Batch 80 COMPLETED - Memory cleared ***\n"
          ]
        },
        {
          "output_type": "stream",
          "name": "stderr",
          "text": [
            "Fold 1 Epoch 23/30 [Train]:  91%|█████████ | 91/100 [00:24<00:02,  3.71it/s, Loss=3.8718]"
          ]
        },
        {
          "output_type": "stream",
          "name": "stdout",
          "text": [
            "*** DEBUG: Batch 90 COMPLETED - Memory cleared ***\n"
          ]
        },
        {
          "output_type": "stream",
          "name": "stderr",
          "text": [
            "Fold 1 Epoch 23/30 [Train]: 100%|██████████| 100/100 [00:26<00:00,  3.80it/s, Loss=3.3646]\n",
            "Fold 1 Epoch 23/30 [Val]: 100%|██████████| 25/25 [00:06<00:00,  3.81it/s, Loss=13.7341]\n"
          ]
        },
        {
          "output_type": "stream",
          "name": "stdout",
          "text": [
            "Fold 1 Epoch 23/30:\n",
            "  Train MAPE: 3.6726%\n",
            "  Val MAPE: 13.9161%\n",
            "  LR: 0.000100\n",
            "--------------------------------------------------\n"
          ]
        },
        {
          "output_type": "stream",
          "name": "stderr",
          "text": [
            "Fold 1 Epoch 24/30 [Train]:   1%|          | 1/100 [00:00<01:03,  1.57it/s, Loss=3.8627]"
          ]
        },
        {
          "output_type": "stream",
          "name": "stdout",
          "text": [
            "*** DEBUG: Batch 0 COMPLETED - Memory cleared ***\n"
          ]
        },
        {
          "output_type": "stream",
          "name": "stderr",
          "text": [
            "Fold 1 Epoch 24/30 [Train]:  11%|█         | 11/100 [00:03<00:23,  3.72it/s, Loss=3.6425]"
          ]
        },
        {
          "output_type": "stream",
          "name": "stdout",
          "text": [
            "*** DEBUG: Batch 10 COMPLETED - Memory cleared ***\n"
          ]
        },
        {
          "output_type": "stream",
          "name": "stderr",
          "text": [
            "Fold 1 Epoch 24/30 [Train]:  21%|██        | 21/100 [00:05<00:20,  3.84it/s, Loss=3.5867]"
          ]
        },
        {
          "output_type": "stream",
          "name": "stdout",
          "text": [
            "*** DEBUG: Batch 20 COMPLETED - Memory cleared ***\n"
          ]
        },
        {
          "output_type": "stream",
          "name": "stderr",
          "text": [
            "Fold 1 Epoch 24/30 [Train]:  31%|███       | 31/100 [00:08<00:17,  3.89it/s, Loss=3.6125]"
          ]
        },
        {
          "output_type": "stream",
          "name": "stdout",
          "text": [
            "*** DEBUG: Batch 30 COMPLETED - Memory cleared ***\n"
          ]
        },
        {
          "output_type": "stream",
          "name": "stderr",
          "text": [
            "Fold 1 Epoch 24/30 [Train]:  41%|████      | 41/100 [00:11<00:15,  3.79it/s, Loss=3.4796]"
          ]
        },
        {
          "output_type": "stream",
          "name": "stdout",
          "text": [
            "*** DEBUG: Batch 40 COMPLETED - Memory cleared ***\n"
          ]
        },
        {
          "output_type": "stream",
          "name": "stderr",
          "text": [
            "Fold 1 Epoch 24/30 [Train]:  51%|█████     | 51/100 [00:13<00:12,  3.81it/s, Loss=3.3603]"
          ]
        },
        {
          "output_type": "stream",
          "name": "stdout",
          "text": [
            "*** DEBUG: Batch 50 COMPLETED - Memory cleared ***\n"
          ]
        },
        {
          "output_type": "stream",
          "name": "stderr",
          "text": [
            "Fold 1 Epoch 24/30 [Train]:  61%|██████    | 61/100 [00:16<00:10,  3.86it/s, Loss=3.9270]"
          ]
        },
        {
          "output_type": "stream",
          "name": "stdout",
          "text": [
            "*** DEBUG: Batch 60 COMPLETED - Memory cleared ***\n"
          ]
        },
        {
          "output_type": "stream",
          "name": "stderr",
          "text": [
            "Fold 1 Epoch 24/30 [Train]:  71%|███████   | 71/100 [00:18<00:07,  3.83it/s, Loss=3.6568]"
          ]
        },
        {
          "output_type": "stream",
          "name": "stdout",
          "text": [
            "*** DEBUG: Batch 70 COMPLETED - Memory cleared ***\n"
          ]
        },
        {
          "output_type": "stream",
          "name": "stderr",
          "text": [
            "Fold 1 Epoch 24/30 [Train]:  81%|████████  | 81/100 [00:21<00:04,  3.86it/s, Loss=3.5760]"
          ]
        },
        {
          "output_type": "stream",
          "name": "stdout",
          "text": [
            "*** DEBUG: Batch 80 COMPLETED - Memory cleared ***\n"
          ]
        },
        {
          "output_type": "stream",
          "name": "stderr",
          "text": [
            "Fold 1 Epoch 24/30 [Train]:  91%|█████████ | 91/100 [00:24<00:02,  3.86it/s, Loss=4.1471]"
          ]
        },
        {
          "output_type": "stream",
          "name": "stdout",
          "text": [
            "*** DEBUG: Batch 90 COMPLETED - Memory cleared ***\n"
          ]
        },
        {
          "output_type": "stream",
          "name": "stderr",
          "text": [
            "Fold 1 Epoch 24/30 [Train]: 100%|██████████| 100/100 [00:26<00:00,  3.83it/s, Loss=3.8404]\n",
            "Fold 1 Epoch 24/30 [Val]: 100%|██████████| 25/25 [00:06<00:00,  3.76it/s, Loss=3.8889]\n"
          ]
        },
        {
          "output_type": "stream",
          "name": "stdout",
          "text": [
            "Fold 1 Epoch 24/30:\n",
            "  Train MAPE: 3.6964%\n",
            "  Val MAPE: 3.9509%\n",
            "  LR: 0.000050\n",
            "--------------------------------------------------\n"
          ]
        },
        {
          "output_type": "stream",
          "name": "stderr",
          "text": [
            "Fold 1 Epoch 25/30 [Train]:   1%|          | 1/100 [00:00<01:04,  1.54it/s, Loss=4.4246]"
          ]
        },
        {
          "output_type": "stream",
          "name": "stdout",
          "text": [
            "*** DEBUG: Batch 0 COMPLETED - Memory cleared ***\n"
          ]
        },
        {
          "output_type": "stream",
          "name": "stderr",
          "text": [
            "Fold 1 Epoch 25/30 [Train]:  11%|█         | 11/100 [00:03<00:23,  3.80it/s, Loss=3.5007]"
          ]
        },
        {
          "output_type": "stream",
          "name": "stdout",
          "text": [
            "*** DEBUG: Batch 10 COMPLETED - Memory cleared ***\n"
          ]
        },
        {
          "output_type": "stream",
          "name": "stderr",
          "text": [
            "Fold 1 Epoch 25/30 [Train]:  21%|██        | 21/100 [00:05<00:20,  3.85it/s, Loss=3.2130]"
          ]
        },
        {
          "output_type": "stream",
          "name": "stdout",
          "text": [
            "*** DEBUG: Batch 20 COMPLETED - Memory cleared ***\n"
          ]
        },
        {
          "output_type": "stream",
          "name": "stderr",
          "text": [
            "Fold 1 Epoch 25/30 [Train]:  31%|███       | 31/100 [00:08<00:18,  3.68it/s, Loss=3.3921]"
          ]
        },
        {
          "output_type": "stream",
          "name": "stdout",
          "text": [
            "*** DEBUG: Batch 30 COMPLETED - Memory cleared ***\n"
          ]
        },
        {
          "output_type": "stream",
          "name": "stderr",
          "text": [
            "Fold 1 Epoch 25/30 [Train]:  41%|████      | 41/100 [00:11<00:15,  3.92it/s, Loss=3.1462]"
          ]
        },
        {
          "output_type": "stream",
          "name": "stdout",
          "text": [
            "*** DEBUG: Batch 40 COMPLETED - Memory cleared ***\n"
          ]
        },
        {
          "output_type": "stream",
          "name": "stderr",
          "text": [
            "Fold 1 Epoch 25/30 [Train]:  51%|█████     | 51/100 [00:13<00:12,  3.87it/s, Loss=3.4343]"
          ]
        },
        {
          "output_type": "stream",
          "name": "stdout",
          "text": [
            "*** DEBUG: Batch 50 COMPLETED - Memory cleared ***\n"
          ]
        },
        {
          "output_type": "stream",
          "name": "stderr",
          "text": [
            "Fold 1 Epoch 25/30 [Train]:  61%|██████    | 61/100 [00:16<00:10,  3.76it/s, Loss=3.4742]"
          ]
        },
        {
          "output_type": "stream",
          "name": "stdout",
          "text": [
            "*** DEBUG: Batch 60 COMPLETED - Memory cleared ***\n"
          ]
        },
        {
          "output_type": "stream",
          "name": "stderr",
          "text": [
            "Fold 1 Epoch 25/30 [Train]:  71%|███████   | 71/100 [00:18<00:07,  3.83it/s, Loss=3.2228]"
          ]
        },
        {
          "output_type": "stream",
          "name": "stdout",
          "text": [
            "*** DEBUG: Batch 70 COMPLETED - Memory cleared ***\n"
          ]
        },
        {
          "output_type": "stream",
          "name": "stderr",
          "text": [
            "Fold 1 Epoch 25/30 [Train]:  81%|████████  | 81/100 [00:21<00:05,  3.76it/s, Loss=2.7888]"
          ]
        },
        {
          "output_type": "stream",
          "name": "stdout",
          "text": [
            "*** DEBUG: Batch 80 COMPLETED - Memory cleared ***\n"
          ]
        },
        {
          "output_type": "stream",
          "name": "stderr",
          "text": [
            "Fold 1 Epoch 25/30 [Train]:  91%|█████████ | 91/100 [00:24<00:02,  3.85it/s, Loss=3.0804]"
          ]
        },
        {
          "output_type": "stream",
          "name": "stdout",
          "text": [
            "*** DEBUG: Batch 90 COMPLETED - Memory cleared ***\n"
          ]
        },
        {
          "output_type": "stream",
          "name": "stderr",
          "text": [
            "Fold 1 Epoch 25/30 [Train]: 100%|██████████| 100/100 [00:26<00:00,  3.81it/s, Loss=3.4206]\n",
            "Fold 1 Epoch 25/30 [Val]: 100%|██████████| 25/25 [00:06<00:00,  3.72it/s, Loss=4.3138]\n"
          ]
        },
        {
          "output_type": "stream",
          "name": "stdout",
          "text": [
            "Fold 1 Epoch 25/30:\n",
            "  Train MAPE: 3.4636%\n",
            "  Val MAPE: 4.4851%\n",
            "  LR: 0.000050\n",
            "--------------------------------------------------\n"
          ]
        },
        {
          "output_type": "stream",
          "name": "stderr",
          "text": [
            "Fold 1 Epoch 26/30 [Train]:   1%|          | 1/100 [00:00<01:03,  1.57it/s, Loss=3.4993]"
          ]
        },
        {
          "output_type": "stream",
          "name": "stdout",
          "text": [
            "*** DEBUG: Batch 0 COMPLETED - Memory cleared ***\n"
          ]
        },
        {
          "output_type": "stream",
          "name": "stderr",
          "text": [
            "Fold 1 Epoch 26/30 [Train]:  11%|█         | 11/100 [00:03<00:23,  3.74it/s, Loss=3.5387]"
          ]
        },
        {
          "output_type": "stream",
          "name": "stdout",
          "text": [
            "*** DEBUG: Batch 10 COMPLETED - Memory cleared ***\n"
          ]
        },
        {
          "output_type": "stream",
          "name": "stderr",
          "text": [
            "Fold 1 Epoch 26/30 [Train]:  21%|██        | 21/100 [00:05<00:20,  3.81it/s, Loss=3.5882]"
          ]
        },
        {
          "output_type": "stream",
          "name": "stdout",
          "text": [
            "*** DEBUG: Batch 20 COMPLETED - Memory cleared ***\n"
          ]
        },
        {
          "output_type": "stream",
          "name": "stderr",
          "text": [
            "Fold 1 Epoch 26/30 [Train]:  31%|███       | 31/100 [00:08<00:17,  3.94it/s, Loss=3.3427]"
          ]
        },
        {
          "output_type": "stream",
          "name": "stdout",
          "text": [
            "*** DEBUG: Batch 30 COMPLETED - Memory cleared ***\n"
          ]
        },
        {
          "output_type": "stream",
          "name": "stderr",
          "text": [
            "Fold 1 Epoch 26/30 [Train]:  41%|████      | 41/100 [00:11<00:15,  3.79it/s, Loss=3.2529]"
          ]
        },
        {
          "output_type": "stream",
          "name": "stdout",
          "text": [
            "*** DEBUG: Batch 40 COMPLETED - Memory cleared ***\n"
          ]
        },
        {
          "output_type": "stream",
          "name": "stderr",
          "text": [
            "Fold 1 Epoch 26/30 [Train]:  51%|█████     | 51/100 [00:13<00:12,  3.77it/s, Loss=4.0159]"
          ]
        },
        {
          "output_type": "stream",
          "name": "stdout",
          "text": [
            "*** DEBUG: Batch 50 COMPLETED - Memory cleared ***\n"
          ]
        },
        {
          "output_type": "stream",
          "name": "stderr",
          "text": [
            "Fold 1 Epoch 26/30 [Train]:  61%|██████    | 61/100 [00:16<00:10,  3.86it/s, Loss=3.4883]"
          ]
        },
        {
          "output_type": "stream",
          "name": "stdout",
          "text": [
            "*** DEBUG: Batch 60 COMPLETED - Memory cleared ***\n"
          ]
        },
        {
          "output_type": "stream",
          "name": "stderr",
          "text": [
            "Fold 1 Epoch 26/30 [Train]:  71%|███████   | 71/100 [00:18<00:07,  3.84it/s, Loss=3.3871]"
          ]
        },
        {
          "output_type": "stream",
          "name": "stdout",
          "text": [
            "*** DEBUG: Batch 70 COMPLETED - Memory cleared ***\n"
          ]
        },
        {
          "output_type": "stream",
          "name": "stderr",
          "text": [
            "Fold 1 Epoch 26/30 [Train]:  81%|████████  | 81/100 [00:21<00:05,  3.78it/s, Loss=3.3082]"
          ]
        },
        {
          "output_type": "stream",
          "name": "stdout",
          "text": [
            "*** DEBUG: Batch 80 COMPLETED - Memory cleared ***\n"
          ]
        },
        {
          "output_type": "stream",
          "name": "stderr",
          "text": [
            "Fold 1 Epoch 26/30 [Train]:  91%|█████████ | 91/100 [00:24<00:02,  3.76it/s, Loss=3.6283]"
          ]
        },
        {
          "output_type": "stream",
          "name": "stdout",
          "text": [
            "*** DEBUG: Batch 90 COMPLETED - Memory cleared ***\n"
          ]
        },
        {
          "output_type": "stream",
          "name": "stderr",
          "text": [
            "Fold 1 Epoch 26/30 [Train]: 100%|██████████| 100/100 [00:26<00:00,  3.80it/s, Loss=3.0910]\n",
            "Fold 1 Epoch 26/30 [Val]: 100%|██████████| 25/25 [00:06<00:00,  3.75it/s, Loss=10.0654]\n"
          ]
        },
        {
          "output_type": "stream",
          "name": "stdout",
          "text": [
            "Fold 1 Epoch 26/30:\n",
            "  Train MAPE: 3.4485%\n",
            "  Val MAPE: 10.9532%\n",
            "  LR: 0.000050\n",
            "--------------------------------------------------\n"
          ]
        },
        {
          "output_type": "stream",
          "name": "stderr",
          "text": [
            "Fold 1 Epoch 27/30 [Train]:   1%|          | 1/100 [00:00<01:05,  1.50it/s, Loss=3.6948]"
          ]
        },
        {
          "output_type": "stream",
          "name": "stdout",
          "text": [
            "*** DEBUG: Batch 0 COMPLETED - Memory cleared ***\n"
          ]
        },
        {
          "output_type": "stream",
          "name": "stderr",
          "text": [
            "Fold 1 Epoch 27/30 [Train]:  11%|█         | 11/100 [00:03<00:24,  3.62it/s, Loss=3.5204]"
          ]
        },
        {
          "output_type": "stream",
          "name": "stdout",
          "text": [
            "*** DEBUG: Batch 10 COMPLETED - Memory cleared ***\n"
          ]
        },
        {
          "output_type": "stream",
          "name": "stderr",
          "text": [
            "Fold 1 Epoch 27/30 [Train]:  21%|██        | 21/100 [00:05<00:21,  3.76it/s, Loss=4.0541]"
          ]
        },
        {
          "output_type": "stream",
          "name": "stdout",
          "text": [
            "*** DEBUG: Batch 20 COMPLETED - Memory cleared ***\n"
          ]
        },
        {
          "output_type": "stream",
          "name": "stderr",
          "text": [
            "Fold 1 Epoch 27/30 [Train]:  31%|███       | 31/100 [00:08<00:18,  3.77it/s, Loss=3.2718]"
          ]
        },
        {
          "output_type": "stream",
          "name": "stdout",
          "text": [
            "*** DEBUG: Batch 30 COMPLETED - Memory cleared ***\n"
          ]
        },
        {
          "output_type": "stream",
          "name": "stderr",
          "text": [
            "Fold 1 Epoch 27/30 [Train]:  41%|████      | 41/100 [00:11<00:15,  3.86it/s, Loss=3.8532]"
          ]
        },
        {
          "output_type": "stream",
          "name": "stdout",
          "text": [
            "*** DEBUG: Batch 40 COMPLETED - Memory cleared ***\n"
          ]
        },
        {
          "output_type": "stream",
          "name": "stderr",
          "text": [
            "Fold 1 Epoch 27/30 [Train]:  51%|█████     | 51/100 [00:13<00:12,  3.86it/s, Loss=3.5011]"
          ]
        },
        {
          "output_type": "stream",
          "name": "stdout",
          "text": [
            "*** DEBUG: Batch 50 COMPLETED - Memory cleared ***\n"
          ]
        },
        {
          "output_type": "stream",
          "name": "stderr",
          "text": [
            "Fold 1 Epoch 27/30 [Train]:  61%|██████    | 61/100 [00:16<00:10,  3.60it/s, Loss=3.4093]"
          ]
        },
        {
          "output_type": "stream",
          "name": "stdout",
          "text": [
            "*** DEBUG: Batch 60 COMPLETED - Memory cleared ***\n"
          ]
        },
        {
          "output_type": "stream",
          "name": "stderr",
          "text": [
            "Fold 1 Epoch 27/30 [Train]:  71%|███████   | 71/100 [00:19<00:07,  3.71it/s, Loss=3.3734]"
          ]
        },
        {
          "output_type": "stream",
          "name": "stdout",
          "text": [
            "*** DEBUG: Batch 70 COMPLETED - Memory cleared ***\n"
          ]
        },
        {
          "output_type": "stream",
          "name": "stderr",
          "text": [
            "Fold 1 Epoch 27/30 [Train]:  81%|████████  | 81/100 [00:21<00:05,  3.70it/s, Loss=3.3590]"
          ]
        },
        {
          "output_type": "stream",
          "name": "stdout",
          "text": [
            "*** DEBUG: Batch 80 COMPLETED - Memory cleared ***\n"
          ]
        },
        {
          "output_type": "stream",
          "name": "stderr",
          "text": [
            "Fold 1 Epoch 27/30 [Train]:  91%|█████████ | 91/100 [00:24<00:02,  3.84it/s, Loss=3.5711]"
          ]
        },
        {
          "output_type": "stream",
          "name": "stdout",
          "text": [
            "*** DEBUG: Batch 90 COMPLETED - Memory cleared ***\n"
          ]
        },
        {
          "output_type": "stream",
          "name": "stderr",
          "text": [
            "Fold 1 Epoch 27/30 [Train]: 100%|██████████| 100/100 [00:26<00:00,  3.75it/s, Loss=3.3577]\n",
            "Fold 1 Epoch 27/30 [Val]: 100%|██████████| 25/25 [00:06<00:00,  3.73it/s, Loss=6.2103]\n"
          ]
        },
        {
          "output_type": "stream",
          "name": "stdout",
          "text": [
            "Fold 1 Epoch 27/30:\n",
            "  Train MAPE: 3.3872%\n",
            "  Val MAPE: 6.1500%\n",
            "  LR: 0.000050\n",
            "--------------------------------------------------\n"
          ]
        },
        {
          "output_type": "stream",
          "name": "stderr",
          "text": [
            "Fold 1 Epoch 28/30 [Train]:   1%|          | 1/100 [00:00<01:07,  1.46it/s, Loss=3.0373]"
          ]
        },
        {
          "output_type": "stream",
          "name": "stdout",
          "text": [
            "*** DEBUG: Batch 0 COMPLETED - Memory cleared ***\n"
          ]
        },
        {
          "output_type": "stream",
          "name": "stderr",
          "text": [
            "Fold 1 Epoch 28/30 [Train]:  11%|█         | 11/100 [00:03<00:23,  3.76it/s, Loss=3.3092]"
          ]
        },
        {
          "output_type": "stream",
          "name": "stdout",
          "text": [
            "*** DEBUG: Batch 10 COMPLETED - Memory cleared ***\n"
          ]
        },
        {
          "output_type": "stream",
          "name": "stderr",
          "text": [
            "Fold 1 Epoch 28/30 [Train]:  21%|██        | 21/100 [00:05<00:21,  3.74it/s, Loss=3.2515]"
          ]
        },
        {
          "output_type": "stream",
          "name": "stdout",
          "text": [
            "*** DEBUG: Batch 20 COMPLETED - Memory cleared ***\n"
          ]
        },
        {
          "output_type": "stream",
          "name": "stderr",
          "text": [
            "Fold 1 Epoch 28/30 [Train]:  31%|███       | 31/100 [00:08<00:17,  3.84it/s, Loss=3.2243]"
          ]
        },
        {
          "output_type": "stream",
          "name": "stdout",
          "text": [
            "*** DEBUG: Batch 30 COMPLETED - Memory cleared ***\n"
          ]
        },
        {
          "output_type": "stream",
          "name": "stderr",
          "text": [
            "Fold 1 Epoch 28/30 [Train]:  41%|████      | 41/100 [00:11<00:15,  3.73it/s, Loss=3.7560]"
          ]
        },
        {
          "output_type": "stream",
          "name": "stdout",
          "text": [
            "*** DEBUG: Batch 40 COMPLETED - Memory cleared ***\n"
          ]
        },
        {
          "output_type": "stream",
          "name": "stderr",
          "text": [
            "Fold 1 Epoch 28/30 [Train]:  51%|█████     | 51/100 [00:13<00:12,  3.78it/s, Loss=3.3383]"
          ]
        },
        {
          "output_type": "stream",
          "name": "stdout",
          "text": [
            "*** DEBUG: Batch 50 COMPLETED - Memory cleared ***\n"
          ]
        },
        {
          "output_type": "stream",
          "name": "stderr",
          "text": [
            "Fold 1 Epoch 28/30 [Train]:  61%|██████    | 61/100 [00:16<00:10,  3.78it/s, Loss=3.1084]"
          ]
        },
        {
          "output_type": "stream",
          "name": "stdout",
          "text": [
            "*** DEBUG: Batch 60 COMPLETED - Memory cleared ***\n"
          ]
        },
        {
          "output_type": "stream",
          "name": "stderr",
          "text": [
            "Fold 1 Epoch 28/30 [Train]:  71%|███████   | 71/100 [00:19<00:08,  3.62it/s, Loss=3.6060]"
          ]
        },
        {
          "output_type": "stream",
          "name": "stdout",
          "text": [
            "*** DEBUG: Batch 70 COMPLETED - Memory cleared ***\n"
          ]
        },
        {
          "output_type": "stream",
          "name": "stderr",
          "text": [
            "Fold 1 Epoch 28/30 [Train]:  81%|████████  | 81/100 [00:21<00:04,  3.87it/s, Loss=3.3315]"
          ]
        },
        {
          "output_type": "stream",
          "name": "stdout",
          "text": [
            "*** DEBUG: Batch 80 COMPLETED - Memory cleared ***\n"
          ]
        },
        {
          "output_type": "stream",
          "name": "stderr",
          "text": [
            "Fold 1 Epoch 28/30 [Train]:  91%|█████████ | 91/100 [00:24<00:02,  3.74it/s, Loss=3.6340]"
          ]
        },
        {
          "output_type": "stream",
          "name": "stdout",
          "text": [
            "*** DEBUG: Batch 90 COMPLETED - Memory cleared ***\n"
          ]
        },
        {
          "output_type": "stream",
          "name": "stderr",
          "text": [
            "Fold 1 Epoch 28/30 [Train]: 100%|██████████| 100/100 [00:26<00:00,  3.76it/s, Loss=3.2214]\n",
            "Fold 1 Epoch 28/30 [Val]: 100%|██████████| 25/25 [00:06<00:00,  3.71it/s, Loss=4.1532]\n"
          ]
        },
        {
          "output_type": "stream",
          "name": "stdout",
          "text": [
            "Fold 1 Epoch 28/30:\n",
            "  Train MAPE: 3.3508%\n",
            "  Val MAPE: 4.2688%\n",
            "  LR: 0.000050\n",
            "--------------------------------------------------\n"
          ]
        },
        {
          "output_type": "stream",
          "name": "stderr",
          "text": [
            "Fold 1 Epoch 29/30 [Train]:   1%|          | 1/100 [00:00<01:01,  1.62it/s, Loss=3.4398]"
          ]
        },
        {
          "output_type": "stream",
          "name": "stdout",
          "text": [
            "*** DEBUG: Batch 0 COMPLETED - Memory cleared ***\n"
          ]
        },
        {
          "output_type": "stream",
          "name": "stderr",
          "text": [
            "Fold 1 Epoch 29/30 [Train]:  11%|█         | 11/100 [00:03<00:23,  3.85it/s, Loss=3.4476]"
          ]
        },
        {
          "output_type": "stream",
          "name": "stdout",
          "text": [
            "*** DEBUG: Batch 10 COMPLETED - Memory cleared ***\n"
          ]
        },
        {
          "output_type": "stream",
          "name": "stderr",
          "text": [
            "Fold 1 Epoch 29/30 [Train]:  21%|██        | 21/100 [00:05<00:21,  3.76it/s, Loss=3.1856]"
          ]
        },
        {
          "output_type": "stream",
          "name": "stdout",
          "text": [
            "*** DEBUG: Batch 20 COMPLETED - Memory cleared ***\n"
          ]
        },
        {
          "output_type": "stream",
          "name": "stderr",
          "text": [
            "Fold 1 Epoch 29/30 [Train]:  31%|███       | 31/100 [00:08<00:17,  3.89it/s, Loss=3.1934]"
          ]
        },
        {
          "output_type": "stream",
          "name": "stdout",
          "text": [
            "*** DEBUG: Batch 30 COMPLETED - Memory cleared ***\n"
          ]
        },
        {
          "output_type": "stream",
          "name": "stderr",
          "text": [
            "Fold 1 Epoch 29/30 [Train]:  41%|████      | 41/100 [00:11<00:15,  3.71it/s, Loss=3.1773]"
          ]
        },
        {
          "output_type": "stream",
          "name": "stdout",
          "text": [
            "*** DEBUG: Batch 40 COMPLETED - Memory cleared ***\n"
          ]
        },
        {
          "output_type": "stream",
          "name": "stderr",
          "text": [
            "Fold 1 Epoch 29/30 [Train]:  51%|█████     | 51/100 [00:13<00:12,  3.77it/s, Loss=3.4406]"
          ]
        },
        {
          "output_type": "stream",
          "name": "stdout",
          "text": [
            "*** DEBUG: Batch 50 COMPLETED - Memory cleared ***\n"
          ]
        },
        {
          "output_type": "stream",
          "name": "stderr",
          "text": [
            "Fold 1 Epoch 29/30 [Train]:  61%|██████    | 61/100 [00:16<00:10,  3.79it/s, Loss=3.2771]"
          ]
        },
        {
          "output_type": "stream",
          "name": "stdout",
          "text": [
            "*** DEBUG: Batch 60 COMPLETED - Memory cleared ***\n"
          ]
        },
        {
          "output_type": "stream",
          "name": "stderr",
          "text": [
            "Fold 1 Epoch 29/30 [Train]:  71%|███████   | 71/100 [00:18<00:07,  3.91it/s, Loss=3.2750]"
          ]
        },
        {
          "output_type": "stream",
          "name": "stdout",
          "text": [
            "*** DEBUG: Batch 70 COMPLETED - Memory cleared ***\n"
          ]
        },
        {
          "output_type": "stream",
          "name": "stderr",
          "text": [
            "Fold 1 Epoch 29/30 [Train]:  81%|████████  | 81/100 [00:21<00:05,  3.66it/s, Loss=3.2262]"
          ]
        },
        {
          "output_type": "stream",
          "name": "stdout",
          "text": [
            "*** DEBUG: Batch 80 COMPLETED - Memory cleared ***\n"
          ]
        },
        {
          "output_type": "stream",
          "name": "stderr",
          "text": [
            "Fold 1 Epoch 29/30 [Train]:  91%|█████████ | 91/100 [00:24<00:02,  3.78it/s, Loss=3.6397]"
          ]
        },
        {
          "output_type": "stream",
          "name": "stdout",
          "text": [
            "*** DEBUG: Batch 90 COMPLETED - Memory cleared ***\n"
          ]
        },
        {
          "output_type": "stream",
          "name": "stderr",
          "text": [
            "Fold 1 Epoch 29/30 [Train]: 100%|██████████| 100/100 [00:26<00:00,  3.78it/s, Loss=3.7546]\n",
            "Fold 1 Epoch 29/30 [Val]: 100%|██████████| 25/25 [00:06<00:00,  3.63it/s, Loss=6.3947]\n"
          ]
        },
        {
          "output_type": "stream",
          "name": "stdout",
          "text": [
            "Fold 1 Epoch 29/30:\n",
            "  Train MAPE: 3.3859%\n",
            "  Val MAPE: 6.9988%\n",
            "  LR: 0.000050\n",
            "--------------------------------------------------\n"
          ]
        },
        {
          "output_type": "stream",
          "name": "stderr",
          "text": [
            "Fold 1 Epoch 30/30 [Train]:   1%|          | 1/100 [00:00<01:06,  1.49it/s, Loss=3.0915]"
          ]
        },
        {
          "output_type": "stream",
          "name": "stdout",
          "text": [
            "*** DEBUG: Batch 0 COMPLETED - Memory cleared ***\n"
          ]
        },
        {
          "output_type": "stream",
          "name": "stderr",
          "text": [
            "Fold 1 Epoch 30/30 [Train]:  11%|█         | 11/100 [00:03<00:24,  3.66it/s, Loss=3.5055]"
          ]
        },
        {
          "output_type": "stream",
          "name": "stdout",
          "text": [
            "*** DEBUG: Batch 10 COMPLETED - Memory cleared ***\n"
          ]
        },
        {
          "output_type": "stream",
          "name": "stderr",
          "text": [
            "Fold 1 Epoch 30/30 [Train]:  21%|██        | 21/100 [00:05<00:20,  3.82it/s, Loss=3.2253]"
          ]
        },
        {
          "output_type": "stream",
          "name": "stdout",
          "text": [
            "*** DEBUG: Batch 20 COMPLETED - Memory cleared ***\n"
          ]
        },
        {
          "output_type": "stream",
          "name": "stderr",
          "text": [
            "Fold 1 Epoch 30/30 [Train]:  31%|███       | 31/100 [00:08<00:17,  3.88it/s, Loss=3.8223]"
          ]
        },
        {
          "output_type": "stream",
          "name": "stdout",
          "text": [
            "*** DEBUG: Batch 30 COMPLETED - Memory cleared ***\n"
          ]
        },
        {
          "output_type": "stream",
          "name": "stderr",
          "text": [
            "Fold 1 Epoch 30/30 [Train]:  41%|████      | 41/100 [00:11<00:15,  3.86it/s, Loss=3.5860]"
          ]
        },
        {
          "output_type": "stream",
          "name": "stdout",
          "text": [
            "*** DEBUG: Batch 40 COMPLETED - Memory cleared ***\n"
          ]
        },
        {
          "output_type": "stream",
          "name": "stderr",
          "text": [
            "Fold 1 Epoch 30/30 [Train]:  51%|█████     | 51/100 [00:13<00:13,  3.71it/s, Loss=3.7018]"
          ]
        },
        {
          "output_type": "stream",
          "name": "stdout",
          "text": [
            "*** DEBUG: Batch 50 COMPLETED - Memory cleared ***\n"
          ]
        },
        {
          "output_type": "stream",
          "name": "stderr",
          "text": [
            "Fold 1 Epoch 30/30 [Train]:  61%|██████    | 61/100 [00:16<00:10,  3.72it/s, Loss=3.4394]"
          ]
        },
        {
          "output_type": "stream",
          "name": "stdout",
          "text": [
            "*** DEBUG: Batch 60 COMPLETED - Memory cleared ***\n"
          ]
        },
        {
          "output_type": "stream",
          "name": "stderr",
          "text": [
            "Fold 1 Epoch 30/30 [Train]:  71%|███████   | 71/100 [00:18<00:07,  3.92it/s, Loss=2.9741]"
          ]
        },
        {
          "output_type": "stream",
          "name": "stdout",
          "text": [
            "*** DEBUG: Batch 70 COMPLETED - Memory cleared ***\n"
          ]
        },
        {
          "output_type": "stream",
          "name": "stderr",
          "text": [
            "Fold 1 Epoch 30/30 [Train]:  81%|████████  | 81/100 [00:21<00:04,  3.94it/s, Loss=3.0710]"
          ]
        },
        {
          "output_type": "stream",
          "name": "stdout",
          "text": [
            "*** DEBUG: Batch 80 COMPLETED - Memory cleared ***\n"
          ]
        },
        {
          "output_type": "stream",
          "name": "stderr",
          "text": [
            "Fold 1 Epoch 30/30 [Train]:  91%|█████████ | 91/100 [00:24<00:02,  3.97it/s, Loss=3.1983]"
          ]
        },
        {
          "output_type": "stream",
          "name": "stdout",
          "text": [
            "*** DEBUG: Batch 90 COMPLETED - Memory cleared ***\n"
          ]
        },
        {
          "output_type": "stream",
          "name": "stderr",
          "text": [
            "Fold 1 Epoch 30/30 [Train]: 100%|██████████| 100/100 [00:26<00:00,  3.81it/s, Loss=3.6951]\n",
            "Fold 1 Epoch 30/30 [Val]: 100%|██████████| 25/25 [00:06<00:00,  3.81it/s, Loss=3.4537]\n"
          ]
        },
        {
          "output_type": "stream",
          "name": "stdout",
          "text": [
            "Fold 1 Epoch 30/30:\n",
            "  Train MAPE: 3.3651%\n",
            "  Val MAPE: 3.5438%\n",
            "  LR: 0.000050\n",
            "--------------------------------------------------\n",
            "Fold 1: New best model saved with Val MAPE = 3.5438%\n",
            "Fold 1 completed with Val MAPE: 3.5438%\n",
            "\n",
            "=== Training Fold 2 ===\n"
          ]
        },
        {
          "output_type": "stream",
          "name": "stderr",
          "text": [
            "Fold 2 Epoch 1/30 [Train]:   1%|          | 1/100 [00:01<02:29,  1.51s/it, Loss=103.1286]"
          ]
        },
        {
          "output_type": "stream",
          "name": "stdout",
          "text": [
            "*** DEBUG: Batch 0 COMPLETED - Memory cleared ***\n"
          ]
        },
        {
          "output_type": "stream",
          "name": "stderr",
          "text": [
            "Fold 2 Epoch 1/30 [Train]:  11%|█         | 11/100 [00:04<00:27,  3.19it/s, Loss=87.7599]"
          ]
        },
        {
          "output_type": "stream",
          "name": "stdout",
          "text": [
            "*** DEBUG: Batch 10 COMPLETED - Memory cleared ***\n"
          ]
        },
        {
          "output_type": "stream",
          "name": "stderr",
          "text": [
            "Fold 2 Epoch 1/30 [Train]:  21%|██        | 21/100 [00:06<00:20,  3.78it/s, Loss=79.4936]"
          ]
        },
        {
          "output_type": "stream",
          "name": "stdout",
          "text": [
            "*** DEBUG: Batch 20 COMPLETED - Memory cleared ***\n"
          ]
        },
        {
          "output_type": "stream",
          "name": "stderr",
          "text": [
            "Fold 2 Epoch 1/30 [Train]:  31%|███       | 31/100 [00:09<00:17,  3.90it/s, Loss=72.4533]"
          ]
        },
        {
          "output_type": "stream",
          "name": "stdout",
          "text": [
            "*** DEBUG: Batch 30 COMPLETED - Memory cleared ***\n"
          ]
        },
        {
          "output_type": "stream",
          "name": "stderr",
          "text": [
            "Fold 2 Epoch 1/30 [Train]:  41%|████      | 41/100 [00:19<00:37,  1.58it/s, Loss=68.5025]"
          ]
        },
        {
          "output_type": "stream",
          "name": "stdout",
          "text": [
            "*** DEBUG: Batch 40 COMPLETED - Memory cleared ***\n"
          ]
        },
        {
          "output_type": "stream",
          "name": "stderr",
          "text": [
            "Fold 2 Epoch 1/30 [Train]:  51%|█████     | 51/100 [00:21<00:16,  3.03it/s, Loss=66.5776]"
          ]
        },
        {
          "output_type": "stream",
          "name": "stdout",
          "text": [
            "*** DEBUG: Batch 50 COMPLETED - Memory cleared ***\n"
          ]
        },
        {
          "output_type": "stream",
          "name": "stderr",
          "text": [
            "Fold 2 Epoch 1/30 [Train]:  61%|██████    | 61/100 [00:24<00:10,  3.58it/s, Loss=64.9098]"
          ]
        },
        {
          "output_type": "stream",
          "name": "stdout",
          "text": [
            "*** DEBUG: Batch 60 COMPLETED - Memory cleared ***\n"
          ]
        },
        {
          "output_type": "stream",
          "name": "stderr",
          "text": [
            "Fold 2 Epoch 1/30 [Train]:  71%|███████   | 71/100 [00:27<00:08,  3.62it/s, Loss=62.5302]"
          ]
        },
        {
          "output_type": "stream",
          "name": "stdout",
          "text": [
            "*** DEBUG: Batch 70 COMPLETED - Memory cleared ***\n"
          ]
        },
        {
          "output_type": "stream",
          "name": "stderr",
          "text": [
            "Fold 2 Epoch 1/30 [Train]:  81%|████████  | 81/100 [00:30<00:05,  3.67it/s, Loss=60.4243]"
          ]
        },
        {
          "output_type": "stream",
          "name": "stdout",
          "text": [
            "*** DEBUG: Batch 80 COMPLETED - Memory cleared ***\n"
          ]
        },
        {
          "output_type": "stream",
          "name": "stderr",
          "text": [
            "Fold 2 Epoch 1/30 [Train]:  91%|█████████ | 91/100 [00:32<00:02,  3.85it/s, Loss=59.0824]"
          ]
        },
        {
          "output_type": "stream",
          "name": "stdout",
          "text": [
            "*** DEBUG: Batch 90 COMPLETED - Memory cleared ***\n"
          ]
        },
        {
          "output_type": "stream",
          "name": "stderr",
          "text": [
            "Fold 2 Epoch 1/30 [Train]: 100%|██████████| 100/100 [00:34<00:00,  2.88it/s, Loss=59.2769]\n",
            "Fold 2 Epoch 1/30 [Val]: 100%|██████████| 25/25 [00:06<00:00,  3.72it/s, Loss=44.9845]\n"
          ]
        },
        {
          "output_type": "stream",
          "name": "stdout",
          "text": [
            "Fold 2 Epoch 1/30:\n",
            "  Train MAPE: 70.7301%\n",
            "  Val MAPE: 42.8896%\n",
            "  LR: 0.000100\n",
            "--------------------------------------------------\n",
            "Fold 2: New best model saved with Val MAPE = 42.8896%\n"
          ]
        },
        {
          "output_type": "stream",
          "name": "stderr",
          "text": [
            "Fold 2 Epoch 2/30 [Train]:   1%|          | 1/100 [00:01<02:59,  1.81s/it, Loss=58.5129]"
          ]
        },
        {
          "output_type": "stream",
          "name": "stdout",
          "text": [
            "*** DEBUG: Batch 0 COMPLETED - Memory cleared ***\n"
          ]
        },
        {
          "output_type": "stream",
          "name": "stderr",
          "text": [
            "Fold 2 Epoch 2/30 [Train]:  11%|█         | 11/100 [00:04<00:26,  3.34it/s, Loss=56.0514]"
          ]
        },
        {
          "output_type": "stream",
          "name": "stdout",
          "text": [
            "*** DEBUG: Batch 10 COMPLETED - Memory cleared ***\n"
          ]
        },
        {
          "output_type": "stream",
          "name": "stderr",
          "text": [
            "Fold 2 Epoch 2/30 [Train]:  21%|██        | 21/100 [00:07<00:20,  3.77it/s, Loss=54.9100]"
          ]
        },
        {
          "output_type": "stream",
          "name": "stdout",
          "text": [
            "*** DEBUG: Batch 20 COMPLETED - Memory cleared ***\n"
          ]
        },
        {
          "output_type": "stream",
          "name": "stderr",
          "text": [
            "Fold 2 Epoch 2/30 [Train]:  31%|███       | 31/100 [00:09<00:18,  3.70it/s, Loss=55.3329]"
          ]
        },
        {
          "output_type": "stream",
          "name": "stdout",
          "text": [
            "*** DEBUG: Batch 30 COMPLETED - Memory cleared ***\n"
          ]
        },
        {
          "output_type": "stream",
          "name": "stderr",
          "text": [
            "Fold 2 Epoch 2/30 [Train]:  41%|████      | 41/100 [00:19<00:37,  1.57it/s, Loss=55.5161]"
          ]
        },
        {
          "output_type": "stream",
          "name": "stdout",
          "text": [
            "*** DEBUG: Batch 40 COMPLETED - Memory cleared ***\n"
          ]
        },
        {
          "output_type": "stream",
          "name": "stderr",
          "text": [
            "Fold 2 Epoch 2/30 [Train]:  51%|█████     | 51/100 [00:22<00:16,  3.01it/s, Loss=53.5326]"
          ]
        },
        {
          "output_type": "stream",
          "name": "stdout",
          "text": [
            "*** DEBUG: Batch 50 COMPLETED - Memory cleared ***\n"
          ]
        },
        {
          "output_type": "stream",
          "name": "stderr",
          "text": [
            "Fold 2 Epoch 2/30 [Train]:  61%|██████    | 61/100 [00:24<00:10,  3.62it/s, Loss=52.5808]"
          ]
        },
        {
          "output_type": "stream",
          "name": "stdout",
          "text": [
            "*** DEBUG: Batch 60 COMPLETED - Memory cleared ***\n"
          ]
        },
        {
          "output_type": "stream",
          "name": "stderr",
          "text": [
            "Fold 2 Epoch 2/30 [Train]:  71%|███████   | 71/100 [00:27<00:07,  3.78it/s, Loss=51.1851]"
          ]
        },
        {
          "output_type": "stream",
          "name": "stdout",
          "text": [
            "*** DEBUG: Batch 70 COMPLETED - Memory cleared ***\n"
          ]
        },
        {
          "output_type": "stream",
          "name": "stderr",
          "text": [
            "Fold 2 Epoch 2/30 [Train]:  81%|████████  | 81/100 [00:30<00:04,  3.90it/s, Loss=50.6215]"
          ]
        },
        {
          "output_type": "stream",
          "name": "stdout",
          "text": [
            "*** DEBUG: Batch 80 COMPLETED - Memory cleared ***\n"
          ]
        },
        {
          "output_type": "stream",
          "name": "stderr",
          "text": [
            "Fold 2 Epoch 2/30 [Train]:  91%|█████████ | 91/100 [00:32<00:02,  3.81it/s, Loss=49.9892]"
          ]
        },
        {
          "output_type": "stream",
          "name": "stdout",
          "text": [
            "*** DEBUG: Batch 90 COMPLETED - Memory cleared ***\n"
          ]
        },
        {
          "output_type": "stream",
          "name": "stderr",
          "text": [
            "Fold 2 Epoch 2/30 [Train]: 100%|██████████| 100/100 [00:34<00:00,  2.86it/s, Loss=49.5099]\n",
            "Fold 2 Epoch 2/30 [Val]: 100%|██████████| 25/25 [00:06<00:00,  3.80it/s, Loss=50.6053]\n"
          ]
        },
        {
          "output_type": "stream",
          "name": "stdout",
          "text": [
            "Fold 2 Epoch 2/30:\n",
            "  Train MAPE: 53.6314%\n",
            "  Val MAPE: 50.0591%\n",
            "  LR: 0.000100\n",
            "--------------------------------------------------\n"
          ]
        },
        {
          "output_type": "stream",
          "name": "stderr",
          "text": [
            "Fold 2 Epoch 3/30 [Train]:   1%|          | 1/100 [00:00<01:03,  1.55it/s, Loss=49.5937]"
          ]
        },
        {
          "output_type": "stream",
          "name": "stdout",
          "text": [
            "*** DEBUG: Batch 0 COMPLETED - Memory cleared ***\n"
          ]
        },
        {
          "output_type": "stream",
          "name": "stderr",
          "text": [
            "Fold 2 Epoch 3/30 [Train]:  11%|█         | 11/100 [00:03<00:24,  3.59it/s, Loss=48.5271]"
          ]
        },
        {
          "output_type": "stream",
          "name": "stdout",
          "text": [
            "*** DEBUG: Batch 10 COMPLETED - Memory cleared ***\n"
          ]
        },
        {
          "output_type": "stream",
          "name": "stderr",
          "text": [
            "Fold 2 Epoch 3/30 [Train]:  21%|██        | 21/100 [00:06<00:22,  3.59it/s, Loss=46.2155]"
          ]
        },
        {
          "output_type": "stream",
          "name": "stdout",
          "text": [
            "*** DEBUG: Batch 20 COMPLETED - Memory cleared ***\n"
          ]
        },
        {
          "output_type": "stream",
          "name": "stderr",
          "text": [
            "Fold 2 Epoch 3/30 [Train]:  31%|███       | 31/100 [00:08<00:17,  3.91it/s, Loss=47.4964]"
          ]
        },
        {
          "output_type": "stream",
          "name": "stdout",
          "text": [
            "*** DEBUG: Batch 30 COMPLETED - Memory cleared ***\n"
          ]
        },
        {
          "output_type": "stream",
          "name": "stderr",
          "text": [
            "Fold 2 Epoch 3/30 [Train]:  41%|████      | 41/100 [00:11<00:15,  3.91it/s, Loss=47.1400]"
          ]
        },
        {
          "output_type": "stream",
          "name": "stdout",
          "text": [
            "*** DEBUG: Batch 40 COMPLETED - Memory cleared ***\n"
          ]
        },
        {
          "output_type": "stream",
          "name": "stderr",
          "text": [
            "Fold 2 Epoch 3/30 [Train]:  51%|█████     | 51/100 [00:13<00:12,  3.88it/s, Loss=46.4028]"
          ]
        },
        {
          "output_type": "stream",
          "name": "stdout",
          "text": [
            "*** DEBUG: Batch 50 COMPLETED - Memory cleared ***\n"
          ]
        },
        {
          "output_type": "stream",
          "name": "stderr",
          "text": [
            "Fold 2 Epoch 3/30 [Train]:  61%|██████    | 61/100 [00:16<00:10,  3.72it/s, Loss=45.2649]"
          ]
        },
        {
          "output_type": "stream",
          "name": "stdout",
          "text": [
            "*** DEBUG: Batch 60 COMPLETED - Memory cleared ***\n"
          ]
        },
        {
          "output_type": "stream",
          "name": "stderr",
          "text": [
            "Fold 2 Epoch 3/30 [Train]:  71%|███████   | 71/100 [00:18<00:07,  3.86it/s, Loss=43.7549]"
          ]
        },
        {
          "output_type": "stream",
          "name": "stdout",
          "text": [
            "*** DEBUG: Batch 70 COMPLETED - Memory cleared ***\n"
          ]
        },
        {
          "output_type": "stream",
          "name": "stderr",
          "text": [
            "Fold 2 Epoch 3/30 [Train]:  81%|████████  | 81/100 [00:21<00:04,  3.81it/s, Loss=43.9581]"
          ]
        },
        {
          "output_type": "stream",
          "name": "stdout",
          "text": [
            "*** DEBUG: Batch 80 COMPLETED - Memory cleared ***\n"
          ]
        },
        {
          "output_type": "stream",
          "name": "stderr",
          "text": [
            "Fold 2 Epoch 3/30 [Train]:  91%|█████████ | 91/100 [00:24<00:02,  3.89it/s, Loss=42.2492]"
          ]
        },
        {
          "output_type": "stream",
          "name": "stdout",
          "text": [
            "*** DEBUG: Batch 90 COMPLETED - Memory cleared ***\n"
          ]
        },
        {
          "output_type": "stream",
          "name": "stderr",
          "text": [
            "Fold 2 Epoch 3/30 [Train]: 100%|██████████| 100/100 [00:26<00:00,  3.80it/s, Loss=42.2684]\n",
            "Fold 2 Epoch 3/30 [Val]: 100%|██████████| 25/25 [00:06<00:00,  3.81it/s, Loss=38.6691]\n"
          ]
        },
        {
          "output_type": "stream",
          "name": "stdout",
          "text": [
            "Fold 2 Epoch 3/30:\n",
            "  Train MAPE: 45.9624%\n",
            "  Val MAPE: 36.7417%\n",
            "  LR: 0.000100\n",
            "--------------------------------------------------\n",
            "Fold 2: New best model saved with Val MAPE = 36.7417%\n"
          ]
        },
        {
          "output_type": "stream",
          "name": "stderr",
          "text": [
            "Fold 2 Epoch 4/30 [Train]:   1%|          | 1/100 [00:01<02:56,  1.78s/it, Loss=43.0653]"
          ]
        },
        {
          "output_type": "stream",
          "name": "stdout",
          "text": [
            "*** DEBUG: Batch 0 COMPLETED - Memory cleared ***\n"
          ]
        },
        {
          "output_type": "stream",
          "name": "stderr",
          "text": [
            "Fold 2 Epoch 4/30 [Train]:  11%|█         | 11/100 [00:04<00:27,  3.22it/s, Loss=43.1124]"
          ]
        },
        {
          "output_type": "stream",
          "name": "stdout",
          "text": [
            "*** DEBUG: Batch 10 COMPLETED - Memory cleared ***\n"
          ]
        },
        {
          "output_type": "stream",
          "name": "stderr",
          "text": [
            "Fold 2 Epoch 4/30 [Train]:  21%|██        | 21/100 [00:07<00:21,  3.64it/s, Loss=40.6228]"
          ]
        },
        {
          "output_type": "stream",
          "name": "stdout",
          "text": [
            "*** DEBUG: Batch 20 COMPLETED - Memory cleared ***\n"
          ]
        },
        {
          "output_type": "stream",
          "name": "stderr",
          "text": [
            "Fold 2 Epoch 4/30 [Train]:  31%|███       | 31/100 [00:09<00:18,  3.75it/s, Loss=40.4283]"
          ]
        },
        {
          "output_type": "stream",
          "name": "stdout",
          "text": [
            "*** DEBUG: Batch 30 COMPLETED - Memory cleared ***\n"
          ]
        },
        {
          "output_type": "stream",
          "name": "stderr",
          "text": [
            "Fold 2 Epoch 4/30 [Train]:  41%|████      | 41/100 [00:19<00:37,  1.57it/s, Loss=39.0849]"
          ]
        },
        {
          "output_type": "stream",
          "name": "stdout",
          "text": [
            "*** DEBUG: Batch 40 COMPLETED - Memory cleared ***\n"
          ]
        },
        {
          "output_type": "stream",
          "name": "stderr",
          "text": [
            "Fold 2 Epoch 4/30 [Train]:  51%|█████     | 51/100 [00:22<00:16,  2.99it/s, Loss=39.1514]"
          ]
        },
        {
          "output_type": "stream",
          "name": "stdout",
          "text": [
            "*** DEBUG: Batch 50 COMPLETED - Memory cleared ***\n"
          ]
        },
        {
          "output_type": "stream",
          "name": "stderr",
          "text": [
            "Fold 2 Epoch 4/30 [Train]:  61%|██████    | 61/100 [00:25<00:11,  3.52it/s, Loss=38.8603]"
          ]
        },
        {
          "output_type": "stream",
          "name": "stdout",
          "text": [
            "*** DEBUG: Batch 60 COMPLETED - Memory cleared ***\n"
          ]
        },
        {
          "output_type": "stream",
          "name": "stderr",
          "text": [
            "Fold 2 Epoch 4/30 [Train]:  71%|███████   | 71/100 [00:28<00:08,  3.48it/s, Loss=38.5767]"
          ]
        },
        {
          "output_type": "stream",
          "name": "stdout",
          "text": [
            "*** DEBUG: Batch 70 COMPLETED - Memory cleared ***\n"
          ]
        },
        {
          "output_type": "stream",
          "name": "stderr",
          "text": [
            "Fold 2 Epoch 4/30 [Train]:  81%|████████  | 81/100 [00:30<00:05,  3.70it/s, Loss=38.3425]"
          ]
        },
        {
          "output_type": "stream",
          "name": "stdout",
          "text": [
            "*** DEBUG: Batch 80 COMPLETED - Memory cleared ***\n"
          ]
        },
        {
          "output_type": "stream",
          "name": "stderr",
          "text": [
            "Fold 2 Epoch 4/30 [Train]:  91%|█████████ | 91/100 [00:33<00:02,  3.58it/s, Loss=36.8709]"
          ]
        },
        {
          "output_type": "stream",
          "name": "stdout",
          "text": [
            "*** DEBUG: Batch 90 COMPLETED - Memory cleared ***\n"
          ]
        },
        {
          "output_type": "stream",
          "name": "stderr",
          "text": [
            "Fold 2 Epoch 4/30 [Train]: 100%|██████████| 100/100 [00:35<00:00,  2.82it/s, Loss=35.9160]\n",
            "Fold 2 Epoch 4/30 [Val]: 100%|██████████| 25/25 [00:06<00:00,  3.72it/s, Loss=36.7502]\n"
          ]
        },
        {
          "output_type": "stream",
          "name": "stdout",
          "text": [
            "Fold 2 Epoch 4/30:\n",
            "  Train MAPE: 39.6268%\n",
            "  Val MAPE: 34.9887%\n",
            "  LR: 0.000100\n",
            "--------------------------------------------------\n",
            "Fold 2: New best model saved with Val MAPE = 34.9887%\n"
          ]
        },
        {
          "output_type": "stream",
          "name": "stderr",
          "text": [
            "Fold 2 Epoch 5/30 [Train]:   1%|          | 1/100 [00:01<02:52,  1.75s/it, Loss=38.2537]"
          ]
        },
        {
          "output_type": "stream",
          "name": "stdout",
          "text": [
            "*** DEBUG: Batch 0 COMPLETED - Memory cleared ***\n"
          ]
        },
        {
          "output_type": "stream",
          "name": "stderr",
          "text": [
            "Fold 2 Epoch 5/30 [Train]:  11%|█         | 11/100 [00:04<00:26,  3.31it/s, Loss=37.5764]"
          ]
        },
        {
          "output_type": "stream",
          "name": "stdout",
          "text": [
            "*** DEBUG: Batch 10 COMPLETED - Memory cleared ***\n"
          ]
        },
        {
          "output_type": "stream",
          "name": "stderr",
          "text": [
            "Fold 2 Epoch 5/30 [Train]:  21%|██        | 21/100 [00:06<00:20,  3.85it/s, Loss=37.5541]"
          ]
        },
        {
          "output_type": "stream",
          "name": "stdout",
          "text": [
            "*** DEBUG: Batch 20 COMPLETED - Memory cleared ***\n"
          ]
        },
        {
          "output_type": "stream",
          "name": "stderr",
          "text": [
            "Fold 2 Epoch 5/30 [Train]:  31%|███       | 31/100 [00:09<00:17,  3.88it/s, Loss=33.9600]"
          ]
        },
        {
          "output_type": "stream",
          "name": "stdout",
          "text": [
            "*** DEBUG: Batch 30 COMPLETED - Memory cleared ***\n"
          ]
        },
        {
          "output_type": "stream",
          "name": "stderr",
          "text": [
            "Fold 2 Epoch 5/30 [Train]:  41%|████      | 41/100 [00:19<00:47,  1.25it/s, Loss=34.8754]"
          ]
        },
        {
          "output_type": "stream",
          "name": "stdout",
          "text": [
            "*** DEBUG: Batch 40 COMPLETED - Memory cleared ***\n"
          ]
        },
        {
          "output_type": "stream",
          "name": "stderr",
          "text": [
            "Fold 2 Epoch 5/30 [Train]:  51%|█████     | 51/100 [00:22<00:17,  2.82it/s, Loss=33.5655]"
          ]
        },
        {
          "output_type": "stream",
          "name": "stdout",
          "text": [
            "*** DEBUG: Batch 50 COMPLETED - Memory cleared ***\n"
          ]
        },
        {
          "output_type": "stream",
          "name": "stderr",
          "text": [
            "Fold 2 Epoch 5/30 [Train]:  61%|██████    | 61/100 [00:24<00:10,  3.57it/s, Loss=33.6841]"
          ]
        },
        {
          "output_type": "stream",
          "name": "stdout",
          "text": [
            "*** DEBUG: Batch 60 COMPLETED - Memory cleared ***\n"
          ]
        },
        {
          "output_type": "stream",
          "name": "stderr",
          "text": [
            "Fold 2 Epoch 5/30 [Train]:  71%|███████   | 71/100 [00:27<00:07,  3.67it/s, Loss=32.5150]"
          ]
        },
        {
          "output_type": "stream",
          "name": "stdout",
          "text": [
            "*** DEBUG: Batch 70 COMPLETED - Memory cleared ***\n"
          ]
        },
        {
          "output_type": "stream",
          "name": "stderr",
          "text": [
            "Fold 2 Epoch 5/30 [Train]:  81%|████████  | 81/100 [00:30<00:05,  3.73it/s, Loss=30.8237]"
          ]
        },
        {
          "output_type": "stream",
          "name": "stdout",
          "text": [
            "*** DEBUG: Batch 80 COMPLETED - Memory cleared ***\n"
          ]
        },
        {
          "output_type": "stream",
          "name": "stderr",
          "text": [
            "Fold 2 Epoch 5/30 [Train]:  91%|█████████ | 91/100 [00:32<00:02,  3.89it/s, Loss=31.0322]"
          ]
        },
        {
          "output_type": "stream",
          "name": "stdout",
          "text": [
            "*** DEBUG: Batch 90 COMPLETED - Memory cleared ***\n"
          ]
        },
        {
          "output_type": "stream",
          "name": "stderr",
          "text": [
            "Fold 2 Epoch 5/30 [Train]: 100%|██████████| 100/100 [00:34<00:00,  2.87it/s, Loss=31.2247]\n",
            "Fold 2 Epoch 5/30 [Val]: 100%|██████████| 25/25 [00:06<00:00,  3.69it/s, Loss=38.3483]\n"
          ]
        },
        {
          "output_type": "stream",
          "name": "stdout",
          "text": [
            "Fold 2 Epoch 5/30:\n",
            "  Train MAPE: 33.7564%\n",
            "  Val MAPE: 37.5290%\n",
            "  LR: 0.000100\n",
            "--------------------------------------------------\n"
          ]
        },
        {
          "output_type": "stream",
          "name": "stderr",
          "text": [
            "Fold 2 Epoch 6/30 [Train]:   1%|          | 1/100 [00:00<01:04,  1.54it/s, Loss=30.6605]"
          ]
        },
        {
          "output_type": "stream",
          "name": "stdout",
          "text": [
            "*** DEBUG: Batch 0 COMPLETED - Memory cleared ***\n"
          ]
        },
        {
          "output_type": "stream",
          "name": "stderr",
          "text": [
            "Fold 2 Epoch 6/30 [Train]:  11%|█         | 11/100 [00:03<00:24,  3.69it/s, Loss=30.3082]"
          ]
        },
        {
          "output_type": "stream",
          "name": "stdout",
          "text": [
            "*** DEBUG: Batch 10 COMPLETED - Memory cleared ***\n"
          ]
        },
        {
          "output_type": "stream",
          "name": "stderr",
          "text": [
            "Fold 2 Epoch 6/30 [Train]:  21%|██        | 21/100 [00:05<00:19,  4.01it/s, Loss=30.4417]"
          ]
        },
        {
          "output_type": "stream",
          "name": "stdout",
          "text": [
            "*** DEBUG: Batch 20 COMPLETED - Memory cleared ***\n"
          ]
        },
        {
          "output_type": "stream",
          "name": "stderr",
          "text": [
            "Fold 2 Epoch 6/30 [Train]:  31%|███       | 31/100 [00:08<00:18,  3.78it/s, Loss=29.1643]"
          ]
        },
        {
          "output_type": "stream",
          "name": "stdout",
          "text": [
            "*** DEBUG: Batch 30 COMPLETED - Memory cleared ***\n"
          ]
        },
        {
          "output_type": "stream",
          "name": "stderr",
          "text": [
            "Fold 2 Epoch 6/30 [Train]:  41%|████      | 41/100 [00:11<00:15,  3.78it/s, Loss=28.4489]"
          ]
        },
        {
          "output_type": "stream",
          "name": "stdout",
          "text": [
            "*** DEBUG: Batch 40 COMPLETED - Memory cleared ***\n"
          ]
        },
        {
          "output_type": "stream",
          "name": "stderr",
          "text": [
            "Fold 2 Epoch 6/30 [Train]:  51%|█████     | 51/100 [00:13<00:12,  3.92it/s, Loss=27.9565]"
          ]
        },
        {
          "output_type": "stream",
          "name": "stdout",
          "text": [
            "*** DEBUG: Batch 50 COMPLETED - Memory cleared ***\n"
          ]
        },
        {
          "output_type": "stream",
          "name": "stderr",
          "text": [
            "Fold 2 Epoch 6/30 [Train]:  61%|██████    | 61/100 [00:16<00:09,  3.98it/s, Loss=27.0045]"
          ]
        },
        {
          "output_type": "stream",
          "name": "stdout",
          "text": [
            "*** DEBUG: Batch 60 COMPLETED - Memory cleared ***\n"
          ]
        },
        {
          "output_type": "stream",
          "name": "stderr",
          "text": [
            "Fold 2 Epoch 6/30 [Train]:  71%|███████   | 71/100 [00:18<00:07,  3.89it/s, Loss=27.4307]"
          ]
        },
        {
          "output_type": "stream",
          "name": "stdout",
          "text": [
            "*** DEBUG: Batch 70 COMPLETED - Memory cleared ***\n"
          ]
        },
        {
          "output_type": "stream",
          "name": "stderr",
          "text": [
            "Fold 2 Epoch 6/30 [Train]:  81%|████████  | 81/100 [00:21<00:05,  3.76it/s, Loss=28.0440]"
          ]
        },
        {
          "output_type": "stream",
          "name": "stdout",
          "text": [
            "*** DEBUG: Batch 80 COMPLETED - Memory cleared ***\n"
          ]
        },
        {
          "output_type": "stream",
          "name": "stderr",
          "text": [
            "Fold 2 Epoch 6/30 [Train]:  91%|█████████ | 91/100 [00:24<00:02,  3.71it/s, Loss=26.5612]"
          ]
        },
        {
          "output_type": "stream",
          "name": "stdout",
          "text": [
            "*** DEBUG: Batch 90 COMPLETED - Memory cleared ***\n"
          ]
        },
        {
          "output_type": "stream",
          "name": "stderr",
          "text": [
            "Fold 2 Epoch 6/30 [Train]: 100%|██████████| 100/100 [00:26<00:00,  3.82it/s, Loss=26.0043]\n",
            "Fold 2 Epoch 6/30 [Val]: 100%|██████████| 25/25 [00:06<00:00,  3.77it/s, Loss=36.2563]\n"
          ]
        },
        {
          "output_type": "stream",
          "name": "stdout",
          "text": [
            "Fold 2 Epoch 6/30:\n",
            "  Train MAPE: 28.2529%\n",
            "  Val MAPE: 34.3042%\n",
            "  LR: 0.000100\n",
            "--------------------------------------------------\n",
            "Fold 2: New best model saved with Val MAPE = 34.3042%\n"
          ]
        },
        {
          "output_type": "stream",
          "name": "stderr",
          "text": [
            "Fold 2 Epoch 7/30 [Train]:   1%|          | 1/100 [00:01<02:52,  1.75s/it, Loss=25.1536]"
          ]
        },
        {
          "output_type": "stream",
          "name": "stdout",
          "text": [
            "*** DEBUG: Batch 0 COMPLETED - Memory cleared ***\n"
          ]
        },
        {
          "output_type": "stream",
          "name": "stderr",
          "text": [
            "Fold 2 Epoch 7/30 [Train]:  11%|█         | 11/100 [00:04<00:26,  3.30it/s, Loss=24.9344]"
          ]
        },
        {
          "output_type": "stream",
          "name": "stdout",
          "text": [
            "*** DEBUG: Batch 10 COMPLETED - Memory cleared ***\n"
          ]
        },
        {
          "output_type": "stream",
          "name": "stderr",
          "text": [
            "Fold 2 Epoch 7/30 [Train]:  21%|██        | 21/100 [00:07<00:21,  3.66it/s, Loss=23.9801]"
          ]
        },
        {
          "output_type": "stream",
          "name": "stdout",
          "text": [
            "*** DEBUG: Batch 20 COMPLETED - Memory cleared ***\n"
          ]
        },
        {
          "output_type": "stream",
          "name": "stderr",
          "text": [
            "Fold 2 Epoch 7/30 [Train]:  31%|███       | 31/100 [00:09<00:17,  3.83it/s, Loss=23.8662]"
          ]
        },
        {
          "output_type": "stream",
          "name": "stdout",
          "text": [
            "*** DEBUG: Batch 30 COMPLETED - Memory cleared ***\n"
          ]
        },
        {
          "output_type": "stream",
          "name": "stderr",
          "text": [
            "Fold 2 Epoch 7/30 [Train]:  41%|████      | 41/100 [00:19<00:37,  1.58it/s, Loss=22.5560]"
          ]
        },
        {
          "output_type": "stream",
          "name": "stdout",
          "text": [
            "*** DEBUG: Batch 40 COMPLETED - Memory cleared ***\n"
          ]
        },
        {
          "output_type": "stream",
          "name": "stderr",
          "text": [
            "Fold 2 Epoch 7/30 [Train]:  51%|█████     | 51/100 [00:22<00:16,  3.03it/s, Loss=22.6518]"
          ]
        },
        {
          "output_type": "stream",
          "name": "stdout",
          "text": [
            "*** DEBUG: Batch 50 COMPLETED - Memory cleared ***\n"
          ]
        },
        {
          "output_type": "stream",
          "name": "stderr",
          "text": [
            "Fold 2 Epoch 7/30 [Train]:  61%|██████    | 61/100 [00:25<00:11,  3.49it/s, Loss=23.0308]"
          ]
        },
        {
          "output_type": "stream",
          "name": "stdout",
          "text": [
            "*** DEBUG: Batch 60 COMPLETED - Memory cleared ***\n"
          ]
        },
        {
          "output_type": "stream",
          "name": "stderr",
          "text": [
            "Fold 2 Epoch 7/30 [Train]:  71%|███████   | 71/100 [00:27<00:07,  3.82it/s, Loss=22.4055]"
          ]
        },
        {
          "output_type": "stream",
          "name": "stdout",
          "text": [
            "*** DEBUG: Batch 70 COMPLETED - Memory cleared ***\n"
          ]
        },
        {
          "output_type": "stream",
          "name": "stderr",
          "text": [
            "Fold 2 Epoch 7/30 [Train]:  81%|████████  | 81/100 [00:30<00:04,  3.83it/s, Loss=19.4297]"
          ]
        },
        {
          "output_type": "stream",
          "name": "stdout",
          "text": [
            "*** DEBUG: Batch 80 COMPLETED - Memory cleared ***\n"
          ]
        },
        {
          "output_type": "stream",
          "name": "stderr",
          "text": [
            "Fold 2 Epoch 7/30 [Train]:  91%|█████████ | 91/100 [00:32<00:02,  3.94it/s, Loss=21.1072]"
          ]
        },
        {
          "output_type": "stream",
          "name": "stdout",
          "text": [
            "*** DEBUG: Batch 90 COMPLETED - Memory cleared ***\n"
          ]
        },
        {
          "output_type": "stream",
          "name": "stderr",
          "text": [
            "Fold 2 Epoch 7/30 [Train]: 100%|██████████| 100/100 [00:34<00:00,  2.87it/s, Loss=19.5500]\n",
            "Fold 2 Epoch 7/30 [Val]: 100%|██████████| 25/25 [00:06<00:00,  3.66it/s, Loss=24.7561]\n"
          ]
        },
        {
          "output_type": "stream",
          "name": "stdout",
          "text": [
            "Fold 2 Epoch 7/30:\n",
            "  Train MAPE: 22.9495%\n",
            "  Val MAPE: 26.5470%\n",
            "  LR: 0.000100\n",
            "--------------------------------------------------\n",
            "Fold 2: New best model saved with Val MAPE = 26.5470%\n"
          ]
        },
        {
          "output_type": "stream",
          "name": "stderr",
          "text": [
            "Fold 2 Epoch 8/30 [Train]:   1%|          | 1/100 [00:01<02:56,  1.79s/it, Loss=19.9833]"
          ]
        },
        {
          "output_type": "stream",
          "name": "stdout",
          "text": [
            "*** DEBUG: Batch 0 COMPLETED - Memory cleared ***\n"
          ]
        },
        {
          "output_type": "stream",
          "name": "stderr",
          "text": [
            "Fold 2 Epoch 8/30 [Train]:  11%|█         | 11/100 [00:04<00:27,  3.27it/s, Loss=19.4509]"
          ]
        },
        {
          "output_type": "stream",
          "name": "stdout",
          "text": [
            "*** DEBUG: Batch 10 COMPLETED - Memory cleared ***\n"
          ]
        },
        {
          "output_type": "stream",
          "name": "stderr",
          "text": [
            "Fold 2 Epoch 8/30 [Train]:  21%|██        | 21/100 [00:07<00:22,  3.57it/s, Loss=21.0173]"
          ]
        },
        {
          "output_type": "stream",
          "name": "stdout",
          "text": [
            "*** DEBUG: Batch 20 COMPLETED - Memory cleared ***\n"
          ]
        },
        {
          "output_type": "stream",
          "name": "stderr",
          "text": [
            "Fold 2 Epoch 8/30 [Train]:  31%|███       | 31/100 [00:09<00:17,  3.91it/s, Loss=18.0729]"
          ]
        },
        {
          "output_type": "stream",
          "name": "stdout",
          "text": [
            "*** DEBUG: Batch 30 COMPLETED - Memory cleared ***\n"
          ]
        },
        {
          "output_type": "stream",
          "name": "stderr",
          "text": [
            "Fold 2 Epoch 8/30 [Train]:  41%|████      | 41/100 [00:19<00:37,  1.56it/s, Loss=19.1454]"
          ]
        },
        {
          "output_type": "stream",
          "name": "stdout",
          "text": [
            "*** DEBUG: Batch 40 COMPLETED - Memory cleared ***\n"
          ]
        },
        {
          "output_type": "stream",
          "name": "stderr",
          "text": [
            "Fold 2 Epoch 8/30 [Train]:  51%|█████     | 51/100 [00:22<00:16,  3.03it/s, Loss=17.1052]"
          ]
        },
        {
          "output_type": "stream",
          "name": "stdout",
          "text": [
            "*** DEBUG: Batch 50 COMPLETED - Memory cleared ***\n"
          ]
        },
        {
          "output_type": "stream",
          "name": "stderr",
          "text": [
            "Fold 2 Epoch 8/30 [Train]:  61%|██████    | 61/100 [00:24<00:10,  3.69it/s, Loss=18.6221]"
          ]
        },
        {
          "output_type": "stream",
          "name": "stdout",
          "text": [
            "*** DEBUG: Batch 60 COMPLETED - Memory cleared ***\n"
          ]
        },
        {
          "output_type": "stream",
          "name": "stderr",
          "text": [
            "Fold 2 Epoch 8/30 [Train]:  71%|███████   | 71/100 [00:27<00:07,  3.81it/s, Loss=17.1839]"
          ]
        },
        {
          "output_type": "stream",
          "name": "stdout",
          "text": [
            "*** DEBUG: Batch 70 COMPLETED - Memory cleared ***\n"
          ]
        },
        {
          "output_type": "stream",
          "name": "stderr",
          "text": [
            "Fold 2 Epoch 8/30 [Train]:  81%|████████  | 81/100 [00:30<00:05,  3.75it/s, Loss=14.8632]"
          ]
        },
        {
          "output_type": "stream",
          "name": "stdout",
          "text": [
            "*** DEBUG: Batch 80 COMPLETED - Memory cleared ***\n"
          ]
        },
        {
          "output_type": "stream",
          "name": "stderr",
          "text": [
            "Fold 2 Epoch 8/30 [Train]:  91%|█████████ | 91/100 [00:32<00:02,  3.67it/s, Loss=15.8916]"
          ]
        },
        {
          "output_type": "stream",
          "name": "stdout",
          "text": [
            "*** DEBUG: Batch 90 COMPLETED - Memory cleared ***\n"
          ]
        },
        {
          "output_type": "stream",
          "name": "stderr",
          "text": [
            "Fold 2 Epoch 8/30 [Train]: 100%|██████████| 100/100 [00:34<00:00,  2.86it/s, Loss=15.3817]\n",
            "Fold 2 Epoch 8/30 [Val]: 100%|██████████| 25/25 [00:06<00:00,  3.75it/s, Loss=19.6711]\n"
          ]
        },
        {
          "output_type": "stream",
          "name": "stdout",
          "text": [
            "Fold 2 Epoch 8/30:\n",
            "  Train MAPE: 17.8898%\n",
            "  Val MAPE: 19.8509%\n",
            "  LR: 0.000100\n",
            "--------------------------------------------------\n",
            "Fold 2: New best model saved with Val MAPE = 19.8509%\n"
          ]
        },
        {
          "output_type": "stream",
          "name": "stderr",
          "text": [
            "Fold 2 Epoch 9/30 [Train]:   1%|          | 1/100 [00:01<02:52,  1.74s/it, Loss=14.1438]"
          ]
        },
        {
          "output_type": "stream",
          "name": "stdout",
          "text": [
            "*** DEBUG: Batch 0 COMPLETED - Memory cleared ***\n"
          ]
        },
        {
          "output_type": "stream",
          "name": "stderr",
          "text": [
            "Fold 2 Epoch 9/30 [Train]:  11%|█         | 11/100 [00:04<00:26,  3.37it/s, Loss=13.6622]"
          ]
        },
        {
          "output_type": "stream",
          "name": "stdout",
          "text": [
            "*** DEBUG: Batch 10 COMPLETED - Memory cleared ***\n"
          ]
        },
        {
          "output_type": "stream",
          "name": "stderr",
          "text": [
            "Fold 2 Epoch 9/30 [Train]:  21%|██        | 21/100 [00:06<00:21,  3.71it/s, Loss=13.7358]"
          ]
        },
        {
          "output_type": "stream",
          "name": "stdout",
          "text": [
            "*** DEBUG: Batch 20 COMPLETED - Memory cleared ***\n"
          ]
        },
        {
          "output_type": "stream",
          "name": "stderr",
          "text": [
            "Fold 2 Epoch 9/30 [Train]:  31%|███       | 31/100 [00:09<00:18,  3.82it/s, Loss=14.3080]"
          ]
        },
        {
          "output_type": "stream",
          "name": "stdout",
          "text": [
            "*** DEBUG: Batch 30 COMPLETED - Memory cleared ***\n"
          ]
        },
        {
          "output_type": "stream",
          "name": "stderr",
          "text": [
            "Fold 2 Epoch 9/30 [Train]:  41%|████      | 41/100 [00:19<00:47,  1.25it/s, Loss=14.0205]"
          ]
        },
        {
          "output_type": "stream",
          "name": "stdout",
          "text": [
            "*** DEBUG: Batch 40 COMPLETED - Memory cleared ***\n"
          ]
        },
        {
          "output_type": "stream",
          "name": "stderr",
          "text": [
            "Fold 2 Epoch 9/30 [Train]:  51%|█████     | 51/100 [00:22<00:17,  2.77it/s, Loss=11.8658]"
          ]
        },
        {
          "output_type": "stream",
          "name": "stdout",
          "text": [
            "*** DEBUG: Batch 50 COMPLETED - Memory cleared ***\n"
          ]
        },
        {
          "output_type": "stream",
          "name": "stderr",
          "text": [
            "Fold 2 Epoch 9/30 [Train]:  61%|██████    | 61/100 [00:24<00:11,  3.41it/s, Loss=11.8093]"
          ]
        },
        {
          "output_type": "stream",
          "name": "stdout",
          "text": [
            "*** DEBUG: Batch 60 COMPLETED - Memory cleared ***\n"
          ]
        },
        {
          "output_type": "stream",
          "name": "stderr",
          "text": [
            "Fold 2 Epoch 9/30 [Train]:  71%|███████   | 71/100 [00:27<00:07,  3.73it/s, Loss=10.9396]"
          ]
        },
        {
          "output_type": "stream",
          "name": "stdout",
          "text": [
            "*** DEBUG: Batch 70 COMPLETED - Memory cleared ***\n"
          ]
        },
        {
          "output_type": "stream",
          "name": "stderr",
          "text": [
            "Fold 2 Epoch 9/30 [Train]:  81%|████████  | 81/100 [00:30<00:05,  3.74it/s, Loss=10.4671]"
          ]
        },
        {
          "output_type": "stream",
          "name": "stdout",
          "text": [
            "*** DEBUG: Batch 80 COMPLETED - Memory cleared ***\n"
          ]
        },
        {
          "output_type": "stream",
          "name": "stderr",
          "text": [
            "Fold 2 Epoch 9/30 [Train]:  91%|█████████ | 91/100 [00:32<00:02,  3.77it/s, Loss=10.6755]"
          ]
        },
        {
          "output_type": "stream",
          "name": "stdout",
          "text": [
            "*** DEBUG: Batch 90 COMPLETED - Memory cleared ***\n"
          ]
        },
        {
          "output_type": "stream",
          "name": "stderr",
          "text": [
            "Fold 2 Epoch 9/30 [Train]: 100%|██████████| 100/100 [00:34<00:00,  2.86it/s, Loss=11.3575]\n",
            "Fold 2 Epoch 9/30 [Val]: 100%|██████████| 25/25 [00:06<00:00,  3.70it/s, Loss=35.9205]\n"
          ]
        },
        {
          "output_type": "stream",
          "name": "stdout",
          "text": [
            "Fold 2 Epoch 9/30:\n",
            "  Train MAPE: 12.6477%\n",
            "  Val MAPE: 33.7368%\n",
            "  LR: 0.000100\n",
            "--------------------------------------------------\n"
          ]
        },
        {
          "output_type": "stream",
          "name": "stderr",
          "text": [
            "Fold 2 Epoch 10/30 [Train]:   1%|          | 1/100 [00:00<01:00,  1.65it/s, Loss=9.6592]"
          ]
        },
        {
          "output_type": "stream",
          "name": "stdout",
          "text": [
            "*** DEBUG: Batch 0 COMPLETED - Memory cleared ***\n"
          ]
        },
        {
          "output_type": "stream",
          "name": "stderr",
          "text": [
            "Fold 2 Epoch 10/30 [Train]:  11%|█         | 11/100 [00:03<00:22,  3.88it/s, Loss=9.1176]"
          ]
        },
        {
          "output_type": "stream",
          "name": "stdout",
          "text": [
            "*** DEBUG: Batch 10 COMPLETED - Memory cleared ***\n"
          ]
        },
        {
          "output_type": "stream",
          "name": "stderr",
          "text": [
            "Fold 2 Epoch 10/30 [Train]:  21%|██        | 21/100 [00:05<00:20,  3.91it/s, Loss=9.9316]"
          ]
        },
        {
          "output_type": "stream",
          "name": "stdout",
          "text": [
            "*** DEBUG: Batch 20 COMPLETED - Memory cleared ***\n"
          ]
        },
        {
          "output_type": "stream",
          "name": "stderr",
          "text": [
            "Fold 2 Epoch 10/30 [Train]:  31%|███       | 31/100 [00:08<00:18,  3.80it/s, Loss=8.3983]"
          ]
        },
        {
          "output_type": "stream",
          "name": "stdout",
          "text": [
            "*** DEBUG: Batch 30 COMPLETED - Memory cleared ***\n"
          ]
        },
        {
          "output_type": "stream",
          "name": "stderr",
          "text": [
            "Fold 2 Epoch 10/30 [Train]:  41%|████      | 41/100 [00:10<00:14,  3.97it/s, Loss=7.3112]"
          ]
        },
        {
          "output_type": "stream",
          "name": "stdout",
          "text": [
            "*** DEBUG: Batch 40 COMPLETED - Memory cleared ***\n"
          ]
        },
        {
          "output_type": "stream",
          "name": "stderr",
          "text": [
            "Fold 2 Epoch 10/30 [Train]:  51%|█████     | 51/100 [00:13<00:12,  3.89it/s, Loss=8.3937]"
          ]
        },
        {
          "output_type": "stream",
          "name": "stdout",
          "text": [
            "*** DEBUG: Batch 50 COMPLETED - Memory cleared ***\n"
          ]
        },
        {
          "output_type": "stream",
          "name": "stderr",
          "text": [
            "Fold 2 Epoch 10/30 [Train]:  61%|██████    | 61/100 [00:15<00:10,  3.87it/s, Loss=6.0674]"
          ]
        },
        {
          "output_type": "stream",
          "name": "stdout",
          "text": [
            "*** DEBUG: Batch 60 COMPLETED - Memory cleared ***\n"
          ]
        },
        {
          "output_type": "stream",
          "name": "stderr",
          "text": [
            "Fold 2 Epoch 10/30 [Train]:  71%|███████   | 71/100 [00:18<00:07,  3.76it/s, Loss=6.4572]"
          ]
        },
        {
          "output_type": "stream",
          "name": "stdout",
          "text": [
            "*** DEBUG: Batch 70 COMPLETED - Memory cleared ***\n"
          ]
        },
        {
          "output_type": "stream",
          "name": "stderr",
          "text": [
            "Fold 2 Epoch 10/30 [Train]:  81%|████████  | 81/100 [00:21<00:05,  3.77it/s, Loss=6.3115]"
          ]
        },
        {
          "output_type": "stream",
          "name": "stdout",
          "text": [
            "*** DEBUG: Batch 80 COMPLETED - Memory cleared ***\n"
          ]
        },
        {
          "output_type": "stream",
          "name": "stderr",
          "text": [
            "Fold 2 Epoch 10/30 [Train]:  91%|█████████ | 91/100 [00:23<00:02,  3.91it/s, Loss=5.8751]"
          ]
        },
        {
          "output_type": "stream",
          "name": "stdout",
          "text": [
            "*** DEBUG: Batch 90 COMPLETED - Memory cleared ***\n"
          ]
        },
        {
          "output_type": "stream",
          "name": "stderr",
          "text": [
            "Fold 2 Epoch 10/30 [Train]: 100%|██████████| 100/100 [00:25<00:00,  3.86it/s, Loss=5.4632]\n",
            "Fold 2 Epoch 10/30 [Val]: 100%|██████████| 25/25 [00:06<00:00,  3.82it/s, Loss=15.6655]\n"
          ]
        },
        {
          "output_type": "stream",
          "name": "stdout",
          "text": [
            "Fold 2 Epoch 10/30:\n",
            "  Train MAPE: 7.7582%\n",
            "  Val MAPE: 18.0679%\n",
            "  LR: 0.000100\n",
            "--------------------------------------------------\n",
            "Fold 2: New best model saved with Val MAPE = 18.0679%\n"
          ]
        },
        {
          "output_type": "stream",
          "name": "stderr",
          "text": [
            "Fold 2 Epoch 11/30 [Train]:   1%|          | 1/100 [00:01<02:51,  1.73s/it, Loss=5.5467]"
          ]
        },
        {
          "output_type": "stream",
          "name": "stdout",
          "text": [
            "*** DEBUG: Batch 0 COMPLETED - Memory cleared ***\n"
          ]
        },
        {
          "output_type": "stream",
          "name": "stderr",
          "text": [
            "Fold 2 Epoch 11/30 [Train]:  11%|█         | 11/100 [00:04<00:27,  3.23it/s, Loss=5.2853]"
          ]
        },
        {
          "output_type": "stream",
          "name": "stdout",
          "text": [
            "*** DEBUG: Batch 10 COMPLETED - Memory cleared ***\n"
          ]
        },
        {
          "output_type": "stream",
          "name": "stderr",
          "text": [
            "Fold 2 Epoch 11/30 [Train]:  21%|██        | 21/100 [00:07<00:22,  3.59it/s, Loss=6.6192]"
          ]
        },
        {
          "output_type": "stream",
          "name": "stdout",
          "text": [
            "*** DEBUG: Batch 20 COMPLETED - Memory cleared ***\n"
          ]
        },
        {
          "output_type": "stream",
          "name": "stderr",
          "text": [
            "Fold 2 Epoch 11/30 [Train]:  31%|███       | 31/100 [00:09<00:18,  3.82it/s, Loss=5.1497]"
          ]
        },
        {
          "output_type": "stream",
          "name": "stdout",
          "text": [
            "*** DEBUG: Batch 30 COMPLETED - Memory cleared ***\n"
          ]
        },
        {
          "output_type": "stream",
          "name": "stderr",
          "text": [
            "Fold 2 Epoch 11/30 [Train]:  41%|████      | 41/100 [00:19<00:46,  1.26it/s, Loss=5.1046]"
          ]
        },
        {
          "output_type": "stream",
          "name": "stdout",
          "text": [
            "*** DEBUG: Batch 40 COMPLETED - Memory cleared ***\n"
          ]
        },
        {
          "output_type": "stream",
          "name": "stderr",
          "text": [
            "Fold 2 Epoch 11/30 [Train]:  51%|█████     | 51/100 [00:22<00:17,  2.83it/s, Loss=5.1219]"
          ]
        },
        {
          "output_type": "stream",
          "name": "stdout",
          "text": [
            "*** DEBUG: Batch 50 COMPLETED - Memory cleared ***\n"
          ]
        },
        {
          "output_type": "stream",
          "name": "stderr",
          "text": [
            "Fold 2 Epoch 11/30 [Train]:  61%|██████    | 61/100 [00:25<00:11,  3.41it/s, Loss=4.5623]"
          ]
        },
        {
          "output_type": "stream",
          "name": "stdout",
          "text": [
            "*** DEBUG: Batch 60 COMPLETED - Memory cleared ***\n"
          ]
        },
        {
          "output_type": "stream",
          "name": "stderr",
          "text": [
            "Fold 2 Epoch 11/30 [Train]:  71%|███████   | 71/100 [00:27<00:07,  3.66it/s, Loss=4.5140]"
          ]
        },
        {
          "output_type": "stream",
          "name": "stdout",
          "text": [
            "*** DEBUG: Batch 70 COMPLETED - Memory cleared ***\n"
          ]
        },
        {
          "output_type": "stream",
          "name": "stderr",
          "text": [
            "Fold 2 Epoch 11/30 [Train]:  81%|████████  | 81/100 [00:30<00:05,  3.62it/s, Loss=4.4007]"
          ]
        },
        {
          "output_type": "stream",
          "name": "stdout",
          "text": [
            "*** DEBUG: Batch 80 COMPLETED - Memory cleared ***\n"
          ]
        },
        {
          "output_type": "stream",
          "name": "stderr",
          "text": [
            "Fold 2 Epoch 11/30 [Train]:  91%|█████████ | 91/100 [00:33<00:02,  3.78it/s, Loss=3.9303]"
          ]
        },
        {
          "output_type": "stream",
          "name": "stdout",
          "text": [
            "*** DEBUG: Batch 90 COMPLETED - Memory cleared ***\n"
          ]
        },
        {
          "output_type": "stream",
          "name": "stderr",
          "text": [
            "Fold 2 Epoch 11/30 [Train]: 100%|██████████| 100/100 [00:35<00:00,  2.83it/s, Loss=4.1128]\n",
            "Fold 2 Epoch 11/30 [Val]: 100%|██████████| 25/25 [00:06<00:00,  3.83it/s, Loss=16.6912]\n"
          ]
        },
        {
          "output_type": "stream",
          "name": "stdout",
          "text": [
            "Fold 2 Epoch 11/30:\n",
            "  Train MAPE: 4.7495%\n",
            "  Val MAPE: 18.8403%\n",
            "  LR: 0.000100\n",
            "--------------------------------------------------\n"
          ]
        },
        {
          "output_type": "stream",
          "name": "stderr",
          "text": [
            "Fold 2 Epoch 12/30 [Train]:   1%|          | 1/100 [00:00<01:06,  1.49it/s, Loss=4.7302]"
          ]
        },
        {
          "output_type": "stream",
          "name": "stdout",
          "text": [
            "*** DEBUG: Batch 0 COMPLETED - Memory cleared ***\n"
          ]
        },
        {
          "output_type": "stream",
          "name": "stderr",
          "text": [
            "Fold 2 Epoch 12/30 [Train]:  11%|█         | 11/100 [00:03<00:25,  3.53it/s, Loss=4.5901]"
          ]
        },
        {
          "output_type": "stream",
          "name": "stdout",
          "text": [
            "*** DEBUG: Batch 10 COMPLETED - Memory cleared ***\n"
          ]
        },
        {
          "output_type": "stream",
          "name": "stderr",
          "text": [
            "Fold 2 Epoch 12/30 [Train]:  21%|██        | 21/100 [00:06<00:21,  3.71it/s, Loss=4.6655]"
          ]
        },
        {
          "output_type": "stream",
          "name": "stdout",
          "text": [
            "*** DEBUG: Batch 20 COMPLETED - Memory cleared ***\n"
          ]
        },
        {
          "output_type": "stream",
          "name": "stderr",
          "text": [
            "Fold 2 Epoch 12/30 [Train]:  31%|███       | 31/100 [00:08<00:18,  3.77it/s, Loss=4.3766]"
          ]
        },
        {
          "output_type": "stream",
          "name": "stdout",
          "text": [
            "*** DEBUG: Batch 30 COMPLETED - Memory cleared ***\n"
          ]
        },
        {
          "output_type": "stream",
          "name": "stderr",
          "text": [
            "Fold 2 Epoch 12/30 [Train]:  41%|████      | 41/100 [00:11<00:16,  3.68it/s, Loss=4.0934]"
          ]
        },
        {
          "output_type": "stream",
          "name": "stdout",
          "text": [
            "*** DEBUG: Batch 40 COMPLETED - Memory cleared ***\n"
          ]
        },
        {
          "output_type": "stream",
          "name": "stderr",
          "text": [
            "Fold 2 Epoch 12/30 [Train]:  51%|█████     | 51/100 [00:14<00:12,  3.78it/s, Loss=4.1250]"
          ]
        },
        {
          "output_type": "stream",
          "name": "stdout",
          "text": [
            "*** DEBUG: Batch 50 COMPLETED - Memory cleared ***\n"
          ]
        },
        {
          "output_type": "stream",
          "name": "stderr",
          "text": [
            "Fold 2 Epoch 12/30 [Train]:  61%|██████    | 61/100 [00:16<00:10,  3.74it/s, Loss=3.9539]"
          ]
        },
        {
          "output_type": "stream",
          "name": "stdout",
          "text": [
            "*** DEBUG: Batch 60 COMPLETED - Memory cleared ***\n"
          ]
        },
        {
          "output_type": "stream",
          "name": "stderr",
          "text": [
            "Fold 2 Epoch 12/30 [Train]:  71%|███████   | 71/100 [00:19<00:07,  3.79it/s, Loss=3.6229]"
          ]
        },
        {
          "output_type": "stream",
          "name": "stdout",
          "text": [
            "*** DEBUG: Batch 70 COMPLETED - Memory cleared ***\n"
          ]
        },
        {
          "output_type": "stream",
          "name": "stderr",
          "text": [
            "Fold 2 Epoch 12/30 [Train]:  81%|████████  | 81/100 [00:21<00:04,  3.85it/s, Loss=4.1613]"
          ]
        },
        {
          "output_type": "stream",
          "name": "stdout",
          "text": [
            "*** DEBUG: Batch 80 COMPLETED - Memory cleared ***\n"
          ]
        },
        {
          "output_type": "stream",
          "name": "stderr",
          "text": [
            "Fold 2 Epoch 12/30 [Train]:  91%|█████████ | 91/100 [00:24<00:02,  3.79it/s, Loss=4.1155]"
          ]
        },
        {
          "output_type": "stream",
          "name": "stdout",
          "text": [
            "*** DEBUG: Batch 90 COMPLETED - Memory cleared ***\n"
          ]
        },
        {
          "output_type": "stream",
          "name": "stderr",
          "text": [
            "Fold 2 Epoch 12/30 [Train]: 100%|██████████| 100/100 [00:26<00:00,  3.75it/s, Loss=4.5738]\n",
            "Fold 2 Epoch 12/30 [Val]: 100%|██████████| 25/25 [00:06<00:00,  3.66it/s, Loss=15.4829]\n"
          ]
        },
        {
          "output_type": "stream",
          "name": "stdout",
          "text": [
            "Fold 2 Epoch 12/30:\n",
            "  Train MAPE: 4.2950%\n",
            "  Val MAPE: 17.6115%\n",
            "  LR: 0.000100\n",
            "--------------------------------------------------\n",
            "Fold 2: New best model saved with Val MAPE = 17.6115%\n"
          ]
        },
        {
          "output_type": "stream",
          "name": "stderr",
          "text": [
            "Fold 2 Epoch 13/30 [Train]:   1%|          | 1/100 [00:01<02:47,  1.70s/it, Loss=4.1529]"
          ]
        },
        {
          "output_type": "stream",
          "name": "stdout",
          "text": [
            "*** DEBUG: Batch 0 COMPLETED - Memory cleared ***\n"
          ]
        },
        {
          "output_type": "stream",
          "name": "stderr",
          "text": [
            "Fold 2 Epoch 13/30 [Train]:  11%|█         | 11/100 [00:04<00:27,  3.26it/s, Loss=4.0649]"
          ]
        },
        {
          "output_type": "stream",
          "name": "stdout",
          "text": [
            "*** DEBUG: Batch 10 COMPLETED - Memory cleared ***\n"
          ]
        },
        {
          "output_type": "stream",
          "name": "stderr",
          "text": [
            "Fold 2 Epoch 13/30 [Train]:  21%|██        | 21/100 [00:07<00:21,  3.62it/s, Loss=4.0293]"
          ]
        },
        {
          "output_type": "stream",
          "name": "stdout",
          "text": [
            "*** DEBUG: Batch 20 COMPLETED - Memory cleared ***\n"
          ]
        },
        {
          "output_type": "stream",
          "name": "stderr",
          "text": [
            "Fold 2 Epoch 13/30 [Train]:  31%|███       | 31/100 [00:09<00:18,  3.81it/s, Loss=4.5684]"
          ]
        },
        {
          "output_type": "stream",
          "name": "stdout",
          "text": [
            "*** DEBUG: Batch 30 COMPLETED - Memory cleared ***\n"
          ]
        },
        {
          "output_type": "stream",
          "name": "stderr",
          "text": [
            "Fold 2 Epoch 13/30 [Train]:  41%|████      | 41/100 [00:19<00:37,  1.55it/s, Loss=4.0028]"
          ]
        },
        {
          "output_type": "stream",
          "name": "stdout",
          "text": [
            "*** DEBUG: Batch 40 COMPLETED - Memory cleared ***\n"
          ]
        },
        {
          "output_type": "stream",
          "name": "stderr",
          "text": [
            "Fold 2 Epoch 13/30 [Train]:  51%|█████     | 51/100 [00:22<00:16,  3.01it/s, Loss=3.3440]"
          ]
        },
        {
          "output_type": "stream",
          "name": "stdout",
          "text": [
            "*** DEBUG: Batch 50 COMPLETED - Memory cleared ***\n"
          ]
        },
        {
          "output_type": "stream",
          "name": "stderr",
          "text": [
            "Fold 2 Epoch 13/30 [Train]:  61%|██████    | 61/100 [00:24<00:10,  3.64it/s, Loss=3.9212]"
          ]
        },
        {
          "output_type": "stream",
          "name": "stdout",
          "text": [
            "*** DEBUG: Batch 60 COMPLETED - Memory cleared ***\n"
          ]
        },
        {
          "output_type": "stream",
          "name": "stderr",
          "text": [
            "Fold 2 Epoch 13/30 [Train]:  71%|███████   | 71/100 [00:27<00:07,  3.73it/s, Loss=4.3900]"
          ]
        },
        {
          "output_type": "stream",
          "name": "stdout",
          "text": [
            "*** DEBUG: Batch 70 COMPLETED - Memory cleared ***\n"
          ]
        },
        {
          "output_type": "stream",
          "name": "stderr",
          "text": [
            "Fold 2 Epoch 13/30 [Train]:  81%|████████  | 81/100 [00:30<00:04,  3.90it/s, Loss=4.2255]"
          ]
        },
        {
          "output_type": "stream",
          "name": "stdout",
          "text": [
            "*** DEBUG: Batch 80 COMPLETED - Memory cleared ***\n"
          ]
        },
        {
          "output_type": "stream",
          "name": "stderr",
          "text": [
            "Fold 2 Epoch 13/30 [Train]:  91%|█████████ | 91/100 [00:32<00:02,  3.76it/s, Loss=3.6806]"
          ]
        },
        {
          "output_type": "stream",
          "name": "stdout",
          "text": [
            "*** DEBUG: Batch 90 COMPLETED - Memory cleared ***\n"
          ]
        },
        {
          "output_type": "stream",
          "name": "stderr",
          "text": [
            "Fold 2 Epoch 13/30 [Train]: 100%|██████████| 100/100 [00:34<00:00,  2.86it/s, Loss=3.5639]\n",
            "Fold 2 Epoch 13/30 [Val]: 100%|██████████| 25/25 [00:06<00:00,  3.82it/s, Loss=14.9710]\n"
          ]
        },
        {
          "output_type": "stream",
          "name": "stdout",
          "text": [
            "Fold 2 Epoch 13/30:\n",
            "  Train MAPE: 3.9690%\n",
            "  Val MAPE: 18.3251%\n",
            "  LR: 0.000100\n",
            "--------------------------------------------------\n"
          ]
        },
        {
          "output_type": "stream",
          "name": "stderr",
          "text": [
            "Fold 2 Epoch 14/30 [Train]:   1%|          | 1/100 [00:00<01:04,  1.53it/s, Loss=3.7839]"
          ]
        },
        {
          "output_type": "stream",
          "name": "stdout",
          "text": [
            "*** DEBUG: Batch 0 COMPLETED - Memory cleared ***\n"
          ]
        },
        {
          "output_type": "stream",
          "name": "stderr",
          "text": [
            "Fold 2 Epoch 14/30 [Train]:  11%|█         | 11/100 [00:03<00:25,  3.48it/s, Loss=3.6420]"
          ]
        },
        {
          "output_type": "stream",
          "name": "stdout",
          "text": [
            "*** DEBUG: Batch 10 COMPLETED - Memory cleared ***\n"
          ]
        },
        {
          "output_type": "stream",
          "name": "stderr",
          "text": [
            "Fold 2 Epoch 14/30 [Train]:  21%|██        | 21/100 [00:06<00:20,  3.78it/s, Loss=3.8195]"
          ]
        },
        {
          "output_type": "stream",
          "name": "stdout",
          "text": [
            "*** DEBUG: Batch 20 COMPLETED - Memory cleared ***\n"
          ]
        },
        {
          "output_type": "stream",
          "name": "stderr",
          "text": [
            "Fold 2 Epoch 14/30 [Train]:  31%|███       | 31/100 [00:08<00:17,  3.86it/s, Loss=4.2495]"
          ]
        },
        {
          "output_type": "stream",
          "name": "stdout",
          "text": [
            "*** DEBUG: Batch 30 COMPLETED - Memory cleared ***\n"
          ]
        },
        {
          "output_type": "stream",
          "name": "stderr",
          "text": [
            "Fold 2 Epoch 14/30 [Train]:  41%|████      | 41/100 [00:11<00:15,  3.78it/s, Loss=4.1565]"
          ]
        },
        {
          "output_type": "stream",
          "name": "stdout",
          "text": [
            "*** DEBUG: Batch 40 COMPLETED - Memory cleared ***\n"
          ]
        },
        {
          "output_type": "stream",
          "name": "stderr",
          "text": [
            "Fold 2 Epoch 14/30 [Train]:  51%|█████     | 51/100 [00:13<00:12,  3.77it/s, Loss=3.9404]"
          ]
        },
        {
          "output_type": "stream",
          "name": "stdout",
          "text": [
            "*** DEBUG: Batch 50 COMPLETED - Memory cleared ***\n"
          ]
        },
        {
          "output_type": "stream",
          "name": "stderr",
          "text": [
            "Fold 2 Epoch 14/30 [Train]:  61%|██████    | 61/100 [00:16<00:10,  3.82it/s, Loss=3.9387]"
          ]
        },
        {
          "output_type": "stream",
          "name": "stdout",
          "text": [
            "*** DEBUG: Batch 60 COMPLETED - Memory cleared ***\n"
          ]
        },
        {
          "output_type": "stream",
          "name": "stderr",
          "text": [
            "Fold 2 Epoch 14/30 [Train]:  71%|███████   | 71/100 [00:19<00:07,  3.83it/s, Loss=3.2912]"
          ]
        },
        {
          "output_type": "stream",
          "name": "stdout",
          "text": [
            "*** DEBUG: Batch 70 COMPLETED - Memory cleared ***\n"
          ]
        },
        {
          "output_type": "stream",
          "name": "stderr",
          "text": [
            "Fold 2 Epoch 14/30 [Train]:  81%|████████  | 81/100 [00:21<00:04,  3.81it/s, Loss=3.9461]"
          ]
        },
        {
          "output_type": "stream",
          "name": "stdout",
          "text": [
            "*** DEBUG: Batch 80 COMPLETED - Memory cleared ***\n"
          ]
        },
        {
          "output_type": "stream",
          "name": "stderr",
          "text": [
            "Fold 2 Epoch 14/30 [Train]:  91%|█████████ | 91/100 [00:24<00:02,  3.82it/s, Loss=4.2508]"
          ]
        },
        {
          "output_type": "stream",
          "name": "stdout",
          "text": [
            "*** DEBUG: Batch 90 COMPLETED - Memory cleared ***\n"
          ]
        },
        {
          "output_type": "stream",
          "name": "stderr",
          "text": [
            "Fold 2 Epoch 14/30 [Train]: 100%|██████████| 100/100 [00:26<00:00,  3.78it/s, Loss=4.0780]\n",
            "Fold 2 Epoch 14/30 [Val]: 100%|██████████| 25/25 [00:06<00:00,  3.74it/s, Loss=14.0981]\n"
          ]
        },
        {
          "output_type": "stream",
          "name": "stdout",
          "text": [
            "Fold 2 Epoch 14/30:\n",
            "  Train MAPE: 3.8319%\n",
            "  Val MAPE: 16.3556%\n",
            "  LR: 0.000100\n",
            "--------------------------------------------------\n",
            "Fold 2: New best model saved with Val MAPE = 16.3556%\n"
          ]
        },
        {
          "output_type": "stream",
          "name": "stderr",
          "text": [
            "Fold 2 Epoch 15/30 [Train]:   1%|          | 1/100 [00:01<03:00,  1.82s/it, Loss=3.6747]"
          ]
        },
        {
          "output_type": "stream",
          "name": "stdout",
          "text": [
            "*** DEBUG: Batch 0 COMPLETED - Memory cleared ***\n"
          ]
        },
        {
          "output_type": "stream",
          "name": "stderr",
          "text": [
            "Fold 2 Epoch 15/30 [Train]:  11%|█         | 11/100 [00:04<00:28,  3.13it/s, Loss=3.7343]"
          ]
        },
        {
          "output_type": "stream",
          "name": "stdout",
          "text": [
            "*** DEBUG: Batch 10 COMPLETED - Memory cleared ***\n"
          ]
        },
        {
          "output_type": "stream",
          "name": "stderr",
          "text": [
            "Fold 2 Epoch 15/30 [Train]:  21%|██        | 21/100 [00:07<00:21,  3.69it/s, Loss=3.3819]"
          ]
        },
        {
          "output_type": "stream",
          "name": "stdout",
          "text": [
            "*** DEBUG: Batch 20 COMPLETED - Memory cleared ***\n"
          ]
        },
        {
          "output_type": "stream",
          "name": "stderr",
          "text": [
            "Fold 2 Epoch 15/30 [Train]:  31%|███       | 31/100 [00:09<00:18,  3.80it/s, Loss=3.8211]"
          ]
        },
        {
          "output_type": "stream",
          "name": "stdout",
          "text": [
            "*** DEBUG: Batch 30 COMPLETED - Memory cleared ***\n"
          ]
        },
        {
          "output_type": "stream",
          "name": "stderr",
          "text": [
            "Fold 2 Epoch 15/30 [Train]:  41%|████      | 41/100 [00:19<00:37,  1.57it/s, Loss=3.9976]"
          ]
        },
        {
          "output_type": "stream",
          "name": "stdout",
          "text": [
            "*** DEBUG: Batch 40 COMPLETED - Memory cleared ***\n"
          ]
        },
        {
          "output_type": "stream",
          "name": "stderr",
          "text": [
            "Fold 2 Epoch 15/30 [Train]:  51%|█████     | 51/100 [00:22<00:15,  3.07it/s, Loss=4.4729]"
          ]
        },
        {
          "output_type": "stream",
          "name": "stdout",
          "text": [
            "*** DEBUG: Batch 50 COMPLETED - Memory cleared ***\n"
          ]
        },
        {
          "output_type": "stream",
          "name": "stderr",
          "text": [
            "Fold 2 Epoch 15/30 [Train]:  61%|██████    | 61/100 [00:24<00:10,  3.62it/s, Loss=3.7283]"
          ]
        },
        {
          "output_type": "stream",
          "name": "stdout",
          "text": [
            "*** DEBUG: Batch 60 COMPLETED - Memory cleared ***\n"
          ]
        },
        {
          "output_type": "stream",
          "name": "stderr",
          "text": [
            "Fold 2 Epoch 15/30 [Train]:  71%|███████   | 71/100 [00:27<00:07,  3.75it/s, Loss=3.7898]"
          ]
        },
        {
          "output_type": "stream",
          "name": "stdout",
          "text": [
            "*** DEBUG: Batch 70 COMPLETED - Memory cleared ***\n"
          ]
        },
        {
          "output_type": "stream",
          "name": "stderr",
          "text": [
            "Fold 2 Epoch 15/30 [Train]:  81%|████████  | 81/100 [00:30<00:05,  3.60it/s, Loss=3.5731]"
          ]
        },
        {
          "output_type": "stream",
          "name": "stdout",
          "text": [
            "*** DEBUG: Batch 80 COMPLETED - Memory cleared ***\n"
          ]
        },
        {
          "output_type": "stream",
          "name": "stderr",
          "text": [
            "Fold 2 Epoch 15/30 [Train]:  91%|█████████ | 91/100 [00:33<00:02,  3.74it/s, Loss=3.4331]"
          ]
        },
        {
          "output_type": "stream",
          "name": "stdout",
          "text": [
            "*** DEBUG: Batch 90 COMPLETED - Memory cleared ***\n"
          ]
        },
        {
          "output_type": "stream",
          "name": "stderr",
          "text": [
            "Fold 2 Epoch 15/30 [Train]: 100%|██████████| 100/100 [00:35<00:00,  2.82it/s, Loss=3.5813]\n",
            "Fold 2 Epoch 15/30 [Val]: 100%|██████████| 25/25 [00:06<00:00,  3.76it/s, Loss=23.0192]\n"
          ]
        },
        {
          "output_type": "stream",
          "name": "stdout",
          "text": [
            "Fold 2 Epoch 15/30:\n",
            "  Train MAPE: 3.7715%\n",
            "  Val MAPE: 25.3303%\n",
            "  LR: 0.000100\n",
            "--------------------------------------------------\n"
          ]
        },
        {
          "output_type": "stream",
          "name": "stderr",
          "text": [
            "Fold 2 Epoch 16/30 [Train]:   1%|          | 1/100 [00:00<01:11,  1.38it/s, Loss=3.7786]"
          ]
        },
        {
          "output_type": "stream",
          "name": "stdout",
          "text": [
            "*** DEBUG: Batch 0 COMPLETED - Memory cleared ***\n"
          ]
        },
        {
          "output_type": "stream",
          "name": "stderr",
          "text": [
            "Fold 2 Epoch 16/30 [Train]:  11%|█         | 11/100 [00:03<00:23,  3.80it/s, Loss=3.9684]"
          ]
        },
        {
          "output_type": "stream",
          "name": "stdout",
          "text": [
            "*** DEBUG: Batch 10 COMPLETED - Memory cleared ***\n"
          ]
        },
        {
          "output_type": "stream",
          "name": "stderr",
          "text": [
            "Fold 2 Epoch 16/30 [Train]:  21%|██        | 21/100 [00:05<00:20,  3.87it/s, Loss=4.0045]"
          ]
        },
        {
          "output_type": "stream",
          "name": "stdout",
          "text": [
            "*** DEBUG: Batch 20 COMPLETED - Memory cleared ***\n"
          ]
        },
        {
          "output_type": "stream",
          "name": "stderr",
          "text": [
            "Fold 2 Epoch 16/30 [Train]:  31%|███       | 31/100 [00:08<00:17,  3.93it/s, Loss=3.9976]"
          ]
        },
        {
          "output_type": "stream",
          "name": "stdout",
          "text": [
            "*** DEBUG: Batch 30 COMPLETED - Memory cleared ***\n"
          ]
        },
        {
          "output_type": "stream",
          "name": "stderr",
          "text": [
            "Fold 2 Epoch 16/30 [Train]:  41%|████      | 41/100 [00:10<00:15,  3.85it/s, Loss=3.5127]"
          ]
        },
        {
          "output_type": "stream",
          "name": "stdout",
          "text": [
            "*** DEBUG: Batch 40 COMPLETED - Memory cleared ***\n"
          ]
        },
        {
          "output_type": "stream",
          "name": "stderr",
          "text": [
            "Fold 2 Epoch 16/30 [Train]:  51%|█████     | 51/100 [00:13<00:12,  3.83it/s, Loss=3.5776]"
          ]
        },
        {
          "output_type": "stream",
          "name": "stdout",
          "text": [
            "*** DEBUG: Batch 50 COMPLETED - Memory cleared ***\n"
          ]
        },
        {
          "output_type": "stream",
          "name": "stderr",
          "text": [
            "Fold 2 Epoch 16/30 [Train]:  61%|██████    | 61/100 [00:16<00:10,  3.85it/s, Loss=3.8278]"
          ]
        },
        {
          "output_type": "stream",
          "name": "stdout",
          "text": [
            "*** DEBUG: Batch 60 COMPLETED - Memory cleared ***\n"
          ]
        },
        {
          "output_type": "stream",
          "name": "stderr",
          "text": [
            "Fold 2 Epoch 16/30 [Train]:  71%|███████   | 71/100 [00:18<00:07,  3.90it/s, Loss=3.9602]"
          ]
        },
        {
          "output_type": "stream",
          "name": "stdout",
          "text": [
            "*** DEBUG: Batch 70 COMPLETED - Memory cleared ***\n"
          ]
        },
        {
          "output_type": "stream",
          "name": "stderr",
          "text": [
            "Fold 2 Epoch 16/30 [Train]:  81%|████████  | 81/100 [00:21<00:05,  3.77it/s, Loss=3.4731]"
          ]
        },
        {
          "output_type": "stream",
          "name": "stdout",
          "text": [
            "*** DEBUG: Batch 80 COMPLETED - Memory cleared ***\n"
          ]
        },
        {
          "output_type": "stream",
          "name": "stderr",
          "text": [
            "Fold 2 Epoch 16/30 [Train]:  91%|█████████ | 91/100 [00:24<00:02,  3.74it/s, Loss=3.4802]"
          ]
        },
        {
          "output_type": "stream",
          "name": "stdout",
          "text": [
            "*** DEBUG: Batch 90 COMPLETED - Memory cleared ***\n"
          ]
        },
        {
          "output_type": "stream",
          "name": "stderr",
          "text": [
            "Fold 2 Epoch 16/30 [Train]: 100%|██████████| 100/100 [00:26<00:00,  3.81it/s, Loss=3.4069]\n",
            "Fold 2 Epoch 16/30 [Val]: 100%|██████████| 25/25 [00:06<00:00,  3.71it/s, Loss=4.6310]\n"
          ]
        },
        {
          "output_type": "stream",
          "name": "stdout",
          "text": [
            "Fold 2 Epoch 16/30:\n",
            "  Train MAPE: 3.6532%\n",
            "  Val MAPE: 5.3361%\n",
            "  LR: 0.000100\n",
            "--------------------------------------------------\n",
            "Fold 2: New best model saved with Val MAPE = 5.3361%\n"
          ]
        },
        {
          "output_type": "stream",
          "name": "stderr",
          "text": [
            "Fold 2 Epoch 17/30 [Train]:   1%|          | 1/100 [00:01<03:00,  1.82s/it, Loss=3.2073]"
          ]
        },
        {
          "output_type": "stream",
          "name": "stdout",
          "text": [
            "*** DEBUG: Batch 0 COMPLETED - Memory cleared ***\n"
          ]
        },
        {
          "output_type": "stream",
          "name": "stderr",
          "text": [
            "Fold 2 Epoch 17/30 [Train]:  11%|█         | 11/100 [00:04<00:26,  3.32it/s, Loss=4.1587]"
          ]
        },
        {
          "output_type": "stream",
          "name": "stdout",
          "text": [
            "*** DEBUG: Batch 10 COMPLETED - Memory cleared ***\n"
          ]
        },
        {
          "output_type": "stream",
          "name": "stderr",
          "text": [
            "Fold 2 Epoch 17/30 [Train]:  21%|██        | 21/100 [00:06<00:20,  3.84it/s, Loss=3.9338]"
          ]
        },
        {
          "output_type": "stream",
          "name": "stdout",
          "text": [
            "*** DEBUG: Batch 20 COMPLETED - Memory cleared ***\n"
          ]
        },
        {
          "output_type": "stream",
          "name": "stderr",
          "text": [
            "Fold 2 Epoch 17/30 [Train]:  31%|███       | 31/100 [00:09<00:18,  3.79it/s, Loss=3.9900]"
          ]
        },
        {
          "output_type": "stream",
          "name": "stdout",
          "text": [
            "*** DEBUG: Batch 30 COMPLETED - Memory cleared ***\n"
          ]
        },
        {
          "output_type": "stream",
          "name": "stderr",
          "text": [
            "Fold 2 Epoch 17/30 [Train]:  41%|████      | 41/100 [00:19<00:47,  1.25it/s, Loss=3.3637]"
          ]
        },
        {
          "output_type": "stream",
          "name": "stdout",
          "text": [
            "*** DEBUG: Batch 40 COMPLETED - Memory cleared ***\n"
          ]
        },
        {
          "output_type": "stream",
          "name": "stderr",
          "text": [
            "Fold 2 Epoch 17/30 [Train]:  51%|█████     | 51/100 [00:22<00:17,  2.79it/s, Loss=3.7225]"
          ]
        },
        {
          "output_type": "stream",
          "name": "stdout",
          "text": [
            "*** DEBUG: Batch 50 COMPLETED - Memory cleared ***\n"
          ]
        },
        {
          "output_type": "stream",
          "name": "stderr",
          "text": [
            "Fold 2 Epoch 17/30 [Train]:  61%|██████    | 61/100 [00:24<00:11,  3.40it/s, Loss=3.6865]"
          ]
        },
        {
          "output_type": "stream",
          "name": "stdout",
          "text": [
            "*** DEBUG: Batch 60 COMPLETED - Memory cleared ***\n"
          ]
        },
        {
          "output_type": "stream",
          "name": "stderr",
          "text": [
            "Fold 2 Epoch 17/30 [Train]:  71%|███████   | 71/100 [00:27<00:08,  3.59it/s, Loss=3.9351]"
          ]
        },
        {
          "output_type": "stream",
          "name": "stdout",
          "text": [
            "*** DEBUG: Batch 70 COMPLETED - Memory cleared ***\n"
          ]
        },
        {
          "output_type": "stream",
          "name": "stderr",
          "text": [
            "Fold 2 Epoch 17/30 [Train]:  81%|████████  | 81/100 [00:30<00:05,  3.75it/s, Loss=3.7604]"
          ]
        },
        {
          "output_type": "stream",
          "name": "stdout",
          "text": [
            "*** DEBUG: Batch 80 COMPLETED - Memory cleared ***\n"
          ]
        },
        {
          "output_type": "stream",
          "name": "stderr",
          "text": [
            "Fold 2 Epoch 17/30 [Train]:  91%|█████████ | 91/100 [00:33<00:02,  3.75it/s, Loss=3.2947]"
          ]
        },
        {
          "output_type": "stream",
          "name": "stdout",
          "text": [
            "*** DEBUG: Batch 90 COMPLETED - Memory cleared ***\n"
          ]
        },
        {
          "output_type": "stream",
          "name": "stderr",
          "text": [
            "Fold 2 Epoch 17/30 [Train]: 100%|██████████| 100/100 [00:35<00:00,  2.84it/s, Loss=3.7175]\n",
            "Fold 2 Epoch 17/30 [Val]: 100%|██████████| 25/25 [00:06<00:00,  3.74it/s, Loss=32.2076]\n"
          ]
        },
        {
          "output_type": "stream",
          "name": "stdout",
          "text": [
            "Fold 2 Epoch 17/30:\n",
            "  Train MAPE: 3.5979%\n",
            "  Val MAPE: 30.1938%\n",
            "  LR: 0.000100\n",
            "--------------------------------------------------\n"
          ]
        },
        {
          "output_type": "stream",
          "name": "stderr",
          "text": [
            "Fold 2 Epoch 18/30 [Train]:   1%|          | 1/100 [00:00<01:02,  1.58it/s, Loss=3.4061]"
          ]
        },
        {
          "output_type": "stream",
          "name": "stdout",
          "text": [
            "*** DEBUG: Batch 0 COMPLETED - Memory cleared ***\n"
          ]
        },
        {
          "output_type": "stream",
          "name": "stderr",
          "text": [
            "Fold 2 Epoch 18/30 [Train]:  11%|█         | 11/100 [00:03<00:23,  3.72it/s, Loss=3.3401]"
          ]
        },
        {
          "output_type": "stream",
          "name": "stdout",
          "text": [
            "*** DEBUG: Batch 10 COMPLETED - Memory cleared ***\n"
          ]
        },
        {
          "output_type": "stream",
          "name": "stderr",
          "text": [
            "Fold 2 Epoch 18/30 [Train]:  21%|██        | 21/100 [00:05<00:20,  3.90it/s, Loss=3.2051]"
          ]
        },
        {
          "output_type": "stream",
          "name": "stdout",
          "text": [
            "*** DEBUG: Batch 20 COMPLETED - Memory cleared ***\n"
          ]
        },
        {
          "output_type": "stream",
          "name": "stderr",
          "text": [
            "Fold 2 Epoch 18/30 [Train]:  31%|███       | 31/100 [00:08<00:17,  3.85it/s, Loss=3.7046]"
          ]
        },
        {
          "output_type": "stream",
          "name": "stdout",
          "text": [
            "*** DEBUG: Batch 30 COMPLETED - Memory cleared ***\n"
          ]
        },
        {
          "output_type": "stream",
          "name": "stderr",
          "text": [
            "Fold 2 Epoch 18/30 [Train]:  41%|████      | 41/100 [00:11<00:15,  3.71it/s, Loss=3.6887]"
          ]
        },
        {
          "output_type": "stream",
          "name": "stdout",
          "text": [
            "*** DEBUG: Batch 40 COMPLETED - Memory cleared ***\n"
          ]
        },
        {
          "output_type": "stream",
          "name": "stderr",
          "text": [
            "Fold 2 Epoch 18/30 [Train]:  51%|█████     | 51/100 [00:13<00:12,  3.96it/s, Loss=3.3786]"
          ]
        },
        {
          "output_type": "stream",
          "name": "stdout",
          "text": [
            "*** DEBUG: Batch 50 COMPLETED - Memory cleared ***\n"
          ]
        },
        {
          "output_type": "stream",
          "name": "stderr",
          "text": [
            "Fold 2 Epoch 18/30 [Train]:  61%|██████    | 61/100 [00:16<00:09,  3.91it/s, Loss=3.2765]"
          ]
        },
        {
          "output_type": "stream",
          "name": "stdout",
          "text": [
            "*** DEBUG: Batch 60 COMPLETED - Memory cleared ***\n"
          ]
        },
        {
          "output_type": "stream",
          "name": "stderr",
          "text": [
            "Fold 2 Epoch 18/30 [Train]:  71%|███████   | 71/100 [00:18<00:07,  3.84it/s, Loss=3.4654]"
          ]
        },
        {
          "output_type": "stream",
          "name": "stdout",
          "text": [
            "*** DEBUG: Batch 70 COMPLETED - Memory cleared ***\n"
          ]
        },
        {
          "output_type": "stream",
          "name": "stderr",
          "text": [
            "Fold 2 Epoch 18/30 [Train]:  81%|████████  | 81/100 [00:21<00:05,  3.73it/s, Loss=3.9720]"
          ]
        },
        {
          "output_type": "stream",
          "name": "stdout",
          "text": [
            "*** DEBUG: Batch 80 COMPLETED - Memory cleared ***\n"
          ]
        },
        {
          "output_type": "stream",
          "name": "stderr",
          "text": [
            "Fold 2 Epoch 18/30 [Train]:  91%|█████████ | 91/100 [00:24<00:02,  3.83it/s, Loss=3.3000]"
          ]
        },
        {
          "output_type": "stream",
          "name": "stdout",
          "text": [
            "*** DEBUG: Batch 90 COMPLETED - Memory cleared ***\n"
          ]
        },
        {
          "output_type": "stream",
          "name": "stderr",
          "text": [
            "Fold 2 Epoch 18/30 [Train]: 100%|██████████| 100/100 [00:26<00:00,  3.82it/s, Loss=3.6039]\n",
            "Fold 2 Epoch 18/30 [Val]: 100%|██████████| 25/25 [00:06<00:00,  3.76it/s, Loss=29.3400]\n"
          ]
        },
        {
          "output_type": "stream",
          "name": "stdout",
          "text": [
            "Fold 2 Epoch 18/30:\n",
            "  Train MAPE: 3.4844%\n",
            "  Val MAPE: 26.9897%\n",
            "  LR: 0.000100\n",
            "--------------------------------------------------\n"
          ]
        },
        {
          "output_type": "stream",
          "name": "stderr",
          "text": [
            "Fold 2 Epoch 19/30 [Train]:   1%|          | 1/100 [00:00<01:12,  1.37it/s, Loss=3.7308]"
          ]
        },
        {
          "output_type": "stream",
          "name": "stdout",
          "text": [
            "*** DEBUG: Batch 0 COMPLETED - Memory cleared ***\n"
          ]
        },
        {
          "output_type": "stream",
          "name": "stderr",
          "text": [
            "Fold 2 Epoch 19/30 [Train]:  11%|█         | 11/100 [00:03<00:24,  3.70it/s, Loss=3.2779]"
          ]
        },
        {
          "output_type": "stream",
          "name": "stdout",
          "text": [
            "*** DEBUG: Batch 10 COMPLETED - Memory cleared ***\n"
          ]
        },
        {
          "output_type": "stream",
          "name": "stderr",
          "text": [
            "Fold 2 Epoch 19/30 [Train]:  21%|██        | 21/100 [00:05<00:19,  3.99it/s, Loss=3.4792]"
          ]
        },
        {
          "output_type": "stream",
          "name": "stdout",
          "text": [
            "*** DEBUG: Batch 20 COMPLETED - Memory cleared ***\n"
          ]
        },
        {
          "output_type": "stream",
          "name": "stderr",
          "text": [
            "Fold 2 Epoch 19/30 [Train]:  31%|███       | 31/100 [00:08<00:17,  3.94it/s, Loss=3.6666]"
          ]
        },
        {
          "output_type": "stream",
          "name": "stdout",
          "text": [
            "*** DEBUG: Batch 30 COMPLETED - Memory cleared ***\n"
          ]
        },
        {
          "output_type": "stream",
          "name": "stderr",
          "text": [
            "Fold 2 Epoch 19/30 [Train]:  41%|████      | 41/100 [00:10<00:15,  3.92it/s, Loss=3.3168]"
          ]
        },
        {
          "output_type": "stream",
          "name": "stdout",
          "text": [
            "*** DEBUG: Batch 40 COMPLETED - Memory cleared ***\n"
          ]
        },
        {
          "output_type": "stream",
          "name": "stderr",
          "text": [
            "Fold 2 Epoch 19/30 [Train]:  51%|█████     | 51/100 [00:13<00:13,  3.67it/s, Loss=3.3015]"
          ]
        },
        {
          "output_type": "stream",
          "name": "stdout",
          "text": [
            "*** DEBUG: Batch 50 COMPLETED - Memory cleared ***\n"
          ]
        },
        {
          "output_type": "stream",
          "name": "stderr",
          "text": [
            "Fold 2 Epoch 19/30 [Train]:  61%|██████    | 61/100 [00:16<00:10,  3.86it/s, Loss=3.3977]"
          ]
        },
        {
          "output_type": "stream",
          "name": "stdout",
          "text": [
            "*** DEBUG: Batch 60 COMPLETED - Memory cleared ***\n"
          ]
        },
        {
          "output_type": "stream",
          "name": "stderr",
          "text": [
            "Fold 2 Epoch 19/30 [Train]:  71%|███████   | 71/100 [00:18<00:07,  3.81it/s, Loss=3.0729]"
          ]
        },
        {
          "output_type": "stream",
          "name": "stdout",
          "text": [
            "*** DEBUG: Batch 70 COMPLETED - Memory cleared ***\n"
          ]
        },
        {
          "output_type": "stream",
          "name": "stderr",
          "text": [
            "Fold 2 Epoch 19/30 [Train]:  81%|████████  | 81/100 [00:21<00:05,  3.76it/s, Loss=3.2607]"
          ]
        },
        {
          "output_type": "stream",
          "name": "stdout",
          "text": [
            "*** DEBUG: Batch 80 COMPLETED - Memory cleared ***\n"
          ]
        },
        {
          "output_type": "stream",
          "name": "stderr",
          "text": [
            "Fold 2 Epoch 19/30 [Train]:  91%|█████████ | 91/100 [00:24<00:02,  3.79it/s, Loss=3.5253]"
          ]
        },
        {
          "output_type": "stream",
          "name": "stdout",
          "text": [
            "*** DEBUG: Batch 90 COMPLETED - Memory cleared ***\n"
          ]
        },
        {
          "output_type": "stream",
          "name": "stderr",
          "text": [
            "Fold 2 Epoch 19/30 [Train]: 100%|██████████| 100/100 [00:26<00:00,  3.80it/s, Loss=3.7121]\n",
            "Fold 2 Epoch 19/30 [Val]: 100%|██████████| 25/25 [00:06<00:00,  3.76it/s, Loss=15.8736]\n"
          ]
        },
        {
          "output_type": "stream",
          "name": "stdout",
          "text": [
            "Fold 2 Epoch 19/30:\n",
            "  Train MAPE: 3.5607%\n",
            "  Val MAPE: 16.2522%\n",
            "  LR: 0.000100\n",
            "--------------------------------------------------\n"
          ]
        },
        {
          "output_type": "stream",
          "name": "stderr",
          "text": [
            "Fold 2 Epoch 20/30 [Train]:   1%|          | 1/100 [00:00<01:05,  1.51it/s, Loss=3.3917]"
          ]
        },
        {
          "output_type": "stream",
          "name": "stdout",
          "text": [
            "*** DEBUG: Batch 0 COMPLETED - Memory cleared ***\n"
          ]
        },
        {
          "output_type": "stream",
          "name": "stderr",
          "text": [
            "Fold 2 Epoch 20/30 [Train]:  11%|█         | 11/100 [00:03<00:23,  3.84it/s, Loss=3.8305]"
          ]
        },
        {
          "output_type": "stream",
          "name": "stdout",
          "text": [
            "*** DEBUG: Batch 10 COMPLETED - Memory cleared ***\n"
          ]
        },
        {
          "output_type": "stream",
          "name": "stderr",
          "text": [
            "Fold 2 Epoch 20/30 [Train]:  21%|██        | 21/100 [00:05<00:21,  3.60it/s, Loss=3.2769]"
          ]
        },
        {
          "output_type": "stream",
          "name": "stdout",
          "text": [
            "*** DEBUG: Batch 20 COMPLETED - Memory cleared ***\n"
          ]
        },
        {
          "output_type": "stream",
          "name": "stderr",
          "text": [
            "Fold 2 Epoch 20/30 [Train]:  31%|███       | 31/100 [00:08<00:17,  3.86it/s, Loss=3.6724]"
          ]
        },
        {
          "output_type": "stream",
          "name": "stdout",
          "text": [
            "*** DEBUG: Batch 30 COMPLETED - Memory cleared ***\n"
          ]
        },
        {
          "output_type": "stream",
          "name": "stderr",
          "text": [
            "Fold 2 Epoch 20/30 [Train]:  41%|████      | 41/100 [00:11<00:15,  3.80it/s, Loss=3.6375]"
          ]
        },
        {
          "output_type": "stream",
          "name": "stdout",
          "text": [
            "*** DEBUG: Batch 40 COMPLETED - Memory cleared ***\n"
          ]
        },
        {
          "output_type": "stream",
          "name": "stderr",
          "text": [
            "Fold 2 Epoch 20/30 [Train]:  51%|█████     | 51/100 [00:13<00:12,  3.89it/s, Loss=3.4788]"
          ]
        },
        {
          "output_type": "stream",
          "name": "stdout",
          "text": [
            "*** DEBUG: Batch 50 COMPLETED - Memory cleared ***\n"
          ]
        },
        {
          "output_type": "stream",
          "name": "stderr",
          "text": [
            "Fold 2 Epoch 20/30 [Train]:  61%|██████    | 61/100 [00:16<00:10,  3.65it/s, Loss=3.7483]"
          ]
        },
        {
          "output_type": "stream",
          "name": "stdout",
          "text": [
            "*** DEBUG: Batch 60 COMPLETED - Memory cleared ***\n"
          ]
        },
        {
          "output_type": "stream",
          "name": "stderr",
          "text": [
            "Fold 2 Epoch 20/30 [Train]:  71%|███████   | 71/100 [00:18<00:07,  3.83it/s, Loss=3.4495]"
          ]
        },
        {
          "output_type": "stream",
          "name": "stdout",
          "text": [
            "*** DEBUG: Batch 70 COMPLETED - Memory cleared ***\n"
          ]
        },
        {
          "output_type": "stream",
          "name": "stderr",
          "text": [
            "Fold 2 Epoch 20/30 [Train]:  81%|████████  | 81/100 [00:21<00:04,  3.88it/s, Loss=3.7956]"
          ]
        },
        {
          "output_type": "stream",
          "name": "stdout",
          "text": [
            "*** DEBUG: Batch 80 COMPLETED - Memory cleared ***\n"
          ]
        },
        {
          "output_type": "stream",
          "name": "stderr",
          "text": [
            "Fold 2 Epoch 20/30 [Train]:  91%|█████████ | 91/100 [00:24<00:02,  3.85it/s, Loss=3.5467]"
          ]
        },
        {
          "output_type": "stream",
          "name": "stdout",
          "text": [
            "*** DEBUG: Batch 90 COMPLETED - Memory cleared ***\n"
          ]
        },
        {
          "output_type": "stream",
          "name": "stderr",
          "text": [
            "Fold 2 Epoch 20/30 [Train]: 100%|██████████| 100/100 [00:26<00:00,  3.80it/s, Loss=3.5622]\n",
            "Fold 2 Epoch 20/30 [Val]: 100%|██████████| 25/25 [00:06<00:00,  3.69it/s, Loss=16.7893]\n"
          ]
        },
        {
          "output_type": "stream",
          "name": "stdout",
          "text": [
            "Fold 2 Epoch 20/30:\n",
            "  Train MAPE: 3.5072%\n",
            "  Val MAPE: 17.8216%\n",
            "  LR: 0.000100\n",
            "--------------------------------------------------\n"
          ]
        },
        {
          "output_type": "stream",
          "name": "stderr",
          "text": [
            "Fold 2 Epoch 21/30 [Train]:   1%|          | 1/100 [00:00<01:08,  1.45it/s, Loss=3.0493]"
          ]
        },
        {
          "output_type": "stream",
          "name": "stdout",
          "text": [
            "*** DEBUG: Batch 0 COMPLETED - Memory cleared ***\n"
          ]
        },
        {
          "output_type": "stream",
          "name": "stderr",
          "text": [
            "Fold 2 Epoch 21/30 [Train]:  11%|█         | 11/100 [00:03<00:23,  3.71it/s, Loss=3.3089]"
          ]
        },
        {
          "output_type": "stream",
          "name": "stdout",
          "text": [
            "*** DEBUG: Batch 10 COMPLETED - Memory cleared ***\n"
          ]
        },
        {
          "output_type": "stream",
          "name": "stderr",
          "text": [
            "Fold 2 Epoch 21/30 [Train]:  21%|██        | 21/100 [00:05<00:21,  3.68it/s, Loss=3.2842]"
          ]
        },
        {
          "output_type": "stream",
          "name": "stdout",
          "text": [
            "*** DEBUG: Batch 20 COMPLETED - Memory cleared ***\n"
          ]
        },
        {
          "output_type": "stream",
          "name": "stderr",
          "text": [
            "Fold 2 Epoch 21/30 [Train]:  31%|███       | 31/100 [00:08<00:19,  3.62it/s, Loss=3.5557]"
          ]
        },
        {
          "output_type": "stream",
          "name": "stdout",
          "text": [
            "*** DEBUG: Batch 30 COMPLETED - Memory cleared ***\n"
          ]
        },
        {
          "output_type": "stream",
          "name": "stderr",
          "text": [
            "Fold 2 Epoch 21/30 [Train]:  41%|████      | 41/100 [00:11<00:15,  3.71it/s, Loss=3.4551]"
          ]
        },
        {
          "output_type": "stream",
          "name": "stdout",
          "text": [
            "*** DEBUG: Batch 40 COMPLETED - Memory cleared ***\n"
          ]
        },
        {
          "output_type": "stream",
          "name": "stderr",
          "text": [
            "Fold 2 Epoch 21/30 [Train]:  51%|█████     | 51/100 [00:13<00:13,  3.76it/s, Loss=3.5473]"
          ]
        },
        {
          "output_type": "stream",
          "name": "stdout",
          "text": [
            "*** DEBUG: Batch 50 COMPLETED - Memory cleared ***\n"
          ]
        },
        {
          "output_type": "stream",
          "name": "stderr",
          "text": [
            "Fold 2 Epoch 21/30 [Train]:  61%|██████    | 61/100 [00:16<00:10,  3.64it/s, Loss=3.7049]"
          ]
        },
        {
          "output_type": "stream",
          "name": "stdout",
          "text": [
            "*** DEBUG: Batch 60 COMPLETED - Memory cleared ***\n"
          ]
        },
        {
          "output_type": "stream",
          "name": "stderr",
          "text": [
            "Fold 2 Epoch 21/30 [Train]:  71%|███████   | 71/100 [00:19<00:07,  3.83it/s, Loss=3.4273]"
          ]
        },
        {
          "output_type": "stream",
          "name": "stdout",
          "text": [
            "*** DEBUG: Batch 70 COMPLETED - Memory cleared ***\n"
          ]
        },
        {
          "output_type": "stream",
          "name": "stderr",
          "text": [
            "Fold 2 Epoch 21/30 [Train]:  81%|████████  | 81/100 [00:21<00:05,  3.73it/s, Loss=3.6227]"
          ]
        },
        {
          "output_type": "stream",
          "name": "stdout",
          "text": [
            "*** DEBUG: Batch 80 COMPLETED - Memory cleared ***\n"
          ]
        },
        {
          "output_type": "stream",
          "name": "stderr",
          "text": [
            "Fold 2 Epoch 21/30 [Train]:  91%|█████████ | 91/100 [00:24<00:02,  3.89it/s, Loss=3.3839]"
          ]
        },
        {
          "output_type": "stream",
          "name": "stdout",
          "text": [
            "*** DEBUG: Batch 90 COMPLETED - Memory cleared ***\n"
          ]
        },
        {
          "output_type": "stream",
          "name": "stderr",
          "text": [
            "Fold 2 Epoch 21/30 [Train]: 100%|██████████| 100/100 [00:26<00:00,  3.76it/s, Loss=3.3884]\n",
            "Fold 2 Epoch 21/30 [Val]: 100%|██████████| 25/25 [00:06<00:00,  3.76it/s, Loss=14.5984]\n"
          ]
        },
        {
          "output_type": "stream",
          "name": "stdout",
          "text": [
            "Fold 2 Epoch 21/30:\n",
            "  Train MAPE: 3.4264%\n",
            "  Val MAPE: 17.8332%\n",
            "  LR: 0.000100\n",
            "--------------------------------------------------\n"
          ]
        },
        {
          "output_type": "stream",
          "name": "stderr",
          "text": [
            "Fold 2 Epoch 22/30 [Train]:   1%|          | 1/100 [00:00<01:03,  1.55it/s, Loss=3.4741]"
          ]
        },
        {
          "output_type": "stream",
          "name": "stdout",
          "text": [
            "*** DEBUG: Batch 0 COMPLETED - Memory cleared ***\n"
          ]
        },
        {
          "output_type": "stream",
          "name": "stderr",
          "text": [
            "Fold 2 Epoch 22/30 [Train]:  11%|█         | 11/100 [00:03<00:23,  3.80it/s, Loss=3.5220]"
          ]
        },
        {
          "output_type": "stream",
          "name": "stdout",
          "text": [
            "*** DEBUG: Batch 10 COMPLETED - Memory cleared ***\n"
          ]
        },
        {
          "output_type": "stream",
          "name": "stderr",
          "text": [
            "Fold 2 Epoch 22/30 [Train]:  21%|██        | 21/100 [00:05<00:19,  3.98it/s, Loss=3.6265]"
          ]
        },
        {
          "output_type": "stream",
          "name": "stdout",
          "text": [
            "*** DEBUG: Batch 20 COMPLETED - Memory cleared ***\n"
          ]
        },
        {
          "output_type": "stream",
          "name": "stderr",
          "text": [
            "Fold 2 Epoch 22/30 [Train]:  31%|███       | 31/100 [00:08<00:17,  3.93it/s, Loss=3.2551]"
          ]
        },
        {
          "output_type": "stream",
          "name": "stdout",
          "text": [
            "*** DEBUG: Batch 30 COMPLETED - Memory cleared ***\n"
          ]
        },
        {
          "output_type": "stream",
          "name": "stderr",
          "text": [
            "Fold 2 Epoch 22/30 [Train]:  41%|████      | 41/100 [00:10<00:15,  3.82it/s, Loss=3.1480]"
          ]
        },
        {
          "output_type": "stream",
          "name": "stdout",
          "text": [
            "*** DEBUG: Batch 40 COMPLETED - Memory cleared ***\n"
          ]
        },
        {
          "output_type": "stream",
          "name": "stderr",
          "text": [
            "Fold 2 Epoch 22/30 [Train]:  51%|█████     | 51/100 [00:13<00:12,  3.91it/s, Loss=3.2521]"
          ]
        },
        {
          "output_type": "stream",
          "name": "stdout",
          "text": [
            "*** DEBUG: Batch 50 COMPLETED - Memory cleared ***\n"
          ]
        },
        {
          "output_type": "stream",
          "name": "stderr",
          "text": [
            "Fold 2 Epoch 22/30 [Train]:  61%|██████    | 61/100 [00:15<00:10,  3.90it/s, Loss=3.3367]"
          ]
        },
        {
          "output_type": "stream",
          "name": "stdout",
          "text": [
            "*** DEBUG: Batch 60 COMPLETED - Memory cleared ***\n"
          ]
        },
        {
          "output_type": "stream",
          "name": "stderr",
          "text": [
            "Fold 2 Epoch 22/30 [Train]:  71%|███████   | 71/100 [00:18<00:07,  3.95it/s, Loss=3.1640]"
          ]
        },
        {
          "output_type": "stream",
          "name": "stdout",
          "text": [
            "*** DEBUG: Batch 70 COMPLETED - Memory cleared ***\n"
          ]
        },
        {
          "output_type": "stream",
          "name": "stderr",
          "text": [
            "Fold 2 Epoch 22/30 [Train]:  81%|████████  | 81/100 [00:21<00:04,  3.95it/s, Loss=3.3652]"
          ]
        },
        {
          "output_type": "stream",
          "name": "stdout",
          "text": [
            "*** DEBUG: Batch 80 COMPLETED - Memory cleared ***\n"
          ]
        },
        {
          "output_type": "stream",
          "name": "stderr",
          "text": [
            "Fold 2 Epoch 22/30 [Train]:  91%|█████████ | 91/100 [00:23<00:02,  3.74it/s, Loss=3.1024]"
          ]
        },
        {
          "output_type": "stream",
          "name": "stdout",
          "text": [
            "*** DEBUG: Batch 90 COMPLETED - Memory cleared ***\n"
          ]
        },
        {
          "output_type": "stream",
          "name": "stderr",
          "text": [
            "Fold 2 Epoch 22/30 [Train]: 100%|██████████| 100/100 [00:25<00:00,  3.87it/s, Loss=3.4110]\n",
            "Fold 2 Epoch 22/30 [Val]: 100%|██████████| 25/25 [00:06<00:00,  3.71it/s, Loss=7.8338]\n"
          ]
        },
        {
          "output_type": "stream",
          "name": "stdout",
          "text": [
            "Fold 2 Epoch 22/30:\n",
            "  Train MAPE: 3.4220%\n",
            "  Val MAPE: 9.1432%\n",
            "  LR: 0.000050\n",
            "--------------------------------------------------\n"
          ]
        },
        {
          "output_type": "stream",
          "name": "stderr",
          "text": [
            "Fold 2 Epoch 23/30 [Train]:   1%|          | 1/100 [00:00<01:02,  1.60it/s, Loss=3.6011]"
          ]
        },
        {
          "output_type": "stream",
          "name": "stdout",
          "text": [
            "*** DEBUG: Batch 0 COMPLETED - Memory cleared ***\n"
          ]
        },
        {
          "output_type": "stream",
          "name": "stderr",
          "text": [
            "Fold 2 Epoch 23/30 [Train]:  11%|█         | 11/100 [00:03<00:25,  3.55it/s, Loss=3.2611]"
          ]
        },
        {
          "output_type": "stream",
          "name": "stdout",
          "text": [
            "*** DEBUG: Batch 10 COMPLETED - Memory cleared ***\n"
          ]
        },
        {
          "output_type": "stream",
          "name": "stderr",
          "text": [
            "Fold 2 Epoch 23/30 [Train]:  21%|██        | 21/100 [00:05<00:20,  3.80it/s, Loss=3.1241]"
          ]
        },
        {
          "output_type": "stream",
          "name": "stdout",
          "text": [
            "*** DEBUG: Batch 20 COMPLETED - Memory cleared ***\n"
          ]
        },
        {
          "output_type": "stream",
          "name": "stderr",
          "text": [
            "Fold 2 Epoch 23/30 [Train]:  31%|███       | 31/100 [00:08<00:17,  3.85it/s, Loss=3.1282]"
          ]
        },
        {
          "output_type": "stream",
          "name": "stdout",
          "text": [
            "*** DEBUG: Batch 30 COMPLETED - Memory cleared ***\n"
          ]
        },
        {
          "output_type": "stream",
          "name": "stderr",
          "text": [
            "Fold 2 Epoch 23/30 [Train]:  41%|████      | 41/100 [00:11<00:15,  3.82it/s, Loss=3.1191]"
          ]
        },
        {
          "output_type": "stream",
          "name": "stdout",
          "text": [
            "*** DEBUG: Batch 40 COMPLETED - Memory cleared ***\n"
          ]
        },
        {
          "output_type": "stream",
          "name": "stderr",
          "text": [
            "Fold 2 Epoch 23/30 [Train]:  51%|█████     | 51/100 [00:13<00:12,  3.86it/s, Loss=3.2481]"
          ]
        },
        {
          "output_type": "stream",
          "name": "stdout",
          "text": [
            "*** DEBUG: Batch 50 COMPLETED - Memory cleared ***\n"
          ]
        },
        {
          "output_type": "stream",
          "name": "stderr",
          "text": [
            "Fold 2 Epoch 23/30 [Train]:  61%|██████    | 61/100 [00:16<00:10,  3.67it/s, Loss=3.3145]"
          ]
        },
        {
          "output_type": "stream",
          "name": "stdout",
          "text": [
            "*** DEBUG: Batch 60 COMPLETED - Memory cleared ***\n"
          ]
        },
        {
          "output_type": "stream",
          "name": "stderr",
          "text": [
            "Fold 2 Epoch 23/30 [Train]:  71%|███████   | 71/100 [00:18<00:07,  3.95it/s, Loss=3.0839]"
          ]
        },
        {
          "output_type": "stream",
          "name": "stdout",
          "text": [
            "*** DEBUG: Batch 70 COMPLETED - Memory cleared ***\n"
          ]
        },
        {
          "output_type": "stream",
          "name": "stderr",
          "text": [
            "Fold 2 Epoch 23/30 [Train]:  81%|████████  | 81/100 [00:21<00:05,  3.73it/s, Loss=3.7146]"
          ]
        },
        {
          "output_type": "stream",
          "name": "stdout",
          "text": [
            "*** DEBUG: Batch 80 COMPLETED - Memory cleared ***\n"
          ]
        },
        {
          "output_type": "stream",
          "name": "stderr",
          "text": [
            "Fold 2 Epoch 23/30 [Train]:  91%|█████████ | 91/100 [00:24<00:02,  3.91it/s, Loss=2.6515]"
          ]
        },
        {
          "output_type": "stream",
          "name": "stdout",
          "text": [
            "*** DEBUG: Batch 90 COMPLETED - Memory cleared ***\n"
          ]
        },
        {
          "output_type": "stream",
          "name": "stderr",
          "text": [
            "Fold 2 Epoch 23/30 [Train]: 100%|██████████| 100/100 [00:26<00:00,  3.80it/s, Loss=3.4863]\n",
            "Fold 2 Epoch 23/30 [Val]: 100%|██████████| 25/25 [00:06<00:00,  3.76it/s, Loss=7.9537]\n"
          ]
        },
        {
          "output_type": "stream",
          "name": "stdout",
          "text": [
            "Fold 2 Epoch 23/30:\n",
            "  Train MAPE: 3.2283%\n",
            "  Val MAPE: 8.7541%\n",
            "  LR: 0.000050\n",
            "--------------------------------------------------\n"
          ]
        },
        {
          "output_type": "stream",
          "name": "stderr",
          "text": [
            "Fold 2 Epoch 24/30 [Train]:   1%|          | 1/100 [00:00<01:08,  1.44it/s, Loss=3.0238]"
          ]
        },
        {
          "output_type": "stream",
          "name": "stdout",
          "text": [
            "*** DEBUG: Batch 0 COMPLETED - Memory cleared ***\n"
          ]
        },
        {
          "output_type": "stream",
          "name": "stderr",
          "text": [
            "Fold 2 Epoch 24/30 [Train]:  11%|█         | 11/100 [00:03<00:23,  3.77it/s, Loss=3.2590]"
          ]
        },
        {
          "output_type": "stream",
          "name": "stdout",
          "text": [
            "*** DEBUG: Batch 10 COMPLETED - Memory cleared ***\n"
          ]
        },
        {
          "output_type": "stream",
          "name": "stderr",
          "text": [
            "Fold 2 Epoch 24/30 [Train]:  21%|██        | 21/100 [00:05<00:21,  3.75it/s, Loss=3.3486]"
          ]
        },
        {
          "output_type": "stream",
          "name": "stdout",
          "text": [
            "*** DEBUG: Batch 20 COMPLETED - Memory cleared ***\n"
          ]
        },
        {
          "output_type": "stream",
          "name": "stderr",
          "text": [
            "Fold 2 Epoch 24/30 [Train]:  31%|███       | 31/100 [00:08<00:18,  3.80it/s, Loss=3.2801]"
          ]
        },
        {
          "output_type": "stream",
          "name": "stdout",
          "text": [
            "*** DEBUG: Batch 30 COMPLETED - Memory cleared ***\n"
          ]
        },
        {
          "output_type": "stream",
          "name": "stderr",
          "text": [
            "Fold 2 Epoch 24/30 [Train]:  41%|████      | 41/100 [00:11<00:15,  3.81it/s, Loss=3.4537]"
          ]
        },
        {
          "output_type": "stream",
          "name": "stdout",
          "text": [
            "*** DEBUG: Batch 40 COMPLETED - Memory cleared ***\n"
          ]
        },
        {
          "output_type": "stream",
          "name": "stderr",
          "text": [
            "Fold 2 Epoch 24/30 [Train]:  51%|█████     | 51/100 [00:13<00:13,  3.71it/s, Loss=2.9166]"
          ]
        },
        {
          "output_type": "stream",
          "name": "stdout",
          "text": [
            "*** DEBUG: Batch 50 COMPLETED - Memory cleared ***\n"
          ]
        },
        {
          "output_type": "stream",
          "name": "stderr",
          "text": [
            "Fold 2 Epoch 24/30 [Train]:  61%|██████    | 61/100 [00:16<00:10,  3.84it/s, Loss=3.3174]"
          ]
        },
        {
          "output_type": "stream",
          "name": "stdout",
          "text": [
            "*** DEBUG: Batch 60 COMPLETED - Memory cleared ***\n"
          ]
        },
        {
          "output_type": "stream",
          "name": "stderr",
          "text": [
            "Fold 2 Epoch 24/30 [Train]:  71%|███████   | 71/100 [00:19<00:07,  3.69it/s, Loss=2.9132]"
          ]
        },
        {
          "output_type": "stream",
          "name": "stdout",
          "text": [
            "*** DEBUG: Batch 70 COMPLETED - Memory cleared ***\n"
          ]
        },
        {
          "output_type": "stream",
          "name": "stderr",
          "text": [
            "Fold 2 Epoch 24/30 [Train]:  81%|████████  | 81/100 [00:21<00:05,  3.79it/s, Loss=2.9085]"
          ]
        },
        {
          "output_type": "stream",
          "name": "stdout",
          "text": [
            "*** DEBUG: Batch 80 COMPLETED - Memory cleared ***\n"
          ]
        },
        {
          "output_type": "stream",
          "name": "stderr",
          "text": [
            "Fold 2 Epoch 24/30 [Train]:  91%|█████████ | 91/100 [00:24<00:02,  3.79it/s, Loss=3.5457]"
          ]
        },
        {
          "output_type": "stream",
          "name": "stdout",
          "text": [
            "*** DEBUG: Batch 90 COMPLETED - Memory cleared ***\n"
          ]
        },
        {
          "output_type": "stream",
          "name": "stderr",
          "text": [
            "Fold 2 Epoch 24/30 [Train]: 100%|██████████| 100/100 [00:26<00:00,  3.76it/s, Loss=3.1586]\n",
            "Fold 2 Epoch 24/30 [Val]: 100%|██████████| 25/25 [00:06<00:00,  3.75it/s, Loss=11.5619]\n"
          ]
        },
        {
          "output_type": "stream",
          "name": "stdout",
          "text": [
            "Fold 2 Epoch 24/30:\n",
            "  Train MAPE: 3.2075%\n",
            "  Val MAPE: 14.7154%\n",
            "  LR: 0.000050\n",
            "--------------------------------------------------\n"
          ]
        },
        {
          "output_type": "stream",
          "name": "stderr",
          "text": [
            "Fold 2 Epoch 25/30 [Train]:   1%|          | 1/100 [00:00<01:03,  1.55it/s, Loss=2.8353]"
          ]
        },
        {
          "output_type": "stream",
          "name": "stdout",
          "text": [
            "*** DEBUG: Batch 0 COMPLETED - Memory cleared ***\n"
          ]
        },
        {
          "output_type": "stream",
          "name": "stderr",
          "text": [
            "Fold 2 Epoch 25/30 [Train]:  11%|█         | 11/100 [00:03<00:23,  3.73it/s, Loss=3.2827]"
          ]
        },
        {
          "output_type": "stream",
          "name": "stdout",
          "text": [
            "*** DEBUG: Batch 10 COMPLETED - Memory cleared ***\n"
          ]
        },
        {
          "output_type": "stream",
          "name": "stderr",
          "text": [
            "Fold 2 Epoch 25/30 [Train]:  21%|██        | 21/100 [00:05<00:22,  3.55it/s, Loss=3.0901]"
          ]
        },
        {
          "output_type": "stream",
          "name": "stdout",
          "text": [
            "*** DEBUG: Batch 20 COMPLETED - Memory cleared ***\n"
          ]
        },
        {
          "output_type": "stream",
          "name": "stderr",
          "text": [
            "Fold 2 Epoch 25/30 [Train]:  31%|███       | 31/100 [00:08<00:18,  3.80it/s, Loss=2.9967]"
          ]
        },
        {
          "output_type": "stream",
          "name": "stdout",
          "text": [
            "*** DEBUG: Batch 30 COMPLETED - Memory cleared ***\n"
          ]
        },
        {
          "output_type": "stream",
          "name": "stderr",
          "text": [
            "Fold 2 Epoch 25/30 [Train]:  41%|████      | 41/100 [00:11<00:15,  3.81it/s, Loss=3.2886]"
          ]
        },
        {
          "output_type": "stream",
          "name": "stdout",
          "text": [
            "*** DEBUG: Batch 40 COMPLETED - Memory cleared ***\n"
          ]
        },
        {
          "output_type": "stream",
          "name": "stderr",
          "text": [
            "Fold 2 Epoch 25/30 [Train]:  51%|█████     | 51/100 [00:13<00:12,  3.85it/s, Loss=3.3522]"
          ]
        },
        {
          "output_type": "stream",
          "name": "stdout",
          "text": [
            "*** DEBUG: Batch 50 COMPLETED - Memory cleared ***\n"
          ]
        },
        {
          "output_type": "stream",
          "name": "stderr",
          "text": [
            "Fold 2 Epoch 25/30 [Train]:  61%|██████    | 61/100 [00:16<00:09,  3.97it/s, Loss=3.2773]"
          ]
        },
        {
          "output_type": "stream",
          "name": "stdout",
          "text": [
            "*** DEBUG: Batch 60 COMPLETED - Memory cleared ***\n"
          ]
        },
        {
          "output_type": "stream",
          "name": "stderr",
          "text": [
            "Fold 2 Epoch 25/30 [Train]:  71%|███████   | 71/100 [00:18<00:07,  3.95it/s, Loss=3.0593]"
          ]
        },
        {
          "output_type": "stream",
          "name": "stdout",
          "text": [
            "*** DEBUG: Batch 70 COMPLETED - Memory cleared ***\n"
          ]
        },
        {
          "output_type": "stream",
          "name": "stderr",
          "text": [
            "Fold 2 Epoch 25/30 [Train]:  81%|████████  | 81/100 [00:21<00:04,  3.83it/s, Loss=2.8796]"
          ]
        },
        {
          "output_type": "stream",
          "name": "stdout",
          "text": [
            "*** DEBUG: Batch 80 COMPLETED - Memory cleared ***\n"
          ]
        },
        {
          "output_type": "stream",
          "name": "stderr",
          "text": [
            "Fold 2 Epoch 25/30 [Train]:  91%|█████████ | 91/100 [00:23<00:02,  3.59it/s, Loss=3.3347]"
          ]
        },
        {
          "output_type": "stream",
          "name": "stdout",
          "text": [
            "*** DEBUG: Batch 90 COMPLETED - Memory cleared ***\n"
          ]
        },
        {
          "output_type": "stream",
          "name": "stderr",
          "text": [
            "Fold 2 Epoch 25/30 [Train]: 100%|██████████| 100/100 [00:25<00:00,  3.85it/s, Loss=2.9872]\n",
            "Fold 2 Epoch 25/30 [Val]: 100%|██████████| 25/25 [00:06<00:00,  3.74it/s, Loss=8.2382]\n"
          ]
        },
        {
          "output_type": "stream",
          "name": "stdout",
          "text": [
            "Fold 2 Epoch 25/30:\n",
            "  Train MAPE: 3.1416%\n",
            "  Val MAPE: 9.3093%\n",
            "  LR: 0.000050\n",
            "--------------------------------------------------\n"
          ]
        },
        {
          "output_type": "stream",
          "name": "stderr",
          "text": [
            "Fold 2 Epoch 26/30 [Train]:   1%|          | 1/100 [00:00<01:09,  1.42it/s, Loss=2.9942]"
          ]
        },
        {
          "output_type": "stream",
          "name": "stdout",
          "text": [
            "*** DEBUG: Batch 0 COMPLETED - Memory cleared ***\n"
          ]
        },
        {
          "output_type": "stream",
          "name": "stderr",
          "text": [
            "Fold 2 Epoch 26/30 [Train]:  11%|█         | 11/100 [00:03<00:25,  3.48it/s, Loss=2.8234]"
          ]
        },
        {
          "output_type": "stream",
          "name": "stdout",
          "text": [
            "*** DEBUG: Batch 10 COMPLETED - Memory cleared ***\n"
          ]
        },
        {
          "output_type": "stream",
          "name": "stderr",
          "text": [
            "Fold 2 Epoch 26/30 [Train]:  21%|██        | 21/100 [00:05<00:20,  3.88it/s, Loss=3.0264]"
          ]
        },
        {
          "output_type": "stream",
          "name": "stdout",
          "text": [
            "*** DEBUG: Batch 20 COMPLETED - Memory cleared ***\n"
          ]
        },
        {
          "output_type": "stream",
          "name": "stderr",
          "text": [
            "Fold 2 Epoch 26/30 [Train]:  31%|███       | 31/100 [00:08<00:17,  3.86it/s, Loss=3.8581]"
          ]
        },
        {
          "output_type": "stream",
          "name": "stdout",
          "text": [
            "*** DEBUG: Batch 30 COMPLETED - Memory cleared ***\n"
          ]
        },
        {
          "output_type": "stream",
          "name": "stderr",
          "text": [
            "Fold 2 Epoch 26/30 [Train]:  41%|████      | 41/100 [00:11<00:15,  3.83it/s, Loss=3.2449]"
          ]
        },
        {
          "output_type": "stream",
          "name": "stdout",
          "text": [
            "*** DEBUG: Batch 40 COMPLETED - Memory cleared ***\n"
          ]
        },
        {
          "output_type": "stream",
          "name": "stderr",
          "text": [
            "Fold 2 Epoch 26/30 [Train]:  51%|█████     | 51/100 [00:13<00:12,  3.78it/s, Loss=3.1546]"
          ]
        },
        {
          "output_type": "stream",
          "name": "stdout",
          "text": [
            "*** DEBUG: Batch 50 COMPLETED - Memory cleared ***\n"
          ]
        },
        {
          "output_type": "stream",
          "name": "stderr",
          "text": [
            "Fold 2 Epoch 26/30 [Train]:  61%|██████    | 61/100 [00:16<00:10,  3.87it/s, Loss=3.0367]"
          ]
        },
        {
          "output_type": "stream",
          "name": "stdout",
          "text": [
            "*** DEBUG: Batch 60 COMPLETED - Memory cleared ***\n"
          ]
        },
        {
          "output_type": "stream",
          "name": "stderr",
          "text": [
            "Fold 2 Epoch 26/30 [Train]:  71%|███████   | 71/100 [00:19<00:07,  3.80it/s, Loss=3.2117]"
          ]
        },
        {
          "output_type": "stream",
          "name": "stdout",
          "text": [
            "*** DEBUG: Batch 70 COMPLETED - Memory cleared ***\n"
          ]
        },
        {
          "output_type": "stream",
          "name": "stderr",
          "text": [
            "Fold 2 Epoch 26/30 [Train]:  81%|████████  | 81/100 [00:21<00:04,  3.86it/s, Loss=3.4279]"
          ]
        },
        {
          "output_type": "stream",
          "name": "stdout",
          "text": [
            "*** DEBUG: Batch 80 COMPLETED - Memory cleared ***\n"
          ]
        },
        {
          "output_type": "stream",
          "name": "stderr",
          "text": [
            "Fold 2 Epoch 26/30 [Train]:  91%|█████████ | 91/100 [00:24<00:02,  3.86it/s, Loss=3.3619]"
          ]
        },
        {
          "output_type": "stream",
          "name": "stdout",
          "text": [
            "*** DEBUG: Batch 90 COMPLETED - Memory cleared ***\n"
          ]
        },
        {
          "output_type": "stream",
          "name": "stderr",
          "text": [
            "Fold 2 Epoch 26/30 [Train]: 100%|██████████| 100/100 [00:26<00:00,  3.80it/s, Loss=2.9368]\n",
            "Fold 2 Epoch 26/30 [Val]: 100%|██████████| 25/25 [00:06<00:00,  3.81it/s, Loss=11.8823]\n"
          ]
        },
        {
          "output_type": "stream",
          "name": "stdout",
          "text": [
            "Fold 2 Epoch 26/30:\n",
            "  Train MAPE: 3.1400%\n",
            "  Val MAPE: 14.5762%\n",
            "  LR: 0.000050\n",
            "--------------------------------------------------\n"
          ]
        },
        {
          "output_type": "stream",
          "name": "stderr",
          "text": [
            "Fold 2 Epoch 27/30 [Train]:   1%|          | 1/100 [00:00<01:06,  1.49it/s, Loss=3.2894]"
          ]
        },
        {
          "output_type": "stream",
          "name": "stdout",
          "text": [
            "*** DEBUG: Batch 0 COMPLETED - Memory cleared ***\n"
          ]
        },
        {
          "output_type": "stream",
          "name": "stderr",
          "text": [
            "Fold 2 Epoch 27/30 [Train]:  11%|█         | 11/100 [00:03<00:23,  3.77it/s, Loss=3.1636]"
          ]
        },
        {
          "output_type": "stream",
          "name": "stdout",
          "text": [
            "*** DEBUG: Batch 10 COMPLETED - Memory cleared ***\n"
          ]
        },
        {
          "output_type": "stream",
          "name": "stderr",
          "text": [
            "Fold 2 Epoch 27/30 [Train]:  21%|██        | 21/100 [00:05<00:21,  3.63it/s, Loss=3.0948]"
          ]
        },
        {
          "output_type": "stream",
          "name": "stdout",
          "text": [
            "*** DEBUG: Batch 20 COMPLETED - Memory cleared ***\n"
          ]
        },
        {
          "output_type": "stream",
          "name": "stderr",
          "text": [
            "Fold 2 Epoch 27/30 [Train]:  31%|███       | 31/100 [00:08<00:17,  3.95it/s, Loss=3.2055]"
          ]
        },
        {
          "output_type": "stream",
          "name": "stdout",
          "text": [
            "*** DEBUG: Batch 30 COMPLETED - Memory cleared ***\n"
          ]
        },
        {
          "output_type": "stream",
          "name": "stderr",
          "text": [
            "Fold 2 Epoch 27/30 [Train]:  41%|████      | 41/100 [00:11<00:15,  3.89it/s, Loss=3.4936]"
          ]
        },
        {
          "output_type": "stream",
          "name": "stdout",
          "text": [
            "*** DEBUG: Batch 40 COMPLETED - Memory cleared ***\n"
          ]
        },
        {
          "output_type": "stream",
          "name": "stderr",
          "text": [
            "Fold 2 Epoch 27/30 [Train]:  51%|█████     | 51/100 [00:13<00:12,  3.82it/s, Loss=3.3266]"
          ]
        },
        {
          "output_type": "stream",
          "name": "stdout",
          "text": [
            "*** DEBUG: Batch 50 COMPLETED - Memory cleared ***\n"
          ]
        },
        {
          "output_type": "stream",
          "name": "stderr",
          "text": [
            "Fold 2 Epoch 27/30 [Train]:  61%|██████    | 61/100 [00:16<00:09,  3.91it/s, Loss=2.8940]"
          ]
        },
        {
          "output_type": "stream",
          "name": "stdout",
          "text": [
            "*** DEBUG: Batch 60 COMPLETED - Memory cleared ***\n"
          ]
        },
        {
          "output_type": "stream",
          "name": "stderr",
          "text": [
            "Fold 2 Epoch 27/30 [Train]:  71%|███████   | 71/100 [00:18<00:07,  3.76it/s, Loss=2.9916]"
          ]
        },
        {
          "output_type": "stream",
          "name": "stdout",
          "text": [
            "*** DEBUG: Batch 70 COMPLETED - Memory cleared ***\n"
          ]
        },
        {
          "output_type": "stream",
          "name": "stderr",
          "text": [
            "Fold 2 Epoch 27/30 [Train]:  81%|████████  | 81/100 [00:21<00:04,  3.86it/s, Loss=2.8261]"
          ]
        },
        {
          "output_type": "stream",
          "name": "stdout",
          "text": [
            "*** DEBUG: Batch 80 COMPLETED - Memory cleared ***\n"
          ]
        },
        {
          "output_type": "stream",
          "name": "stderr",
          "text": [
            "Fold 2 Epoch 27/30 [Train]:  91%|█████████ | 91/100 [00:24<00:02,  3.92it/s, Loss=3.1214]"
          ]
        },
        {
          "output_type": "stream",
          "name": "stdout",
          "text": [
            "*** DEBUG: Batch 90 COMPLETED - Memory cleared ***\n"
          ]
        },
        {
          "output_type": "stream",
          "name": "stderr",
          "text": [
            "Fold 2 Epoch 27/30 [Train]: 100%|██████████| 100/100 [00:26<00:00,  3.83it/s, Loss=2.9086]\n",
            "Fold 2 Epoch 27/30 [Val]: 100%|██████████| 25/25 [00:06<00:00,  3.78it/s, Loss=12.8379]\n"
          ]
        },
        {
          "output_type": "stream",
          "name": "stdout",
          "text": [
            "Fold 2 Epoch 27/30:\n",
            "  Train MAPE: 3.1048%\n",
            "  Val MAPE: 14.3020%\n",
            "  LR: 0.000050\n",
            "--------------------------------------------------\n"
          ]
        },
        {
          "output_type": "stream",
          "name": "stderr",
          "text": [
            "Fold 2 Epoch 28/30 [Train]:   1%|          | 1/100 [00:00<01:07,  1.46it/s, Loss=2.9511]"
          ]
        },
        {
          "output_type": "stream",
          "name": "stdout",
          "text": [
            "*** DEBUG: Batch 0 COMPLETED - Memory cleared ***\n"
          ]
        },
        {
          "output_type": "stream",
          "name": "stderr",
          "text": [
            "Fold 2 Epoch 28/30 [Train]:  11%|█         | 11/100 [00:03<00:23,  3.71it/s, Loss=2.9576]"
          ]
        },
        {
          "output_type": "stream",
          "name": "stdout",
          "text": [
            "*** DEBUG: Batch 10 COMPLETED - Memory cleared ***\n"
          ]
        },
        {
          "output_type": "stream",
          "name": "stderr",
          "text": [
            "Fold 2 Epoch 28/30 [Train]:  21%|██        | 21/100 [00:05<00:20,  3.95it/s, Loss=3.6971]"
          ]
        },
        {
          "output_type": "stream",
          "name": "stdout",
          "text": [
            "*** DEBUG: Batch 20 COMPLETED - Memory cleared ***\n"
          ]
        },
        {
          "output_type": "stream",
          "name": "stderr",
          "text": [
            "Fold 2 Epoch 28/30 [Train]:  31%|███       | 31/100 [00:08<00:17,  3.93it/s, Loss=3.1554]"
          ]
        },
        {
          "output_type": "stream",
          "name": "stdout",
          "text": [
            "*** DEBUG: Batch 30 COMPLETED - Memory cleared ***\n"
          ]
        },
        {
          "output_type": "stream",
          "name": "stderr",
          "text": [
            "Fold 2 Epoch 28/30 [Train]:  41%|████      | 41/100 [00:11<00:15,  3.72it/s, Loss=3.2423]"
          ]
        },
        {
          "output_type": "stream",
          "name": "stdout",
          "text": [
            "*** DEBUG: Batch 40 COMPLETED - Memory cleared ***\n"
          ]
        },
        {
          "output_type": "stream",
          "name": "stderr",
          "text": [
            "Fold 2 Epoch 28/30 [Train]:  51%|█████     | 51/100 [00:13<00:12,  3.84it/s, Loss=3.4609]"
          ]
        },
        {
          "output_type": "stream",
          "name": "stdout",
          "text": [
            "*** DEBUG: Batch 50 COMPLETED - Memory cleared ***\n"
          ]
        },
        {
          "output_type": "stream",
          "name": "stderr",
          "text": [
            "Fold 2 Epoch 28/30 [Train]:  61%|██████    | 61/100 [00:16<00:09,  3.96it/s, Loss=3.0878]"
          ]
        },
        {
          "output_type": "stream",
          "name": "stdout",
          "text": [
            "*** DEBUG: Batch 60 COMPLETED - Memory cleared ***\n"
          ]
        },
        {
          "output_type": "stream",
          "name": "stderr",
          "text": [
            "Fold 2 Epoch 28/30 [Train]:  71%|███████   | 71/100 [00:18<00:07,  3.83it/s, Loss=3.1691]"
          ]
        },
        {
          "output_type": "stream",
          "name": "stdout",
          "text": [
            "*** DEBUG: Batch 70 COMPLETED - Memory cleared ***\n"
          ]
        },
        {
          "output_type": "stream",
          "name": "stderr",
          "text": [
            "Fold 2 Epoch 28/30 [Train]:  81%|████████  | 81/100 [00:21<00:04,  3.83it/s, Loss=2.9860]"
          ]
        },
        {
          "output_type": "stream",
          "name": "stdout",
          "text": [
            "*** DEBUG: Batch 80 COMPLETED - Memory cleared ***\n"
          ]
        },
        {
          "output_type": "stream",
          "name": "stderr",
          "text": [
            "Fold 2 Epoch 28/30 [Train]:  91%|█████████ | 91/100 [00:24<00:02,  3.74it/s, Loss=2.9218]"
          ]
        },
        {
          "output_type": "stream",
          "name": "stdout",
          "text": [
            "*** DEBUG: Batch 90 COMPLETED - Memory cleared ***\n"
          ]
        },
        {
          "output_type": "stream",
          "name": "stderr",
          "text": [
            "Fold 2 Epoch 28/30 [Train]: 100%|██████████| 100/100 [00:26<00:00,  3.82it/s, Loss=3.4201]\n",
            "Fold 2 Epoch 28/30 [Val]: 100%|██████████| 25/25 [00:06<00:00,  3.84it/s, Loss=3.4626]\n"
          ]
        },
        {
          "output_type": "stream",
          "name": "stdout",
          "text": [
            "Fold 2 Epoch 28/30:\n",
            "  Train MAPE: 3.1347%\n",
            "  Val MAPE: 3.6392%\n",
            "  LR: 0.000050\n",
            "--------------------------------------------------\n",
            "Fold 2: New best model saved with Val MAPE = 3.6392%\n"
          ]
        },
        {
          "output_type": "stream",
          "name": "stderr",
          "text": [
            "Fold 2 Epoch 29/30 [Train]:   1%|          | 1/100 [00:01<02:59,  1.81s/it, Loss=3.5537]"
          ]
        },
        {
          "output_type": "stream",
          "name": "stdout",
          "text": [
            "*** DEBUG: Batch 0 COMPLETED - Memory cleared ***\n"
          ]
        },
        {
          "output_type": "stream",
          "name": "stderr",
          "text": [
            "Fold 2 Epoch 29/30 [Train]:  11%|█         | 11/100 [00:04<00:26,  3.32it/s, Loss=2.9233]"
          ]
        },
        {
          "output_type": "stream",
          "name": "stdout",
          "text": [
            "*** DEBUG: Batch 10 COMPLETED - Memory cleared ***\n"
          ]
        },
        {
          "output_type": "stream",
          "name": "stderr",
          "text": [
            "Fold 2 Epoch 29/30 [Train]:  21%|██        | 21/100 [00:07<00:21,  3.68it/s, Loss=3.0641]"
          ]
        },
        {
          "output_type": "stream",
          "name": "stdout",
          "text": [
            "*** DEBUG: Batch 20 COMPLETED - Memory cleared ***\n"
          ]
        },
        {
          "output_type": "stream",
          "name": "stderr",
          "text": [
            "Fold 2 Epoch 29/30 [Train]:  31%|███       | 31/100 [00:09<00:18,  3.78it/s, Loss=3.1115]"
          ]
        },
        {
          "output_type": "stream",
          "name": "stdout",
          "text": [
            "*** DEBUG: Batch 30 COMPLETED - Memory cleared ***\n"
          ]
        },
        {
          "output_type": "stream",
          "name": "stderr",
          "text": [
            "Fold 2 Epoch 29/30 [Train]:  41%|████      | 41/100 [00:19<00:37,  1.57it/s, Loss=2.7744]"
          ]
        },
        {
          "output_type": "stream",
          "name": "stdout",
          "text": [
            "*** DEBUG: Batch 40 COMPLETED - Memory cleared ***\n"
          ]
        },
        {
          "output_type": "stream",
          "name": "stderr",
          "text": [
            "Fold 2 Epoch 29/30 [Train]:  51%|█████     | 51/100 [00:22<00:16,  3.05it/s, Loss=3.1783]"
          ]
        },
        {
          "output_type": "stream",
          "name": "stdout",
          "text": [
            "*** DEBUG: Batch 50 COMPLETED - Memory cleared ***\n"
          ]
        },
        {
          "output_type": "stream",
          "name": "stderr",
          "text": [
            "Fold 2 Epoch 29/30 [Train]:  61%|██████    | 61/100 [00:24<00:11,  3.50it/s, Loss=3.2339]"
          ]
        },
        {
          "output_type": "stream",
          "name": "stdout",
          "text": [
            "*** DEBUG: Batch 60 COMPLETED - Memory cleared ***\n"
          ]
        },
        {
          "output_type": "stream",
          "name": "stderr",
          "text": [
            "Fold 2 Epoch 29/30 [Train]:  71%|███████   | 71/100 [00:27<00:08,  3.62it/s, Loss=2.8094]"
          ]
        },
        {
          "output_type": "stream",
          "name": "stdout",
          "text": [
            "*** DEBUG: Batch 70 COMPLETED - Memory cleared ***\n"
          ]
        },
        {
          "output_type": "stream",
          "name": "stderr",
          "text": [
            "Fold 2 Epoch 29/30 [Train]:  81%|████████  | 81/100 [00:30<00:05,  3.71it/s, Loss=2.9587]"
          ]
        },
        {
          "output_type": "stream",
          "name": "stdout",
          "text": [
            "*** DEBUG: Batch 80 COMPLETED - Memory cleared ***\n"
          ]
        },
        {
          "output_type": "stream",
          "name": "stderr",
          "text": [
            "Fold 2 Epoch 29/30 [Train]:  91%|█████████ | 91/100 [00:32<00:02,  3.90it/s, Loss=3.0139]"
          ]
        },
        {
          "output_type": "stream",
          "name": "stdout",
          "text": [
            "*** DEBUG: Batch 90 COMPLETED - Memory cleared ***\n"
          ]
        },
        {
          "output_type": "stream",
          "name": "stderr",
          "text": [
            "Fold 2 Epoch 29/30 [Train]: 100%|██████████| 100/100 [00:35<00:00,  2.85it/s, Loss=3.0151]\n",
            "Fold 2 Epoch 29/30 [Val]: 100%|██████████| 25/25 [00:06<00:00,  3.62it/s, Loss=6.2217]\n"
          ]
        },
        {
          "output_type": "stream",
          "name": "stdout",
          "text": [
            "Fold 2 Epoch 29/30:\n",
            "  Train MAPE: 3.0761%\n",
            "  Val MAPE: 6.1542%\n",
            "  LR: 0.000050\n",
            "--------------------------------------------------\n"
          ]
        },
        {
          "output_type": "stream",
          "name": "stderr",
          "text": [
            "Fold 2 Epoch 30/30 [Train]:   1%|          | 1/100 [00:00<01:04,  1.54it/s, Loss=3.0664]"
          ]
        },
        {
          "output_type": "stream",
          "name": "stdout",
          "text": [
            "*** DEBUG: Batch 0 COMPLETED - Memory cleared ***\n"
          ]
        },
        {
          "output_type": "stream",
          "name": "stderr",
          "text": [
            "Fold 2 Epoch 30/30 [Train]:  11%|█         | 11/100 [00:03<00:23,  3.84it/s, Loss=3.2107]"
          ]
        },
        {
          "output_type": "stream",
          "name": "stdout",
          "text": [
            "*** DEBUG: Batch 10 COMPLETED - Memory cleared ***\n"
          ]
        },
        {
          "output_type": "stream",
          "name": "stderr",
          "text": [
            "Fold 2 Epoch 30/30 [Train]:  21%|██        | 21/100 [00:05<00:20,  3.94it/s, Loss=2.8387]"
          ]
        },
        {
          "output_type": "stream",
          "name": "stdout",
          "text": [
            "*** DEBUG: Batch 20 COMPLETED - Memory cleared ***\n"
          ]
        },
        {
          "output_type": "stream",
          "name": "stderr",
          "text": [
            "Fold 2 Epoch 30/30 [Train]:  31%|███       | 31/100 [00:08<00:17,  3.87it/s, Loss=3.0776]"
          ]
        },
        {
          "output_type": "stream",
          "name": "stdout",
          "text": [
            "*** DEBUG: Batch 30 COMPLETED - Memory cleared ***\n"
          ]
        },
        {
          "output_type": "stream",
          "name": "stderr",
          "text": [
            "Fold 2 Epoch 30/30 [Train]:  41%|████      | 41/100 [00:10<00:15,  3.78it/s, Loss=3.0559]"
          ]
        },
        {
          "output_type": "stream",
          "name": "stdout",
          "text": [
            "*** DEBUG: Batch 40 COMPLETED - Memory cleared ***\n"
          ]
        },
        {
          "output_type": "stream",
          "name": "stderr",
          "text": [
            "Fold 2 Epoch 30/30 [Train]:  51%|█████     | 51/100 [00:13<00:12,  3.80it/s, Loss=3.4108]"
          ]
        },
        {
          "output_type": "stream",
          "name": "stdout",
          "text": [
            "*** DEBUG: Batch 50 COMPLETED - Memory cleared ***\n"
          ]
        },
        {
          "output_type": "stream",
          "name": "stderr",
          "text": [
            "Fold 2 Epoch 30/30 [Train]:  61%|██████    | 61/100 [00:16<00:09,  3.98it/s, Loss=3.3411]"
          ]
        },
        {
          "output_type": "stream",
          "name": "stdout",
          "text": [
            "*** DEBUG: Batch 60 COMPLETED - Memory cleared ***\n"
          ]
        },
        {
          "output_type": "stream",
          "name": "stderr",
          "text": [
            "Fold 2 Epoch 30/30 [Train]:  71%|███████   | 71/100 [00:18<00:07,  3.89it/s, Loss=2.9478]"
          ]
        },
        {
          "output_type": "stream",
          "name": "stdout",
          "text": [
            "*** DEBUG: Batch 70 COMPLETED - Memory cleared ***\n"
          ]
        },
        {
          "output_type": "stream",
          "name": "stderr",
          "text": [
            "Fold 2 Epoch 30/30 [Train]:  81%|████████  | 81/100 [00:21<00:04,  3.87it/s, Loss=3.2866]"
          ]
        },
        {
          "output_type": "stream",
          "name": "stdout",
          "text": [
            "*** DEBUG: Batch 80 COMPLETED - Memory cleared ***\n"
          ]
        },
        {
          "output_type": "stream",
          "name": "stderr",
          "text": [
            "Fold 2 Epoch 30/30 [Train]:  91%|█████████ | 91/100 [00:23<00:02,  3.86it/s, Loss=2.6406]"
          ]
        },
        {
          "output_type": "stream",
          "name": "stdout",
          "text": [
            "*** DEBUG: Batch 90 COMPLETED - Memory cleared ***\n"
          ]
        },
        {
          "output_type": "stream",
          "name": "stderr",
          "text": [
            "Fold 2 Epoch 30/30 [Train]: 100%|██████████| 100/100 [00:25<00:00,  3.86it/s, Loss=2.8276]\n",
            "Fold 2 Epoch 30/30 [Val]: 100%|██████████| 25/25 [00:06<00:00,  3.69it/s, Loss=7.0045]\n"
          ]
        },
        {
          "output_type": "stream",
          "name": "stdout",
          "text": [
            "Fold 2 Epoch 30/30:\n",
            "  Train MAPE: 3.0910%\n",
            "  Val MAPE: 6.7093%\n",
            "  LR: 0.000050\n",
            "--------------------------------------------------\n",
            "Fold 2 completed with Val MAPE: 3.6392%\n",
            "\n",
            "=== Training Fold 3 ===\n"
          ]
        },
        {
          "output_type": "stream",
          "name": "stderr",
          "text": [
            "Fold 3 Epoch 1/30 [Train]:   1%|          | 1/100 [00:00<01:03,  1.55it/s, Loss=79.5697]"
          ]
        },
        {
          "output_type": "stream",
          "name": "stdout",
          "text": [
            "*** DEBUG: Batch 0 COMPLETED - Memory cleared ***\n"
          ]
        },
        {
          "output_type": "stream",
          "name": "stderr",
          "text": [
            "Fold 3 Epoch 1/30 [Train]:  11%|█         | 11/100 [00:03<00:24,  3.59it/s, Loss=66.7766]"
          ]
        },
        {
          "output_type": "stream",
          "name": "stdout",
          "text": [
            "*** DEBUG: Batch 10 COMPLETED - Memory cleared ***\n"
          ]
        },
        {
          "output_type": "stream",
          "name": "stderr",
          "text": [
            "Fold 3 Epoch 1/30 [Train]:  21%|██        | 21/100 [00:05<00:20,  3.89it/s, Loss=60.5893]"
          ]
        },
        {
          "output_type": "stream",
          "name": "stdout",
          "text": [
            "*** DEBUG: Batch 20 COMPLETED - Memory cleared ***\n"
          ]
        },
        {
          "output_type": "stream",
          "name": "stderr",
          "text": [
            "Fold 3 Epoch 1/30 [Train]:  31%|███       | 31/100 [00:08<00:17,  3.89it/s, Loss=57.2828]"
          ]
        },
        {
          "output_type": "stream",
          "name": "stdout",
          "text": [
            "*** DEBUG: Batch 30 COMPLETED - Memory cleared ***\n"
          ]
        },
        {
          "output_type": "stream",
          "name": "stderr",
          "text": [
            "Fold 3 Epoch 1/30 [Train]:  41%|████      | 41/100 [00:11<00:15,  3.72it/s, Loss=54.9925]"
          ]
        },
        {
          "output_type": "stream",
          "name": "stdout",
          "text": [
            "*** DEBUG: Batch 40 COMPLETED - Memory cleared ***\n"
          ]
        },
        {
          "output_type": "stream",
          "name": "stderr",
          "text": [
            "Fold 3 Epoch 1/30 [Train]:  51%|█████     | 51/100 [00:13<00:12,  3.83it/s, Loss=52.6201]"
          ]
        },
        {
          "output_type": "stream",
          "name": "stdout",
          "text": [
            "*** DEBUG: Batch 50 COMPLETED - Memory cleared ***\n"
          ]
        },
        {
          "output_type": "stream",
          "name": "stderr",
          "text": [
            "Fold 3 Epoch 1/30 [Train]:  61%|██████    | 61/100 [00:16<00:10,  3.84it/s, Loss=51.5273]"
          ]
        },
        {
          "output_type": "stream",
          "name": "stdout",
          "text": [
            "*** DEBUG: Batch 60 COMPLETED - Memory cleared ***\n"
          ]
        },
        {
          "output_type": "stream",
          "name": "stderr",
          "text": [
            "Fold 3 Epoch 1/30 [Train]:  71%|███████   | 71/100 [00:18<00:07,  3.89it/s, Loss=48.5556]"
          ]
        },
        {
          "output_type": "stream",
          "name": "stdout",
          "text": [
            "*** DEBUG: Batch 70 COMPLETED - Memory cleared ***\n"
          ]
        },
        {
          "output_type": "stream",
          "name": "stderr",
          "text": [
            "Fold 3 Epoch 1/30 [Train]:  81%|████████  | 81/100 [00:21<00:04,  3.90it/s, Loss=47.2864]"
          ]
        },
        {
          "output_type": "stream",
          "name": "stdout",
          "text": [
            "*** DEBUG: Batch 80 COMPLETED - Memory cleared ***\n"
          ]
        },
        {
          "output_type": "stream",
          "name": "stderr",
          "text": [
            "Fold 3 Epoch 1/30 [Train]:  91%|█████████ | 91/100 [00:24<00:02,  3.74it/s, Loss=46.5368]"
          ]
        },
        {
          "output_type": "stream",
          "name": "stdout",
          "text": [
            "*** DEBUG: Batch 90 COMPLETED - Memory cleared ***\n"
          ]
        },
        {
          "output_type": "stream",
          "name": "stderr",
          "text": [
            "Fold 3 Epoch 1/30 [Train]: 100%|██████████| 100/100 [00:26<00:00,  3.80it/s, Loss=45.6847]\n",
            "Fold 3 Epoch 1/30 [Val]: 100%|██████████| 25/25 [00:06<00:00,  3.76it/s, Loss=46.5624]\n"
          ]
        },
        {
          "output_type": "stream",
          "name": "stdout",
          "text": [
            "Fold 3 Epoch 1/30:\n",
            "  Train MAPE: 55.3182%\n",
            "  Val MAPE: 48.1178%\n",
            "  LR: 0.000100\n",
            "--------------------------------------------------\n",
            "Fold 3: New best model saved with Val MAPE = 48.1178%\n"
          ]
        },
        {
          "output_type": "stream",
          "name": "stderr",
          "text": [
            "Fold 3 Epoch 2/30 [Train]:   1%|          | 1/100 [00:01<03:01,  1.83s/it, Loss=47.0130]"
          ]
        },
        {
          "output_type": "stream",
          "name": "stdout",
          "text": [
            "*** DEBUG: Batch 0 COMPLETED - Memory cleared ***\n"
          ]
        },
        {
          "output_type": "stream",
          "name": "stderr",
          "text": [
            "Fold 3 Epoch 2/30 [Train]:  11%|█         | 11/100 [00:04<00:27,  3.28it/s, Loss=43.6544]"
          ]
        },
        {
          "output_type": "stream",
          "name": "stdout",
          "text": [
            "*** DEBUG: Batch 10 COMPLETED - Memory cleared ***\n"
          ]
        },
        {
          "output_type": "stream",
          "name": "stderr",
          "text": [
            "Fold 3 Epoch 2/30 [Train]:  21%|██        | 21/100 [00:07<00:20,  3.78it/s, Loss=44.6776]"
          ]
        },
        {
          "output_type": "stream",
          "name": "stdout",
          "text": [
            "*** DEBUG: Batch 20 COMPLETED - Memory cleared ***\n"
          ]
        },
        {
          "output_type": "stream",
          "name": "stderr",
          "text": [
            "Fold 3 Epoch 2/30 [Train]:  31%|███       | 31/100 [00:09<00:17,  3.90it/s, Loss=45.0738]"
          ]
        },
        {
          "output_type": "stream",
          "name": "stdout",
          "text": [
            "*** DEBUG: Batch 30 COMPLETED - Memory cleared ***\n"
          ]
        },
        {
          "output_type": "stream",
          "name": "stderr",
          "text": [
            "Fold 3 Epoch 2/30 [Train]:  41%|████      | 41/100 [00:19<01:00,  1.02s/it, Loss=44.0415]"
          ]
        },
        {
          "output_type": "stream",
          "name": "stdout",
          "text": [
            "*** DEBUG: Batch 40 COMPLETED - Memory cleared ***\n"
          ]
        },
        {
          "output_type": "stream",
          "name": "stderr",
          "text": [
            "Fold 3 Epoch 2/30 [Train]:  51%|█████     | 51/100 [00:22<00:19,  2.55it/s, Loss=42.3831]"
          ]
        },
        {
          "output_type": "stream",
          "name": "stdout",
          "text": [
            "*** DEBUG: Batch 50 COMPLETED - Memory cleared ***\n"
          ]
        },
        {
          "output_type": "stream",
          "name": "stderr",
          "text": [
            "Fold 3 Epoch 2/30 [Train]:  61%|██████    | 61/100 [00:24<00:11,  3.45it/s, Loss=41.2989]"
          ]
        },
        {
          "output_type": "stream",
          "name": "stdout",
          "text": [
            "*** DEBUG: Batch 60 COMPLETED - Memory cleared ***\n"
          ]
        },
        {
          "output_type": "stream",
          "name": "stderr",
          "text": [
            "Fold 3 Epoch 2/30 [Train]:  71%|███████   | 71/100 [00:27<00:07,  3.72it/s, Loss=39.7893]"
          ]
        },
        {
          "output_type": "stream",
          "name": "stdout",
          "text": [
            "*** DEBUG: Batch 70 COMPLETED - Memory cleared ***\n"
          ]
        },
        {
          "output_type": "stream",
          "name": "stderr",
          "text": [
            "Fold 3 Epoch 2/30 [Train]:  81%|████████  | 81/100 [00:30<00:05,  3.64it/s, Loss=39.8685]"
          ]
        },
        {
          "output_type": "stream",
          "name": "stdout",
          "text": [
            "*** DEBUG: Batch 80 COMPLETED - Memory cleared ***\n"
          ]
        },
        {
          "output_type": "stream",
          "name": "stderr",
          "text": [
            "Fold 3 Epoch 2/30 [Train]:  91%|█████████ | 91/100 [00:32<00:02,  3.73it/s, Loss=39.0853]"
          ]
        },
        {
          "output_type": "stream",
          "name": "stdout",
          "text": [
            "*** DEBUG: Batch 90 COMPLETED - Memory cleared ***\n"
          ]
        },
        {
          "output_type": "stream",
          "name": "stderr",
          "text": [
            "Fold 3 Epoch 2/30 [Train]: 100%|██████████| 100/100 [00:35<00:00,  2.85it/s, Loss=37.0940]\n",
            "Fold 3 Epoch 2/30 [Val]: 100%|██████████| 25/25 [00:06<00:00,  3.70it/s, Loss=26.5590]\n"
          ]
        },
        {
          "output_type": "stream",
          "name": "stdout",
          "text": [
            "Fold 3 Epoch 2/30:\n",
            "  Train MAPE: 41.7930%\n",
            "  Val MAPE: 26.8628%\n",
            "  LR: 0.000100\n",
            "--------------------------------------------------\n",
            "Fold 3: New best model saved with Val MAPE = 26.8628%\n"
          ]
        },
        {
          "output_type": "stream",
          "name": "stderr",
          "text": [
            "Fold 3 Epoch 3/30 [Train]:   1%|          | 1/100 [00:01<02:57,  1.79s/it, Loss=37.5321]"
          ]
        },
        {
          "output_type": "stream",
          "name": "stdout",
          "text": [
            "*** DEBUG: Batch 0 COMPLETED - Memory cleared ***\n"
          ]
        },
        {
          "output_type": "stream",
          "name": "stderr",
          "text": [
            "Fold 3 Epoch 3/30 [Train]:  11%|█         | 11/100 [00:04<00:26,  3.35it/s, Loss=36.1453]"
          ]
        },
        {
          "output_type": "stream",
          "name": "stdout",
          "text": [
            "*** DEBUG: Batch 10 COMPLETED - Memory cleared ***\n"
          ]
        },
        {
          "output_type": "stream",
          "name": "stderr",
          "text": [
            "Fold 3 Epoch 3/30 [Train]:  21%|██        | 21/100 [00:06<00:21,  3.71it/s, Loss=36.1944]"
          ]
        },
        {
          "output_type": "stream",
          "name": "stdout",
          "text": [
            "*** DEBUG: Batch 20 COMPLETED - Memory cleared ***\n"
          ]
        },
        {
          "output_type": "stream",
          "name": "stderr",
          "text": [
            "Fold 3 Epoch 3/30 [Train]:  31%|███       | 31/100 [00:09<00:18,  3.74it/s, Loss=35.0354]"
          ]
        },
        {
          "output_type": "stream",
          "name": "stdout",
          "text": [
            "*** DEBUG: Batch 30 COMPLETED - Memory cleared ***\n"
          ]
        },
        {
          "output_type": "stream",
          "name": "stderr",
          "text": [
            "Fold 3 Epoch 3/30 [Train]:  41%|████      | 41/100 [00:19<00:38,  1.54it/s, Loss=33.0262]"
          ]
        },
        {
          "output_type": "stream",
          "name": "stdout",
          "text": [
            "*** DEBUG: Batch 40 COMPLETED - Memory cleared ***\n"
          ]
        },
        {
          "output_type": "stream",
          "name": "stderr",
          "text": [
            "Fold 3 Epoch 3/30 [Train]:  51%|█████     | 51/100 [00:22<00:16,  2.90it/s, Loss=33.4176]"
          ]
        },
        {
          "output_type": "stream",
          "name": "stdout",
          "text": [
            "*** DEBUG: Batch 50 COMPLETED - Memory cleared ***\n"
          ]
        },
        {
          "output_type": "stream",
          "name": "stderr",
          "text": [
            "Fold 3 Epoch 3/30 [Train]:  61%|██████    | 61/100 [00:25<00:11,  3.48it/s, Loss=33.9031]"
          ]
        },
        {
          "output_type": "stream",
          "name": "stdout",
          "text": [
            "*** DEBUG: Batch 60 COMPLETED - Memory cleared ***\n"
          ]
        },
        {
          "output_type": "stream",
          "name": "stderr",
          "text": [
            "Fold 3 Epoch 3/30 [Train]:  71%|███████   | 71/100 [00:27<00:07,  3.68it/s, Loss=31.8227]"
          ]
        },
        {
          "output_type": "stream",
          "name": "stdout",
          "text": [
            "*** DEBUG: Batch 70 COMPLETED - Memory cleared ***\n"
          ]
        },
        {
          "output_type": "stream",
          "name": "stderr",
          "text": [
            "Fold 3 Epoch 3/30 [Train]:  81%|████████  | 81/100 [00:30<00:04,  3.80it/s, Loss=32.3894]"
          ]
        },
        {
          "output_type": "stream",
          "name": "stdout",
          "text": [
            "*** DEBUG: Batch 80 COMPLETED - Memory cleared ***\n"
          ]
        },
        {
          "output_type": "stream",
          "name": "stderr",
          "text": [
            "Fold 3 Epoch 3/30 [Train]:  91%|█████████ | 91/100 [00:33<00:02,  3.69it/s, Loss=28.2951]"
          ]
        },
        {
          "output_type": "stream",
          "name": "stdout",
          "text": [
            "*** DEBUG: Batch 90 COMPLETED - Memory cleared ***\n"
          ]
        },
        {
          "output_type": "stream",
          "name": "stderr",
          "text": [
            "Fold 3 Epoch 3/30 [Train]: 100%|██████████| 100/100 [00:35<00:00,  2.83it/s, Loss=31.1414]\n",
            "Fold 3 Epoch 3/30 [Val]: 100%|██████████| 25/25 [00:06<00:00,  3.82it/s, Loss=20.9178]\n"
          ]
        },
        {
          "output_type": "stream",
          "name": "stdout",
          "text": [
            "Fold 3 Epoch 3/30:\n",
            "  Train MAPE: 33.8543%\n",
            "  Val MAPE: 20.1499%\n",
            "  LR: 0.000100\n",
            "--------------------------------------------------\n",
            "Fold 3: New best model saved with Val MAPE = 20.1499%\n"
          ]
        },
        {
          "output_type": "stream",
          "name": "stderr",
          "text": [
            "Fold 3 Epoch 4/30 [Train]:   1%|          | 1/100 [00:01<02:54,  1.77s/it, Loss=29.7143]"
          ]
        },
        {
          "output_type": "stream",
          "name": "stdout",
          "text": [
            "*** DEBUG: Batch 0 COMPLETED - Memory cleared ***\n"
          ]
        },
        {
          "output_type": "stream",
          "name": "stderr",
          "text": [
            "Fold 3 Epoch 4/30 [Train]:  11%|█         | 11/100 [00:04<00:26,  3.32it/s, Loss=30.3227]"
          ]
        },
        {
          "output_type": "stream",
          "name": "stdout",
          "text": [
            "*** DEBUG: Batch 10 COMPLETED - Memory cleared ***\n"
          ]
        },
        {
          "output_type": "stream",
          "name": "stderr",
          "text": [
            "Fold 3 Epoch 4/30 [Train]:  21%|██        | 21/100 [00:06<00:20,  3.83it/s, Loss=30.0340]"
          ]
        },
        {
          "output_type": "stream",
          "name": "stdout",
          "text": [
            "*** DEBUG: Batch 20 COMPLETED - Memory cleared ***\n"
          ]
        },
        {
          "output_type": "stream",
          "name": "stderr",
          "text": [
            "Fold 3 Epoch 4/30 [Train]:  31%|███       | 31/100 [00:09<00:18,  3.82it/s, Loss=25.3922]"
          ]
        },
        {
          "output_type": "stream",
          "name": "stdout",
          "text": [
            "*** DEBUG: Batch 30 COMPLETED - Memory cleared ***\n"
          ]
        },
        {
          "output_type": "stream",
          "name": "stderr",
          "text": [
            "Fold 3 Epoch 4/30 [Train]:  41%|████      | 41/100 [00:19<00:47,  1.25it/s, Loss=27.2624]"
          ]
        },
        {
          "output_type": "stream",
          "name": "stdout",
          "text": [
            "*** DEBUG: Batch 40 COMPLETED - Memory cleared ***\n"
          ]
        },
        {
          "output_type": "stream",
          "name": "stderr",
          "text": [
            "Fold 3 Epoch 4/30 [Train]:  51%|█████     | 51/100 [00:22<00:17,  2.80it/s, Loss=26.3347]"
          ]
        },
        {
          "output_type": "stream",
          "name": "stdout",
          "text": [
            "*** DEBUG: Batch 50 COMPLETED - Memory cleared ***\n"
          ]
        },
        {
          "output_type": "stream",
          "name": "stderr",
          "text": [
            "Fold 3 Epoch 4/30 [Train]:  61%|██████    | 61/100 [00:24<00:11,  3.53it/s, Loss=25.4854]"
          ]
        },
        {
          "output_type": "stream",
          "name": "stdout",
          "text": [
            "*** DEBUG: Batch 60 COMPLETED - Memory cleared ***\n"
          ]
        },
        {
          "output_type": "stream",
          "name": "stderr",
          "text": [
            "Fold 3 Epoch 4/30 [Train]:  71%|███████   | 71/100 [00:27<00:08,  3.51it/s, Loss=24.3674]"
          ]
        },
        {
          "output_type": "stream",
          "name": "stdout",
          "text": [
            "*** DEBUG: Batch 70 COMPLETED - Memory cleared ***\n"
          ]
        },
        {
          "output_type": "stream",
          "name": "stderr",
          "text": [
            "Fold 3 Epoch 4/30 [Train]:  81%|████████  | 81/100 [00:30<00:05,  3.67it/s, Loss=24.1402]"
          ]
        },
        {
          "output_type": "stream",
          "name": "stdout",
          "text": [
            "*** DEBUG: Batch 80 COMPLETED - Memory cleared ***\n"
          ]
        },
        {
          "output_type": "stream",
          "name": "stderr",
          "text": [
            "Fold 3 Epoch 4/30 [Train]:  91%|█████████ | 91/100 [00:33<00:02,  3.79it/s, Loss=24.6622]"
          ]
        },
        {
          "output_type": "stream",
          "name": "stdout",
          "text": [
            "*** DEBUG: Batch 90 COMPLETED - Memory cleared ***\n"
          ]
        },
        {
          "output_type": "stream",
          "name": "stderr",
          "text": [
            "Fold 3 Epoch 4/30 [Train]: 100%|██████████| 100/100 [00:35<00:00,  2.85it/s, Loss=22.9005]\n",
            "Fold 3 Epoch 4/30 [Val]: 100%|██████████| 25/25 [00:06<00:00,  3.79it/s, Loss=20.6730]\n"
          ]
        },
        {
          "output_type": "stream",
          "name": "stdout",
          "text": [
            "Fold 3 Epoch 4/30:\n",
            "  Train MAPE: 26.2812%\n",
            "  Val MAPE: 19.5874%\n",
            "  LR: 0.000100\n",
            "--------------------------------------------------\n",
            "Fold 3: New best model saved with Val MAPE = 19.5874%\n"
          ]
        },
        {
          "output_type": "stream",
          "name": "stderr",
          "text": [
            "Fold 3 Epoch 5/30 [Train]:   1%|          | 1/100 [00:01<02:58,  1.81s/it, Loss=23.4333]"
          ]
        },
        {
          "output_type": "stream",
          "name": "stdout",
          "text": [
            "*** DEBUG: Batch 0 COMPLETED - Memory cleared ***\n"
          ]
        },
        {
          "output_type": "stream",
          "name": "stderr",
          "text": [
            "Fold 3 Epoch 5/30 [Train]:  11%|█         | 11/100 [00:04<00:27,  3.23it/s, Loss=22.1279]"
          ]
        },
        {
          "output_type": "stream",
          "name": "stdout",
          "text": [
            "*** DEBUG: Batch 10 COMPLETED - Memory cleared ***\n"
          ]
        },
        {
          "output_type": "stream",
          "name": "stderr",
          "text": [
            "Fold 3 Epoch 5/30 [Train]:  21%|██        | 21/100 [00:07<00:21,  3.69it/s, Loss=20.3206]"
          ]
        },
        {
          "output_type": "stream",
          "name": "stdout",
          "text": [
            "*** DEBUG: Batch 20 COMPLETED - Memory cleared ***\n"
          ]
        },
        {
          "output_type": "stream",
          "name": "stderr",
          "text": [
            "Fold 3 Epoch 5/30 [Train]:  31%|███       | 31/100 [00:09<00:18,  3.66it/s, Loss=20.3610]"
          ]
        },
        {
          "output_type": "stream",
          "name": "stdout",
          "text": [
            "*** DEBUG: Batch 30 COMPLETED - Memory cleared ***\n"
          ]
        },
        {
          "output_type": "stream",
          "name": "stderr",
          "text": [
            "Fold 3 Epoch 5/30 [Train]:  41%|████      | 41/100 [00:19<00:38,  1.54it/s, Loss=17.4147]"
          ]
        },
        {
          "output_type": "stream",
          "name": "stdout",
          "text": [
            "*** DEBUG: Batch 40 COMPLETED - Memory cleared ***\n"
          ]
        },
        {
          "output_type": "stream",
          "name": "stderr",
          "text": [
            "Fold 3 Epoch 5/30 [Train]:  51%|█████     | 51/100 [00:22<00:16,  3.01it/s, Loss=18.0201]"
          ]
        },
        {
          "output_type": "stream",
          "name": "stdout",
          "text": [
            "*** DEBUG: Batch 50 COMPLETED - Memory cleared ***\n"
          ]
        },
        {
          "output_type": "stream",
          "name": "stderr",
          "text": [
            "Fold 3 Epoch 5/30 [Train]:  61%|██████    | 61/100 [00:25<00:10,  3.66it/s, Loss=16.3119]"
          ]
        },
        {
          "output_type": "stream",
          "name": "stdout",
          "text": [
            "*** DEBUG: Batch 60 COMPLETED - Memory cleared ***\n"
          ]
        },
        {
          "output_type": "stream",
          "name": "stderr",
          "text": [
            "Fold 3 Epoch 5/30 [Train]:  71%|███████   | 71/100 [00:27<00:07,  3.79it/s, Loss=16.2850]"
          ]
        },
        {
          "output_type": "stream",
          "name": "stdout",
          "text": [
            "*** DEBUG: Batch 70 COMPLETED - Memory cleared ***\n"
          ]
        },
        {
          "output_type": "stream",
          "name": "stderr",
          "text": [
            "Fold 3 Epoch 5/30 [Train]:  81%|████████  | 81/100 [00:30<00:04,  3.86it/s, Loss=15.0476]"
          ]
        },
        {
          "output_type": "stream",
          "name": "stdout",
          "text": [
            "*** DEBUG: Batch 80 COMPLETED - Memory cleared ***\n"
          ]
        },
        {
          "output_type": "stream",
          "name": "stderr",
          "text": [
            "Fold 3 Epoch 5/30 [Train]:  91%|█████████ | 91/100 [00:33<00:02,  3.62it/s, Loss=14.6622]"
          ]
        },
        {
          "output_type": "stream",
          "name": "stdout",
          "text": [
            "*** DEBUG: Batch 90 COMPLETED - Memory cleared ***\n"
          ]
        },
        {
          "output_type": "stream",
          "name": "stderr",
          "text": [
            "Fold 3 Epoch 5/30 [Train]: 100%|██████████| 100/100 [00:35<00:00,  2.84it/s, Loss=13.5636]\n",
            "Fold 3 Epoch 5/30 [Val]: 100%|██████████| 25/25 [00:06<00:00,  3.85it/s, Loss=35.1074]\n"
          ]
        },
        {
          "output_type": "stream",
          "name": "stdout",
          "text": [
            "Fold 3 Epoch 5/30:\n",
            "  Train MAPE: 18.2748%\n",
            "  Val MAPE: 36.5767%\n",
            "  LR: 0.000100\n",
            "--------------------------------------------------\n"
          ]
        },
        {
          "output_type": "stream",
          "name": "stderr",
          "text": [
            "Fold 3 Epoch 6/30 [Train]:   1%|          | 1/100 [00:00<01:05,  1.51it/s, Loss=13.4752]"
          ]
        },
        {
          "output_type": "stream",
          "name": "stdout",
          "text": [
            "*** DEBUG: Batch 0 COMPLETED - Memory cleared ***\n"
          ]
        },
        {
          "output_type": "stream",
          "name": "stderr",
          "text": [
            "Fold 3 Epoch 6/30 [Train]:  11%|█         | 11/100 [00:03<00:25,  3.46it/s, Loss=14.2060]"
          ]
        },
        {
          "output_type": "stream",
          "name": "stdout",
          "text": [
            "*** DEBUG: Batch 10 COMPLETED - Memory cleared ***\n"
          ]
        },
        {
          "output_type": "stream",
          "name": "stderr",
          "text": [
            "Fold 3 Epoch 6/30 [Train]:  21%|██        | 21/100 [00:06<00:20,  3.77it/s, Loss=13.5915]"
          ]
        },
        {
          "output_type": "stream",
          "name": "stdout",
          "text": [
            "*** DEBUG: Batch 20 COMPLETED - Memory cleared ***\n"
          ]
        },
        {
          "output_type": "stream",
          "name": "stderr",
          "text": [
            "Fold 3 Epoch 6/30 [Train]:  31%|███       | 31/100 [00:08<00:18,  3.77it/s, Loss=13.5597]"
          ]
        },
        {
          "output_type": "stream",
          "name": "stdout",
          "text": [
            "*** DEBUG: Batch 30 COMPLETED - Memory cleared ***\n"
          ]
        },
        {
          "output_type": "stream",
          "name": "stderr",
          "text": [
            "Fold 3 Epoch 6/30 [Train]:  41%|████      | 41/100 [00:11<00:15,  3.86it/s, Loss=11.6138]"
          ]
        },
        {
          "output_type": "stream",
          "name": "stdout",
          "text": [
            "*** DEBUG: Batch 40 COMPLETED - Memory cleared ***\n"
          ]
        },
        {
          "output_type": "stream",
          "name": "stderr",
          "text": [
            "Fold 3 Epoch 6/30 [Train]:  51%|█████     | 51/100 [00:13<00:12,  3.85it/s, Loss=10.7738]"
          ]
        },
        {
          "output_type": "stream",
          "name": "stdout",
          "text": [
            "*** DEBUG: Batch 50 COMPLETED - Memory cleared ***\n"
          ]
        },
        {
          "output_type": "stream",
          "name": "stderr",
          "text": [
            "Fold 3 Epoch 6/30 [Train]:  61%|██████    | 61/100 [00:16<00:10,  3.77it/s, Loss=11.7729]"
          ]
        },
        {
          "output_type": "stream",
          "name": "stdout",
          "text": [
            "*** DEBUG: Batch 60 COMPLETED - Memory cleared ***\n"
          ]
        },
        {
          "output_type": "stream",
          "name": "stderr",
          "text": [
            "Fold 3 Epoch 6/30 [Train]:  71%|███████   | 71/100 [00:19<00:07,  3.90it/s, Loss=10.0392]"
          ]
        },
        {
          "output_type": "stream",
          "name": "stdout",
          "text": [
            "*** DEBUG: Batch 70 COMPLETED - Memory cleared ***\n"
          ]
        },
        {
          "output_type": "stream",
          "name": "stderr",
          "text": [
            "Fold 3 Epoch 6/30 [Train]:  81%|████████  | 81/100 [00:21<00:04,  3.82it/s, Loss=9.9019]"
          ]
        },
        {
          "output_type": "stream",
          "name": "stdout",
          "text": [
            "*** DEBUG: Batch 80 COMPLETED - Memory cleared ***\n"
          ]
        },
        {
          "output_type": "stream",
          "name": "stderr",
          "text": [
            "Fold 3 Epoch 6/30 [Train]:  91%|█████████ | 91/100 [00:24<00:02,  3.91it/s, Loss=9.6276]"
          ]
        },
        {
          "output_type": "stream",
          "name": "stdout",
          "text": [
            "*** DEBUG: Batch 90 COMPLETED - Memory cleared ***\n"
          ]
        },
        {
          "output_type": "stream",
          "name": "stderr",
          "text": [
            "Fold 3 Epoch 6/30 [Train]: 100%|██████████| 100/100 [00:26<00:00,  3.78it/s, Loss=10.1909]\n",
            "Fold 3 Epoch 6/30 [Val]: 100%|██████████| 25/25 [00:06<00:00,  3.73it/s, Loss=35.5329]\n"
          ]
        },
        {
          "output_type": "stream",
          "name": "stdout",
          "text": [
            "Fold 3 Epoch 6/30:\n",
            "  Train MAPE: 11.5073%\n",
            "  Val MAPE: 37.1375%\n",
            "  LR: 0.000100\n",
            "--------------------------------------------------\n"
          ]
        },
        {
          "output_type": "stream",
          "name": "stderr",
          "text": [
            "Fold 3 Epoch 7/30 [Train]:   1%|          | 1/100 [00:00<01:07,  1.47it/s, Loss=9.4382]"
          ]
        },
        {
          "output_type": "stream",
          "name": "stdout",
          "text": [
            "*** DEBUG: Batch 0 COMPLETED - Memory cleared ***\n"
          ]
        },
        {
          "output_type": "stream",
          "name": "stderr",
          "text": [
            "Fold 3 Epoch 7/30 [Train]:  11%|█         | 11/100 [00:03<00:24,  3.59it/s, Loss=8.8161]"
          ]
        },
        {
          "output_type": "stream",
          "name": "stdout",
          "text": [
            "*** DEBUG: Batch 10 COMPLETED - Memory cleared ***\n"
          ]
        },
        {
          "output_type": "stream",
          "name": "stderr",
          "text": [
            "Fold 3 Epoch 7/30 [Train]:  21%|██        | 21/100 [00:05<00:21,  3.75it/s, Loss=8.3436]"
          ]
        },
        {
          "output_type": "stream",
          "name": "stdout",
          "text": [
            "*** DEBUG: Batch 20 COMPLETED - Memory cleared ***\n"
          ]
        },
        {
          "output_type": "stream",
          "name": "stderr",
          "text": [
            "Fold 3 Epoch 7/30 [Train]:  31%|███       | 31/100 [00:08<00:17,  3.85it/s, Loss=6.1252]"
          ]
        },
        {
          "output_type": "stream",
          "name": "stdout",
          "text": [
            "*** DEBUG: Batch 30 COMPLETED - Memory cleared ***\n"
          ]
        },
        {
          "output_type": "stream",
          "name": "stderr",
          "text": [
            "Fold 3 Epoch 7/30 [Train]:  41%|████      | 41/100 [00:11<00:15,  3.81it/s, Loss=7.7803]"
          ]
        },
        {
          "output_type": "stream",
          "name": "stdout",
          "text": [
            "*** DEBUG: Batch 40 COMPLETED - Memory cleared ***\n"
          ]
        },
        {
          "output_type": "stream",
          "name": "stderr",
          "text": [
            "Fold 3 Epoch 7/30 [Train]:  51%|█████     | 51/100 [00:13<00:13,  3.75it/s, Loss=5.5860]"
          ]
        },
        {
          "output_type": "stream",
          "name": "stdout",
          "text": [
            "*** DEBUG: Batch 50 COMPLETED - Memory cleared ***\n"
          ]
        },
        {
          "output_type": "stream",
          "name": "stderr",
          "text": [
            "Fold 3 Epoch 7/30 [Train]:  61%|██████    | 61/100 [00:16<00:10,  3.84it/s, Loss=6.1196]"
          ]
        },
        {
          "output_type": "stream",
          "name": "stdout",
          "text": [
            "*** DEBUG: Batch 60 COMPLETED - Memory cleared ***\n"
          ]
        },
        {
          "output_type": "stream",
          "name": "stderr",
          "text": [
            "Fold 3 Epoch 7/30 [Train]:  71%|███████   | 71/100 [00:18<00:07,  3.80it/s, Loss=5.3502]"
          ]
        },
        {
          "output_type": "stream",
          "name": "stdout",
          "text": [
            "*** DEBUG: Batch 70 COMPLETED - Memory cleared ***\n"
          ]
        },
        {
          "output_type": "stream",
          "name": "stderr",
          "text": [
            "Fold 3 Epoch 7/30 [Train]:  81%|████████  | 81/100 [00:21<00:04,  3.83it/s, Loss=6.0293]"
          ]
        },
        {
          "output_type": "stream",
          "name": "stdout",
          "text": [
            "*** DEBUG: Batch 80 COMPLETED - Memory cleared ***\n"
          ]
        },
        {
          "output_type": "stream",
          "name": "stderr",
          "text": [
            "Fold 3 Epoch 7/30 [Train]:  91%|█████████ | 91/100 [00:24<00:02,  3.83it/s, Loss=5.8099]"
          ]
        },
        {
          "output_type": "stream",
          "name": "stdout",
          "text": [
            "*** DEBUG: Batch 90 COMPLETED - Memory cleared ***\n"
          ]
        },
        {
          "output_type": "stream",
          "name": "stderr",
          "text": [
            "Fold 3 Epoch 7/30 [Train]: 100%|██████████| 100/100 [00:26<00:00,  3.80it/s, Loss=5.9198]\n",
            "Fold 3 Epoch 7/30 [Val]: 100%|██████████| 25/25 [00:06<00:00,  3.71it/s, Loss=36.7886]\n"
          ]
        },
        {
          "output_type": "stream",
          "name": "stdout",
          "text": [
            "Fold 3 Epoch 7/30:\n",
            "  Train MAPE: 6.6210%\n",
            "  Val MAPE: 38.2638%\n",
            "  LR: 0.000100\n",
            "--------------------------------------------------\n"
          ]
        },
        {
          "output_type": "stream",
          "name": "stderr",
          "text": [
            "Fold 3 Epoch 8/30 [Train]:   1%|          | 1/100 [00:00<01:10,  1.41it/s, Loss=6.0919]"
          ]
        },
        {
          "output_type": "stream",
          "name": "stdout",
          "text": [
            "*** DEBUG: Batch 0 COMPLETED - Memory cleared ***\n"
          ]
        },
        {
          "output_type": "stream",
          "name": "stderr",
          "text": [
            "Fold 3 Epoch 8/30 [Train]:  11%|█         | 11/100 [00:03<00:23,  3.82it/s, Loss=6.0232]"
          ]
        },
        {
          "output_type": "stream",
          "name": "stdout",
          "text": [
            "*** DEBUG: Batch 10 COMPLETED - Memory cleared ***\n"
          ]
        },
        {
          "output_type": "stream",
          "name": "stderr",
          "text": [
            "Fold 3 Epoch 8/30 [Train]:  21%|██        | 21/100 [00:05<00:20,  3.91it/s, Loss=5.0691]"
          ]
        },
        {
          "output_type": "stream",
          "name": "stdout",
          "text": [
            "*** DEBUG: Batch 20 COMPLETED - Memory cleared ***\n"
          ]
        },
        {
          "output_type": "stream",
          "name": "stderr",
          "text": [
            "Fold 3 Epoch 8/30 [Train]:  31%|███       | 31/100 [00:08<00:17,  3.92it/s, Loss=5.3298]"
          ]
        },
        {
          "output_type": "stream",
          "name": "stdout",
          "text": [
            "*** DEBUG: Batch 30 COMPLETED - Memory cleared ***\n"
          ]
        },
        {
          "output_type": "stream",
          "name": "stderr",
          "text": [
            "Fold 3 Epoch 8/30 [Train]:  41%|████      | 41/100 [00:11<00:15,  3.69it/s, Loss=6.8101]"
          ]
        },
        {
          "output_type": "stream",
          "name": "stdout",
          "text": [
            "*** DEBUG: Batch 40 COMPLETED - Memory cleared ***\n"
          ]
        },
        {
          "output_type": "stream",
          "name": "stderr",
          "text": [
            "Fold 3 Epoch 8/30 [Train]:  51%|█████     | 51/100 [00:13<00:12,  3.81it/s, Loss=5.6762]"
          ]
        },
        {
          "output_type": "stream",
          "name": "stdout",
          "text": [
            "*** DEBUG: Batch 50 COMPLETED - Memory cleared ***\n"
          ]
        },
        {
          "output_type": "stream",
          "name": "stderr",
          "text": [
            "Fold 3 Epoch 8/30 [Train]:  61%|██████    | 61/100 [00:16<00:10,  3.70it/s, Loss=5.4976]"
          ]
        },
        {
          "output_type": "stream",
          "name": "stdout",
          "text": [
            "*** DEBUG: Batch 60 COMPLETED - Memory cleared ***\n"
          ]
        },
        {
          "output_type": "stream",
          "name": "stderr",
          "text": [
            "Fold 3 Epoch 8/30 [Train]:  71%|███████   | 71/100 [00:18<00:07,  3.79it/s, Loss=4.3895]"
          ]
        },
        {
          "output_type": "stream",
          "name": "stdout",
          "text": [
            "*** DEBUG: Batch 70 COMPLETED - Memory cleared ***\n"
          ]
        },
        {
          "output_type": "stream",
          "name": "stderr",
          "text": [
            "Fold 3 Epoch 8/30 [Train]:  81%|████████  | 81/100 [00:21<00:04,  3.82it/s, Loss=5.7614]"
          ]
        },
        {
          "output_type": "stream",
          "name": "stdout",
          "text": [
            "*** DEBUG: Batch 80 COMPLETED - Memory cleared ***\n"
          ]
        },
        {
          "output_type": "stream",
          "name": "stderr",
          "text": [
            "Fold 3 Epoch 8/30 [Train]:  91%|█████████ | 91/100 [00:24<00:02,  3.79it/s, Loss=5.5967]"
          ]
        },
        {
          "output_type": "stream",
          "name": "stdout",
          "text": [
            "*** DEBUG: Batch 90 COMPLETED - Memory cleared ***\n"
          ]
        },
        {
          "output_type": "stream",
          "name": "stderr",
          "text": [
            "Fold 3 Epoch 8/30 [Train]: 100%|██████████| 100/100 [00:26<00:00,  3.80it/s, Loss=5.4235]\n",
            "Fold 3 Epoch 8/30 [Val]: 100%|██████████| 25/25 [00:06<00:00,  3.84it/s, Loss=16.8619]\n"
          ]
        },
        {
          "output_type": "stream",
          "name": "stdout",
          "text": [
            "Fold 3 Epoch 8/30:\n",
            "  Train MAPE: 5.3021%\n",
            "  Val MAPE: 14.5641%\n",
            "  LR: 0.000100\n",
            "--------------------------------------------------\n",
            "Fold 3: New best model saved with Val MAPE = 14.5641%\n"
          ]
        },
        {
          "output_type": "stream",
          "name": "stderr",
          "text": [
            "Fold 3 Epoch 9/30 [Train]:   1%|          | 1/100 [00:01<03:03,  1.86s/it, Loss=4.5707]"
          ]
        },
        {
          "output_type": "stream",
          "name": "stdout",
          "text": [
            "*** DEBUG: Batch 0 COMPLETED - Memory cleared ***\n"
          ]
        },
        {
          "output_type": "stream",
          "name": "stderr",
          "text": [
            "Fold 3 Epoch 9/30 [Train]:  11%|█         | 11/100 [00:04<00:27,  3.19it/s, Loss=5.1502]"
          ]
        },
        {
          "output_type": "stream",
          "name": "stdout",
          "text": [
            "*** DEBUG: Batch 10 COMPLETED - Memory cleared ***\n"
          ]
        },
        {
          "output_type": "stream",
          "name": "stderr",
          "text": [
            "Fold 3 Epoch 9/30 [Train]:  21%|██        | 21/100 [00:07<00:21,  3.74it/s, Loss=5.1760]"
          ]
        },
        {
          "output_type": "stream",
          "name": "stdout",
          "text": [
            "*** DEBUG: Batch 20 COMPLETED - Memory cleared ***\n"
          ]
        },
        {
          "output_type": "stream",
          "name": "stderr",
          "text": [
            "Fold 3 Epoch 9/30 [Train]:  31%|███       | 31/100 [00:09<00:18,  3.81it/s, Loss=4.9489]"
          ]
        },
        {
          "output_type": "stream",
          "name": "stdout",
          "text": [
            "*** DEBUG: Batch 30 COMPLETED - Memory cleared ***\n"
          ]
        },
        {
          "output_type": "stream",
          "name": "stderr",
          "text": [
            "Fold 3 Epoch 9/30 [Train]:  41%|████      | 41/100 [00:19<00:47,  1.25it/s, Loss=4.8003]"
          ]
        },
        {
          "output_type": "stream",
          "name": "stdout",
          "text": [
            "*** DEBUG: Batch 40 COMPLETED - Memory cleared ***\n"
          ]
        },
        {
          "output_type": "stream",
          "name": "stderr",
          "text": [
            "Fold 3 Epoch 9/30 [Train]:  51%|█████     | 51/100 [00:22<00:17,  2.75it/s, Loss=5.2793]"
          ]
        },
        {
          "output_type": "stream",
          "name": "stdout",
          "text": [
            "*** DEBUG: Batch 50 COMPLETED - Memory cleared ***\n"
          ]
        },
        {
          "output_type": "stream",
          "name": "stderr",
          "text": [
            "Fold 3 Epoch 9/30 [Train]:  61%|██████    | 61/100 [00:25<00:11,  3.36it/s, Loss=5.5738]"
          ]
        },
        {
          "output_type": "stream",
          "name": "stdout",
          "text": [
            "*** DEBUG: Batch 60 COMPLETED - Memory cleared ***\n"
          ]
        },
        {
          "output_type": "stream",
          "name": "stderr",
          "text": [
            "Fold 3 Epoch 9/30 [Train]:  71%|███████   | 71/100 [00:27<00:07,  3.64it/s, Loss=4.3062]"
          ]
        },
        {
          "output_type": "stream",
          "name": "stdout",
          "text": [
            "*** DEBUG: Batch 70 COMPLETED - Memory cleared ***\n"
          ]
        },
        {
          "output_type": "stream",
          "name": "stderr",
          "text": [
            "Fold 3 Epoch 9/30 [Train]:  81%|████████  | 81/100 [00:30<00:05,  3.76it/s, Loss=4.8387]"
          ]
        },
        {
          "output_type": "stream",
          "name": "stdout",
          "text": [
            "*** DEBUG: Batch 80 COMPLETED - Memory cleared ***\n"
          ]
        },
        {
          "output_type": "stream",
          "name": "stderr",
          "text": [
            "Fold 3 Epoch 9/30 [Train]:  91%|█████████ | 91/100 [00:33<00:02,  3.78it/s, Loss=5.2600]"
          ]
        },
        {
          "output_type": "stream",
          "name": "stdout",
          "text": [
            "*** DEBUG: Batch 90 COMPLETED - Memory cleared ***\n"
          ]
        },
        {
          "output_type": "stream",
          "name": "stderr",
          "text": [
            "Fold 3 Epoch 9/30 [Train]: 100%|██████████| 100/100 [00:35<00:00,  2.83it/s, Loss=4.7637]\n",
            "Fold 3 Epoch 9/30 [Val]: 100%|██████████| 25/25 [00:06<00:00,  3.73it/s, Loss=35.8197]\n"
          ]
        },
        {
          "output_type": "stream",
          "name": "stdout",
          "text": [
            "Fold 3 Epoch 9/30:\n",
            "  Train MAPE: 5.1343%\n",
            "  Val MAPE: 37.2840%\n",
            "  LR: 0.000100\n",
            "--------------------------------------------------\n"
          ]
        },
        {
          "output_type": "stream",
          "name": "stderr",
          "text": [
            "Fold 3 Epoch 10/30 [Train]:   1%|          | 1/100 [00:00<01:03,  1.55it/s, Loss=4.9521]"
          ]
        },
        {
          "output_type": "stream",
          "name": "stdout",
          "text": [
            "*** DEBUG: Batch 0 COMPLETED - Memory cleared ***\n"
          ]
        },
        {
          "output_type": "stream",
          "name": "stderr",
          "text": [
            "Fold 3 Epoch 10/30 [Train]:  11%|█         | 11/100 [00:03<00:23,  3.82it/s, Loss=4.3039]"
          ]
        },
        {
          "output_type": "stream",
          "name": "stdout",
          "text": [
            "*** DEBUG: Batch 10 COMPLETED - Memory cleared ***\n"
          ]
        },
        {
          "output_type": "stream",
          "name": "stderr",
          "text": [
            "Fold 3 Epoch 10/30 [Train]:  21%|██        | 21/100 [00:05<00:20,  3.89it/s, Loss=4.8003]"
          ]
        },
        {
          "output_type": "stream",
          "name": "stdout",
          "text": [
            "*** DEBUG: Batch 20 COMPLETED - Memory cleared ***\n"
          ]
        },
        {
          "output_type": "stream",
          "name": "stderr",
          "text": [
            "Fold 3 Epoch 10/30 [Train]:  31%|███       | 31/100 [00:08<00:18,  3.70it/s, Loss=4.0030]"
          ]
        },
        {
          "output_type": "stream",
          "name": "stdout",
          "text": [
            "*** DEBUG: Batch 30 COMPLETED - Memory cleared ***\n"
          ]
        },
        {
          "output_type": "stream",
          "name": "stderr",
          "text": [
            "Fold 3 Epoch 10/30 [Train]:  41%|████      | 41/100 [00:11<00:15,  3.71it/s, Loss=4.6683]"
          ]
        },
        {
          "output_type": "stream",
          "name": "stdout",
          "text": [
            "*** DEBUG: Batch 40 COMPLETED - Memory cleared ***\n"
          ]
        },
        {
          "output_type": "stream",
          "name": "stderr",
          "text": [
            "Fold 3 Epoch 10/30 [Train]:  51%|█████     | 51/100 [00:13<00:13,  3.75it/s, Loss=5.0305]"
          ]
        },
        {
          "output_type": "stream",
          "name": "stdout",
          "text": [
            "*** DEBUG: Batch 50 COMPLETED - Memory cleared ***\n"
          ]
        },
        {
          "output_type": "stream",
          "name": "stderr",
          "text": [
            "Fold 3 Epoch 10/30 [Train]:  61%|██████    | 61/100 [00:16<00:10,  3.83it/s, Loss=3.9211]"
          ]
        },
        {
          "output_type": "stream",
          "name": "stdout",
          "text": [
            "*** DEBUG: Batch 60 COMPLETED - Memory cleared ***\n"
          ]
        },
        {
          "output_type": "stream",
          "name": "stderr",
          "text": [
            "Fold 3 Epoch 10/30 [Train]:  71%|███████   | 71/100 [00:18<00:07,  3.89it/s, Loss=4.1092]"
          ]
        },
        {
          "output_type": "stream",
          "name": "stdout",
          "text": [
            "*** DEBUG: Batch 70 COMPLETED - Memory cleared ***\n"
          ]
        },
        {
          "output_type": "stream",
          "name": "stderr",
          "text": [
            "Fold 3 Epoch 10/30 [Train]:  81%|████████  | 81/100 [00:21<00:05,  3.72it/s, Loss=4.8066]"
          ]
        },
        {
          "output_type": "stream",
          "name": "stdout",
          "text": [
            "*** DEBUG: Batch 80 COMPLETED - Memory cleared ***\n"
          ]
        },
        {
          "output_type": "stream",
          "name": "stderr",
          "text": [
            "Fold 3 Epoch 10/30 [Train]:  91%|█████████ | 91/100 [00:24<00:02,  3.79it/s, Loss=4.0204]"
          ]
        },
        {
          "output_type": "stream",
          "name": "stdout",
          "text": [
            "*** DEBUG: Batch 90 COMPLETED - Memory cleared ***\n"
          ]
        },
        {
          "output_type": "stream",
          "name": "stderr",
          "text": [
            "Fold 3 Epoch 10/30 [Train]: 100%|██████████| 100/100 [00:26<00:00,  3.79it/s, Loss=4.4575]\n",
            "Fold 3 Epoch 10/30 [Val]: 100%|██████████| 25/25 [00:06<00:00,  3.77it/s, Loss=19.3352]\n"
          ]
        },
        {
          "output_type": "stream",
          "name": "stdout",
          "text": [
            "Fold 3 Epoch 10/30:\n",
            "  Train MAPE: 4.5480%\n",
            "  Val MAPE: 16.6524%\n",
            "  LR: 0.000100\n",
            "--------------------------------------------------\n"
          ]
        },
        {
          "output_type": "stream",
          "name": "stderr",
          "text": [
            "Fold 3 Epoch 11/30 [Train]:   1%|          | 1/100 [00:00<01:05,  1.51it/s, Loss=3.9879]"
          ]
        },
        {
          "output_type": "stream",
          "name": "stdout",
          "text": [
            "*** DEBUG: Batch 0 COMPLETED - Memory cleared ***\n"
          ]
        },
        {
          "output_type": "stream",
          "name": "stderr",
          "text": [
            "Fold 3 Epoch 11/30 [Train]:  11%|█         | 11/100 [00:03<00:24,  3.68it/s, Loss=4.0753]"
          ]
        },
        {
          "output_type": "stream",
          "name": "stdout",
          "text": [
            "*** DEBUG: Batch 10 COMPLETED - Memory cleared ***\n"
          ]
        },
        {
          "output_type": "stream",
          "name": "stderr",
          "text": [
            "Fold 3 Epoch 11/30 [Train]:  21%|██        | 21/100 [00:05<00:21,  3.76it/s, Loss=4.1988]"
          ]
        },
        {
          "output_type": "stream",
          "name": "stdout",
          "text": [
            "*** DEBUG: Batch 20 COMPLETED - Memory cleared ***\n"
          ]
        },
        {
          "output_type": "stream",
          "name": "stderr",
          "text": [
            "Fold 3 Epoch 11/30 [Train]:  31%|███       | 31/100 [00:08<00:18,  3.80it/s, Loss=4.0082]"
          ]
        },
        {
          "output_type": "stream",
          "name": "stdout",
          "text": [
            "*** DEBUG: Batch 30 COMPLETED - Memory cleared ***\n"
          ]
        },
        {
          "output_type": "stream",
          "name": "stderr",
          "text": [
            "Fold 3 Epoch 11/30 [Train]:  41%|████      | 41/100 [00:11<00:15,  3.74it/s, Loss=5.2605]"
          ]
        },
        {
          "output_type": "stream",
          "name": "stdout",
          "text": [
            "*** DEBUG: Batch 40 COMPLETED - Memory cleared ***\n"
          ]
        },
        {
          "output_type": "stream",
          "name": "stderr",
          "text": [
            "Fold 3 Epoch 11/30 [Train]:  51%|█████     | 51/100 [00:13<00:13,  3.74it/s, Loss=4.6441]"
          ]
        },
        {
          "output_type": "stream",
          "name": "stdout",
          "text": [
            "*** DEBUG: Batch 50 COMPLETED - Memory cleared ***\n"
          ]
        },
        {
          "output_type": "stream",
          "name": "stderr",
          "text": [
            "Fold 3 Epoch 11/30 [Train]:  61%|██████    | 61/100 [00:16<00:09,  3.90it/s, Loss=4.0325]"
          ]
        },
        {
          "output_type": "stream",
          "name": "stdout",
          "text": [
            "*** DEBUG: Batch 60 COMPLETED - Memory cleared ***\n"
          ]
        },
        {
          "output_type": "stream",
          "name": "stderr",
          "text": [
            "Fold 3 Epoch 11/30 [Train]:  71%|███████   | 71/100 [00:19<00:07,  3.91it/s, Loss=3.8613]"
          ]
        },
        {
          "output_type": "stream",
          "name": "stdout",
          "text": [
            "*** DEBUG: Batch 70 COMPLETED - Memory cleared ***\n"
          ]
        },
        {
          "output_type": "stream",
          "name": "stderr",
          "text": [
            "Fold 3 Epoch 11/30 [Train]:  81%|████████  | 81/100 [00:21<00:05,  3.79it/s, Loss=4.8283]"
          ]
        },
        {
          "output_type": "stream",
          "name": "stdout",
          "text": [
            "*** DEBUG: Batch 80 COMPLETED - Memory cleared ***\n"
          ]
        },
        {
          "output_type": "stream",
          "name": "stderr",
          "text": [
            "Fold 3 Epoch 11/30 [Train]:  91%|█████████ | 91/100 [00:24<00:02,  3.71it/s, Loss=3.7488]"
          ]
        },
        {
          "output_type": "stream",
          "name": "stdout",
          "text": [
            "*** DEBUG: Batch 90 COMPLETED - Memory cleared ***\n"
          ]
        },
        {
          "output_type": "stream",
          "name": "stderr",
          "text": [
            "Fold 3 Epoch 11/30 [Train]: 100%|██████████| 100/100 [00:26<00:00,  3.78it/s, Loss=4.4497]\n",
            "Fold 3 Epoch 11/30 [Val]: 100%|██████████| 25/25 [00:06<00:00,  3.79it/s, Loss=25.0902]\n"
          ]
        },
        {
          "output_type": "stream",
          "name": "stdout",
          "text": [
            "Fold 3 Epoch 11/30:\n",
            "  Train MAPE: 4.3771%\n",
            "  Val MAPE: 22.1016%\n",
            "  LR: 0.000100\n",
            "--------------------------------------------------\n"
          ]
        },
        {
          "output_type": "stream",
          "name": "stderr",
          "text": [
            "Fold 3 Epoch 12/30 [Train]:   1%|          | 1/100 [00:00<01:04,  1.53it/s, Loss=3.6238]"
          ]
        },
        {
          "output_type": "stream",
          "name": "stdout",
          "text": [
            "*** DEBUG: Batch 0 COMPLETED - Memory cleared ***\n"
          ]
        },
        {
          "output_type": "stream",
          "name": "stderr",
          "text": [
            "Fold 3 Epoch 12/30 [Train]:  11%|█         | 11/100 [00:03<00:25,  3.50it/s, Loss=4.7365]"
          ]
        },
        {
          "output_type": "stream",
          "name": "stdout",
          "text": [
            "*** DEBUG: Batch 10 COMPLETED - Memory cleared ***\n"
          ]
        },
        {
          "output_type": "stream",
          "name": "stderr",
          "text": [
            "Fold 3 Epoch 12/30 [Train]:  21%|██        | 21/100 [00:06<00:21,  3.75it/s, Loss=4.1305]"
          ]
        },
        {
          "output_type": "stream",
          "name": "stdout",
          "text": [
            "*** DEBUG: Batch 20 COMPLETED - Memory cleared ***\n"
          ]
        },
        {
          "output_type": "stream",
          "name": "stderr",
          "text": [
            "Fold 3 Epoch 12/30 [Train]:  31%|███       | 31/100 [00:08<00:18,  3.81it/s, Loss=3.8131]"
          ]
        },
        {
          "output_type": "stream",
          "name": "stdout",
          "text": [
            "*** DEBUG: Batch 30 COMPLETED - Memory cleared ***\n"
          ]
        },
        {
          "output_type": "stream",
          "name": "stderr",
          "text": [
            "Fold 3 Epoch 12/30 [Train]:  41%|████      | 41/100 [00:11<00:16,  3.56it/s, Loss=3.8916]"
          ]
        },
        {
          "output_type": "stream",
          "name": "stdout",
          "text": [
            "*** DEBUG: Batch 40 COMPLETED - Memory cleared ***\n"
          ]
        },
        {
          "output_type": "stream",
          "name": "stderr",
          "text": [
            "Fold 3 Epoch 12/30 [Train]:  51%|█████     | 51/100 [00:14<00:12,  3.81it/s, Loss=4.2420]"
          ]
        },
        {
          "output_type": "stream",
          "name": "stdout",
          "text": [
            "*** DEBUG: Batch 50 COMPLETED - Memory cleared ***\n"
          ]
        },
        {
          "output_type": "stream",
          "name": "stderr",
          "text": [
            "Fold 3 Epoch 12/30 [Train]:  61%|██████    | 61/100 [00:16<00:10,  3.60it/s, Loss=5.0417]"
          ]
        },
        {
          "output_type": "stream",
          "name": "stdout",
          "text": [
            "*** DEBUG: Batch 60 COMPLETED - Memory cleared ***\n"
          ]
        },
        {
          "output_type": "stream",
          "name": "stderr",
          "text": [
            "Fold 3 Epoch 12/30 [Train]:  71%|███████   | 71/100 [00:19<00:07,  3.81it/s, Loss=4.0363]"
          ]
        },
        {
          "output_type": "stream",
          "name": "stdout",
          "text": [
            "*** DEBUG: Batch 70 COMPLETED - Memory cleared ***\n"
          ]
        },
        {
          "output_type": "stream",
          "name": "stderr",
          "text": [
            "Fold 3 Epoch 12/30 [Train]:  81%|████████  | 81/100 [00:21<00:04,  3.92it/s, Loss=5.2113]"
          ]
        },
        {
          "output_type": "stream",
          "name": "stdout",
          "text": [
            "*** DEBUG: Batch 80 COMPLETED - Memory cleared ***\n"
          ]
        },
        {
          "output_type": "stream",
          "name": "stderr",
          "text": [
            "Fold 3 Epoch 12/30 [Train]:  91%|█████████ | 91/100 [00:24<00:02,  3.95it/s, Loss=4.1742]"
          ]
        },
        {
          "output_type": "stream",
          "name": "stdout",
          "text": [
            "*** DEBUG: Batch 90 COMPLETED - Memory cleared ***\n"
          ]
        },
        {
          "output_type": "stream",
          "name": "stderr",
          "text": [
            "Fold 3 Epoch 12/30 [Train]: 100%|██████████| 100/100 [00:26<00:00,  3.76it/s, Loss=4.2690]\n",
            "Fold 3 Epoch 12/30 [Val]: 100%|██████████| 25/25 [00:06<00:00,  3.60it/s, Loss=16.7674]\n"
          ]
        },
        {
          "output_type": "stream",
          "name": "stdout",
          "text": [
            "Fold 3 Epoch 12/30:\n",
            "  Train MAPE: 4.1890%\n",
            "  Val MAPE: 14.0984%\n",
            "  LR: 0.000100\n",
            "--------------------------------------------------\n",
            "Fold 3: New best model saved with Val MAPE = 14.0984%\n"
          ]
        },
        {
          "output_type": "stream",
          "name": "stderr",
          "text": [
            "Fold 3 Epoch 13/30 [Train]:   1%|          | 1/100 [00:01<02:50,  1.72s/it, Loss=3.5584]"
          ]
        },
        {
          "output_type": "stream",
          "name": "stdout",
          "text": [
            "*** DEBUG: Batch 0 COMPLETED - Memory cleared ***\n"
          ]
        },
        {
          "output_type": "stream",
          "name": "stderr",
          "text": [
            "Fold 3 Epoch 13/30 [Train]:  11%|█         | 11/100 [00:04<00:27,  3.21it/s, Loss=4.3292]"
          ]
        },
        {
          "output_type": "stream",
          "name": "stdout",
          "text": [
            "*** DEBUG: Batch 10 COMPLETED - Memory cleared ***\n"
          ]
        },
        {
          "output_type": "stream",
          "name": "stderr",
          "text": [
            "Fold 3 Epoch 13/30 [Train]:  21%|██        | 21/100 [00:07<00:21,  3.65it/s, Loss=4.1623]"
          ]
        },
        {
          "output_type": "stream",
          "name": "stdout",
          "text": [
            "*** DEBUG: Batch 20 COMPLETED - Memory cleared ***\n"
          ]
        },
        {
          "output_type": "stream",
          "name": "stderr",
          "text": [
            "Fold 3 Epoch 13/30 [Train]:  31%|███       | 31/100 [00:09<00:18,  3.70it/s, Loss=4.2452]"
          ]
        },
        {
          "output_type": "stream",
          "name": "stdout",
          "text": [
            "*** DEBUG: Batch 30 COMPLETED - Memory cleared ***\n"
          ]
        },
        {
          "output_type": "stream",
          "name": "stderr",
          "text": [
            "Fold 3 Epoch 13/30 [Train]:  41%|████      | 41/100 [00:19<00:37,  1.55it/s, Loss=4.1661]"
          ]
        },
        {
          "output_type": "stream",
          "name": "stdout",
          "text": [
            "*** DEBUG: Batch 40 COMPLETED - Memory cleared ***\n"
          ]
        },
        {
          "output_type": "stream",
          "name": "stderr",
          "text": [
            "Fold 3 Epoch 13/30 [Train]:  51%|█████     | 51/100 [00:22<00:16,  3.03it/s, Loss=3.5392]"
          ]
        },
        {
          "output_type": "stream",
          "name": "stdout",
          "text": [
            "*** DEBUG: Batch 50 COMPLETED - Memory cleared ***\n"
          ]
        },
        {
          "output_type": "stream",
          "name": "stderr",
          "text": [
            "Fold 3 Epoch 13/30 [Train]:  61%|██████    | 61/100 [00:25<00:10,  3.66it/s, Loss=3.5111]"
          ]
        },
        {
          "output_type": "stream",
          "name": "stdout",
          "text": [
            "*** DEBUG: Batch 60 COMPLETED - Memory cleared ***\n"
          ]
        },
        {
          "output_type": "stream",
          "name": "stderr",
          "text": [
            "Fold 3 Epoch 13/30 [Train]:  71%|███████   | 71/100 [00:27<00:08,  3.62it/s, Loss=3.7919]"
          ]
        },
        {
          "output_type": "stream",
          "name": "stdout",
          "text": [
            "*** DEBUG: Batch 70 COMPLETED - Memory cleared ***\n"
          ]
        },
        {
          "output_type": "stream",
          "name": "stderr",
          "text": [
            "Fold 3 Epoch 13/30 [Train]:  81%|████████  | 81/100 [00:30<00:05,  3.59it/s, Loss=4.1269]"
          ]
        },
        {
          "output_type": "stream",
          "name": "stdout",
          "text": [
            "*** DEBUG: Batch 80 COMPLETED - Memory cleared ***\n"
          ]
        },
        {
          "output_type": "stream",
          "name": "stderr",
          "text": [
            "Fold 3 Epoch 13/30 [Train]:  91%|█████████ | 91/100 [00:33<00:02,  3.70it/s, Loss=3.6890]"
          ]
        },
        {
          "output_type": "stream",
          "name": "stdout",
          "text": [
            "*** DEBUG: Batch 90 COMPLETED - Memory cleared ***\n"
          ]
        },
        {
          "output_type": "stream",
          "name": "stderr",
          "text": [
            "Fold 3 Epoch 13/30 [Train]: 100%|██████████| 100/100 [00:35<00:00,  2.83it/s, Loss=4.0798]\n",
            "Fold 3 Epoch 13/30 [Val]: 100%|██████████| 25/25 [00:06<00:00,  3.79it/s, Loss=25.8490]\n"
          ]
        },
        {
          "output_type": "stream",
          "name": "stdout",
          "text": [
            "Fold 3 Epoch 13/30:\n",
            "  Train MAPE: 3.9744%\n",
            "  Val MAPE: 22.2544%\n",
            "  LR: 0.000100\n",
            "--------------------------------------------------\n"
          ]
        },
        {
          "output_type": "stream",
          "name": "stderr",
          "text": [
            "Fold 3 Epoch 14/30 [Train]:   1%|          | 1/100 [00:00<01:08,  1.43it/s, Loss=3.7023]"
          ]
        },
        {
          "output_type": "stream",
          "name": "stdout",
          "text": [
            "*** DEBUG: Batch 0 COMPLETED - Memory cleared ***\n"
          ]
        },
        {
          "output_type": "stream",
          "name": "stderr",
          "text": [
            "Fold 3 Epoch 14/30 [Train]:  11%|█         | 11/100 [00:03<00:24,  3.68it/s, Loss=4.5734]"
          ]
        },
        {
          "output_type": "stream",
          "name": "stdout",
          "text": [
            "*** DEBUG: Batch 10 COMPLETED - Memory cleared ***\n"
          ]
        },
        {
          "output_type": "stream",
          "name": "stderr",
          "text": [
            "Fold 3 Epoch 14/30 [Train]:  21%|██        | 21/100 [00:05<00:20,  3.92it/s, Loss=4.0429]"
          ]
        },
        {
          "output_type": "stream",
          "name": "stdout",
          "text": [
            "*** DEBUG: Batch 20 COMPLETED - Memory cleared ***\n"
          ]
        },
        {
          "output_type": "stream",
          "name": "stderr",
          "text": [
            "Fold 3 Epoch 14/30 [Train]:  31%|███       | 31/100 [00:08<00:17,  3.94it/s, Loss=3.6307]"
          ]
        },
        {
          "output_type": "stream",
          "name": "stdout",
          "text": [
            "*** DEBUG: Batch 30 COMPLETED - Memory cleared ***\n"
          ]
        },
        {
          "output_type": "stream",
          "name": "stderr",
          "text": [
            "Fold 3 Epoch 14/30 [Train]:  41%|████      | 41/100 [00:11<00:15,  3.75it/s, Loss=4.0715]"
          ]
        },
        {
          "output_type": "stream",
          "name": "stdout",
          "text": [
            "*** DEBUG: Batch 40 COMPLETED - Memory cleared ***\n"
          ]
        },
        {
          "output_type": "stream",
          "name": "stderr",
          "text": [
            "Fold 3 Epoch 14/30 [Train]:  51%|█████     | 51/100 [00:13<00:13,  3.76it/s, Loss=3.5851]"
          ]
        },
        {
          "output_type": "stream",
          "name": "stdout",
          "text": [
            "*** DEBUG: Batch 50 COMPLETED - Memory cleared ***\n"
          ]
        },
        {
          "output_type": "stream",
          "name": "stderr",
          "text": [
            "Fold 3 Epoch 14/30 [Train]:  61%|██████    | 61/100 [00:16<00:10,  3.86it/s, Loss=3.4751]"
          ]
        },
        {
          "output_type": "stream",
          "name": "stdout",
          "text": [
            "*** DEBUG: Batch 60 COMPLETED - Memory cleared ***\n"
          ]
        },
        {
          "output_type": "stream",
          "name": "stderr",
          "text": [
            "Fold 3 Epoch 14/30 [Train]:  71%|███████   | 71/100 [00:18<00:07,  3.83it/s, Loss=3.5584]"
          ]
        },
        {
          "output_type": "stream",
          "name": "stdout",
          "text": [
            "*** DEBUG: Batch 70 COMPLETED - Memory cleared ***\n"
          ]
        },
        {
          "output_type": "stream",
          "name": "stderr",
          "text": [
            "Fold 3 Epoch 14/30 [Train]:  81%|████████  | 81/100 [00:21<00:05,  3.79it/s, Loss=4.0676]"
          ]
        },
        {
          "output_type": "stream",
          "name": "stdout",
          "text": [
            "*** DEBUG: Batch 80 COMPLETED - Memory cleared ***\n"
          ]
        },
        {
          "output_type": "stream",
          "name": "stderr",
          "text": [
            "Fold 3 Epoch 14/30 [Train]:  91%|█████████ | 91/100 [00:24<00:02,  3.70it/s, Loss=3.7617]"
          ]
        },
        {
          "output_type": "stream",
          "name": "stdout",
          "text": [
            "*** DEBUG: Batch 90 COMPLETED - Memory cleared ***\n"
          ]
        },
        {
          "output_type": "stream",
          "name": "stderr",
          "text": [
            "Fold 3 Epoch 14/30 [Train]: 100%|██████████| 100/100 [00:26<00:00,  3.79it/s, Loss=4.0820]\n",
            "Fold 3 Epoch 14/30 [Val]: 100%|██████████| 25/25 [00:06<00:00,  3.74it/s, Loss=22.2554]\n"
          ]
        },
        {
          "output_type": "stream",
          "name": "stdout",
          "text": [
            "Fold 3 Epoch 14/30:\n",
            "  Train MAPE: 3.9237%\n",
            "  Val MAPE: 19.5148%\n",
            "  LR: 0.000100\n",
            "--------------------------------------------------\n"
          ]
        },
        {
          "output_type": "stream",
          "name": "stderr",
          "text": [
            "Fold 3 Epoch 15/30 [Train]:   1%|          | 1/100 [00:00<01:04,  1.55it/s, Loss=3.7233]"
          ]
        },
        {
          "output_type": "stream",
          "name": "stdout",
          "text": [
            "*** DEBUG: Batch 0 COMPLETED - Memory cleared ***\n"
          ]
        },
        {
          "output_type": "stream",
          "name": "stderr",
          "text": [
            "Fold 3 Epoch 15/30 [Train]:  11%|█         | 11/100 [00:03<00:24,  3.62it/s, Loss=3.5463]"
          ]
        },
        {
          "output_type": "stream",
          "name": "stdout",
          "text": [
            "*** DEBUG: Batch 10 COMPLETED - Memory cleared ***\n"
          ]
        },
        {
          "output_type": "stream",
          "name": "stderr",
          "text": [
            "Fold 3 Epoch 15/30 [Train]:  21%|██        | 21/100 [00:06<00:21,  3.67it/s, Loss=3.7710]"
          ]
        },
        {
          "output_type": "stream",
          "name": "stdout",
          "text": [
            "*** DEBUG: Batch 20 COMPLETED - Memory cleared ***\n"
          ]
        },
        {
          "output_type": "stream",
          "name": "stderr",
          "text": [
            "Fold 3 Epoch 15/30 [Train]:  31%|███       | 31/100 [00:08<00:18,  3.81it/s, Loss=4.2531]"
          ]
        },
        {
          "output_type": "stream",
          "name": "stdout",
          "text": [
            "*** DEBUG: Batch 30 COMPLETED - Memory cleared ***\n"
          ]
        },
        {
          "output_type": "stream",
          "name": "stderr",
          "text": [
            "Fold 3 Epoch 15/30 [Train]:  41%|████      | 41/100 [00:11<00:15,  3.89it/s, Loss=3.7829]"
          ]
        },
        {
          "output_type": "stream",
          "name": "stdout",
          "text": [
            "*** DEBUG: Batch 40 COMPLETED - Memory cleared ***\n"
          ]
        },
        {
          "output_type": "stream",
          "name": "stderr",
          "text": [
            "Fold 3 Epoch 15/30 [Train]:  51%|█████     | 51/100 [00:13<00:12,  3.89it/s, Loss=3.6095]"
          ]
        },
        {
          "output_type": "stream",
          "name": "stdout",
          "text": [
            "*** DEBUG: Batch 50 COMPLETED - Memory cleared ***\n"
          ]
        },
        {
          "output_type": "stream",
          "name": "stderr",
          "text": [
            "Fold 3 Epoch 15/30 [Train]:  61%|██████    | 61/100 [00:16<00:10,  3.78it/s, Loss=3.6659]"
          ]
        },
        {
          "output_type": "stream",
          "name": "stdout",
          "text": [
            "*** DEBUG: Batch 60 COMPLETED - Memory cleared ***\n"
          ]
        },
        {
          "output_type": "stream",
          "name": "stderr",
          "text": [
            "Fold 3 Epoch 15/30 [Train]:  71%|███████   | 71/100 [00:19<00:07,  3.76it/s, Loss=4.2850]"
          ]
        },
        {
          "output_type": "stream",
          "name": "stdout",
          "text": [
            "*** DEBUG: Batch 70 COMPLETED - Memory cleared ***\n"
          ]
        },
        {
          "output_type": "stream",
          "name": "stderr",
          "text": [
            "Fold 3 Epoch 15/30 [Train]:  81%|████████  | 81/100 [00:21<00:04,  3.82it/s, Loss=3.6607]"
          ]
        },
        {
          "output_type": "stream",
          "name": "stdout",
          "text": [
            "*** DEBUG: Batch 80 COMPLETED - Memory cleared ***\n"
          ]
        },
        {
          "output_type": "stream",
          "name": "stderr",
          "text": [
            "Fold 3 Epoch 15/30 [Train]:  91%|█████████ | 91/100 [00:24<00:02,  3.87it/s, Loss=3.8538]"
          ]
        },
        {
          "output_type": "stream",
          "name": "stdout",
          "text": [
            "*** DEBUG: Batch 90 COMPLETED - Memory cleared ***\n"
          ]
        },
        {
          "output_type": "stream",
          "name": "stderr",
          "text": [
            "Fold 3 Epoch 15/30 [Train]: 100%|██████████| 100/100 [00:26<00:00,  3.76it/s, Loss=3.8373]\n",
            "Fold 3 Epoch 15/30 [Val]: 100%|██████████| 25/25 [00:06<00:00,  3.75it/s, Loss=16.3959]\n"
          ]
        },
        {
          "output_type": "stream",
          "name": "stdout",
          "text": [
            "Fold 3 Epoch 15/30:\n",
            "  Train MAPE: 3.7898%\n",
            "  Val MAPE: 13.7098%\n",
            "  LR: 0.000100\n",
            "--------------------------------------------------\n",
            "Fold 3: New best model saved with Val MAPE = 13.7098%\n"
          ]
        },
        {
          "output_type": "stream",
          "name": "stderr",
          "text": [
            "Fold 3 Epoch 16/30 [Train]:   1%|          | 1/100 [00:01<03:08,  1.90s/it, Loss=3.8058]"
          ]
        },
        {
          "output_type": "stream",
          "name": "stdout",
          "text": [
            "*** DEBUG: Batch 0 COMPLETED - Memory cleared ***\n"
          ]
        },
        {
          "output_type": "stream",
          "name": "stderr",
          "text": [
            "Fold 3 Epoch 16/30 [Train]:  11%|█         | 11/100 [00:04<00:28,  3.18it/s, Loss=3.8196]"
          ]
        },
        {
          "output_type": "stream",
          "name": "stdout",
          "text": [
            "*** DEBUG: Batch 10 COMPLETED - Memory cleared ***\n"
          ]
        },
        {
          "output_type": "stream",
          "name": "stderr",
          "text": [
            "Fold 3 Epoch 16/30 [Train]:  21%|██        | 21/100 [00:07<00:21,  3.61it/s, Loss=4.0087]"
          ]
        },
        {
          "output_type": "stream",
          "name": "stdout",
          "text": [
            "*** DEBUG: Batch 20 COMPLETED - Memory cleared ***\n"
          ]
        },
        {
          "output_type": "stream",
          "name": "stderr",
          "text": [
            "Fold 3 Epoch 16/30 [Train]:  31%|███       | 31/100 [00:09<00:18,  3.75it/s, Loss=3.3520]"
          ]
        },
        {
          "output_type": "stream",
          "name": "stdout",
          "text": [
            "*** DEBUG: Batch 30 COMPLETED - Memory cleared ***\n"
          ]
        },
        {
          "output_type": "stream",
          "name": "stderr",
          "text": [
            "Fold 3 Epoch 16/30 [Train]:  41%|████      | 41/100 [00:19<00:38,  1.54it/s, Loss=3.6063]"
          ]
        },
        {
          "output_type": "stream",
          "name": "stdout",
          "text": [
            "*** DEBUG: Batch 40 COMPLETED - Memory cleared ***\n"
          ]
        },
        {
          "output_type": "stream",
          "name": "stderr",
          "text": [
            "Fold 3 Epoch 16/30 [Train]:  51%|█████     | 51/100 [00:22<00:16,  3.01it/s, Loss=4.0266]"
          ]
        },
        {
          "output_type": "stream",
          "name": "stdout",
          "text": [
            "*** DEBUG: Batch 50 COMPLETED - Memory cleared ***\n"
          ]
        },
        {
          "output_type": "stream",
          "name": "stderr",
          "text": [
            "Fold 3 Epoch 16/30 [Train]:  61%|██████    | 61/100 [00:25<00:10,  3.58it/s, Loss=3.8757]"
          ]
        },
        {
          "output_type": "stream",
          "name": "stdout",
          "text": [
            "*** DEBUG: Batch 60 COMPLETED - Memory cleared ***\n"
          ]
        },
        {
          "output_type": "stream",
          "name": "stderr",
          "text": [
            "Fold 3 Epoch 16/30 [Train]:  71%|███████   | 71/100 [00:27<00:07,  3.67it/s, Loss=3.9661]"
          ]
        },
        {
          "output_type": "stream",
          "name": "stdout",
          "text": [
            "*** DEBUG: Batch 70 COMPLETED - Memory cleared ***\n"
          ]
        },
        {
          "output_type": "stream",
          "name": "stderr",
          "text": [
            "Fold 3 Epoch 16/30 [Train]:  81%|████████  | 81/100 [00:30<00:05,  3.58it/s, Loss=3.2704]"
          ]
        },
        {
          "output_type": "stream",
          "name": "stdout",
          "text": [
            "*** DEBUG: Batch 80 COMPLETED - Memory cleared ***\n"
          ]
        },
        {
          "output_type": "stream",
          "name": "stderr",
          "text": [
            "Fold 3 Epoch 16/30 [Train]:  91%|█████████ | 91/100 [00:33<00:02,  3.75it/s, Loss=3.4307]"
          ]
        },
        {
          "output_type": "stream",
          "name": "stdout",
          "text": [
            "*** DEBUG: Batch 90 COMPLETED - Memory cleared ***\n"
          ]
        },
        {
          "output_type": "stream",
          "name": "stderr",
          "text": [
            "Fold 3 Epoch 16/30 [Train]: 100%|██████████| 100/100 [00:35<00:00,  2.82it/s, Loss=3.6459]\n",
            "Fold 3 Epoch 16/30 [Val]: 100%|██████████| 25/25 [00:06<00:00,  3.76it/s, Loss=16.5104]\n"
          ]
        },
        {
          "output_type": "stream",
          "name": "stdout",
          "text": [
            "Fold 3 Epoch 16/30:\n",
            "  Train MAPE: 3.7604%\n",
            "  Val MAPE: 13.8224%\n",
            "  LR: 0.000100\n",
            "--------------------------------------------------\n"
          ]
        },
        {
          "output_type": "stream",
          "name": "stderr",
          "text": [
            "Fold 3 Epoch 17/30 [Train]:   1%|          | 1/100 [00:00<01:02,  1.58it/s, Loss=3.7505]"
          ]
        },
        {
          "output_type": "stream",
          "name": "stdout",
          "text": [
            "*** DEBUG: Batch 0 COMPLETED - Memory cleared ***\n"
          ]
        },
        {
          "output_type": "stream",
          "name": "stderr",
          "text": [
            "Fold 3 Epoch 17/30 [Train]:  11%|█         | 11/100 [00:03<00:23,  3.80it/s, Loss=3.6589]"
          ]
        },
        {
          "output_type": "stream",
          "name": "stdout",
          "text": [
            "*** DEBUG: Batch 10 COMPLETED - Memory cleared ***\n"
          ]
        },
        {
          "output_type": "stream",
          "name": "stderr",
          "text": [
            "Fold 3 Epoch 17/30 [Train]:  21%|██        | 21/100 [00:05<00:20,  3.89it/s, Loss=3.5531]"
          ]
        },
        {
          "output_type": "stream",
          "name": "stdout",
          "text": [
            "*** DEBUG: Batch 20 COMPLETED - Memory cleared ***\n"
          ]
        },
        {
          "output_type": "stream",
          "name": "stderr",
          "text": [
            "Fold 3 Epoch 17/30 [Train]:  31%|███       | 31/100 [00:08<00:17,  3.96it/s, Loss=3.4480]"
          ]
        },
        {
          "output_type": "stream",
          "name": "stdout",
          "text": [
            "*** DEBUG: Batch 30 COMPLETED - Memory cleared ***\n"
          ]
        },
        {
          "output_type": "stream",
          "name": "stderr",
          "text": [
            "Fold 3 Epoch 17/30 [Train]:  41%|████      | 41/100 [00:10<00:15,  3.91it/s, Loss=3.5726]"
          ]
        },
        {
          "output_type": "stream",
          "name": "stdout",
          "text": [
            "*** DEBUG: Batch 40 COMPLETED - Memory cleared ***\n"
          ]
        },
        {
          "output_type": "stream",
          "name": "stderr",
          "text": [
            "Fold 3 Epoch 17/30 [Train]:  51%|█████     | 51/100 [00:13<00:13,  3.64it/s, Loss=4.0254]"
          ]
        },
        {
          "output_type": "stream",
          "name": "stdout",
          "text": [
            "*** DEBUG: Batch 50 COMPLETED - Memory cleared ***\n"
          ]
        },
        {
          "output_type": "stream",
          "name": "stderr",
          "text": [
            "Fold 3 Epoch 17/30 [Train]:  61%|██████    | 61/100 [00:16<00:10,  3.78it/s, Loss=3.4034]"
          ]
        },
        {
          "output_type": "stream",
          "name": "stdout",
          "text": [
            "*** DEBUG: Batch 60 COMPLETED - Memory cleared ***\n"
          ]
        },
        {
          "output_type": "stream",
          "name": "stderr",
          "text": [
            "Fold 3 Epoch 17/30 [Train]:  71%|███████   | 71/100 [00:18<00:07,  3.90it/s, Loss=3.7726]"
          ]
        },
        {
          "output_type": "stream",
          "name": "stdout",
          "text": [
            "*** DEBUG: Batch 70 COMPLETED - Memory cleared ***\n"
          ]
        },
        {
          "output_type": "stream",
          "name": "stderr",
          "text": [
            "Fold 3 Epoch 17/30 [Train]:  81%|████████  | 81/100 [00:21<00:04,  3.85it/s, Loss=3.5338]"
          ]
        },
        {
          "output_type": "stream",
          "name": "stdout",
          "text": [
            "*** DEBUG: Batch 80 COMPLETED - Memory cleared ***\n"
          ]
        },
        {
          "output_type": "stream",
          "name": "stderr",
          "text": [
            "Fold 3 Epoch 17/30 [Train]:  91%|█████████ | 91/100 [00:24<00:02,  3.85it/s, Loss=4.2139]"
          ]
        },
        {
          "output_type": "stream",
          "name": "stdout",
          "text": [
            "*** DEBUG: Batch 90 COMPLETED - Memory cleared ***\n"
          ]
        },
        {
          "output_type": "stream",
          "name": "stderr",
          "text": [
            "Fold 3 Epoch 17/30 [Train]: 100%|██████████| 100/100 [00:26<00:00,  3.80it/s, Loss=3.5144]\n",
            "Fold 3 Epoch 17/30 [Val]: 100%|██████████| 25/25 [00:06<00:00,  3.75it/s, Loss=10.9994]\n"
          ]
        },
        {
          "output_type": "stream",
          "name": "stdout",
          "text": [
            "Fold 3 Epoch 17/30:\n",
            "  Train MAPE: 3.7353%\n",
            "  Val MAPE: 9.2426%\n",
            "  LR: 0.000100\n",
            "--------------------------------------------------\n",
            "Fold 3: New best model saved with Val MAPE = 9.2426%\n"
          ]
        },
        {
          "output_type": "stream",
          "name": "stderr",
          "text": [
            "Fold 3 Epoch 18/30 [Train]:   1%|          | 1/100 [00:01<02:50,  1.72s/it, Loss=4.0636]"
          ]
        },
        {
          "output_type": "stream",
          "name": "stdout",
          "text": [
            "*** DEBUG: Batch 0 COMPLETED - Memory cleared ***\n"
          ]
        },
        {
          "output_type": "stream",
          "name": "stderr",
          "text": [
            "Fold 3 Epoch 18/30 [Train]:  11%|█         | 11/100 [00:04<00:27,  3.28it/s, Loss=3.9734]"
          ]
        },
        {
          "output_type": "stream",
          "name": "stdout",
          "text": [
            "*** DEBUG: Batch 10 COMPLETED - Memory cleared ***\n"
          ]
        },
        {
          "output_type": "stream",
          "name": "stderr",
          "text": [
            "Fold 3 Epoch 18/30 [Train]:  21%|██        | 21/100 [00:06<00:20,  3.76it/s, Loss=3.8821]"
          ]
        },
        {
          "output_type": "stream",
          "name": "stdout",
          "text": [
            "*** DEBUG: Batch 20 COMPLETED - Memory cleared ***\n"
          ]
        },
        {
          "output_type": "stream",
          "name": "stderr",
          "text": [
            "Fold 3 Epoch 18/30 [Train]:  31%|███       | 31/100 [00:09<00:17,  3.89it/s, Loss=3.4337]"
          ]
        },
        {
          "output_type": "stream",
          "name": "stdout",
          "text": [
            "*** DEBUG: Batch 30 COMPLETED - Memory cleared ***\n"
          ]
        },
        {
          "output_type": "stream",
          "name": "stderr",
          "text": [
            "Fold 3 Epoch 18/30 [Train]:  41%|████      | 41/100 [00:19<00:46,  1.26it/s, Loss=3.5022]"
          ]
        },
        {
          "output_type": "stream",
          "name": "stdout",
          "text": [
            "*** DEBUG: Batch 40 COMPLETED - Memory cleared ***\n"
          ]
        },
        {
          "output_type": "stream",
          "name": "stderr",
          "text": [
            "Fold 3 Epoch 18/30 [Train]:  51%|█████     | 51/100 [00:21<00:17,  2.82it/s, Loss=3.4983]"
          ]
        },
        {
          "output_type": "stream",
          "name": "stdout",
          "text": [
            "*** DEBUG: Batch 50 COMPLETED - Memory cleared ***\n"
          ]
        },
        {
          "output_type": "stream",
          "name": "stderr",
          "text": [
            "Fold 3 Epoch 18/30 [Train]:  61%|██████    | 61/100 [00:24<00:10,  3.58it/s, Loss=3.7300]"
          ]
        },
        {
          "output_type": "stream",
          "name": "stdout",
          "text": [
            "*** DEBUG: Batch 60 COMPLETED - Memory cleared ***\n"
          ]
        },
        {
          "output_type": "stream",
          "name": "stderr",
          "text": [
            "Fold 3 Epoch 18/30 [Train]:  71%|███████   | 71/100 [00:27<00:08,  3.56it/s, Loss=3.7595]"
          ]
        },
        {
          "output_type": "stream",
          "name": "stdout",
          "text": [
            "*** DEBUG: Batch 70 COMPLETED - Memory cleared ***\n"
          ]
        },
        {
          "output_type": "stream",
          "name": "stderr",
          "text": [
            "Fold 3 Epoch 18/30 [Train]:  81%|████████  | 81/100 [00:30<00:05,  3.65it/s, Loss=3.6258]"
          ]
        },
        {
          "output_type": "stream",
          "name": "stdout",
          "text": [
            "*** DEBUG: Batch 80 COMPLETED - Memory cleared ***\n"
          ]
        },
        {
          "output_type": "stream",
          "name": "stderr",
          "text": [
            "Fold 3 Epoch 18/30 [Train]:  91%|█████████ | 91/100 [00:32<00:02,  3.83it/s, Loss=3.4512]"
          ]
        },
        {
          "output_type": "stream",
          "name": "stdout",
          "text": [
            "*** DEBUG: Batch 90 COMPLETED - Memory cleared ***\n"
          ]
        },
        {
          "output_type": "stream",
          "name": "stderr",
          "text": [
            "Fold 3 Epoch 18/30 [Train]: 100%|██████████| 100/100 [00:34<00:00,  2.87it/s, Loss=3.6781]\n",
            "Fold 3 Epoch 18/30 [Val]: 100%|██████████| 25/25 [00:06<00:00,  3.72it/s, Loss=33.4733]\n"
          ]
        },
        {
          "output_type": "stream",
          "name": "stdout",
          "text": [
            "Fold 3 Epoch 18/30:\n",
            "  Train MAPE: 3.6674%\n",
            "  Val MAPE: 34.8134%\n",
            "  LR: 0.000100\n",
            "--------------------------------------------------\n"
          ]
        },
        {
          "output_type": "stream",
          "name": "stderr",
          "text": [
            "Fold 3 Epoch 19/30 [Train]:   1%|          | 1/100 [00:00<01:05,  1.50it/s, Loss=4.0754]"
          ]
        },
        {
          "output_type": "stream",
          "name": "stdout",
          "text": [
            "*** DEBUG: Batch 0 COMPLETED - Memory cleared ***\n"
          ]
        },
        {
          "output_type": "stream",
          "name": "stderr",
          "text": [
            "Fold 3 Epoch 19/30 [Train]:  11%|█         | 11/100 [00:03<00:23,  3.87it/s, Loss=3.6130]"
          ]
        },
        {
          "output_type": "stream",
          "name": "stdout",
          "text": [
            "*** DEBUG: Batch 10 COMPLETED - Memory cleared ***\n"
          ]
        },
        {
          "output_type": "stream",
          "name": "stderr",
          "text": [
            "Fold 3 Epoch 19/30 [Train]:  21%|██        | 21/100 [00:05<00:20,  3.84it/s, Loss=3.4676]"
          ]
        },
        {
          "output_type": "stream",
          "name": "stdout",
          "text": [
            "*** DEBUG: Batch 20 COMPLETED - Memory cleared ***\n"
          ]
        },
        {
          "output_type": "stream",
          "name": "stderr",
          "text": [
            "Fold 3 Epoch 19/30 [Train]:  31%|███       | 31/100 [00:08<00:17,  3.96it/s, Loss=4.1445]"
          ]
        },
        {
          "output_type": "stream",
          "name": "stdout",
          "text": [
            "*** DEBUG: Batch 30 COMPLETED - Memory cleared ***\n"
          ]
        },
        {
          "output_type": "stream",
          "name": "stderr",
          "text": [
            "Fold 3 Epoch 19/30 [Train]:  41%|████      | 41/100 [00:10<00:15,  3.91it/s, Loss=3.3315]"
          ]
        },
        {
          "output_type": "stream",
          "name": "stdout",
          "text": [
            "*** DEBUG: Batch 40 COMPLETED - Memory cleared ***\n"
          ]
        },
        {
          "output_type": "stream",
          "name": "stderr",
          "text": [
            "Fold 3 Epoch 19/30 [Train]:  51%|█████     | 51/100 [00:13<00:12,  3.90it/s, Loss=3.7305]"
          ]
        },
        {
          "output_type": "stream",
          "name": "stdout",
          "text": [
            "*** DEBUG: Batch 50 COMPLETED - Memory cleared ***\n"
          ]
        },
        {
          "output_type": "stream",
          "name": "stderr",
          "text": [
            "Fold 3 Epoch 19/30 [Train]:  61%|██████    | 61/100 [00:15<00:09,  3.94it/s, Loss=3.4867]"
          ]
        },
        {
          "output_type": "stream",
          "name": "stdout",
          "text": [
            "*** DEBUG: Batch 60 COMPLETED - Memory cleared ***\n"
          ]
        },
        {
          "output_type": "stream",
          "name": "stderr",
          "text": [
            "Fold 3 Epoch 19/30 [Train]:  71%|███████   | 71/100 [00:18<00:07,  3.99it/s, Loss=3.6492]"
          ]
        },
        {
          "output_type": "stream",
          "name": "stdout",
          "text": [
            "*** DEBUG: Batch 70 COMPLETED - Memory cleared ***\n"
          ]
        },
        {
          "output_type": "stream",
          "name": "stderr",
          "text": [
            "Fold 3 Epoch 19/30 [Train]:  81%|████████  | 81/100 [00:21<00:04,  3.95it/s, Loss=3.6651]"
          ]
        },
        {
          "output_type": "stream",
          "name": "stdout",
          "text": [
            "*** DEBUG: Batch 80 COMPLETED - Memory cleared ***\n"
          ]
        },
        {
          "output_type": "stream",
          "name": "stderr",
          "text": [
            "Fold 3 Epoch 19/30 [Train]:  91%|█████████ | 91/100 [00:23<00:02,  3.78it/s, Loss=3.7484]"
          ]
        },
        {
          "output_type": "stream",
          "name": "stdout",
          "text": [
            "*** DEBUG: Batch 90 COMPLETED - Memory cleared ***\n"
          ]
        },
        {
          "output_type": "stream",
          "name": "stderr",
          "text": [
            "Fold 3 Epoch 19/30 [Train]: 100%|██████████| 100/100 [00:25<00:00,  3.87it/s, Loss=3.6023]\n",
            "Fold 3 Epoch 19/30 [Val]: 100%|██████████| 25/25 [00:06<00:00,  3.71it/s, Loss=8.0854]\n"
          ]
        },
        {
          "output_type": "stream",
          "name": "stdout",
          "text": [
            "Fold 3 Epoch 19/30:\n",
            "  Train MAPE: 3.7126%\n",
            "  Val MAPE: 7.2917%\n",
            "  LR: 0.000100\n",
            "--------------------------------------------------\n",
            "Fold 3: New best model saved with Val MAPE = 7.2917%\n"
          ]
        },
        {
          "output_type": "stream",
          "name": "stderr",
          "text": [
            "Fold 3 Epoch 20/30 [Train]:   1%|          | 1/100 [00:01<02:52,  1.74s/it, Loss=3.8545]"
          ]
        },
        {
          "output_type": "stream",
          "name": "stdout",
          "text": [
            "*** DEBUG: Batch 0 COMPLETED - Memory cleared ***\n"
          ]
        },
        {
          "output_type": "stream",
          "name": "stderr",
          "text": [
            "Fold 3 Epoch 20/30 [Train]:  11%|█         | 11/100 [00:04<00:26,  3.33it/s, Loss=3.3417]"
          ]
        },
        {
          "output_type": "stream",
          "name": "stdout",
          "text": [
            "*** DEBUG: Batch 10 COMPLETED - Memory cleared ***\n"
          ]
        },
        {
          "output_type": "stream",
          "name": "stderr",
          "text": [
            "Fold 3 Epoch 20/30 [Train]:  21%|██        | 21/100 [00:06<00:20,  3.79it/s, Loss=3.3490]"
          ]
        },
        {
          "output_type": "stream",
          "name": "stdout",
          "text": [
            "*** DEBUG: Batch 20 COMPLETED - Memory cleared ***\n"
          ]
        },
        {
          "output_type": "stream",
          "name": "stderr",
          "text": [
            "Fold 3 Epoch 20/30 [Train]:  31%|███       | 31/100 [00:09<00:17,  3.84it/s, Loss=3.4419]"
          ]
        },
        {
          "output_type": "stream",
          "name": "stdout",
          "text": [
            "*** DEBUG: Batch 30 COMPLETED - Memory cleared ***\n"
          ]
        },
        {
          "output_type": "stream",
          "name": "stderr",
          "text": [
            "Fold 3 Epoch 20/30 [Train]:  41%|████      | 41/100 [00:19<00:47,  1.25it/s, Loss=3.1861]"
          ]
        },
        {
          "output_type": "stream",
          "name": "stdout",
          "text": [
            "*** DEBUG: Batch 40 COMPLETED - Memory cleared ***\n"
          ]
        },
        {
          "output_type": "stream",
          "name": "stderr",
          "text": [
            "Fold 3 Epoch 20/30 [Train]:  51%|█████     | 51/100 [00:22<00:17,  2.82it/s, Loss=3.4852]"
          ]
        },
        {
          "output_type": "stream",
          "name": "stdout",
          "text": [
            "*** DEBUG: Batch 50 COMPLETED - Memory cleared ***\n"
          ]
        },
        {
          "output_type": "stream",
          "name": "stderr",
          "text": [
            "Fold 3 Epoch 20/30 [Train]:  61%|██████    | 61/100 [00:24<00:11,  3.51it/s, Loss=5.3217]"
          ]
        },
        {
          "output_type": "stream",
          "name": "stdout",
          "text": [
            "*** DEBUG: Batch 60 COMPLETED - Memory cleared ***\n"
          ]
        },
        {
          "output_type": "stream",
          "name": "stderr",
          "text": [
            "Fold 3 Epoch 20/30 [Train]:  71%|███████   | 71/100 [00:27<00:08,  3.55it/s, Loss=3.8032]"
          ]
        },
        {
          "output_type": "stream",
          "name": "stdout",
          "text": [
            "*** DEBUG: Batch 70 COMPLETED - Memory cleared ***\n"
          ]
        },
        {
          "output_type": "stream",
          "name": "stderr",
          "text": [
            "Fold 3 Epoch 20/30 [Train]:  81%|████████  | 81/100 [00:30<00:05,  3.72it/s, Loss=4.0990]"
          ]
        },
        {
          "output_type": "stream",
          "name": "stdout",
          "text": [
            "*** DEBUG: Batch 80 COMPLETED - Memory cleared ***\n"
          ]
        },
        {
          "output_type": "stream",
          "name": "stderr",
          "text": [
            "Fold 3 Epoch 20/30 [Train]:  91%|█████████ | 91/100 [00:32<00:02,  3.72it/s, Loss=3.5677]"
          ]
        },
        {
          "output_type": "stream",
          "name": "stdout",
          "text": [
            "*** DEBUG: Batch 90 COMPLETED - Memory cleared ***\n"
          ]
        },
        {
          "output_type": "stream",
          "name": "stderr",
          "text": [
            "Fold 3 Epoch 20/30 [Train]: 100%|██████████| 100/100 [00:35<00:00,  2.85it/s, Loss=3.6357]\n",
            "Fold 3 Epoch 20/30 [Val]: 100%|██████████| 25/25 [00:06<00:00,  3.68it/s, Loss=6.3994]\n"
          ]
        },
        {
          "output_type": "stream",
          "name": "stdout",
          "text": [
            "Fold 3 Epoch 20/30:\n",
            "  Train MAPE: 3.6026%\n",
            "  Val MAPE: 6.3305%\n",
            "  LR: 0.000100\n",
            "--------------------------------------------------\n",
            "Fold 3: New best model saved with Val MAPE = 6.3305%\n"
          ]
        },
        {
          "output_type": "stream",
          "name": "stderr",
          "text": [
            "Fold 3 Epoch 21/30 [Train]:   1%|          | 1/100 [00:01<02:55,  1.77s/it, Loss=3.5750]"
          ]
        },
        {
          "output_type": "stream",
          "name": "stdout",
          "text": [
            "*** DEBUG: Batch 0 COMPLETED - Memory cleared ***\n"
          ]
        },
        {
          "output_type": "stream",
          "name": "stderr",
          "text": [
            "Fold 3 Epoch 21/30 [Train]:  11%|█         | 11/100 [00:04<00:27,  3.26it/s, Loss=3.6643]"
          ]
        },
        {
          "output_type": "stream",
          "name": "stdout",
          "text": [
            "*** DEBUG: Batch 10 COMPLETED - Memory cleared ***\n"
          ]
        },
        {
          "output_type": "stream",
          "name": "stderr",
          "text": [
            "Fold 3 Epoch 21/30 [Train]:  22%|██▏       | 22/100 [00:07<00:18,  4.22it/s, Loss=3.4285]"
          ]
        },
        {
          "output_type": "stream",
          "name": "stdout",
          "text": [
            "*** DEBUG: Batch 20 COMPLETED - Memory cleared ***\n"
          ]
        },
        {
          "output_type": "stream",
          "name": "stderr",
          "text": [
            "Fold 3 Epoch 21/30 [Train]:  32%|███▏      | 32/100 [00:09<00:16,  4.25it/s, Loss=3.4874]"
          ]
        },
        {
          "output_type": "stream",
          "name": "stdout",
          "text": [
            "*** DEBUG: Batch 30 COMPLETED - Memory cleared ***\n"
          ]
        },
        {
          "output_type": "stream",
          "name": "stderr",
          "text": [
            "Fold 3 Epoch 21/30 [Train]:  42%|████▏     | 42/100 [00:19<00:24,  2.36it/s, Loss=3.1365]"
          ]
        },
        {
          "output_type": "stream",
          "name": "stdout",
          "text": [
            "*** DEBUG: Batch 40 COMPLETED - Memory cleared ***\n"
          ]
        },
        {
          "output_type": "stream",
          "name": "stderr",
          "text": [
            "Fold 3 Epoch 21/30 [Train]:  52%|█████▏    | 52/100 [00:22<00:11,  4.16it/s, Loss=4.3065]"
          ]
        },
        {
          "output_type": "stream",
          "name": "stdout",
          "text": [
            "*** DEBUG: Batch 50 COMPLETED - Memory cleared ***\n"
          ]
        },
        {
          "output_type": "stream",
          "name": "stderr",
          "text": [
            "Fold 3 Epoch 21/30 [Train]:  61%|██████    | 61/100 [00:24<00:10,  3.70it/s, Loss=3.5816]"
          ]
        },
        {
          "output_type": "stream",
          "name": "stdout",
          "text": [
            "*** DEBUG: Batch 60 COMPLETED - Memory cleared ***\n"
          ]
        },
        {
          "output_type": "stream",
          "name": "stderr",
          "text": [
            "Fold 3 Epoch 21/30 [Train]:  72%|███████▏  | 72/100 [00:27<00:07,  3.87it/s, Loss=3.2927]"
          ]
        },
        {
          "output_type": "stream",
          "name": "stdout",
          "text": [
            "*** DEBUG: Batch 70 COMPLETED - Memory cleared ***\n"
          ]
        },
        {
          "output_type": "stream",
          "name": "stderr",
          "text": [
            "Fold 3 Epoch 21/30 [Train]:  82%|████████▏ | 82/100 [00:30<00:04,  4.04it/s, Loss=3.7840]"
          ]
        },
        {
          "output_type": "stream",
          "name": "stdout",
          "text": [
            "*** DEBUG: Batch 80 COMPLETED - Memory cleared ***\n"
          ]
        },
        {
          "output_type": "stream",
          "name": "stderr",
          "text": [
            "Fold 3 Epoch 21/30 [Train]:  92%|█████████▏| 92/100 [00:32<00:02,  3.86it/s, Loss=3.5680]"
          ]
        },
        {
          "output_type": "stream",
          "name": "stdout",
          "text": [
            "*** DEBUG: Batch 90 COMPLETED - Memory cleared ***\n"
          ]
        },
        {
          "output_type": "stream",
          "name": "stderr",
          "text": [
            "Fold 3 Epoch 21/30 [Train]: 100%|██████████| 100/100 [00:34<00:00,  2.87it/s, Loss=3.7623]\n",
            "Fold 3 Epoch 21/30 [Val]: 100%|██████████| 25/25 [00:06<00:00,  3.78it/s, Loss=28.8923]\n"
          ]
        },
        {
          "output_type": "stream",
          "name": "stdout",
          "text": [
            "Fold 3 Epoch 21/30:\n",
            "  Train MAPE: 3.5813%\n",
            "  Val MAPE: 29.8859%\n",
            "  LR: 0.000100\n",
            "--------------------------------------------------\n"
          ]
        },
        {
          "output_type": "stream",
          "name": "stderr",
          "text": [
            "Fold 3 Epoch 22/30 [Train]:   1%|          | 1/100 [00:00<01:06,  1.48it/s, Loss=3.2986]"
          ]
        },
        {
          "output_type": "stream",
          "name": "stdout",
          "text": [
            "*** DEBUG: Batch 0 COMPLETED - Memory cleared ***\n"
          ]
        },
        {
          "output_type": "stream",
          "name": "stderr",
          "text": [
            "Fold 3 Epoch 22/30 [Train]:  12%|█▏        | 12/100 [00:03<00:20,  4.20it/s, Loss=3.7539]"
          ]
        },
        {
          "output_type": "stream",
          "name": "stdout",
          "text": [
            "*** DEBUG: Batch 10 COMPLETED - Memory cleared ***\n"
          ]
        },
        {
          "output_type": "stream",
          "name": "stderr",
          "text": [
            "Fold 3 Epoch 22/30 [Train]:  21%|██        | 21/100 [00:05<00:20,  3.90it/s, Loss=3.5647]"
          ]
        },
        {
          "output_type": "stream",
          "name": "stdout",
          "text": [
            "*** DEBUG: Batch 20 COMPLETED - Memory cleared ***\n"
          ]
        },
        {
          "output_type": "stream",
          "name": "stderr",
          "text": [
            "Fold 3 Epoch 22/30 [Train]:  31%|███       | 31/100 [00:08<00:18,  3.77it/s, Loss=3.4556]"
          ]
        },
        {
          "output_type": "stream",
          "name": "stdout",
          "text": [
            "*** DEBUG: Batch 30 COMPLETED - Memory cleared ***\n"
          ]
        },
        {
          "output_type": "stream",
          "name": "stderr",
          "text": [
            "Fold 3 Epoch 22/30 [Train]:  41%|████      | 41/100 [00:11<00:15,  3.89it/s, Loss=3.1553]"
          ]
        },
        {
          "output_type": "stream",
          "name": "stdout",
          "text": [
            "*** DEBUG: Batch 40 COMPLETED - Memory cleared ***\n"
          ]
        },
        {
          "output_type": "stream",
          "name": "stderr",
          "text": [
            "Fold 3 Epoch 22/30 [Train]:  51%|█████     | 51/100 [00:13<00:12,  3.88it/s, Loss=3.8327]"
          ]
        },
        {
          "output_type": "stream",
          "name": "stdout",
          "text": [
            "*** DEBUG: Batch 50 COMPLETED - Memory cleared ***\n"
          ]
        },
        {
          "output_type": "stream",
          "name": "stderr",
          "text": [
            "Fold 3 Epoch 22/30 [Train]:  61%|██████    | 61/100 [00:16<00:10,  3.67it/s, Loss=3.5165]"
          ]
        },
        {
          "output_type": "stream",
          "name": "stdout",
          "text": [
            "*** DEBUG: Batch 60 COMPLETED - Memory cleared ***\n"
          ]
        },
        {
          "output_type": "stream",
          "name": "stderr",
          "text": [
            "Fold 3 Epoch 22/30 [Train]:  71%|███████   | 71/100 [00:19<00:07,  3.72it/s, Loss=3.2313]"
          ]
        },
        {
          "output_type": "stream",
          "name": "stdout",
          "text": [
            "*** DEBUG: Batch 70 COMPLETED - Memory cleared ***\n"
          ]
        },
        {
          "output_type": "stream",
          "name": "stderr",
          "text": [
            "Fold 3 Epoch 22/30 [Train]:  81%|████████  | 81/100 [00:21<00:05,  3.75it/s, Loss=3.4071]"
          ]
        },
        {
          "output_type": "stream",
          "name": "stdout",
          "text": [
            "*** DEBUG: Batch 80 COMPLETED - Memory cleared ***\n"
          ]
        },
        {
          "output_type": "stream",
          "name": "stderr",
          "text": [
            "Fold 3 Epoch 22/30 [Train]:  91%|█████████ | 91/100 [00:24<00:02,  3.78it/s, Loss=3.2699]"
          ]
        },
        {
          "output_type": "stream",
          "name": "stdout",
          "text": [
            "*** DEBUG: Batch 90 COMPLETED - Memory cleared ***\n"
          ]
        },
        {
          "output_type": "stream",
          "name": "stderr",
          "text": [
            "Fold 3 Epoch 22/30 [Train]: 100%|██████████| 100/100 [00:26<00:00,  3.78it/s, Loss=3.9748]\n",
            "Fold 3 Epoch 22/30 [Val]: 100%|██████████| 25/25 [00:06<00:00,  3.62it/s, Loss=27.3394]\n"
          ]
        },
        {
          "output_type": "stream",
          "name": "stdout",
          "text": [
            "Fold 3 Epoch 22/30:\n",
            "  Train MAPE: 3.5780%\n",
            "  Val MAPE: 27.9759%\n",
            "  LR: 0.000100\n",
            "--------------------------------------------------\n"
          ]
        },
        {
          "output_type": "stream",
          "name": "stderr",
          "text": [
            "Fold 3 Epoch 23/30 [Train]:   1%|          | 1/100 [00:00<01:06,  1.49it/s, Loss=3.5803]"
          ]
        },
        {
          "output_type": "stream",
          "name": "stdout",
          "text": [
            "*** DEBUG: Batch 0 COMPLETED - Memory cleared ***\n"
          ]
        },
        {
          "output_type": "stream",
          "name": "stderr",
          "text": [
            "Fold 3 Epoch 23/30 [Train]:  11%|█         | 11/100 [00:03<00:23,  3.83it/s, Loss=3.3857]"
          ]
        },
        {
          "output_type": "stream",
          "name": "stdout",
          "text": [
            "*** DEBUG: Batch 10 COMPLETED - Memory cleared ***\n"
          ]
        },
        {
          "output_type": "stream",
          "name": "stderr",
          "text": [
            "Fold 3 Epoch 23/30 [Train]:  21%|██        | 21/100 [00:05<00:21,  3.75it/s, Loss=2.9342]"
          ]
        },
        {
          "output_type": "stream",
          "name": "stdout",
          "text": [
            "*** DEBUG: Batch 20 COMPLETED - Memory cleared ***\n"
          ]
        },
        {
          "output_type": "stream",
          "name": "stderr",
          "text": [
            "Fold 3 Epoch 23/30 [Train]:  31%|███       | 31/100 [00:08<00:18,  3.82it/s, Loss=3.4944]"
          ]
        },
        {
          "output_type": "stream",
          "name": "stdout",
          "text": [
            "*** DEBUG: Batch 30 COMPLETED - Memory cleared ***\n"
          ]
        },
        {
          "output_type": "stream",
          "name": "stderr",
          "text": [
            "Fold 3 Epoch 23/30 [Train]:  41%|████      | 41/100 [00:11<00:14,  3.95it/s, Loss=3.2164]"
          ]
        },
        {
          "output_type": "stream",
          "name": "stdout",
          "text": [
            "*** DEBUG: Batch 40 COMPLETED - Memory cleared ***\n"
          ]
        },
        {
          "output_type": "stream",
          "name": "stderr",
          "text": [
            "Fold 3 Epoch 23/30 [Train]:  51%|█████     | 51/100 [00:13<00:12,  3.93it/s, Loss=3.3708]"
          ]
        },
        {
          "output_type": "stream",
          "name": "stdout",
          "text": [
            "*** DEBUG: Batch 50 COMPLETED - Memory cleared ***\n"
          ]
        },
        {
          "output_type": "stream",
          "name": "stderr",
          "text": [
            "Fold 3 Epoch 23/30 [Train]:  62%|██████▏   | 62/100 [00:16<00:08,  4.34it/s, Loss=3.3685]"
          ]
        },
        {
          "output_type": "stream",
          "name": "stdout",
          "text": [
            "*** DEBUG: Batch 60 COMPLETED - Memory cleared ***\n"
          ]
        },
        {
          "output_type": "stream",
          "name": "stderr",
          "text": [
            "Fold 3 Epoch 23/30 [Train]:  72%|███████▏  | 72/100 [00:18<00:06,  4.26it/s, Loss=3.5577]"
          ]
        },
        {
          "output_type": "stream",
          "name": "stdout",
          "text": [
            "*** DEBUG: Batch 70 COMPLETED - Memory cleared ***\n"
          ]
        },
        {
          "output_type": "stream",
          "name": "stderr",
          "text": [
            "Fold 3 Epoch 23/30 [Train]:  82%|████████▏ | 82/100 [00:21<00:04,  4.34it/s, Loss=3.0961]"
          ]
        },
        {
          "output_type": "stream",
          "name": "stdout",
          "text": [
            "*** DEBUG: Batch 80 COMPLETED - Memory cleared ***\n"
          ]
        },
        {
          "output_type": "stream",
          "name": "stderr",
          "text": [
            "Fold 3 Epoch 23/30 [Train]:  92%|█████████▏| 92/100 [00:23<00:01,  4.24it/s, Loss=3.3658]"
          ]
        },
        {
          "output_type": "stream",
          "name": "stdout",
          "text": [
            "*** DEBUG: Batch 90 COMPLETED - Memory cleared ***\n"
          ]
        },
        {
          "output_type": "stream",
          "name": "stderr",
          "text": [
            "Fold 3 Epoch 23/30 [Train]: 100%|██████████| 100/100 [00:26<00:00,  3.84it/s, Loss=3.7666]\n",
            "Fold 3 Epoch 23/30 [Val]: 100%|██████████| 25/25 [00:06<00:00,  3.73it/s, Loss=10.4993]\n"
          ]
        },
        {
          "output_type": "stream",
          "name": "stdout",
          "text": [
            "Fold 3 Epoch 23/30:\n",
            "  Train MAPE: 3.5101%\n",
            "  Val MAPE: 10.0730%\n",
            "  LR: 0.000100\n",
            "--------------------------------------------------\n"
          ]
        },
        {
          "output_type": "stream",
          "name": "stderr",
          "text": [
            "Fold 3 Epoch 24/30 [Train]:   1%|          | 1/100 [00:00<01:03,  1.55it/s, Loss=3.3247]"
          ]
        },
        {
          "output_type": "stream",
          "name": "stdout",
          "text": [
            "*** DEBUG: Batch 0 COMPLETED - Memory cleared ***\n"
          ]
        },
        {
          "output_type": "stream",
          "name": "stderr",
          "text": [
            "Fold 3 Epoch 24/30 [Train]:  11%|█         | 11/100 [00:03<00:24,  3.67it/s, Loss=3.4946]"
          ]
        },
        {
          "output_type": "stream",
          "name": "stdout",
          "text": [
            "*** DEBUG: Batch 10 COMPLETED - Memory cleared ***\n"
          ]
        },
        {
          "output_type": "stream",
          "name": "stderr",
          "text": [
            "Fold 3 Epoch 24/30 [Train]:  21%|██        | 21/100 [00:05<00:20,  3.87it/s, Loss=3.3907]"
          ]
        },
        {
          "output_type": "stream",
          "name": "stdout",
          "text": [
            "*** DEBUG: Batch 20 COMPLETED - Memory cleared ***\n"
          ]
        },
        {
          "output_type": "stream",
          "name": "stderr",
          "text": [
            "Fold 3 Epoch 24/30 [Train]:  31%|███       | 31/100 [00:08<00:18,  3.73it/s, Loss=3.0380]"
          ]
        },
        {
          "output_type": "stream",
          "name": "stdout",
          "text": [
            "*** DEBUG: Batch 30 COMPLETED - Memory cleared ***\n"
          ]
        },
        {
          "output_type": "stream",
          "name": "stderr",
          "text": [
            "Fold 3 Epoch 24/30 [Train]:  41%|████      | 41/100 [00:11<00:16,  3.63it/s, Loss=3.5144]"
          ]
        },
        {
          "output_type": "stream",
          "name": "stdout",
          "text": [
            "*** DEBUG: Batch 40 COMPLETED - Memory cleared ***\n"
          ]
        },
        {
          "output_type": "stream",
          "name": "stderr",
          "text": [
            "Fold 3 Epoch 24/30 [Train]:  51%|█████     | 51/100 [00:13<00:12,  3.80it/s, Loss=3.4801]"
          ]
        },
        {
          "output_type": "stream",
          "name": "stdout",
          "text": [
            "*** DEBUG: Batch 50 COMPLETED - Memory cleared ***\n"
          ]
        },
        {
          "output_type": "stream",
          "name": "stderr",
          "text": [
            "Fold 3 Epoch 24/30 [Train]:  61%|██████    | 61/100 [00:16<00:10,  3.77it/s, Loss=3.2110]"
          ]
        },
        {
          "output_type": "stream",
          "name": "stdout",
          "text": [
            "*** DEBUG: Batch 60 COMPLETED - Memory cleared ***\n"
          ]
        },
        {
          "output_type": "stream",
          "name": "stderr",
          "text": [
            "Fold 3 Epoch 24/30 [Train]:  71%|███████   | 71/100 [00:19<00:07,  3.76it/s, Loss=3.2261]"
          ]
        },
        {
          "output_type": "stream",
          "name": "stdout",
          "text": [
            "*** DEBUG: Batch 70 COMPLETED - Memory cleared ***\n"
          ]
        },
        {
          "output_type": "stream",
          "name": "stderr",
          "text": [
            "Fold 3 Epoch 24/30 [Train]:  81%|████████  | 81/100 [00:21<00:04,  3.86it/s, Loss=3.4578]"
          ]
        },
        {
          "output_type": "stream",
          "name": "stdout",
          "text": [
            "*** DEBUG: Batch 80 COMPLETED - Memory cleared ***\n"
          ]
        },
        {
          "output_type": "stream",
          "name": "stderr",
          "text": [
            "Fold 3 Epoch 24/30 [Train]:  91%|█████████ | 91/100 [00:24<00:02,  3.90it/s, Loss=3.9211]"
          ]
        },
        {
          "output_type": "stream",
          "name": "stdout",
          "text": [
            "*** DEBUG: Batch 90 COMPLETED - Memory cleared ***\n"
          ]
        },
        {
          "output_type": "stream",
          "name": "stderr",
          "text": [
            "Fold 3 Epoch 24/30 [Train]: 100%|██████████| 100/100 [00:26<00:00,  3.76it/s, Loss=4.1397]\n",
            "Fold 3 Epoch 24/30 [Val]: 100%|██████████| 25/25 [00:06<00:00,  3.76it/s, Loss=15.9929]\n"
          ]
        },
        {
          "output_type": "stream",
          "name": "stdout",
          "text": [
            "Fold 3 Epoch 24/30:\n",
            "  Train MAPE: 3.5069%\n",
            "  Val MAPE: 13.8463%\n",
            "  LR: 0.000100\n",
            "--------------------------------------------------\n"
          ]
        },
        {
          "output_type": "stream",
          "name": "stderr",
          "text": [
            "Fold 3 Epoch 25/30 [Train]:   1%|          | 1/100 [00:00<01:07,  1.46it/s, Loss=3.1489]"
          ]
        },
        {
          "output_type": "stream",
          "name": "stdout",
          "text": [
            "*** DEBUG: Batch 0 COMPLETED - Memory cleared ***\n"
          ]
        },
        {
          "output_type": "stream",
          "name": "stderr",
          "text": [
            "Fold 3 Epoch 25/30 [Train]:  11%|█         | 11/100 [00:03<00:25,  3.46it/s, Loss=3.5547]"
          ]
        },
        {
          "output_type": "stream",
          "name": "stdout",
          "text": [
            "*** DEBUG: Batch 10 COMPLETED - Memory cleared ***\n"
          ]
        },
        {
          "output_type": "stream",
          "name": "stderr",
          "text": [
            "Fold 3 Epoch 25/30 [Train]:  21%|██        | 21/100 [00:06<00:20,  3.86it/s, Loss=3.8134]"
          ]
        },
        {
          "output_type": "stream",
          "name": "stdout",
          "text": [
            "*** DEBUG: Batch 20 COMPLETED - Memory cleared ***\n"
          ]
        },
        {
          "output_type": "stream",
          "name": "stderr",
          "text": [
            "Fold 3 Epoch 25/30 [Train]:  31%|███       | 31/100 [00:08<00:17,  3.87it/s, Loss=3.2755]"
          ]
        },
        {
          "output_type": "stream",
          "name": "stdout",
          "text": [
            "*** DEBUG: Batch 30 COMPLETED - Memory cleared ***\n"
          ]
        },
        {
          "output_type": "stream",
          "name": "stderr",
          "text": [
            "Fold 3 Epoch 25/30 [Train]:  41%|████      | 41/100 [00:11<00:15,  3.80it/s, Loss=3.2722]"
          ]
        },
        {
          "output_type": "stream",
          "name": "stdout",
          "text": [
            "*** DEBUG: Batch 40 COMPLETED - Memory cleared ***\n"
          ]
        },
        {
          "output_type": "stream",
          "name": "stderr",
          "text": [
            "Fold 3 Epoch 25/30 [Train]:  51%|█████     | 51/100 [00:13<00:12,  3.78it/s, Loss=3.1516]"
          ]
        },
        {
          "output_type": "stream",
          "name": "stdout",
          "text": [
            "*** DEBUG: Batch 50 COMPLETED - Memory cleared ***\n"
          ]
        },
        {
          "output_type": "stream",
          "name": "stderr",
          "text": [
            "Fold 3 Epoch 25/30 [Train]:  61%|██████    | 61/100 [00:16<00:10,  3.76it/s, Loss=3.3851]"
          ]
        },
        {
          "output_type": "stream",
          "name": "stdout",
          "text": [
            "*** DEBUG: Batch 60 COMPLETED - Memory cleared ***\n"
          ]
        },
        {
          "output_type": "stream",
          "name": "stderr",
          "text": [
            "Fold 3 Epoch 25/30 [Train]:  71%|███████   | 71/100 [00:19<00:07,  3.79it/s, Loss=3.3161]"
          ]
        },
        {
          "output_type": "stream",
          "name": "stdout",
          "text": [
            "*** DEBUG: Batch 70 COMPLETED - Memory cleared ***\n"
          ]
        },
        {
          "output_type": "stream",
          "name": "stderr",
          "text": [
            "Fold 3 Epoch 25/30 [Train]:  81%|████████  | 81/100 [00:21<00:05,  3.78it/s, Loss=3.2872]"
          ]
        },
        {
          "output_type": "stream",
          "name": "stdout",
          "text": [
            "*** DEBUG: Batch 80 COMPLETED - Memory cleared ***\n"
          ]
        },
        {
          "output_type": "stream",
          "name": "stderr",
          "text": [
            "Fold 3 Epoch 25/30 [Train]:  91%|█████████ | 91/100 [00:24<00:02,  3.82it/s, Loss=3.2294]"
          ]
        },
        {
          "output_type": "stream",
          "name": "stdout",
          "text": [
            "*** DEBUG: Batch 90 COMPLETED - Memory cleared ***\n"
          ]
        },
        {
          "output_type": "stream",
          "name": "stderr",
          "text": [
            "Fold 3 Epoch 25/30 [Train]: 100%|██████████| 100/100 [00:26<00:00,  3.77it/s, Loss=3.0069]\n",
            "Fold 3 Epoch 25/30 [Val]: 100%|██████████| 25/25 [00:06<00:00,  3.76it/s, Loss=12.9384]\n"
          ]
        },
        {
          "output_type": "stream",
          "name": "stdout",
          "text": [
            "Fold 3 Epoch 25/30:\n",
            "  Train MAPE: 3.4892%\n",
            "  Val MAPE: 10.9427%\n",
            "  LR: 0.000100\n",
            "--------------------------------------------------\n"
          ]
        },
        {
          "output_type": "stream",
          "name": "stderr",
          "text": [
            "Fold 3 Epoch 26/30 [Train]:   1%|          | 1/100 [00:00<01:10,  1.40it/s, Loss=3.6536]"
          ]
        },
        {
          "output_type": "stream",
          "name": "stdout",
          "text": [
            "*** DEBUG: Batch 0 COMPLETED - Memory cleared ***\n"
          ]
        },
        {
          "output_type": "stream",
          "name": "stderr",
          "text": [
            "Fold 3 Epoch 26/30 [Train]:  11%|█         | 11/100 [00:03<00:23,  3.72it/s, Loss=4.5117]"
          ]
        },
        {
          "output_type": "stream",
          "name": "stdout",
          "text": [
            "*** DEBUG: Batch 10 COMPLETED - Memory cleared ***\n"
          ]
        },
        {
          "output_type": "stream",
          "name": "stderr",
          "text": [
            "Fold 3 Epoch 26/30 [Train]:  21%|██        | 21/100 [00:06<00:21,  3.67it/s, Loss=3.3576]"
          ]
        },
        {
          "output_type": "stream",
          "name": "stdout",
          "text": [
            "*** DEBUG: Batch 20 COMPLETED - Memory cleared ***\n"
          ]
        },
        {
          "output_type": "stream",
          "name": "stderr",
          "text": [
            "Fold 3 Epoch 26/30 [Train]:  31%|███       | 31/100 [00:08<00:17,  3.92it/s, Loss=3.3142]"
          ]
        },
        {
          "output_type": "stream",
          "name": "stdout",
          "text": [
            "*** DEBUG: Batch 30 COMPLETED - Memory cleared ***\n"
          ]
        },
        {
          "output_type": "stream",
          "name": "stderr",
          "text": [
            "Fold 3 Epoch 26/30 [Train]:  41%|████      | 41/100 [00:11<00:15,  3.87it/s, Loss=4.0552]"
          ]
        },
        {
          "output_type": "stream",
          "name": "stdout",
          "text": [
            "*** DEBUG: Batch 40 COMPLETED - Memory cleared ***\n"
          ]
        },
        {
          "output_type": "stream",
          "name": "stderr",
          "text": [
            "Fold 3 Epoch 26/30 [Train]:  51%|█████     | 51/100 [00:13<00:12,  3.91it/s, Loss=3.5427]"
          ]
        },
        {
          "output_type": "stream",
          "name": "stdout",
          "text": [
            "*** DEBUG: Batch 50 COMPLETED - Memory cleared ***\n"
          ]
        },
        {
          "output_type": "stream",
          "name": "stderr",
          "text": [
            "Fold 3 Epoch 26/30 [Train]:  61%|██████    | 61/100 [00:16<00:10,  3.72it/s, Loss=3.1064]"
          ]
        },
        {
          "output_type": "stream",
          "name": "stdout",
          "text": [
            "*** DEBUG: Batch 60 COMPLETED - Memory cleared ***\n"
          ]
        },
        {
          "output_type": "stream",
          "name": "stderr",
          "text": [
            "Fold 3 Epoch 26/30 [Train]:  71%|███████   | 71/100 [00:19<00:07,  3.82it/s, Loss=3.7559]"
          ]
        },
        {
          "output_type": "stream",
          "name": "stdout",
          "text": [
            "*** DEBUG: Batch 70 COMPLETED - Memory cleared ***\n"
          ]
        },
        {
          "output_type": "stream",
          "name": "stderr",
          "text": [
            "Fold 3 Epoch 26/30 [Train]:  81%|████████  | 81/100 [00:21<00:04,  3.82it/s, Loss=3.2602]"
          ]
        },
        {
          "output_type": "stream",
          "name": "stdout",
          "text": [
            "*** DEBUG: Batch 80 COMPLETED - Memory cleared ***\n"
          ]
        },
        {
          "output_type": "stream",
          "name": "stderr",
          "text": [
            "Fold 3 Epoch 26/30 [Train]:  91%|█████████ | 91/100 [00:24<00:02,  3.88it/s, Loss=3.6064]"
          ]
        },
        {
          "output_type": "stream",
          "name": "stdout",
          "text": [
            "*** DEBUG: Batch 90 COMPLETED - Memory cleared ***\n"
          ]
        },
        {
          "output_type": "stream",
          "name": "stderr",
          "text": [
            "Fold 3 Epoch 26/30 [Train]: 100%|██████████| 100/100 [00:26<00:00,  3.80it/s, Loss=3.8977]\n",
            "Fold 3 Epoch 26/30 [Val]: 100%|██████████| 25/25 [00:06<00:00,  3.60it/s, Loss=24.6622]\n"
          ]
        },
        {
          "output_type": "stream",
          "name": "stdout",
          "text": [
            "Fold 3 Epoch 26/30:\n",
            "  Train MAPE: 3.5020%\n",
            "  Val MAPE: 25.1983%\n",
            "  LR: 0.000050\n",
            "--------------------------------------------------\n"
          ]
        },
        {
          "output_type": "stream",
          "name": "stderr",
          "text": [
            "Fold 3 Epoch 27/30 [Train]:   1%|          | 1/100 [00:00<01:10,  1.40it/s, Loss=3.4793]"
          ]
        },
        {
          "output_type": "stream",
          "name": "stdout",
          "text": [
            "*** DEBUG: Batch 0 COMPLETED - Memory cleared ***\n"
          ]
        },
        {
          "output_type": "stream",
          "name": "stderr",
          "text": [
            "Fold 3 Epoch 27/30 [Train]:  11%|█         | 11/100 [00:03<00:23,  3.80it/s, Loss=3.6212]"
          ]
        },
        {
          "output_type": "stream",
          "name": "stdout",
          "text": [
            "*** DEBUG: Batch 10 COMPLETED - Memory cleared ***\n"
          ]
        },
        {
          "output_type": "stream",
          "name": "stderr",
          "text": [
            "Fold 3 Epoch 27/30 [Train]:  21%|██        | 21/100 [00:05<00:20,  3.91it/s, Loss=3.5083]"
          ]
        },
        {
          "output_type": "stream",
          "name": "stdout",
          "text": [
            "*** DEBUG: Batch 20 COMPLETED - Memory cleared ***\n"
          ]
        },
        {
          "output_type": "stream",
          "name": "stderr",
          "text": [
            "Fold 3 Epoch 27/30 [Train]:  31%|███       | 31/100 [00:08<00:18,  3.69it/s, Loss=3.2074]"
          ]
        },
        {
          "output_type": "stream",
          "name": "stdout",
          "text": [
            "*** DEBUG: Batch 30 COMPLETED - Memory cleared ***\n"
          ]
        },
        {
          "output_type": "stream",
          "name": "stderr",
          "text": [
            "Fold 3 Epoch 27/30 [Train]:  41%|████      | 41/100 [00:11<00:15,  3.78it/s, Loss=3.0657]"
          ]
        },
        {
          "output_type": "stream",
          "name": "stdout",
          "text": [
            "*** DEBUG: Batch 40 COMPLETED - Memory cleared ***\n"
          ]
        },
        {
          "output_type": "stream",
          "name": "stderr",
          "text": [
            "Fold 3 Epoch 27/30 [Train]:  51%|█████     | 51/100 [00:13<00:13,  3.73it/s, Loss=3.2991]"
          ]
        },
        {
          "output_type": "stream",
          "name": "stdout",
          "text": [
            "*** DEBUG: Batch 50 COMPLETED - Memory cleared ***\n"
          ]
        },
        {
          "output_type": "stream",
          "name": "stderr",
          "text": [
            "Fold 3 Epoch 27/30 [Train]:  61%|██████    | 61/100 [00:16<00:10,  3.85it/s, Loss=3.1058]"
          ]
        },
        {
          "output_type": "stream",
          "name": "stdout",
          "text": [
            "*** DEBUG: Batch 60 COMPLETED - Memory cleared ***\n"
          ]
        },
        {
          "output_type": "stream",
          "name": "stderr",
          "text": [
            "Fold 3 Epoch 27/30 [Train]:  71%|███████   | 71/100 [00:19<00:07,  3.77it/s, Loss=4.1373]"
          ]
        },
        {
          "output_type": "stream",
          "name": "stdout",
          "text": [
            "*** DEBUG: Batch 70 COMPLETED - Memory cleared ***\n"
          ]
        },
        {
          "output_type": "stream",
          "name": "stderr",
          "text": [
            "Fold 3 Epoch 27/30 [Train]:  81%|████████  | 81/100 [00:21<00:05,  3.61it/s, Loss=3.2813]"
          ]
        },
        {
          "output_type": "stream",
          "name": "stdout",
          "text": [
            "*** DEBUG: Batch 80 COMPLETED - Memory cleared ***\n"
          ]
        },
        {
          "output_type": "stream",
          "name": "stderr",
          "text": [
            "Fold 3 Epoch 27/30 [Train]:  91%|█████████ | 91/100 [00:24<00:02,  3.72it/s, Loss=3.1069]"
          ]
        },
        {
          "output_type": "stream",
          "name": "stdout",
          "text": [
            "*** DEBUG: Batch 90 COMPLETED - Memory cleared ***\n"
          ]
        },
        {
          "output_type": "stream",
          "name": "stderr",
          "text": [
            "Fold 3 Epoch 27/30 [Train]: 100%|██████████| 100/100 [00:26<00:00,  3.76it/s, Loss=3.0191]\n",
            "Fold 3 Epoch 27/30 [Val]: 100%|██████████| 25/25 [00:06<00:00,  3.66it/s, Loss=13.9936]\n"
          ]
        },
        {
          "output_type": "stream",
          "name": "stdout",
          "text": [
            "Fold 3 Epoch 27/30:\n",
            "  Train MAPE: 3.3323%\n",
            "  Val MAPE: 12.3394%\n",
            "  LR: 0.000050\n",
            "--------------------------------------------------\n"
          ]
        },
        {
          "output_type": "stream",
          "name": "stderr",
          "text": [
            "Fold 3 Epoch 28/30 [Train]:   1%|          | 1/100 [00:00<01:05,  1.51it/s, Loss=3.0721]"
          ]
        },
        {
          "output_type": "stream",
          "name": "stdout",
          "text": [
            "*** DEBUG: Batch 0 COMPLETED - Memory cleared ***\n"
          ]
        },
        {
          "output_type": "stream",
          "name": "stderr",
          "text": [
            "Fold 3 Epoch 28/30 [Train]:  11%|█         | 11/100 [00:03<00:24,  3.57it/s, Loss=3.3163]"
          ]
        },
        {
          "output_type": "stream",
          "name": "stdout",
          "text": [
            "*** DEBUG: Batch 10 COMPLETED - Memory cleared ***\n"
          ]
        },
        {
          "output_type": "stream",
          "name": "stderr",
          "text": [
            "Fold 3 Epoch 28/30 [Train]:  21%|██        | 21/100 [00:05<00:21,  3.75it/s, Loss=2.8936]"
          ]
        },
        {
          "output_type": "stream",
          "name": "stdout",
          "text": [
            "*** DEBUG: Batch 20 COMPLETED - Memory cleared ***\n"
          ]
        },
        {
          "output_type": "stream",
          "name": "stderr",
          "text": [
            "Fold 3 Epoch 28/30 [Train]:  31%|███       | 31/100 [00:08<00:17,  3.87it/s, Loss=3.0520]"
          ]
        },
        {
          "output_type": "stream",
          "name": "stdout",
          "text": [
            "*** DEBUG: Batch 30 COMPLETED - Memory cleared ***\n"
          ]
        },
        {
          "output_type": "stream",
          "name": "stderr",
          "text": [
            "Fold 3 Epoch 28/30 [Train]:  41%|████      | 41/100 [00:11<00:16,  3.68it/s, Loss=3.1300]"
          ]
        },
        {
          "output_type": "stream",
          "name": "stdout",
          "text": [
            "*** DEBUG: Batch 40 COMPLETED - Memory cleared ***\n"
          ]
        },
        {
          "output_type": "stream",
          "name": "stderr",
          "text": [
            "Fold 3 Epoch 28/30 [Train]:  51%|█████     | 51/100 [00:14<00:13,  3.64it/s, Loss=3.3247]"
          ]
        },
        {
          "output_type": "stream",
          "name": "stdout",
          "text": [
            "*** DEBUG: Batch 50 COMPLETED - Memory cleared ***\n"
          ]
        },
        {
          "output_type": "stream",
          "name": "stderr",
          "text": [
            "Fold 3 Epoch 28/30 [Train]:  61%|██████    | 61/100 [00:16<00:10,  3.88it/s, Loss=3.4452]"
          ]
        },
        {
          "output_type": "stream",
          "name": "stdout",
          "text": [
            "*** DEBUG: Batch 60 COMPLETED - Memory cleared ***\n"
          ]
        },
        {
          "output_type": "stream",
          "name": "stderr",
          "text": [
            "Fold 3 Epoch 28/30 [Train]:  71%|███████   | 71/100 [00:19<00:07,  3.81it/s, Loss=3.1213]"
          ]
        },
        {
          "output_type": "stream",
          "name": "stdout",
          "text": [
            "*** DEBUG: Batch 70 COMPLETED - Memory cleared ***\n"
          ]
        },
        {
          "output_type": "stream",
          "name": "stderr",
          "text": [
            "Fold 3 Epoch 28/30 [Train]:  81%|████████  | 81/100 [00:21<00:04,  3.80it/s, Loss=3.0386]"
          ]
        },
        {
          "output_type": "stream",
          "name": "stdout",
          "text": [
            "*** DEBUG: Batch 80 COMPLETED - Memory cleared ***\n"
          ]
        },
        {
          "output_type": "stream",
          "name": "stderr",
          "text": [
            "Fold 3 Epoch 28/30 [Train]:  91%|█████████ | 91/100 [00:24<00:02,  3.82it/s, Loss=3.0147]"
          ]
        },
        {
          "output_type": "stream",
          "name": "stdout",
          "text": [
            "*** DEBUG: Batch 90 COMPLETED - Memory cleared ***\n"
          ]
        },
        {
          "output_type": "stream",
          "name": "stderr",
          "text": [
            "Fold 3 Epoch 28/30 [Train]: 100%|██████████| 100/100 [00:26<00:00,  3.77it/s, Loss=3.1488]\n",
            "Fold 3 Epoch 28/30 [Val]: 100%|██████████| 25/25 [00:06<00:00,  3.73it/s, Loss=8.0030]\n"
          ]
        },
        {
          "output_type": "stream",
          "name": "stdout",
          "text": [
            "Fold 3 Epoch 28/30:\n",
            "  Train MAPE: 3.2280%\n",
            "  Val MAPE: 6.2854%\n",
            "  LR: 0.000050\n",
            "--------------------------------------------------\n",
            "Fold 3: New best model saved with Val MAPE = 6.2854%\n"
          ]
        },
        {
          "output_type": "stream",
          "name": "stderr",
          "text": [
            "Fold 3 Epoch 29/30 [Train]:   1%|          | 1/100 [00:01<02:57,  1.79s/it, Loss=3.4509]"
          ]
        },
        {
          "output_type": "stream",
          "name": "stdout",
          "text": [
            "*** DEBUG: Batch 0 COMPLETED - Memory cleared ***\n"
          ]
        },
        {
          "output_type": "stream",
          "name": "stderr",
          "text": [
            "Fold 3 Epoch 29/30 [Train]:  11%|█         | 11/100 [00:04<00:28,  3.14it/s, Loss=3.5673]"
          ]
        },
        {
          "output_type": "stream",
          "name": "stdout",
          "text": [
            "*** DEBUG: Batch 10 COMPLETED - Memory cleared ***\n"
          ]
        },
        {
          "output_type": "stream",
          "name": "stderr",
          "text": [
            "Fold 3 Epoch 29/30 [Train]:  21%|██        | 21/100 [00:07<00:21,  3.74it/s, Loss=3.0750]"
          ]
        },
        {
          "output_type": "stream",
          "name": "stdout",
          "text": [
            "*** DEBUG: Batch 20 COMPLETED - Memory cleared ***\n"
          ]
        },
        {
          "output_type": "stream",
          "name": "stderr",
          "text": [
            "Fold 3 Epoch 29/30 [Train]:  31%|███       | 31/100 [00:09<00:18,  3.81it/s, Loss=3.3927]"
          ]
        },
        {
          "output_type": "stream",
          "name": "stdout",
          "text": [
            "*** DEBUG: Batch 30 COMPLETED - Memory cleared ***\n"
          ]
        },
        {
          "output_type": "stream",
          "name": "stderr",
          "text": [
            "Fold 3 Epoch 29/30 [Train]:  41%|████      | 41/100 [00:19<00:37,  1.55it/s, Loss=2.9537]"
          ]
        },
        {
          "output_type": "stream",
          "name": "stdout",
          "text": [
            "*** DEBUG: Batch 40 COMPLETED - Memory cleared ***\n"
          ]
        },
        {
          "output_type": "stream",
          "name": "stderr",
          "text": [
            "Fold 3 Epoch 29/30 [Train]:  51%|█████     | 51/100 [00:22<00:16,  3.04it/s, Loss=3.0300]"
          ]
        },
        {
          "output_type": "stream",
          "name": "stdout",
          "text": [
            "*** DEBUG: Batch 50 COMPLETED - Memory cleared ***\n"
          ]
        },
        {
          "output_type": "stream",
          "name": "stderr",
          "text": [
            "Fold 3 Epoch 29/30 [Train]:  61%|██████    | 61/100 [00:25<00:10,  3.55it/s, Loss=2.9372]"
          ]
        },
        {
          "output_type": "stream",
          "name": "stdout",
          "text": [
            "*** DEBUG: Batch 60 COMPLETED - Memory cleared ***\n"
          ]
        },
        {
          "output_type": "stream",
          "name": "stderr",
          "text": [
            "Fold 3 Epoch 29/30 [Train]:  71%|███████   | 71/100 [00:27<00:08,  3.54it/s, Loss=3.2520]"
          ]
        },
        {
          "output_type": "stream",
          "name": "stdout",
          "text": [
            "*** DEBUG: Batch 70 COMPLETED - Memory cleared ***\n"
          ]
        },
        {
          "output_type": "stream",
          "name": "stderr",
          "text": [
            "Fold 3 Epoch 29/30 [Train]:  81%|████████  | 81/100 [00:30<00:05,  3.69it/s, Loss=3.1122]"
          ]
        },
        {
          "output_type": "stream",
          "name": "stdout",
          "text": [
            "*** DEBUG: Batch 80 COMPLETED - Memory cleared ***\n"
          ]
        },
        {
          "output_type": "stream",
          "name": "stderr",
          "text": [
            "Fold 3 Epoch 29/30 [Train]:  91%|█████████ | 91/100 [00:33<00:02,  3.80it/s, Loss=2.7612]"
          ]
        },
        {
          "output_type": "stream",
          "name": "stdout",
          "text": [
            "*** DEBUG: Batch 90 COMPLETED - Memory cleared ***\n"
          ]
        },
        {
          "output_type": "stream",
          "name": "stderr",
          "text": [
            "Fold 3 Epoch 29/30 [Train]: 100%|██████████| 100/100 [00:35<00:00,  2.83it/s, Loss=4.1093]\n",
            "Fold 3 Epoch 29/30 [Val]: 100%|██████████| 25/25 [00:06<00:00,  3.71it/s, Loss=30.7346]\n"
          ]
        },
        {
          "output_type": "stream",
          "name": "stdout",
          "text": [
            "Fold 3 Epoch 29/30:\n",
            "  Train MAPE: 3.2495%\n",
            "  Val MAPE: 32.0440%\n",
            "  LR: 0.000050\n",
            "--------------------------------------------------\n"
          ]
        },
        {
          "output_type": "stream",
          "name": "stderr",
          "text": [
            "Fold 3 Epoch 30/30 [Train]:   1%|          | 1/100 [00:00<01:05,  1.51it/s, Loss=3.5757]"
          ]
        },
        {
          "output_type": "stream",
          "name": "stdout",
          "text": [
            "*** DEBUG: Batch 0 COMPLETED - Memory cleared ***\n"
          ]
        },
        {
          "output_type": "stream",
          "name": "stderr",
          "text": [
            "Fold 3 Epoch 30/30 [Train]:  11%|█         | 11/100 [00:03<00:23,  3.84it/s, Loss=2.9763]"
          ]
        },
        {
          "output_type": "stream",
          "name": "stdout",
          "text": [
            "*** DEBUG: Batch 10 COMPLETED - Memory cleared ***\n"
          ]
        },
        {
          "output_type": "stream",
          "name": "stderr",
          "text": [
            "Fold 3 Epoch 30/30 [Train]:  21%|██        | 21/100 [00:05<00:19,  3.97it/s, Loss=3.4190]"
          ]
        },
        {
          "output_type": "stream",
          "name": "stdout",
          "text": [
            "*** DEBUG: Batch 20 COMPLETED - Memory cleared ***\n"
          ]
        },
        {
          "output_type": "stream",
          "name": "stderr",
          "text": [
            "Fold 3 Epoch 30/30 [Train]:  31%|███       | 31/100 [00:08<00:18,  3.78it/s, Loss=4.6697]"
          ]
        },
        {
          "output_type": "stream",
          "name": "stdout",
          "text": [
            "*** DEBUG: Batch 30 COMPLETED - Memory cleared ***\n"
          ]
        },
        {
          "output_type": "stream",
          "name": "stderr",
          "text": [
            "Fold 3 Epoch 30/30 [Train]:  41%|████      | 41/100 [00:10<00:15,  3.85it/s, Loss=2.9318]"
          ]
        },
        {
          "output_type": "stream",
          "name": "stdout",
          "text": [
            "*** DEBUG: Batch 40 COMPLETED - Memory cleared ***\n"
          ]
        },
        {
          "output_type": "stream",
          "name": "stderr",
          "text": [
            "Fold 3 Epoch 30/30 [Train]:  51%|█████     | 51/100 [00:13<00:12,  3.89it/s, Loss=3.2609]"
          ]
        },
        {
          "output_type": "stream",
          "name": "stdout",
          "text": [
            "*** DEBUG: Batch 50 COMPLETED - Memory cleared ***\n"
          ]
        },
        {
          "output_type": "stream",
          "name": "stderr",
          "text": [
            "Fold 3 Epoch 30/30 [Train]:  61%|██████    | 61/100 [00:16<00:09,  3.91it/s, Loss=3.7319]"
          ]
        },
        {
          "output_type": "stream",
          "name": "stdout",
          "text": [
            "*** DEBUG: Batch 60 COMPLETED - Memory cleared ***\n"
          ]
        },
        {
          "output_type": "stream",
          "name": "stderr",
          "text": [
            "Fold 3 Epoch 30/30 [Train]:  71%|███████   | 71/100 [00:18<00:07,  3.91it/s, Loss=2.6859]"
          ]
        },
        {
          "output_type": "stream",
          "name": "stdout",
          "text": [
            "*** DEBUG: Batch 70 COMPLETED - Memory cleared ***\n"
          ]
        },
        {
          "output_type": "stream",
          "name": "stderr",
          "text": [
            "Fold 3 Epoch 30/30 [Train]:  81%|████████  | 81/100 [00:21<00:05,  3.74it/s, Loss=3.9513]"
          ]
        },
        {
          "output_type": "stream",
          "name": "stdout",
          "text": [
            "*** DEBUG: Batch 80 COMPLETED - Memory cleared ***\n"
          ]
        },
        {
          "output_type": "stream",
          "name": "stderr",
          "text": [
            "Fold 3 Epoch 30/30 [Train]:  91%|█████████ | 91/100 [00:23<00:02,  3.84it/s, Loss=3.4643]"
          ]
        },
        {
          "output_type": "stream",
          "name": "stdout",
          "text": [
            "*** DEBUG: Batch 90 COMPLETED - Memory cleared ***\n"
          ]
        },
        {
          "output_type": "stream",
          "name": "stderr",
          "text": [
            "Fold 3 Epoch 30/30 [Train]: 100%|██████████| 100/100 [00:25<00:00,  3.85it/s, Loss=3.5939]\n",
            "Fold 3 Epoch 30/30 [Val]: 100%|██████████| 25/25 [00:06<00:00,  3.75it/s, Loss=3.3025]\n"
          ]
        },
        {
          "output_type": "stream",
          "name": "stdout",
          "text": [
            "Fold 3 Epoch 30/30:\n",
            "  Train MAPE: 3.2503%\n",
            "  Val MAPE: 3.3345%\n",
            "  LR: 0.000050\n",
            "--------------------------------------------------\n",
            "Fold 3: New best model saved with Val MAPE = 3.3345%\n",
            "Fold 3 completed with Val MAPE: 3.3345%\n",
            "\n",
            "=== Training Fold 4 ===\n"
          ]
        },
        {
          "output_type": "stream",
          "name": "stderr",
          "text": [
            "Fold 4 Epoch 1/30 [Train]:   1%|          | 1/100 [00:01<02:43,  1.65s/it, Loss=82.2787]"
          ]
        },
        {
          "output_type": "stream",
          "name": "stdout",
          "text": [
            "*** DEBUG: Batch 0 COMPLETED - Memory cleared ***\n"
          ]
        },
        {
          "output_type": "stream",
          "name": "stderr",
          "text": [
            "Fold 4 Epoch 1/30 [Train]:  11%|█         | 11/100 [00:04<00:26,  3.35it/s, Loss=69.1636]"
          ]
        },
        {
          "output_type": "stream",
          "name": "stdout",
          "text": [
            "*** DEBUG: Batch 10 COMPLETED - Memory cleared ***\n"
          ]
        },
        {
          "output_type": "stream",
          "name": "stderr",
          "text": [
            "Fold 4 Epoch 1/30 [Train]:  21%|██        | 21/100 [00:06<00:20,  3.84it/s, Loss=63.6092]"
          ]
        },
        {
          "output_type": "stream",
          "name": "stdout",
          "text": [
            "*** DEBUG: Batch 20 COMPLETED - Memory cleared ***\n"
          ]
        },
        {
          "output_type": "stream",
          "name": "stderr",
          "text": [
            "Fold 4 Epoch 1/30 [Train]:  31%|███       | 31/100 [00:09<00:18,  3.82it/s, Loss=60.1003]"
          ]
        },
        {
          "output_type": "stream",
          "name": "stdout",
          "text": [
            "*** DEBUG: Batch 30 COMPLETED - Memory cleared ***\n"
          ]
        },
        {
          "output_type": "stream",
          "name": "stderr",
          "text": [
            "Fold 4 Epoch 1/30 [Train]:  41%|████      | 41/100 [00:19<00:38,  1.55it/s, Loss=58.1232]"
          ]
        },
        {
          "output_type": "stream",
          "name": "stdout",
          "text": [
            "*** DEBUG: Batch 40 COMPLETED - Memory cleared ***\n"
          ]
        },
        {
          "output_type": "stream",
          "name": "stderr",
          "text": [
            "Fold 4 Epoch 1/30 [Train]:  51%|█████     | 51/100 [00:22<00:16,  3.05it/s, Loss=54.5820]"
          ]
        },
        {
          "output_type": "stream",
          "name": "stdout",
          "text": [
            "*** DEBUG: Batch 50 COMPLETED - Memory cleared ***\n"
          ]
        },
        {
          "output_type": "stream",
          "name": "stderr",
          "text": [
            "Fold 4 Epoch 1/30 [Train]:  61%|██████    | 61/100 [00:24<00:11,  3.47it/s, Loss=51.3261]"
          ]
        },
        {
          "output_type": "stream",
          "name": "stdout",
          "text": [
            "*** DEBUG: Batch 60 COMPLETED - Memory cleared ***\n"
          ]
        },
        {
          "output_type": "stream",
          "name": "stderr",
          "text": [
            "Fold 4 Epoch 1/30 [Train]:  71%|███████   | 71/100 [00:27<00:07,  3.72it/s, Loss=52.2769]"
          ]
        },
        {
          "output_type": "stream",
          "name": "stdout",
          "text": [
            "*** DEBUG: Batch 70 COMPLETED - Memory cleared ***\n"
          ]
        },
        {
          "output_type": "stream",
          "name": "stderr",
          "text": [
            "Fold 4 Epoch 1/30 [Train]:  81%|████████  | 81/100 [00:30<00:05,  3.80it/s, Loss=48.3602]"
          ]
        },
        {
          "output_type": "stream",
          "name": "stdout",
          "text": [
            "*** DEBUG: Batch 80 COMPLETED - Memory cleared ***\n"
          ]
        },
        {
          "output_type": "stream",
          "name": "stderr",
          "text": [
            "Fold 4 Epoch 1/30 [Train]:  91%|█████████ | 91/100 [00:32<00:02,  3.85it/s, Loss=47.2054]"
          ]
        },
        {
          "output_type": "stream",
          "name": "stdout",
          "text": [
            "*** DEBUG: Batch 90 COMPLETED - Memory cleared ***\n"
          ]
        },
        {
          "output_type": "stream",
          "name": "stderr",
          "text": [
            "Fold 4 Epoch 1/30 [Train]: 100%|██████████| 100/100 [00:34<00:00,  2.87it/s, Loss=46.5990]\n",
            "Fold 4 Epoch 1/30 [Val]: 100%|██████████| 25/25 [00:06<00:00,  3.64it/s, Loss=58.1012]\n"
          ]
        },
        {
          "output_type": "stream",
          "name": "stdout",
          "text": [
            "Fold 4 Epoch 1/30:\n",
            "  Train MAPE: 57.1962%\n",
            "  Val MAPE: 58.3273%\n",
            "  LR: 0.000100\n",
            "--------------------------------------------------\n",
            "Fold 4: New best model saved with Val MAPE = 58.3273%\n"
          ]
        },
        {
          "output_type": "stream",
          "name": "stderr",
          "text": [
            "Fold 4 Epoch 2/30 [Train]:   1%|          | 1/100 [00:01<02:52,  1.74s/it, Loss=46.0773]"
          ]
        },
        {
          "output_type": "stream",
          "name": "stdout",
          "text": [
            "*** DEBUG: Batch 0 COMPLETED - Memory cleared ***\n"
          ]
        },
        {
          "output_type": "stream",
          "name": "stderr",
          "text": [
            "Fold 4 Epoch 2/30 [Train]:  11%|█         | 11/100 [00:04<00:27,  3.21it/s, Loss=45.4117]"
          ]
        },
        {
          "output_type": "stream",
          "name": "stdout",
          "text": [
            "*** DEBUG: Batch 10 COMPLETED - Memory cleared ***\n"
          ]
        },
        {
          "output_type": "stream",
          "name": "stderr",
          "text": [
            "Fold 4 Epoch 2/30 [Train]:  21%|██        | 21/100 [00:07<00:21,  3.70it/s, Loss=42.7560]"
          ]
        },
        {
          "output_type": "stream",
          "name": "stdout",
          "text": [
            "*** DEBUG: Batch 20 COMPLETED - Memory cleared ***\n"
          ]
        },
        {
          "output_type": "stream",
          "name": "stderr",
          "text": [
            "Fold 4 Epoch 2/30 [Train]:  31%|███       | 31/100 [00:09<00:18,  3.80it/s, Loss=43.8808]"
          ]
        },
        {
          "output_type": "stream",
          "name": "stdout",
          "text": [
            "*** DEBUG: Batch 30 COMPLETED - Memory cleared ***\n"
          ]
        },
        {
          "output_type": "stream",
          "name": "stderr",
          "text": [
            "Fold 4 Epoch 2/30 [Train]:  41%|████      | 41/100 [00:19<01:20,  1.36s/it, Loss=42.3461]"
          ]
        },
        {
          "output_type": "stream",
          "name": "stdout",
          "text": [
            "*** DEBUG: Batch 40 COMPLETED - Memory cleared ***\n"
          ]
        },
        {
          "output_type": "stream",
          "name": "stderr",
          "text": [
            "Fold 4 Epoch 2/30 [Train]:  51%|█████     | 51/100 [00:22<00:22,  2.21it/s, Loss=41.6943]"
          ]
        },
        {
          "output_type": "stream",
          "name": "stdout",
          "text": [
            "*** DEBUG: Batch 50 COMPLETED - Memory cleared ***\n"
          ]
        },
        {
          "output_type": "stream",
          "name": "stderr",
          "text": [
            "Fold 4 Epoch 2/30 [Train]:  61%|██████    | 61/100 [00:25<00:11,  3.35it/s, Loss=38.6194]"
          ]
        },
        {
          "output_type": "stream",
          "name": "stdout",
          "text": [
            "*** DEBUG: Batch 60 COMPLETED - Memory cleared ***\n"
          ]
        },
        {
          "output_type": "stream",
          "name": "stderr",
          "text": [
            "Fold 4 Epoch 2/30 [Train]:  71%|███████   | 71/100 [00:27<00:07,  3.64it/s, Loss=38.9421]"
          ]
        },
        {
          "output_type": "stream",
          "name": "stdout",
          "text": [
            "*** DEBUG: Batch 70 COMPLETED - Memory cleared ***\n"
          ]
        },
        {
          "output_type": "stream",
          "name": "stderr",
          "text": [
            "Fold 4 Epoch 2/30 [Train]:  81%|████████  | 81/100 [00:30<00:05,  3.59it/s, Loss=39.0708]"
          ]
        },
        {
          "output_type": "stream",
          "name": "stdout",
          "text": [
            "*** DEBUG: Batch 80 COMPLETED - Memory cleared ***\n"
          ]
        },
        {
          "output_type": "stream",
          "name": "stderr",
          "text": [
            "Fold 4 Epoch 2/30 [Train]:  91%|█████████ | 91/100 [00:33<00:02,  3.74it/s, Loss=37.4819]"
          ]
        },
        {
          "output_type": "stream",
          "name": "stdout",
          "text": [
            "*** DEBUG: Batch 90 COMPLETED - Memory cleared ***\n"
          ]
        },
        {
          "output_type": "stream",
          "name": "stderr",
          "text": [
            "Fold 4 Epoch 2/30 [Train]: 100%|██████████| 100/100 [00:35<00:00,  2.83it/s, Loss=38.2375]\n",
            "Fold 4 Epoch 2/30 [Val]: 100%|██████████| 25/25 [00:06<00:00,  3.71it/s, Loss=39.8131]\n"
          ]
        },
        {
          "output_type": "stream",
          "name": "stdout",
          "text": [
            "Fold 4 Epoch 2/30:\n",
            "  Train MAPE: 41.2225%\n",
            "  Val MAPE: 40.1353%\n",
            "  LR: 0.000100\n",
            "--------------------------------------------------\n",
            "Fold 4: New best model saved with Val MAPE = 40.1353%\n"
          ]
        },
        {
          "output_type": "stream",
          "name": "stderr",
          "text": [
            "Fold 4 Epoch 3/30 [Train]:   1%|          | 1/100 [00:01<02:54,  1.76s/it, Loss=37.6447]"
          ]
        },
        {
          "output_type": "stream",
          "name": "stdout",
          "text": [
            "*** DEBUG: Batch 0 COMPLETED - Memory cleared ***\n"
          ]
        },
        {
          "output_type": "stream",
          "name": "stderr",
          "text": [
            "Fold 4 Epoch 3/30 [Train]:  11%|█         | 11/100 [00:04<00:26,  3.35it/s, Loss=34.8656]"
          ]
        },
        {
          "output_type": "stream",
          "name": "stdout",
          "text": [
            "*** DEBUG: Batch 10 COMPLETED - Memory cleared ***\n"
          ]
        },
        {
          "output_type": "stream",
          "name": "stderr",
          "text": [
            "Fold 4 Epoch 3/30 [Train]:  21%|██        | 21/100 [00:06<00:21,  3.74it/s, Loss=37.0738]"
          ]
        },
        {
          "output_type": "stream",
          "name": "stdout",
          "text": [
            "*** DEBUG: Batch 20 COMPLETED - Memory cleared ***\n"
          ]
        },
        {
          "output_type": "stream",
          "name": "stderr",
          "text": [
            "Fold 4 Epoch 3/30 [Train]:  31%|███       | 31/100 [00:09<00:17,  3.84it/s, Loss=33.4435]"
          ]
        },
        {
          "output_type": "stream",
          "name": "stdout",
          "text": [
            "*** DEBUG: Batch 30 COMPLETED - Memory cleared ***\n"
          ]
        },
        {
          "output_type": "stream",
          "name": "stderr",
          "text": [
            "Fold 4 Epoch 3/30 [Train]:  41%|████      | 41/100 [00:19<00:47,  1.24it/s, Loss=37.3848]"
          ]
        },
        {
          "output_type": "stream",
          "name": "stdout",
          "text": [
            "*** DEBUG: Batch 40 COMPLETED - Memory cleared ***\n"
          ]
        },
        {
          "output_type": "stream",
          "name": "stderr",
          "text": [
            "Fold 4 Epoch 3/30 [Train]:  51%|█████     | 51/100 [00:22<00:17,  2.77it/s, Loss=34.4005]"
          ]
        },
        {
          "output_type": "stream",
          "name": "stdout",
          "text": [
            "*** DEBUG: Batch 50 COMPLETED - Memory cleared ***\n"
          ]
        },
        {
          "output_type": "stream",
          "name": "stderr",
          "text": [
            "Fold 4 Epoch 3/30 [Train]:  61%|██████    | 61/100 [00:25<00:11,  3.43it/s, Loss=32.6376]"
          ]
        },
        {
          "output_type": "stream",
          "name": "stdout",
          "text": [
            "*** DEBUG: Batch 60 COMPLETED - Memory cleared ***\n"
          ]
        },
        {
          "output_type": "stream",
          "name": "stderr",
          "text": [
            "Fold 4 Epoch 3/30 [Train]:  71%|███████   | 71/100 [00:27<00:07,  3.66it/s, Loss=31.7606]"
          ]
        },
        {
          "output_type": "stream",
          "name": "stdout",
          "text": [
            "*** DEBUG: Batch 70 COMPLETED - Memory cleared ***\n"
          ]
        },
        {
          "output_type": "stream",
          "name": "stderr",
          "text": [
            "Fold 4 Epoch 3/30 [Train]:  81%|████████  | 81/100 [00:30<00:05,  3.74it/s, Loss=29.1255]"
          ]
        },
        {
          "output_type": "stream",
          "name": "stdout",
          "text": [
            "*** DEBUG: Batch 80 COMPLETED - Memory cleared ***\n"
          ]
        },
        {
          "output_type": "stream",
          "name": "stderr",
          "text": [
            "Fold 4 Epoch 3/30 [Train]:  91%|█████████ | 91/100 [00:33<00:02,  3.74it/s, Loss=29.9214]"
          ]
        },
        {
          "output_type": "stream",
          "name": "stdout",
          "text": [
            "*** DEBUG: Batch 90 COMPLETED - Memory cleared ***\n"
          ]
        },
        {
          "output_type": "stream",
          "name": "stderr",
          "text": [
            "Fold 4 Epoch 3/30 [Train]: 100%|██████████| 100/100 [00:35<00:00,  2.83it/s, Loss=30.8692]\n",
            "Fold 4 Epoch 3/30 [Val]: 100%|██████████| 25/25 [00:06<00:00,  3.82it/s, Loss=32.5976]\n"
          ]
        },
        {
          "output_type": "stream",
          "name": "stdout",
          "text": [
            "Fold 4 Epoch 3/30:\n",
            "  Train MAPE: 33.6059%\n",
            "  Val MAPE: 32.3070%\n",
            "  LR: 0.000100\n",
            "--------------------------------------------------\n",
            "Fold 4: New best model saved with Val MAPE = 32.3070%\n"
          ]
        },
        {
          "output_type": "stream",
          "name": "stderr",
          "text": [
            "Fold 4 Epoch 4/30 [Train]:   1%|          | 1/100 [00:01<02:51,  1.74s/it, Loss=30.4773]"
          ]
        },
        {
          "output_type": "stream",
          "name": "stdout",
          "text": [
            "*** DEBUG: Batch 0 COMPLETED - Memory cleared ***\n"
          ]
        },
        {
          "output_type": "stream",
          "name": "stderr",
          "text": [
            "Fold 4 Epoch 4/30 [Train]:  11%|█         | 11/100 [00:04<00:27,  3.19it/s, Loss=29.8108]"
          ]
        },
        {
          "output_type": "stream",
          "name": "stdout",
          "text": [
            "*** DEBUG: Batch 10 COMPLETED - Memory cleared ***\n"
          ]
        },
        {
          "output_type": "stream",
          "name": "stderr",
          "text": [
            "Fold 4 Epoch 4/30 [Train]:  21%|██        | 21/100 [00:07<00:21,  3.74it/s, Loss=28.5061]"
          ]
        },
        {
          "output_type": "stream",
          "name": "stdout",
          "text": [
            "*** DEBUG: Batch 20 COMPLETED - Memory cleared ***\n"
          ]
        },
        {
          "output_type": "stream",
          "name": "stderr",
          "text": [
            "Fold 4 Epoch 4/30 [Train]:  31%|███       | 31/100 [00:09<00:18,  3.76it/s, Loss=27.3903]"
          ]
        },
        {
          "output_type": "stream",
          "name": "stdout",
          "text": [
            "*** DEBUG: Batch 30 COMPLETED - Memory cleared ***\n"
          ]
        },
        {
          "output_type": "stream",
          "name": "stderr",
          "text": [
            "Fold 4 Epoch 4/30 [Train]:  41%|████      | 41/100 [00:19<00:38,  1.54it/s, Loss=27.5087]"
          ]
        },
        {
          "output_type": "stream",
          "name": "stdout",
          "text": [
            "*** DEBUG: Batch 40 COMPLETED - Memory cleared ***\n"
          ]
        },
        {
          "output_type": "stream",
          "name": "stderr",
          "text": [
            "Fold 4 Epoch 4/30 [Train]:  51%|█████     | 51/100 [00:22<00:16,  2.94it/s, Loss=25.8332]"
          ]
        },
        {
          "output_type": "stream",
          "name": "stdout",
          "text": [
            "*** DEBUG: Batch 50 COMPLETED - Memory cleared ***\n"
          ]
        },
        {
          "output_type": "stream",
          "name": "stderr",
          "text": [
            "Fold 4 Epoch 4/30 [Train]:  61%|██████    | 61/100 [00:25<00:10,  3.60it/s, Loss=26.8889]"
          ]
        },
        {
          "output_type": "stream",
          "name": "stdout",
          "text": [
            "*** DEBUG: Batch 60 COMPLETED - Memory cleared ***\n"
          ]
        },
        {
          "output_type": "stream",
          "name": "stderr",
          "text": [
            "Fold 4 Epoch 4/30 [Train]:  71%|███████   | 71/100 [00:27<00:07,  3.69it/s, Loss=25.5383]"
          ]
        },
        {
          "output_type": "stream",
          "name": "stdout",
          "text": [
            "*** DEBUG: Batch 70 COMPLETED - Memory cleared ***\n"
          ]
        },
        {
          "output_type": "stream",
          "name": "stderr",
          "text": [
            "Fold 4 Epoch 4/30 [Train]:  81%|████████  | 81/100 [00:30<00:05,  3.53it/s, Loss=24.1624]"
          ]
        },
        {
          "output_type": "stream",
          "name": "stdout",
          "text": [
            "*** DEBUG: Batch 80 COMPLETED - Memory cleared ***\n"
          ]
        },
        {
          "output_type": "stream",
          "name": "stderr",
          "text": [
            "Fold 4 Epoch 4/30 [Train]:  91%|█████████ | 91/100 [00:33<00:02,  3.74it/s, Loss=24.3314]"
          ]
        },
        {
          "output_type": "stream",
          "name": "stdout",
          "text": [
            "*** DEBUG: Batch 90 COMPLETED - Memory cleared ***\n"
          ]
        },
        {
          "output_type": "stream",
          "name": "stderr",
          "text": [
            "Fold 4 Epoch 4/30 [Train]: 100%|██████████| 100/100 [00:35<00:00,  2.81it/s, Loss=23.6907]\n",
            "Fold 4 Epoch 4/30 [Val]: 100%|██████████| 25/25 [00:06<00:00,  3.75it/s, Loss=41.9964]\n"
          ]
        },
        {
          "output_type": "stream",
          "name": "stdout",
          "text": [
            "Fold 4 Epoch 4/30:\n",
            "  Train MAPE: 26.9547%\n",
            "  Val MAPE: 42.3986%\n",
            "  LR: 0.000100\n",
            "--------------------------------------------------\n"
          ]
        },
        {
          "output_type": "stream",
          "name": "stderr",
          "text": [
            "Fold 4 Epoch 5/30 [Train]:   1%|          | 1/100 [00:00<01:01,  1.61it/s, Loss=23.9976]"
          ]
        },
        {
          "output_type": "stream",
          "name": "stdout",
          "text": [
            "*** DEBUG: Batch 0 COMPLETED - Memory cleared ***\n"
          ]
        },
        {
          "output_type": "stream",
          "name": "stderr",
          "text": [
            "Fold 4 Epoch 5/30 [Train]:  11%|█         | 11/100 [00:03<00:23,  3.85it/s, Loss=23.4769]"
          ]
        },
        {
          "output_type": "stream",
          "name": "stdout",
          "text": [
            "*** DEBUG: Batch 10 COMPLETED - Memory cleared ***\n"
          ]
        },
        {
          "output_type": "stream",
          "name": "stderr",
          "text": [
            "Fold 4 Epoch 5/30 [Train]:  21%|██        | 21/100 [00:05<00:21,  3.75it/s, Loss=23.4924]"
          ]
        },
        {
          "output_type": "stream",
          "name": "stdout",
          "text": [
            "*** DEBUG: Batch 20 COMPLETED - Memory cleared ***\n"
          ]
        },
        {
          "output_type": "stream",
          "name": "stderr",
          "text": [
            "Fold 4 Epoch 5/30 [Train]:  31%|███       | 31/100 [00:08<00:18,  3.78it/s, Loss=20.5504]"
          ]
        },
        {
          "output_type": "stream",
          "name": "stdout",
          "text": [
            "*** DEBUG: Batch 30 COMPLETED - Memory cleared ***\n"
          ]
        },
        {
          "output_type": "stream",
          "name": "stderr",
          "text": [
            "Fold 4 Epoch 5/30 [Train]:  41%|████      | 41/100 [00:11<00:15,  3.76it/s, Loss=20.5452]"
          ]
        },
        {
          "output_type": "stream",
          "name": "stdout",
          "text": [
            "*** DEBUG: Batch 40 COMPLETED - Memory cleared ***\n"
          ]
        },
        {
          "output_type": "stream",
          "name": "stderr",
          "text": [
            "Fold 4 Epoch 5/30 [Train]:  51%|█████     | 51/100 [00:13<00:12,  3.82it/s, Loss=21.1771]"
          ]
        },
        {
          "output_type": "stream",
          "name": "stdout",
          "text": [
            "*** DEBUG: Batch 50 COMPLETED - Memory cleared ***\n"
          ]
        },
        {
          "output_type": "stream",
          "name": "stderr",
          "text": [
            "Fold 4 Epoch 5/30 [Train]:  61%|██████    | 61/100 [00:16<00:10,  3.71it/s, Loss=20.8266]"
          ]
        },
        {
          "output_type": "stream",
          "name": "stdout",
          "text": [
            "*** DEBUG: Batch 60 COMPLETED - Memory cleared ***\n"
          ]
        },
        {
          "output_type": "stream",
          "name": "stderr",
          "text": [
            "Fold 4 Epoch 5/30 [Train]:  71%|███████   | 71/100 [00:18<00:07,  3.92it/s, Loss=17.8935]"
          ]
        },
        {
          "output_type": "stream",
          "name": "stdout",
          "text": [
            "*** DEBUG: Batch 70 COMPLETED - Memory cleared ***\n"
          ]
        },
        {
          "output_type": "stream",
          "name": "stderr",
          "text": [
            "Fold 4 Epoch 5/30 [Train]:  81%|████████  | 81/100 [00:21<00:04,  3.90it/s, Loss=17.2604]"
          ]
        },
        {
          "output_type": "stream",
          "name": "stdout",
          "text": [
            "*** DEBUG: Batch 80 COMPLETED - Memory cleared ***\n"
          ]
        },
        {
          "output_type": "stream",
          "name": "stderr",
          "text": [
            "Fold 4 Epoch 5/30 [Train]:  91%|█████████ | 91/100 [00:24<00:02,  3.79it/s, Loss=17.2506]"
          ]
        },
        {
          "output_type": "stream",
          "name": "stdout",
          "text": [
            "*** DEBUG: Batch 90 COMPLETED - Memory cleared ***\n"
          ]
        },
        {
          "output_type": "stream",
          "name": "stderr",
          "text": [
            "Fold 4 Epoch 5/30 [Train]: 100%|██████████| 100/100 [00:26<00:00,  3.81it/s, Loss=17.0149]\n",
            "Fold 4 Epoch 5/30 [Val]: 100%|██████████| 25/25 [00:06<00:00,  3.79it/s, Loss=46.9740]\n"
          ]
        },
        {
          "output_type": "stream",
          "name": "stdout",
          "text": [
            "Fold 4 Epoch 5/30:\n",
            "  Train MAPE: 20.6811%\n",
            "  Val MAPE: 47.2068%\n",
            "  LR: 0.000100\n",
            "--------------------------------------------------\n"
          ]
        },
        {
          "output_type": "stream",
          "name": "stderr",
          "text": [
            "Fold 4 Epoch 6/30 [Train]:   1%|          | 1/100 [00:00<01:05,  1.50it/s, Loss=16.9079]"
          ]
        },
        {
          "output_type": "stream",
          "name": "stdout",
          "text": [
            "*** DEBUG: Batch 0 COMPLETED - Memory cleared ***\n"
          ]
        },
        {
          "output_type": "stream",
          "name": "stderr",
          "text": [
            "Fold 4 Epoch 6/30 [Train]:  11%|█         | 11/100 [00:03<00:24,  3.62it/s, Loss=18.3037]"
          ]
        },
        {
          "output_type": "stream",
          "name": "stdout",
          "text": [
            "*** DEBUG: Batch 10 COMPLETED - Memory cleared ***\n"
          ]
        },
        {
          "output_type": "stream",
          "name": "stderr",
          "text": [
            "Fold 4 Epoch 6/30 [Train]:  21%|██        | 21/100 [00:05<00:20,  3.88it/s, Loss=15.9619]"
          ]
        },
        {
          "output_type": "stream",
          "name": "stdout",
          "text": [
            "*** DEBUG: Batch 20 COMPLETED - Memory cleared ***\n"
          ]
        },
        {
          "output_type": "stream",
          "name": "stderr",
          "text": [
            "Fold 4 Epoch 6/30 [Train]:  31%|███       | 31/100 [00:08<00:17,  3.93it/s, Loss=18.2185]"
          ]
        },
        {
          "output_type": "stream",
          "name": "stdout",
          "text": [
            "*** DEBUG: Batch 30 COMPLETED - Memory cleared ***\n"
          ]
        },
        {
          "output_type": "stream",
          "name": "stderr",
          "text": [
            "Fold 4 Epoch 6/30 [Train]:  41%|████      | 41/100 [00:10<00:15,  3.89it/s, Loss=13.9568]"
          ]
        },
        {
          "output_type": "stream",
          "name": "stdout",
          "text": [
            "*** DEBUG: Batch 40 COMPLETED - Memory cleared ***\n"
          ]
        },
        {
          "output_type": "stream",
          "name": "stderr",
          "text": [
            "Fold 4 Epoch 6/30 [Train]:  51%|█████     | 51/100 [00:13<00:12,  3.87it/s, Loss=13.3599]"
          ]
        },
        {
          "output_type": "stream",
          "name": "stdout",
          "text": [
            "*** DEBUG: Batch 50 COMPLETED - Memory cleared ***\n"
          ]
        },
        {
          "output_type": "stream",
          "name": "stderr",
          "text": [
            "Fold 4 Epoch 6/30 [Train]:  61%|██████    | 61/100 [00:16<00:10,  3.75it/s, Loss=14.1939]"
          ]
        },
        {
          "output_type": "stream",
          "name": "stdout",
          "text": [
            "*** DEBUG: Batch 60 COMPLETED - Memory cleared ***\n"
          ]
        },
        {
          "output_type": "stream",
          "name": "stderr",
          "text": [
            "Fold 4 Epoch 6/30 [Train]:  71%|███████   | 71/100 [00:18<00:07,  3.78it/s, Loss=13.6217]"
          ]
        },
        {
          "output_type": "stream",
          "name": "stdout",
          "text": [
            "*** DEBUG: Batch 70 COMPLETED - Memory cleared ***\n"
          ]
        },
        {
          "output_type": "stream",
          "name": "stderr",
          "text": [
            "Fold 4 Epoch 6/30 [Train]:  81%|████████  | 81/100 [00:21<00:04,  3.92it/s, Loss=13.2432]"
          ]
        },
        {
          "output_type": "stream",
          "name": "stdout",
          "text": [
            "*** DEBUG: Batch 80 COMPLETED - Memory cleared ***\n"
          ]
        },
        {
          "output_type": "stream",
          "name": "stderr",
          "text": [
            "Fold 4 Epoch 6/30 [Train]:  91%|█████████ | 91/100 [00:24<00:02,  3.87it/s, Loss=12.5515]"
          ]
        },
        {
          "output_type": "stream",
          "name": "stdout",
          "text": [
            "*** DEBUG: Batch 90 COMPLETED - Memory cleared ***\n"
          ]
        },
        {
          "output_type": "stream",
          "name": "stderr",
          "text": [
            "Fold 4 Epoch 6/30 [Train]: 100%|██████████| 100/100 [00:26<00:00,  3.83it/s, Loss=14.2519]\n",
            "Fold 4 Epoch 6/30 [Val]: 100%|██████████| 25/25 [00:06<00:00,  3.63it/s, Loss=46.6767]\n"
          ]
        },
        {
          "output_type": "stream",
          "name": "stdout",
          "text": [
            "Fold 4 Epoch 6/30:\n",
            "  Train MAPE: 14.7029%\n",
            "  Val MAPE: 46.8922%\n",
            "  LR: 0.000100\n",
            "--------------------------------------------------\n"
          ]
        },
        {
          "output_type": "stream",
          "name": "stderr",
          "text": [
            "Fold 4 Epoch 7/30 [Train]:   1%|          | 1/100 [00:00<01:06,  1.50it/s, Loss=10.9028]"
          ]
        },
        {
          "output_type": "stream",
          "name": "stdout",
          "text": [
            "*** DEBUG: Batch 0 COMPLETED - Memory cleared ***\n"
          ]
        },
        {
          "output_type": "stream",
          "name": "stderr",
          "text": [
            "Fold 4 Epoch 7/30 [Train]:  11%|█         | 11/100 [00:03<00:24,  3.59it/s, Loss=10.5419]"
          ]
        },
        {
          "output_type": "stream",
          "name": "stdout",
          "text": [
            "*** DEBUG: Batch 10 COMPLETED - Memory cleared ***\n"
          ]
        },
        {
          "output_type": "stream",
          "name": "stderr",
          "text": [
            "Fold 4 Epoch 7/30 [Train]:  21%|██        | 21/100 [00:06<00:21,  3.66it/s, Loss=8.9160] "
          ]
        },
        {
          "output_type": "stream",
          "name": "stdout",
          "text": [
            "*** DEBUG: Batch 20 COMPLETED - Memory cleared ***\n"
          ]
        },
        {
          "output_type": "stream",
          "name": "stderr",
          "text": [
            "Fold 4 Epoch 7/30 [Train]:  31%|███       | 31/100 [00:08<00:18,  3.66it/s, Loss=10.5759]"
          ]
        },
        {
          "output_type": "stream",
          "name": "stdout",
          "text": [
            "*** DEBUG: Batch 30 COMPLETED - Memory cleared ***\n"
          ]
        },
        {
          "output_type": "stream",
          "name": "stderr",
          "text": [
            "Fold 4 Epoch 7/30 [Train]:  41%|████      | 41/100 [00:11<00:15,  3.92it/s, Loss=7.9881]"
          ]
        },
        {
          "output_type": "stream",
          "name": "stdout",
          "text": [
            "*** DEBUG: Batch 40 COMPLETED - Memory cleared ***\n"
          ]
        },
        {
          "output_type": "stream",
          "name": "stderr",
          "text": [
            "Fold 4 Epoch 7/30 [Train]:  51%|█████     | 51/100 [00:13<00:12,  3.80it/s, Loss=8.3305]"
          ]
        },
        {
          "output_type": "stream",
          "name": "stdout",
          "text": [
            "*** DEBUG: Batch 50 COMPLETED - Memory cleared ***\n"
          ]
        },
        {
          "output_type": "stream",
          "name": "stderr",
          "text": [
            "Fold 4 Epoch 7/30 [Train]:  61%|██████    | 61/100 [00:16<00:09,  3.97it/s, Loss=8.7570]"
          ]
        },
        {
          "output_type": "stream",
          "name": "stdout",
          "text": [
            "*** DEBUG: Batch 60 COMPLETED - Memory cleared ***\n"
          ]
        },
        {
          "output_type": "stream",
          "name": "stderr",
          "text": [
            "Fold 4 Epoch 7/30 [Train]:  71%|███████   | 71/100 [00:18<00:07,  3.89it/s, Loss=8.6559]"
          ]
        },
        {
          "output_type": "stream",
          "name": "stdout",
          "text": [
            "*** DEBUG: Batch 70 COMPLETED - Memory cleared ***\n"
          ]
        },
        {
          "output_type": "stream",
          "name": "stderr",
          "text": [
            "Fold 4 Epoch 7/30 [Train]:  81%|████████  | 81/100 [00:21<00:04,  3.89it/s, Loss=8.1102]"
          ]
        },
        {
          "output_type": "stream",
          "name": "stdout",
          "text": [
            "*** DEBUG: Batch 80 COMPLETED - Memory cleared ***\n"
          ]
        },
        {
          "output_type": "stream",
          "name": "stderr",
          "text": [
            "Fold 4 Epoch 7/30 [Train]:  91%|█████████ | 91/100 [00:24<00:02,  3.74it/s, Loss=7.5410]"
          ]
        },
        {
          "output_type": "stream",
          "name": "stdout",
          "text": [
            "*** DEBUG: Batch 90 COMPLETED - Memory cleared ***\n"
          ]
        },
        {
          "output_type": "stream",
          "name": "stderr",
          "text": [
            "Fold 4 Epoch 7/30 [Train]: 100%|██████████| 100/100 [00:26<00:00,  3.81it/s, Loss=7.2892]\n",
            "Fold 4 Epoch 7/30 [Val]: 100%|██████████| 25/25 [00:06<00:00,  3.68it/s, Loss=14.7131]\n"
          ]
        },
        {
          "output_type": "stream",
          "name": "stdout",
          "text": [
            "Fold 4 Epoch 7/30:\n",
            "  Train MAPE: 9.1607%\n",
            "  Val MAPE: 12.9028%\n",
            "  LR: 0.000100\n",
            "--------------------------------------------------\n",
            "Fold 4: New best model saved with Val MAPE = 12.9028%\n"
          ]
        },
        {
          "output_type": "stream",
          "name": "stderr",
          "text": [
            "Fold 4 Epoch 8/30 [Train]:   1%|          | 1/100 [00:01<02:52,  1.74s/it, Loss=6.1118]"
          ]
        },
        {
          "output_type": "stream",
          "name": "stdout",
          "text": [
            "*** DEBUG: Batch 0 COMPLETED - Memory cleared ***\n"
          ]
        },
        {
          "output_type": "stream",
          "name": "stderr",
          "text": [
            "Fold 4 Epoch 8/30 [Train]:  11%|█         | 11/100 [00:04<00:26,  3.32it/s, Loss=5.3698]"
          ]
        },
        {
          "output_type": "stream",
          "name": "stdout",
          "text": [
            "*** DEBUG: Batch 10 COMPLETED - Memory cleared ***\n"
          ]
        },
        {
          "output_type": "stream",
          "name": "stderr",
          "text": [
            "Fold 4 Epoch 8/30 [Train]:  21%|██        | 21/100 [00:06<00:21,  3.73it/s, Loss=5.4452]"
          ]
        },
        {
          "output_type": "stream",
          "name": "stdout",
          "text": [
            "*** DEBUG: Batch 20 COMPLETED - Memory cleared ***\n"
          ]
        },
        {
          "output_type": "stream",
          "name": "stderr",
          "text": [
            "Fold 4 Epoch 8/30 [Train]:  31%|███       | 31/100 [00:09<00:18,  3.64it/s, Loss=5.4454]"
          ]
        },
        {
          "output_type": "stream",
          "name": "stdout",
          "text": [
            "*** DEBUG: Batch 30 COMPLETED - Memory cleared ***\n"
          ]
        },
        {
          "output_type": "stream",
          "name": "stderr",
          "text": [
            "Fold 4 Epoch 8/30 [Train]:  41%|████      | 41/100 [00:19<00:37,  1.58it/s, Loss=6.3735]"
          ]
        },
        {
          "output_type": "stream",
          "name": "stdout",
          "text": [
            "*** DEBUG: Batch 40 COMPLETED - Memory cleared ***\n"
          ]
        },
        {
          "output_type": "stream",
          "name": "stderr",
          "text": [
            "Fold 4 Epoch 8/30 [Train]:  51%|█████     | 51/100 [00:22<00:16,  2.97it/s, Loss=4.8751]"
          ]
        },
        {
          "output_type": "stream",
          "name": "stdout",
          "text": [
            "*** DEBUG: Batch 50 COMPLETED - Memory cleared ***\n"
          ]
        },
        {
          "output_type": "stream",
          "name": "stderr",
          "text": [
            "Fold 4 Epoch 8/30 [Train]:  61%|██████    | 61/100 [00:24<00:10,  3.64it/s, Loss=4.9545]"
          ]
        },
        {
          "output_type": "stream",
          "name": "stdout",
          "text": [
            "*** DEBUG: Batch 60 COMPLETED - Memory cleared ***\n"
          ]
        },
        {
          "output_type": "stream",
          "name": "stderr",
          "text": [
            "Fold 4 Epoch 8/30 [Train]:  71%|███████   | 71/100 [00:27<00:07,  3.71it/s, Loss=5.1909]"
          ]
        },
        {
          "output_type": "stream",
          "name": "stdout",
          "text": [
            "*** DEBUG: Batch 70 COMPLETED - Memory cleared ***\n"
          ]
        },
        {
          "output_type": "stream",
          "name": "stderr",
          "text": [
            "Fold 4 Epoch 8/30 [Train]:  81%|████████  | 81/100 [00:30<00:05,  3.75it/s, Loss=4.9390]"
          ]
        },
        {
          "output_type": "stream",
          "name": "stdout",
          "text": [
            "*** DEBUG: Batch 80 COMPLETED - Memory cleared ***\n"
          ]
        },
        {
          "output_type": "stream",
          "name": "stderr",
          "text": [
            "Fold 4 Epoch 8/30 [Train]:  91%|█████████ | 91/100 [00:32<00:02,  3.79it/s, Loss=4.3835]"
          ]
        },
        {
          "output_type": "stream",
          "name": "stdout",
          "text": [
            "*** DEBUG: Batch 90 COMPLETED - Memory cleared ***\n"
          ]
        },
        {
          "output_type": "stream",
          "name": "stderr",
          "text": [
            "Fold 4 Epoch 8/30 [Train]: 100%|██████████| 100/100 [00:35<00:00,  2.85it/s, Loss=4.6338]\n",
            "Fold 4 Epoch 8/30 [Val]: 100%|██████████| 25/25 [00:06<00:00,  3.76it/s, Loss=35.3792]\n"
          ]
        },
        {
          "output_type": "stream",
          "name": "stdout",
          "text": [
            "Fold 4 Epoch 8/30:\n",
            "  Train MAPE: 5.6097%\n",
            "  Val MAPE: 35.8320%\n",
            "  LR: 0.000100\n",
            "--------------------------------------------------\n"
          ]
        },
        {
          "output_type": "stream",
          "name": "stderr",
          "text": [
            "Fold 4 Epoch 9/30 [Train]:   1%|          | 1/100 [00:00<01:09,  1.42it/s, Loss=5.8838]"
          ]
        },
        {
          "output_type": "stream",
          "name": "stdout",
          "text": [
            "*** DEBUG: Batch 0 COMPLETED - Memory cleared ***\n"
          ]
        },
        {
          "output_type": "stream",
          "name": "stderr",
          "text": [
            "Fold 4 Epoch 9/30 [Train]:  11%|█         | 11/100 [00:03<00:25,  3.53it/s, Loss=4.7425]"
          ]
        },
        {
          "output_type": "stream",
          "name": "stdout",
          "text": [
            "*** DEBUG: Batch 10 COMPLETED - Memory cleared ***\n"
          ]
        },
        {
          "output_type": "stream",
          "name": "stderr",
          "text": [
            "Fold 4 Epoch 9/30 [Train]:  21%|██        | 21/100 [00:05<00:20,  3.86it/s, Loss=4.9909]"
          ]
        },
        {
          "output_type": "stream",
          "name": "stdout",
          "text": [
            "*** DEBUG: Batch 20 COMPLETED - Memory cleared ***\n"
          ]
        },
        {
          "output_type": "stream",
          "name": "stderr",
          "text": [
            "Fold 4 Epoch 9/30 [Train]:  31%|███       | 31/100 [00:08<00:17,  3.94it/s, Loss=4.9212]"
          ]
        },
        {
          "output_type": "stream",
          "name": "stdout",
          "text": [
            "*** DEBUG: Batch 30 COMPLETED - Memory cleared ***\n"
          ]
        },
        {
          "output_type": "stream",
          "name": "stderr",
          "text": [
            "Fold 4 Epoch 9/30 [Train]:  41%|████      | 41/100 [00:11<00:15,  3.84it/s, Loss=4.2285]"
          ]
        },
        {
          "output_type": "stream",
          "name": "stdout",
          "text": [
            "*** DEBUG: Batch 40 COMPLETED - Memory cleared ***\n"
          ]
        },
        {
          "output_type": "stream",
          "name": "stderr",
          "text": [
            "Fold 4 Epoch 9/30 [Train]:  51%|█████     | 51/100 [00:13<00:12,  3.98it/s, Loss=4.6105]"
          ]
        },
        {
          "output_type": "stream",
          "name": "stdout",
          "text": [
            "*** DEBUG: Batch 50 COMPLETED - Memory cleared ***\n"
          ]
        },
        {
          "output_type": "stream",
          "name": "stderr",
          "text": [
            "Fold 4 Epoch 9/30 [Train]:  61%|██████    | 61/100 [00:16<00:10,  3.89it/s, Loss=4.3302]"
          ]
        },
        {
          "output_type": "stream",
          "name": "stdout",
          "text": [
            "*** DEBUG: Batch 60 COMPLETED - Memory cleared ***\n"
          ]
        },
        {
          "output_type": "stream",
          "name": "stderr",
          "text": [
            "Fold 4 Epoch 9/30 [Train]:  71%|███████   | 71/100 [00:18<00:07,  3.76it/s, Loss=4.6885]"
          ]
        },
        {
          "output_type": "stream",
          "name": "stdout",
          "text": [
            "*** DEBUG: Batch 70 COMPLETED - Memory cleared ***\n"
          ]
        },
        {
          "output_type": "stream",
          "name": "stderr",
          "text": [
            "Fold 4 Epoch 9/30 [Train]:  81%|████████  | 81/100 [00:21<00:04,  3.88it/s, Loss=4.2052]"
          ]
        },
        {
          "output_type": "stream",
          "name": "stdout",
          "text": [
            "*** DEBUG: Batch 80 COMPLETED - Memory cleared ***\n"
          ]
        },
        {
          "output_type": "stream",
          "name": "stderr",
          "text": [
            "Fold 4 Epoch 9/30 [Train]:  91%|█████████ | 91/100 [00:23<00:02,  3.85it/s, Loss=4.1157]"
          ]
        },
        {
          "output_type": "stream",
          "name": "stdout",
          "text": [
            "*** DEBUG: Batch 90 COMPLETED - Memory cleared ***\n"
          ]
        },
        {
          "output_type": "stream",
          "name": "stderr",
          "text": [
            "Fold 4 Epoch 9/30 [Train]: 100%|██████████| 100/100 [00:26<00:00,  3.84it/s, Loss=4.4618]\n",
            "Fold 4 Epoch 9/30 [Val]: 100%|██████████| 25/25 [00:06<00:00,  3.77it/s, Loss=40.0393]\n"
          ]
        },
        {
          "output_type": "stream",
          "name": "stdout",
          "text": [
            "Fold 4 Epoch 9/30:\n",
            "  Train MAPE: 4.8133%\n",
            "  Val MAPE: 40.2950%\n",
            "  LR: 0.000100\n",
            "--------------------------------------------------\n"
          ]
        },
        {
          "output_type": "stream",
          "name": "stderr",
          "text": [
            "Fold 4 Epoch 10/30 [Train]:   1%|          | 1/100 [00:00<01:05,  1.50it/s, Loss=4.3317]"
          ]
        },
        {
          "output_type": "stream",
          "name": "stdout",
          "text": [
            "*** DEBUG: Batch 0 COMPLETED - Memory cleared ***\n"
          ]
        },
        {
          "output_type": "stream",
          "name": "stderr",
          "text": [
            "Fold 4 Epoch 10/30 [Train]:  11%|█         | 11/100 [00:03<00:24,  3.67it/s, Loss=4.3286]"
          ]
        },
        {
          "output_type": "stream",
          "name": "stdout",
          "text": [
            "*** DEBUG: Batch 10 COMPLETED - Memory cleared ***\n"
          ]
        },
        {
          "output_type": "stream",
          "name": "stderr",
          "text": [
            "Fold 4 Epoch 10/30 [Train]:  21%|██        | 21/100 [00:05<00:21,  3.76it/s, Loss=4.1322]"
          ]
        },
        {
          "output_type": "stream",
          "name": "stdout",
          "text": [
            "*** DEBUG: Batch 20 COMPLETED - Memory cleared ***\n"
          ]
        },
        {
          "output_type": "stream",
          "name": "stderr",
          "text": [
            "Fold 4 Epoch 10/30 [Train]:  31%|███       | 31/100 [00:08<00:18,  3.68it/s, Loss=4.3894]"
          ]
        },
        {
          "output_type": "stream",
          "name": "stdout",
          "text": [
            "*** DEBUG: Batch 30 COMPLETED - Memory cleared ***\n"
          ]
        },
        {
          "output_type": "stream",
          "name": "stderr",
          "text": [
            "Fold 4 Epoch 10/30 [Train]:  41%|████      | 41/100 [00:11<00:15,  3.81it/s, Loss=5.4151]"
          ]
        },
        {
          "output_type": "stream",
          "name": "stdout",
          "text": [
            "*** DEBUG: Batch 40 COMPLETED - Memory cleared ***\n"
          ]
        },
        {
          "output_type": "stream",
          "name": "stderr",
          "text": [
            "Fold 4 Epoch 10/30 [Train]:  51%|█████     | 51/100 [00:13<00:12,  3.78it/s, Loss=4.9475]"
          ]
        },
        {
          "output_type": "stream",
          "name": "stdout",
          "text": [
            "*** DEBUG: Batch 50 COMPLETED - Memory cleared ***\n"
          ]
        },
        {
          "output_type": "stream",
          "name": "stderr",
          "text": [
            "Fold 4 Epoch 10/30 [Train]:  61%|██████    | 61/100 [00:16<00:10,  3.75it/s, Loss=4.0369]"
          ]
        },
        {
          "output_type": "stream",
          "name": "stdout",
          "text": [
            "*** DEBUG: Batch 60 COMPLETED - Memory cleared ***\n"
          ]
        },
        {
          "output_type": "stream",
          "name": "stderr",
          "text": [
            "Fold 4 Epoch 10/30 [Train]:  71%|███████   | 71/100 [00:19<00:07,  3.80it/s, Loss=4.8257]"
          ]
        },
        {
          "output_type": "stream",
          "name": "stdout",
          "text": [
            "*** DEBUG: Batch 70 COMPLETED - Memory cleared ***\n"
          ]
        },
        {
          "output_type": "stream",
          "name": "stderr",
          "text": [
            "Fold 4 Epoch 10/30 [Train]:  81%|████████  | 81/100 [00:21<00:05,  3.74it/s, Loss=3.9379]"
          ]
        },
        {
          "output_type": "stream",
          "name": "stdout",
          "text": [
            "*** DEBUG: Batch 80 COMPLETED - Memory cleared ***\n"
          ]
        },
        {
          "output_type": "stream",
          "name": "stderr",
          "text": [
            "Fold 4 Epoch 10/30 [Train]:  91%|█████████ | 91/100 [00:24<00:02,  3.74it/s, Loss=4.1634]"
          ]
        },
        {
          "output_type": "stream",
          "name": "stdout",
          "text": [
            "*** DEBUG: Batch 90 COMPLETED - Memory cleared ***\n"
          ]
        },
        {
          "output_type": "stream",
          "name": "stderr",
          "text": [
            "Fold 4 Epoch 10/30 [Train]: 100%|██████████| 100/100 [00:26<00:00,  3.76it/s, Loss=4.3960]\n",
            "Fold 4 Epoch 10/30 [Val]: 100%|██████████| 25/25 [00:06<00:00,  3.84it/s, Loss=21.8603]\n"
          ]
        },
        {
          "output_type": "stream",
          "name": "stdout",
          "text": [
            "Fold 4 Epoch 10/30:\n",
            "  Train MAPE: 4.5121%\n",
            "  Val MAPE: 20.2137%\n",
            "  LR: 0.000100\n",
            "--------------------------------------------------\n"
          ]
        },
        {
          "output_type": "stream",
          "name": "stderr",
          "text": [
            "Fold 4 Epoch 11/30 [Train]:   1%|          | 1/100 [00:00<01:09,  1.43it/s, Loss=3.4892]"
          ]
        },
        {
          "output_type": "stream",
          "name": "stdout",
          "text": [
            "*** DEBUG: Batch 0 COMPLETED - Memory cleared ***\n"
          ]
        },
        {
          "output_type": "stream",
          "name": "stderr",
          "text": [
            "Fold 4 Epoch 11/30 [Train]:  11%|█         | 11/100 [00:03<00:24,  3.65it/s, Loss=4.1300]"
          ]
        },
        {
          "output_type": "stream",
          "name": "stdout",
          "text": [
            "*** DEBUG: Batch 10 COMPLETED - Memory cleared ***\n"
          ]
        },
        {
          "output_type": "stream",
          "name": "stderr",
          "text": [
            "Fold 4 Epoch 11/30 [Train]:  21%|██        | 21/100 [00:05<00:20,  3.79it/s, Loss=3.9776]"
          ]
        },
        {
          "output_type": "stream",
          "name": "stdout",
          "text": [
            "*** DEBUG: Batch 20 COMPLETED - Memory cleared ***\n"
          ]
        },
        {
          "output_type": "stream",
          "name": "stderr",
          "text": [
            "Fold 4 Epoch 11/30 [Train]:  31%|███       | 31/100 [00:08<00:17,  3.84it/s, Loss=4.0009]"
          ]
        },
        {
          "output_type": "stream",
          "name": "stdout",
          "text": [
            "*** DEBUG: Batch 30 COMPLETED - Memory cleared ***\n"
          ]
        },
        {
          "output_type": "stream",
          "name": "stderr",
          "text": [
            "Fold 4 Epoch 11/30 [Train]:  41%|████      | 41/100 [00:11<00:15,  3.88it/s, Loss=3.9109]"
          ]
        },
        {
          "output_type": "stream",
          "name": "stdout",
          "text": [
            "*** DEBUG: Batch 40 COMPLETED - Memory cleared ***\n"
          ]
        },
        {
          "output_type": "stream",
          "name": "stderr",
          "text": [
            "Fold 4 Epoch 11/30 [Train]:  51%|█████     | 51/100 [00:13<00:13,  3.76it/s, Loss=4.3469]"
          ]
        },
        {
          "output_type": "stream",
          "name": "stdout",
          "text": [
            "*** DEBUG: Batch 50 COMPLETED - Memory cleared ***\n"
          ]
        },
        {
          "output_type": "stream",
          "name": "stderr",
          "text": [
            "Fold 4 Epoch 11/30 [Train]:  61%|██████    | 61/100 [00:16<00:10,  3.87it/s, Loss=3.5498]"
          ]
        },
        {
          "output_type": "stream",
          "name": "stdout",
          "text": [
            "*** DEBUG: Batch 60 COMPLETED - Memory cleared ***\n"
          ]
        },
        {
          "output_type": "stream",
          "name": "stderr",
          "text": [
            "Fold 4 Epoch 11/30 [Train]:  71%|███████   | 71/100 [00:18<00:07,  3.84it/s, Loss=4.4428]"
          ]
        },
        {
          "output_type": "stream",
          "name": "stdout",
          "text": [
            "*** DEBUG: Batch 70 COMPLETED - Memory cleared ***\n"
          ]
        },
        {
          "output_type": "stream",
          "name": "stderr",
          "text": [
            "Fold 4 Epoch 11/30 [Train]:  81%|████████  | 81/100 [00:21<00:05,  3.74it/s, Loss=3.8174]"
          ]
        },
        {
          "output_type": "stream",
          "name": "stdout",
          "text": [
            "*** DEBUG: Batch 80 COMPLETED - Memory cleared ***\n"
          ]
        },
        {
          "output_type": "stream",
          "name": "stderr",
          "text": [
            "Fold 4 Epoch 11/30 [Train]:  91%|█████████ | 91/100 [00:24<00:02,  3.77it/s, Loss=4.5300]"
          ]
        },
        {
          "output_type": "stream",
          "name": "stdout",
          "text": [
            "*** DEBUG: Batch 90 COMPLETED - Memory cleared ***\n"
          ]
        },
        {
          "output_type": "stream",
          "name": "stderr",
          "text": [
            "Fold 4 Epoch 11/30 [Train]: 100%|██████████| 100/100 [00:26<00:00,  3.78it/s, Loss=4.0261]\n",
            "Fold 4 Epoch 11/30 [Val]: 100%|██████████| 25/25 [00:06<00:00,  3.89it/s, Loss=39.2355]\n"
          ]
        },
        {
          "output_type": "stream",
          "name": "stdout",
          "text": [
            "Fold 4 Epoch 11/30:\n",
            "  Train MAPE: 4.0876%\n",
            "  Val MAPE: 39.5812%\n",
            "  LR: 0.000100\n",
            "--------------------------------------------------\n"
          ]
        },
        {
          "output_type": "stream",
          "name": "stderr",
          "text": [
            "Fold 4 Epoch 12/30 [Train]:   1%|          | 1/100 [00:00<01:03,  1.57it/s, Loss=4.8727]"
          ]
        },
        {
          "output_type": "stream",
          "name": "stdout",
          "text": [
            "*** DEBUG: Batch 0 COMPLETED - Memory cleared ***\n"
          ]
        },
        {
          "output_type": "stream",
          "name": "stderr",
          "text": [
            "Fold 4 Epoch 12/30 [Train]:  11%|█         | 11/100 [00:03<00:24,  3.66it/s, Loss=4.2513]"
          ]
        },
        {
          "output_type": "stream",
          "name": "stdout",
          "text": [
            "*** DEBUG: Batch 10 COMPLETED - Memory cleared ***\n"
          ]
        },
        {
          "output_type": "stream",
          "name": "stderr",
          "text": [
            "Fold 4 Epoch 12/30 [Train]:  21%|██        | 21/100 [00:05<00:20,  3.77it/s, Loss=4.0607]"
          ]
        },
        {
          "output_type": "stream",
          "name": "stdout",
          "text": [
            "*** DEBUG: Batch 20 COMPLETED - Memory cleared ***\n"
          ]
        },
        {
          "output_type": "stream",
          "name": "stderr",
          "text": [
            "Fold 4 Epoch 12/30 [Train]:  31%|███       | 31/100 [00:08<00:17,  3.90it/s, Loss=4.1616]"
          ]
        },
        {
          "output_type": "stream",
          "name": "stdout",
          "text": [
            "*** DEBUG: Batch 30 COMPLETED - Memory cleared ***\n"
          ]
        },
        {
          "output_type": "stream",
          "name": "stderr",
          "text": [
            "Fold 4 Epoch 12/30 [Train]:  41%|████      | 41/100 [00:10<00:14,  4.00it/s, Loss=3.9125]"
          ]
        },
        {
          "output_type": "stream",
          "name": "stdout",
          "text": [
            "*** DEBUG: Batch 40 COMPLETED - Memory cleared ***\n"
          ]
        },
        {
          "output_type": "stream",
          "name": "stderr",
          "text": [
            "Fold 4 Epoch 12/30 [Train]:  51%|█████     | 51/100 [00:13<00:12,  3.99it/s, Loss=3.6446]"
          ]
        },
        {
          "output_type": "stream",
          "name": "stdout",
          "text": [
            "*** DEBUG: Batch 50 COMPLETED - Memory cleared ***\n"
          ]
        },
        {
          "output_type": "stream",
          "name": "stderr",
          "text": [
            "Fold 4 Epoch 12/30 [Train]:  61%|██████    | 61/100 [00:16<00:10,  3.59it/s, Loss=3.7273]"
          ]
        },
        {
          "output_type": "stream",
          "name": "stdout",
          "text": [
            "*** DEBUG: Batch 60 COMPLETED - Memory cleared ***\n"
          ]
        },
        {
          "output_type": "stream",
          "name": "stderr",
          "text": [
            "Fold 4 Epoch 12/30 [Train]:  71%|███████   | 71/100 [00:18<00:07,  3.78it/s, Loss=4.0851]"
          ]
        },
        {
          "output_type": "stream",
          "name": "stdout",
          "text": [
            "*** DEBUG: Batch 70 COMPLETED - Memory cleared ***\n"
          ]
        },
        {
          "output_type": "stream",
          "name": "stderr",
          "text": [
            "Fold 4 Epoch 12/30 [Train]:  81%|████████  | 81/100 [00:21<00:05,  3.78it/s, Loss=3.4187]"
          ]
        },
        {
          "output_type": "stream",
          "name": "stdout",
          "text": [
            "*** DEBUG: Batch 80 COMPLETED - Memory cleared ***\n"
          ]
        },
        {
          "output_type": "stream",
          "name": "stderr",
          "text": [
            "Fold 4 Epoch 12/30 [Train]:  91%|█████████ | 91/100 [00:24<00:02,  3.74it/s, Loss=5.0026]"
          ]
        },
        {
          "output_type": "stream",
          "name": "stdout",
          "text": [
            "*** DEBUG: Batch 90 COMPLETED - Memory cleared ***\n"
          ]
        },
        {
          "output_type": "stream",
          "name": "stderr",
          "text": [
            "Fold 4 Epoch 12/30 [Train]: 100%|██████████| 100/100 [00:26<00:00,  3.81it/s, Loss=3.8776]\n",
            "Fold 4 Epoch 12/30 [Val]: 100%|██████████| 25/25 [00:06<00:00,  3.71it/s, Loss=24.3970]\n"
          ]
        },
        {
          "output_type": "stream",
          "name": "stdout",
          "text": [
            "Fold 4 Epoch 12/30:\n",
            "  Train MAPE: 3.9430%\n",
            "  Val MAPE: 22.7765%\n",
            "  LR: 0.000100\n",
            "--------------------------------------------------\n"
          ]
        },
        {
          "output_type": "stream",
          "name": "stderr",
          "text": [
            "Fold 4 Epoch 13/30 [Train]:   1%|          | 1/100 [00:00<01:03,  1.57it/s, Loss=4.0065]"
          ]
        },
        {
          "output_type": "stream",
          "name": "stdout",
          "text": [
            "*** DEBUG: Batch 0 COMPLETED - Memory cleared ***\n"
          ]
        },
        {
          "output_type": "stream",
          "name": "stderr",
          "text": [
            "Fold 4 Epoch 13/30 [Train]:  11%|█         | 11/100 [00:03<00:23,  3.82it/s, Loss=3.7049]"
          ]
        },
        {
          "output_type": "stream",
          "name": "stdout",
          "text": [
            "*** DEBUG: Batch 10 COMPLETED - Memory cleared ***\n"
          ]
        },
        {
          "output_type": "stream",
          "name": "stderr",
          "text": [
            "Fold 4 Epoch 13/30 [Train]:  21%|██        | 21/100 [00:05<00:20,  3.92it/s, Loss=5.2381]"
          ]
        },
        {
          "output_type": "stream",
          "name": "stdout",
          "text": [
            "*** DEBUG: Batch 20 COMPLETED - Memory cleared ***\n"
          ]
        },
        {
          "output_type": "stream",
          "name": "stderr",
          "text": [
            "Fold 4 Epoch 13/30 [Train]:  31%|███       | 31/100 [00:08<00:18,  3.72it/s, Loss=4.0238]"
          ]
        },
        {
          "output_type": "stream",
          "name": "stdout",
          "text": [
            "*** DEBUG: Batch 30 COMPLETED - Memory cleared ***\n"
          ]
        },
        {
          "output_type": "stream",
          "name": "stderr",
          "text": [
            "Fold 4 Epoch 13/30 [Train]:  41%|████      | 41/100 [00:10<00:14,  3.95it/s, Loss=3.9311]"
          ]
        },
        {
          "output_type": "stream",
          "name": "stdout",
          "text": [
            "*** DEBUG: Batch 40 COMPLETED - Memory cleared ***\n"
          ]
        },
        {
          "output_type": "stream",
          "name": "stderr",
          "text": [
            "Fold 4 Epoch 13/30 [Train]:  51%|█████     | 51/100 [00:13<00:12,  3.88it/s, Loss=3.5703]"
          ]
        },
        {
          "output_type": "stream",
          "name": "stdout",
          "text": [
            "*** DEBUG: Batch 50 COMPLETED - Memory cleared ***\n"
          ]
        },
        {
          "output_type": "stream",
          "name": "stderr",
          "text": [
            "Fold 4 Epoch 13/30 [Train]:  61%|██████    | 61/100 [00:16<00:10,  3.85it/s, Loss=3.4690]"
          ]
        },
        {
          "output_type": "stream",
          "name": "stdout",
          "text": [
            "*** DEBUG: Batch 60 COMPLETED - Memory cleared ***\n"
          ]
        },
        {
          "output_type": "stream",
          "name": "stderr",
          "text": [
            "Fold 4 Epoch 13/30 [Train]:  71%|███████   | 71/100 [00:18<00:07,  3.87it/s, Loss=3.6537]"
          ]
        },
        {
          "output_type": "stream",
          "name": "stdout",
          "text": [
            "*** DEBUG: Batch 70 COMPLETED - Memory cleared ***\n"
          ]
        },
        {
          "output_type": "stream",
          "name": "stderr",
          "text": [
            "Fold 4 Epoch 13/30 [Train]:  81%|████████  | 81/100 [00:21<00:05,  3.74it/s, Loss=3.9041]"
          ]
        },
        {
          "output_type": "stream",
          "name": "stdout",
          "text": [
            "*** DEBUG: Batch 80 COMPLETED - Memory cleared ***\n"
          ]
        },
        {
          "output_type": "stream",
          "name": "stderr",
          "text": [
            "Fold 4 Epoch 13/30 [Train]:  91%|█████████ | 91/100 [00:23<00:02,  3.90it/s, Loss=3.5596]"
          ]
        },
        {
          "output_type": "stream",
          "name": "stdout",
          "text": [
            "*** DEBUG: Batch 90 COMPLETED - Memory cleared ***\n"
          ]
        },
        {
          "output_type": "stream",
          "name": "stderr",
          "text": [
            "Fold 4 Epoch 13/30 [Train]: 100%|██████████| 100/100 [00:25<00:00,  3.86it/s, Loss=3.5221]\n",
            "Fold 4 Epoch 13/30 [Val]: 100%|██████████| 25/25 [00:06<00:00,  3.79it/s, Loss=37.1142]\n"
          ]
        },
        {
          "output_type": "stream",
          "name": "stdout",
          "text": [
            "Fold 4 Epoch 13/30:\n",
            "  Train MAPE: 3.8548%\n",
            "  Val MAPE: 37.5124%\n",
            "  LR: 0.000050\n",
            "--------------------------------------------------\n"
          ]
        },
        {
          "output_type": "stream",
          "name": "stderr",
          "text": [
            "Fold 4 Epoch 14/30 [Train]:   1%|          | 1/100 [00:00<01:09,  1.43it/s, Loss=3.5876]"
          ]
        },
        {
          "output_type": "stream",
          "name": "stdout",
          "text": [
            "*** DEBUG: Batch 0 COMPLETED - Memory cleared ***\n"
          ]
        },
        {
          "output_type": "stream",
          "name": "stderr",
          "text": [
            "Fold 4 Epoch 14/30 [Train]:  11%|█         | 11/100 [00:03<00:23,  3.81it/s, Loss=3.5344]"
          ]
        },
        {
          "output_type": "stream",
          "name": "stdout",
          "text": [
            "*** DEBUG: Batch 10 COMPLETED - Memory cleared ***\n"
          ]
        },
        {
          "output_type": "stream",
          "name": "stderr",
          "text": [
            "Fold 4 Epoch 14/30 [Train]:  21%|██        | 21/100 [00:05<00:20,  3.90it/s, Loss=3.4989]"
          ]
        },
        {
          "output_type": "stream",
          "name": "stdout",
          "text": [
            "*** DEBUG: Batch 20 COMPLETED - Memory cleared ***\n"
          ]
        },
        {
          "output_type": "stream",
          "name": "stderr",
          "text": [
            "Fold 4 Epoch 14/30 [Train]:  31%|███       | 31/100 [00:08<00:18,  3.83it/s, Loss=3.6344]"
          ]
        },
        {
          "output_type": "stream",
          "name": "stdout",
          "text": [
            "*** DEBUG: Batch 30 COMPLETED - Memory cleared ***\n"
          ]
        },
        {
          "output_type": "stream",
          "name": "stderr",
          "text": [
            "Fold 4 Epoch 14/30 [Train]:  41%|████      | 41/100 [00:10<00:15,  3.87it/s, Loss=3.5444]"
          ]
        },
        {
          "output_type": "stream",
          "name": "stdout",
          "text": [
            "*** DEBUG: Batch 40 COMPLETED - Memory cleared ***\n"
          ]
        },
        {
          "output_type": "stream",
          "name": "stderr",
          "text": [
            "Fold 4 Epoch 14/30 [Train]:  51%|█████     | 51/100 [00:13<00:13,  3.76it/s, Loss=4.0580]"
          ]
        },
        {
          "output_type": "stream",
          "name": "stdout",
          "text": [
            "*** DEBUG: Batch 50 COMPLETED - Memory cleared ***\n"
          ]
        },
        {
          "output_type": "stream",
          "name": "stderr",
          "text": [
            "Fold 4 Epoch 14/30 [Train]:  61%|██████    | 61/100 [00:16<00:10,  3.73it/s, Loss=3.9057]"
          ]
        },
        {
          "output_type": "stream",
          "name": "stdout",
          "text": [
            "*** DEBUG: Batch 60 COMPLETED - Memory cleared ***\n"
          ]
        },
        {
          "output_type": "stream",
          "name": "stderr",
          "text": [
            "Fold 4 Epoch 14/30 [Train]:  71%|███████   | 71/100 [00:18<00:07,  3.86it/s, Loss=3.3806]"
          ]
        },
        {
          "output_type": "stream",
          "name": "stdout",
          "text": [
            "*** DEBUG: Batch 70 COMPLETED - Memory cleared ***\n"
          ]
        },
        {
          "output_type": "stream",
          "name": "stderr",
          "text": [
            "Fold 4 Epoch 14/30 [Train]:  81%|████████  | 81/100 [00:21<00:04,  3.83it/s, Loss=3.6304]"
          ]
        },
        {
          "output_type": "stream",
          "name": "stdout",
          "text": [
            "*** DEBUG: Batch 80 COMPLETED - Memory cleared ***\n"
          ]
        },
        {
          "output_type": "stream",
          "name": "stderr",
          "text": [
            "Fold 4 Epoch 14/30 [Train]:  91%|█████████ | 91/100 [00:24<00:02,  3.73it/s, Loss=3.6115]"
          ]
        },
        {
          "output_type": "stream",
          "name": "stdout",
          "text": [
            "*** DEBUG: Batch 90 COMPLETED - Memory cleared ***\n"
          ]
        },
        {
          "output_type": "stream",
          "name": "stderr",
          "text": [
            "Fold 4 Epoch 14/30 [Train]: 100%|██████████| 100/100 [00:26<00:00,  3.80it/s, Loss=3.2641]\n",
            "Fold 4 Epoch 14/30 [Val]: 100%|██████████| 25/25 [00:06<00:00,  3.84it/s, Loss=20.7830]\n"
          ]
        },
        {
          "output_type": "stream",
          "name": "stdout",
          "text": [
            "Fold 4 Epoch 14/30:\n",
            "  Train MAPE: 3.5848%\n",
            "  Val MAPE: 19.1661%\n",
            "  LR: 0.000050\n",
            "--------------------------------------------------\n"
          ]
        },
        {
          "output_type": "stream",
          "name": "stderr",
          "text": [
            "Fold 4 Epoch 15/30 [Train]:   1%|          | 1/100 [00:00<01:01,  1.60it/s, Loss=3.7198]"
          ]
        },
        {
          "output_type": "stream",
          "name": "stdout",
          "text": [
            "*** DEBUG: Batch 0 COMPLETED - Memory cleared ***\n"
          ]
        },
        {
          "output_type": "stream",
          "name": "stderr",
          "text": [
            "Fold 4 Epoch 15/30 [Train]:  11%|█         | 11/100 [00:03<00:24,  3.70it/s, Loss=3.0864]"
          ]
        },
        {
          "output_type": "stream",
          "name": "stdout",
          "text": [
            "*** DEBUG: Batch 10 COMPLETED - Memory cleared ***\n"
          ]
        },
        {
          "output_type": "stream",
          "name": "stderr",
          "text": [
            "Fold 4 Epoch 15/30 [Train]:  21%|██        | 21/100 [00:05<00:21,  3.70it/s, Loss=3.6992]"
          ]
        },
        {
          "output_type": "stream",
          "name": "stdout",
          "text": [
            "*** DEBUG: Batch 20 COMPLETED - Memory cleared ***\n"
          ]
        },
        {
          "output_type": "stream",
          "name": "stderr",
          "text": [
            "Fold 4 Epoch 15/30 [Train]:  31%|███       | 31/100 [00:08<00:18,  3.79it/s, Loss=3.6660]"
          ]
        },
        {
          "output_type": "stream",
          "name": "stdout",
          "text": [
            "*** DEBUG: Batch 30 COMPLETED - Memory cleared ***\n"
          ]
        },
        {
          "output_type": "stream",
          "name": "stderr",
          "text": [
            "Fold 4 Epoch 15/30 [Train]:  41%|████      | 41/100 [00:11<00:15,  3.85it/s, Loss=3.2962]"
          ]
        },
        {
          "output_type": "stream",
          "name": "stdout",
          "text": [
            "*** DEBUG: Batch 40 COMPLETED - Memory cleared ***\n"
          ]
        },
        {
          "output_type": "stream",
          "name": "stderr",
          "text": [
            "Fold 4 Epoch 15/30 [Train]:  51%|█████     | 51/100 [00:13<00:12,  3.89it/s, Loss=3.5660]"
          ]
        },
        {
          "output_type": "stream",
          "name": "stdout",
          "text": [
            "*** DEBUG: Batch 50 COMPLETED - Memory cleared ***\n"
          ]
        },
        {
          "output_type": "stream",
          "name": "stderr",
          "text": [
            "Fold 4 Epoch 15/30 [Train]:  61%|██████    | 61/100 [00:16<00:10,  3.72it/s, Loss=3.6593]"
          ]
        },
        {
          "output_type": "stream",
          "name": "stdout",
          "text": [
            "*** DEBUG: Batch 60 COMPLETED - Memory cleared ***\n"
          ]
        },
        {
          "output_type": "stream",
          "name": "stderr",
          "text": [
            "Fold 4 Epoch 15/30 [Train]:  71%|███████   | 71/100 [00:19<00:07,  3.73it/s, Loss=3.4245]"
          ]
        },
        {
          "output_type": "stream",
          "name": "stdout",
          "text": [
            "*** DEBUG: Batch 70 COMPLETED - Memory cleared ***\n"
          ]
        },
        {
          "output_type": "stream",
          "name": "stderr",
          "text": [
            "Fold 4 Epoch 15/30 [Train]:  81%|████████  | 81/100 [00:21<00:04,  3.89it/s, Loss=3.4571]"
          ]
        },
        {
          "output_type": "stream",
          "name": "stdout",
          "text": [
            "*** DEBUG: Batch 80 COMPLETED - Memory cleared ***\n"
          ]
        },
        {
          "output_type": "stream",
          "name": "stderr",
          "text": [
            "Fold 4 Epoch 15/30 [Train]:  91%|█████████ | 91/100 [00:24<00:02,  3.91it/s, Loss=3.3530]"
          ]
        },
        {
          "output_type": "stream",
          "name": "stdout",
          "text": [
            "*** DEBUG: Batch 90 COMPLETED - Memory cleared ***\n"
          ]
        },
        {
          "output_type": "stream",
          "name": "stderr",
          "text": [
            "Fold 4 Epoch 15/30 [Train]: 100%|██████████| 100/100 [00:26<00:00,  3.81it/s, Loss=3.1101]\n",
            "Fold 4 Epoch 15/30 [Val]: 100%|██████████| 25/25 [00:06<00:00,  3.76it/s, Loss=18.2434]\n"
          ]
        },
        {
          "output_type": "stream",
          "name": "stdout",
          "text": [
            "Fold 4 Epoch 15/30:\n",
            "  Train MAPE: 3.5509%\n",
            "  Val MAPE: 16.8209%\n",
            "  LR: 0.000050\n",
            "--------------------------------------------------\n"
          ]
        },
        {
          "output_type": "stream",
          "name": "stderr",
          "text": [
            "Fold 4 Epoch 16/30 [Train]:   1%|          | 1/100 [00:00<01:06,  1.49it/s, Loss=4.2786]"
          ]
        },
        {
          "output_type": "stream",
          "name": "stdout",
          "text": [
            "*** DEBUG: Batch 0 COMPLETED - Memory cleared ***\n"
          ]
        },
        {
          "output_type": "stream",
          "name": "stderr",
          "text": [
            "Fold 4 Epoch 16/30 [Train]:  11%|█         | 11/100 [00:03<00:23,  3.72it/s, Loss=3.3183]"
          ]
        },
        {
          "output_type": "stream",
          "name": "stdout",
          "text": [
            "*** DEBUG: Batch 10 COMPLETED - Memory cleared ***\n"
          ]
        },
        {
          "output_type": "stream",
          "name": "stderr",
          "text": [
            "Fold 4 Epoch 16/30 [Train]:  21%|██        | 21/100 [00:05<00:20,  3.95it/s, Loss=3.2368]"
          ]
        },
        {
          "output_type": "stream",
          "name": "stdout",
          "text": [
            "*** DEBUG: Batch 20 COMPLETED - Memory cleared ***\n"
          ]
        },
        {
          "output_type": "stream",
          "name": "stderr",
          "text": [
            "Fold 4 Epoch 16/30 [Train]:  31%|███       | 31/100 [00:08<00:18,  3.75it/s, Loss=3.5749]"
          ]
        },
        {
          "output_type": "stream",
          "name": "stdout",
          "text": [
            "*** DEBUG: Batch 30 COMPLETED - Memory cleared ***\n"
          ]
        },
        {
          "output_type": "stream",
          "name": "stderr",
          "text": [
            "Fold 4 Epoch 16/30 [Train]:  41%|████      | 41/100 [00:11<00:15,  3.86it/s, Loss=3.6078]"
          ]
        },
        {
          "output_type": "stream",
          "name": "stdout",
          "text": [
            "*** DEBUG: Batch 40 COMPLETED - Memory cleared ***\n"
          ]
        },
        {
          "output_type": "stream",
          "name": "stderr",
          "text": [
            "Fold 4 Epoch 16/30 [Train]:  51%|█████     | 51/100 [00:13<00:12,  3.86it/s, Loss=3.8201]"
          ]
        },
        {
          "output_type": "stream",
          "name": "stdout",
          "text": [
            "*** DEBUG: Batch 50 COMPLETED - Memory cleared ***\n"
          ]
        },
        {
          "output_type": "stream",
          "name": "stderr",
          "text": [
            "Fold 4 Epoch 16/30 [Train]:  61%|██████    | 61/100 [00:16<00:10,  3.84it/s, Loss=3.5341]"
          ]
        },
        {
          "output_type": "stream",
          "name": "stdout",
          "text": [
            "*** DEBUG: Batch 60 COMPLETED - Memory cleared ***\n"
          ]
        },
        {
          "output_type": "stream",
          "name": "stderr",
          "text": [
            "Fold 4 Epoch 16/30 [Train]:  71%|███████   | 71/100 [00:18<00:07,  3.78it/s, Loss=3.4057]"
          ]
        },
        {
          "output_type": "stream",
          "name": "stdout",
          "text": [
            "*** DEBUG: Batch 70 COMPLETED - Memory cleared ***\n"
          ]
        },
        {
          "output_type": "stream",
          "name": "stderr",
          "text": [
            "Fold 4 Epoch 16/30 [Train]:  81%|████████  | 81/100 [00:21<00:05,  3.70it/s, Loss=3.3009]"
          ]
        },
        {
          "output_type": "stream",
          "name": "stdout",
          "text": [
            "*** DEBUG: Batch 80 COMPLETED - Memory cleared ***\n"
          ]
        },
        {
          "output_type": "stream",
          "name": "stderr",
          "text": [
            "Fold 4 Epoch 16/30 [Train]:  91%|█████████ | 91/100 [00:24<00:02,  3.85it/s, Loss=3.6047]"
          ]
        },
        {
          "output_type": "stream",
          "name": "stdout",
          "text": [
            "*** DEBUG: Batch 90 COMPLETED - Memory cleared ***\n"
          ]
        },
        {
          "output_type": "stream",
          "name": "stderr",
          "text": [
            "Fold 4 Epoch 16/30 [Train]: 100%|██████████| 100/100 [00:26<00:00,  3.80it/s, Loss=3.1134]\n",
            "Fold 4 Epoch 16/30 [Val]: 100%|██████████| 25/25 [00:06<00:00,  3.67it/s, Loss=23.4317]\n"
          ]
        },
        {
          "output_type": "stream",
          "name": "stdout",
          "text": [
            "Fold 4 Epoch 16/30:\n",
            "  Train MAPE: 3.5141%\n",
            "  Val MAPE: 21.7453%\n",
            "  LR: 0.000050\n",
            "--------------------------------------------------\n"
          ]
        },
        {
          "output_type": "stream",
          "name": "stderr",
          "text": [
            "Fold 4 Epoch 17/30 [Train]:   1%|          | 1/100 [00:00<01:04,  1.54it/s, Loss=4.3095]"
          ]
        },
        {
          "output_type": "stream",
          "name": "stdout",
          "text": [
            "*** DEBUG: Batch 0 COMPLETED - Memory cleared ***\n"
          ]
        },
        {
          "output_type": "stream",
          "name": "stderr",
          "text": [
            "Fold 4 Epoch 17/30 [Train]:  11%|█         | 11/100 [00:03<00:23,  3.79it/s, Loss=3.5088]"
          ]
        },
        {
          "output_type": "stream",
          "name": "stdout",
          "text": [
            "*** DEBUG: Batch 10 COMPLETED - Memory cleared ***\n"
          ]
        },
        {
          "output_type": "stream",
          "name": "stderr",
          "text": [
            "Fold 4 Epoch 17/30 [Train]:  21%|██        | 21/100 [00:05<00:20,  3.77it/s, Loss=3.3990]"
          ]
        },
        {
          "output_type": "stream",
          "name": "stdout",
          "text": [
            "*** DEBUG: Batch 20 COMPLETED - Memory cleared ***\n"
          ]
        },
        {
          "output_type": "stream",
          "name": "stderr",
          "text": [
            "Fold 4 Epoch 17/30 [Train]:  31%|███       | 31/100 [00:08<00:18,  3.79it/s, Loss=3.4432]"
          ]
        },
        {
          "output_type": "stream",
          "name": "stdout",
          "text": [
            "*** DEBUG: Batch 30 COMPLETED - Memory cleared ***\n"
          ]
        },
        {
          "output_type": "stream",
          "name": "stderr",
          "text": [
            "Fold 4 Epoch 17/30 [Train]:  41%|████      | 41/100 [00:11<00:15,  3.85it/s, Loss=3.2479]"
          ]
        },
        {
          "output_type": "stream",
          "name": "stdout",
          "text": [
            "*** DEBUG: Batch 40 COMPLETED - Memory cleared ***\n"
          ]
        },
        {
          "output_type": "stream",
          "name": "stderr",
          "text": [
            "Fold 4 Epoch 17/30 [Train]:  51%|█████     | 51/100 [00:13<00:13,  3.73it/s, Loss=3.4810]"
          ]
        },
        {
          "output_type": "stream",
          "name": "stdout",
          "text": [
            "*** DEBUG: Batch 50 COMPLETED - Memory cleared ***\n"
          ]
        },
        {
          "output_type": "stream",
          "name": "stderr",
          "text": [
            "Fold 4 Epoch 17/30 [Train]:  61%|██████    | 61/100 [00:16<00:10,  3.88it/s, Loss=3.5661]"
          ]
        },
        {
          "output_type": "stream",
          "name": "stdout",
          "text": [
            "*** DEBUG: Batch 60 COMPLETED - Memory cleared ***\n"
          ]
        },
        {
          "output_type": "stream",
          "name": "stderr",
          "text": [
            "Fold 4 Epoch 17/30 [Train]:  71%|███████   | 71/100 [00:18<00:07,  3.81it/s, Loss=3.3870]"
          ]
        },
        {
          "output_type": "stream",
          "name": "stdout",
          "text": [
            "*** DEBUG: Batch 70 COMPLETED - Memory cleared ***\n"
          ]
        },
        {
          "output_type": "stream",
          "name": "stderr",
          "text": [
            "Fold 4 Epoch 17/30 [Train]:  81%|████████  | 81/100 [00:21<00:04,  3.87it/s, Loss=3.3718]"
          ]
        },
        {
          "output_type": "stream",
          "name": "stdout",
          "text": [
            "*** DEBUG: Batch 80 COMPLETED - Memory cleared ***\n"
          ]
        },
        {
          "output_type": "stream",
          "name": "stderr",
          "text": [
            "Fold 4 Epoch 17/30 [Train]:  91%|█████████ | 91/100 [00:24<00:02,  3.71it/s, Loss=3.4521]"
          ]
        },
        {
          "output_type": "stream",
          "name": "stdout",
          "text": [
            "*** DEBUG: Batch 90 COMPLETED - Memory cleared ***\n"
          ]
        },
        {
          "output_type": "stream",
          "name": "stderr",
          "text": [
            "Fold 4 Epoch 17/30 [Train]: 100%|██████████| 100/100 [00:26<00:00,  3.81it/s, Loss=3.1225]\n",
            "Fold 4 Epoch 17/30 [Val]: 100%|██████████| 25/25 [00:06<00:00,  3.83it/s, Loss=8.0296]\n"
          ]
        },
        {
          "output_type": "stream",
          "name": "stdout",
          "text": [
            "Fold 4 Epoch 17/30:\n",
            "  Train MAPE: 3.5408%\n",
            "  Val MAPE: 7.7988%\n",
            "  LR: 0.000050\n",
            "--------------------------------------------------\n",
            "Fold 4: New best model saved with Val MAPE = 7.7988%\n"
          ]
        },
        {
          "output_type": "stream",
          "name": "stderr",
          "text": [
            "Fold 4 Epoch 18/30 [Train]:   1%|          | 1/100 [00:01<02:53,  1.75s/it, Loss=3.1518]"
          ]
        },
        {
          "output_type": "stream",
          "name": "stdout",
          "text": [
            "*** DEBUG: Batch 0 COMPLETED - Memory cleared ***\n"
          ]
        },
        {
          "output_type": "stream",
          "name": "stderr",
          "text": [
            "Fold 4 Epoch 18/30 [Train]:  11%|█         | 11/100 [00:04<00:26,  3.35it/s, Loss=3.2863]"
          ]
        },
        {
          "output_type": "stream",
          "name": "stdout",
          "text": [
            "*** DEBUG: Batch 10 COMPLETED - Memory cleared ***\n"
          ]
        },
        {
          "output_type": "stream",
          "name": "stderr",
          "text": [
            "Fold 4 Epoch 18/30 [Train]:  21%|██        | 21/100 [00:07<00:21,  3.74it/s, Loss=3.1836]"
          ]
        },
        {
          "output_type": "stream",
          "name": "stdout",
          "text": [
            "*** DEBUG: Batch 20 COMPLETED - Memory cleared ***\n"
          ]
        },
        {
          "output_type": "stream",
          "name": "stderr",
          "text": [
            "Fold 4 Epoch 18/30 [Train]:  31%|███       | 31/100 [00:09<00:17,  3.85it/s, Loss=3.6577]"
          ]
        },
        {
          "output_type": "stream",
          "name": "stdout",
          "text": [
            "*** DEBUG: Batch 30 COMPLETED - Memory cleared ***\n"
          ]
        },
        {
          "output_type": "stream",
          "name": "stderr",
          "text": [
            "Fold 4 Epoch 18/30 [Train]:  41%|████      | 41/100 [00:19<00:46,  1.26it/s, Loss=3.5155]"
          ]
        },
        {
          "output_type": "stream",
          "name": "stdout",
          "text": [
            "*** DEBUG: Batch 40 COMPLETED - Memory cleared ***\n"
          ]
        },
        {
          "output_type": "stream",
          "name": "stderr",
          "text": [
            "Fold 4 Epoch 18/30 [Train]:  51%|█████     | 51/100 [00:22<00:17,  2.75it/s, Loss=3.4395]"
          ]
        },
        {
          "output_type": "stream",
          "name": "stdout",
          "text": [
            "*** DEBUG: Batch 50 COMPLETED - Memory cleared ***\n"
          ]
        },
        {
          "output_type": "stream",
          "name": "stderr",
          "text": [
            "Fold 4 Epoch 18/30 [Train]:  61%|██████    | 61/100 [00:24<00:11,  3.52it/s, Loss=3.4972]"
          ]
        },
        {
          "output_type": "stream",
          "name": "stdout",
          "text": [
            "*** DEBUG: Batch 60 COMPLETED - Memory cleared ***\n"
          ]
        },
        {
          "output_type": "stream",
          "name": "stderr",
          "text": [
            "Fold 4 Epoch 18/30 [Train]:  71%|███████   | 71/100 [00:27<00:08,  3.56it/s, Loss=3.3934]"
          ]
        },
        {
          "output_type": "stream",
          "name": "stdout",
          "text": [
            "*** DEBUG: Batch 70 COMPLETED - Memory cleared ***\n"
          ]
        },
        {
          "output_type": "stream",
          "name": "stderr",
          "text": [
            "Fold 4 Epoch 18/30 [Train]:  81%|████████  | 81/100 [00:30<00:05,  3.65it/s, Loss=3.3502]"
          ]
        },
        {
          "output_type": "stream",
          "name": "stdout",
          "text": [
            "*** DEBUG: Batch 80 COMPLETED - Memory cleared ***\n"
          ]
        },
        {
          "output_type": "stream",
          "name": "stderr",
          "text": [
            "Fold 4 Epoch 18/30 [Train]:  91%|█████████ | 91/100 [00:33<00:02,  3.85it/s, Loss=3.2929]"
          ]
        },
        {
          "output_type": "stream",
          "name": "stdout",
          "text": [
            "*** DEBUG: Batch 90 COMPLETED - Memory cleared ***\n"
          ]
        },
        {
          "output_type": "stream",
          "name": "stderr",
          "text": [
            "Fold 4 Epoch 18/30 [Train]: 100%|██████████| 100/100 [00:35<00:00,  2.85it/s, Loss=3.5124]\n",
            "Fold 4 Epoch 18/30 [Val]: 100%|██████████| 25/25 [00:06<00:00,  3.68it/s, Loss=36.6793]\n"
          ]
        },
        {
          "output_type": "stream",
          "name": "stdout",
          "text": [
            "Fold 4 Epoch 18/30:\n",
            "  Train MAPE: 3.5249%\n",
            "  Val MAPE: 37.0810%\n",
            "  LR: 0.000050\n",
            "--------------------------------------------------\n"
          ]
        },
        {
          "output_type": "stream",
          "name": "stderr",
          "text": [
            "Fold 4 Epoch 19/30 [Train]:   1%|          | 1/100 [00:00<01:03,  1.56it/s, Loss=3.5819]"
          ]
        },
        {
          "output_type": "stream",
          "name": "stdout",
          "text": [
            "*** DEBUG: Batch 0 COMPLETED - Memory cleared ***\n"
          ]
        },
        {
          "output_type": "stream",
          "name": "stderr",
          "text": [
            "Fold 4 Epoch 19/30 [Train]:  11%|█         | 11/100 [00:03<00:24,  3.71it/s, Loss=3.4788]"
          ]
        },
        {
          "output_type": "stream",
          "name": "stdout",
          "text": [
            "*** DEBUG: Batch 10 COMPLETED - Memory cleared ***\n"
          ]
        },
        {
          "output_type": "stream",
          "name": "stderr",
          "text": [
            "Fold 4 Epoch 19/30 [Train]:  21%|██        | 21/100 [00:05<00:20,  3.84it/s, Loss=3.2275]"
          ]
        },
        {
          "output_type": "stream",
          "name": "stdout",
          "text": [
            "*** DEBUG: Batch 20 COMPLETED - Memory cleared ***\n"
          ]
        },
        {
          "output_type": "stream",
          "name": "stderr",
          "text": [
            "Fold 4 Epoch 19/30 [Train]:  31%|███       | 31/100 [00:08<00:18,  3.70it/s, Loss=3.1991]"
          ]
        },
        {
          "output_type": "stream",
          "name": "stdout",
          "text": [
            "*** DEBUG: Batch 30 COMPLETED - Memory cleared ***\n"
          ]
        },
        {
          "output_type": "stream",
          "name": "stderr",
          "text": [
            "Fold 4 Epoch 19/30 [Train]:  41%|████      | 41/100 [00:11<00:16,  3.69it/s, Loss=3.2932]"
          ]
        },
        {
          "output_type": "stream",
          "name": "stdout",
          "text": [
            "*** DEBUG: Batch 40 COMPLETED - Memory cleared ***\n"
          ]
        },
        {
          "output_type": "stream",
          "name": "stderr",
          "text": [
            "Fold 4 Epoch 19/30 [Train]:  51%|█████     | 51/100 [00:13<00:13,  3.64it/s, Loss=3.5003]"
          ]
        },
        {
          "output_type": "stream",
          "name": "stdout",
          "text": [
            "*** DEBUG: Batch 50 COMPLETED - Memory cleared ***\n"
          ]
        },
        {
          "output_type": "stream",
          "name": "stderr",
          "text": [
            "Fold 4 Epoch 19/30 [Train]:  61%|██████    | 61/100 [00:16<00:10,  3.78it/s, Loss=3.6260]"
          ]
        },
        {
          "output_type": "stream",
          "name": "stdout",
          "text": [
            "*** DEBUG: Batch 60 COMPLETED - Memory cleared ***\n"
          ]
        },
        {
          "output_type": "stream",
          "name": "stderr",
          "text": [
            "Fold 4 Epoch 19/30 [Train]:  71%|███████   | 71/100 [00:19<00:07,  3.82it/s, Loss=3.6940]"
          ]
        },
        {
          "output_type": "stream",
          "name": "stdout",
          "text": [
            "*** DEBUG: Batch 70 COMPLETED - Memory cleared ***\n"
          ]
        },
        {
          "output_type": "stream",
          "name": "stderr",
          "text": [
            "Fold 4 Epoch 19/30 [Train]:  81%|████████  | 81/100 [00:21<00:05,  3.61it/s, Loss=3.2761]"
          ]
        },
        {
          "output_type": "stream",
          "name": "stdout",
          "text": [
            "*** DEBUG: Batch 80 COMPLETED - Memory cleared ***\n"
          ]
        },
        {
          "output_type": "stream",
          "name": "stderr",
          "text": [
            "Fold 4 Epoch 19/30 [Train]:  91%|█████████ | 91/100 [00:24<00:02,  3.83it/s, Loss=3.4390]"
          ]
        },
        {
          "output_type": "stream",
          "name": "stdout",
          "text": [
            "*** DEBUG: Batch 90 COMPLETED - Memory cleared ***\n"
          ]
        },
        {
          "output_type": "stream",
          "name": "stderr",
          "text": [
            "Fold 4 Epoch 19/30 [Train]: 100%|██████████| 100/100 [00:26<00:00,  3.76it/s, Loss=3.9819]\n",
            "Fold 4 Epoch 19/30 [Val]: 100%|██████████| 25/25 [00:06<00:00,  3.69it/s, Loss=8.2600]\n"
          ]
        },
        {
          "output_type": "stream",
          "name": "stdout",
          "text": [
            "Fold 4 Epoch 19/30:\n",
            "  Train MAPE: 3.4668%\n",
            "  Val MAPE: 7.6283%\n",
            "  LR: 0.000050\n",
            "--------------------------------------------------\n",
            "Fold 4: New best model saved with Val MAPE = 7.6283%\n"
          ]
        },
        {
          "output_type": "stream",
          "name": "stderr",
          "text": [
            "Fold 4 Epoch 20/30 [Train]:   1%|          | 1/100 [00:01<02:50,  1.73s/it, Loss=3.5766]"
          ]
        },
        {
          "output_type": "stream",
          "name": "stdout",
          "text": [
            "*** DEBUG: Batch 0 COMPLETED - Memory cleared ***\n"
          ]
        },
        {
          "output_type": "stream",
          "name": "stderr",
          "text": [
            "Fold 4 Epoch 20/30 [Train]:  11%|█         | 11/100 [00:04<00:26,  3.36it/s, Loss=3.7720]"
          ]
        },
        {
          "output_type": "stream",
          "name": "stdout",
          "text": [
            "*** DEBUG: Batch 10 COMPLETED - Memory cleared ***\n"
          ]
        },
        {
          "output_type": "stream",
          "name": "stderr",
          "text": [
            "Fold 4 Epoch 20/30 [Train]:  21%|██        | 21/100 [00:06<00:21,  3.76it/s, Loss=3.5148]"
          ]
        },
        {
          "output_type": "stream",
          "name": "stdout",
          "text": [
            "*** DEBUG: Batch 20 COMPLETED - Memory cleared ***\n"
          ]
        },
        {
          "output_type": "stream",
          "name": "stderr",
          "text": [
            "Fold 4 Epoch 20/30 [Train]:  31%|███       | 31/100 [00:09<00:17,  3.86it/s, Loss=3.6687]"
          ]
        },
        {
          "output_type": "stream",
          "name": "stdout",
          "text": [
            "*** DEBUG: Batch 30 COMPLETED - Memory cleared ***\n"
          ]
        },
        {
          "output_type": "stream",
          "name": "stderr",
          "text": [
            "Fold 4 Epoch 20/30 [Train]:  41%|████      | 41/100 [00:19<00:47,  1.25it/s, Loss=2.8901]"
          ]
        },
        {
          "output_type": "stream",
          "name": "stdout",
          "text": [
            "*** DEBUG: Batch 40 COMPLETED - Memory cleared ***\n"
          ]
        },
        {
          "output_type": "stream",
          "name": "stderr",
          "text": [
            "Fold 4 Epoch 20/30 [Train]:  51%|█████     | 51/100 [00:22<00:17,  2.73it/s, Loss=3.3355]"
          ]
        },
        {
          "output_type": "stream",
          "name": "stdout",
          "text": [
            "*** DEBUG: Batch 50 COMPLETED - Memory cleared ***\n"
          ]
        },
        {
          "output_type": "stream",
          "name": "stderr",
          "text": [
            "Fold 4 Epoch 20/30 [Train]:  61%|██████    | 61/100 [00:25<00:11,  3.35it/s, Loss=3.3571]"
          ]
        },
        {
          "output_type": "stream",
          "name": "stdout",
          "text": [
            "*** DEBUG: Batch 60 COMPLETED - Memory cleared ***\n"
          ]
        },
        {
          "output_type": "stream",
          "name": "stderr",
          "text": [
            "Fold 4 Epoch 20/30 [Train]:  71%|███████   | 71/100 [00:27<00:08,  3.56it/s, Loss=3.3385]"
          ]
        },
        {
          "output_type": "stream",
          "name": "stdout",
          "text": [
            "*** DEBUG: Batch 70 COMPLETED - Memory cleared ***\n"
          ]
        },
        {
          "output_type": "stream",
          "name": "stderr",
          "text": [
            "Fold 4 Epoch 20/30 [Train]:  81%|████████  | 81/100 [00:30<00:05,  3.70it/s, Loss=3.5271]"
          ]
        },
        {
          "output_type": "stream",
          "name": "stdout",
          "text": [
            "*** DEBUG: Batch 80 COMPLETED - Memory cleared ***\n"
          ]
        },
        {
          "output_type": "stream",
          "name": "stderr",
          "text": [
            "Fold 4 Epoch 20/30 [Train]:  91%|█████████ | 91/100 [00:33<00:02,  3.83it/s, Loss=3.2261]"
          ]
        },
        {
          "output_type": "stream",
          "name": "stdout",
          "text": [
            "*** DEBUG: Batch 90 COMPLETED - Memory cleared ***\n"
          ]
        },
        {
          "output_type": "stream",
          "name": "stderr",
          "text": [
            "Fold 4 Epoch 20/30 [Train]: 100%|██████████| 100/100 [00:35<00:00,  2.83it/s, Loss=3.4787]\n",
            "Fold 4 Epoch 20/30 [Val]: 100%|██████████| 25/25 [00:06<00:00,  3.71it/s, Loss=24.1858]\n"
          ]
        },
        {
          "output_type": "stream",
          "name": "stdout",
          "text": [
            "Fold 4 Epoch 20/30:\n",
            "  Train MAPE: 3.4486%\n",
            "  Val MAPE: 23.5401%\n",
            "  LR: 0.000050\n",
            "--------------------------------------------------\n"
          ]
        },
        {
          "output_type": "stream",
          "name": "stderr",
          "text": [
            "Fold 4 Epoch 21/30 [Train]:   1%|          | 1/100 [00:00<01:04,  1.53it/s, Loss=3.5799]"
          ]
        },
        {
          "output_type": "stream",
          "name": "stdout",
          "text": [
            "*** DEBUG: Batch 0 COMPLETED - Memory cleared ***\n"
          ]
        },
        {
          "output_type": "stream",
          "name": "stderr",
          "text": [
            "Fold 4 Epoch 21/30 [Train]:  11%|█         | 11/100 [00:03<00:24,  3.69it/s, Loss=3.1139]"
          ]
        },
        {
          "output_type": "stream",
          "name": "stdout",
          "text": [
            "*** DEBUG: Batch 10 COMPLETED - Memory cleared ***\n"
          ]
        },
        {
          "output_type": "stream",
          "name": "stderr",
          "text": [
            "Fold 4 Epoch 21/30 [Train]:  21%|██        | 21/100 [00:05<00:20,  3.77it/s, Loss=3.4322]"
          ]
        },
        {
          "output_type": "stream",
          "name": "stdout",
          "text": [
            "*** DEBUG: Batch 20 COMPLETED - Memory cleared ***\n"
          ]
        },
        {
          "output_type": "stream",
          "name": "stderr",
          "text": [
            "Fold 4 Epoch 21/30 [Train]:  31%|███       | 31/100 [00:08<00:17,  3.83it/s, Loss=3.3430]"
          ]
        },
        {
          "output_type": "stream",
          "name": "stdout",
          "text": [
            "*** DEBUG: Batch 30 COMPLETED - Memory cleared ***\n"
          ]
        },
        {
          "output_type": "stream",
          "name": "stderr",
          "text": [
            "Fold 4 Epoch 21/30 [Train]:  41%|████      | 41/100 [00:11<00:15,  3.83it/s, Loss=3.3487]"
          ]
        },
        {
          "output_type": "stream",
          "name": "stdout",
          "text": [
            "*** DEBUG: Batch 40 COMPLETED - Memory cleared ***\n"
          ]
        },
        {
          "output_type": "stream",
          "name": "stderr",
          "text": [
            "Fold 4 Epoch 21/30 [Train]:  51%|█████     | 51/100 [00:13<00:13,  3.74it/s, Loss=3.3638]"
          ]
        },
        {
          "output_type": "stream",
          "name": "stdout",
          "text": [
            "*** DEBUG: Batch 50 COMPLETED - Memory cleared ***\n"
          ]
        },
        {
          "output_type": "stream",
          "name": "stderr",
          "text": [
            "Fold 4 Epoch 21/30 [Train]:  61%|██████    | 61/100 [00:16<00:10,  3.87it/s, Loss=3.3861]"
          ]
        },
        {
          "output_type": "stream",
          "name": "stdout",
          "text": [
            "*** DEBUG: Batch 60 COMPLETED - Memory cleared ***\n"
          ]
        },
        {
          "output_type": "stream",
          "name": "stderr",
          "text": [
            "Fold 4 Epoch 21/30 [Train]:  71%|███████   | 71/100 [00:19<00:07,  3.79it/s, Loss=3.1106]"
          ]
        },
        {
          "output_type": "stream",
          "name": "stdout",
          "text": [
            "*** DEBUG: Batch 70 COMPLETED - Memory cleared ***\n"
          ]
        },
        {
          "output_type": "stream",
          "name": "stderr",
          "text": [
            "Fold 4 Epoch 21/30 [Train]:  81%|████████  | 81/100 [00:21<00:04,  3.89it/s, Loss=3.1139]"
          ]
        },
        {
          "output_type": "stream",
          "name": "stdout",
          "text": [
            "*** DEBUG: Batch 80 COMPLETED - Memory cleared ***\n"
          ]
        },
        {
          "output_type": "stream",
          "name": "stderr",
          "text": [
            "Fold 4 Epoch 21/30 [Train]:  91%|█████████ | 91/100 [00:24<00:02,  3.89it/s, Loss=3.1279]"
          ]
        },
        {
          "output_type": "stream",
          "name": "stdout",
          "text": [
            "*** DEBUG: Batch 90 COMPLETED - Memory cleared ***\n"
          ]
        },
        {
          "output_type": "stream",
          "name": "stderr",
          "text": [
            "Fold 4 Epoch 21/30 [Train]: 100%|██████████| 100/100 [00:26<00:00,  3.80it/s, Loss=3.2953]\n",
            "Fold 4 Epoch 21/30 [Val]: 100%|██████████| 25/25 [00:06<00:00,  3.61it/s, Loss=14.9890]\n"
          ]
        },
        {
          "output_type": "stream",
          "name": "stdout",
          "text": [
            "Fold 4 Epoch 21/30:\n",
            "  Train MAPE: 3.4009%\n",
            "  Val MAPE: 13.8089%\n",
            "  LR: 0.000050\n",
            "--------------------------------------------------\n"
          ]
        },
        {
          "output_type": "stream",
          "name": "stderr",
          "text": [
            "Fold 4 Epoch 22/30 [Train]:   1%|          | 1/100 [00:00<01:05,  1.51it/s, Loss=3.1977]"
          ]
        },
        {
          "output_type": "stream",
          "name": "stdout",
          "text": [
            "*** DEBUG: Batch 0 COMPLETED - Memory cleared ***\n"
          ]
        },
        {
          "output_type": "stream",
          "name": "stderr",
          "text": [
            "Fold 4 Epoch 22/30 [Train]:  11%|█         | 11/100 [00:03<00:23,  3.86it/s, Loss=3.7011]"
          ]
        },
        {
          "output_type": "stream",
          "name": "stdout",
          "text": [
            "*** DEBUG: Batch 10 COMPLETED - Memory cleared ***\n"
          ]
        },
        {
          "output_type": "stream",
          "name": "stderr",
          "text": [
            "Fold 4 Epoch 22/30 [Train]:  21%|██        | 21/100 [00:05<00:20,  3.84it/s, Loss=3.2234]"
          ]
        },
        {
          "output_type": "stream",
          "name": "stdout",
          "text": [
            "*** DEBUG: Batch 20 COMPLETED - Memory cleared ***\n"
          ]
        },
        {
          "output_type": "stream",
          "name": "stderr",
          "text": [
            "Fold 4 Epoch 22/30 [Train]:  31%|███       | 31/100 [00:08<00:17,  3.88it/s, Loss=3.6364]"
          ]
        },
        {
          "output_type": "stream",
          "name": "stdout",
          "text": [
            "*** DEBUG: Batch 30 COMPLETED - Memory cleared ***\n"
          ]
        },
        {
          "output_type": "stream",
          "name": "stderr",
          "text": [
            "Fold 4 Epoch 22/30 [Train]:  41%|████      | 41/100 [00:10<00:15,  3.75it/s, Loss=3.3705]"
          ]
        },
        {
          "output_type": "stream",
          "name": "stdout",
          "text": [
            "*** DEBUG: Batch 40 COMPLETED - Memory cleared ***\n"
          ]
        },
        {
          "output_type": "stream",
          "name": "stderr",
          "text": [
            "Fold 4 Epoch 22/30 [Train]:  51%|█████     | 51/100 [00:13<00:12,  3.83it/s, Loss=3.1078]"
          ]
        },
        {
          "output_type": "stream",
          "name": "stdout",
          "text": [
            "*** DEBUG: Batch 50 COMPLETED - Memory cleared ***\n"
          ]
        },
        {
          "output_type": "stream",
          "name": "stderr",
          "text": [
            "Fold 4 Epoch 22/30 [Train]:  61%|██████    | 61/100 [00:16<00:09,  3.97it/s, Loss=3.4819]"
          ]
        },
        {
          "output_type": "stream",
          "name": "stdout",
          "text": [
            "*** DEBUG: Batch 60 COMPLETED - Memory cleared ***\n"
          ]
        },
        {
          "output_type": "stream",
          "name": "stderr",
          "text": [
            "Fold 4 Epoch 22/30 [Train]:  71%|███████   | 71/100 [00:18<00:07,  3.89it/s, Loss=3.4434]"
          ]
        },
        {
          "output_type": "stream",
          "name": "stdout",
          "text": [
            "*** DEBUG: Batch 70 COMPLETED - Memory cleared ***\n"
          ]
        },
        {
          "output_type": "stream",
          "name": "stderr",
          "text": [
            "Fold 4 Epoch 22/30 [Train]:  81%|████████  | 81/100 [00:21<00:04,  3.80it/s, Loss=3.2247]"
          ]
        },
        {
          "output_type": "stream",
          "name": "stdout",
          "text": [
            "*** DEBUG: Batch 80 COMPLETED - Memory cleared ***\n"
          ]
        },
        {
          "output_type": "stream",
          "name": "stderr",
          "text": [
            "Fold 4 Epoch 22/30 [Train]:  91%|█████████ | 91/100 [00:23<00:02,  3.74it/s, Loss=3.1516]"
          ]
        },
        {
          "output_type": "stream",
          "name": "stdout",
          "text": [
            "*** DEBUG: Batch 90 COMPLETED - Memory cleared ***\n"
          ]
        },
        {
          "output_type": "stream",
          "name": "stderr",
          "text": [
            "Fold 4 Epoch 22/30 [Train]: 100%|██████████| 100/100 [00:25<00:00,  3.86it/s, Loss=3.1810]\n",
            "Fold 4 Epoch 22/30 [Val]: 100%|██████████| 25/25 [00:06<00:00,  3.77it/s, Loss=19.7003]\n"
          ]
        },
        {
          "output_type": "stream",
          "name": "stdout",
          "text": [
            "Fold 4 Epoch 22/30:\n",
            "  Train MAPE: 3.3422%\n",
            "  Val MAPE: 18.2118%\n",
            "  LR: 0.000050\n",
            "--------------------------------------------------\n"
          ]
        },
        {
          "output_type": "stream",
          "name": "stderr",
          "text": [
            "Fold 4 Epoch 23/30 [Train]:   1%|          | 1/100 [00:00<01:10,  1.41it/s, Loss=3.4759]"
          ]
        },
        {
          "output_type": "stream",
          "name": "stdout",
          "text": [
            "*** DEBUG: Batch 0 COMPLETED - Memory cleared ***\n"
          ]
        },
        {
          "output_type": "stream",
          "name": "stderr",
          "text": [
            "Fold 4 Epoch 23/30 [Train]:  11%|█         | 11/100 [00:03<00:23,  3.72it/s, Loss=3.5185]"
          ]
        },
        {
          "output_type": "stream",
          "name": "stdout",
          "text": [
            "*** DEBUG: Batch 10 COMPLETED - Memory cleared ***\n"
          ]
        },
        {
          "output_type": "stream",
          "name": "stderr",
          "text": [
            "Fold 4 Epoch 23/30 [Train]:  21%|██        | 21/100 [00:05<00:20,  3.91it/s, Loss=3.2084]"
          ]
        },
        {
          "output_type": "stream",
          "name": "stdout",
          "text": [
            "*** DEBUG: Batch 20 COMPLETED - Memory cleared ***\n"
          ]
        },
        {
          "output_type": "stream",
          "name": "stderr",
          "text": [
            "Fold 4 Epoch 23/30 [Train]:  31%|███       | 31/100 [00:08<00:18,  3.78it/s, Loss=3.4069]"
          ]
        },
        {
          "output_type": "stream",
          "name": "stdout",
          "text": [
            "*** DEBUG: Batch 30 COMPLETED - Memory cleared ***\n"
          ]
        },
        {
          "output_type": "stream",
          "name": "stderr",
          "text": [
            "Fold 4 Epoch 23/30 [Train]:  41%|████      | 41/100 [00:11<00:14,  3.95it/s, Loss=3.4485]"
          ]
        },
        {
          "output_type": "stream",
          "name": "stdout",
          "text": [
            "*** DEBUG: Batch 40 COMPLETED - Memory cleared ***\n"
          ]
        },
        {
          "output_type": "stream",
          "name": "stderr",
          "text": [
            "Fold 4 Epoch 23/30 [Train]:  51%|█████     | 51/100 [00:13<00:12,  3.80it/s, Loss=3.1419]"
          ]
        },
        {
          "output_type": "stream",
          "name": "stdout",
          "text": [
            "*** DEBUG: Batch 50 COMPLETED - Memory cleared ***\n"
          ]
        },
        {
          "output_type": "stream",
          "name": "stderr",
          "text": [
            "Fold 4 Epoch 23/30 [Train]:  61%|██████    | 61/100 [00:16<00:10,  3.72it/s, Loss=3.2410]"
          ]
        },
        {
          "output_type": "stream",
          "name": "stdout",
          "text": [
            "*** DEBUG: Batch 60 COMPLETED - Memory cleared ***\n"
          ]
        },
        {
          "output_type": "stream",
          "name": "stderr",
          "text": [
            "Fold 4 Epoch 23/30 [Train]:  71%|███████   | 71/100 [00:18<00:07,  3.93it/s, Loss=3.4304]"
          ]
        },
        {
          "output_type": "stream",
          "name": "stdout",
          "text": [
            "*** DEBUG: Batch 70 COMPLETED - Memory cleared ***\n"
          ]
        },
        {
          "output_type": "stream",
          "name": "stderr",
          "text": [
            "Fold 4 Epoch 23/30 [Train]:  81%|████████  | 81/100 [00:21<00:04,  3.83it/s, Loss=3.4658]"
          ]
        },
        {
          "output_type": "stream",
          "name": "stdout",
          "text": [
            "*** DEBUG: Batch 80 COMPLETED - Memory cleared ***\n"
          ]
        },
        {
          "output_type": "stream",
          "name": "stderr",
          "text": [
            "Fold 4 Epoch 23/30 [Train]:  91%|█████████ | 91/100 [00:24<00:02,  3.90it/s, Loss=3.5574]"
          ]
        },
        {
          "output_type": "stream",
          "name": "stdout",
          "text": [
            "*** DEBUG: Batch 90 COMPLETED - Memory cleared ***\n"
          ]
        },
        {
          "output_type": "stream",
          "name": "stderr",
          "text": [
            "Fold 4 Epoch 23/30 [Train]: 100%|██████████| 100/100 [00:26<00:00,  3.79it/s, Loss=3.3103]\n",
            "Fold 4 Epoch 23/30 [Val]: 100%|██████████| 25/25 [00:06<00:00,  3.70it/s, Loss=4.3946]\n"
          ]
        },
        {
          "output_type": "stream",
          "name": "stdout",
          "text": [
            "Fold 4 Epoch 23/30:\n",
            "  Train MAPE: 3.2963%\n",
            "  Val MAPE: 3.8842%\n",
            "  LR: 0.000050\n",
            "--------------------------------------------------\n",
            "Fold 4: New best model saved with Val MAPE = 3.8842%\n"
          ]
        },
        {
          "output_type": "stream",
          "name": "stderr",
          "text": [
            "Fold 4 Epoch 24/30 [Train]:   1%|          | 1/100 [00:01<02:58,  1.80s/it, Loss=3.1834]"
          ]
        },
        {
          "output_type": "stream",
          "name": "stdout",
          "text": [
            "*** DEBUG: Batch 0 COMPLETED - Memory cleared ***\n"
          ]
        },
        {
          "output_type": "stream",
          "name": "stderr",
          "text": [
            "Fold 4 Epoch 24/30 [Train]:  11%|█         | 11/100 [00:04<00:28,  3.16it/s, Loss=3.2154]"
          ]
        },
        {
          "output_type": "stream",
          "name": "stdout",
          "text": [
            "*** DEBUG: Batch 10 COMPLETED - Memory cleared ***\n"
          ]
        },
        {
          "output_type": "stream",
          "name": "stderr",
          "text": [
            "Fold 4 Epoch 24/30 [Train]:  21%|██        | 21/100 [00:07<00:21,  3.73it/s, Loss=3.6740]"
          ]
        },
        {
          "output_type": "stream",
          "name": "stdout",
          "text": [
            "*** DEBUG: Batch 20 COMPLETED - Memory cleared ***\n"
          ]
        },
        {
          "output_type": "stream",
          "name": "stderr",
          "text": [
            "Fold 4 Epoch 24/30 [Train]:  31%|███       | 31/100 [00:17<00:44,  1.54it/s, Loss=3.3666]"
          ]
        },
        {
          "output_type": "stream",
          "name": "stdout",
          "text": [
            "*** DEBUG: Batch 30 COMPLETED - Memory cleared ***\n"
          ]
        },
        {
          "output_type": "stream",
          "name": "stderr",
          "text": [
            "Fold 4 Epoch 24/30 [Train]:  41%|████      | 41/100 [00:19<00:19,  3.02it/s, Loss=3.1128]"
          ]
        },
        {
          "output_type": "stream",
          "name": "stdout",
          "text": [
            "*** DEBUG: Batch 40 COMPLETED - Memory cleared ***\n"
          ]
        },
        {
          "output_type": "stream",
          "name": "stderr",
          "text": [
            "Fold 4 Epoch 24/30 [Train]:  51%|█████     | 51/100 [00:22<00:13,  3.65it/s, Loss=3.2345]"
          ]
        },
        {
          "output_type": "stream",
          "name": "stdout",
          "text": [
            "*** DEBUG: Batch 50 COMPLETED - Memory cleared ***\n"
          ]
        },
        {
          "output_type": "stream",
          "name": "stderr",
          "text": [
            "Fold 4 Epoch 24/30 [Train]:  61%|██████    | 61/100 [00:25<00:10,  3.71it/s, Loss=2.9134]"
          ]
        },
        {
          "output_type": "stream",
          "name": "stdout",
          "text": [
            "*** DEBUG: Batch 60 COMPLETED - Memory cleared ***\n"
          ]
        },
        {
          "output_type": "stream",
          "name": "stderr",
          "text": [
            "Fold 4 Epoch 24/30 [Train]:  71%|███████   | 71/100 [00:27<00:08,  3.55it/s, Loss=3.0003]"
          ]
        },
        {
          "output_type": "stream",
          "name": "stdout",
          "text": [
            "*** DEBUG: Batch 70 COMPLETED - Memory cleared ***\n"
          ]
        },
        {
          "output_type": "stream",
          "name": "stderr",
          "text": [
            "Fold 4 Epoch 24/30 [Train]:  81%|████████  | 81/100 [00:30<00:05,  3.60it/s, Loss=3.2930]"
          ]
        },
        {
          "output_type": "stream",
          "name": "stdout",
          "text": [
            "*** DEBUG: Batch 80 COMPLETED - Memory cleared ***\n"
          ]
        },
        {
          "output_type": "stream",
          "name": "stderr",
          "text": [
            "Fold 4 Epoch 24/30 [Train]:  91%|█████████ | 91/100 [00:33<00:02,  3.77it/s, Loss=3.2702]"
          ]
        },
        {
          "output_type": "stream",
          "name": "stdout",
          "text": [
            "*** DEBUG: Batch 90 COMPLETED - Memory cleared ***\n"
          ]
        },
        {
          "output_type": "stream",
          "name": "stderr",
          "text": [
            "Fold 4 Epoch 24/30 [Train]: 100%|██████████| 100/100 [00:35<00:00,  2.82it/s, Loss=3.5227]\n",
            "Fold 4 Epoch 24/30 [Val]: 100%|██████████| 25/25 [00:06<00:00,  3.71it/s, Loss=22.2146]\n"
          ]
        },
        {
          "output_type": "stream",
          "name": "stdout",
          "text": [
            "Fold 4 Epoch 24/30:\n",
            "  Train MAPE: 3.2977%\n",
            "  Val MAPE: 20.4827%\n",
            "  LR: 0.000050\n",
            "--------------------------------------------------\n"
          ]
        },
        {
          "output_type": "stream",
          "name": "stderr",
          "text": [
            "Fold 4 Epoch 25/30 [Train]:   1%|          | 1/100 [00:00<01:04,  1.54it/s, Loss=3.3181]"
          ]
        },
        {
          "output_type": "stream",
          "name": "stdout",
          "text": [
            "*** DEBUG: Batch 0 COMPLETED - Memory cleared ***\n"
          ]
        },
        {
          "output_type": "stream",
          "name": "stderr",
          "text": [
            "Fold 4 Epoch 25/30 [Train]:  11%|█         | 11/100 [00:03<00:24,  3.70it/s, Loss=2.9115]"
          ]
        },
        {
          "output_type": "stream",
          "name": "stdout",
          "text": [
            "*** DEBUG: Batch 10 COMPLETED - Memory cleared ***\n"
          ]
        },
        {
          "output_type": "stream",
          "name": "stderr",
          "text": [
            "Fold 4 Epoch 25/30 [Train]:  21%|██        | 21/100 [00:05<00:20,  3.82it/s, Loss=3.3174]"
          ]
        },
        {
          "output_type": "stream",
          "name": "stdout",
          "text": [
            "*** DEBUG: Batch 20 COMPLETED - Memory cleared ***\n"
          ]
        },
        {
          "output_type": "stream",
          "name": "stderr",
          "text": [
            "Fold 4 Epoch 25/30 [Train]:  31%|███       | 31/100 [00:08<00:17,  3.86it/s, Loss=2.9503]"
          ]
        },
        {
          "output_type": "stream",
          "name": "stdout",
          "text": [
            "*** DEBUG: Batch 30 COMPLETED - Memory cleared ***\n"
          ]
        },
        {
          "output_type": "stream",
          "name": "stderr",
          "text": [
            "Fold 4 Epoch 25/30 [Train]:  41%|████      | 41/100 [00:11<00:15,  3.75it/s, Loss=3.3472]"
          ]
        },
        {
          "output_type": "stream",
          "name": "stdout",
          "text": [
            "*** DEBUG: Batch 40 COMPLETED - Memory cleared ***\n"
          ]
        },
        {
          "output_type": "stream",
          "name": "stderr",
          "text": [
            "Fold 4 Epoch 25/30 [Train]:  51%|█████     | 51/100 [00:13<00:12,  3.87it/s, Loss=3.2340]"
          ]
        },
        {
          "output_type": "stream",
          "name": "stdout",
          "text": [
            "*** DEBUG: Batch 50 COMPLETED - Memory cleared ***\n"
          ]
        },
        {
          "output_type": "stream",
          "name": "stderr",
          "text": [
            "Fold 4 Epoch 25/30 [Train]:  61%|██████    | 61/100 [00:16<00:09,  3.92it/s, Loss=2.9251]"
          ]
        },
        {
          "output_type": "stream",
          "name": "stdout",
          "text": [
            "*** DEBUG: Batch 60 COMPLETED - Memory cleared ***\n"
          ]
        },
        {
          "output_type": "stream",
          "name": "stderr",
          "text": [
            "Fold 4 Epoch 25/30 [Train]:  71%|███████   | 71/100 [00:18<00:07,  3.80it/s, Loss=3.4267]"
          ]
        },
        {
          "output_type": "stream",
          "name": "stdout",
          "text": [
            "*** DEBUG: Batch 70 COMPLETED - Memory cleared ***\n"
          ]
        },
        {
          "output_type": "stream",
          "name": "stderr",
          "text": [
            "Fold 4 Epoch 25/30 [Train]:  81%|████████  | 81/100 [00:21<00:04,  3.82it/s, Loss=3.6868]"
          ]
        },
        {
          "output_type": "stream",
          "name": "stdout",
          "text": [
            "*** DEBUG: Batch 80 COMPLETED - Memory cleared ***\n"
          ]
        },
        {
          "output_type": "stream",
          "name": "stderr",
          "text": [
            "Fold 4 Epoch 25/30 [Train]:  91%|█████████ | 91/100 [00:24<00:02,  3.76it/s, Loss=3.3985]"
          ]
        },
        {
          "output_type": "stream",
          "name": "stdout",
          "text": [
            "*** DEBUG: Batch 90 COMPLETED - Memory cleared ***\n"
          ]
        },
        {
          "output_type": "stream",
          "name": "stderr",
          "text": [
            "Fold 4 Epoch 25/30 [Train]: 100%|██████████| 100/100 [00:26<00:00,  3.79it/s, Loss=3.1355]\n",
            "Fold 4 Epoch 25/30 [Val]: 100%|██████████| 25/25 [00:06<00:00,  3.75it/s, Loss=21.9906]\n"
          ]
        },
        {
          "output_type": "stream",
          "name": "stdout",
          "text": [
            "Fold 4 Epoch 25/30:\n",
            "  Train MAPE: 3.2604%\n",
            "  Val MAPE: 20.1053%\n",
            "  LR: 0.000050\n",
            "--------------------------------------------------\n"
          ]
        },
        {
          "output_type": "stream",
          "name": "stderr",
          "text": [
            "Fold 4 Epoch 26/30 [Train]:   1%|          | 1/100 [00:00<01:03,  1.56it/s, Loss=2.8926]"
          ]
        },
        {
          "output_type": "stream",
          "name": "stdout",
          "text": [
            "*** DEBUG: Batch 0 COMPLETED - Memory cleared ***\n"
          ]
        },
        {
          "output_type": "stream",
          "name": "stderr",
          "text": [
            "Fold 4 Epoch 26/30 [Train]:  11%|█         | 11/100 [00:03<00:25,  3.55it/s, Loss=2.9402]"
          ]
        },
        {
          "output_type": "stream",
          "name": "stdout",
          "text": [
            "*** DEBUG: Batch 10 COMPLETED - Memory cleared ***\n"
          ]
        },
        {
          "output_type": "stream",
          "name": "stderr",
          "text": [
            "Fold 4 Epoch 26/30 [Train]:  21%|██        | 21/100 [00:05<00:20,  3.84it/s, Loss=3.2613]"
          ]
        },
        {
          "output_type": "stream",
          "name": "stdout",
          "text": [
            "*** DEBUG: Batch 20 COMPLETED - Memory cleared ***\n"
          ]
        },
        {
          "output_type": "stream",
          "name": "stderr",
          "text": [
            "Fold 4 Epoch 26/30 [Train]:  31%|███       | 31/100 [00:08<00:18,  3.77it/s, Loss=3.3249]"
          ]
        },
        {
          "output_type": "stream",
          "name": "stdout",
          "text": [
            "*** DEBUG: Batch 30 COMPLETED - Memory cleared ***\n"
          ]
        },
        {
          "output_type": "stream",
          "name": "stderr",
          "text": [
            "Fold 4 Epoch 26/30 [Train]:  41%|████      | 41/100 [00:11<00:15,  3.91it/s, Loss=3.3072]"
          ]
        },
        {
          "output_type": "stream",
          "name": "stdout",
          "text": [
            "*** DEBUG: Batch 40 COMPLETED - Memory cleared ***\n"
          ]
        },
        {
          "output_type": "stream",
          "name": "stderr",
          "text": [
            "Fold 4 Epoch 26/30 [Train]:  51%|█████     | 51/100 [00:13<00:13,  3.77it/s, Loss=3.2025]"
          ]
        },
        {
          "output_type": "stream",
          "name": "stdout",
          "text": [
            "*** DEBUG: Batch 50 COMPLETED - Memory cleared ***\n"
          ]
        },
        {
          "output_type": "stream",
          "name": "stderr",
          "text": [
            "Fold 4 Epoch 26/30 [Train]:  61%|██████    | 61/100 [00:16<00:10,  3.80it/s, Loss=3.2354]"
          ]
        },
        {
          "output_type": "stream",
          "name": "stdout",
          "text": [
            "*** DEBUG: Batch 60 COMPLETED - Memory cleared ***\n"
          ]
        },
        {
          "output_type": "stream",
          "name": "stderr",
          "text": [
            "Fold 4 Epoch 26/30 [Train]:  71%|███████   | 71/100 [00:19<00:07,  3.93it/s, Loss=3.2865]"
          ]
        },
        {
          "output_type": "stream",
          "name": "stdout",
          "text": [
            "*** DEBUG: Batch 70 COMPLETED - Memory cleared ***\n"
          ]
        },
        {
          "output_type": "stream",
          "name": "stderr",
          "text": [
            "Fold 4 Epoch 26/30 [Train]:  81%|████████  | 81/100 [00:21<00:04,  3.92it/s, Loss=3.1352]"
          ]
        },
        {
          "output_type": "stream",
          "name": "stdout",
          "text": [
            "*** DEBUG: Batch 80 COMPLETED - Memory cleared ***\n"
          ]
        },
        {
          "output_type": "stream",
          "name": "stderr",
          "text": [
            "Fold 4 Epoch 26/30 [Train]:  91%|█████████ | 91/100 [00:24<00:02,  3.83it/s, Loss=2.9872]"
          ]
        },
        {
          "output_type": "stream",
          "name": "stdout",
          "text": [
            "*** DEBUG: Batch 90 COMPLETED - Memory cleared ***\n"
          ]
        },
        {
          "output_type": "stream",
          "name": "stderr",
          "text": [
            "Fold 4 Epoch 26/30 [Train]: 100%|██████████| 100/100 [00:26<00:00,  3.79it/s, Loss=3.0699]\n",
            "Fold 4 Epoch 26/30 [Val]: 100%|██████████| 25/25 [00:06<00:00,  3.67it/s, Loss=17.4771]\n"
          ]
        },
        {
          "output_type": "stream",
          "name": "stdout",
          "text": [
            "Fold 4 Epoch 26/30:\n",
            "  Train MAPE: 3.2059%\n",
            "  Val MAPE: 15.2955%\n",
            "  LR: 0.000050\n",
            "--------------------------------------------------\n"
          ]
        },
        {
          "output_type": "stream",
          "name": "stderr",
          "text": [
            "Fold 4 Epoch 27/30 [Train]:   1%|          | 1/100 [00:00<01:07,  1.47it/s, Loss=3.0350]"
          ]
        },
        {
          "output_type": "stream",
          "name": "stdout",
          "text": [
            "*** DEBUG: Batch 0 COMPLETED - Memory cleared ***\n"
          ]
        },
        {
          "output_type": "stream",
          "name": "stderr",
          "text": [
            "Fold 4 Epoch 27/30 [Train]:  11%|█         | 11/100 [00:03<00:24,  3.68it/s, Loss=3.1084]"
          ]
        },
        {
          "output_type": "stream",
          "name": "stdout",
          "text": [
            "*** DEBUG: Batch 10 COMPLETED - Memory cleared ***\n"
          ]
        },
        {
          "output_type": "stream",
          "name": "stderr",
          "text": [
            "Fold 4 Epoch 27/30 [Train]:  21%|██        | 21/100 [00:06<00:21,  3.66it/s, Loss=3.3281]"
          ]
        },
        {
          "output_type": "stream",
          "name": "stdout",
          "text": [
            "*** DEBUG: Batch 20 COMPLETED - Memory cleared ***\n"
          ]
        },
        {
          "output_type": "stream",
          "name": "stderr",
          "text": [
            "Fold 4 Epoch 27/30 [Train]:  31%|███       | 31/100 [00:08<00:18,  3.75it/s, Loss=2.7216]"
          ]
        },
        {
          "output_type": "stream",
          "name": "stdout",
          "text": [
            "*** DEBUG: Batch 30 COMPLETED - Memory cleared ***\n"
          ]
        },
        {
          "output_type": "stream",
          "name": "stderr",
          "text": [
            "Fold 4 Epoch 27/30 [Train]:  41%|████      | 41/100 [00:11<00:15,  3.75it/s, Loss=2.7646]"
          ]
        },
        {
          "output_type": "stream",
          "name": "stdout",
          "text": [
            "*** DEBUG: Batch 40 COMPLETED - Memory cleared ***\n"
          ]
        },
        {
          "output_type": "stream",
          "name": "stderr",
          "text": [
            "Fold 4 Epoch 27/30 [Train]:  51%|█████     | 51/100 [00:13<00:12,  3.87it/s, Loss=3.4408]"
          ]
        },
        {
          "output_type": "stream",
          "name": "stdout",
          "text": [
            "*** DEBUG: Batch 50 COMPLETED - Memory cleared ***\n"
          ]
        },
        {
          "output_type": "stream",
          "name": "stderr",
          "text": [
            "Fold 4 Epoch 27/30 [Train]:  61%|██████    | 61/100 [00:16<00:10,  3.85it/s, Loss=3.3646]"
          ]
        },
        {
          "output_type": "stream",
          "name": "stdout",
          "text": [
            "*** DEBUG: Batch 60 COMPLETED - Memory cleared ***\n"
          ]
        },
        {
          "output_type": "stream",
          "name": "stderr",
          "text": [
            "Fold 4 Epoch 27/30 [Train]:  71%|███████   | 71/100 [00:19<00:07,  3.73it/s, Loss=3.2558]"
          ]
        },
        {
          "output_type": "stream",
          "name": "stdout",
          "text": [
            "*** DEBUG: Batch 70 COMPLETED - Memory cleared ***\n"
          ]
        },
        {
          "output_type": "stream",
          "name": "stderr",
          "text": [
            "Fold 4 Epoch 27/30 [Train]:  81%|████████  | 81/100 [00:21<00:05,  3.74it/s, Loss=3.2118]"
          ]
        },
        {
          "output_type": "stream",
          "name": "stdout",
          "text": [
            "*** DEBUG: Batch 80 COMPLETED - Memory cleared ***\n"
          ]
        },
        {
          "output_type": "stream",
          "name": "stderr",
          "text": [
            "Fold 4 Epoch 27/30 [Train]:  91%|█████████ | 91/100 [00:24<00:02,  3.74it/s, Loss=3.1232]"
          ]
        },
        {
          "output_type": "stream",
          "name": "stdout",
          "text": [
            "*** DEBUG: Batch 90 COMPLETED - Memory cleared ***\n"
          ]
        },
        {
          "output_type": "stream",
          "name": "stderr",
          "text": [
            "Fold 4 Epoch 27/30 [Train]: 100%|██████████| 100/100 [00:26<00:00,  3.75it/s, Loss=3.3511]\n",
            "Fold 4 Epoch 27/30 [Val]: 100%|██████████| 25/25 [00:06<00:00,  3.80it/s, Loss=24.4442]\n"
          ]
        },
        {
          "output_type": "stream",
          "name": "stdout",
          "text": [
            "Fold 4 Epoch 27/30:\n",
            "  Train MAPE: 3.2399%\n",
            "  Val MAPE: 23.1085%\n",
            "  LR: 0.000050\n",
            "--------------------------------------------------\n"
          ]
        },
        {
          "output_type": "stream",
          "name": "stderr",
          "text": [
            "Fold 4 Epoch 28/30 [Train]:   1%|          | 1/100 [00:00<01:06,  1.50it/s, Loss=3.5276]"
          ]
        },
        {
          "output_type": "stream",
          "name": "stdout",
          "text": [
            "*** DEBUG: Batch 0 COMPLETED - Memory cleared ***\n"
          ]
        },
        {
          "output_type": "stream",
          "name": "stderr",
          "text": [
            "Fold 4 Epoch 28/30 [Train]:  11%|█         | 11/100 [00:03<00:25,  3.55it/s, Loss=3.2326]"
          ]
        },
        {
          "output_type": "stream",
          "name": "stdout",
          "text": [
            "*** DEBUG: Batch 10 COMPLETED - Memory cleared ***\n"
          ]
        },
        {
          "output_type": "stream",
          "name": "stderr",
          "text": [
            "Fold 4 Epoch 28/30 [Train]:  21%|██        | 21/100 [00:05<00:20,  3.81it/s, Loss=3.1656]"
          ]
        },
        {
          "output_type": "stream",
          "name": "stdout",
          "text": [
            "*** DEBUG: Batch 20 COMPLETED - Memory cleared ***\n"
          ]
        },
        {
          "output_type": "stream",
          "name": "stderr",
          "text": [
            "Fold 4 Epoch 28/30 [Train]:  31%|███       | 31/100 [00:08<00:18,  3.81it/s, Loss=3.3353]"
          ]
        },
        {
          "output_type": "stream",
          "name": "stdout",
          "text": [
            "*** DEBUG: Batch 30 COMPLETED - Memory cleared ***\n"
          ]
        },
        {
          "output_type": "stream",
          "name": "stderr",
          "text": [
            "Fold 4 Epoch 28/30 [Train]:  41%|████      | 41/100 [00:11<00:15,  3.81it/s, Loss=3.1929]"
          ]
        },
        {
          "output_type": "stream",
          "name": "stdout",
          "text": [
            "*** DEBUG: Batch 40 COMPLETED - Memory cleared ***\n"
          ]
        },
        {
          "output_type": "stream",
          "name": "stderr",
          "text": [
            "Fold 4 Epoch 28/30 [Train]:  51%|█████     | 51/100 [00:13<00:12,  3.79it/s, Loss=3.6836]"
          ]
        },
        {
          "output_type": "stream",
          "name": "stdout",
          "text": [
            "*** DEBUG: Batch 50 COMPLETED - Memory cleared ***\n"
          ]
        },
        {
          "output_type": "stream",
          "name": "stderr",
          "text": [
            "Fold 4 Epoch 28/30 [Train]:  61%|██████    | 61/100 [00:16<00:10,  3.78it/s, Loss=3.2063]"
          ]
        },
        {
          "output_type": "stream",
          "name": "stdout",
          "text": [
            "*** DEBUG: Batch 60 COMPLETED - Memory cleared ***\n"
          ]
        },
        {
          "output_type": "stream",
          "name": "stderr",
          "text": [
            "Fold 4 Epoch 28/30 [Train]:  71%|███████   | 71/100 [00:19<00:07,  3.80it/s, Loss=3.1293]"
          ]
        },
        {
          "output_type": "stream",
          "name": "stdout",
          "text": [
            "*** DEBUG: Batch 70 COMPLETED - Memory cleared ***\n"
          ]
        },
        {
          "output_type": "stream",
          "name": "stderr",
          "text": [
            "Fold 4 Epoch 28/30 [Train]:  81%|████████  | 81/100 [00:21<00:05,  3.73it/s, Loss=3.6114]"
          ]
        },
        {
          "output_type": "stream",
          "name": "stdout",
          "text": [
            "*** DEBUG: Batch 80 COMPLETED - Memory cleared ***\n"
          ]
        },
        {
          "output_type": "stream",
          "name": "stderr",
          "text": [
            "Fold 4 Epoch 28/30 [Train]:  91%|█████████ | 91/100 [00:24<00:02,  3.87it/s, Loss=3.1056]"
          ]
        },
        {
          "output_type": "stream",
          "name": "stdout",
          "text": [
            "*** DEBUG: Batch 90 COMPLETED - Memory cleared ***\n"
          ]
        },
        {
          "output_type": "stream",
          "name": "stderr",
          "text": [
            "Fold 4 Epoch 28/30 [Train]: 100%|██████████| 100/100 [00:26<00:00,  3.79it/s, Loss=2.8420]\n",
            "Fold 4 Epoch 28/30 [Val]: 100%|██████████| 25/25 [00:06<00:00,  3.70it/s, Loss=21.0985]\n"
          ]
        },
        {
          "output_type": "stream",
          "name": "stdout",
          "text": [
            "Fold 4 Epoch 28/30:\n",
            "  Train MAPE: 3.1936%\n",
            "  Val MAPE: 19.5539%\n",
            "  LR: 0.000050\n",
            "--------------------------------------------------\n"
          ]
        },
        {
          "output_type": "stream",
          "name": "stderr",
          "text": [
            "Fold 4 Epoch 29/30 [Train]:   1%|          | 1/100 [00:00<01:07,  1.47it/s, Loss=3.2132]"
          ]
        },
        {
          "output_type": "stream",
          "name": "stdout",
          "text": [
            "*** DEBUG: Batch 0 COMPLETED - Memory cleared ***\n"
          ]
        },
        {
          "output_type": "stream",
          "name": "stderr",
          "text": [
            "Fold 4 Epoch 29/30 [Train]:  11%|█         | 11/100 [00:03<00:23,  3.79it/s, Loss=3.0730]"
          ]
        },
        {
          "output_type": "stream",
          "name": "stdout",
          "text": [
            "*** DEBUG: Batch 10 COMPLETED - Memory cleared ***\n"
          ]
        },
        {
          "output_type": "stream",
          "name": "stderr",
          "text": [
            "Fold 4 Epoch 29/30 [Train]:  22%|██▏       | 22/100 [00:05<00:18,  4.33it/s, Loss=2.9870]"
          ]
        },
        {
          "output_type": "stream",
          "name": "stdout",
          "text": [
            "*** DEBUG: Batch 20 COMPLETED - Memory cleared ***\n"
          ]
        },
        {
          "output_type": "stream",
          "name": "stderr",
          "text": [
            "Fold 4 Epoch 29/30 [Train]:  32%|███▏      | 32/100 [00:08<00:15,  4.48it/s, Loss=3.1498]"
          ]
        },
        {
          "output_type": "stream",
          "name": "stdout",
          "text": [
            "*** DEBUG: Batch 30 COMPLETED - Memory cleared ***\n"
          ]
        },
        {
          "output_type": "stream",
          "name": "stderr",
          "text": [
            "Fold 4 Epoch 29/30 [Train]:  41%|████      | 41/100 [00:10<00:14,  3.94it/s, Loss=3.1199]"
          ]
        },
        {
          "output_type": "stream",
          "name": "stdout",
          "text": [
            "*** DEBUG: Batch 40 COMPLETED - Memory cleared ***\n"
          ]
        },
        {
          "output_type": "stream",
          "name": "stderr",
          "text": [
            "Fold 4 Epoch 29/30 [Train]:  51%|█████     | 51/100 [00:13<00:12,  3.81it/s, Loss=2.9766]"
          ]
        },
        {
          "output_type": "stream",
          "name": "stdout",
          "text": [
            "*** DEBUG: Batch 50 COMPLETED - Memory cleared ***\n"
          ]
        },
        {
          "output_type": "stream",
          "name": "stderr",
          "text": [
            "Fold 4 Epoch 29/30 [Train]:  61%|██████    | 61/100 [00:16<00:10,  3.73it/s, Loss=3.1694]"
          ]
        },
        {
          "output_type": "stream",
          "name": "stdout",
          "text": [
            "*** DEBUG: Batch 60 COMPLETED - Memory cleared ***\n"
          ]
        },
        {
          "output_type": "stream",
          "name": "stderr",
          "text": [
            "Fold 4 Epoch 29/30 [Train]:  71%|███████   | 71/100 [00:18<00:07,  3.85it/s, Loss=3.4957]"
          ]
        },
        {
          "output_type": "stream",
          "name": "stdout",
          "text": [
            "*** DEBUG: Batch 70 COMPLETED - Memory cleared ***\n"
          ]
        },
        {
          "output_type": "stream",
          "name": "stderr",
          "text": [
            "Fold 4 Epoch 29/30 [Train]:  81%|████████  | 81/100 [00:21<00:04,  3.95it/s, Loss=3.1131]"
          ]
        },
        {
          "output_type": "stream",
          "name": "stdout",
          "text": [
            "*** DEBUG: Batch 80 COMPLETED - Memory cleared ***\n"
          ]
        },
        {
          "output_type": "stream",
          "name": "stderr",
          "text": [
            "Fold 4 Epoch 29/30 [Train]:  91%|█████████ | 91/100 [00:23<00:02,  3.96it/s, Loss=3.3016]"
          ]
        },
        {
          "output_type": "stream",
          "name": "stdout",
          "text": [
            "*** DEBUG: Batch 90 COMPLETED - Memory cleared ***\n"
          ]
        },
        {
          "output_type": "stream",
          "name": "stderr",
          "text": [
            "Fold 4 Epoch 29/30 [Train]: 100%|██████████| 100/100 [00:25<00:00,  3.85it/s, Loss=3.3033]\n",
            "Fold 4 Epoch 29/30 [Val]: 100%|██████████| 25/25 [00:06<00:00,  3.70it/s, Loss=19.2769]\n"
          ]
        },
        {
          "output_type": "stream",
          "name": "stdout",
          "text": [
            "Fold 4 Epoch 29/30:\n",
            "  Train MAPE: 3.1741%\n",
            "  Val MAPE: 18.9531%\n",
            "  LR: 0.000025\n",
            "--------------------------------------------------\n"
          ]
        },
        {
          "output_type": "stream",
          "name": "stderr",
          "text": [
            "Fold 4 Epoch 30/30 [Train]:   1%|          | 1/100 [00:00<01:04,  1.55it/s, Loss=3.0518]"
          ]
        },
        {
          "output_type": "stream",
          "name": "stdout",
          "text": [
            "*** DEBUG: Batch 0 COMPLETED - Memory cleared ***\n"
          ]
        },
        {
          "output_type": "stream",
          "name": "stderr",
          "text": [
            "Fold 4 Epoch 30/30 [Train]:  11%|█         | 11/100 [00:03<00:23,  3.74it/s, Loss=2.8892]"
          ]
        },
        {
          "output_type": "stream",
          "name": "stdout",
          "text": [
            "*** DEBUG: Batch 10 COMPLETED - Memory cleared ***\n"
          ]
        },
        {
          "output_type": "stream",
          "name": "stderr",
          "text": [
            "Fold 4 Epoch 30/30 [Train]:  21%|██        | 21/100 [00:05<00:21,  3.61it/s, Loss=3.4771]"
          ]
        },
        {
          "output_type": "stream",
          "name": "stdout",
          "text": [
            "*** DEBUG: Batch 20 COMPLETED - Memory cleared ***\n"
          ]
        },
        {
          "output_type": "stream",
          "name": "stderr",
          "text": [
            "Fold 4 Epoch 30/30 [Train]:  31%|███       | 31/100 [00:08<00:18,  3.79it/s, Loss=2.9479]"
          ]
        },
        {
          "output_type": "stream",
          "name": "stdout",
          "text": [
            "*** DEBUG: Batch 30 COMPLETED - Memory cleared ***\n"
          ]
        },
        {
          "output_type": "stream",
          "name": "stderr",
          "text": [
            "Fold 4 Epoch 30/30 [Train]:  41%|████      | 41/100 [00:11<00:15,  3.80it/s, Loss=2.8947]"
          ]
        },
        {
          "output_type": "stream",
          "name": "stdout",
          "text": [
            "*** DEBUG: Batch 40 COMPLETED - Memory cleared ***\n"
          ]
        },
        {
          "output_type": "stream",
          "name": "stderr",
          "text": [
            "Fold 4 Epoch 30/30 [Train]:  51%|█████     | 51/100 [00:13<00:12,  3.90it/s, Loss=3.0083]"
          ]
        },
        {
          "output_type": "stream",
          "name": "stdout",
          "text": [
            "*** DEBUG: Batch 50 COMPLETED - Memory cleared ***\n"
          ]
        },
        {
          "output_type": "stream",
          "name": "stderr",
          "text": [
            "Fold 4 Epoch 30/30 [Train]:  61%|██████    | 61/100 [00:16<00:10,  3.76it/s, Loss=3.0842]"
          ]
        },
        {
          "output_type": "stream",
          "name": "stdout",
          "text": [
            "*** DEBUG: Batch 60 COMPLETED - Memory cleared ***\n"
          ]
        },
        {
          "output_type": "stream",
          "name": "stderr",
          "text": [
            "Fold 4 Epoch 30/30 [Train]:  71%|███████   | 71/100 [00:19<00:07,  3.74it/s, Loss=3.3354]"
          ]
        },
        {
          "output_type": "stream",
          "name": "stdout",
          "text": [
            "*** DEBUG: Batch 70 COMPLETED - Memory cleared ***\n"
          ]
        },
        {
          "output_type": "stream",
          "name": "stderr",
          "text": [
            "Fold 4 Epoch 30/30 [Train]:  81%|████████  | 81/100 [00:21<00:04,  3.81it/s, Loss=2.9028]"
          ]
        },
        {
          "output_type": "stream",
          "name": "stdout",
          "text": [
            "*** DEBUG: Batch 80 COMPLETED - Memory cleared ***\n"
          ]
        },
        {
          "output_type": "stream",
          "name": "stderr",
          "text": [
            "Fold 4 Epoch 30/30 [Train]:  91%|█████████ | 91/100 [00:24<00:02,  3.70it/s, Loss=3.1500]"
          ]
        },
        {
          "output_type": "stream",
          "name": "stdout",
          "text": [
            "*** DEBUG: Batch 90 COMPLETED - Memory cleared ***\n"
          ]
        },
        {
          "output_type": "stream",
          "name": "stderr",
          "text": [
            "Fold 4 Epoch 30/30 [Train]: 100%|██████████| 100/100 [00:26<00:00,  3.78it/s, Loss=3.3513]\n",
            "Fold 4 Epoch 30/30 [Val]: 100%|██████████| 25/25 [00:06<00:00,  3.66it/s, Loss=10.0861]\n"
          ]
        },
        {
          "output_type": "stream",
          "name": "stdout",
          "text": [
            "Fold 4 Epoch 30/30:\n",
            "  Train MAPE: 3.0885%\n",
            "  Val MAPE: 9.1095%\n",
            "  LR: 0.000025\n",
            "--------------------------------------------------\n",
            "Fold 4 completed with Val MAPE: 3.8842%\n",
            "\n",
            "=== Cross-Validation Results ===\n",
            "Mean Val MAPE: 4.2482% ± 1.3076%\n",
            "Best Fold: 3 with Val MAPE: 3.3345%\n",
            "Individual Fold Scores: ['6.8394%', '3.5438%', '3.6392%', '3.3345%', '3.8842%']\n",
            "\n",
            "Creating ensemble from top 3 folds:\n",
            "  1. Fold 3: 3.3345%\n",
            "  2. Fold 1: 3.5438%\n",
            "  3. Fold 2: 3.6392%\n",
            "\n",
            "============================================================\n",
            "Step 2: Comparing Different Ensemble Strategies\n",
            "============================================================\n",
            "\n",
            "🏆 Ensemble 1: Top 3 Folds (Weighted)\n",
            "\n",
            "Creating ensemble from top 3 folds:\n",
            "  1. Fold 3: 3.3345%\n",
            "  2. Fold 1: 3.5438%\n",
            "  3. Fold 2: 3.6392%\n",
            "\n",
            "📊 Ensemble 2: All 5 Folds (Simple Average)\n",
            "\n",
            "Creating ensemble from ALL 5 folds:\n",
            "  1. Fold 0: 6.8394%\n",
            "  2. Fold 1: 3.5438%\n",
            "  3. Fold 2: 3.6392%\n",
            "  4. Fold 3: 3.3345%\n",
            "  5. Fold 4: 3.8842%\n",
            "\n",
            "⚖️ Ensemble 3: All 5 Folds (Weighted Average)\n",
            "\n",
            "Creating WEIGHTED ensemble from ALL 5 folds:\n",
            "  Fold 0: 6.8394%\n",
            "  Fold 1: 3.5438%\n",
            "  Fold 2: 3.6392%\n",
            "  Fold 3: 3.3345%\n",
            "  Fold 4: 3.8842%\n",
            "\n",
            "============================================================\n",
            "Step 3: Generating Test Submissions\n",
            "============================================================\n",
            "\n",
            "🔄 Generating Top 3 Ensemble submission...\n",
            "Generating test predictions for TestData_1 to TestData_150...\n"
          ]
        },
        {
          "output_type": "stream",
          "name": "stderr",
          "text": [
            "Processing test samples: 100%|██████████| 150/150 [00:05<00:00, 25.91it/s]\n"
          ]
        },
        {
          "output_type": "stream",
          "name": "stdout",
          "text": [
            "Submission file saved: /content/drive/MyDrive/ThinkOnward/Result/Phase2a/submission_top3_weighted.npz\n",
            "Generated predictions for 150 test samples\n",
            "\n",
            "=== Submission Verification ===\n",
            "Total samples: 150\n",
            "  TestData_1: shape=(300, 1259), dtype=float64\n",
            "  TestData_10: shape=(300, 1259), dtype=float64\n",
            "  TestData_100: shape=(300, 1259), dtype=float64\n",
            "  TestData_101: shape=(300, 1259), dtype=float64\n",
            "  TestData_102: shape=(300, 1259), dtype=float64\n",
            "✓ Submission format verified!\n",
            "\n",
            "🔄 Generating All 5 Simple Average submission...\n",
            "Generating test predictions for TestData_1 to TestData_150...\n"
          ]
        },
        {
          "output_type": "stream",
          "name": "stderr",
          "text": [
            "Processing test samples: 100%|██████████| 150/150 [00:09<00:00, 16.18it/s]\n"
          ]
        },
        {
          "output_type": "stream",
          "name": "stdout",
          "text": [
            "Submission file saved: /content/drive/MyDrive/ThinkOnward/Result/Phase2a/submission_all5_simple.npz\n",
            "Generated predictions for 150 test samples\n",
            "\n",
            "=== Submission Verification ===\n",
            "Total samples: 150\n",
            "  TestData_1: shape=(300, 1259), dtype=float64\n",
            "  TestData_10: shape=(300, 1259), dtype=float64\n",
            "  TestData_100: shape=(300, 1259), dtype=float64\n",
            "  TestData_101: shape=(300, 1259), dtype=float64\n",
            "  TestData_102: shape=(300, 1259), dtype=float64\n",
            "✓ Submission format verified!\n",
            "\n",
            "🔄 Generating All 5 Weighted Average submission...\n",
            "Generating test predictions for TestData_1 to TestData_150...\n"
          ]
        },
        {
          "output_type": "stream",
          "name": "stderr",
          "text": [
            "Processing test samples: 100%|██████████| 150/150 [00:08<00:00, 17.64it/s]\n"
          ]
        },
        {
          "output_type": "stream",
          "name": "stdout",
          "text": [
            "Submission file saved: /content/drive/MyDrive/ThinkOnward/Result/Phase2a/submission_all5_weighted.npz\n",
            "Generated predictions for 150 test samples\n",
            "\n",
            "=== Submission Verification ===\n",
            "Total samples: 150\n",
            "  TestData_1: shape=(300, 1259), dtype=float64\n",
            "  TestData_10: shape=(300, 1259), dtype=float64\n",
            "  TestData_100: shape=(300, 1259), dtype=float64\n",
            "  TestData_101: shape=(300, 1259), dtype=float64\n",
            "  TestData_102: shape=(300, 1259), dtype=float64\n",
            "✓ Submission format verified!\n",
            "\n",
            "🏅 Generating Best Single Model submission...\n",
            "Generating test predictions for TestData_1 to TestData_150...\n"
          ]
        },
        {
          "output_type": "stream",
          "name": "stderr",
          "text": [
            "Processing test samples: 100%|██████████| 150/150 [00:03<00:00, 42.30it/s]\n"
          ]
        },
        {
          "output_type": "stream",
          "name": "stdout",
          "text": [
            "Submission file saved: /content/drive/MyDrive/ThinkOnward/Result/Phase2a/submission_single_best.npz\n",
            "Generated predictions for 150 test samples\n",
            "\n",
            "=== Submission Verification ===\n",
            "Total samples: 150\n",
            "  TestData_1: shape=(300, 1259), dtype=float64\n",
            "  TestData_10: shape=(300, 1259), dtype=float64\n",
            "  TestData_100: shape=(300, 1259), dtype=float64\n",
            "  TestData_101: shape=(300, 1259), dtype=float64\n",
            "  TestData_102: shape=(300, 1259), dtype=float64\n",
            "✓ Submission format verified!\n",
            "\n",
            "============================================================\n",
            "🎯 ENSEMBLE COMPARISON SUMMARY\n",
            "============================================================\n",
            "📁 Results saved to: /content/drive/MyDrive/ThinkOnward/Result/Phase2a\n",
            "\n",
            "📊 Cross-Validation Results:\n",
            "\n",
            "=== Cross-Validation Results ===\n",
            "Mean Val MAPE: 4.2482% ± 1.3076%\n",
            "Best Fold: 3 with Val MAPE: 3.3345%\n",
            "Individual Fold Scores: ['6.8394%', '3.5438%', '3.6392%', '3.3345%', '3.8842%']\n",
            "\n",
            "📋 Generated Submissions:\n",
            "   1. Top 3 Weighted:      /content/drive/MyDrive/ThinkOnward/Result/Phase2a/submission_top3_weighted.npz\n",
            "   2. All 5 Simple Avg:    /content/drive/MyDrive/ThinkOnward/Result/Phase2a/submission_all5_simple.npz\n",
            "   3. All 5 Weighted Avg:  /content/drive/MyDrive/ThinkOnward/Result/Phase2a/submission_all5_weighted.npz\n",
            "   4. Best Single Model:   /content/drive/MyDrive/ThinkOnward/Result/Phase2a/submission_single_best.npz\n",
            "\n",
            "🧪 TEST ON LEADERBOARD:\n",
            "   • Upload all 4 submissions to see which ensemble strategy works best\n",
            "   • Expected ranking: Single > Top3 > All5_Weighted > All5_Simple\n",
            "   • If All5 beats Top3, then model diversity > individual quality\n"
          ]
        }
      ]
    }
  ]
}